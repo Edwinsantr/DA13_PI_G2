{
 "cells": [
  {
   "cell_type": "markdown",
   "metadata": {},
   "source": [
    "Primero, nos conectamos a la BD y cargamos el DS:"
   ]
  },
  {
   "cell_type": "code",
   "execution_count": 1,
   "id": "471bbce3",
   "metadata": {},
   "outputs": [
    {
     "name": "stdout",
     "output_type": "stream",
     "text": [
      "Requirement already satisfied: mysql-connector-python in c:\\users\\franco\\appdata\\local\\programs\\python\\python313\\lib\\site-packages (9.3.0)\n",
      "Note: you may need to restart the kernel to use updated packages.\n"
     ]
    },
    {
     "name": "stderr",
     "output_type": "stream",
     "text": [
      "\n",
      "[notice] A new release of pip is available: 25.0.1 -> 25.1.1\n",
      "[notice] To update, run: python.exe -m pip install --upgrade pip\n"
     ]
    }
   ],
   "source": [
    "pip install mysql-connector-python"
   ]
  },
  {
   "cell_type": "code",
   "execution_count": 2,
   "id": "29cb2b84",
   "metadata": {},
   "outputs": [
    {
     "name": "stdout",
     "output_type": "stream",
     "text": [
      "Requirement already satisfied: SQLAlchemy in c:\\users\\franco\\appdata\\local\\programs\\python\\python313\\lib\\site-packages (2.0.41)\n",
      "Requirement already satisfied: greenlet>=1 in c:\\users\\franco\\appdata\\local\\programs\\python\\python313\\lib\\site-packages (from SQLAlchemy) (3.2.2)\n",
      "Requirement already satisfied: typing-extensions>=4.6.0 in c:\\users\\franco\\appdata\\local\\programs\\python\\python313\\lib\\site-packages (from SQLAlchemy) (4.13.2)\n",
      "Note: you may need to restart the kernel to use updated packages.\n"
     ]
    },
    {
     "name": "stderr",
     "output_type": "stream",
     "text": [
      "\n",
      "[notice] A new release of pip is available: 25.0.1 -> 25.1.1\n",
      "[notice] To update, run: python.exe -m pip install --upgrade pip\n"
     ]
    }
   ],
   "source": [
    "pip install SQLAlchemy"
   ]
  },
  {
   "cell_type": "code",
   "execution_count": 3,
   "id": "dcdb6427",
   "metadata": {},
   "outputs": [],
   "source": [
    "from sqlalchemy import create_engine\n",
    "import os"
   ]
  },
  {
   "cell_type": "code",
   "execution_count": 2,
   "id": "b13d3c41",
   "metadata": {},
   "outputs": [],
   "source": [
    "usuario = \"franco\"\n",
    "contraseña = \"Proyectofinal2025!%\"\n",
    "host = \"34.135.248.251\"\n",
    "puerto = \"3306\"\n",
    "base_de_datos = \"pf-g2-daft13\""
   ]
  },
  {
   "cell_type": "code",
   "execution_count": 4,
   "id": "e9e08b99",
   "metadata": {},
   "outputs": [],
   "source": [
    "# Crear conexión SQLAlchemy\n",
    "engine = create_engine(f\"mysql+mysqlconnector://{usuario}:{contraseña}@{host}:{puerto}/{base_de_datos}\")"
   ]
  },
  {
   "cell_type": "markdown",
   "id": "3d0e8bcf",
   "metadata": {},
   "source": [
    "Importo las librerias necesarias"
   ]
  },
  {
   "cell_type": "code",
   "execution_count": 5,
   "id": "cf5b63d0",
   "metadata": {},
   "outputs": [],
   "source": [
    "import pandas as pd\n",
    "import numpy as np\n",
    "import matplotlib.pyplot as plt"
   ]
  },
  {
   "cell_type": "markdown",
   "id": "9171afc3",
   "metadata": {},
   "source": [
    "## Aca Inicia la limpieza de PurchasePricesDec2017"
   ]
  },
  {
   "cell_type": "markdown",
   "id": "af2adced",
   "metadata": {},
   "source": [
    "Cargo la primer tabla:"
   ]
  },
  {
   "cell_type": "code",
   "execution_count": 7,
   "id": "07a4be2a",
   "metadata": {},
   "outputs": [],
   "source": [
    "df1 = pd.read_sql_table(\"PurchasePricesDec2017\", con=engine)"
   ]
  },
  {
   "cell_type": "code",
   "execution_count": 8,
   "id": "5eb88f23",
   "metadata": {},
   "outputs": [
    {
     "data": {
      "application/vnd.microsoft.datawrangler.viewer.v0+json": {
       "columns": [
        {
         "name": "index",
         "rawType": "int64",
         "type": "integer"
        },
        {
         "name": "Brand",
         "rawType": "int64",
         "type": "integer"
        },
        {
         "name": "Description",
         "rawType": "object",
         "type": "string"
        },
        {
         "name": "Price",
         "rawType": "float64",
         "type": "float"
        },
        {
         "name": "Size",
         "rawType": "object",
         "type": "string"
        },
        {
         "name": "Volume",
         "rawType": "int64",
         "type": "integer"
        },
        {
         "name": "Classification",
         "rawType": "int64",
         "type": "integer"
        },
        {
         "name": "PurchasePrice",
         "rawType": "float64",
         "type": "float"
        },
        {
         "name": "VendorNumber",
         "rawType": "int64",
         "type": "integer"
        },
        {
         "name": "VendorName",
         "rawType": "object",
         "type": "string"
        },
        {
         "name": "fecha_actualizacion",
         "rawType": "datetime64[ns]",
         "type": "datetime"
        }
       ],
       "ref": "863623e7-6790-479b-95e7-f271af01ea40",
       "rows": [
        [
         "0",
         "0",
         "Description",
         "0.0",
         "Size",
         "0",
         "0",
         "0.0",
         "0",
         "VendorName\"\r\n58,\"Gekkeikan Black & Gold Sake",
         "2025-05-27 18:54:32"
        ],
        [
         "1",
         "1",
         "Frizze Blue 1000mL",
         "11.5",
         "1000mL",
         "1000",
         "0",
         "11.5",
         "11500",
         "Distribuidora Sur S.A.",
         "2025-05-30 15:14:13"
        ],
        [
         "2",
         "2",
         "Cynar 750mL",
         "13.99",
         "750mL",
         "750",
         "0",
         "13.99",
         "11501",
         "Importadora Global Ltda.",
         "2025-05-30 15:14:13"
        ],
        [
         "3",
         "4",
         "Frizze Blue 1000mL",
         "11.5",
         "1000mL",
         "1000",
         "0",
         "11.5",
         "11500",
         "Distribuidora Sur S.A.",
         "2025-05-30 15:19:54"
        ],
        [
         "4",
         "5",
         "Cynar 750mL",
         "13.99",
         "750mL",
         "750",
         "0",
         "13.99",
         "11501",
         "Importadora Global Ltda.",
         "2025-05-30 15:19:54"
        ]
       ],
       "shape": {
        "columns": 10,
        "rows": 5
       }
      },
      "text/html": [
       "<div>\n",
       "<style scoped>\n",
       "    .dataframe tbody tr th:only-of-type {\n",
       "        vertical-align: middle;\n",
       "    }\n",
       "\n",
       "    .dataframe tbody tr th {\n",
       "        vertical-align: top;\n",
       "    }\n",
       "\n",
       "    .dataframe thead th {\n",
       "        text-align: right;\n",
       "    }\n",
       "</style>\n",
       "<table border=\"1\" class=\"dataframe\">\n",
       "  <thead>\n",
       "    <tr style=\"text-align: right;\">\n",
       "      <th></th>\n",
       "      <th>Brand</th>\n",
       "      <th>Description</th>\n",
       "      <th>Price</th>\n",
       "      <th>Size</th>\n",
       "      <th>Volume</th>\n",
       "      <th>Classification</th>\n",
       "      <th>PurchasePrice</th>\n",
       "      <th>VendorNumber</th>\n",
       "      <th>VendorName</th>\n",
       "      <th>fecha_actualizacion</th>\n",
       "    </tr>\n",
       "  </thead>\n",
       "  <tbody>\n",
       "    <tr>\n",
       "      <th>0</th>\n",
       "      <td>0</td>\n",
       "      <td>Description</td>\n",
       "      <td>0.00</td>\n",
       "      <td>Size</td>\n",
       "      <td>0</td>\n",
       "      <td>0</td>\n",
       "      <td>0.00</td>\n",
       "      <td>0</td>\n",
       "      <td>VendorName\"\\r\\n58,\"Gekkeikan Black &amp; Gold Sake</td>\n",
       "      <td>2025-05-27 18:54:32</td>\n",
       "    </tr>\n",
       "    <tr>\n",
       "      <th>1</th>\n",
       "      <td>1</td>\n",
       "      <td>Frizze Blue 1000mL</td>\n",
       "      <td>11.50</td>\n",
       "      <td>1000mL</td>\n",
       "      <td>1000</td>\n",
       "      <td>0</td>\n",
       "      <td>11.50</td>\n",
       "      <td>11500</td>\n",
       "      <td>Distribuidora Sur S.A.</td>\n",
       "      <td>2025-05-30 15:14:13</td>\n",
       "    </tr>\n",
       "    <tr>\n",
       "      <th>2</th>\n",
       "      <td>2</td>\n",
       "      <td>Cynar 750mL</td>\n",
       "      <td>13.99</td>\n",
       "      <td>750mL</td>\n",
       "      <td>750</td>\n",
       "      <td>0</td>\n",
       "      <td>13.99</td>\n",
       "      <td>11501</td>\n",
       "      <td>Importadora Global Ltda.</td>\n",
       "      <td>2025-05-30 15:14:13</td>\n",
       "    </tr>\n",
       "    <tr>\n",
       "      <th>3</th>\n",
       "      <td>4</td>\n",
       "      <td>Frizze Blue 1000mL</td>\n",
       "      <td>11.50</td>\n",
       "      <td>1000mL</td>\n",
       "      <td>1000</td>\n",
       "      <td>0</td>\n",
       "      <td>11.50</td>\n",
       "      <td>11500</td>\n",
       "      <td>Distribuidora Sur S.A.</td>\n",
       "      <td>2025-05-30 15:19:54</td>\n",
       "    </tr>\n",
       "    <tr>\n",
       "      <th>4</th>\n",
       "      <td>5</td>\n",
       "      <td>Cynar 750mL</td>\n",
       "      <td>13.99</td>\n",
       "      <td>750mL</td>\n",
       "      <td>750</td>\n",
       "      <td>0</td>\n",
       "      <td>13.99</td>\n",
       "      <td>11501</td>\n",
       "      <td>Importadora Global Ltda.</td>\n",
       "      <td>2025-05-30 15:19:54</td>\n",
       "    </tr>\n",
       "  </tbody>\n",
       "</table>\n",
       "</div>"
      ],
      "text/plain": [
       "   Brand         Description  Price    Size  Volume  Classification  \\\n",
       "0      0         Description   0.00    Size       0               0   \n",
       "1      1  Frizze Blue 1000mL  11.50  1000mL    1000               0   \n",
       "2      2         Cynar 750mL  13.99   750mL     750               0   \n",
       "3      4  Frizze Blue 1000mL  11.50  1000mL    1000               0   \n",
       "4      5         Cynar 750mL  13.99   750mL     750               0   \n",
       "\n",
       "   PurchasePrice  VendorNumber  \\\n",
       "0           0.00             0   \n",
       "1          11.50         11500   \n",
       "2          13.99         11501   \n",
       "3          11.50         11500   \n",
       "4          13.99         11501   \n",
       "\n",
       "                                       VendorName fecha_actualizacion  \n",
       "0  VendorName\"\\r\\n58,\"Gekkeikan Black & Gold Sake 2025-05-27 18:54:32  \n",
       "1                          Distribuidora Sur S.A. 2025-05-30 15:14:13  \n",
       "2                        Importadora Global Ltda. 2025-05-30 15:14:13  \n",
       "3                          Distribuidora Sur S.A. 2025-05-30 15:19:54  \n",
       "4                        Importadora Global Ltda. 2025-05-30 15:19:54  "
      ]
     },
     "execution_count": 8,
     "metadata": {},
     "output_type": "execute_result"
    }
   ],
   "source": [
    "df1.head()"
   ]
  },
  {
   "cell_type": "code",
   "execution_count": 9,
   "id": "2211c065",
   "metadata": {},
   "outputs": [
    {
     "data": {
      "text/plain": [
       "(6135, 10)"
      ]
     },
     "execution_count": 9,
     "metadata": {},
     "output_type": "execute_result"
    }
   ],
   "source": [
    "np.shape(df1)"
   ]
  },
  {
   "cell_type": "code",
   "execution_count": 10,
   "id": "828d8f6a",
   "metadata": {},
   "outputs": [
    {
     "name": "stdout",
     "output_type": "stream",
     "text": [
      "Index(['Brand', 'Description', 'Price', 'Size', 'Volume', 'Classification',\n",
      "       'PurchasePrice', 'VendorNumber', 'VendorName', 'fecha_actualizacion'],\n",
      "      dtype='object')\n"
     ]
    }
   ],
   "source": [
    "#Validamos los datos que tenemos en los campos\n",
    "print(df1.columns)"
   ]
  },
  {
   "cell_type": "code",
   "execution_count": 11,
   "id": "30b3d2f6",
   "metadata": {},
   "outputs": [
    {
     "name": "stdout",
     "output_type": "stream",
     "text": [
      "<class 'pandas.core.frame.DataFrame'>\n",
      "RangeIndex: 6135 entries, 0 to 6134\n",
      "Data columns (total 10 columns):\n",
      " #   Column               Non-Null Count  Dtype         \n",
      "---  ------               --------------  -----         \n",
      " 0   Brand                6135 non-null   int64         \n",
      " 1   Description          6135 non-null   object        \n",
      " 2   Price                6135 non-null   float64       \n",
      " 3   Size                 6135 non-null   object        \n",
      " 4   Volume               6135 non-null   int64         \n",
      " 5   Classification       6135 non-null   int64         \n",
      " 6   PurchasePrice        6135 non-null   float64       \n",
      " 7   VendorNumber         6135 non-null   int64         \n",
      " 8   VendorName           6135 non-null   object        \n",
      " 9   fecha_actualizacion  6135 non-null   datetime64[ns]\n",
      "dtypes: datetime64[ns](1), float64(2), int64(4), object(3)\n",
      "memory usage: 479.4+ KB\n",
      "None\n"
     ]
    }
   ],
   "source": [
    "print(df1.info())"
   ]
  },
  {
   "cell_type": "markdown",
   "id": "97c11807",
   "metadata": {},
   "source": [
    "En principio no hay nulos, chequeamos"
   ]
  },
  {
   "cell_type": "code",
   "execution_count": 12,
   "id": "72ec6bd1",
   "metadata": {},
   "outputs": [
    {
     "data": {
      "application/vnd.microsoft.datawrangler.viewer.v0+json": {
       "columns": [
        {
         "name": "index",
         "rawType": "object",
         "type": "string"
        },
        {
         "name": "0",
         "rawType": "int64",
         "type": "integer"
        }
       ],
       "ref": "cfe879d1-589e-452c-b895-72bbf70459e1",
       "rows": [
        [
         "Brand",
         "0"
        ],
        [
         "Description",
         "0"
        ],
        [
         "Price",
         "0"
        ],
        [
         "Size",
         "0"
        ],
        [
         "Volume",
         "0"
        ],
        [
         "Classification",
         "0"
        ],
        [
         "PurchasePrice",
         "0"
        ],
        [
         "VendorNumber",
         "0"
        ],
        [
         "VendorName",
         "0"
        ],
        [
         "fecha_actualizacion",
         "0"
        ]
       ],
       "shape": {
        "columns": 1,
        "rows": 10
       }
      },
      "text/plain": [
       "Brand                  0\n",
       "Description            0\n",
       "Price                  0\n",
       "Size                   0\n",
       "Volume                 0\n",
       "Classification         0\n",
       "PurchasePrice          0\n",
       "VendorNumber           0\n",
       "VendorName             0\n",
       "fecha_actualizacion    0\n",
       "dtype: int64"
      ]
     },
     "execution_count": 12,
     "metadata": {},
     "output_type": "execute_result"
    }
   ],
   "source": [
    "df1.isnull().sum()"
   ]
  },
  {
   "cell_type": "code",
   "execution_count": 13,
   "id": "cf43d241",
   "metadata": {},
   "outputs": [
    {
     "data": {
      "application/vnd.microsoft.datawrangler.viewer.v0+json": {
       "columns": [
        {
         "name": "index",
         "rawType": "object",
         "type": "string"
        },
        {
         "name": "0",
         "rawType": "int64",
         "type": "integer"
        }
       ],
       "ref": "bd45c023-da4d-406d-8997-f8de3ac2bf35",
       "rows": [
        [
         "Brand",
         "0"
        ],
        [
         "Description",
         "0"
        ],
        [
         "Price",
         "0"
        ],
        [
         "Size",
         "0"
        ],
        [
         "Volume",
         "0"
        ],
        [
         "Classification",
         "0"
        ],
        [
         "PurchasePrice",
         "0"
        ],
        [
         "VendorNumber",
         "0"
        ],
        [
         "VendorName",
         "0"
        ],
        [
         "fecha_actualizacion",
         "0"
        ]
       ],
       "shape": {
        "columns": 1,
        "rows": 10
       }
      },
      "text/plain": [
       "Brand                  0\n",
       "Description            0\n",
       "Price                  0\n",
       "Size                   0\n",
       "Volume                 0\n",
       "Classification         0\n",
       "PurchasePrice          0\n",
       "VendorNumber           0\n",
       "VendorName             0\n",
       "fecha_actualizacion    0\n",
       "dtype: int64"
      ]
     },
     "execution_count": 13,
     "metadata": {},
     "output_type": "execute_result"
    }
   ],
   "source": [
    "df1.isna().sum()"
   ]
  },
  {
   "cell_type": "markdown",
   "id": "867e0dc2",
   "metadata": {},
   "source": [
    "Vemos que no hay nulos ni 0, pero podria haber espacios vacios con espacios, reemplazamos estor valores:"
   ]
  },
  {
   "cell_type": "code",
   "execution_count": 14,
   "id": "4a910c12",
   "metadata": {},
   "outputs": [],
   "source": [
    "df1 = df1.replace(r'^\\s*$', np.nan, regex=True)"
   ]
  },
  {
   "cell_type": "markdown",
   "id": "654e6468",
   "metadata": {},
   "source": [
    "Eliminamos la primera fila, que contiene los titulos"
   ]
  },
  {
   "cell_type": "code",
   "execution_count": 15,
   "id": "599f977a",
   "metadata": {},
   "outputs": [],
   "source": [
    "df1 = df1.drop(index=0).reset_index(drop=True)"
   ]
  },
  {
   "cell_type": "code",
   "execution_count": 16,
   "id": "a4530826",
   "metadata": {},
   "outputs": [
    {
     "data": {
      "application/vnd.microsoft.datawrangler.viewer.v0+json": {
       "columns": [
        {
         "name": "index",
         "rawType": "object",
         "type": "string"
        },
        {
         "name": "0",
         "rawType": "int64",
         "type": "integer"
        }
       ],
       "ref": "672eb750-671f-4e6e-9c15-a3d656b6b796",
       "rows": [
        [
         "Brand",
         "0"
        ],
        [
         "Description",
         "1"
        ],
        [
         "Price",
         "0"
        ],
        [
         "Size",
         "1"
        ],
        [
         "Volume",
         "0"
        ],
        [
         "Classification",
         "0"
        ],
        [
         "PurchasePrice",
         "0"
        ],
        [
         "VendorNumber",
         "0"
        ],
        [
         "VendorName",
         "0"
        ],
        [
         "fecha_actualizacion",
         "0"
        ]
       ],
       "shape": {
        "columns": 1,
        "rows": 10
       }
      },
      "text/plain": [
       "Brand                  0\n",
       "Description            1\n",
       "Price                  0\n",
       "Size                   1\n",
       "Volume                 0\n",
       "Classification         0\n",
       "PurchasePrice          0\n",
       "VendorNumber           0\n",
       "VendorName             0\n",
       "fecha_actualizacion    0\n",
       "dtype: int64"
      ]
     },
     "execution_count": 16,
     "metadata": {},
     "output_type": "execute_result"
    }
   ],
   "source": [
    "df1.isna().sum()"
   ]
  },
  {
   "cell_type": "code",
   "execution_count": 17,
   "id": "6b74a532",
   "metadata": {},
   "outputs": [
    {
     "data": {
      "application/vnd.microsoft.datawrangler.viewer.v0+json": {
       "columns": [
        {
         "name": "index",
         "rawType": "object",
         "type": "string"
        },
        {
         "name": "0",
         "rawType": "int64",
         "type": "integer"
        }
       ],
       "ref": "dc0b0474-de9e-4d94-96b9-1796cac1a41c",
       "rows": [
        [
         "Brand",
         "0"
        ],
        [
         "Description",
         "1"
        ],
        [
         "Price",
         "0"
        ],
        [
         "Size",
         "1"
        ],
        [
         "Volume",
         "0"
        ],
        [
         "Classification",
         "0"
        ],
        [
         "PurchasePrice",
         "0"
        ],
        [
         "VendorNumber",
         "0"
        ],
        [
         "VendorName",
         "0"
        ],
        [
         "fecha_actualizacion",
         "0"
        ]
       ],
       "shape": {
        "columns": 1,
        "rows": 10
       }
      },
      "text/plain": [
       "Brand                  0\n",
       "Description            1\n",
       "Price                  0\n",
       "Size                   1\n",
       "Volume                 0\n",
       "Classification         0\n",
       "PurchasePrice          0\n",
       "VendorNumber           0\n",
       "VendorName             0\n",
       "fecha_actualizacion    0\n",
       "dtype: int64"
      ]
     },
     "execution_count": 17,
     "metadata": {},
     "output_type": "execute_result"
    }
   ],
   "source": [
    "df1.isnull().sum()"
   ]
  },
  {
   "cell_type": "markdown",
   "id": "a171439a",
   "metadata": {},
   "source": [
    "Encontramos valores nulos y na, buscamos cual es antes de tomar una decisión:"
   ]
  },
  {
   "cell_type": "code",
   "execution_count": 18,
   "id": "1e723238",
   "metadata": {},
   "outputs": [
    {
     "data": {
      "application/vnd.microsoft.datawrangler.viewer.v0+json": {
       "columns": [
        {
         "name": "index",
         "rawType": "int64",
         "type": "integer"
        },
        {
         "name": "Brand",
         "rawType": "int64",
         "type": "integer"
        },
        {
         "name": "Description",
         "rawType": "object",
         "type": "unknown"
        },
        {
         "name": "Price",
         "rawType": "float64",
         "type": "float"
        },
        {
         "name": "Size",
         "rawType": "object",
         "type": "unknown"
        },
        {
         "name": "Volume",
         "rawType": "int64",
         "type": "integer"
        },
        {
         "name": "Classification",
         "rawType": "int64",
         "type": "integer"
        },
        {
         "name": "PurchasePrice",
         "rawType": "float64",
         "type": "float"
        },
        {
         "name": "VendorNumber",
         "rawType": "int64",
         "type": "integer"
        },
        {
         "name": "VendorName",
         "rawType": "object",
         "type": "string"
        },
        {
         "name": "fecha_actualizacion",
         "rawType": "datetime64[ns]",
         "type": "datetime"
        }
       ],
       "ref": "bcee638f-5592-4c2e-894f-ac1e96fa3ef3",
       "rows": [
        [
         "1190",
         "4202",
         null,
         "0.0",
         null,
         "0",
         "1",
         "11.19",
         "480",
         "BACARDI USA INC            \"\r\n17989,\"Porta Vita Bianco",
         "2025-05-27 18:54:32"
        ]
       ],
       "shape": {
        "columns": 10,
        "rows": 1
       }
      },
      "text/html": [
       "<div>\n",
       "<style scoped>\n",
       "    .dataframe tbody tr th:only-of-type {\n",
       "        vertical-align: middle;\n",
       "    }\n",
       "\n",
       "    .dataframe tbody tr th {\n",
       "        vertical-align: top;\n",
       "    }\n",
       "\n",
       "    .dataframe thead th {\n",
       "        text-align: right;\n",
       "    }\n",
       "</style>\n",
       "<table border=\"1\" class=\"dataframe\">\n",
       "  <thead>\n",
       "    <tr style=\"text-align: right;\">\n",
       "      <th></th>\n",
       "      <th>Brand</th>\n",
       "      <th>Description</th>\n",
       "      <th>Price</th>\n",
       "      <th>Size</th>\n",
       "      <th>Volume</th>\n",
       "      <th>Classification</th>\n",
       "      <th>PurchasePrice</th>\n",
       "      <th>VendorNumber</th>\n",
       "      <th>VendorName</th>\n",
       "      <th>fecha_actualizacion</th>\n",
       "    </tr>\n",
       "  </thead>\n",
       "  <tbody>\n",
       "    <tr>\n",
       "      <th>1190</th>\n",
       "      <td>4202</td>\n",
       "      <td>NaN</td>\n",
       "      <td>0.0</td>\n",
       "      <td>NaN</td>\n",
       "      <td>0</td>\n",
       "      <td>1</td>\n",
       "      <td>11.19</td>\n",
       "      <td>480</td>\n",
       "      <td>BACARDI USA INC            \"\\r\\n17989,\"Porta V...</td>\n",
       "      <td>2025-05-27 18:54:32</td>\n",
       "    </tr>\n",
       "  </tbody>\n",
       "</table>\n",
       "</div>"
      ],
      "text/plain": [
       "      Brand Description  Price Size  Volume  Classification  PurchasePrice  \\\n",
       "1190   4202         NaN    0.0  NaN       0               1          11.19   \n",
       "\n",
       "      VendorNumber                                         VendorName  \\\n",
       "1190           480  BACARDI USA INC            \"\\r\\n17989,\"Porta V...   \n",
       "\n",
       "     fecha_actualizacion  \n",
       "1190 2025-05-27 18:54:32  "
      ]
     },
     "execution_count": 18,
     "metadata": {},
     "output_type": "execute_result"
    }
   ],
   "source": [
    "df1.loc[df1['Description'].isna()]"
   ]
  },
  {
   "cell_type": "markdown",
   "id": "c3e22bdf",
   "metadata": {},
   "source": [
    "Observamos que no tenemos mucha informacion de esta, la borramos:"
   ]
  },
  {
   "cell_type": "code",
   "execution_count": 19,
   "id": "fb7a931e",
   "metadata": {},
   "outputs": [],
   "source": [
    "df1 = df1.dropna()"
   ]
  },
  {
   "cell_type": "code",
   "execution_count": 20,
   "id": "1b172baa",
   "metadata": {},
   "outputs": [
    {
     "data": {
      "text/plain": [
       "(6133, 10)"
      ]
     },
     "execution_count": 20,
     "metadata": {},
     "output_type": "execute_result"
    }
   ],
   "source": [
    "np.shape(df1)"
   ]
  },
  {
   "cell_type": "code",
   "execution_count": 21,
   "id": "56e4f2b7",
   "metadata": {},
   "outputs": [
    {
     "data": {
      "application/vnd.microsoft.datawrangler.viewer.v0+json": {
       "columns": [
        {
         "name": "index",
         "rawType": "int64",
         "type": "integer"
        },
        {
         "name": "Brand",
         "rawType": "int64",
         "type": "integer"
        },
        {
         "name": "Description",
         "rawType": "object",
         "type": "string"
        },
        {
         "name": "Price",
         "rawType": "float64",
         "type": "float"
        },
        {
         "name": "Size",
         "rawType": "object",
         "type": "string"
        },
        {
         "name": "Volume",
         "rawType": "int64",
         "type": "integer"
        },
        {
         "name": "Classification",
         "rawType": "int64",
         "type": "integer"
        },
        {
         "name": "PurchasePrice",
         "rawType": "float64",
         "type": "float"
        },
        {
         "name": "VendorNumber",
         "rawType": "int64",
         "type": "integer"
        },
        {
         "name": "VendorName",
         "rawType": "object",
         "type": "string"
        },
        {
         "name": "fecha_actualizacion",
         "rawType": "datetime64[ns]",
         "type": "datetime"
        }
       ],
       "ref": "40a146bb-78da-4abd-90e8-378910f56d69",
       "rows": [
        [
         "0",
         "1",
         "Frizze Blue 1000mL",
         "11.5",
         "1000mL",
         "1000",
         "0",
         "11.5",
         "11500",
         "Distribuidora Sur S.A.",
         "2025-05-30 15:14:13"
        ],
        [
         "1",
         "2",
         "Cynar 750mL",
         "13.99",
         "750mL",
         "750",
         "0",
         "13.99",
         "11501",
         "Importadora Global Ltda.",
         "2025-05-30 15:14:13"
        ],
        [
         "2",
         "4",
         "Frizze Blue 1000mL",
         "11.5",
         "1000mL",
         "1000",
         "0",
         "11.5",
         "11500",
         "Distribuidora Sur S.A.",
         "2025-05-30 15:19:54"
        ],
        [
         "3",
         "5",
         "Cynar 750mL",
         "13.99",
         "750mL",
         "750",
         "0",
         "13.99",
         "11501",
         "Importadora Global Ltda.",
         "2025-05-30 15:19:54"
        ],
        [
         "4",
         "61",
         "Margaritaville Silver",
         "13.99",
         "750mL",
         "750",
         "1",
         "10.6",
         "8004",
         "SAZERAC CO INC             \"\r\n122,\"DeKuyper Mixed Berry Medley",
         "2025-05-27 18:54:32"
        ]
       ],
       "shape": {
        "columns": 10,
        "rows": 5
       }
      },
      "text/html": [
       "<div>\n",
       "<style scoped>\n",
       "    .dataframe tbody tr th:only-of-type {\n",
       "        vertical-align: middle;\n",
       "    }\n",
       "\n",
       "    .dataframe tbody tr th {\n",
       "        vertical-align: top;\n",
       "    }\n",
       "\n",
       "    .dataframe thead th {\n",
       "        text-align: right;\n",
       "    }\n",
       "</style>\n",
       "<table border=\"1\" class=\"dataframe\">\n",
       "  <thead>\n",
       "    <tr style=\"text-align: right;\">\n",
       "      <th></th>\n",
       "      <th>Brand</th>\n",
       "      <th>Description</th>\n",
       "      <th>Price</th>\n",
       "      <th>Size</th>\n",
       "      <th>Volume</th>\n",
       "      <th>Classification</th>\n",
       "      <th>PurchasePrice</th>\n",
       "      <th>VendorNumber</th>\n",
       "      <th>VendorName</th>\n",
       "      <th>fecha_actualizacion</th>\n",
       "    </tr>\n",
       "  </thead>\n",
       "  <tbody>\n",
       "    <tr>\n",
       "      <th>0</th>\n",
       "      <td>1</td>\n",
       "      <td>Frizze Blue 1000mL</td>\n",
       "      <td>11.50</td>\n",
       "      <td>1000mL</td>\n",
       "      <td>1000</td>\n",
       "      <td>0</td>\n",
       "      <td>11.50</td>\n",
       "      <td>11500</td>\n",
       "      <td>Distribuidora Sur S.A.</td>\n",
       "      <td>2025-05-30 15:14:13</td>\n",
       "    </tr>\n",
       "    <tr>\n",
       "      <th>1</th>\n",
       "      <td>2</td>\n",
       "      <td>Cynar 750mL</td>\n",
       "      <td>13.99</td>\n",
       "      <td>750mL</td>\n",
       "      <td>750</td>\n",
       "      <td>0</td>\n",
       "      <td>13.99</td>\n",
       "      <td>11501</td>\n",
       "      <td>Importadora Global Ltda.</td>\n",
       "      <td>2025-05-30 15:14:13</td>\n",
       "    </tr>\n",
       "    <tr>\n",
       "      <th>2</th>\n",
       "      <td>4</td>\n",
       "      <td>Frizze Blue 1000mL</td>\n",
       "      <td>11.50</td>\n",
       "      <td>1000mL</td>\n",
       "      <td>1000</td>\n",
       "      <td>0</td>\n",
       "      <td>11.50</td>\n",
       "      <td>11500</td>\n",
       "      <td>Distribuidora Sur S.A.</td>\n",
       "      <td>2025-05-30 15:19:54</td>\n",
       "    </tr>\n",
       "    <tr>\n",
       "      <th>3</th>\n",
       "      <td>5</td>\n",
       "      <td>Cynar 750mL</td>\n",
       "      <td>13.99</td>\n",
       "      <td>750mL</td>\n",
       "      <td>750</td>\n",
       "      <td>0</td>\n",
       "      <td>13.99</td>\n",
       "      <td>11501</td>\n",
       "      <td>Importadora Global Ltda.</td>\n",
       "      <td>2025-05-30 15:19:54</td>\n",
       "    </tr>\n",
       "    <tr>\n",
       "      <th>4</th>\n",
       "      <td>61</td>\n",
       "      <td>Margaritaville Silver</td>\n",
       "      <td>13.99</td>\n",
       "      <td>750mL</td>\n",
       "      <td>750</td>\n",
       "      <td>1</td>\n",
       "      <td>10.60</td>\n",
       "      <td>8004</td>\n",
       "      <td>SAZERAC CO INC             \"\\r\\n122,\"DeKuyper ...</td>\n",
       "      <td>2025-05-27 18:54:32</td>\n",
       "    </tr>\n",
       "  </tbody>\n",
       "</table>\n",
       "</div>"
      ],
      "text/plain": [
       "   Brand            Description  Price    Size  Volume  Classification  \\\n",
       "0      1     Frizze Blue 1000mL  11.50  1000mL    1000               0   \n",
       "1      2            Cynar 750mL  13.99   750mL     750               0   \n",
       "2      4     Frizze Blue 1000mL  11.50  1000mL    1000               0   \n",
       "3      5            Cynar 750mL  13.99   750mL     750               0   \n",
       "4     61  Margaritaville Silver  13.99   750mL     750               1   \n",
       "\n",
       "   PurchasePrice  VendorNumber  \\\n",
       "0          11.50         11500   \n",
       "1          13.99         11501   \n",
       "2          11.50         11500   \n",
       "3          13.99         11501   \n",
       "4          10.60          8004   \n",
       "\n",
       "                                          VendorName fecha_actualizacion  \n",
       "0                             Distribuidora Sur S.A. 2025-05-30 15:14:13  \n",
       "1                           Importadora Global Ltda. 2025-05-30 15:14:13  \n",
       "2                             Distribuidora Sur S.A. 2025-05-30 15:19:54  \n",
       "3                           Importadora Global Ltda. 2025-05-30 15:19:54  \n",
       "4  SAZERAC CO INC             \"\\r\\n122,\"DeKuyper ... 2025-05-27 18:54:32  "
      ]
     },
     "execution_count": 21,
     "metadata": {},
     "output_type": "execute_result"
    }
   ],
   "source": [
    "df1.head()"
   ]
  },
  {
   "cell_type": "code",
   "execution_count": 22,
   "id": "02baed71",
   "metadata": {},
   "outputs": [
    {
     "name": "stdout",
     "output_type": "stream",
     "text": [
      "['Distribuidora Sur S.A.' 'Importadora Global Ltda.'\n",
      " 'SAZERAC CO INC             \"\\r\\n122,\"DeKuyper Mixed Berry Medley' ...\n",
      " 'MARTIGNETTI COMPANIES\"\\r\\n5837,\"Leroux Cherry Brandy'\n",
      " 'IRA GOLDMAN AND WILLIAMS, LLP          \"\\r\\n21835,\"Ch St Jean Bijou Chard'\n",
      " 'ULTRA BEVERAGE COMPANY LLP \"\\r\\n5992,\"Kaikouzu Potato Shochu']\n"
     ]
    }
   ],
   "source": [
    "print(df1['VendorName'].unique())"
   ]
  },
  {
   "cell_type": "code",
   "execution_count": 23,
   "id": "89aff5dd",
   "metadata": {},
   "outputs": [],
   "source": [
    "df1['VendorName'] = df1['VendorName'].astype(str).str.extract(r'^([^\\r\\n]*)')[0].str.strip('\"')\n"
   ]
  },
  {
   "cell_type": "code",
   "execution_count": 24,
   "id": "47c92c84",
   "metadata": {},
   "outputs": [
    {
     "data": {
      "application/vnd.microsoft.datawrangler.viewer.v0+json": {
       "columns": [
        {
         "name": "index",
         "rawType": "int64",
         "type": "integer"
        },
        {
         "name": "Brand",
         "rawType": "int64",
         "type": "integer"
        },
        {
         "name": "Description",
         "rawType": "object",
         "type": "string"
        },
        {
         "name": "Price",
         "rawType": "float64",
         "type": "float"
        },
        {
         "name": "Size",
         "rawType": "object",
         "type": "string"
        },
        {
         "name": "Volume",
         "rawType": "int64",
         "type": "integer"
        },
        {
         "name": "Classification",
         "rawType": "int64",
         "type": "integer"
        },
        {
         "name": "PurchasePrice",
         "rawType": "float64",
         "type": "float"
        },
        {
         "name": "VendorNumber",
         "rawType": "int64",
         "type": "integer"
        },
        {
         "name": "VendorName",
         "rawType": "object",
         "type": "string"
        },
        {
         "name": "fecha_actualizacion",
         "rawType": "datetime64[ns]",
         "type": "datetime"
        }
       ],
       "ref": "c4031bac-f7a1-4f47-8894-476e64e02838",
       "rows": [
        [
         "0",
         "1",
         "Frizze Blue 1000mL",
         "11.5",
         "1000mL",
         "1000",
         "0",
         "11.5",
         "11500",
         "Distribuidora Sur S.A.",
         "2025-05-30 15:14:13"
        ],
        [
         "1",
         "2",
         "Cynar 750mL",
         "13.99",
         "750mL",
         "750",
         "0",
         "13.99",
         "11501",
         "Importadora Global Ltda.",
         "2025-05-30 15:14:13"
        ],
        [
         "2",
         "4",
         "Frizze Blue 1000mL",
         "11.5",
         "1000mL",
         "1000",
         "0",
         "11.5",
         "11500",
         "Distribuidora Sur S.A.",
         "2025-05-30 15:19:54"
        ],
        [
         "3",
         "5",
         "Cynar 750mL",
         "13.99",
         "750mL",
         "750",
         "0",
         "13.99",
         "11501",
         "Importadora Global Ltda.",
         "2025-05-30 15:19:54"
        ],
        [
         "4",
         "61",
         "Margaritaville Silver",
         "13.99",
         "750mL",
         "750",
         "1",
         "10.6",
         "8004",
         "SAZERAC CO INC             ",
         "2025-05-27 18:54:32"
        ]
       ],
       "shape": {
        "columns": 10,
        "rows": 5
       }
      },
      "text/html": [
       "<div>\n",
       "<style scoped>\n",
       "    .dataframe tbody tr th:only-of-type {\n",
       "        vertical-align: middle;\n",
       "    }\n",
       "\n",
       "    .dataframe tbody tr th {\n",
       "        vertical-align: top;\n",
       "    }\n",
       "\n",
       "    .dataframe thead th {\n",
       "        text-align: right;\n",
       "    }\n",
       "</style>\n",
       "<table border=\"1\" class=\"dataframe\">\n",
       "  <thead>\n",
       "    <tr style=\"text-align: right;\">\n",
       "      <th></th>\n",
       "      <th>Brand</th>\n",
       "      <th>Description</th>\n",
       "      <th>Price</th>\n",
       "      <th>Size</th>\n",
       "      <th>Volume</th>\n",
       "      <th>Classification</th>\n",
       "      <th>PurchasePrice</th>\n",
       "      <th>VendorNumber</th>\n",
       "      <th>VendorName</th>\n",
       "      <th>fecha_actualizacion</th>\n",
       "    </tr>\n",
       "  </thead>\n",
       "  <tbody>\n",
       "    <tr>\n",
       "      <th>0</th>\n",
       "      <td>1</td>\n",
       "      <td>Frizze Blue 1000mL</td>\n",
       "      <td>11.50</td>\n",
       "      <td>1000mL</td>\n",
       "      <td>1000</td>\n",
       "      <td>0</td>\n",
       "      <td>11.50</td>\n",
       "      <td>11500</td>\n",
       "      <td>Distribuidora Sur S.A.</td>\n",
       "      <td>2025-05-30 15:14:13</td>\n",
       "    </tr>\n",
       "    <tr>\n",
       "      <th>1</th>\n",
       "      <td>2</td>\n",
       "      <td>Cynar 750mL</td>\n",
       "      <td>13.99</td>\n",
       "      <td>750mL</td>\n",
       "      <td>750</td>\n",
       "      <td>0</td>\n",
       "      <td>13.99</td>\n",
       "      <td>11501</td>\n",
       "      <td>Importadora Global Ltda.</td>\n",
       "      <td>2025-05-30 15:14:13</td>\n",
       "    </tr>\n",
       "    <tr>\n",
       "      <th>2</th>\n",
       "      <td>4</td>\n",
       "      <td>Frizze Blue 1000mL</td>\n",
       "      <td>11.50</td>\n",
       "      <td>1000mL</td>\n",
       "      <td>1000</td>\n",
       "      <td>0</td>\n",
       "      <td>11.50</td>\n",
       "      <td>11500</td>\n",
       "      <td>Distribuidora Sur S.A.</td>\n",
       "      <td>2025-05-30 15:19:54</td>\n",
       "    </tr>\n",
       "    <tr>\n",
       "      <th>3</th>\n",
       "      <td>5</td>\n",
       "      <td>Cynar 750mL</td>\n",
       "      <td>13.99</td>\n",
       "      <td>750mL</td>\n",
       "      <td>750</td>\n",
       "      <td>0</td>\n",
       "      <td>13.99</td>\n",
       "      <td>11501</td>\n",
       "      <td>Importadora Global Ltda.</td>\n",
       "      <td>2025-05-30 15:19:54</td>\n",
       "    </tr>\n",
       "    <tr>\n",
       "      <th>4</th>\n",
       "      <td>61</td>\n",
       "      <td>Margaritaville Silver</td>\n",
       "      <td>13.99</td>\n",
       "      <td>750mL</td>\n",
       "      <td>750</td>\n",
       "      <td>1</td>\n",
       "      <td>10.60</td>\n",
       "      <td>8004</td>\n",
       "      <td>SAZERAC CO INC</td>\n",
       "      <td>2025-05-27 18:54:32</td>\n",
       "    </tr>\n",
       "  </tbody>\n",
       "</table>\n",
       "</div>"
      ],
      "text/plain": [
       "   Brand            Description  Price    Size  Volume  Classification  \\\n",
       "0      1     Frizze Blue 1000mL  11.50  1000mL    1000               0   \n",
       "1      2            Cynar 750mL  13.99   750mL     750               0   \n",
       "2      4     Frizze Blue 1000mL  11.50  1000mL    1000               0   \n",
       "3      5            Cynar 750mL  13.99   750mL     750               0   \n",
       "4     61  Margaritaville Silver  13.99   750mL     750               1   \n",
       "\n",
       "   PurchasePrice  VendorNumber                   VendorName  \\\n",
       "0          11.50         11500       Distribuidora Sur S.A.   \n",
       "1          13.99         11501     Importadora Global Ltda.   \n",
       "2          11.50         11500       Distribuidora Sur S.A.   \n",
       "3          13.99         11501     Importadora Global Ltda.   \n",
       "4          10.60          8004  SAZERAC CO INC                \n",
       "\n",
       "  fecha_actualizacion  \n",
       "0 2025-05-30 15:14:13  \n",
       "1 2025-05-30 15:14:13  \n",
       "2 2025-05-30 15:19:54  \n",
       "3 2025-05-30 15:19:54  \n",
       "4 2025-05-27 18:54:32  "
      ]
     },
     "execution_count": 24,
     "metadata": {},
     "output_type": "execute_result"
    }
   ],
   "source": [
    "df1.head()"
   ]
  },
  {
   "cell_type": "code",
   "execution_count": 25,
   "id": "5b788bcc",
   "metadata": {},
   "outputs": [
    {
     "name": "stdout",
     "output_type": "stream",
     "text": [
      "<class 'pandas.core.frame.DataFrame'>\n",
      "Index: 6133 entries, 0 to 6133\n",
      "Data columns (total 10 columns):\n",
      " #   Column               Non-Null Count  Dtype         \n",
      "---  ------               --------------  -----         \n",
      " 0   Brand                6133 non-null   int64         \n",
      " 1   Description          6133 non-null   object        \n",
      " 2   Price                6133 non-null   float64       \n",
      " 3   Size                 6133 non-null   object        \n",
      " 4   Volume               6133 non-null   int64         \n",
      " 5   Classification       6133 non-null   int64         \n",
      " 6   PurchasePrice        6133 non-null   float64       \n",
      " 7   VendorNumber         6133 non-null   int64         \n",
      " 8   VendorName           6133 non-null   object        \n",
      " 9   fecha_actualizacion  6133 non-null   datetime64[ns]\n",
      "dtypes: datetime64[ns](1), float64(2), int64(4), object(3)\n",
      "memory usage: 527.1+ KB\n"
     ]
    }
   ],
   "source": [
    "df1.info()"
   ]
  },
  {
   "cell_type": "code",
   "execution_count": 26,
   "id": "d3b94f99",
   "metadata": {},
   "outputs": [
    {
     "data": {
      "application/vnd.microsoft.datawrangler.viewer.v0+json": {
       "columns": [
        {
         "name": "index",
         "rawType": "int64",
         "type": "integer"
        },
        {
         "name": "Brand",
         "rawType": "int64",
         "type": "integer"
        },
        {
         "name": "Description",
         "rawType": "object",
         "type": "string"
        },
        {
         "name": "Price",
         "rawType": "float64",
         "type": "float"
        },
        {
         "name": "Size",
         "rawType": "object",
         "type": "string"
        },
        {
         "name": "Volume",
         "rawType": "int64",
         "type": "integer"
        },
        {
         "name": "Classification",
         "rawType": "int64",
         "type": "integer"
        },
        {
         "name": "PurchasePrice",
         "rawType": "float64",
         "type": "float"
        },
        {
         "name": "VendorNumber",
         "rawType": "int64",
         "type": "integer"
        },
        {
         "name": "VendorName",
         "rawType": "object",
         "type": "string"
        },
        {
         "name": "fecha_actualizacion",
         "rawType": "datetime64[ns]",
         "type": "datetime"
        }
       ],
       "ref": "8bdf2e99-5799-4b94-9a59-6ec053fa8d79",
       "rows": [
        [
         "1964",
         "8992",
         "Group 92",
         "1.99",
         "Unknown",
         "0",
         "1",
         "1.43",
         "1703",
         "ALISA CARR BEVERAGES               ",
         "2025-05-27 18:54:32"
        ],
        [
         "1989",
         "9908",
         "Tito's Copper Mug 2 Pack",
         "21.01",
         "Unknown",
         "0",
         "1",
         "16.15",
         "4425",
         "MARTIGNETTI COMPANIES",
         "2025-05-27 18:54:32"
        ],
        [
         "6131",
         "90590",
         "Overture Champagne 2Glass Pk",
         "19.95",
         "Unknown",
         "0",
         "2",
         "13.12",
         "4425",
         "MARTIGNETTI COMPANIES",
         "2025-05-27 18:54:32"
        ]
       ],
       "shape": {
        "columns": 10,
        "rows": 3
       }
      },
      "text/html": [
       "<div>\n",
       "<style scoped>\n",
       "    .dataframe tbody tr th:only-of-type {\n",
       "        vertical-align: middle;\n",
       "    }\n",
       "\n",
       "    .dataframe tbody tr th {\n",
       "        vertical-align: top;\n",
       "    }\n",
       "\n",
       "    .dataframe thead th {\n",
       "        text-align: right;\n",
       "    }\n",
       "</style>\n",
       "<table border=\"1\" class=\"dataframe\">\n",
       "  <thead>\n",
       "    <tr style=\"text-align: right;\">\n",
       "      <th></th>\n",
       "      <th>Brand</th>\n",
       "      <th>Description</th>\n",
       "      <th>Price</th>\n",
       "      <th>Size</th>\n",
       "      <th>Volume</th>\n",
       "      <th>Classification</th>\n",
       "      <th>PurchasePrice</th>\n",
       "      <th>VendorNumber</th>\n",
       "      <th>VendorName</th>\n",
       "      <th>fecha_actualizacion</th>\n",
       "    </tr>\n",
       "  </thead>\n",
       "  <tbody>\n",
       "    <tr>\n",
       "      <th>1964</th>\n",
       "      <td>8992</td>\n",
       "      <td>Group 92</td>\n",
       "      <td>1.99</td>\n",
       "      <td>Unknown</td>\n",
       "      <td>0</td>\n",
       "      <td>1</td>\n",
       "      <td>1.43</td>\n",
       "      <td>1703</td>\n",
       "      <td>ALISA CARR BEVERAGES</td>\n",
       "      <td>2025-05-27 18:54:32</td>\n",
       "    </tr>\n",
       "    <tr>\n",
       "      <th>1989</th>\n",
       "      <td>9908</td>\n",
       "      <td>Tito's Copper Mug 2 Pack</td>\n",
       "      <td>21.01</td>\n",
       "      <td>Unknown</td>\n",
       "      <td>0</td>\n",
       "      <td>1</td>\n",
       "      <td>16.15</td>\n",
       "      <td>4425</td>\n",
       "      <td>MARTIGNETTI COMPANIES</td>\n",
       "      <td>2025-05-27 18:54:32</td>\n",
       "    </tr>\n",
       "    <tr>\n",
       "      <th>6131</th>\n",
       "      <td>90590</td>\n",
       "      <td>Overture Champagne 2Glass Pk</td>\n",
       "      <td>19.95</td>\n",
       "      <td>Unknown</td>\n",
       "      <td>0</td>\n",
       "      <td>2</td>\n",
       "      <td>13.12</td>\n",
       "      <td>4425</td>\n",
       "      <td>MARTIGNETTI COMPANIES</td>\n",
       "      <td>2025-05-27 18:54:32</td>\n",
       "    </tr>\n",
       "  </tbody>\n",
       "</table>\n",
       "</div>"
      ],
      "text/plain": [
       "      Brand                   Description  Price     Size  Volume  \\\n",
       "1964   8992                      Group 92   1.99  Unknown       0   \n",
       "1989   9908      Tito's Copper Mug 2 Pack  21.01  Unknown       0   \n",
       "6131  90590  Overture Champagne 2Glass Pk  19.95  Unknown       0   \n",
       "\n",
       "      Classification  PurchasePrice  VendorNumber  \\\n",
       "1964               1           1.43          1703   \n",
       "1989               1          16.15          4425   \n",
       "6131               2          13.12          4425   \n",
       "\n",
       "                               VendorName fecha_actualizacion  \n",
       "1964  ALISA CARR BEVERAGES                2025-05-27 18:54:32  \n",
       "1989                MARTIGNETTI COMPANIES 2025-05-27 18:54:32  \n",
       "6131                MARTIGNETTI COMPANIES 2025-05-27 18:54:32  "
      ]
     },
     "execution_count": 26,
     "metadata": {},
     "output_type": "execute_result"
    }
   ],
   "source": [
    "df1[(df1['Volume'].isnull()) | (df1['Volume'] == 0)]"
   ]
  },
  {
   "cell_type": "code",
   "execution_count": 27,
   "id": "147c9d80",
   "metadata": {},
   "outputs": [
    {
     "data": {
      "application/vnd.microsoft.datawrangler.viewer.v0+json": {
       "columns": [
        {
         "name": "index",
         "rawType": "int64",
         "type": "integer"
        },
        {
         "name": "Brand",
         "rawType": "int64",
         "type": "integer"
        },
        {
         "name": "Description",
         "rawType": "object",
         "type": "string"
        },
        {
         "name": "Price",
         "rawType": "float64",
         "type": "float"
        },
        {
         "name": "Size",
         "rawType": "object",
         "type": "string"
        },
        {
         "name": "Volume",
         "rawType": "int64",
         "type": "integer"
        },
        {
         "name": "Classification",
         "rawType": "int64",
         "type": "integer"
        },
        {
         "name": "PurchasePrice",
         "rawType": "float64",
         "type": "float"
        },
        {
         "name": "VendorNumber",
         "rawType": "int64",
         "type": "integer"
        },
        {
         "name": "VendorName",
         "rawType": "object",
         "type": "string"
        },
        {
         "name": "fecha_actualizacion",
         "rawType": "datetime64[ns]",
         "type": "datetime"
        }
       ],
       "ref": "e35a437f-b081-4cbf-9ed8-55c8b71b721a",
       "rows": [
        [
         "6131",
         "90590",
         "Overture Champagne 2Glass Pk",
         "19.95",
         "Unknown",
         "0",
         "2",
         "13.12",
         "4425",
         "MARTIGNETTI COMPANIES",
         "2025-05-27 18:54:32"
        ]
       ],
       "shape": {
        "columns": 10,
        "rows": 1
       }
      },
      "text/html": [
       "<div>\n",
       "<style scoped>\n",
       "    .dataframe tbody tr th:only-of-type {\n",
       "        vertical-align: middle;\n",
       "    }\n",
       "\n",
       "    .dataframe tbody tr th {\n",
       "        vertical-align: top;\n",
       "    }\n",
       "\n",
       "    .dataframe thead th {\n",
       "        text-align: right;\n",
       "    }\n",
       "</style>\n",
       "<table border=\"1\" class=\"dataframe\">\n",
       "  <thead>\n",
       "    <tr style=\"text-align: right;\">\n",
       "      <th></th>\n",
       "      <th>Brand</th>\n",
       "      <th>Description</th>\n",
       "      <th>Price</th>\n",
       "      <th>Size</th>\n",
       "      <th>Volume</th>\n",
       "      <th>Classification</th>\n",
       "      <th>PurchasePrice</th>\n",
       "      <th>VendorNumber</th>\n",
       "      <th>VendorName</th>\n",
       "      <th>fecha_actualizacion</th>\n",
       "    </tr>\n",
       "  </thead>\n",
       "  <tbody>\n",
       "    <tr>\n",
       "      <th>6131</th>\n",
       "      <td>90590</td>\n",
       "      <td>Overture Champagne 2Glass Pk</td>\n",
       "      <td>19.95</td>\n",
       "      <td>Unknown</td>\n",
       "      <td>0</td>\n",
       "      <td>2</td>\n",
       "      <td>13.12</td>\n",
       "      <td>4425</td>\n",
       "      <td>MARTIGNETTI COMPANIES</td>\n",
       "      <td>2025-05-27 18:54:32</td>\n",
       "    </tr>\n",
       "  </tbody>\n",
       "</table>\n",
       "</div>"
      ],
      "text/plain": [
       "      Brand                   Description  Price     Size  Volume  \\\n",
       "6131  90590  Overture Champagne 2Glass Pk  19.95  Unknown       0   \n",
       "\n",
       "      Classification  PurchasePrice  VendorNumber             VendorName  \\\n",
       "6131               2          13.12          4425  MARTIGNETTI COMPANIES   \n",
       "\n",
       "     fecha_actualizacion  \n",
       "6131 2025-05-27 18:54:32  "
      ]
     },
     "execution_count": 27,
     "metadata": {},
     "output_type": "execute_result"
    }
   ],
   "source": [
    "df1[df1['Description'].str.contains('Overture', case=False, na=False)]"
   ]
  },
  {
   "cell_type": "code",
   "execution_count": 28,
   "id": "76e6751a",
   "metadata": {},
   "outputs": [
    {
     "data": {
      "application/vnd.microsoft.datawrangler.viewer.v0+json": {
       "columns": [
        {
         "name": "index",
         "rawType": "int64",
         "type": "integer"
        },
        {
         "name": "Brand",
         "rawType": "int64",
         "type": "integer"
        },
        {
         "name": "Description",
         "rawType": "object",
         "type": "string"
        },
        {
         "name": "Price",
         "rawType": "float64",
         "type": "float"
        },
        {
         "name": "Size",
         "rawType": "object",
         "type": "string"
        },
        {
         "name": "Volume",
         "rawType": "int64",
         "type": "integer"
        },
        {
         "name": "Classification",
         "rawType": "int64",
         "type": "integer"
        },
        {
         "name": "PurchasePrice",
         "rawType": "float64",
         "type": "float"
        },
        {
         "name": "VendorNumber",
         "rawType": "int64",
         "type": "integer"
        },
        {
         "name": "VendorName",
         "rawType": "object",
         "type": "string"
        },
        {
         "name": "fecha_actualizacion",
         "rawType": "datetime64[ns]",
         "type": "datetime"
        }
       ],
       "ref": "92aab308-ac80-4a58-aef3-9ebc496c1ee2",
       "rows": [
        [
         "1964",
         "8992",
         "Group 92",
         "1.99",
         "Unknown",
         "0",
         "1",
         "1.43",
         "1703",
         "ALISA CARR BEVERAGES               ",
         "2025-05-27 18:54:32"
        ],
        [
         "1989",
         "9908",
         "Tito's Copper Mug 2 Pack",
         "21.01",
         "Unknown",
         "0",
         "1",
         "16.15",
         "4425",
         "MARTIGNETTI COMPANIES",
         "2025-05-27 18:54:32"
        ],
        [
         "6131",
         "90590",
         "Overture Champagne 2Glass Pk",
         "19.95",
         "Unknown",
         "0",
         "2",
         "13.12",
         "4425",
         "MARTIGNETTI COMPANIES",
         "2025-05-27 18:54:32"
        ]
       ],
       "shape": {
        "columns": 10,
        "rows": 3
       }
      },
      "text/html": [
       "<div>\n",
       "<style scoped>\n",
       "    .dataframe tbody tr th:only-of-type {\n",
       "        vertical-align: middle;\n",
       "    }\n",
       "\n",
       "    .dataframe tbody tr th {\n",
       "        vertical-align: top;\n",
       "    }\n",
       "\n",
       "    .dataframe thead th {\n",
       "        text-align: right;\n",
       "    }\n",
       "</style>\n",
       "<table border=\"1\" class=\"dataframe\">\n",
       "  <thead>\n",
       "    <tr style=\"text-align: right;\">\n",
       "      <th></th>\n",
       "      <th>Brand</th>\n",
       "      <th>Description</th>\n",
       "      <th>Price</th>\n",
       "      <th>Size</th>\n",
       "      <th>Volume</th>\n",
       "      <th>Classification</th>\n",
       "      <th>PurchasePrice</th>\n",
       "      <th>VendorNumber</th>\n",
       "      <th>VendorName</th>\n",
       "      <th>fecha_actualizacion</th>\n",
       "    </tr>\n",
       "  </thead>\n",
       "  <tbody>\n",
       "    <tr>\n",
       "      <th>1964</th>\n",
       "      <td>8992</td>\n",
       "      <td>Group 92</td>\n",
       "      <td>1.99</td>\n",
       "      <td>Unknown</td>\n",
       "      <td>0</td>\n",
       "      <td>1</td>\n",
       "      <td>1.43</td>\n",
       "      <td>1703</td>\n",
       "      <td>ALISA CARR BEVERAGES</td>\n",
       "      <td>2025-05-27 18:54:32</td>\n",
       "    </tr>\n",
       "    <tr>\n",
       "      <th>1989</th>\n",
       "      <td>9908</td>\n",
       "      <td>Tito's Copper Mug 2 Pack</td>\n",
       "      <td>21.01</td>\n",
       "      <td>Unknown</td>\n",
       "      <td>0</td>\n",
       "      <td>1</td>\n",
       "      <td>16.15</td>\n",
       "      <td>4425</td>\n",
       "      <td>MARTIGNETTI COMPANIES</td>\n",
       "      <td>2025-05-27 18:54:32</td>\n",
       "    </tr>\n",
       "    <tr>\n",
       "      <th>6131</th>\n",
       "      <td>90590</td>\n",
       "      <td>Overture Champagne 2Glass Pk</td>\n",
       "      <td>19.95</td>\n",
       "      <td>Unknown</td>\n",
       "      <td>0</td>\n",
       "      <td>2</td>\n",
       "      <td>13.12</td>\n",
       "      <td>4425</td>\n",
       "      <td>MARTIGNETTI COMPANIES</td>\n",
       "      <td>2025-05-27 18:54:32</td>\n",
       "    </tr>\n",
       "  </tbody>\n",
       "</table>\n",
       "</div>"
      ],
      "text/plain": [
       "      Brand                   Description  Price     Size  Volume  \\\n",
       "1964   8992                      Group 92   1.99  Unknown       0   \n",
       "1989   9908      Tito's Copper Mug 2 Pack  21.01  Unknown       0   \n",
       "6131  90590  Overture Champagne 2Glass Pk  19.95  Unknown       0   \n",
       "\n",
       "      Classification  PurchasePrice  VendorNumber  \\\n",
       "1964               1           1.43          1703   \n",
       "1989               1          16.15          4425   \n",
       "6131               2          13.12          4425   \n",
       "\n",
       "                               VendorName fecha_actualizacion  \n",
       "1964  ALISA CARR BEVERAGES                2025-05-27 18:54:32  \n",
       "1989                MARTIGNETTI COMPANIES 2025-05-27 18:54:32  \n",
       "6131                MARTIGNETTI COMPANIES 2025-05-27 18:54:32  "
      ]
     },
     "execution_count": 28,
     "metadata": {},
     "output_type": "execute_result"
    }
   ],
   "source": [
    "df1[(df1['Volume'].isnull()) | (df1['Volume'] == 0)]"
   ]
  },
  {
   "cell_type": "markdown",
   "id": "7ea5d1ef",
   "metadata": {},
   "source": [
    "Como estos 3 datos estan faltantes en size y volume, elimino las filas"
   ]
  },
  {
   "cell_type": "code",
   "execution_count": 29,
   "id": "279f94b7",
   "metadata": {},
   "outputs": [],
   "source": [
    "df1 = df1.drop(df1[df1['Volume'] == 0].index)"
   ]
  },
  {
   "cell_type": "code",
   "execution_count": 30,
   "id": "396f6224",
   "metadata": {},
   "outputs": [
    {
     "data": {
      "text/plain": [
       "(6130, 10)"
      ]
     },
     "execution_count": 30,
     "metadata": {},
     "output_type": "execute_result"
    }
   ],
   "source": [
    "np.shape(df1)"
   ]
  },
  {
   "cell_type": "code",
   "execution_count": 31,
   "id": "6ffb8cdd",
   "metadata": {},
   "outputs": [
    {
     "data": {
      "application/vnd.microsoft.datawrangler.viewer.v0+json": {
       "columns": [
        {
         "name": "index",
         "rawType": "int64",
         "type": "integer"
        },
        {
         "name": "Brand",
         "rawType": "int64",
         "type": "integer"
        },
        {
         "name": "Description",
         "rawType": "object",
         "type": "string"
        },
        {
         "name": "Price",
         "rawType": "float64",
         "type": "float"
        },
        {
         "name": "Size",
         "rawType": "object",
         "type": "string"
        },
        {
         "name": "Volume",
         "rawType": "int64",
         "type": "integer"
        },
        {
         "name": "Classification",
         "rawType": "int64",
         "type": "integer"
        },
        {
         "name": "PurchasePrice",
         "rawType": "float64",
         "type": "float"
        },
        {
         "name": "VendorNumber",
         "rawType": "int64",
         "type": "integer"
        },
        {
         "name": "VendorName",
         "rawType": "object",
         "type": "string"
        },
        {
         "name": "fecha_actualizacion",
         "rawType": "datetime64[ns]",
         "type": "datetime"
        }
       ],
       "ref": "e2593a5a-434c-4736-80fc-d996e1e6f13f",
       "rows": [
        [
         "530",
         "2166",
         "The Macallan Double Cask 12",
         "0.0",
         "750mL",
         "750",
         "1",
         "0.0",
         "2561",
         "EDRINGTON AMERICAS         ",
         "2025-05-27 18:54:32"
        ]
       ],
       "shape": {
        "columns": 10,
        "rows": 1
       }
      },
      "text/html": [
       "<div>\n",
       "<style scoped>\n",
       "    .dataframe tbody tr th:only-of-type {\n",
       "        vertical-align: middle;\n",
       "    }\n",
       "\n",
       "    .dataframe tbody tr th {\n",
       "        vertical-align: top;\n",
       "    }\n",
       "\n",
       "    .dataframe thead th {\n",
       "        text-align: right;\n",
       "    }\n",
       "</style>\n",
       "<table border=\"1\" class=\"dataframe\">\n",
       "  <thead>\n",
       "    <tr style=\"text-align: right;\">\n",
       "      <th></th>\n",
       "      <th>Brand</th>\n",
       "      <th>Description</th>\n",
       "      <th>Price</th>\n",
       "      <th>Size</th>\n",
       "      <th>Volume</th>\n",
       "      <th>Classification</th>\n",
       "      <th>PurchasePrice</th>\n",
       "      <th>VendorNumber</th>\n",
       "      <th>VendorName</th>\n",
       "      <th>fecha_actualizacion</th>\n",
       "    </tr>\n",
       "  </thead>\n",
       "  <tbody>\n",
       "    <tr>\n",
       "      <th>530</th>\n",
       "      <td>2166</td>\n",
       "      <td>The Macallan Double Cask 12</td>\n",
       "      <td>0.0</td>\n",
       "      <td>750mL</td>\n",
       "      <td>750</td>\n",
       "      <td>1</td>\n",
       "      <td>0.0</td>\n",
       "      <td>2561</td>\n",
       "      <td>EDRINGTON AMERICAS</td>\n",
       "      <td>2025-05-27 18:54:32</td>\n",
       "    </tr>\n",
       "  </tbody>\n",
       "</table>\n",
       "</div>"
      ],
      "text/plain": [
       "     Brand                  Description  Price   Size  Volume  Classification  \\\n",
       "530   2166  The Macallan Double Cask 12    0.0  750mL     750               1   \n",
       "\n",
       "     PurchasePrice  VendorNumber                   VendorName  \\\n",
       "530            0.0          2561  EDRINGTON AMERICAS            \n",
       "\n",
       "    fecha_actualizacion  \n",
       "530 2025-05-27 18:54:32  "
      ]
     },
     "execution_count": 31,
     "metadata": {},
     "output_type": "execute_result"
    }
   ],
   "source": [
    "df1[(df1['Price'].isnull()) | (df1['Price'] == 0)]"
   ]
  },
  {
   "cell_type": "markdown",
   "id": "6424a817",
   "metadata": {},
   "source": [
    "Elimino las filas con precio igual a 0"
   ]
  },
  {
   "cell_type": "code",
   "execution_count": 32,
   "id": "a9570481",
   "metadata": {},
   "outputs": [],
   "source": [
    "df1 = df1.drop(df1[df1['Price'] == 0].index)"
   ]
  },
  {
   "cell_type": "code",
   "execution_count": 33,
   "id": "33353fad",
   "metadata": {},
   "outputs": [
    {
     "name": "stdout",
     "output_type": "stream",
     "text": [
      "<class 'pandas.core.series.Series'>\n",
      "Index: 6129 entries, 0 to 6133\n",
      "Series name: Volume\n",
      "Non-Null Count  Dtype\n",
      "--------------  -----\n",
      "6129 non-null   int64\n",
      "dtypes: int64(1)\n",
      "memory usage: 95.8 KB\n",
      "None\n",
      "50\n",
      "18000\n"
     ]
    }
   ],
   "source": [
    "print(df1['Volume'].info())\n",
    "print(df1['Volume'].min())\n",
    "print(df1['Volume'].max())"
   ]
  },
  {
   "cell_type": "code",
   "execution_count": 34,
   "id": "4035ad59",
   "metadata": {},
   "outputs": [
    {
     "data": {
      "application/vnd.microsoft.datawrangler.viewer.v0+json": {
       "columns": [
        {
         "name": "index",
         "rawType": "object",
         "type": "string"
        },
        {
         "name": "0",
         "rawType": "int64",
         "type": "integer"
        }
       ],
       "ref": "9057254f-3ebb-4089-8cdb-ab07321aecdf",
       "rows": [
        [
         "Description",
         "0"
        ],
        [
         "Size",
         "0"
        ],
        [
         "VendorName",
         "0"
        ]
       ],
       "shape": {
        "columns": 1,
        "rows": 3
       }
      },
      "text/plain": [
       "Description    0\n",
       "Size           0\n",
       "VendorName     0\n",
       "dtype: int64"
      ]
     },
     "execution_count": 34,
     "metadata": {},
     "output_type": "execute_result"
    }
   ],
   "source": [
    "# Seleccionar columnas de tipo string / objeto\n",
    "text_cols = df1.select_dtypes(include='object').columns\n",
    "\n",
    "# Filtro la cantidad de datos que tienen valores null o vacios\n",
    "df1[text_cols].isnull().sum() + (df1[text_cols] == \"\").sum()"
   ]
  },
  {
   "cell_type": "code",
   "execution_count": 35,
   "id": "26a79ff6",
   "metadata": {},
   "outputs": [],
   "source": [
    "def remove_whitespace(df1,*columns):\n",
    "    for column in columns:\n",
    "        df1[column]=df1[column].str.strip()\n",
    "    return df1\n",
    "\n",
    "df1=remove_whitespace(df1,'Description','VendorName')"
   ]
  },
  {
   "cell_type": "code",
   "execution_count": 36,
   "id": "660edcff",
   "metadata": {},
   "outputs": [],
   "source": [
    "#Ya hicimos toda la limpieza, guardamos\n",
    "df1.to_csv('PurchasePricesDec2017_Modificado.csv', index=False)"
   ]
  },
  {
   "cell_type": "markdown",
   "id": "00a382de",
   "metadata": {},
   "source": [
    "## Aca finaliza la limpieza de PurchasePricesDec2017\n",
    "## Aca inicia la limpieza de PurchaseFINAL12312016\n"
   ]
  },
  {
   "cell_type": "markdown",
   "id": "26d27cf7",
   "metadata": {},
   "source": [
    "Cargo la segunda tabla:"
   ]
  },
  {
   "cell_type": "code",
   "execution_count": 136,
   "id": "2fdefaba",
   "metadata": {},
   "outputs": [],
   "source": [
    "df2 = pd.read_sql_table(\"PurchasesFINAL12312016\", con=engine)"
   ]
  },
  {
   "cell_type": "code",
   "execution_count": 137,
   "id": "18ea1d88",
   "metadata": {},
   "outputs": [
    {
     "data": {
      "application/vnd.microsoft.datawrangler.viewer.v0+json": {
       "columns": [
        {
         "name": "index",
         "rawType": "int64",
         "type": "integer"
        },
        {
         "name": "InventoryId",
         "rawType": "object",
         "type": "string"
        },
        {
         "name": "Store",
         "rawType": "int64",
         "type": "integer"
        },
        {
         "name": "Brand",
         "rawType": "int64",
         "type": "integer"
        },
        {
         "name": "Description",
         "rawType": "object",
         "type": "string"
        },
        {
         "name": "Size",
         "rawType": "object",
         "type": "string"
        },
        {
         "name": "VendorNumber",
         "rawType": "int64",
         "type": "integer"
        },
        {
         "name": "VendorName",
         "rawType": "object",
         "type": "string"
        },
        {
         "name": "PONumber",
         "rawType": "int64",
         "type": "integer"
        },
        {
         "name": "PODate",
         "rawType": "datetime64[ns]",
         "type": "datetime"
        },
        {
         "name": "ReceivingDate",
         "rawType": "datetime64[ns]",
         "type": "datetime"
        },
        {
         "name": "InvoiceDate",
         "rawType": "datetime64[ns]",
         "type": "datetime"
        },
        {
         "name": "PayDate",
         "rawType": "datetime64[ns]",
         "type": "datetime"
        },
        {
         "name": "PurchasePrice",
         "rawType": "float64",
         "type": "float"
        },
        {
         "name": "Quantity",
         "rawType": "int64",
         "type": "integer"
        },
        {
         "name": "Dollars",
         "rawType": "float64",
         "type": "float"
        },
        {
         "name": "Classification",
         "rawType": "int64",
         "type": "integer"
        },
        {
         "name": "fecha_actualizacion",
         "rawType": "datetime64[ns]",
         "type": "datetime"
        }
       ],
       "ref": "41d20c51-4bb9-4462-ab4c-e86e3446d3ca",
       "rows": [
        [
         "0",
         "InventoryId",
         "0",
         "0",
         "Description",
         "Size",
         "0",
         "VendorName",
         "0",
         null,
         null,
         null,
         null,
         "0.0",
         "0",
         "0.0",
         "0",
         "2025-05-27 18:54:37"
        ],
        [
         "1",
         "30_CULCHETH_5255",
         "30",
         "5255",
         "TGI Fridays Ultimte Mudslide",
         "1.75L",
         "4466",
         "AMERICAN VINTAGE BEVERAGE  ",
         "8137",
         "2015-12-22 00:00:00",
         "2016-01-01 00:00:00",
         "2016-01-07 00:00:00",
         "2016-02-21 00:00:00",
         "9.35",
         "4",
         "37.4",
         "1",
         "2025-05-27 18:54:37"
        ],
        [
         "2",
         "34_PITMERDEN_5215",
         "34",
         "5215",
         "TGI Fridays Long Island Iced",
         "1.75L",
         "4466",
         "AMERICAN VINTAGE BEVERAGE  ",
         "8137",
         "2015-12-22 00:00:00",
         "2016-01-02 00:00:00",
         "2016-01-07 00:00:00",
         "2016-02-21 00:00:00",
         "9.41",
         "5",
         "47.05",
         "1",
         "2025-05-27 18:54:37"
        ],
        [
         "3",
         "1_HARDERSFIELD_5255",
         "1",
         "5255",
         "TGI Fridays Ultimte Mudslide",
         "1.75L",
         "4466",
         "AMERICAN VINTAGE BEVERAGE  ",
         "8137",
         "2015-12-22 00:00:00",
         "2016-01-01 00:00:00",
         "2016-01-07 00:00:00",
         "2016-02-21 00:00:00",
         "9.35",
         "6",
         "56.1",
         "1",
         "2025-05-27 18:54:37"
        ],
        [
         "4",
         "76_DONCASTER_2034",
         "76",
         "2034",
         "Glendalough Double Barrel",
         "750mL",
         "388",
         "ATLANTIC IMPORTING COMPANY ",
         "8169",
         "2015-12-24 00:00:00",
         "2016-01-02 00:00:00",
         "2016-01-09 00:00:00",
         "2016-02-16 00:00:00",
         "21.32",
         "5",
         "106.6",
         "1",
         "2025-05-27 18:54:37"
        ]
       ],
       "shape": {
        "columns": 17,
        "rows": 5
       }
      },
      "text/html": [
       "<div>\n",
       "<style scoped>\n",
       "    .dataframe tbody tr th:only-of-type {\n",
       "        vertical-align: middle;\n",
       "    }\n",
       "\n",
       "    .dataframe tbody tr th {\n",
       "        vertical-align: top;\n",
       "    }\n",
       "\n",
       "    .dataframe thead th {\n",
       "        text-align: right;\n",
       "    }\n",
       "</style>\n",
       "<table border=\"1\" class=\"dataframe\">\n",
       "  <thead>\n",
       "    <tr style=\"text-align: right;\">\n",
       "      <th></th>\n",
       "      <th>InventoryId</th>\n",
       "      <th>Store</th>\n",
       "      <th>Brand</th>\n",
       "      <th>Description</th>\n",
       "      <th>Size</th>\n",
       "      <th>VendorNumber</th>\n",
       "      <th>VendorName</th>\n",
       "      <th>PONumber</th>\n",
       "      <th>PODate</th>\n",
       "      <th>ReceivingDate</th>\n",
       "      <th>InvoiceDate</th>\n",
       "      <th>PayDate</th>\n",
       "      <th>PurchasePrice</th>\n",
       "      <th>Quantity</th>\n",
       "      <th>Dollars</th>\n",
       "      <th>Classification</th>\n",
       "      <th>fecha_actualizacion</th>\n",
       "    </tr>\n",
       "  </thead>\n",
       "  <tbody>\n",
       "    <tr>\n",
       "      <th>0</th>\n",
       "      <td>InventoryId</td>\n",
       "      <td>0</td>\n",
       "      <td>0</td>\n",
       "      <td>Description</td>\n",
       "      <td>Size</td>\n",
       "      <td>0</td>\n",
       "      <td>VendorName</td>\n",
       "      <td>0</td>\n",
       "      <td>NaT</td>\n",
       "      <td>NaT</td>\n",
       "      <td>NaT</td>\n",
       "      <td>NaT</td>\n",
       "      <td>0.00</td>\n",
       "      <td>0</td>\n",
       "      <td>0.00</td>\n",
       "      <td>0</td>\n",
       "      <td>2025-05-27 18:54:37</td>\n",
       "    </tr>\n",
       "    <tr>\n",
       "      <th>1</th>\n",
       "      <td>30_CULCHETH_5255</td>\n",
       "      <td>30</td>\n",
       "      <td>5255</td>\n",
       "      <td>TGI Fridays Ultimte Mudslide</td>\n",
       "      <td>1.75L</td>\n",
       "      <td>4466</td>\n",
       "      <td>AMERICAN VINTAGE BEVERAGE</td>\n",
       "      <td>8137</td>\n",
       "      <td>2015-12-22</td>\n",
       "      <td>2016-01-01</td>\n",
       "      <td>2016-01-07</td>\n",
       "      <td>2016-02-21</td>\n",
       "      <td>9.35</td>\n",
       "      <td>4</td>\n",
       "      <td>37.40</td>\n",
       "      <td>1</td>\n",
       "      <td>2025-05-27 18:54:37</td>\n",
       "    </tr>\n",
       "    <tr>\n",
       "      <th>2</th>\n",
       "      <td>34_PITMERDEN_5215</td>\n",
       "      <td>34</td>\n",
       "      <td>5215</td>\n",
       "      <td>TGI Fridays Long Island Iced</td>\n",
       "      <td>1.75L</td>\n",
       "      <td>4466</td>\n",
       "      <td>AMERICAN VINTAGE BEVERAGE</td>\n",
       "      <td>8137</td>\n",
       "      <td>2015-12-22</td>\n",
       "      <td>2016-01-02</td>\n",
       "      <td>2016-01-07</td>\n",
       "      <td>2016-02-21</td>\n",
       "      <td>9.41</td>\n",
       "      <td>5</td>\n",
       "      <td>47.05</td>\n",
       "      <td>1</td>\n",
       "      <td>2025-05-27 18:54:37</td>\n",
       "    </tr>\n",
       "    <tr>\n",
       "      <th>3</th>\n",
       "      <td>1_HARDERSFIELD_5255</td>\n",
       "      <td>1</td>\n",
       "      <td>5255</td>\n",
       "      <td>TGI Fridays Ultimte Mudslide</td>\n",
       "      <td>1.75L</td>\n",
       "      <td>4466</td>\n",
       "      <td>AMERICAN VINTAGE BEVERAGE</td>\n",
       "      <td>8137</td>\n",
       "      <td>2015-12-22</td>\n",
       "      <td>2016-01-01</td>\n",
       "      <td>2016-01-07</td>\n",
       "      <td>2016-02-21</td>\n",
       "      <td>9.35</td>\n",
       "      <td>6</td>\n",
       "      <td>56.10</td>\n",
       "      <td>1</td>\n",
       "      <td>2025-05-27 18:54:37</td>\n",
       "    </tr>\n",
       "    <tr>\n",
       "      <th>4</th>\n",
       "      <td>76_DONCASTER_2034</td>\n",
       "      <td>76</td>\n",
       "      <td>2034</td>\n",
       "      <td>Glendalough Double Barrel</td>\n",
       "      <td>750mL</td>\n",
       "      <td>388</td>\n",
       "      <td>ATLANTIC IMPORTING COMPANY</td>\n",
       "      <td>8169</td>\n",
       "      <td>2015-12-24</td>\n",
       "      <td>2016-01-02</td>\n",
       "      <td>2016-01-09</td>\n",
       "      <td>2016-02-16</td>\n",
       "      <td>21.32</td>\n",
       "      <td>5</td>\n",
       "      <td>106.60</td>\n",
       "      <td>1</td>\n",
       "      <td>2025-05-27 18:54:37</td>\n",
       "    </tr>\n",
       "  </tbody>\n",
       "</table>\n",
       "</div>"
      ],
      "text/plain": [
       "           InventoryId  Store  Brand                   Description   Size  \\\n",
       "0          InventoryId      0      0                   Description   Size   \n",
       "1     30_CULCHETH_5255     30   5255  TGI Fridays Ultimte Mudslide  1.75L   \n",
       "2    34_PITMERDEN_5215     34   5215  TGI Fridays Long Island Iced  1.75L   \n",
       "3  1_HARDERSFIELD_5255      1   5255  TGI Fridays Ultimte Mudslide  1.75L   \n",
       "4    76_DONCASTER_2034     76   2034     Glendalough Double Barrel  750mL   \n",
       "\n",
       "   VendorNumber                   VendorName  PONumber     PODate  \\\n",
       "0             0                   VendorName         0        NaT   \n",
       "1          4466  AMERICAN VINTAGE BEVERAGE        8137 2015-12-22   \n",
       "2          4466  AMERICAN VINTAGE BEVERAGE        8137 2015-12-22   \n",
       "3          4466  AMERICAN VINTAGE BEVERAGE        8137 2015-12-22   \n",
       "4           388  ATLANTIC IMPORTING COMPANY       8169 2015-12-24   \n",
       "\n",
       "  ReceivingDate InvoiceDate    PayDate  PurchasePrice  Quantity  Dollars  \\\n",
       "0           NaT         NaT        NaT           0.00         0     0.00   \n",
       "1    2016-01-01  2016-01-07 2016-02-21           9.35         4    37.40   \n",
       "2    2016-01-02  2016-01-07 2016-02-21           9.41         5    47.05   \n",
       "3    2016-01-01  2016-01-07 2016-02-21           9.35         6    56.10   \n",
       "4    2016-01-02  2016-01-09 2016-02-16          21.32         5   106.60   \n",
       "\n",
       "   Classification fecha_actualizacion  \n",
       "0               0 2025-05-27 18:54:37  \n",
       "1               1 2025-05-27 18:54:37  \n",
       "2               1 2025-05-27 18:54:37  \n",
       "3               1 2025-05-27 18:54:37  \n",
       "4               1 2025-05-27 18:54:37  "
      ]
     },
     "execution_count": 137,
     "metadata": {},
     "output_type": "execute_result"
    }
   ],
   "source": [
    "df2.head()"
   ]
  },
  {
   "cell_type": "code",
   "execution_count": 138,
   "id": "d7545a90",
   "metadata": {},
   "outputs": [
    {
     "data": {
      "text/plain": [
       "(2372474, 17)"
      ]
     },
     "execution_count": 138,
     "metadata": {},
     "output_type": "execute_result"
    }
   ],
   "source": [
    "np.shape(df2)"
   ]
  },
  {
   "cell_type": "markdown",
   "id": "2d49c1dd",
   "metadata": {},
   "source": [
    "Elimino la primer fila que tiene los encabezados"
   ]
  },
  {
   "cell_type": "code",
   "execution_count": 139,
   "id": "608893e4",
   "metadata": {},
   "outputs": [],
   "source": [
    "df2 = df2.drop(index=0).reset_index(drop=True)"
   ]
  },
  {
   "cell_type": "code",
   "execution_count": 140,
   "id": "0701bc5b",
   "metadata": {},
   "outputs": [
    {
     "data": {
      "text/plain": [
       "(2372473, 17)"
      ]
     },
     "execution_count": 140,
     "metadata": {},
     "output_type": "execute_result"
    }
   ],
   "source": [
    "np.shape(df2)"
   ]
  },
  {
   "cell_type": "code",
   "execution_count": 141,
   "id": "172eeb55",
   "metadata": {},
   "outputs": [
    {
     "name": "stdout",
     "output_type": "stream",
     "text": [
      "Index(['InventoryId', 'Store', 'Brand', 'Description', 'Size', 'VendorNumber',\n",
      "       'VendorName', 'PONumber', 'PODate', 'ReceivingDate', 'InvoiceDate',\n",
      "       'PayDate', 'PurchasePrice', 'Quantity', 'Dollars', 'Classification',\n",
      "       'fecha_actualizacion'],\n",
      "      dtype='object')\n"
     ]
    }
   ],
   "source": [
    "print(df2.columns)"
   ]
  },
  {
   "cell_type": "code",
   "execution_count": 142,
   "id": "fd240f65",
   "metadata": {},
   "outputs": [
    {
     "name": "stdout",
     "output_type": "stream",
     "text": [
      "<class 'pandas.core.frame.DataFrame'>\n",
      "RangeIndex: 2372473 entries, 0 to 2372472\n",
      "Data columns (total 17 columns):\n",
      " #   Column               Dtype         \n",
      "---  ------               -----         \n",
      " 0   InventoryId          object        \n",
      " 1   Store                int64         \n",
      " 2   Brand                int64         \n",
      " 3   Description          object        \n",
      " 4   Size                 object        \n",
      " 5   VendorNumber         int64         \n",
      " 6   VendorName           object        \n",
      " 7   PONumber             int64         \n",
      " 8   PODate               datetime64[ns]\n",
      " 9   ReceivingDate        datetime64[ns]\n",
      " 10  InvoiceDate          datetime64[ns]\n",
      " 11  PayDate              datetime64[ns]\n",
      " 12  PurchasePrice        float64       \n",
      " 13  Quantity             int64         \n",
      " 14  Dollars              float64       \n",
      " 15  Classification       int64         \n",
      " 16  fecha_actualizacion  datetime64[ns]\n",
      "dtypes: datetime64[ns](5), float64(2), int64(6), object(4)\n",
      "memory usage: 307.7+ MB\n",
      "None\n"
     ]
    }
   ],
   "source": [
    "print(df2.info())"
   ]
  },
  {
   "cell_type": "code",
   "execution_count": 143,
   "id": "c51d0622",
   "metadata": {},
   "outputs": [
    {
     "data": {
      "application/vnd.microsoft.datawrangler.viewer.v0+json": {
       "columns": [
        {
         "name": "index",
         "rawType": "object",
         "type": "string"
        },
        {
         "name": "0",
         "rawType": "int64",
         "type": "integer"
        }
       ],
       "ref": "09850360-e18c-48fe-a58b-420edd0ecec9",
       "rows": [
        [
         "InventoryId",
         "0"
        ],
        [
         "Store",
         "0"
        ],
        [
         "Brand",
         "0"
        ],
        [
         "Description",
         "0"
        ],
        [
         "Size",
         "0"
        ],
        [
         "VendorNumber",
         "0"
        ],
        [
         "VendorName",
         "0"
        ],
        [
         "PONumber",
         "0"
        ],
        [
         "PODate",
         "0"
        ],
        [
         "ReceivingDate",
         "0"
        ],
        [
         "InvoiceDate",
         "0"
        ],
        [
         "PayDate",
         "0"
        ],
        [
         "PurchasePrice",
         "0"
        ],
        [
         "Quantity",
         "0"
        ],
        [
         "Dollars",
         "0"
        ],
        [
         "Classification",
         "0"
        ],
        [
         "fecha_actualizacion",
         "0"
        ]
       ],
       "shape": {
        "columns": 1,
        "rows": 17
       }
      },
      "text/plain": [
       "InventoryId            0\n",
       "Store                  0\n",
       "Brand                  0\n",
       "Description            0\n",
       "Size                   0\n",
       "VendorNumber           0\n",
       "VendorName             0\n",
       "PONumber               0\n",
       "PODate                 0\n",
       "ReceivingDate          0\n",
       "InvoiceDate            0\n",
       "PayDate                0\n",
       "PurchasePrice          0\n",
       "Quantity               0\n",
       "Dollars                0\n",
       "Classification         0\n",
       "fecha_actualizacion    0\n",
       "dtype: int64"
      ]
     },
     "execution_count": 143,
     "metadata": {},
     "output_type": "execute_result"
    }
   ],
   "source": [
    "#df2.isnull().sum()\n",
    "df2.isna().sum()"
   ]
  },
  {
   "cell_type": "markdown",
   "id": "49b675ba",
   "metadata": {},
   "source": [
    "En principio no hay datos faltantes"
   ]
  },
  {
   "cell_type": "code",
   "execution_count": 144,
   "id": "caa92bef",
   "metadata": {},
   "outputs": [
    {
     "name": "stdout",
     "output_type": "stream",
     "text": [
      "Estadísticas para Store:\n",
      "  Media: 44.65\n",
      "  Mediana: 48.00\n",
      "  Desviación estándar: 23.51\n",
      "  Mínimo: 1.00\n",
      "  Máximo: 81.00\n",
      "----------------------------------------\n",
      "Estadísticas para Brand:\n",
      "  Media: 12418.64\n",
      "  Mediana: 6523.00\n",
      "  Desviación estándar: 12557.28\n",
      "  Mínimo: 58.00\n",
      "  Máximo: 90631.00\n",
      "----------------------------------------\n",
      "Estadísticas para VendorNumber:\n",
      "  Media: 6886.44\n",
      "  Mediana: 4425.00\n",
      "  Desviación estándar: 8066.69\n",
      "  Mínimo: 2.00\n",
      "  Máximo: 201359.00\n",
      "----------------------------------------\n",
      "Estadísticas para PONumber:\n",
      "  Media: 11040.94\n",
      "  Mediana: 11103.00\n",
      "  Desviación estándar: 1565.34\n",
      "  Mínimo: 8106.00\n",
      "  Máximo: 13661.00\n",
      "----------------------------------------\n",
      "Estadísticas para PurchasePrice:\n",
      "  Media: 12.05\n",
      "  Mediana: 9.22\n",
      "  Desviación estándar: 17.95\n",
      "  Mínimo: 0.00\n",
      "  Máximo: 5681.81\n",
      "----------------------------------------\n",
      "Estadísticas para Quantity:\n",
      "  Media: 14.16\n",
      "  Mediana: 10.00\n",
      "  Desviación estándar: 23.45\n",
      "  Mínimo: 1.00\n",
      "  Máximo: 3816.00\n",
      "----------------------------------------\n",
      "Estadísticas para Dollars:\n",
      "  Media: 135.68\n",
      "  Mediana: 83.93\n",
      "  Desviación estándar: 281.66\n",
      "  Mínimo: 0.00\n",
      "  Máximo: 50175.70\n",
      "----------------------------------------\n",
      "Estadísticas para Classification:\n",
      "  Media: 1.44\n",
      "  Mediana: 1.00\n",
      "  Desviación estándar: 0.50\n",
      "  Mínimo: 1.00\n",
      "  Máximo: 2.00\n",
      "----------------------------------------\n"
     ]
    }
   ],
   "source": [
    "columnas_numericas = df2.select_dtypes(include='number').columns\n",
    "\n",
    "for col in columnas_numericas:\n",
    "    print(f\"Estadísticas para {col}:\")\n",
    "    print(f\"  Media: {df2[col].mean():.2f}\")\n",
    "    print(f\"  Mediana: {df2[col].median():.2f}\")\n",
    "    print(f\"  Desviación estándar: {df2[col].std():.2f}\")\n",
    "    print(f\"  Mínimo: {df2[col].min():.2f}\")\n",
    "    print(f\"  Máximo: {df2[col].max():.2f}\")\n",
    "    print(\"-\" * 40)"
   ]
  },
  {
   "cell_type": "markdown",
   "id": "fcb2ea51",
   "metadata": {},
   "source": [
    "Vemos que PurchasePrice y Dollars tienen datos nulos, vemos cuantas filas tienen ese estado"
   ]
  },
  {
   "cell_type": "code",
   "execution_count": 145,
   "id": "e606bcd6",
   "metadata": {},
   "outputs": [
    {
     "data": {
      "application/vnd.microsoft.datawrangler.viewer.v0+json": {
       "columns": [
        {
         "name": "index",
         "rawType": "int64",
         "type": "integer"
        },
        {
         "name": "InventoryId",
         "rawType": "object",
         "type": "string"
        },
        {
         "name": "Store",
         "rawType": "int64",
         "type": "integer"
        },
        {
         "name": "Brand",
         "rawType": "int64",
         "type": "integer"
        },
        {
         "name": "Description",
         "rawType": "object",
         "type": "string"
        },
        {
         "name": "Size",
         "rawType": "object",
         "type": "string"
        },
        {
         "name": "VendorNumber",
         "rawType": "int64",
         "type": "integer"
        },
        {
         "name": "VendorName",
         "rawType": "object",
         "type": "string"
        },
        {
         "name": "PONumber",
         "rawType": "int64",
         "type": "integer"
        },
        {
         "name": "PODate",
         "rawType": "datetime64[ns]",
         "type": "datetime"
        },
        {
         "name": "ReceivingDate",
         "rawType": "datetime64[ns]",
         "type": "datetime"
        },
        {
         "name": "InvoiceDate",
         "rawType": "datetime64[ns]",
         "type": "datetime"
        },
        {
         "name": "PayDate",
         "rawType": "datetime64[ns]",
         "type": "datetime"
        },
        {
         "name": "PurchasePrice",
         "rawType": "float64",
         "type": "float"
        },
        {
         "name": "Quantity",
         "rawType": "int64",
         "type": "integer"
        },
        {
         "name": "Dollars",
         "rawType": "float64",
         "type": "float"
        },
        {
         "name": "Classification",
         "rawType": "int64",
         "type": "integer"
        },
        {
         "name": "fecha_actualizacion",
         "rawType": "datetime64[ns]",
         "type": "datetime"
        }
       ],
       "ref": "6c1cf6d2-9241-4cc2-88f3-dbd7a3054f89",
       "rows": [
        [
         "1369008",
         "59_CLAETHORPES_2166",
         "59",
         "2166",
         "The Macallan Double Cask 12",
         "750mL",
         "2561",
         "EDRINGTON AMERICAS         ",
         "11462",
         "2016-08-02 00:00:00",
         "2016-08-10 00:00:00",
         "2016-08-22 00:00:00",
         "2016-10-01 00:00:00",
         "0.0",
         "12",
         "0.0",
         "1",
         "2025-05-27 18:54:37"
        ],
        [
         "1369017",
         "38_GOULCREST_2166",
         "38",
         "2166",
         "The Macallan Double Cask 12",
         "750mL",
         "2561",
         "EDRINGTON AMERICAS         ",
         "11462",
         "2016-08-02 00:00:00",
         "2016-08-11 00:00:00",
         "2016-08-22 00:00:00",
         "2016-10-01 00:00:00",
         "0.0",
         "12",
         "0.0",
         "1",
         "2025-05-27 18:54:37"
        ],
        [
         "1369030",
         "34_PITMERDEN_2166",
         "34",
         "2166",
         "The Macallan Double Cask 12",
         "750mL",
         "2561",
         "EDRINGTON AMERICAS         ",
         "11462",
         "2016-08-02 00:00:00",
         "2016-08-09 00:00:00",
         "2016-08-22 00:00:00",
         "2016-10-01 00:00:00",
         "0.0",
         "12",
         "0.0",
         "1",
         "2025-05-27 18:54:37"
        ],
        [
         "1369031",
         "44_PORTHCRAWL_2166",
         "44",
         "2166",
         "The Macallan Double Cask 12",
         "750mL",
         "2561",
         "EDRINGTON AMERICAS         ",
         "11462",
         "2016-08-02 00:00:00",
         "2016-08-08 00:00:00",
         "2016-08-22 00:00:00",
         "2016-10-01 00:00:00",
         "0.0",
         "12",
         "0.0",
         "1",
         "2025-05-27 18:54:37"
        ],
        [
         "1369032",
         "56_BEGGAR'S HOLE_2166",
         "56",
         "2166",
         "The Macallan Double Cask 12",
         "750mL",
         "2561",
         "EDRINGTON AMERICAS         ",
         "11462",
         "2016-08-02 00:00:00",
         "2016-08-09 00:00:00",
         "2016-08-22 00:00:00",
         "2016-10-01 00:00:00",
         "0.0",
         "12",
         "0.0",
         "1",
         "2025-05-27 18:54:37"
        ],
        [
         "1369042",
         "66_EANVERNESS_2166",
         "66",
         "2166",
         "The Macallan Double Cask 12",
         "750mL",
         "2561",
         "EDRINGTON AMERICAS         ",
         "11462",
         "2016-08-02 00:00:00",
         "2016-08-10 00:00:00",
         "2016-08-22 00:00:00",
         "2016-10-01 00:00:00",
         "0.0",
         "12",
         "0.0",
         "1",
         "2025-05-27 18:54:37"
        ],
        [
         "1369044",
         "79_BALLYMENA_2166",
         "79",
         "2166",
         "The Macallan Double Cask 12",
         "750mL",
         "2561",
         "EDRINGTON AMERICAS         ",
         "11462",
         "2016-08-02 00:00:00",
         "2016-08-09 00:00:00",
         "2016-08-22 00:00:00",
         "2016-10-01 00:00:00",
         "0.0",
         "12",
         "0.0",
         "1",
         "2025-05-27 18:54:37"
        ],
        [
         "1369057",
         "73_DONCASTER_2166",
         "73",
         "2166",
         "The Macallan Double Cask 12",
         "750mL",
         "2561",
         "EDRINGTON AMERICAS         ",
         "11462",
         "2016-08-02 00:00:00",
         "2016-08-10 00:00:00",
         "2016-08-22 00:00:00",
         "2016-10-01 00:00:00",
         "0.0",
         "12",
         "0.0",
         "1",
         "2025-05-27 18:54:37"
        ],
        [
         "1369059",
         "1_HARDERSFIELD_2166",
         "1",
         "2166",
         "The Macallan Double Cask 12",
         "750mL",
         "2561",
         "EDRINGTON AMERICAS         ",
         "11462",
         "2016-08-02 00:00:00",
         "2016-08-09 00:00:00",
         "2016-08-22 00:00:00",
         "2016-10-01 00:00:00",
         "0.0",
         "12",
         "0.0",
         "1",
         "2025-05-27 18:54:37"
        ],
        [
         "1369062",
         "41_LARNWICK_2166",
         "41",
         "2166",
         "The Macallan Double Cask 12",
         "750mL",
         "2561",
         "EDRINGTON AMERICAS         ",
         "11462",
         "2016-08-02 00:00:00",
         "2016-08-09 00:00:00",
         "2016-08-22 00:00:00",
         "2016-10-01 00:00:00",
         "0.0",
         "12",
         "0.0",
         "1",
         "2025-05-27 18:54:37"
        ],
        [
         "1369068",
         "4_EANVERNESS_2166",
         "4",
         "2166",
         "The Macallan Double Cask 12",
         "750mL",
         "2561",
         "EDRINGTON AMERICAS         ",
         "11462",
         "2016-08-02 00:00:00",
         "2016-08-08 00:00:00",
         "2016-08-22 00:00:00",
         "2016-10-01 00:00:00",
         "0.0",
         "12",
         "0.0",
         "1",
         "2025-05-27 18:54:37"
        ],
        [
         "1369077",
         "67_EANVERNESS_2166",
         "67",
         "2166",
         "The Macallan Double Cask 12",
         "750mL",
         "2561",
         "EDRINGTON AMERICAS         ",
         "11462",
         "2016-08-02 00:00:00",
         "2016-08-09 00:00:00",
         "2016-08-22 00:00:00",
         "2016-10-01 00:00:00",
         "0.0",
         "12",
         "0.0",
         "1",
         "2025-05-27 18:54:37"
        ],
        [
         "1369088",
         "54_GUTHRAM_2166",
         "54",
         "2166",
         "The Macallan Double Cask 12",
         "750mL",
         "2561",
         "EDRINGTON AMERICAS         ",
         "11462",
         "2016-08-02 00:00:00",
         "2016-08-09 00:00:00",
         "2016-08-22 00:00:00",
         "2016-10-01 00:00:00",
         "0.0",
         "12",
         "0.0",
         "1",
         "2025-05-27 18:54:37"
        ],
        [
         "1369091",
         "60_IRRAGIN_2166",
         "60",
         "2166",
         "The Macallan Double Cask 12",
         "750mL",
         "2561",
         "EDRINGTON AMERICAS         ",
         "11462",
         "2016-08-02 00:00:00",
         "2016-08-09 00:00:00",
         "2016-08-22 00:00:00",
         "2016-10-01 00:00:00",
         "0.0",
         "12",
         "0.0",
         "1",
         "2025-05-27 18:54:37"
        ],
        [
         "1369096",
         "68_SOLARIS_2166",
         "68",
         "2166",
         "The Macallan Double Cask 12",
         "750mL",
         "2561",
         "EDRINGTON AMERICAS         ",
         "11462",
         "2016-08-02 00:00:00",
         "2016-08-08 00:00:00",
         "2016-08-22 00:00:00",
         "2016-10-01 00:00:00",
         "0.0",
         "12",
         "0.0",
         "1",
         "2025-05-27 18:54:37"
        ],
        [
         "1369103",
         "7_STANMORE_2166",
         "7",
         "2166",
         "The Macallan Double Cask 12",
         "750mL",
         "2561",
         "EDRINGTON AMERICAS         ",
         "11462",
         "2016-08-02 00:00:00",
         "2016-08-09 00:00:00",
         "2016-08-22 00:00:00",
         "2016-10-01 00:00:00",
         "0.0",
         "12",
         "0.0",
         "1",
         "2025-05-27 18:54:37"
        ],
        [
         "1369105",
         "30_CULCHETH_2166",
         "30",
         "2166",
         "The Macallan Double Cask 12",
         "750mL",
         "2561",
         "EDRINGTON AMERICAS         ",
         "11462",
         "2016-08-02 00:00:00",
         "2016-08-08 00:00:00",
         "2016-08-22 00:00:00",
         "2016-10-01 00:00:00",
         "0.0",
         "12",
         "0.0",
         "1",
         "2025-05-27 18:54:37"
        ],
        [
         "1369124",
         "77_TAMWORTH_2166",
         "77",
         "2166",
         "The Macallan Double Cask 12",
         "750mL",
         "2561",
         "EDRINGTON AMERICAS         ",
         "11462",
         "2016-08-02 00:00:00",
         "2016-08-09 00:00:00",
         "2016-08-22 00:00:00",
         "2016-10-01 00:00:00",
         "0.0",
         "12",
         "0.0",
         "1",
         "2025-05-27 18:54:37"
        ],
        [
         "1369131",
         "76_DONCASTER_2166",
         "76",
         "2166",
         "The Macallan Double Cask 12",
         "750mL",
         "2561",
         "EDRINGTON AMERICAS         ",
         "11462",
         "2016-08-02 00:00:00",
         "2016-08-11 00:00:00",
         "2016-08-22 00:00:00",
         "2016-10-01 00:00:00",
         "0.0",
         "12",
         "0.0",
         "1",
         "2025-05-27 18:54:37"
        ],
        [
         "1369135",
         "74_PAENTMARWY_2166",
         "74",
         "2166",
         "The Macallan Double Cask 12",
         "750mL",
         "2561",
         "EDRINGTON AMERICAS         ",
         "11462",
         "2016-08-02 00:00:00",
         "2016-08-10 00:00:00",
         "2016-08-22 00:00:00",
         "2016-10-01 00:00:00",
         "0.0",
         "12",
         "0.0",
         "1",
         "2025-05-27 18:54:37"
        ],
        [
         "1369137",
         "32_MOUNTMEND_2166",
         "32",
         "2166",
         "The Macallan Double Cask 12",
         "750mL",
         "2561",
         "EDRINGTON AMERICAS         ",
         "11462",
         "2016-08-02 00:00:00",
         "2016-08-09 00:00:00",
         "2016-08-22 00:00:00",
         "2016-10-01 00:00:00",
         "0.0",
         "12",
         "0.0",
         "1",
         "2025-05-27 18:54:37"
        ],
        [
         "1369139",
         "48_NORFOLK_2166",
         "48",
         "2166",
         "The Macallan Double Cask 12",
         "750mL",
         "2561",
         "EDRINGTON AMERICAS         ",
         "11462",
         "2016-08-02 00:00:00",
         "2016-08-08 00:00:00",
         "2016-08-22 00:00:00",
         "2016-10-01 00:00:00",
         "0.0",
         "12",
         "0.0",
         "1",
         "2025-05-27 18:54:37"
        ],
        [
         "1369148",
         "2_ASHBORNE_2166",
         "2",
         "2166",
         "The Macallan Double Cask 12",
         "750mL",
         "2561",
         "EDRINGTON AMERICAS         ",
         "11462",
         "2016-08-02 00:00:00",
         "2016-08-08 00:00:00",
         "2016-08-22 00:00:00",
         "2016-10-01 00:00:00",
         "0.0",
         "12",
         "0.0",
         "1",
         "2025-05-27 18:54:37"
        ],
        [
         "1369151",
         "61_AETHELNEY_2166",
         "61",
         "2166",
         "The Macallan Double Cask 12",
         "750mL",
         "2561",
         "EDRINGTON AMERICAS         ",
         "11462",
         "2016-08-02 00:00:00",
         "2016-08-10 00:00:00",
         "2016-08-22 00:00:00",
         "2016-10-01 00:00:00",
         "0.0",
         "12",
         "0.0",
         "1",
         "2025-05-27 18:54:37"
        ],
        [
         "1369157",
         "49_GARIGILL_2166",
         "49",
         "2166",
         "The Macallan Double Cask 12",
         "750mL",
         "2561",
         "EDRINGTON AMERICAS         ",
         "11462",
         "2016-08-02 00:00:00",
         "2016-08-09 00:00:00",
         "2016-08-22 00:00:00",
         "2016-10-01 00:00:00",
         "0.0",
         "12",
         "0.0",
         "1",
         "2025-05-27 18:54:37"
        ],
        [
         "1369161",
         "6_GOULCREST_2166",
         "6",
         "2166",
         "The Macallan Double Cask 12",
         "750mL",
         "2561",
         "EDRINGTON AMERICAS         ",
         "11462",
         "2016-08-02 00:00:00",
         "2016-08-09 00:00:00",
         "2016-08-22 00:00:00",
         "2016-10-01 00:00:00",
         "0.0",
         "12",
         "0.0",
         "1",
         "2025-05-27 18:54:37"
        ],
        [
         "1369165",
         "21_BALERNO_2166",
         "21",
         "2166",
         "The Macallan Double Cask 12",
         "750mL",
         "2561",
         "EDRINGTON AMERICAS         ",
         "11462",
         "2016-08-02 00:00:00",
         "2016-08-09 00:00:00",
         "2016-08-22 00:00:00",
         "2016-10-01 00:00:00",
         "0.0",
         "12",
         "0.0",
         "1",
         "2025-05-27 18:54:37"
        ],
        [
         "1369170",
         "14_BROMWICH_2166",
         "14",
         "2166",
         "The Macallan Double Cask 12",
         "750mL",
         "2561",
         "EDRINGTON AMERICAS         ",
         "11462",
         "2016-08-02 00:00:00",
         "2016-08-08 00:00:00",
         "2016-08-22 00:00:00",
         "2016-10-01 00:00:00",
         "0.0",
         "12",
         "0.0",
         "1",
         "2025-05-27 18:54:37"
        ],
        [
         "1369177",
         "50_MOUNTMEND_2166",
         "50",
         "2166",
         "The Macallan Double Cask 12",
         "750mL",
         "2561",
         "EDRINGTON AMERICAS         ",
         "11462",
         "2016-08-02 00:00:00",
         "2016-08-09 00:00:00",
         "2016-08-22 00:00:00",
         "2016-10-01 00:00:00",
         "0.0",
         "12",
         "0.0",
         "1",
         "2025-05-27 18:54:37"
        ],
        [
         "1369182",
         "55_DRY GULCH_2166",
         "55",
         "2166",
         "The Macallan Double Cask 12",
         "750mL",
         "2561",
         "EDRINGTON AMERICAS         ",
         "11462",
         "2016-08-02 00:00:00",
         "2016-08-09 00:00:00",
         "2016-08-22 00:00:00",
         "2016-10-01 00:00:00",
         "0.0",
         "12",
         "0.0",
         "1",
         "2025-05-27 18:54:37"
        ],
        [
         "1369188",
         "15_WANBORNE_2166",
         "15",
         "2166",
         "The Macallan Double Cask 12",
         "750mL",
         "2561",
         "EDRINGTON AMERICAS         ",
         "11462",
         "2016-08-02 00:00:00",
         "2016-08-11 00:00:00",
         "2016-08-22 00:00:00",
         "2016-10-01 00:00:00",
         "0.0",
         "12",
         "0.0",
         "1",
         "2025-05-27 18:54:37"
        ],
        [
         "1369194",
         "23_ARBINGTON_2166",
         "23",
         "2166",
         "The Macallan Double Cask 12",
         "750mL",
         "2561",
         "EDRINGTON AMERICAS         ",
         "11462",
         "2016-08-02 00:00:00",
         "2016-08-09 00:00:00",
         "2016-08-22 00:00:00",
         "2016-10-01 00:00:00",
         "0.0",
         "12",
         "0.0",
         "1",
         "2025-05-27 18:54:37"
        ],
        [
         "1369195",
         "10_HORNSEY_2166",
         "10",
         "2166",
         "The Macallan Double Cask 12",
         "750mL",
         "2561",
         "EDRINGTON AMERICAS         ",
         "11462",
         "2016-08-02 00:00:00",
         "2016-08-12 00:00:00",
         "2016-08-22 00:00:00",
         "2016-10-01 00:00:00",
         "0.0",
         "12",
         "0.0",
         "1",
         "2025-05-27 18:54:37"
        ],
        [
         "1369196",
         "69_MOUNTMEND_2166",
         "69",
         "2166",
         "The Macallan Double Cask 12",
         "750mL",
         "2561",
         "EDRINGTON AMERICAS         ",
         "11462",
         "2016-08-02 00:00:00",
         "2016-08-11 00:00:00",
         "2016-08-22 00:00:00",
         "2016-10-01 00:00:00",
         "0.0",
         "12",
         "0.0",
         "1",
         "2025-05-27 18:54:37"
        ],
        [
         "1369201",
         "33_HORNSEY_2166",
         "33",
         "2166",
         "The Macallan Double Cask 12",
         "750mL",
         "2561",
         "EDRINGTON AMERICAS         ",
         "11462",
         "2016-08-02 00:00:00",
         "2016-08-08 00:00:00",
         "2016-08-22 00:00:00",
         "2016-10-01 00:00:00",
         "0.0",
         "12",
         "0.0",
         "1",
         "2025-05-27 18:54:37"
        ],
        [
         "1419362",
         "23_ARBINGTON_2166",
         "23",
         "2166",
         "The Macallan Double Cask 12",
         "750mL",
         "2561",
         "EDRINGTON AMERICAS         ",
         "11548",
         "2016-08-08 00:00:00",
         "2016-08-16 00:00:00",
         "2016-08-25 00:00:00",
         "2016-09-24 00:00:00",
         "0.0",
         "24",
         "0.0",
         "1",
         "2025-05-27 18:54:37"
        ],
        [
         "1471731",
         "76_DONCASTER_2166",
         "76",
         "2166",
         "The Macallan Double Cask 12",
         "750mL",
         "2561",
         "EDRINGTON AMERICAS         ",
         "11689",
         "2016-08-17 00:00:00",
         "2016-08-22 00:00:00",
         "2016-09-01 00:00:00",
         "2016-10-07 00:00:00",
         "0.0",
         "12",
         "0.0",
         "1",
         "2025-05-27 18:54:37"
        ],
        [
         "1471735",
         "73_DONCASTER_2166",
         "73",
         "2166",
         "The Macallan Double Cask 12",
         "750mL",
         "2561",
         "EDRINGTON AMERICAS         ",
         "11689",
         "2016-08-17 00:00:00",
         "2016-08-22 00:00:00",
         "2016-09-01 00:00:00",
         "2016-10-07 00:00:00",
         "0.0",
         "12",
         "0.0",
         "1",
         "2025-05-27 18:54:37"
        ],
        [
         "1520028",
         "67_EANVERNESS_2166",
         "67",
         "2166",
         "The Macallan Double Cask 12",
         "750mL",
         "2561",
         "EDRINGTON AMERICAS         ",
         "11752",
         "2016-08-22 00:00:00",
         "2016-08-30 00:00:00",
         "2016-09-12 00:00:00",
         "2016-10-06 00:00:00",
         "0.0",
         "12",
         "0.0",
         "1",
         "2025-05-27 18:54:37"
        ],
        [
         "1520035",
         "76_DONCASTER_2166",
         "76",
         "2166",
         "The Macallan Double Cask 12",
         "750mL",
         "2561",
         "EDRINGTON AMERICAS         ",
         "11752",
         "2016-08-22 00:00:00",
         "2016-08-31 00:00:00",
         "2016-09-12 00:00:00",
         "2016-10-06 00:00:00",
         "0.0",
         "12",
         "0.0",
         "1",
         "2025-05-27 18:54:37"
        ],
        [
         "1520049",
         "81_PEMBROKE_2166",
         "81",
         "2166",
         "The Macallan Double Cask 12",
         "750mL",
         "2561",
         "EDRINGTON AMERICAS         ",
         "11752",
         "2016-08-22 00:00:00",
         "2016-08-30 00:00:00",
         "2016-09-12 00:00:00",
         "2016-10-06 00:00:00",
         "0.0",
         "12",
         "0.0",
         "1",
         "2025-05-27 18:54:37"
        ],
        [
         "1520108",
         "38_GOULCREST_2166",
         "38",
         "2166",
         "The Macallan Double Cask 12",
         "750mL",
         "2561",
         "EDRINGTON AMERICAS         ",
         "11752",
         "2016-08-22 00:00:00",
         "2016-08-30 00:00:00",
         "2016-09-12 00:00:00",
         "2016-10-06 00:00:00",
         "0.0",
         "11",
         "0.0",
         "1",
         "2025-05-27 18:54:37"
        ],
        [
         "1520118",
         "73_DONCASTER_2166",
         "73",
         "2166",
         "The Macallan Double Cask 12",
         "750mL",
         "2561",
         "EDRINGTON AMERICAS         ",
         "11752",
         "2016-08-22 00:00:00",
         "2016-09-01 00:00:00",
         "2016-09-12 00:00:00",
         "2016-10-06 00:00:00",
         "0.0",
         "11",
         "0.0",
         "1",
         "2025-05-27 18:54:37"
        ],
        [
         "1570793",
         "38_GOULCREST_2166",
         "38",
         "2166",
         "The Macallan Double Cask 12",
         "750mL",
         "2561",
         "EDRINGTON AMERICAS         ",
         "11862",
         "2016-08-30 00:00:00",
         "2016-09-06 00:00:00",
         "2016-09-15 00:00:00",
         "2016-10-26 00:00:00",
         "0.0",
         "11",
         "0.0",
         "1",
         "2025-05-27 18:54:37"
        ],
        [
         "1570821",
         "73_DONCASTER_2166",
         "73",
         "2166",
         "The Macallan Double Cask 12",
         "750mL",
         "2561",
         "EDRINGTON AMERICAS         ",
         "11862",
         "2016-08-30 00:00:00",
         "2016-09-08 00:00:00",
         "2016-09-15 00:00:00",
         "2016-10-26 00:00:00",
         "0.0",
         "9",
         "0.0",
         "1",
         "2025-05-27 18:54:37"
        ],
        [
         "1570835",
         "66_EANVERNESS_2166",
         "66",
         "2166",
         "The Macallan Double Cask 12",
         "750mL",
         "2561",
         "EDRINGTON AMERICAS         ",
         "11862",
         "2016-08-30 00:00:00",
         "2016-09-07 00:00:00",
         "2016-09-15 00:00:00",
         "2016-10-26 00:00:00",
         "0.0",
         "12",
         "0.0",
         "1",
         "2025-05-27 18:54:37"
        ],
        [
         "1617285",
         "76_DONCASTER_2166",
         "76",
         "2166",
         "The Macallan Double Cask 12",
         "750mL",
         "2561",
         "EDRINGTON AMERICAS         ",
         "11973",
         "2016-09-06 00:00:00",
         "2016-09-12 00:00:00",
         "2016-09-20 00:00:00",
         "2016-10-23 00:00:00",
         "0.0",
         "12",
         "0.0",
         "1",
         "2025-05-27 18:54:37"
        ],
        [
         "1617293",
         "66_EANVERNESS_2166",
         "66",
         "2166",
         "The Macallan Double Cask 12",
         "750mL",
         "2561",
         "EDRINGTON AMERICAS         ",
         "11973",
         "2016-09-06 00:00:00",
         "2016-09-13 00:00:00",
         "2016-09-20 00:00:00",
         "2016-10-23 00:00:00",
         "0.0",
         "48",
         "0.0",
         "1",
         "2025-05-27 18:54:37"
        ],
        [
         "1705636",
         "15_WANBORNE_2166",
         "15",
         "2166",
         "The Macallan Double Cask 12",
         "750mL",
         "2561",
         "EDRINGTON AMERICAS         ",
         "12238",
         "2016-09-23 00:00:00",
         "2016-09-29 00:00:00",
         "2016-10-09 00:00:00",
         "2016-11-07 00:00:00",
         "0.0",
         "5",
         "0.0",
         "1",
         "2025-05-27 18:54:37"
        ],
        [
         "1756835",
         "67_EANVERNESS_2166",
         "67",
         "2166",
         "The Macallan Double Cask 12",
         "750mL",
         "2561",
         "EDRINGTON AMERICAS         ",
         "12315",
         "2016-09-25 00:00:00",
         "2016-10-06 00:00:00",
         "2016-10-14 00:00:00",
         "2016-11-13 00:00:00",
         "0.0",
         "12",
         "0.0",
         "1",
         "2025-05-27 18:54:37"
        ]
       ],
       "shape": {
        "columns": 17,
        "rows": 153
       }
      },
      "text/html": [
       "<div>\n",
       "<style scoped>\n",
       "    .dataframe tbody tr th:only-of-type {\n",
       "        vertical-align: middle;\n",
       "    }\n",
       "\n",
       "    .dataframe tbody tr th {\n",
       "        vertical-align: top;\n",
       "    }\n",
       "\n",
       "    .dataframe thead th {\n",
       "        text-align: right;\n",
       "    }\n",
       "</style>\n",
       "<table border=\"1\" class=\"dataframe\">\n",
       "  <thead>\n",
       "    <tr style=\"text-align: right;\">\n",
       "      <th></th>\n",
       "      <th>InventoryId</th>\n",
       "      <th>Store</th>\n",
       "      <th>Brand</th>\n",
       "      <th>Description</th>\n",
       "      <th>Size</th>\n",
       "      <th>VendorNumber</th>\n",
       "      <th>VendorName</th>\n",
       "      <th>PONumber</th>\n",
       "      <th>PODate</th>\n",
       "      <th>ReceivingDate</th>\n",
       "      <th>InvoiceDate</th>\n",
       "      <th>PayDate</th>\n",
       "      <th>PurchasePrice</th>\n",
       "      <th>Quantity</th>\n",
       "      <th>Dollars</th>\n",
       "      <th>Classification</th>\n",
       "      <th>fecha_actualizacion</th>\n",
       "    </tr>\n",
       "  </thead>\n",
       "  <tbody>\n",
       "    <tr>\n",
       "      <th>1369008</th>\n",
       "      <td>59_CLAETHORPES_2166</td>\n",
       "      <td>59</td>\n",
       "      <td>2166</td>\n",
       "      <td>The Macallan Double Cask 12</td>\n",
       "      <td>750mL</td>\n",
       "      <td>2561</td>\n",
       "      <td>EDRINGTON AMERICAS</td>\n",
       "      <td>11462</td>\n",
       "      <td>2016-08-02</td>\n",
       "      <td>2016-08-10</td>\n",
       "      <td>2016-08-22</td>\n",
       "      <td>2016-10-01</td>\n",
       "      <td>0.0</td>\n",
       "      <td>12</td>\n",
       "      <td>0.0</td>\n",
       "      <td>1</td>\n",
       "      <td>2025-05-27 18:54:37</td>\n",
       "    </tr>\n",
       "    <tr>\n",
       "      <th>1369017</th>\n",
       "      <td>38_GOULCREST_2166</td>\n",
       "      <td>38</td>\n",
       "      <td>2166</td>\n",
       "      <td>The Macallan Double Cask 12</td>\n",
       "      <td>750mL</td>\n",
       "      <td>2561</td>\n",
       "      <td>EDRINGTON AMERICAS</td>\n",
       "      <td>11462</td>\n",
       "      <td>2016-08-02</td>\n",
       "      <td>2016-08-11</td>\n",
       "      <td>2016-08-22</td>\n",
       "      <td>2016-10-01</td>\n",
       "      <td>0.0</td>\n",
       "      <td>12</td>\n",
       "      <td>0.0</td>\n",
       "      <td>1</td>\n",
       "      <td>2025-05-27 18:54:37</td>\n",
       "    </tr>\n",
       "    <tr>\n",
       "      <th>1369030</th>\n",
       "      <td>34_PITMERDEN_2166</td>\n",
       "      <td>34</td>\n",
       "      <td>2166</td>\n",
       "      <td>The Macallan Double Cask 12</td>\n",
       "      <td>750mL</td>\n",
       "      <td>2561</td>\n",
       "      <td>EDRINGTON AMERICAS</td>\n",
       "      <td>11462</td>\n",
       "      <td>2016-08-02</td>\n",
       "      <td>2016-08-09</td>\n",
       "      <td>2016-08-22</td>\n",
       "      <td>2016-10-01</td>\n",
       "      <td>0.0</td>\n",
       "      <td>12</td>\n",
       "      <td>0.0</td>\n",
       "      <td>1</td>\n",
       "      <td>2025-05-27 18:54:37</td>\n",
       "    </tr>\n",
       "    <tr>\n",
       "      <th>1369031</th>\n",
       "      <td>44_PORTHCRAWL_2166</td>\n",
       "      <td>44</td>\n",
       "      <td>2166</td>\n",
       "      <td>The Macallan Double Cask 12</td>\n",
       "      <td>750mL</td>\n",
       "      <td>2561</td>\n",
       "      <td>EDRINGTON AMERICAS</td>\n",
       "      <td>11462</td>\n",
       "      <td>2016-08-02</td>\n",
       "      <td>2016-08-08</td>\n",
       "      <td>2016-08-22</td>\n",
       "      <td>2016-10-01</td>\n",
       "      <td>0.0</td>\n",
       "      <td>12</td>\n",
       "      <td>0.0</td>\n",
       "      <td>1</td>\n",
       "      <td>2025-05-27 18:54:37</td>\n",
       "    </tr>\n",
       "    <tr>\n",
       "      <th>1369032</th>\n",
       "      <td>56_BEGGAR'S HOLE_2166</td>\n",
       "      <td>56</td>\n",
       "      <td>2166</td>\n",
       "      <td>The Macallan Double Cask 12</td>\n",
       "      <td>750mL</td>\n",
       "      <td>2561</td>\n",
       "      <td>EDRINGTON AMERICAS</td>\n",
       "      <td>11462</td>\n",
       "      <td>2016-08-02</td>\n",
       "      <td>2016-08-09</td>\n",
       "      <td>2016-08-22</td>\n",
       "      <td>2016-10-01</td>\n",
       "      <td>0.0</td>\n",
       "      <td>12</td>\n",
       "      <td>0.0</td>\n",
       "      <td>1</td>\n",
       "      <td>2025-05-27 18:54:37</td>\n",
       "    </tr>\n",
       "    <tr>\n",
       "      <th>...</th>\n",
       "      <td>...</td>\n",
       "      <td>...</td>\n",
       "      <td>...</td>\n",
       "      <td>...</td>\n",
       "      <td>...</td>\n",
       "      <td>...</td>\n",
       "      <td>...</td>\n",
       "      <td>...</td>\n",
       "      <td>...</td>\n",
       "      <td>...</td>\n",
       "      <td>...</td>\n",
       "      <td>...</td>\n",
       "      <td>...</td>\n",
       "      <td>...</td>\n",
       "      <td>...</td>\n",
       "      <td>...</td>\n",
       "      <td>...</td>\n",
       "    </tr>\n",
       "    <tr>\n",
       "      <th>2278895</th>\n",
       "      <td>39_EASTHALLOW_2166</td>\n",
       "      <td>39</td>\n",
       "      <td>2166</td>\n",
       "      <td>The Macallan Double Cask 12</td>\n",
       "      <td>750mL</td>\n",
       "      <td>2561</td>\n",
       "      <td>EDRINGTON AMERICAS</td>\n",
       "      <td>13506</td>\n",
       "      <td>2016-12-14</td>\n",
       "      <td>2016-12-19</td>\n",
       "      <td>2016-12-28</td>\n",
       "      <td>2017-02-03</td>\n",
       "      <td>0.0</td>\n",
       "      <td>12</td>\n",
       "      <td>0.0</td>\n",
       "      <td>1</td>\n",
       "      <td>2025-05-27 18:54:37</td>\n",
       "    </tr>\n",
       "    <tr>\n",
       "      <th>2278908</th>\n",
       "      <td>38_GOULCREST_2166</td>\n",
       "      <td>38</td>\n",
       "      <td>2166</td>\n",
       "      <td>The Macallan Double Cask 12</td>\n",
       "      <td>750mL</td>\n",
       "      <td>2561</td>\n",
       "      <td>EDRINGTON AMERICAS</td>\n",
       "      <td>13506</td>\n",
       "      <td>2016-12-14</td>\n",
       "      <td>2016-12-20</td>\n",
       "      <td>2016-12-28</td>\n",
       "      <td>2017-02-03</td>\n",
       "      <td>0.0</td>\n",
       "      <td>10</td>\n",
       "      <td>0.0</td>\n",
       "      <td>1</td>\n",
       "      <td>2025-05-27 18:54:37</td>\n",
       "    </tr>\n",
       "    <tr>\n",
       "      <th>2278921</th>\n",
       "      <td>9_BLACKPOOL_2166</td>\n",
       "      <td>9</td>\n",
       "      <td>2166</td>\n",
       "      <td>The Macallan Double Cask 12</td>\n",
       "      <td>750mL</td>\n",
       "      <td>2561</td>\n",
       "      <td>EDRINGTON AMERICAS</td>\n",
       "      <td>13506</td>\n",
       "      <td>2016-12-14</td>\n",
       "      <td>2016-12-19</td>\n",
       "      <td>2016-12-28</td>\n",
       "      <td>2017-02-03</td>\n",
       "      <td>0.0</td>\n",
       "      <td>12</td>\n",
       "      <td>0.0</td>\n",
       "      <td>1</td>\n",
       "      <td>2025-05-27 18:54:37</td>\n",
       "    </tr>\n",
       "    <tr>\n",
       "      <th>2278953</th>\n",
       "      <td>20_BREDWARDINE_2166</td>\n",
       "      <td>20</td>\n",
       "      <td>2166</td>\n",
       "      <td>The Macallan Double Cask 12</td>\n",
       "      <td>750mL</td>\n",
       "      <td>2561</td>\n",
       "      <td>EDRINGTON AMERICAS</td>\n",
       "      <td>13506</td>\n",
       "      <td>2016-12-14</td>\n",
       "      <td>2016-12-19</td>\n",
       "      <td>2016-12-28</td>\n",
       "      <td>2017-02-03</td>\n",
       "      <td>0.0</td>\n",
       "      <td>12</td>\n",
       "      <td>0.0</td>\n",
       "      <td>1</td>\n",
       "      <td>2025-05-27 18:54:37</td>\n",
       "    </tr>\n",
       "    <tr>\n",
       "      <th>2278957</th>\n",
       "      <td>31_HORNSEY_2166</td>\n",
       "      <td>31</td>\n",
       "      <td>2166</td>\n",
       "      <td>The Macallan Double Cask 12</td>\n",
       "      <td>750mL</td>\n",
       "      <td>2561</td>\n",
       "      <td>EDRINGTON AMERICAS</td>\n",
       "      <td>13506</td>\n",
       "      <td>2016-12-14</td>\n",
       "      <td>2016-12-19</td>\n",
       "      <td>2016-12-28</td>\n",
       "      <td>2017-02-03</td>\n",
       "      <td>0.0</td>\n",
       "      <td>12</td>\n",
       "      <td>0.0</td>\n",
       "      <td>1</td>\n",
       "      <td>2025-05-27 18:54:37</td>\n",
       "    </tr>\n",
       "  </tbody>\n",
       "</table>\n",
       "<p>153 rows × 17 columns</p>\n",
       "</div>"
      ],
      "text/plain": [
       "                   InventoryId  Store  Brand                  Description  \\\n",
       "1369008    59_CLAETHORPES_2166     59   2166  The Macallan Double Cask 12   \n",
       "1369017      38_GOULCREST_2166     38   2166  The Macallan Double Cask 12   \n",
       "1369030      34_PITMERDEN_2166     34   2166  The Macallan Double Cask 12   \n",
       "1369031     44_PORTHCRAWL_2166     44   2166  The Macallan Double Cask 12   \n",
       "1369032  56_BEGGAR'S HOLE_2166     56   2166  The Macallan Double Cask 12   \n",
       "...                        ...    ...    ...                          ...   \n",
       "2278895     39_EASTHALLOW_2166     39   2166  The Macallan Double Cask 12   \n",
       "2278908      38_GOULCREST_2166     38   2166  The Macallan Double Cask 12   \n",
       "2278921       9_BLACKPOOL_2166      9   2166  The Macallan Double Cask 12   \n",
       "2278953    20_BREDWARDINE_2166     20   2166  The Macallan Double Cask 12   \n",
       "2278957        31_HORNSEY_2166     31   2166  The Macallan Double Cask 12   \n",
       "\n",
       "          Size  VendorNumber                   VendorName  PONumber  \\\n",
       "1369008  750mL          2561  EDRINGTON AMERICAS              11462   \n",
       "1369017  750mL          2561  EDRINGTON AMERICAS              11462   \n",
       "1369030  750mL          2561  EDRINGTON AMERICAS              11462   \n",
       "1369031  750mL          2561  EDRINGTON AMERICAS              11462   \n",
       "1369032  750mL          2561  EDRINGTON AMERICAS              11462   \n",
       "...        ...           ...                          ...       ...   \n",
       "2278895  750mL          2561  EDRINGTON AMERICAS              13506   \n",
       "2278908  750mL          2561  EDRINGTON AMERICAS              13506   \n",
       "2278921  750mL          2561  EDRINGTON AMERICAS              13506   \n",
       "2278953  750mL          2561  EDRINGTON AMERICAS              13506   \n",
       "2278957  750mL          2561  EDRINGTON AMERICAS              13506   \n",
       "\n",
       "            PODate ReceivingDate InvoiceDate    PayDate  PurchasePrice  \\\n",
       "1369008 2016-08-02    2016-08-10  2016-08-22 2016-10-01            0.0   \n",
       "1369017 2016-08-02    2016-08-11  2016-08-22 2016-10-01            0.0   \n",
       "1369030 2016-08-02    2016-08-09  2016-08-22 2016-10-01            0.0   \n",
       "1369031 2016-08-02    2016-08-08  2016-08-22 2016-10-01            0.0   \n",
       "1369032 2016-08-02    2016-08-09  2016-08-22 2016-10-01            0.0   \n",
       "...            ...           ...         ...        ...            ...   \n",
       "2278895 2016-12-14    2016-12-19  2016-12-28 2017-02-03            0.0   \n",
       "2278908 2016-12-14    2016-12-20  2016-12-28 2017-02-03            0.0   \n",
       "2278921 2016-12-14    2016-12-19  2016-12-28 2017-02-03            0.0   \n",
       "2278953 2016-12-14    2016-12-19  2016-12-28 2017-02-03            0.0   \n",
       "2278957 2016-12-14    2016-12-19  2016-12-28 2017-02-03            0.0   \n",
       "\n",
       "         Quantity  Dollars  Classification fecha_actualizacion  \n",
       "1369008        12      0.0               1 2025-05-27 18:54:37  \n",
       "1369017        12      0.0               1 2025-05-27 18:54:37  \n",
       "1369030        12      0.0               1 2025-05-27 18:54:37  \n",
       "1369031        12      0.0               1 2025-05-27 18:54:37  \n",
       "1369032        12      0.0               1 2025-05-27 18:54:37  \n",
       "...           ...      ...             ...                 ...  \n",
       "2278895        12      0.0               1 2025-05-27 18:54:37  \n",
       "2278908        10      0.0               1 2025-05-27 18:54:37  \n",
       "2278921        12      0.0               1 2025-05-27 18:54:37  \n",
       "2278953        12      0.0               1 2025-05-27 18:54:37  \n",
       "2278957        12      0.0               1 2025-05-27 18:54:37  \n",
       "\n",
       "[153 rows x 17 columns]"
      ]
     },
     "execution_count": 145,
     "metadata": {},
     "output_type": "execute_result"
    }
   ],
   "source": [
    "df2[(df2['PurchasePrice'].isnull()) | (df2['PurchasePrice'] == 0)]"
   ]
  },
  {
   "cell_type": "markdown",
   "id": "eb474fdc",
   "metadata": {},
   "source": [
    "Vemos que hay para el producto \"The Macallan Double Cask 12\", no tiene precio de compra, me fijo si algun dato en la tabla tiene esta informacion para reemplazarla."
   ]
  },
  {
   "cell_type": "code",
   "execution_count": 146,
   "id": "c9a79ecf",
   "metadata": {},
   "outputs": [
    {
     "data": {
      "application/vnd.microsoft.datawrangler.viewer.v0+json": {
       "columns": [
        {
         "name": "index",
         "rawType": "int64",
         "type": "integer"
        },
        {
         "name": "InventoryId",
         "rawType": "object",
         "type": "string"
        },
        {
         "name": "Store",
         "rawType": "int64",
         "type": "integer"
        },
        {
         "name": "Brand",
         "rawType": "int64",
         "type": "integer"
        },
        {
         "name": "Description",
         "rawType": "object",
         "type": "string"
        },
        {
         "name": "Size",
         "rawType": "object",
         "type": "string"
        },
        {
         "name": "VendorNumber",
         "rawType": "int64",
         "type": "integer"
        },
        {
         "name": "VendorName",
         "rawType": "object",
         "type": "string"
        },
        {
         "name": "PONumber",
         "rawType": "int64",
         "type": "integer"
        },
        {
         "name": "PODate",
         "rawType": "datetime64[ns]",
         "type": "datetime"
        },
        {
         "name": "ReceivingDate",
         "rawType": "datetime64[ns]",
         "type": "datetime"
        },
        {
         "name": "InvoiceDate",
         "rawType": "datetime64[ns]",
         "type": "datetime"
        },
        {
         "name": "PayDate",
         "rawType": "datetime64[ns]",
         "type": "datetime"
        },
        {
         "name": "PurchasePrice",
         "rawType": "float64",
         "type": "float"
        },
        {
         "name": "Quantity",
         "rawType": "int64",
         "type": "integer"
        },
        {
         "name": "Dollars",
         "rawType": "float64",
         "type": "float"
        },
        {
         "name": "Classification",
         "rawType": "int64",
         "type": "integer"
        },
        {
         "name": "fecha_actualizacion",
         "rawType": "datetime64[ns]",
         "type": "datetime"
        }
       ],
       "ref": "0b9edcd9-a13f-4632-b106-8f9364af6d5b",
       "rows": [],
       "shape": {
        "columns": 17,
        "rows": 0
       }
      },
      "text/html": [
       "<div>\n",
       "<style scoped>\n",
       "    .dataframe tbody tr th:only-of-type {\n",
       "        vertical-align: middle;\n",
       "    }\n",
       "\n",
       "    .dataframe tbody tr th {\n",
       "        vertical-align: top;\n",
       "    }\n",
       "\n",
       "    .dataframe thead th {\n",
       "        text-align: right;\n",
       "    }\n",
       "</style>\n",
       "<table border=\"1\" class=\"dataframe\">\n",
       "  <thead>\n",
       "    <tr style=\"text-align: right;\">\n",
       "      <th></th>\n",
       "      <th>InventoryId</th>\n",
       "      <th>Store</th>\n",
       "      <th>Brand</th>\n",
       "      <th>Description</th>\n",
       "      <th>Size</th>\n",
       "      <th>VendorNumber</th>\n",
       "      <th>VendorName</th>\n",
       "      <th>PONumber</th>\n",
       "      <th>PODate</th>\n",
       "      <th>ReceivingDate</th>\n",
       "      <th>InvoiceDate</th>\n",
       "      <th>PayDate</th>\n",
       "      <th>PurchasePrice</th>\n",
       "      <th>Quantity</th>\n",
       "      <th>Dollars</th>\n",
       "      <th>Classification</th>\n",
       "      <th>fecha_actualizacion</th>\n",
       "    </tr>\n",
       "  </thead>\n",
       "  <tbody>\n",
       "  </tbody>\n",
       "</table>\n",
       "</div>"
      ],
      "text/plain": [
       "Empty DataFrame\n",
       "Columns: [InventoryId, Store, Brand, Description, Size, VendorNumber, VendorName, PONumber, PODate, ReceivingDate, InvoiceDate, PayDate, PurchasePrice, Quantity, Dollars, Classification, fecha_actualizacion]\n",
       "Index: []"
      ]
     },
     "execution_count": 146,
     "metadata": {},
     "output_type": "execute_result"
    }
   ],
   "source": [
    "df2[\n",
    "    (df2['Description'].str.contains('The Macallan Double', case=False, na=False)) &\n",
    "    (df2['PurchasePrice'] > 0)\n",
    "]"
   ]
  },
  {
   "cell_type": "markdown",
   "id": "9ee1970d",
   "metadata": {},
   "source": [
    "No hay coincidencia de datos que pueda rellenar, por lo que procedo a borrar estas filas."
   ]
  },
  {
   "cell_type": "code",
   "execution_count": 147,
   "id": "3f4733fd",
   "metadata": {},
   "outputs": [],
   "source": [
    "df2 = df2.drop(df2[df2['PurchasePrice'] == 0].index)"
   ]
  },
  {
   "cell_type": "code",
   "execution_count": 148,
   "id": "5f4558f9",
   "metadata": {},
   "outputs": [
    {
     "data": {
      "application/vnd.microsoft.datawrangler.viewer.v0+json": {
       "columns": [
        {
         "name": "index",
         "rawType": "int64",
         "type": "integer"
        },
        {
         "name": "InventoryId",
         "rawType": "object",
         "type": "string"
        },
        {
         "name": "Store",
         "rawType": "int64",
         "type": "integer"
        },
        {
         "name": "Brand",
         "rawType": "int64",
         "type": "integer"
        },
        {
         "name": "Description",
         "rawType": "object",
         "type": "string"
        },
        {
         "name": "Size",
         "rawType": "object",
         "type": "string"
        },
        {
         "name": "VendorNumber",
         "rawType": "int64",
         "type": "integer"
        },
        {
         "name": "VendorName",
         "rawType": "object",
         "type": "string"
        },
        {
         "name": "PONumber",
         "rawType": "int64",
         "type": "integer"
        },
        {
         "name": "PODate",
         "rawType": "datetime64[ns]",
         "type": "datetime"
        },
        {
         "name": "ReceivingDate",
         "rawType": "datetime64[ns]",
         "type": "datetime"
        },
        {
         "name": "InvoiceDate",
         "rawType": "datetime64[ns]",
         "type": "datetime"
        },
        {
         "name": "PayDate",
         "rawType": "datetime64[ns]",
         "type": "datetime"
        },
        {
         "name": "PurchasePrice",
         "rawType": "float64",
         "type": "float"
        },
        {
         "name": "Quantity",
         "rawType": "int64",
         "type": "integer"
        },
        {
         "name": "Dollars",
         "rawType": "float64",
         "type": "float"
        },
        {
         "name": "Classification",
         "rawType": "int64",
         "type": "integer"
        },
        {
         "name": "fecha_actualizacion",
         "rawType": "datetime64[ns]",
         "type": "datetime"
        }
       ],
       "ref": "ac0137f6-da47-4d73-b47c-5d0896349a24",
       "rows": [],
       "shape": {
        "columns": 17,
        "rows": 0
       }
      },
      "text/html": [
       "<div>\n",
       "<style scoped>\n",
       "    .dataframe tbody tr th:only-of-type {\n",
       "        vertical-align: middle;\n",
       "    }\n",
       "\n",
       "    .dataframe tbody tr th {\n",
       "        vertical-align: top;\n",
       "    }\n",
       "\n",
       "    .dataframe thead th {\n",
       "        text-align: right;\n",
       "    }\n",
       "</style>\n",
       "<table border=\"1\" class=\"dataframe\">\n",
       "  <thead>\n",
       "    <tr style=\"text-align: right;\">\n",
       "      <th></th>\n",
       "      <th>InventoryId</th>\n",
       "      <th>Store</th>\n",
       "      <th>Brand</th>\n",
       "      <th>Description</th>\n",
       "      <th>Size</th>\n",
       "      <th>VendorNumber</th>\n",
       "      <th>VendorName</th>\n",
       "      <th>PONumber</th>\n",
       "      <th>PODate</th>\n",
       "      <th>ReceivingDate</th>\n",
       "      <th>InvoiceDate</th>\n",
       "      <th>PayDate</th>\n",
       "      <th>PurchasePrice</th>\n",
       "      <th>Quantity</th>\n",
       "      <th>Dollars</th>\n",
       "      <th>Classification</th>\n",
       "      <th>fecha_actualizacion</th>\n",
       "    </tr>\n",
       "  </thead>\n",
       "  <tbody>\n",
       "  </tbody>\n",
       "</table>\n",
       "</div>"
      ],
      "text/plain": [
       "Empty DataFrame\n",
       "Columns: [InventoryId, Store, Brand, Description, Size, VendorNumber, VendorName, PONumber, PODate, ReceivingDate, InvoiceDate, PayDate, PurchasePrice, Quantity, Dollars, Classification, fecha_actualizacion]\n",
       "Index: []"
      ]
     },
     "execution_count": 148,
     "metadata": {},
     "output_type": "execute_result"
    }
   ],
   "source": [
    "df2.loc[df2['Size'].isna()]"
   ]
  },
  {
   "cell_type": "code",
   "execution_count": 149,
   "id": "caf4fe77",
   "metadata": {},
   "outputs": [
    {
     "data": {
      "application/vnd.microsoft.datawrangler.viewer.v0+json": {
       "columns": [
        {
         "name": "index",
         "rawType": "object",
         "type": "string"
        },
        {
         "name": "0",
         "rawType": "int64",
         "type": "integer"
        }
       ],
       "ref": "f946660d-8f5d-46af-bc15-3aab846daf7f",
       "rows": [
        [
         "InventoryId",
         "0"
        ],
        [
         "Description",
         "0"
        ],
        [
         "Size",
         "3"
        ],
        [
         "VendorName",
         "0"
        ]
       ],
       "shape": {
        "columns": 1,
        "rows": 4
       }
      },
      "text/plain": [
       "InventoryId    0\n",
       "Description    0\n",
       "Size           3\n",
       "VendorName     0\n",
       "dtype: int64"
      ]
     },
     "execution_count": 149,
     "metadata": {},
     "output_type": "execute_result"
    }
   ],
   "source": [
    "# Seleccionar columnas de tipo string / objeto\n",
    "text_cols = df2.select_dtypes(include='object').columns\n",
    "\n",
    "# Filtro la cantidad de datos que tienen valores null o vacios\n",
    "df2[text_cols].isnull().sum() + (df2[text_cols] == \"\").sum()"
   ]
  },
  {
   "cell_type": "markdown",
   "id": "0e5a6b1d",
   "metadata": {},
   "source": [
    "Observo que hay datos vacios en size, filtro estos datos"
   ]
  },
  {
   "cell_type": "code",
   "execution_count": 150,
   "id": "dd47d87b",
   "metadata": {},
   "outputs": [
    {
     "data": {
      "application/vnd.microsoft.datawrangler.viewer.v0+json": {
       "columns": [
        {
         "name": "index",
         "rawType": "int64",
         "type": "integer"
        },
        {
         "name": "InventoryId",
         "rawType": "object",
         "type": "string"
        },
        {
         "name": "Store",
         "rawType": "int64",
         "type": "integer"
        },
        {
         "name": "Brand",
         "rawType": "int64",
         "type": "integer"
        },
        {
         "name": "Description",
         "rawType": "object",
         "type": "string"
        },
        {
         "name": "Size",
         "rawType": "object",
         "type": "string"
        },
        {
         "name": "VendorNumber",
         "rawType": "int64",
         "type": "integer"
        },
        {
         "name": "VendorName",
         "rawType": "object",
         "type": "string"
        },
        {
         "name": "PONumber",
         "rawType": "int64",
         "type": "integer"
        },
        {
         "name": "PODate",
         "rawType": "datetime64[ns]",
         "type": "datetime"
        },
        {
         "name": "ReceivingDate",
         "rawType": "datetime64[ns]",
         "type": "datetime"
        },
        {
         "name": "InvoiceDate",
         "rawType": "datetime64[ns]",
         "type": "datetime"
        },
        {
         "name": "PayDate",
         "rawType": "datetime64[ns]",
         "type": "datetime"
        },
        {
         "name": "PurchasePrice",
         "rawType": "float64",
         "type": "float"
        },
        {
         "name": "Quantity",
         "rawType": "int64",
         "type": "integer"
        },
        {
         "name": "Dollars",
         "rawType": "float64",
         "type": "float"
        },
        {
         "name": "Classification",
         "rawType": "int64",
         "type": "integer"
        },
        {
         "name": "fecha_actualizacion",
         "rawType": "datetime64[ns]",
         "type": "datetime"
        }
       ],
       "ref": "8f410067-0eec-4da8-bd25-e9fc7287e59a",
       "rows": [
        [
         "1109667",
         "34_PITMERDEN_3121",
         "34",
         "3121",
         "Pinnacle Rainbow Sherbet",
         "",
         "12546",
         "JIM BEAM BRANDS COMPANY    ",
         "10938",
         "2016-06-27 00:00:00",
         "2016-07-04 00:00:00",
         "2016-07-13 00:00:00",
         "2016-08-16 00:00:00",
         "6.93",
         "7",
         "48.51",
         "1",
         "2025-05-27 18:54:37"
        ],
        [
         "1112425",
         "34_PITMERDEN_5678",
         "34",
         "5678",
         "Skinnygirl Pina Colada",
         "",
         "12546",
         "JIM BEAM BRANDS COMPANY    ",
         "10938",
         "2016-06-27 00:00:00",
         "2016-07-09 00:00:00",
         "2016-07-13 00:00:00",
         "2016-08-16 00:00:00",
         "6.93",
         "6",
         "41.58",
         "1",
         "2025-05-27 18:54:37"
        ],
        [
         "1116301",
         "39_EASTHALLOW_15365",
         "39",
         "15365",
         "Alabaster 07 Tinta de Toro",
         "",
         "9552",
         "M S WALKER INC             ",
         "10972",
         "2016-06-29 00:00:00",
         "2016-07-07 00:00:00",
         "2016-07-13 00:00:00",
         "2016-08-21 00:00:00",
         "91.83",
         "1",
         "91.83",
         "2",
         "2025-05-27 18:54:37"
        ]
       ],
       "shape": {
        "columns": 17,
        "rows": 3
       }
      },
      "text/html": [
       "<div>\n",
       "<style scoped>\n",
       "    .dataframe tbody tr th:only-of-type {\n",
       "        vertical-align: middle;\n",
       "    }\n",
       "\n",
       "    .dataframe tbody tr th {\n",
       "        vertical-align: top;\n",
       "    }\n",
       "\n",
       "    .dataframe thead th {\n",
       "        text-align: right;\n",
       "    }\n",
       "</style>\n",
       "<table border=\"1\" class=\"dataframe\">\n",
       "  <thead>\n",
       "    <tr style=\"text-align: right;\">\n",
       "      <th></th>\n",
       "      <th>InventoryId</th>\n",
       "      <th>Store</th>\n",
       "      <th>Brand</th>\n",
       "      <th>Description</th>\n",
       "      <th>Size</th>\n",
       "      <th>VendorNumber</th>\n",
       "      <th>VendorName</th>\n",
       "      <th>PONumber</th>\n",
       "      <th>PODate</th>\n",
       "      <th>ReceivingDate</th>\n",
       "      <th>InvoiceDate</th>\n",
       "      <th>PayDate</th>\n",
       "      <th>PurchasePrice</th>\n",
       "      <th>Quantity</th>\n",
       "      <th>Dollars</th>\n",
       "      <th>Classification</th>\n",
       "      <th>fecha_actualizacion</th>\n",
       "    </tr>\n",
       "  </thead>\n",
       "  <tbody>\n",
       "    <tr>\n",
       "      <th>1109667</th>\n",
       "      <td>34_PITMERDEN_3121</td>\n",
       "      <td>34</td>\n",
       "      <td>3121</td>\n",
       "      <td>Pinnacle Rainbow Sherbet</td>\n",
       "      <td></td>\n",
       "      <td>12546</td>\n",
       "      <td>JIM BEAM BRANDS COMPANY</td>\n",
       "      <td>10938</td>\n",
       "      <td>2016-06-27</td>\n",
       "      <td>2016-07-04</td>\n",
       "      <td>2016-07-13</td>\n",
       "      <td>2016-08-16</td>\n",
       "      <td>6.93</td>\n",
       "      <td>7</td>\n",
       "      <td>48.51</td>\n",
       "      <td>1</td>\n",
       "      <td>2025-05-27 18:54:37</td>\n",
       "    </tr>\n",
       "    <tr>\n",
       "      <th>1112425</th>\n",
       "      <td>34_PITMERDEN_5678</td>\n",
       "      <td>34</td>\n",
       "      <td>5678</td>\n",
       "      <td>Skinnygirl Pina Colada</td>\n",
       "      <td></td>\n",
       "      <td>12546</td>\n",
       "      <td>JIM BEAM BRANDS COMPANY</td>\n",
       "      <td>10938</td>\n",
       "      <td>2016-06-27</td>\n",
       "      <td>2016-07-09</td>\n",
       "      <td>2016-07-13</td>\n",
       "      <td>2016-08-16</td>\n",
       "      <td>6.93</td>\n",
       "      <td>6</td>\n",
       "      <td>41.58</td>\n",
       "      <td>1</td>\n",
       "      <td>2025-05-27 18:54:37</td>\n",
       "    </tr>\n",
       "    <tr>\n",
       "      <th>1116301</th>\n",
       "      <td>39_EASTHALLOW_15365</td>\n",
       "      <td>39</td>\n",
       "      <td>15365</td>\n",
       "      <td>Alabaster 07 Tinta de Toro</td>\n",
       "      <td></td>\n",
       "      <td>9552</td>\n",
       "      <td>M S WALKER INC</td>\n",
       "      <td>10972</td>\n",
       "      <td>2016-06-29</td>\n",
       "      <td>2016-07-07</td>\n",
       "      <td>2016-07-13</td>\n",
       "      <td>2016-08-21</td>\n",
       "      <td>91.83</td>\n",
       "      <td>1</td>\n",
       "      <td>91.83</td>\n",
       "      <td>2</td>\n",
       "      <td>2025-05-27 18:54:37</td>\n",
       "    </tr>\n",
       "  </tbody>\n",
       "</table>\n",
       "</div>"
      ],
      "text/plain": [
       "                 InventoryId  Store  Brand                 Description Size  \\\n",
       "1109667    34_PITMERDEN_3121     34   3121    Pinnacle Rainbow Sherbet        \n",
       "1112425    34_PITMERDEN_5678     34   5678      Skinnygirl Pina Colada        \n",
       "1116301  39_EASTHALLOW_15365     39  15365  Alabaster 07 Tinta de Toro        \n",
       "\n",
       "         VendorNumber                   VendorName  PONumber     PODate  \\\n",
       "1109667         12546  JIM BEAM BRANDS COMPANY         10938 2016-06-27   \n",
       "1112425         12546  JIM BEAM BRANDS COMPANY         10938 2016-06-27   \n",
       "1116301          9552  M S WALKER INC                  10972 2016-06-29   \n",
       "\n",
       "        ReceivingDate InvoiceDate    PayDate  PurchasePrice  Quantity  \\\n",
       "1109667    2016-07-04  2016-07-13 2016-08-16           6.93         7   \n",
       "1112425    2016-07-09  2016-07-13 2016-08-16           6.93         6   \n",
       "1116301    2016-07-07  2016-07-13 2016-08-21          91.83         1   \n",
       "\n",
       "         Dollars  Classification fecha_actualizacion  \n",
       "1109667    48.51               1 2025-05-27 18:54:37  \n",
       "1112425    41.58               1 2025-05-27 18:54:37  \n",
       "1116301    91.83               2 2025-05-27 18:54:37  "
      ]
     },
     "execution_count": 150,
     "metadata": {},
     "output_type": "execute_result"
    }
   ],
   "source": [
    "df2[(df2['Size'].isnull()) | (df2['Size'] == \"\")]"
   ]
  },
  {
   "cell_type": "code",
   "execution_count": 151,
   "id": "d58e7c8d",
   "metadata": {},
   "outputs": [
    {
     "data": {
      "application/vnd.microsoft.datawrangler.viewer.v0+json": {
       "columns": [
        {
         "name": "index",
         "rawType": "int64",
         "type": "integer"
        },
        {
         "name": "InventoryId",
         "rawType": "object",
         "type": "string"
        },
        {
         "name": "Store",
         "rawType": "int64",
         "type": "integer"
        },
        {
         "name": "Brand",
         "rawType": "int64",
         "type": "integer"
        },
        {
         "name": "Description",
         "rawType": "object",
         "type": "string"
        },
        {
         "name": "Size",
         "rawType": "object",
         "type": "string"
        },
        {
         "name": "VendorNumber",
         "rawType": "int64",
         "type": "integer"
        },
        {
         "name": "VendorName",
         "rawType": "object",
         "type": "string"
        },
        {
         "name": "PONumber",
         "rawType": "int64",
         "type": "integer"
        },
        {
         "name": "PODate",
         "rawType": "datetime64[ns]",
         "type": "datetime"
        },
        {
         "name": "ReceivingDate",
         "rawType": "datetime64[ns]",
         "type": "datetime"
        },
        {
         "name": "InvoiceDate",
         "rawType": "datetime64[ns]",
         "type": "datetime"
        },
        {
         "name": "PayDate",
         "rawType": "datetime64[ns]",
         "type": "datetime"
        },
        {
         "name": "PurchasePrice",
         "rawType": "float64",
         "type": "float"
        },
        {
         "name": "Quantity",
         "rawType": "int64",
         "type": "integer"
        },
        {
         "name": "Dollars",
         "rawType": "float64",
         "type": "float"
        },
        {
         "name": "Classification",
         "rawType": "int64",
         "type": "integer"
        },
        {
         "name": "fecha_actualizacion",
         "rawType": "datetime64[ns]",
         "type": "datetime"
        }
       ],
       "ref": "129ada3c-223b-4eae-ae7b-f723107638d7",
       "rows": [
        [
         "26471",
         "38_GOULCREST_5678",
         "38",
         "5678",
         "Skinnygirl Pina Colada",
         "750mL",
         "12546",
         "JIM BEAM BRANDS COMPANY    ",
         "8241",
         "2015-12-29 00:00:00",
         "2016-01-06 00:00:00",
         "2016-01-16 00:00:00",
         "2016-02-15 00:00:00",
         "6.93",
         "29",
         "200.97",
         "1",
         "2025-05-27 18:54:37"
        ],
        [
         "176513",
         "49_GARIGILL_5678",
         "49",
         "5678",
         "Skinnygirl Pina Colada",
         "750mL",
         "12546",
         "JIM BEAM BRANDS COMPANY    ",
         "8659",
         "2016-01-27 00:00:00",
         "2016-02-04 00:00:00",
         "2016-02-14 00:00:00",
         "2016-03-19 00:00:00",
         "6.93",
         "1",
         "6.93",
         "1",
         "2025-05-27 18:54:37"
        ],
        [
         "214730",
         "76_DONCASTER_5678",
         "76",
         "5678",
         "Skinnygirl Pina Colada",
         "750mL",
         "12546",
         "JIM BEAM BRANDS COMPANY    ",
         "8800",
         "2016-02-05 00:00:00",
         "2016-02-12 00:00:00",
         "2016-02-19 00:00:00",
         "2016-04-01 00:00:00",
         "6.93",
         "17",
         "117.81",
         "1",
         "2025-05-27 18:54:37"
        ],
        [
         "366400",
         "66_EANVERNESS_5678",
         "66",
         "5678",
         "Skinnygirl Pina Colada",
         "750mL",
         "12546",
         "JIM BEAM BRANDS COMPANY    ",
         "9118",
         "2016-02-28 00:00:00",
         "2016-03-11 00:00:00",
         "2016-03-19 00:00:00",
         "2016-04-21 00:00:00",
         "6.93",
         "2",
         "13.86",
         "1",
         "2025-05-27 18:54:37"
        ],
        [
         "366881",
         "34_PITMERDEN_5678",
         "34",
         "5678",
         "Skinnygirl Pina Colada",
         "750mL",
         "12546",
         "JIM BEAM BRANDS COMPANY    ",
         "9118",
         "2016-02-28 00:00:00",
         "2016-03-10 00:00:00",
         "2016-03-19 00:00:00",
         "2016-04-21 00:00:00",
         "6.93",
         "45",
         "311.85",
         "1",
         "2025-05-27 18:54:37"
        ],
        [
         "367930",
         "67_EANVERNESS_5678",
         "67",
         "5678",
         "Skinnygirl Pina Colada",
         "750mL",
         "12546",
         "JIM BEAM BRANDS COMPANY    ",
         "9118",
         "2016-02-28 00:00:00",
         "2016-03-08 00:00:00",
         "2016-03-19 00:00:00",
         "2016-04-21 00:00:00",
         "6.93",
         "17",
         "117.81",
         "1",
         "2025-05-27 18:54:37"
        ],
        [
         "631594",
         "66_EANVERNESS_5678",
         "66",
         "5678",
         "Skinnygirl Pina Colada",
         "750mL",
         "12546",
         "JIM BEAM BRANDS COMPANY    ",
         "9907",
         "2016-04-22 00:00:00",
         "2016-04-27 00:00:00",
         "2016-05-04 00:00:00",
         "2016-06-17 00:00:00",
         "6.93",
         "10",
         "69.3",
         "1",
         "2025-05-27 18:54:37"
        ],
        [
         "760081",
         "34_PITMERDEN_5678",
         "34",
         "5678",
         "Skinnygirl Pina Colada",
         "750mL",
         "12546",
         "JIM BEAM BRANDS COMPANY    ",
         "10132",
         "2016-05-09 00:00:00",
         "2016-05-19 00:00:00",
         "2016-05-23 00:00:00",
         "2016-07-09 00:00:00",
         "6.93",
         "2",
         "13.86",
         "1",
         "2025-05-27 18:54:37"
        ],
        [
         "761873",
         "69_MOUNTMEND_5678",
         "69",
         "5678",
         "Skinnygirl Pina Colada",
         "750mL",
         "12546",
         "JIM BEAM BRANDS COMPANY    ",
         "10132",
         "2016-05-09 00:00:00",
         "2016-05-20 00:00:00",
         "2016-05-23 00:00:00",
         "2016-07-09 00:00:00",
         "6.93",
         "1",
         "6.93",
         "1",
         "2025-05-27 18:54:37"
        ],
        [
         "1112425",
         "34_PITMERDEN_5678",
         "34",
         "5678",
         "Skinnygirl Pina Colada",
         "",
         "12546",
         "JIM BEAM BRANDS COMPANY    ",
         "10938",
         "2016-06-27 00:00:00",
         "2016-07-09 00:00:00",
         "2016-07-13 00:00:00",
         "2016-08-16 00:00:00",
         "6.93",
         "6",
         "41.58",
         "1",
         "2025-05-27 18:54:37"
        ]
       ],
       "shape": {
        "columns": 17,
        "rows": 10
       }
      },
      "text/html": [
       "<div>\n",
       "<style scoped>\n",
       "    .dataframe tbody tr th:only-of-type {\n",
       "        vertical-align: middle;\n",
       "    }\n",
       "\n",
       "    .dataframe tbody tr th {\n",
       "        vertical-align: top;\n",
       "    }\n",
       "\n",
       "    .dataframe thead th {\n",
       "        text-align: right;\n",
       "    }\n",
       "</style>\n",
       "<table border=\"1\" class=\"dataframe\">\n",
       "  <thead>\n",
       "    <tr style=\"text-align: right;\">\n",
       "      <th></th>\n",
       "      <th>InventoryId</th>\n",
       "      <th>Store</th>\n",
       "      <th>Brand</th>\n",
       "      <th>Description</th>\n",
       "      <th>Size</th>\n",
       "      <th>VendorNumber</th>\n",
       "      <th>VendorName</th>\n",
       "      <th>PONumber</th>\n",
       "      <th>PODate</th>\n",
       "      <th>ReceivingDate</th>\n",
       "      <th>InvoiceDate</th>\n",
       "      <th>PayDate</th>\n",
       "      <th>PurchasePrice</th>\n",
       "      <th>Quantity</th>\n",
       "      <th>Dollars</th>\n",
       "      <th>Classification</th>\n",
       "      <th>fecha_actualizacion</th>\n",
       "    </tr>\n",
       "  </thead>\n",
       "  <tbody>\n",
       "    <tr>\n",
       "      <th>26471</th>\n",
       "      <td>38_GOULCREST_5678</td>\n",
       "      <td>38</td>\n",
       "      <td>5678</td>\n",
       "      <td>Skinnygirl Pina Colada</td>\n",
       "      <td>750mL</td>\n",
       "      <td>12546</td>\n",
       "      <td>JIM BEAM BRANDS COMPANY</td>\n",
       "      <td>8241</td>\n",
       "      <td>2015-12-29</td>\n",
       "      <td>2016-01-06</td>\n",
       "      <td>2016-01-16</td>\n",
       "      <td>2016-02-15</td>\n",
       "      <td>6.93</td>\n",
       "      <td>29</td>\n",
       "      <td>200.97</td>\n",
       "      <td>1</td>\n",
       "      <td>2025-05-27 18:54:37</td>\n",
       "    </tr>\n",
       "    <tr>\n",
       "      <th>176513</th>\n",
       "      <td>49_GARIGILL_5678</td>\n",
       "      <td>49</td>\n",
       "      <td>5678</td>\n",
       "      <td>Skinnygirl Pina Colada</td>\n",
       "      <td>750mL</td>\n",
       "      <td>12546</td>\n",
       "      <td>JIM BEAM BRANDS COMPANY</td>\n",
       "      <td>8659</td>\n",
       "      <td>2016-01-27</td>\n",
       "      <td>2016-02-04</td>\n",
       "      <td>2016-02-14</td>\n",
       "      <td>2016-03-19</td>\n",
       "      <td>6.93</td>\n",
       "      <td>1</td>\n",
       "      <td>6.93</td>\n",
       "      <td>1</td>\n",
       "      <td>2025-05-27 18:54:37</td>\n",
       "    </tr>\n",
       "    <tr>\n",
       "      <th>214730</th>\n",
       "      <td>76_DONCASTER_5678</td>\n",
       "      <td>76</td>\n",
       "      <td>5678</td>\n",
       "      <td>Skinnygirl Pina Colada</td>\n",
       "      <td>750mL</td>\n",
       "      <td>12546</td>\n",
       "      <td>JIM BEAM BRANDS COMPANY</td>\n",
       "      <td>8800</td>\n",
       "      <td>2016-02-05</td>\n",
       "      <td>2016-02-12</td>\n",
       "      <td>2016-02-19</td>\n",
       "      <td>2016-04-01</td>\n",
       "      <td>6.93</td>\n",
       "      <td>17</td>\n",
       "      <td>117.81</td>\n",
       "      <td>1</td>\n",
       "      <td>2025-05-27 18:54:37</td>\n",
       "    </tr>\n",
       "    <tr>\n",
       "      <th>366400</th>\n",
       "      <td>66_EANVERNESS_5678</td>\n",
       "      <td>66</td>\n",
       "      <td>5678</td>\n",
       "      <td>Skinnygirl Pina Colada</td>\n",
       "      <td>750mL</td>\n",
       "      <td>12546</td>\n",
       "      <td>JIM BEAM BRANDS COMPANY</td>\n",
       "      <td>9118</td>\n",
       "      <td>2016-02-28</td>\n",
       "      <td>2016-03-11</td>\n",
       "      <td>2016-03-19</td>\n",
       "      <td>2016-04-21</td>\n",
       "      <td>6.93</td>\n",
       "      <td>2</td>\n",
       "      <td>13.86</td>\n",
       "      <td>1</td>\n",
       "      <td>2025-05-27 18:54:37</td>\n",
       "    </tr>\n",
       "    <tr>\n",
       "      <th>366881</th>\n",
       "      <td>34_PITMERDEN_5678</td>\n",
       "      <td>34</td>\n",
       "      <td>5678</td>\n",
       "      <td>Skinnygirl Pina Colada</td>\n",
       "      <td>750mL</td>\n",
       "      <td>12546</td>\n",
       "      <td>JIM BEAM BRANDS COMPANY</td>\n",
       "      <td>9118</td>\n",
       "      <td>2016-02-28</td>\n",
       "      <td>2016-03-10</td>\n",
       "      <td>2016-03-19</td>\n",
       "      <td>2016-04-21</td>\n",
       "      <td>6.93</td>\n",
       "      <td>45</td>\n",
       "      <td>311.85</td>\n",
       "      <td>1</td>\n",
       "      <td>2025-05-27 18:54:37</td>\n",
       "    </tr>\n",
       "    <tr>\n",
       "      <th>367930</th>\n",
       "      <td>67_EANVERNESS_5678</td>\n",
       "      <td>67</td>\n",
       "      <td>5678</td>\n",
       "      <td>Skinnygirl Pina Colada</td>\n",
       "      <td>750mL</td>\n",
       "      <td>12546</td>\n",
       "      <td>JIM BEAM BRANDS COMPANY</td>\n",
       "      <td>9118</td>\n",
       "      <td>2016-02-28</td>\n",
       "      <td>2016-03-08</td>\n",
       "      <td>2016-03-19</td>\n",
       "      <td>2016-04-21</td>\n",
       "      <td>6.93</td>\n",
       "      <td>17</td>\n",
       "      <td>117.81</td>\n",
       "      <td>1</td>\n",
       "      <td>2025-05-27 18:54:37</td>\n",
       "    </tr>\n",
       "    <tr>\n",
       "      <th>631594</th>\n",
       "      <td>66_EANVERNESS_5678</td>\n",
       "      <td>66</td>\n",
       "      <td>5678</td>\n",
       "      <td>Skinnygirl Pina Colada</td>\n",
       "      <td>750mL</td>\n",
       "      <td>12546</td>\n",
       "      <td>JIM BEAM BRANDS COMPANY</td>\n",
       "      <td>9907</td>\n",
       "      <td>2016-04-22</td>\n",
       "      <td>2016-04-27</td>\n",
       "      <td>2016-05-04</td>\n",
       "      <td>2016-06-17</td>\n",
       "      <td>6.93</td>\n",
       "      <td>10</td>\n",
       "      <td>69.30</td>\n",
       "      <td>1</td>\n",
       "      <td>2025-05-27 18:54:37</td>\n",
       "    </tr>\n",
       "    <tr>\n",
       "      <th>760081</th>\n",
       "      <td>34_PITMERDEN_5678</td>\n",
       "      <td>34</td>\n",
       "      <td>5678</td>\n",
       "      <td>Skinnygirl Pina Colada</td>\n",
       "      <td>750mL</td>\n",
       "      <td>12546</td>\n",
       "      <td>JIM BEAM BRANDS COMPANY</td>\n",
       "      <td>10132</td>\n",
       "      <td>2016-05-09</td>\n",
       "      <td>2016-05-19</td>\n",
       "      <td>2016-05-23</td>\n",
       "      <td>2016-07-09</td>\n",
       "      <td>6.93</td>\n",
       "      <td>2</td>\n",
       "      <td>13.86</td>\n",
       "      <td>1</td>\n",
       "      <td>2025-05-27 18:54:37</td>\n",
       "    </tr>\n",
       "    <tr>\n",
       "      <th>761873</th>\n",
       "      <td>69_MOUNTMEND_5678</td>\n",
       "      <td>69</td>\n",
       "      <td>5678</td>\n",
       "      <td>Skinnygirl Pina Colada</td>\n",
       "      <td>750mL</td>\n",
       "      <td>12546</td>\n",
       "      <td>JIM BEAM BRANDS COMPANY</td>\n",
       "      <td>10132</td>\n",
       "      <td>2016-05-09</td>\n",
       "      <td>2016-05-20</td>\n",
       "      <td>2016-05-23</td>\n",
       "      <td>2016-07-09</td>\n",
       "      <td>6.93</td>\n",
       "      <td>1</td>\n",
       "      <td>6.93</td>\n",
       "      <td>1</td>\n",
       "      <td>2025-05-27 18:54:37</td>\n",
       "    </tr>\n",
       "    <tr>\n",
       "      <th>1112425</th>\n",
       "      <td>34_PITMERDEN_5678</td>\n",
       "      <td>34</td>\n",
       "      <td>5678</td>\n",
       "      <td>Skinnygirl Pina Colada</td>\n",
       "      <td></td>\n",
       "      <td>12546</td>\n",
       "      <td>JIM BEAM BRANDS COMPANY</td>\n",
       "      <td>10938</td>\n",
       "      <td>2016-06-27</td>\n",
       "      <td>2016-07-09</td>\n",
       "      <td>2016-07-13</td>\n",
       "      <td>2016-08-16</td>\n",
       "      <td>6.93</td>\n",
       "      <td>6</td>\n",
       "      <td>41.58</td>\n",
       "      <td>1</td>\n",
       "      <td>2025-05-27 18:54:37</td>\n",
       "    </tr>\n",
       "  </tbody>\n",
       "</table>\n",
       "</div>"
      ],
      "text/plain": [
       "                InventoryId  Store  Brand             Description   Size  \\\n",
       "26471     38_GOULCREST_5678     38   5678  Skinnygirl Pina Colada  750mL   \n",
       "176513     49_GARIGILL_5678     49   5678  Skinnygirl Pina Colada  750mL   \n",
       "214730    76_DONCASTER_5678     76   5678  Skinnygirl Pina Colada  750mL   \n",
       "366400   66_EANVERNESS_5678     66   5678  Skinnygirl Pina Colada  750mL   \n",
       "366881    34_PITMERDEN_5678     34   5678  Skinnygirl Pina Colada  750mL   \n",
       "367930   67_EANVERNESS_5678     67   5678  Skinnygirl Pina Colada  750mL   \n",
       "631594   66_EANVERNESS_5678     66   5678  Skinnygirl Pina Colada  750mL   \n",
       "760081    34_PITMERDEN_5678     34   5678  Skinnygirl Pina Colada  750mL   \n",
       "761873    69_MOUNTMEND_5678     69   5678  Skinnygirl Pina Colada  750mL   \n",
       "1112425   34_PITMERDEN_5678     34   5678  Skinnygirl Pina Colada          \n",
       "\n",
       "         VendorNumber                   VendorName  PONumber     PODate  \\\n",
       "26471           12546  JIM BEAM BRANDS COMPANY          8241 2015-12-29   \n",
       "176513          12546  JIM BEAM BRANDS COMPANY          8659 2016-01-27   \n",
       "214730          12546  JIM BEAM BRANDS COMPANY          8800 2016-02-05   \n",
       "366400          12546  JIM BEAM BRANDS COMPANY          9118 2016-02-28   \n",
       "366881          12546  JIM BEAM BRANDS COMPANY          9118 2016-02-28   \n",
       "367930          12546  JIM BEAM BRANDS COMPANY          9118 2016-02-28   \n",
       "631594          12546  JIM BEAM BRANDS COMPANY          9907 2016-04-22   \n",
       "760081          12546  JIM BEAM BRANDS COMPANY         10132 2016-05-09   \n",
       "761873          12546  JIM BEAM BRANDS COMPANY         10132 2016-05-09   \n",
       "1112425         12546  JIM BEAM BRANDS COMPANY         10938 2016-06-27   \n",
       "\n",
       "        ReceivingDate InvoiceDate    PayDate  PurchasePrice  Quantity  \\\n",
       "26471      2016-01-06  2016-01-16 2016-02-15           6.93        29   \n",
       "176513     2016-02-04  2016-02-14 2016-03-19           6.93         1   \n",
       "214730     2016-02-12  2016-02-19 2016-04-01           6.93        17   \n",
       "366400     2016-03-11  2016-03-19 2016-04-21           6.93         2   \n",
       "366881     2016-03-10  2016-03-19 2016-04-21           6.93        45   \n",
       "367930     2016-03-08  2016-03-19 2016-04-21           6.93        17   \n",
       "631594     2016-04-27  2016-05-04 2016-06-17           6.93        10   \n",
       "760081     2016-05-19  2016-05-23 2016-07-09           6.93         2   \n",
       "761873     2016-05-20  2016-05-23 2016-07-09           6.93         1   \n",
       "1112425    2016-07-09  2016-07-13 2016-08-16           6.93         6   \n",
       "\n",
       "         Dollars  Classification fecha_actualizacion  \n",
       "26471     200.97               1 2025-05-27 18:54:37  \n",
       "176513      6.93               1 2025-05-27 18:54:37  \n",
       "214730    117.81               1 2025-05-27 18:54:37  \n",
       "366400     13.86               1 2025-05-27 18:54:37  \n",
       "366881    311.85               1 2025-05-27 18:54:37  \n",
       "367930    117.81               1 2025-05-27 18:54:37  \n",
       "631594     69.30               1 2025-05-27 18:54:37  \n",
       "760081     13.86               1 2025-05-27 18:54:37  \n",
       "761873      6.93               1 2025-05-27 18:54:37  \n",
       "1112425    41.58               1 2025-05-27 18:54:37  "
      ]
     },
     "execution_count": 151,
     "metadata": {},
     "output_type": "execute_result"
    }
   ],
   "source": [
    "df2[\n",
    "    (df2['Description'].str.contains('Skinnygirl Pina Colada', case=False, na=False)) &\n",
    "    (df2['Size'].isnull()==False)\n",
    "]"
   ]
  },
  {
   "cell_type": "markdown",
   "id": "afa70230",
   "metadata": {},
   "source": [
    "Vemos que hay datos para reemplazar los faltantes, entonces hago un reemplazo de estas."
   ]
  },
  {
   "cell_type": "code",
   "execution_count": 152,
   "id": "92430bad",
   "metadata": {},
   "outputs": [],
   "source": [
    "df2['Size'] = df2['Size'].replace('', np.nan)\n",
    "\n",
    "#Rellenamos NaN con el valor más frecuente (moda) por cada Description\n",
    "df2['Size'] = df2['Size'].fillna(\n",
    "    df2.groupby('Description')['Size'].transform(lambda x: x.mode().iloc[0] if not x.mode().empty else np.nan)\n",
    ")"
   ]
  },
  {
   "cell_type": "code",
   "execution_count": 153,
   "id": "12932ba8",
   "metadata": {},
   "outputs": [
    {
     "data": {
      "application/vnd.microsoft.datawrangler.viewer.v0+json": {
       "columns": [
        {
         "name": "index",
         "rawType": "int64",
         "type": "integer"
        },
        {
         "name": "InventoryId",
         "rawType": "object",
         "type": "string"
        },
        {
         "name": "Store",
         "rawType": "int64",
         "type": "integer"
        },
        {
         "name": "Brand",
         "rawType": "int64",
         "type": "integer"
        },
        {
         "name": "Description",
         "rawType": "object",
         "type": "string"
        },
        {
         "name": "Size",
         "rawType": "object",
         "type": "unknown"
        },
        {
         "name": "VendorNumber",
         "rawType": "int64",
         "type": "integer"
        },
        {
         "name": "VendorName",
         "rawType": "object",
         "type": "string"
        },
        {
         "name": "PONumber",
         "rawType": "int64",
         "type": "integer"
        },
        {
         "name": "PODate",
         "rawType": "datetime64[ns]",
         "type": "datetime"
        },
        {
         "name": "ReceivingDate",
         "rawType": "datetime64[ns]",
         "type": "datetime"
        },
        {
         "name": "InvoiceDate",
         "rawType": "datetime64[ns]",
         "type": "datetime"
        },
        {
         "name": "PayDate",
         "rawType": "datetime64[ns]",
         "type": "datetime"
        },
        {
         "name": "PurchasePrice",
         "rawType": "float64",
         "type": "float"
        },
        {
         "name": "Quantity",
         "rawType": "int64",
         "type": "integer"
        },
        {
         "name": "Dollars",
         "rawType": "float64",
         "type": "float"
        },
        {
         "name": "Classification",
         "rawType": "int64",
         "type": "integer"
        },
        {
         "name": "fecha_actualizacion",
         "rawType": "datetime64[ns]",
         "type": "datetime"
        }
       ],
       "ref": "17eb4fa5-739f-4bc2-adb9-78f2321cf3da",
       "rows": [
        [
         "1116301",
         "39_EASTHALLOW_15365",
         "39",
         "15365",
         "Alabaster 07 Tinta de Toro",
         null,
         "9552",
         "M S WALKER INC             ",
         "10972",
         "2016-06-29 00:00:00",
         "2016-07-07 00:00:00",
         "2016-07-13 00:00:00",
         "2016-08-21 00:00:00",
         "91.83",
         "1",
         "91.83",
         "2",
         "2025-05-27 18:54:37"
        ]
       ],
       "shape": {
        "columns": 17,
        "rows": 1
       }
      },
      "text/html": [
       "<div>\n",
       "<style scoped>\n",
       "    .dataframe tbody tr th:only-of-type {\n",
       "        vertical-align: middle;\n",
       "    }\n",
       "\n",
       "    .dataframe tbody tr th {\n",
       "        vertical-align: top;\n",
       "    }\n",
       "\n",
       "    .dataframe thead th {\n",
       "        text-align: right;\n",
       "    }\n",
       "</style>\n",
       "<table border=\"1\" class=\"dataframe\">\n",
       "  <thead>\n",
       "    <tr style=\"text-align: right;\">\n",
       "      <th></th>\n",
       "      <th>InventoryId</th>\n",
       "      <th>Store</th>\n",
       "      <th>Brand</th>\n",
       "      <th>Description</th>\n",
       "      <th>Size</th>\n",
       "      <th>VendorNumber</th>\n",
       "      <th>VendorName</th>\n",
       "      <th>PONumber</th>\n",
       "      <th>PODate</th>\n",
       "      <th>ReceivingDate</th>\n",
       "      <th>InvoiceDate</th>\n",
       "      <th>PayDate</th>\n",
       "      <th>PurchasePrice</th>\n",
       "      <th>Quantity</th>\n",
       "      <th>Dollars</th>\n",
       "      <th>Classification</th>\n",
       "      <th>fecha_actualizacion</th>\n",
       "    </tr>\n",
       "  </thead>\n",
       "  <tbody>\n",
       "    <tr>\n",
       "      <th>1116301</th>\n",
       "      <td>39_EASTHALLOW_15365</td>\n",
       "      <td>39</td>\n",
       "      <td>15365</td>\n",
       "      <td>Alabaster 07 Tinta de Toro</td>\n",
       "      <td>NaN</td>\n",
       "      <td>9552</td>\n",
       "      <td>M S WALKER INC</td>\n",
       "      <td>10972</td>\n",
       "      <td>2016-06-29</td>\n",
       "      <td>2016-07-07</td>\n",
       "      <td>2016-07-13</td>\n",
       "      <td>2016-08-21</td>\n",
       "      <td>91.83</td>\n",
       "      <td>1</td>\n",
       "      <td>91.83</td>\n",
       "      <td>2</td>\n",
       "      <td>2025-05-27 18:54:37</td>\n",
       "    </tr>\n",
       "  </tbody>\n",
       "</table>\n",
       "</div>"
      ],
      "text/plain": [
       "                 InventoryId  Store  Brand                 Description Size  \\\n",
       "1116301  39_EASTHALLOW_15365     39  15365  Alabaster 07 Tinta de Toro  NaN   \n",
       "\n",
       "         VendorNumber                   VendorName  PONumber     PODate  \\\n",
       "1116301          9552  M S WALKER INC                  10972 2016-06-29   \n",
       "\n",
       "        ReceivingDate InvoiceDate    PayDate  PurchasePrice  Quantity  \\\n",
       "1116301    2016-07-07  2016-07-13 2016-08-21          91.83         1   \n",
       "\n",
       "         Dollars  Classification fecha_actualizacion  \n",
       "1116301    91.83               2 2025-05-27 18:54:37  "
      ]
     },
     "execution_count": 153,
     "metadata": {},
     "output_type": "execute_result"
    }
   ],
   "source": [
    "df2[(df2['Size'].isnull()) | (df2['Size'] == \"\")]"
   ]
  },
  {
   "cell_type": "code",
   "execution_count": null,
   "id": "3d49191c",
   "metadata": {},
   "outputs": [
    {
     "ename": "NameError",
     "evalue": "name 'df1' is not defined",
     "output_type": "error",
     "traceback": [
      "\u001b[31m---------------------------------------------------------------------------\u001b[39m",
      "\u001b[31mNameError\u001b[39m                                 Traceback (most recent call last)",
      "\u001b[36mCell\u001b[39m\u001b[36m \u001b[39m\u001b[32mIn[25]\u001b[39m\u001b[32m, line 2\u001b[39m\n\u001b[32m      1\u001b[39m df2[\n\u001b[32m----> \u001b[39m\u001b[32m2\u001b[39m     (\u001b[43mdf1\u001b[49m[\u001b[33m'\u001b[39m\u001b[33mDescription\u001b[39m\u001b[33m'\u001b[39m].str.contains(\u001b[33m'\u001b[39m\u001b[33mAlabaster 07\u001b[39m\u001b[33m'\u001b[39m, case=\u001b[38;5;28;01mFalse\u001b[39;00m, na=\u001b[38;5;28;01mFalse\u001b[39;00m)) &\n\u001b[32m      3\u001b[39m     (df1[\u001b[33m'\u001b[39m\u001b[33mSize\u001b[39m\u001b[33m'\u001b[39m].isnull()==\u001b[38;5;28;01mFalse\u001b[39;00m)\n\u001b[32m      4\u001b[39m ]\n",
      "\u001b[31mNameError\u001b[39m: name 'df1' is not defined"
     ]
    }
   ],
   "source": [
    "df1[\n",
    "    (df1['Description'].str.contains('Alabaster 07', case=False, na=False)) &\n",
    "    (df1['Size'].isnull()==False)\n",
    "]"
   ]
  },
  {
   "cell_type": "markdown",
   "id": "e8bf94a5",
   "metadata": {},
   "source": [
    "Vemos que en otra df tenemos el dato faltante, entonces reemplazamos."
   ]
  },
  {
   "cell_type": "code",
   "execution_count": 154,
   "id": "1a899953",
   "metadata": {},
   "outputs": [],
   "source": [
    "df2.loc[(df2['Size'].isnull()) | (df2['Size'] == \"\"), 'Size'] = '750mL'"
   ]
  },
  {
   "cell_type": "code",
   "execution_count": 155,
   "id": "373085f9",
   "metadata": {},
   "outputs": [
    {
     "data": {
      "application/vnd.microsoft.datawrangler.viewer.v0+json": {
       "columns": [
        {
         "name": "index",
         "rawType": "int64",
         "type": "integer"
        },
        {
         "name": "InventoryId",
         "rawType": "object",
         "type": "string"
        },
        {
         "name": "Store",
         "rawType": "int64",
         "type": "integer"
        },
        {
         "name": "Brand",
         "rawType": "int64",
         "type": "integer"
        },
        {
         "name": "Description",
         "rawType": "object",
         "type": "string"
        },
        {
         "name": "Size",
         "rawType": "object",
         "type": "string"
        },
        {
         "name": "VendorNumber",
         "rawType": "int64",
         "type": "integer"
        },
        {
         "name": "VendorName",
         "rawType": "object",
         "type": "string"
        },
        {
         "name": "PONumber",
         "rawType": "int64",
         "type": "integer"
        },
        {
         "name": "PODate",
         "rawType": "datetime64[ns]",
         "type": "datetime"
        },
        {
         "name": "ReceivingDate",
         "rawType": "datetime64[ns]",
         "type": "datetime"
        },
        {
         "name": "InvoiceDate",
         "rawType": "datetime64[ns]",
         "type": "datetime"
        },
        {
         "name": "PayDate",
         "rawType": "datetime64[ns]",
         "type": "datetime"
        },
        {
         "name": "PurchasePrice",
         "rawType": "float64",
         "type": "float"
        },
        {
         "name": "Quantity",
         "rawType": "int64",
         "type": "integer"
        },
        {
         "name": "Dollars",
         "rawType": "float64",
         "type": "float"
        },
        {
         "name": "Classification",
         "rawType": "int64",
         "type": "integer"
        },
        {
         "name": "fecha_actualizacion",
         "rawType": "datetime64[ns]",
         "type": "datetime"
        }
       ],
       "ref": "641daac7-954f-46b0-8e79-da6973f88dd9",
       "rows": [],
       "shape": {
        "columns": 17,
        "rows": 0
       }
      },
      "text/html": [
       "<div>\n",
       "<style scoped>\n",
       "    .dataframe tbody tr th:only-of-type {\n",
       "        vertical-align: middle;\n",
       "    }\n",
       "\n",
       "    .dataframe tbody tr th {\n",
       "        vertical-align: top;\n",
       "    }\n",
       "\n",
       "    .dataframe thead th {\n",
       "        text-align: right;\n",
       "    }\n",
       "</style>\n",
       "<table border=\"1\" class=\"dataframe\">\n",
       "  <thead>\n",
       "    <tr style=\"text-align: right;\">\n",
       "      <th></th>\n",
       "      <th>InventoryId</th>\n",
       "      <th>Store</th>\n",
       "      <th>Brand</th>\n",
       "      <th>Description</th>\n",
       "      <th>Size</th>\n",
       "      <th>VendorNumber</th>\n",
       "      <th>VendorName</th>\n",
       "      <th>PONumber</th>\n",
       "      <th>PODate</th>\n",
       "      <th>ReceivingDate</th>\n",
       "      <th>InvoiceDate</th>\n",
       "      <th>PayDate</th>\n",
       "      <th>PurchasePrice</th>\n",
       "      <th>Quantity</th>\n",
       "      <th>Dollars</th>\n",
       "      <th>Classification</th>\n",
       "      <th>fecha_actualizacion</th>\n",
       "    </tr>\n",
       "  </thead>\n",
       "  <tbody>\n",
       "  </tbody>\n",
       "</table>\n",
       "</div>"
      ],
      "text/plain": [
       "Empty DataFrame\n",
       "Columns: [InventoryId, Store, Brand, Description, Size, VendorNumber, VendorName, PONumber, PODate, ReceivingDate, InvoiceDate, PayDate, PurchasePrice, Quantity, Dollars, Classification, fecha_actualizacion]\n",
       "Index: []"
      ]
     },
     "execution_count": 155,
     "metadata": {},
     "output_type": "execute_result"
    }
   ],
   "source": [
    "df2[(df2['Size'].isnull()) | (df2['Size'] == \"\")]"
   ]
  },
  {
   "cell_type": "code",
   "execution_count": 156,
   "id": "f2fca872",
   "metadata": {},
   "outputs": [
    {
     "data": {
      "application/vnd.microsoft.datawrangler.viewer.v0+json": {
       "columns": [
        {
         "name": "index",
         "rawType": "int64",
         "type": "integer"
        },
        {
         "name": "InventoryId",
         "rawType": "object",
         "type": "string"
        },
        {
         "name": "Store",
         "rawType": "int64",
         "type": "integer"
        },
        {
         "name": "Brand",
         "rawType": "int64",
         "type": "integer"
        },
        {
         "name": "Description",
         "rawType": "object",
         "type": "string"
        },
        {
         "name": "Size",
         "rawType": "object",
         "type": "string"
        },
        {
         "name": "VendorNumber",
         "rawType": "int64",
         "type": "integer"
        },
        {
         "name": "VendorName",
         "rawType": "object",
         "type": "string"
        },
        {
         "name": "PONumber",
         "rawType": "int64",
         "type": "integer"
        },
        {
         "name": "PODate",
         "rawType": "datetime64[ns]",
         "type": "datetime"
        },
        {
         "name": "ReceivingDate",
         "rawType": "datetime64[ns]",
         "type": "datetime"
        },
        {
         "name": "InvoiceDate",
         "rawType": "datetime64[ns]",
         "type": "datetime"
        },
        {
         "name": "PayDate",
         "rawType": "datetime64[ns]",
         "type": "datetime"
        },
        {
         "name": "PurchasePrice",
         "rawType": "float64",
         "type": "float"
        },
        {
         "name": "Quantity",
         "rawType": "int64",
         "type": "integer"
        },
        {
         "name": "Dollars",
         "rawType": "float64",
         "type": "float"
        },
        {
         "name": "Classification",
         "rawType": "int64",
         "type": "integer"
        },
        {
         "name": "fecha_actualizacion",
         "rawType": "datetime64[ns]",
         "type": "datetime"
        }
       ],
       "ref": "9524caee-ee4e-42b4-8296-8eb934a54c1f",
       "rows": [
        [
         "983465",
         "46__5255",
         "46",
         "5255",
         "TGI Fridays Ultimte Mudslide",
         "1.75L",
         "4466",
         "AMERICAN VINTAGE BEVERAGE  ",
         "10695",
         "2016-06-16 00:00:00",
         "2016-06-20 00:00:00",
         "2016-06-29 00:00:00",
         "2016-08-12 00:00:00",
         "9.35",
         "3",
         "28.05",
         "1",
         "2025-05-27 18:54:37"
        ],
        [
         "983473",
         "46__5215",
         "46",
         "5215",
         "TGI Fridays Long Island Iced",
         "1.75L",
         "4466",
         "AMERICAN VINTAGE BEVERAGE  ",
         "10695",
         "2016-06-16 00:00:00",
         "2016-06-20 00:00:00",
         "2016-06-29 00:00:00",
         "2016-08-12 00:00:00",
         "9.41",
         "5",
         "47.05",
         "1",
         "2025-05-27 18:54:37"
        ],
        [
         "983509",
         "46__3472",
         "46",
         "3472",
         "Cazadores Blanco Tequila",
         "750mL",
         "480",
         "BACARDI USA INC            ",
         "10665",
         "2016-06-14 00:00:00",
         "2016-06-20 00:00:00",
         "2016-07-04 00:00:00",
         "2016-08-12 00:00:00",
         "11.1",
         "9",
         "99.9",
         "1",
         "2025-05-27 18:54:37"
        ],
        [
         "983533",
         "46__4075",
         "46",
         "4075",
         "Bacardi Pineapple Fusion",
         "1.75L",
         "480",
         "BACARDI USA INC            ",
         "10665",
         "2016-06-14 00:00:00",
         "2016-06-20 00:00:00",
         "2016-07-04 00:00:00",
         "2016-08-12 00:00:00",
         "15.87",
         "3",
         "47.61",
         "1",
         "2025-05-27 18:54:37"
        ],
        [
         "983558",
         "46__4179",
         "46",
         "4179",
         "Bacardi Dragon Berry Rum",
         "1.75L",
         "480",
         "BACARDI USA INC            ",
         "10665",
         "2016-06-14 00:00:00",
         "2016-06-20 00:00:00",
         "2016-07-04 00:00:00",
         "2016-08-12 00:00:00",
         "15.14",
         "8",
         "121.12",
         "1",
         "2025-05-27 18:54:37"
        ],
        [
         "983559",
         "46__2672",
         "46",
         "2672",
         "Dewars White Label",
         "50mL",
         "480",
         "BACARDI USA INC            ",
         "10665",
         "2016-06-14 00:00:00",
         "2016-06-20 00:00:00",
         "2016-07-04 00:00:00",
         "2016-08-12 00:00:00",
         "1.8",
         "8",
         "14.4",
         "1",
         "2025-05-27 18:54:37"
        ],
        [
         "983564",
         "46__2665",
         "46",
         "2665",
         "Dewars White Label",
         "750mL",
         "480",
         "BACARDI USA INC            ",
         "10665",
         "2016-06-14 00:00:00",
         "2016-06-20 00:00:00",
         "2016-07-04 00:00:00",
         "2016-08-12 00:00:00",
         "15.38",
         "7",
         "107.66",
         "1",
         "2025-05-27 18:54:37"
        ],
        [
         "983572",
         "46__4050",
         "46",
         "4050",
         "Bacardi Oakheart Spiced Rum",
         "750mL",
         "480",
         "BACARDI USA INC            ",
         "10665",
         "2016-06-14 00:00:00",
         "2016-06-20 00:00:00",
         "2016-07-04 00:00:00",
         "2016-08-12 00:00:00",
         "8.72",
         "5",
         "43.6",
         "1",
         "2025-05-27 18:54:37"
        ],
        [
         "983645",
         "46__2663",
         "46",
         "2663",
         "Dewars White Label",
         "1.75L",
         "480",
         "BACARDI USA INC            ",
         "10665",
         "2016-06-14 00:00:00",
         "2016-06-20 00:00:00",
         "2016-07-04 00:00:00",
         "2016-08-12 00:00:00",
         "21.42",
         "36",
         "771.12",
         "1",
         "2025-05-27 18:54:37"
        ],
        [
         "983728",
         "46__2679",
         "46",
         "2679",
         "Dewars Highlander Honey",
         "750mL",
         "480",
         "BACARDI USA INC            ",
         "10665",
         "2016-06-14 00:00:00",
         "2016-06-20 00:00:00",
         "2016-07-04 00:00:00",
         "2016-08-12 00:00:00",
         "14.28",
         "24",
         "342.72",
         "1",
         "2025-05-27 18:54:37"
        ],
        [
         "983753",
         "46__5317",
         "46",
         "5317",
         "B & B Liqueur Dom",
         "50mL",
         "480",
         "BACARDI USA INC            ",
         "10665",
         "2016-06-14 00:00:00",
         "2016-06-20 00:00:00",
         "2016-07-04 00:00:00",
         "2016-08-12 00:00:00",
         "2.46",
         "15",
         "36.9",
         "1",
         "2025-05-27 18:54:37"
        ],
        [
         "983823",
         "46__3961",
         "46",
         "3961",
         "Grey Goose La Poire Vodka",
         "750mL",
         "480",
         "BACARDI USA INC            ",
         "10665",
         "2016-06-14 00:00:00",
         "2016-06-20 00:00:00",
         "2016-07-04 00:00:00",
         "2016-08-12 00:00:00",
         "18.17",
         "8",
         "145.36",
         "1",
         "2025-05-27 18:54:37"
        ],
        [
         "983845",
         "46__4066",
         "46",
         "4066",
         "Bacardi Oakheart Spiced Rum",
         "1.75L",
         "480",
         "BACARDI USA INC            ",
         "10665",
         "2016-06-14 00:00:00",
         "2016-06-20 00:00:00",
         "2016-07-04 00:00:00",
         "2016-08-12 00:00:00",
         "12.85",
         "6",
         "77.1",
         "1",
         "2025-05-27 18:54:37"
        ],
        [
         "983925",
         "46__4247",
         "46",
         "4247",
         "Bacardi Limon Rum",
         "750mL",
         "480",
         "BACARDI USA INC            ",
         "10665",
         "2016-06-14 00:00:00",
         "2016-06-23 00:00:00",
         "2016-07-04 00:00:00",
         "2016-08-12 00:00:00",
         "7.99",
         "6",
         "47.94",
         "1",
         "2025-05-27 18:54:37"
        ],
        [
         "983944",
         "46__3437",
         "46",
         "3437",
         "Bombay Dry Gin",
         "750mL",
         "480",
         "BACARDI USA INC            ",
         "10665",
         "2016-06-14 00:00:00",
         "2016-06-20 00:00:00",
         "2016-07-04 00:00:00",
         "2016-08-12 00:00:00",
         "13.84",
         "3",
         "41.52",
         "1",
         "2025-05-27 18:54:37"
        ],
        [
         "983962",
         "46__4025",
         "46",
         "4025",
         "Bacardi Oakheart Spiced Rum",
         "50mL",
         "480",
         "BACARDI USA INC            ",
         "10665",
         "2016-06-14 00:00:00",
         "2016-06-20 00:00:00",
         "2016-07-04 00:00:00",
         "2016-08-12 00:00:00",
         "1.37",
         "52",
         "71.24",
         "1",
         "2025-05-27 18:54:37"
        ],
        [
         "983987",
         "46__3436",
         "46",
         "3436",
         "Bombay Dry Gin",
         "1.75L",
         "480",
         "BACARDI USA INC            ",
         "10665",
         "2016-06-14 00:00:00",
         "2016-06-23 00:00:00",
         "2016-07-04 00:00:00",
         "2016-08-12 00:00:00",
         "18.79",
         "1",
         "18.79",
         "1",
         "2025-05-27 18:54:37"
        ],
        [
         "984071",
         "46__508",
         "46",
         "508",
         "Bacardi Superior Rum",
         "Liter",
         "480",
         "BACARDI USA INC            ",
         "10665",
         "2016-06-14 00:00:00",
         "2016-06-20 00:00:00",
         "2016-07-04 00:00:00",
         "2016-08-12 00:00:00",
         "9.77",
         "4",
         "39.08",
         "1",
         "2025-05-27 18:54:37"
        ],
        [
         "984116",
         "46__8358",
         "46",
         "8358",
         "Bacardi 151 Proof",
         "750mL",
         "480",
         "BACARDI USA INC            ",
         "10665",
         "2016-06-14 00:00:00",
         "2016-06-20 00:00:00",
         "2016-07-04 00:00:00",
         "2016-08-12 00:00:00",
         "14.49",
         "9",
         "130.41",
         "1",
         "2025-05-27 18:54:37"
        ],
        [
         "984119",
         "46__5315",
         "46",
         "5315",
         "B & B Liqueur Dom",
         "750mL",
         "480",
         "BACARDI USA INC            ",
         "10665",
         "2016-06-14 00:00:00",
         "2016-06-20 00:00:00",
         "2016-07-04 00:00:00",
         "2016-08-12 00:00:00",
         "19.22",
         "4",
         "76.88",
         "1",
         "2025-05-27 18:54:37"
        ],
        [
         "984287",
         "46__4247",
         "46",
         "4247",
         "Bacardi Limon Rum",
         "750mL",
         "480",
         "BACARDI USA INC            ",
         "10665",
         "2016-06-14 00:00:00",
         "2016-06-20 00:00:00",
         "2016-07-04 00:00:00",
         "2016-08-12 00:00:00",
         "7.99",
         "13",
         "103.87",
         "1",
         "2025-05-27 18:54:37"
        ],
        [
         "984293",
         "46__4258",
         "46",
         "4258",
         "Bacardi Mango Fusion",
         "750mL",
         "480",
         "BACARDI USA INC            ",
         "10665",
         "2016-06-14 00:00:00",
         "2016-06-20 00:00:00",
         "2016-07-04 00:00:00",
         "2016-08-12 00:00:00",
         "7.35",
         "11",
         "80.85",
         "1",
         "2025-05-27 18:54:37"
        ],
        [
         "984295",
         "46__4267",
         "46",
         "4267",
         "Bacardi Limon Rum",
         "1.75L",
         "480",
         "BACARDI USA INC            ",
         "10665",
         "2016-06-14 00:00:00",
         "2016-06-20 00:00:00",
         "2016-07-04 00:00:00",
         "2016-08-12 00:00:00",
         "15.62",
         "1",
         "15.62",
         "1",
         "2025-05-27 18:54:37"
        ],
        [
         "984337",
         "46__3194",
         "46",
         "3194",
         "Grey Goose Cherry Noir Vodka",
         "750mL",
         "480",
         "BACARDI USA INC            ",
         "10665",
         "2016-06-14 00:00:00",
         "2016-06-20 00:00:00",
         "2016-07-04 00:00:00",
         "2016-08-12 00:00:00",
         "18.31",
         "6",
         "109.86",
         "1",
         "2025-05-27 18:54:37"
        ],
        [
         "984405",
         "46__802",
         "46",
         "802",
         "Bacardi Torched Cherry Rum",
         "750mL",
         "480",
         "BACARDI USA INC            ",
         "10665",
         "2016-06-14 00:00:00",
         "2016-06-20 00:00:00",
         "2016-07-04 00:00:00",
         "2016-08-12 00:00:00",
         "7.99",
         "2",
         "15.98",
         "1",
         "2025-05-27 18:54:37"
        ],
        [
         "984414",
         "46__810",
         "46",
         "810",
         "Bacardi Black Razz",
         "750mL",
         "480",
         "BACARDI USA INC            ",
         "10665",
         "2016-06-14 00:00:00",
         "2016-06-23 00:00:00",
         "2016-07-04 00:00:00",
         "2016-08-12 00:00:00",
         "7.19",
         "6",
         "43.14",
         "1",
         "2025-05-27 18:54:37"
        ],
        [
         "984415",
         "46__810",
         "46",
         "810",
         "Bacardi Black Razz",
         "750mL",
         "480",
         "BACARDI USA INC            ",
         "10665",
         "2016-06-14 00:00:00",
         "2016-06-20 00:00:00",
         "2016-07-04 00:00:00",
         "2016-08-12 00:00:00",
         "7.19",
         "16",
         "115.04",
         "1",
         "2025-05-27 18:54:37"
        ],
        [
         "984418",
         "46__565",
         "46",
         "565",
         "Bombay Dry Gin",
         "Liter",
         "480",
         "BACARDI USA INC            ",
         "10665",
         "2016-06-14 00:00:00",
         "2016-06-20 00:00:00",
         "2016-07-04 00:00:00",
         "2016-08-12 00:00:00",
         "15.52",
         "1",
         "15.52",
         "1",
         "2025-05-27 18:54:37"
        ],
        [
         "984436",
         "46__126",
         "46",
         "126",
         "Grey Goose Vodka",
         "Liter",
         "480",
         "BACARDI USA INC            ",
         "10665",
         "2016-06-14 00:00:00",
         "2016-06-20 00:00:00",
         "2016-07-04 00:00:00",
         "2016-08-12 00:00:00",
         "20.14",
         "6",
         "120.84",
         "1",
         "2025-05-27 18:54:37"
        ],
        [
         "984468",
         "46__7221",
         "46",
         "7221",
         "M & R Sweet Vermouth",
         "1.5L",
         "480",
         "BACARDI USA INC            ",
         "10665",
         "2016-06-14 00:00:00",
         "2016-06-20 00:00:00",
         "2016-07-04 00:00:00",
         "2016-08-12 00:00:00",
         "6.86",
         "10",
         "68.6",
         "2",
         "2025-05-27 18:54:37"
        ],
        [
         "984516",
         "46__4226",
         "46",
         "4226",
         "Bacardi Superior Rum Trav",
         "750mL",
         "480",
         "BACARDI USA INC            ",
         "10665",
         "2016-06-14 00:00:00",
         "2016-06-20 00:00:00",
         "2016-07-04 00:00:00",
         "2016-08-12 00:00:00",
         "7.68",
         "2",
         "15.36",
         "1",
         "2025-05-27 18:54:37"
        ],
        [
         "984524",
         "46__3344",
         "46",
         "3344",
         "Bombay Sapphire Gin",
         "750mL",
         "480",
         "BACARDI USA INC            ",
         "10665",
         "2016-06-14 00:00:00",
         "2016-06-20 00:00:00",
         "2016-07-04 00:00:00",
         "2016-08-12 00:00:00",
         "14.49",
         "9",
         "130.41",
         "1",
         "2025-05-27 18:54:37"
        ],
        [
         "984628",
         "46__3858",
         "46",
         "3858",
         "Grey Goose Vodka",
         "750mL",
         "480",
         "BACARDI USA INC            ",
         "10665",
         "2016-06-14 00:00:00",
         "2016-06-20 00:00:00",
         "2016-07-04 00:00:00",
         "2016-08-12 00:00:00",
         "17.77",
         "36",
         "639.72",
         "1",
         "2025-05-27 18:54:37"
        ],
        [
         "984646",
         "46__3348",
         "46",
         "3348",
         "Bombay Sapphire Gin",
         "1.75L",
         "480",
         "BACARDI USA INC            ",
         "10665",
         "2016-06-14 00:00:00",
         "2016-06-20 00:00:00",
         "2016-07-04 00:00:00",
         "2016-08-12 00:00:00",
         "22.38",
         "19",
         "425.22",
         "1",
         "2025-05-27 18:54:37"
        ],
        [
         "984664",
         "46__3016",
         "46",
         "3016",
         "Bombay Sapphire East Gin",
         "750mL",
         "480",
         "BACARDI USA INC            ",
         "10665",
         "2016-06-14 00:00:00",
         "2016-06-20 00:00:00",
         "2016-07-04 00:00:00",
         "2016-08-12 00:00:00",
         "14.59",
         "11",
         "160.49",
         "1",
         "2025-05-27 18:54:37"
        ],
        [
         "984759",
         "46__4223",
         "46",
         "4223",
         "Bacardi Gold Rum",
         "1.75L",
         "480",
         "BACARDI USA INC            ",
         "10665",
         "2016-06-14 00:00:00",
         "2016-06-20 00:00:00",
         "2016-07-04 00:00:00",
         "2016-08-12 00:00:00",
         "14.92",
         "6",
         "89.52",
         "1",
         "2025-05-27 18:54:37"
        ],
        [
         "984841",
         "46__4404",
         "46",
         "4404",
         "Bacardi Gold Rum",
         "375mL",
         "480",
         "BACARDI USA INC            ",
         "10665",
         "2016-06-14 00:00:00",
         "2016-06-20 00:00:00",
         "2016-07-04 00:00:00",
         "2016-08-12 00:00:00",
         "4.32",
         "15",
         "64.8",
         "1",
         "2025-05-27 18:54:37"
        ],
        [
         "984854",
         "46__3830",
         "46",
         "3830",
         "Grey Goose L'Orange Vodka",
         "750mL",
         "480",
         "BACARDI USA INC            ",
         "10665",
         "2016-06-14 00:00:00",
         "2016-06-20 00:00:00",
         "2016-07-04 00:00:00",
         "2016-08-12 00:00:00",
         "18.45",
         "5",
         "92.25",
         "1",
         "2025-05-27 18:54:37"
        ],
        [
         "984920",
         "46__3436",
         "46",
         "3436",
         "Bombay Dry Gin",
         "1.75L",
         "480",
         "BACARDI USA INC            ",
         "10665",
         "2016-06-14 00:00:00",
         "2016-06-20 00:00:00",
         "2016-07-04 00:00:00",
         "2016-08-12 00:00:00",
         "18.79",
         "4",
         "75.16",
         "1",
         "2025-05-27 18:54:37"
        ],
        [
         "984926",
         "46__4320",
         "46",
         "4320",
         "D'Usse VSOP Cognac",
         "750mL",
         "480",
         "BACARDI USA INC            ",
         "10665",
         "2016-06-14 00:00:00",
         "2016-06-20 00:00:00",
         "2016-07-04 00:00:00",
         "2016-08-12 00:00:00",
         "36.02",
         "3",
         "108.06",
         "1",
         "2025-05-27 18:54:37"
        ],
        [
         "984928",
         "46__3139",
         "46",
         "3139",
         "Grey Goose Le Melon",
         "750mL",
         "480",
         "BACARDI USA INC            ",
         "10665",
         "2016-06-14 00:00:00",
         "2016-06-20 00:00:00",
         "2016-07-04 00:00:00",
         "2016-08-12 00:00:00",
         "17.64",
         "12",
         "211.68",
         "1",
         "2025-05-27 18:54:37"
        ],
        [
         "984932",
         "46__8154",
         "46",
         "8154",
         "Cazadores Reposado Tequila",
         "750mL",
         "480",
         "BACARDI USA INC            ",
         "10665",
         "2016-06-14 00:00:00",
         "2016-06-20 00:00:00",
         "2016-07-04 00:00:00",
         "2016-08-12 00:00:00",
         "16.05",
         "9",
         "144.45",
         "1",
         "2025-05-27 18:54:37"
        ],
        [
         "984991",
         "46__3857",
         "46",
         "3857",
         "Grey Goose Vodka",
         "1.75L",
         "480",
         "BACARDI USA INC            ",
         "10665",
         "2016-06-14 00:00:00",
         "2016-06-23 00:00:00",
         "2016-07-04 00:00:00",
         "2016-08-12 00:00:00",
         "38.27",
         "6",
         "229.62",
         "1",
         "2025-05-27 18:54:37"
        ],
        [
         "984996",
         "46__4221",
         "46",
         "4221",
         "Bacardi Gold Rum Traveler",
         "1.75L",
         "480",
         "BACARDI USA INC            ",
         "10665",
         "2016-06-14 00:00:00",
         "2016-06-20 00:00:00",
         "2016-07-04 00:00:00",
         "2016-08-12 00:00:00",
         "12.94",
         "1",
         "12.94",
         "1",
         "2025-05-27 18:54:37"
        ],
        [
         "984999",
         "46__4204",
         "46",
         "4204",
         "Bacardi Coco Rum",
         "750mL",
         "480",
         "BACARDI USA INC            ",
         "10665",
         "2016-06-14 00:00:00",
         "2016-06-20 00:00:00",
         "2016-07-04 00:00:00",
         "2016-08-12 00:00:00",
         "7.74",
         "4",
         "30.96",
         "1",
         "2025-05-27 18:54:37"
        ],
        [
         "985003",
         "46__4222",
         "46",
         "4222",
         "Bacardi Gold Rum",
         "750mL",
         "480",
         "BACARDI USA INC            ",
         "10665",
         "2016-06-14 00:00:00",
         "2016-06-20 00:00:00",
         "2016-07-04 00:00:00",
         "2016-08-12 00:00:00",
         "7.99",
         "6",
         "47.94",
         "1",
         "2025-05-27 18:54:37"
        ],
        [
         "985118",
         "46__7977",
         "46",
         "7977",
         "M & R X Dry Vermouth",
         "1.5L",
         "480",
         "BACARDI USA INC            ",
         "10665",
         "2016-06-14 00:00:00",
         "2016-06-20 00:00:00",
         "2016-07-04 00:00:00",
         "2016-08-12 00:00:00",
         "7.49",
         "8",
         "59.92",
         "1",
         "2025-05-27 18:54:37"
        ],
        [
         "985126",
         "46__4670",
         "46",
         "4670",
         "Bacardi Dragon Berry Rum",
         "375mL",
         "480",
         "BACARDI USA INC            ",
         "10665",
         "2016-06-14 00:00:00",
         "2016-06-20 00:00:00",
         "2016-07-04 00:00:00",
         "2016-08-12 00:00:00",
         "2.87",
         "10",
         "28.7",
         "1",
         "2025-05-27 18:54:37"
        ],
        [
         "985131",
         "46__4243",
         "46",
         "4243",
         "Bacardi Superior Rum",
         "1.75L",
         "480",
         "BACARDI USA INC            ",
         "10665",
         "2016-06-14 00:00:00",
         "2016-06-20 00:00:00",
         "2016-07-04 00:00:00",
         "2016-08-12 00:00:00",
         "14.49",
         "20",
         "289.8",
         "1",
         "2025-05-27 18:54:37"
        ],
        [
         "985142",
         "46__8653",
         "46",
         "8653",
         "M & R Extra Dry Vermouth",
         "375mL",
         "480",
         "BACARDI USA INC            ",
         "10665",
         "2016-06-14 00:00:00",
         "2016-06-20 00:00:00",
         "2016-07-04 00:00:00",
         "2016-08-12 00:00:00",
         "3.53",
         "3",
         "10.59",
         "2",
         "2025-05-27 18:54:37"
        ]
       ],
       "shape": {
        "columns": 17,
        "rows": 1726
       }
      },
      "text/html": [
       "<div>\n",
       "<style scoped>\n",
       "    .dataframe tbody tr th:only-of-type {\n",
       "        vertical-align: middle;\n",
       "    }\n",
       "\n",
       "    .dataframe tbody tr th {\n",
       "        vertical-align: top;\n",
       "    }\n",
       "\n",
       "    .dataframe thead th {\n",
       "        text-align: right;\n",
       "    }\n",
       "</style>\n",
       "<table border=\"1\" class=\"dataframe\">\n",
       "  <thead>\n",
       "    <tr style=\"text-align: right;\">\n",
       "      <th></th>\n",
       "      <th>InventoryId</th>\n",
       "      <th>Store</th>\n",
       "      <th>Brand</th>\n",
       "      <th>Description</th>\n",
       "      <th>Size</th>\n",
       "      <th>VendorNumber</th>\n",
       "      <th>VendorName</th>\n",
       "      <th>PONumber</th>\n",
       "      <th>PODate</th>\n",
       "      <th>ReceivingDate</th>\n",
       "      <th>InvoiceDate</th>\n",
       "      <th>PayDate</th>\n",
       "      <th>PurchasePrice</th>\n",
       "      <th>Quantity</th>\n",
       "      <th>Dollars</th>\n",
       "      <th>Classification</th>\n",
       "      <th>fecha_actualizacion</th>\n",
       "    </tr>\n",
       "  </thead>\n",
       "  <tbody>\n",
       "    <tr>\n",
       "      <th>983465</th>\n",
       "      <td>46__5255</td>\n",
       "      <td>46</td>\n",
       "      <td>5255</td>\n",
       "      <td>TGI Fridays Ultimte Mudslide</td>\n",
       "      <td>1.75L</td>\n",
       "      <td>4466</td>\n",
       "      <td>AMERICAN VINTAGE BEVERAGE</td>\n",
       "      <td>10695</td>\n",
       "      <td>2016-06-16</td>\n",
       "      <td>2016-06-20</td>\n",
       "      <td>2016-06-29</td>\n",
       "      <td>2016-08-12</td>\n",
       "      <td>9.35</td>\n",
       "      <td>3</td>\n",
       "      <td>28.05</td>\n",
       "      <td>1</td>\n",
       "      <td>2025-05-27 18:54:37</td>\n",
       "    </tr>\n",
       "    <tr>\n",
       "      <th>983473</th>\n",
       "      <td>46__5215</td>\n",
       "      <td>46</td>\n",
       "      <td>5215</td>\n",
       "      <td>TGI Fridays Long Island Iced</td>\n",
       "      <td>1.75L</td>\n",
       "      <td>4466</td>\n",
       "      <td>AMERICAN VINTAGE BEVERAGE</td>\n",
       "      <td>10695</td>\n",
       "      <td>2016-06-16</td>\n",
       "      <td>2016-06-20</td>\n",
       "      <td>2016-06-29</td>\n",
       "      <td>2016-08-12</td>\n",
       "      <td>9.41</td>\n",
       "      <td>5</td>\n",
       "      <td>47.05</td>\n",
       "      <td>1</td>\n",
       "      <td>2025-05-27 18:54:37</td>\n",
       "    </tr>\n",
       "    <tr>\n",
       "      <th>983509</th>\n",
       "      <td>46__3472</td>\n",
       "      <td>46</td>\n",
       "      <td>3472</td>\n",
       "      <td>Cazadores Blanco Tequila</td>\n",
       "      <td>750mL</td>\n",
       "      <td>480</td>\n",
       "      <td>BACARDI USA INC</td>\n",
       "      <td>10665</td>\n",
       "      <td>2016-06-14</td>\n",
       "      <td>2016-06-20</td>\n",
       "      <td>2016-07-04</td>\n",
       "      <td>2016-08-12</td>\n",
       "      <td>11.10</td>\n",
       "      <td>9</td>\n",
       "      <td>99.90</td>\n",
       "      <td>1</td>\n",
       "      <td>2025-05-27 18:54:37</td>\n",
       "    </tr>\n",
       "    <tr>\n",
       "      <th>983533</th>\n",
       "      <td>46__4075</td>\n",
       "      <td>46</td>\n",
       "      <td>4075</td>\n",
       "      <td>Bacardi Pineapple Fusion</td>\n",
       "      <td>1.75L</td>\n",
       "      <td>480</td>\n",
       "      <td>BACARDI USA INC</td>\n",
       "      <td>10665</td>\n",
       "      <td>2016-06-14</td>\n",
       "      <td>2016-06-20</td>\n",
       "      <td>2016-07-04</td>\n",
       "      <td>2016-08-12</td>\n",
       "      <td>15.87</td>\n",
       "      <td>3</td>\n",
       "      <td>47.61</td>\n",
       "      <td>1</td>\n",
       "      <td>2025-05-27 18:54:37</td>\n",
       "    </tr>\n",
       "    <tr>\n",
       "      <th>983558</th>\n",
       "      <td>46__4179</td>\n",
       "      <td>46</td>\n",
       "      <td>4179</td>\n",
       "      <td>Bacardi Dragon Berry Rum</td>\n",
       "      <td>1.75L</td>\n",
       "      <td>480</td>\n",
       "      <td>BACARDI USA INC</td>\n",
       "      <td>10665</td>\n",
       "      <td>2016-06-14</td>\n",
       "      <td>2016-06-20</td>\n",
       "      <td>2016-07-04</td>\n",
       "      <td>2016-08-12</td>\n",
       "      <td>15.14</td>\n",
       "      <td>8</td>\n",
       "      <td>121.12</td>\n",
       "      <td>1</td>\n",
       "      <td>2025-05-27 18:54:37</td>\n",
       "    </tr>\n",
       "    <tr>\n",
       "      <th>...</th>\n",
       "      <td>...</td>\n",
       "      <td>...</td>\n",
       "      <td>...</td>\n",
       "      <td>...</td>\n",
       "      <td>...</td>\n",
       "      <td>...</td>\n",
       "      <td>...</td>\n",
       "      <td>...</td>\n",
       "      <td>...</td>\n",
       "      <td>...</td>\n",
       "      <td>...</td>\n",
       "      <td>...</td>\n",
       "      <td>...</td>\n",
       "      <td>...</td>\n",
       "      <td>...</td>\n",
       "      <td>...</td>\n",
       "      <td>...</td>\n",
       "    </tr>\n",
       "    <tr>\n",
       "      <th>1544208</th>\n",
       "      <td>81__23289</td>\n",
       "      <td>81</td>\n",
       "      <td>23289</td>\n",
       "      <td>Ch Mouton Rothschild 11 Paui</td>\n",
       "      <td>750mL</td>\n",
       "      <td>2000</td>\n",
       "      <td>SOUTHERN WINE &amp; SPIRITS NE</td>\n",
       "      <td>11764</td>\n",
       "      <td>2016-08-22</td>\n",
       "      <td>2016-08-29</td>\n",
       "      <td>2016-09-05</td>\n",
       "      <td>2016-10-11</td>\n",
       "      <td>479.45</td>\n",
       "      <td>3</td>\n",
       "      <td>1438.35</td>\n",
       "      <td>2</td>\n",
       "      <td>2025-05-27 18:54:37</td>\n",
       "    </tr>\n",
       "    <tr>\n",
       "      <th>1544248</th>\n",
       "      <td>81__23325</td>\n",
       "      <td>81</td>\n",
       "      <td>23325</td>\n",
       "      <td>Ch Bellevue-Mondotte 11 Emil</td>\n",
       "      <td>750mL</td>\n",
       "      <td>2000</td>\n",
       "      <td>SOUTHERN WINE &amp; SPIRITS NE</td>\n",
       "      <td>11764</td>\n",
       "      <td>2016-08-22</td>\n",
       "      <td>2016-08-29</td>\n",
       "      <td>2016-09-05</td>\n",
       "      <td>2016-10-11</td>\n",
       "      <td>136.36</td>\n",
       "      <td>3</td>\n",
       "      <td>409.08</td>\n",
       "      <td>2</td>\n",
       "      <td>2025-05-27 18:54:37</td>\n",
       "    </tr>\n",
       "    <tr>\n",
       "      <th>1544318</th>\n",
       "      <td>81__23286</td>\n",
       "      <td>81</td>\n",
       "      <td>23286</td>\n",
       "      <td>Ch Pape Clement Bl Gr Cru 11</td>\n",
       "      <td>750mL</td>\n",
       "      <td>2000</td>\n",
       "      <td>SOUTHERN WINE &amp; SPIRITS NE</td>\n",
       "      <td>11764</td>\n",
       "      <td>2016-08-22</td>\n",
       "      <td>2016-08-29</td>\n",
       "      <td>2016-09-05</td>\n",
       "      <td>2016-10-11</td>\n",
       "      <td>132.44</td>\n",
       "      <td>2</td>\n",
       "      <td>264.88</td>\n",
       "      <td>2</td>\n",
       "      <td>2025-05-27 18:54:37</td>\n",
       "    </tr>\n",
       "    <tr>\n",
       "      <th>1544401</th>\n",
       "      <td>81__23324</td>\n",
       "      <td>81</td>\n",
       "      <td>23324</td>\n",
       "      <td>Ch Angelus 11 Brdx</td>\n",
       "      <td>750mL</td>\n",
       "      <td>2000</td>\n",
       "      <td>SOUTHERN WINE &amp; SPIRITS NE</td>\n",
       "      <td>11764</td>\n",
       "      <td>2016-08-22</td>\n",
       "      <td>2016-08-29</td>\n",
       "      <td>2016-09-05</td>\n",
       "      <td>2016-10-11</td>\n",
       "      <td>189.18</td>\n",
       "      <td>3</td>\n",
       "      <td>567.54</td>\n",
       "      <td>2</td>\n",
       "      <td>2025-05-27 18:54:37</td>\n",
       "    </tr>\n",
       "    <tr>\n",
       "      <th>1549207</th>\n",
       "      <td>81__15971</td>\n",
       "      <td>81</td>\n",
       "      <td>15971</td>\n",
       "      <td>Revana Cab Svgn Napa Vly</td>\n",
       "      <td>750mL</td>\n",
       "      <td>9165</td>\n",
       "      <td>ULTRA BEVERAGE COMPANY LLP</td>\n",
       "      <td>11788</td>\n",
       "      <td>2016-08-23</td>\n",
       "      <td>2016-08-29</td>\n",
       "      <td>2016-09-10</td>\n",
       "      <td>2016-10-20</td>\n",
       "      <td>71.89</td>\n",
       "      <td>3</td>\n",
       "      <td>215.67</td>\n",
       "      <td>2</td>\n",
       "      <td>2025-05-27 18:54:37</td>\n",
       "    </tr>\n",
       "  </tbody>\n",
       "</table>\n",
       "<p>1726 rows × 17 columns</p>\n",
       "</div>"
      ],
      "text/plain": [
       "        InventoryId  Store  Brand                   Description   Size  \\\n",
       "983465     46__5255     46   5255  TGI Fridays Ultimte Mudslide  1.75L   \n",
       "983473     46__5215     46   5215  TGI Fridays Long Island Iced  1.75L   \n",
       "983509     46__3472     46   3472      Cazadores Blanco Tequila  750mL   \n",
       "983533     46__4075     46   4075      Bacardi Pineapple Fusion  1.75L   \n",
       "983558     46__4179     46   4179      Bacardi Dragon Berry Rum  1.75L   \n",
       "...             ...    ...    ...                           ...    ...   \n",
       "1544208   81__23289     81  23289  Ch Mouton Rothschild 11 Paui  750mL   \n",
       "1544248   81__23325     81  23325  Ch Bellevue-Mondotte 11 Emil  750mL   \n",
       "1544318   81__23286     81  23286  Ch Pape Clement Bl Gr Cru 11  750mL   \n",
       "1544401   81__23324     81  23324            Ch Angelus 11 Brdx  750mL   \n",
       "1549207   81__15971     81  15971      Revana Cab Svgn Napa Vly  750mL   \n",
       "\n",
       "         VendorNumber                   VendorName  PONumber     PODate  \\\n",
       "983465           4466  AMERICAN VINTAGE BEVERAGE       10695 2016-06-16   \n",
       "983473           4466  AMERICAN VINTAGE BEVERAGE       10695 2016-06-16   \n",
       "983509            480  BACARDI USA INC                 10665 2016-06-14   \n",
       "983533            480  BACARDI USA INC                 10665 2016-06-14   \n",
       "983558            480  BACARDI USA INC                 10665 2016-06-14   \n",
       "...               ...                          ...       ...        ...   \n",
       "1544208          2000  SOUTHERN WINE & SPIRITS NE      11764 2016-08-22   \n",
       "1544248          2000  SOUTHERN WINE & SPIRITS NE      11764 2016-08-22   \n",
       "1544318          2000  SOUTHERN WINE & SPIRITS NE      11764 2016-08-22   \n",
       "1544401          2000  SOUTHERN WINE & SPIRITS NE      11764 2016-08-22   \n",
       "1549207          9165  ULTRA BEVERAGE COMPANY LLP      11788 2016-08-23   \n",
       "\n",
       "        ReceivingDate InvoiceDate    PayDate  PurchasePrice  Quantity  \\\n",
       "983465     2016-06-20  2016-06-29 2016-08-12           9.35         3   \n",
       "983473     2016-06-20  2016-06-29 2016-08-12           9.41         5   \n",
       "983509     2016-06-20  2016-07-04 2016-08-12          11.10         9   \n",
       "983533     2016-06-20  2016-07-04 2016-08-12          15.87         3   \n",
       "983558     2016-06-20  2016-07-04 2016-08-12          15.14         8   \n",
       "...               ...         ...        ...            ...       ...   \n",
       "1544208    2016-08-29  2016-09-05 2016-10-11         479.45         3   \n",
       "1544248    2016-08-29  2016-09-05 2016-10-11         136.36         3   \n",
       "1544318    2016-08-29  2016-09-05 2016-10-11         132.44         2   \n",
       "1544401    2016-08-29  2016-09-05 2016-10-11         189.18         3   \n",
       "1549207    2016-08-29  2016-09-10 2016-10-20          71.89         3   \n",
       "\n",
       "         Dollars  Classification fecha_actualizacion  \n",
       "983465     28.05               1 2025-05-27 18:54:37  \n",
       "983473     47.05               1 2025-05-27 18:54:37  \n",
       "983509     99.90               1 2025-05-27 18:54:37  \n",
       "983533     47.61               1 2025-05-27 18:54:37  \n",
       "983558    121.12               1 2025-05-27 18:54:37  \n",
       "...          ...             ...                 ...  \n",
       "1544208  1438.35               2 2025-05-27 18:54:37  \n",
       "1544248   409.08               2 2025-05-27 18:54:37  \n",
       "1544318   264.88               2 2025-05-27 18:54:37  \n",
       "1544401   567.54               2 2025-05-27 18:54:37  \n",
       "1549207   215.67               2 2025-05-27 18:54:37  \n",
       "\n",
       "[1726 rows x 17 columns]"
      ]
     },
     "execution_count": 156,
     "metadata": {},
     "output_type": "execute_result"
    }
   ],
   "source": [
    "df2[df2['InventoryId'].str.contains('__', na=False)]"
   ]
  },
  {
   "cell_type": "code",
   "execution_count": 157,
   "id": "94c20f55",
   "metadata": {},
   "outputs": [],
   "source": [
    "def remove_whitespace(df2,*columns):\n",
    "    for column in columns:\n",
    "        df2[column]=df2[column].str.strip()\n",
    "    return df2\n",
    "\n",
    "df2=remove_whitespace(df2,'Description','VendorName')"
   ]
  },
  {
   "cell_type": "code",
   "execution_count": 158,
   "id": "2882b68b",
   "metadata": {},
   "outputs": [],
   "source": [
    "def typecast_date(df2,*columns):\n",
    "    for column in columns:\n",
    "        df2[column]=pd.to_datetime(df2[column])\n",
    "    return df2\n",
    "\n",
    "\n",
    "df2=typecast_date(df2,'PODate','ReceivingDate','InvoiceDate','PayDate')"
   ]
  },
  {
   "cell_type": "markdown",
   "id": "e6c9f11a",
   "metadata": {},
   "source": [
    "## Aca finaliza la limpieza de PurchaseFINAL12312016\n",
    "## Aca inicia la limpieza de SalesFINAL12312016"
   ]
  },
  {
   "cell_type": "code",
   "execution_count": 31,
   "id": "890ea0fb",
   "metadata": {},
   "outputs": [],
   "source": [
    "df3 = pd.read_sql_table(\"SalesFINAL12312016\", con=engine)"
   ]
  },
  {
   "cell_type": "code",
   "execution_count": 32,
   "id": "8ac76c47",
   "metadata": {},
   "outputs": [
    {
     "data": {
      "application/vnd.microsoft.datawrangler.viewer.v0+json": {
       "columns": [
        {
         "name": "index",
         "rawType": "int64",
         "type": "integer"
        },
        {
         "name": "InventoryId",
         "rawType": "object",
         "type": "string"
        },
        {
         "name": "Store",
         "rawType": "int64",
         "type": "integer"
        },
        {
         "name": "Brand",
         "rawType": "int64",
         "type": "integer"
        },
        {
         "name": "Description",
         "rawType": "object",
         "type": "string"
        },
        {
         "name": "Size",
         "rawType": "object",
         "type": "string"
        },
        {
         "name": "SalesQuantity",
         "rawType": "int64",
         "type": "integer"
        },
        {
         "name": "SalesDollars",
         "rawType": "float64",
         "type": "float"
        },
        {
         "name": "SalesPrice",
         "rawType": "float64",
         "type": "float"
        },
        {
         "name": "SalesDate",
         "rawType": "datetime64[ns]",
         "type": "datetime"
        },
        {
         "name": "Volume",
         "rawType": "float64",
         "type": "float"
        },
        {
         "name": "Classification",
         "rawType": "int64",
         "type": "integer"
        },
        {
         "name": "ExciseTax",
         "rawType": "float64",
         "type": "float"
        },
        {
         "name": "VendorNo",
         "rawType": "int64",
         "type": "integer"
        },
        {
         "name": "VendorName",
         "rawType": "object",
         "type": "string"
        },
        {
         "name": "fecha_actualizacion",
         "rawType": "datetime64[ns]",
         "type": "datetime"
        }
       ],
       "ref": "8ab35e61-71c2-4ea1-91c5-441448392f5e",
       "rows": [
        [
         "0",
         "1_HARDERSFIELD_1001",
         "1",
         "1001",
         "Bailey's 50mL 4 Pack",
         "50mL 4 Pk",
         "1",
         "5.99",
         "5.99",
         "2016-08-05 00:00:00",
         "50.0",
         "1",
         "0.05",
         "3960",
         "DIAGEO NORTH AMERICA INC   \"\r\n\"1_HARDERSFIELD_1001",
         "2025-05-27 18:54:47"
        ],
        [
         "1",
         "1_HARDERSFIELD_1001",
         "1",
         "1001",
         "Bailey's 50mL 4 Pack",
         "50mL 4 Pk",
         "1",
         "5.99",
         "5.99",
         "2016-08-12 00:00:00",
         "50.0",
         "1",
         "0.05",
         "3960",
         "DIAGEO NORTH AMERICA INC   \"\r\n\"1_HARDERSFIELD_1001",
         "2025-05-27 18:54:47"
        ],
        [
         "2",
         "1_HARDERSFIELD_1001",
         "1",
         "1001",
         "Bailey's 50mL 4 Pack",
         "50mL 4 Pk",
         "1",
         "5.99",
         "5.99",
         "2016-08-20 00:00:00",
         "50.0",
         "1",
         "0.05",
         "3960",
         "DIAGEO NORTH AMERICA INC   \"\r\n\"1_HARDERSFIELD_1001",
         "2025-05-27 18:54:47"
        ],
        [
         "3",
         "1_HARDERSFIELD_1001",
         "1",
         "1001",
         "Bailey's 50mL 4 Pack",
         "50mL 4 Pk",
         "1",
         "5.99",
         "5.99",
         "2016-08-29 00:00:00",
         "50.0",
         "1",
         "0.05",
         "3960",
         "DIAGEO NORTH AMERICA INC   \"\r\n\"1_HARDERSFIELD_1001",
         "2025-05-27 18:54:47"
        ],
        [
         "4",
         "1_HARDERSFIELD_1001",
         "1",
         "1001",
         "Bailey's 50mL 4 Pack",
         "50mL 4 Pk",
         "1",
         "5.99",
         "5.99",
         "2016-09-08 00:00:00",
         "50.0",
         "1",
         "0.05",
         "3960",
         "DIAGEO NORTH AMERICA INC   \"\r\n\"1_HARDERSFIELD_1001",
         "2025-05-27 18:54:47"
        ]
       ],
       "shape": {
        "columns": 15,
        "rows": 5
       }
      },
      "text/html": [
       "<div>\n",
       "<style scoped>\n",
       "    .dataframe tbody tr th:only-of-type {\n",
       "        vertical-align: middle;\n",
       "    }\n",
       "\n",
       "    .dataframe tbody tr th {\n",
       "        vertical-align: top;\n",
       "    }\n",
       "\n",
       "    .dataframe thead th {\n",
       "        text-align: right;\n",
       "    }\n",
       "</style>\n",
       "<table border=\"1\" class=\"dataframe\">\n",
       "  <thead>\n",
       "    <tr style=\"text-align: right;\">\n",
       "      <th></th>\n",
       "      <th>InventoryId</th>\n",
       "      <th>Store</th>\n",
       "      <th>Brand</th>\n",
       "      <th>Description</th>\n",
       "      <th>Size</th>\n",
       "      <th>SalesQuantity</th>\n",
       "      <th>SalesDollars</th>\n",
       "      <th>SalesPrice</th>\n",
       "      <th>SalesDate</th>\n",
       "      <th>Volume</th>\n",
       "      <th>Classification</th>\n",
       "      <th>ExciseTax</th>\n",
       "      <th>VendorNo</th>\n",
       "      <th>VendorName</th>\n",
       "      <th>fecha_actualizacion</th>\n",
       "    </tr>\n",
       "  </thead>\n",
       "  <tbody>\n",
       "    <tr>\n",
       "      <th>0</th>\n",
       "      <td>1_HARDERSFIELD_1001</td>\n",
       "      <td>1</td>\n",
       "      <td>1001</td>\n",
       "      <td>Bailey's 50mL 4 Pack</td>\n",
       "      <td>50mL 4 Pk</td>\n",
       "      <td>1</td>\n",
       "      <td>5.99</td>\n",
       "      <td>5.99</td>\n",
       "      <td>2016-08-05</td>\n",
       "      <td>50.0</td>\n",
       "      <td>1</td>\n",
       "      <td>0.05</td>\n",
       "      <td>3960</td>\n",
       "      <td>DIAGEO NORTH AMERICA INC   \"\\r\\n\"1_HARDERSFIEL...</td>\n",
       "      <td>2025-05-27 18:54:47</td>\n",
       "    </tr>\n",
       "    <tr>\n",
       "      <th>1</th>\n",
       "      <td>1_HARDERSFIELD_1001</td>\n",
       "      <td>1</td>\n",
       "      <td>1001</td>\n",
       "      <td>Bailey's 50mL 4 Pack</td>\n",
       "      <td>50mL 4 Pk</td>\n",
       "      <td>1</td>\n",
       "      <td>5.99</td>\n",
       "      <td>5.99</td>\n",
       "      <td>2016-08-12</td>\n",
       "      <td>50.0</td>\n",
       "      <td>1</td>\n",
       "      <td>0.05</td>\n",
       "      <td>3960</td>\n",
       "      <td>DIAGEO NORTH AMERICA INC   \"\\r\\n\"1_HARDERSFIEL...</td>\n",
       "      <td>2025-05-27 18:54:47</td>\n",
       "    </tr>\n",
       "    <tr>\n",
       "      <th>2</th>\n",
       "      <td>1_HARDERSFIELD_1001</td>\n",
       "      <td>1</td>\n",
       "      <td>1001</td>\n",
       "      <td>Bailey's 50mL 4 Pack</td>\n",
       "      <td>50mL 4 Pk</td>\n",
       "      <td>1</td>\n",
       "      <td>5.99</td>\n",
       "      <td>5.99</td>\n",
       "      <td>2016-08-20</td>\n",
       "      <td>50.0</td>\n",
       "      <td>1</td>\n",
       "      <td>0.05</td>\n",
       "      <td>3960</td>\n",
       "      <td>DIAGEO NORTH AMERICA INC   \"\\r\\n\"1_HARDERSFIEL...</td>\n",
       "      <td>2025-05-27 18:54:47</td>\n",
       "    </tr>\n",
       "    <tr>\n",
       "      <th>3</th>\n",
       "      <td>1_HARDERSFIELD_1001</td>\n",
       "      <td>1</td>\n",
       "      <td>1001</td>\n",
       "      <td>Bailey's 50mL 4 Pack</td>\n",
       "      <td>50mL 4 Pk</td>\n",
       "      <td>1</td>\n",
       "      <td>5.99</td>\n",
       "      <td>5.99</td>\n",
       "      <td>2016-08-29</td>\n",
       "      <td>50.0</td>\n",
       "      <td>1</td>\n",
       "      <td>0.05</td>\n",
       "      <td>3960</td>\n",
       "      <td>DIAGEO NORTH AMERICA INC   \"\\r\\n\"1_HARDERSFIEL...</td>\n",
       "      <td>2025-05-27 18:54:47</td>\n",
       "    </tr>\n",
       "    <tr>\n",
       "      <th>4</th>\n",
       "      <td>1_HARDERSFIELD_1001</td>\n",
       "      <td>1</td>\n",
       "      <td>1001</td>\n",
       "      <td>Bailey's 50mL 4 Pack</td>\n",
       "      <td>50mL 4 Pk</td>\n",
       "      <td>1</td>\n",
       "      <td>5.99</td>\n",
       "      <td>5.99</td>\n",
       "      <td>2016-09-08</td>\n",
       "      <td>50.0</td>\n",
       "      <td>1</td>\n",
       "      <td>0.05</td>\n",
       "      <td>3960</td>\n",
       "      <td>DIAGEO NORTH AMERICA INC   \"\\r\\n\"1_HARDERSFIEL...</td>\n",
       "      <td>2025-05-27 18:54:47</td>\n",
       "    </tr>\n",
       "  </tbody>\n",
       "</table>\n",
       "</div>"
      ],
      "text/plain": [
       "           InventoryId  Store  Brand           Description       Size  \\\n",
       "0  1_HARDERSFIELD_1001      1   1001  Bailey's 50mL 4 Pack  50mL 4 Pk   \n",
       "1  1_HARDERSFIELD_1001      1   1001  Bailey's 50mL 4 Pack  50mL 4 Pk   \n",
       "2  1_HARDERSFIELD_1001      1   1001  Bailey's 50mL 4 Pack  50mL 4 Pk   \n",
       "3  1_HARDERSFIELD_1001      1   1001  Bailey's 50mL 4 Pack  50mL 4 Pk   \n",
       "4  1_HARDERSFIELD_1001      1   1001  Bailey's 50mL 4 Pack  50mL 4 Pk   \n",
       "\n",
       "   SalesQuantity  SalesDollars  SalesPrice  SalesDate  Volume  Classification  \\\n",
       "0              1          5.99        5.99 2016-08-05    50.0               1   \n",
       "1              1          5.99        5.99 2016-08-12    50.0               1   \n",
       "2              1          5.99        5.99 2016-08-20    50.0               1   \n",
       "3              1          5.99        5.99 2016-08-29    50.0               1   \n",
       "4              1          5.99        5.99 2016-09-08    50.0               1   \n",
       "\n",
       "   ExciseTax  VendorNo                                         VendorName  \\\n",
       "0       0.05      3960  DIAGEO NORTH AMERICA INC   \"\\r\\n\"1_HARDERSFIEL...   \n",
       "1       0.05      3960  DIAGEO NORTH AMERICA INC   \"\\r\\n\"1_HARDERSFIEL...   \n",
       "2       0.05      3960  DIAGEO NORTH AMERICA INC   \"\\r\\n\"1_HARDERSFIEL...   \n",
       "3       0.05      3960  DIAGEO NORTH AMERICA INC   \"\\r\\n\"1_HARDERSFIEL...   \n",
       "4       0.05      3960  DIAGEO NORTH AMERICA INC   \"\\r\\n\"1_HARDERSFIEL...   \n",
       "\n",
       "  fecha_actualizacion  \n",
       "0 2025-05-27 18:54:47  \n",
       "1 2025-05-27 18:54:47  \n",
       "2 2025-05-27 18:54:47  \n",
       "3 2025-05-27 18:54:47  \n",
       "4 2025-05-27 18:54:47  "
      ]
     },
     "execution_count": 32,
     "metadata": {},
     "output_type": "execute_result"
    }
   ],
   "source": [
    "df3.head()"
   ]
  },
  {
   "cell_type": "code",
   "execution_count": 33,
   "id": "5635f614",
   "metadata": {},
   "outputs": [
    {
     "data": {
      "text/plain": [
       "(6412682, 15)"
      ]
     },
     "execution_count": 33,
     "metadata": {},
     "output_type": "execute_result"
    }
   ],
   "source": [
    "np.shape(df3)"
   ]
  },
  {
   "cell_type": "code",
   "execution_count": 34,
   "id": "a714e8ca",
   "metadata": {},
   "outputs": [
    {
     "name": "stdout",
     "output_type": "stream",
     "text": [
      "<class 'pandas.core.frame.DataFrame'>\n",
      "RangeIndex: 6412682 entries, 0 to 6412681\n",
      "Data columns (total 15 columns):\n",
      " #   Column               Dtype         \n",
      "---  ------               -----         \n",
      " 0   InventoryId          object        \n",
      " 1   Store                int64         \n",
      " 2   Brand                int64         \n",
      " 3   Description          object        \n",
      " 4   Size                 object        \n",
      " 5   SalesQuantity        int64         \n",
      " 6   SalesDollars         float64       \n",
      " 7   SalesPrice           float64       \n",
      " 8   SalesDate            datetime64[ns]\n",
      " 9   Volume               float64       \n",
      " 10  Classification       int64         \n",
      " 11  ExciseTax            float64       \n",
      " 12  VendorNo             int64         \n",
      " 13  VendorName           object        \n",
      " 14  fecha_actualizacion  datetime64[ns]\n",
      "dtypes: datetime64[ns](2), float64(4), int64(5), object(4)\n",
      "memory usage: 733.9+ MB\n",
      "None\n"
     ]
    }
   ],
   "source": [
    "print(df3.info())"
   ]
  },
  {
   "cell_type": "markdown",
   "id": "d9029e26",
   "metadata": {},
   "source": [
    "Como en la df1, hay un error con la carga de vendorname, reemplazo los valores."
   ]
  },
  {
   "cell_type": "code",
   "execution_count": 35,
   "id": "f1a5d8f8",
   "metadata": {},
   "outputs": [],
   "source": [
    "df3['VendorName'] = df3['VendorName'].astype(str).str.extract(r'^([^\\r\\n]*)')[0].str.strip('\"')"
   ]
  },
  {
   "cell_type": "markdown",
   "id": "5c1dc2bd",
   "metadata": {},
   "source": [
    "Analizo las columnas con datos numericos"
   ]
  },
  {
   "cell_type": "code",
   "execution_count": 36,
   "id": "b4e72d2c",
   "metadata": {},
   "outputs": [
    {
     "name": "stdout",
     "output_type": "stream",
     "text": [
      "Estadísticas para Store:\n",
      "  Media: 43.90\n",
      "  Mediana: 47.00\n",
      "  Desviación estándar: 23.54\n",
      "  Mínimo: 0.00\n",
      "  Máximo: 81.00\n",
      "----------------------------------------\n",
      "Estadísticas para Brand:\n",
      "  Media: 12154.35\n",
      "  Mediana: 6349.00\n",
      "  Desviación estándar: 12368.17\n",
      "  Mínimo: 0.00\n",
      "  Máximo: 90631.00\n",
      "----------------------------------------\n",
      "Estadísticas para SalesQuantity:\n",
      "  Media: 2.57\n",
      "  Mediana: 1.00\n",
      "  Desviación estándar: 4.57\n",
      "  Mínimo: 0.00\n",
      "  Máximo: 1176.00\n",
      "----------------------------------------\n",
      "Estadísticas para SalesDollars:\n",
      "  Media: 35.27\n",
      "  Mediana: 18.99\n",
      "  Desviación estándar: 88.31\n",
      "  Mínimo: 0.00\n",
      "  Máximo: 22994.03\n",
      "----------------------------------------\n",
      "Estadísticas para SalesPrice:\n",
      "  Media: 15.69\n",
      "  Mediana: 12.99\n",
      "  Desviación estándar: 15.26\n",
      "  Mínimo: 0.00\n",
      "  Máximo: 4999.99\n",
      "----------------------------------------\n",
      "Estadísticas para Volume:\n",
      "  Media: 939.36\n",
      "  Mediana: 750.00\n",
      "  Desviación estándar: 699.23\n",
      "  Mínimo: 0.00\n",
      "  Máximo: 20000.00\n",
      "----------------------------------------\n",
      "Estadísticas para Classification:\n",
      "  Media: 1.41\n",
      "  Mediana: 1.00\n",
      "  Desviación estándar: 0.49\n",
      "  Mínimo: 0.00\n",
      "  Máximo: 2.00\n",
      "----------------------------------------\n",
      "Estadísticas para ExciseTax:\n",
      "  Media: 1.48\n",
      "  Mediana: 0.75\n",
      "  Desviación estándar: 4.74\n",
      "  Mínimo: 0.00\n",
      "  Máximo: 1034.51\n",
      "----------------------------------------\n",
      "Estadísticas para VendorNo:\n",
      "  Media: 7125.15\n",
      "  Mediana: 4692.00\n",
      "  Desviación estándar: 8736.17\n",
      "  Mínimo: 0.00\n",
      "  Máximo: 201359.00\n",
      "----------------------------------------\n"
     ]
    }
   ],
   "source": [
    "columnas_numericas2 = df3.select_dtypes(include='number').columns\n",
    "\n",
    "for col in columnas_numericas2:\n",
    "    print(f\"Estadísticas para {col}:\")\n",
    "    print(f\"  Media: {df3[col].mean():.2f}\")\n",
    "    print(f\"  Mediana: {df3[col].median():.2f}\")\n",
    "    print(f\"  Desviación estándar: {df3[col].std():.2f}\")\n",
    "    print(f\"  Mínimo: {df3[col].min():.2f}\")\n",
    "    print(f\"  Máximo: {df3[col].max():.2f}\")\n",
    "    print(\"-\" * 40)"
   ]
  },
  {
   "cell_type": "markdown",
   "id": "073d633b",
   "metadata": {},
   "source": [
    "Encuentro datos faltantes en varias columnas. Primero analizo Store que tiene valores 0, no puede haber una venta que no tenga asignada una tienda."
   ]
  },
  {
   "cell_type": "code",
   "execution_count": 37,
   "id": "6992cf29",
   "metadata": {},
   "outputs": [
    {
     "data": {
      "application/vnd.microsoft.datawrangler.viewer.v0+json": {
       "columns": [
        {
         "name": "index",
         "rawType": "object",
         "type": "string"
        },
        {
         "name": "0",
         "rawType": "int64",
         "type": "integer"
        }
       ],
       "ref": "2eceb485-7c79-40db-8669-a5664c4c410f",
       "rows": [
        [
         "InventoryId",
         "0"
        ],
        [
         "Store",
         "0"
        ],
        [
         "Brand",
         "0"
        ],
        [
         "Description",
         "0"
        ],
        [
         "Size",
         "0"
        ],
        [
         "SalesQuantity",
         "0"
        ],
        [
         "SalesDollars",
         "0"
        ],
        [
         "SalesPrice",
         "0"
        ],
        [
         "SalesDate",
         "1"
        ],
        [
         "Volume",
         "0"
        ],
        [
         "Classification",
         "0"
        ],
        [
         "ExciseTax",
         "0"
        ],
        [
         "VendorNo",
         "0"
        ],
        [
         "VendorName",
         "0"
        ],
        [
         "fecha_actualizacion",
         "0"
        ]
       ],
       "shape": {
        "columns": 1,
        "rows": 15
       }
      },
      "text/plain": [
       "InventoryId            0\n",
       "Store                  0\n",
       "Brand                  0\n",
       "Description            0\n",
       "Size                   0\n",
       "SalesQuantity          0\n",
       "SalesDollars           0\n",
       "SalesPrice             0\n",
       "SalesDate              1\n",
       "Volume                 0\n",
       "Classification         0\n",
       "ExciseTax              0\n",
       "VendorNo               0\n",
       "VendorName             0\n",
       "fecha_actualizacion    0\n",
       "dtype: int64"
      ]
     },
     "execution_count": 37,
     "metadata": {},
     "output_type": "execute_result"
    }
   ],
   "source": [
    "df3.isnull().sum()"
   ]
  },
  {
   "cell_type": "code",
   "execution_count": 38,
   "id": "bd277b44",
   "metadata": {},
   "outputs": [
    {
     "data": {
      "application/vnd.microsoft.datawrangler.viewer.v0+json": {
       "columns": [
        {
         "name": "index",
         "rawType": "int64",
         "type": "integer"
        },
        {
         "name": "InventoryId",
         "rawType": "object",
         "type": "string"
        },
        {
         "name": "Store",
         "rawType": "int64",
         "type": "integer"
        },
        {
         "name": "Brand",
         "rawType": "int64",
         "type": "integer"
        },
        {
         "name": "Description",
         "rawType": "object",
         "type": "string"
        },
        {
         "name": "Size",
         "rawType": "object",
         "type": "string"
        },
        {
         "name": "SalesQuantity",
         "rawType": "int64",
         "type": "integer"
        },
        {
         "name": "SalesDollars",
         "rawType": "float64",
         "type": "float"
        },
        {
         "name": "SalesPrice",
         "rawType": "float64",
         "type": "float"
        },
        {
         "name": "SalesDate",
         "rawType": "datetime64[ns]",
         "type": "datetime"
        },
        {
         "name": "Volume",
         "rawType": "float64",
         "type": "float"
        },
        {
         "name": "Classification",
         "rawType": "int64",
         "type": "integer"
        },
        {
         "name": "ExciseTax",
         "rawType": "float64",
         "type": "float"
        },
        {
         "name": "VendorNo",
         "rawType": "int64",
         "type": "integer"
        },
        {
         "name": "VendorName",
         "rawType": "object",
         "type": "string"
        },
        {
         "name": "fecha_actualizacion",
         "rawType": "datetime64[ns]",
         "type": "datetime"
        }
       ],
       "ref": "d93ed872-d2d7-4ea0-809d-a5d31a10436e",
       "rows": [
        [
         "6412681",
         "InventoryId",
         "0",
         "0",
         "Description",
         "Size",
         "0",
         "0.0",
         "0.0",
         null,
         "0.0",
         "0",
         "0.0",
         "0",
         "VendorName",
         "2025-05-27 18:54:47"
        ]
       ],
       "shape": {
        "columns": 15,
        "rows": 1
       }
      },
      "text/html": [
       "<div>\n",
       "<style scoped>\n",
       "    .dataframe tbody tr th:only-of-type {\n",
       "        vertical-align: middle;\n",
       "    }\n",
       "\n",
       "    .dataframe tbody tr th {\n",
       "        vertical-align: top;\n",
       "    }\n",
       "\n",
       "    .dataframe thead th {\n",
       "        text-align: right;\n",
       "    }\n",
       "</style>\n",
       "<table border=\"1\" class=\"dataframe\">\n",
       "  <thead>\n",
       "    <tr style=\"text-align: right;\">\n",
       "      <th></th>\n",
       "      <th>InventoryId</th>\n",
       "      <th>Store</th>\n",
       "      <th>Brand</th>\n",
       "      <th>Description</th>\n",
       "      <th>Size</th>\n",
       "      <th>SalesQuantity</th>\n",
       "      <th>SalesDollars</th>\n",
       "      <th>SalesPrice</th>\n",
       "      <th>SalesDate</th>\n",
       "      <th>Volume</th>\n",
       "      <th>Classification</th>\n",
       "      <th>ExciseTax</th>\n",
       "      <th>VendorNo</th>\n",
       "      <th>VendorName</th>\n",
       "      <th>fecha_actualizacion</th>\n",
       "    </tr>\n",
       "  </thead>\n",
       "  <tbody>\n",
       "    <tr>\n",
       "      <th>6412681</th>\n",
       "      <td>InventoryId</td>\n",
       "      <td>0</td>\n",
       "      <td>0</td>\n",
       "      <td>Description</td>\n",
       "      <td>Size</td>\n",
       "      <td>0</td>\n",
       "      <td>0.0</td>\n",
       "      <td>0.0</td>\n",
       "      <td>NaT</td>\n",
       "      <td>0.0</td>\n",
       "      <td>0</td>\n",
       "      <td>0.0</td>\n",
       "      <td>0</td>\n",
       "      <td>VendorName</td>\n",
       "      <td>2025-05-27 18:54:47</td>\n",
       "    </tr>\n",
       "  </tbody>\n",
       "</table>\n",
       "</div>"
      ],
      "text/plain": [
       "         InventoryId  Store  Brand  Description  Size  SalesQuantity  \\\n",
       "6412681  InventoryId      0      0  Description  Size              0   \n",
       "\n",
       "         SalesDollars  SalesPrice SalesDate  Volume  Classification  \\\n",
       "6412681           0.0         0.0       NaT     0.0               0   \n",
       "\n",
       "         ExciseTax  VendorNo  VendorName fecha_actualizacion  \n",
       "6412681        0.0         0  VendorName 2025-05-27 18:54:47  "
      ]
     },
     "execution_count": 38,
     "metadata": {},
     "output_type": "execute_result"
    }
   ],
   "source": [
    "df3[(df3['Store'].isnull()) | (df3['Store'] == 0)]"
   ]
  },
  {
   "cell_type": "code",
   "execution_count": 39,
   "id": "471c38be",
   "metadata": {},
   "outputs": [],
   "source": [
    "df3 = df3.drop(df3[(df3['Store'].isnull()) | (df3['Store'] == 0)].index)"
   ]
  },
  {
   "cell_type": "code",
   "execution_count": 40,
   "id": "d7ef3612",
   "metadata": {},
   "outputs": [
    {
     "name": "stdout",
     "output_type": "stream",
     "text": [
      "Estadísticas para Store:\n",
      "  Media: 43.90\n",
      "  Mediana: 47.00\n",
      "  Desviación estándar: 23.54\n",
      "  Mínimo: 1.00\n",
      "  Máximo: 81.00\n",
      "----------------------------------------\n",
      "Estadísticas para Brand:\n",
      "  Media: 12154.36\n",
      "  Mediana: 6349.00\n",
      "  Desviación estándar: 12368.17\n",
      "  Mínimo: 58.00\n",
      "  Máximo: 90631.00\n",
      "----------------------------------------\n",
      "Estadísticas para SalesQuantity:\n",
      "  Media: 2.57\n",
      "  Mediana: 1.00\n",
      "  Desviación estándar: 4.57\n",
      "  Mínimo: 1.00\n",
      "  Máximo: 1176.00\n",
      "----------------------------------------\n",
      "Estadísticas para SalesDollars:\n",
      "  Media: 35.27\n",
      "  Mediana: 18.99\n",
      "  Desviación estándar: 88.31\n",
      "  Mínimo: 0.00\n",
      "  Máximo: 22994.03\n",
      "----------------------------------------\n",
      "Estadísticas para SalesPrice:\n",
      "  Media: 15.69\n",
      "  Mediana: 12.99\n",
      "  Desviación estándar: 15.26\n",
      "  Mínimo: 0.00\n",
      "  Máximo: 4999.99\n",
      "----------------------------------------\n",
      "Estadísticas para Volume:\n",
      "  Media: 939.36\n",
      "  Mediana: 750.00\n",
      "  Desviación estándar: 699.23\n",
      "  Mínimo: 50.00\n",
      "  Máximo: 20000.00\n",
      "----------------------------------------\n",
      "Estadísticas para Classification:\n",
      "  Media: 1.41\n",
      "  Mediana: 1.00\n",
      "  Desviación estándar: 0.49\n",
      "  Mínimo: 1.00\n",
      "  Máximo: 2.00\n",
      "----------------------------------------\n",
      "Estadísticas para ExciseTax:\n",
      "  Media: 1.48\n",
      "  Mediana: 0.75\n",
      "  Desviación estándar: 4.74\n",
      "  Mínimo: 0.01\n",
      "  Máximo: 1034.51\n",
      "----------------------------------------\n",
      "Estadísticas para VendorNo:\n",
      "  Media: 7125.15\n",
      "  Mediana: 4692.00\n",
      "  Desviación estándar: 8736.17\n",
      "  Mínimo: 2.00\n",
      "  Máximo: 201359.00\n",
      "----------------------------------------\n"
     ]
    }
   ],
   "source": [
    "columnas_numericas2 = df3.select_dtypes(include='number').columns\n",
    "\n",
    "for col in columnas_numericas2:\n",
    "    print(f\"Estadísticas para {col}:\")\n",
    "    print(f\"  Media: {df3[col].mean():.2f}\")\n",
    "    print(f\"  Mediana: {df3[col].median():.2f}\")\n",
    "    print(f\"  Desviación estándar: {df3[col].std():.2f}\")\n",
    "    print(f\"  Mínimo: {df3[col].min():.2f}\")\n",
    "    print(f\"  Máximo: {df3[col].max():.2f}\")\n",
    "    print(\"-\" * 40)"
   ]
  },
  {
   "cell_type": "code",
   "execution_count": 41,
   "id": "0f62b59f",
   "metadata": {},
   "outputs": [
    {
     "data": {
      "application/vnd.microsoft.datawrangler.viewer.v0+json": {
       "columns": [
        {
         "name": "index",
         "rawType": "int64",
         "type": "integer"
        },
        {
         "name": "InventoryId",
         "rawType": "object",
         "type": "string"
        },
        {
         "name": "Store",
         "rawType": "int64",
         "type": "integer"
        },
        {
         "name": "Brand",
         "rawType": "int64",
         "type": "integer"
        },
        {
         "name": "Description",
         "rawType": "object",
         "type": "string"
        },
        {
         "name": "Size",
         "rawType": "object",
         "type": "string"
        },
        {
         "name": "SalesQuantity",
         "rawType": "int64",
         "type": "integer"
        },
        {
         "name": "SalesDollars",
         "rawType": "float64",
         "type": "float"
        },
        {
         "name": "SalesPrice",
         "rawType": "float64",
         "type": "float"
        },
        {
         "name": "SalesDate",
         "rawType": "datetime64[ns]",
         "type": "datetime"
        },
        {
         "name": "Volume",
         "rawType": "float64",
         "type": "float"
        },
        {
         "name": "Classification",
         "rawType": "int64",
         "type": "integer"
        },
        {
         "name": "ExciseTax",
         "rawType": "float64",
         "type": "float"
        },
        {
         "name": "VendorNo",
         "rawType": "int64",
         "type": "integer"
        },
        {
         "name": "VendorName",
         "rawType": "object",
         "type": "string"
        },
        {
         "name": "fecha_actualizacion",
         "rawType": "datetime64[ns]",
         "type": "datetime"
        }
       ],
       "ref": "51e27671-e3ca-4ebd-b8a1-268ec75aa4eb",
       "rows": [
        [
         "510458",
         "15_WANBORNE_19465",
         "15",
         "19465",
         "Flagstone Longitude Red",
         "750mL",
         "13",
         "0.0",
         "0.0",
         "2016-05-02 00:00:00",
         "750.0",
         "2",
         "1.46",
         "2000",
         "SOUTHERN WINE & SPIRITS NE ",
         "2025-05-27 18:54:47"
        ],
        [
         "1109734",
         "23_ARBINGTON_19465",
         "23",
         "19465",
         "Flagstone Longitude Red",
         "750mL",
         "6",
         "0.0",
         "0.0",
         "2016-05-04 00:00:00",
         "750.0",
         "2",
         "0.68",
         "2000",
         "SOUTHERN WINE & SPIRITS NE ",
         "2025-05-27 18:54:47"
        ],
        [
         "1884814",
         "34_PITMERDEN_3046",
         "34",
         "3046",
         "Ciroc Peach Vodka",
         "1.75L",
         "1",
         "0.0",
         "0.0",
         "2016-07-03 00:00:00",
         "1750.0",
         "1",
         "1.84",
         "3960",
         "DIAGEO NORTH AMERICA INC   ",
         "2025-05-27 18:54:47"
        ],
        [
         "1927089",
         "34_PITMERDEN_3963",
         "34",
         "3963",
         "Menage A Trois Vodka",
         "750mL",
         "1",
         "0.0",
         "0.0",
         "2016-08-01 00:00:00",
         "750.0",
         "1",
         "0.79",
         "8892",
         "TRINCHERO FAMILY ESTATES   ",
         "2025-05-27 18:54:47"
        ],
        [
         "2175751",
         "38_GOULCREST_25340",
         "38",
         "25340",
         "Dom La Soumade Rast Prestige",
         "750mL",
         "3",
         "0.0",
         "0.0",
         "2016-02-13 00:00:00",
         "750.0",
         "2",
         "0.34",
         "4425",
         "MARTIGNETTI COMPANIES",
         "2025-05-27 18:54:47"
        ],
        [
         "2197752",
         "38_GOULCREST_3046",
         "38",
         "3046",
         "Ciroc Peach Vodka",
         "1.75L",
         "1",
         "0.0",
         "0.0",
         "2016-07-03 00:00:00",
         "1750.0",
         "1",
         "1.84",
         "3960",
         "DIAGEO NORTH AMERICA INC   ",
         "2025-05-27 18:54:47"
        ],
        [
         "2730027",
         "44_PORTHCRAWL_3046",
         "44",
         "3046",
         "Ciroc Peach Vodka",
         "1.75L",
         "1",
         "0.0",
         "0.0",
         "2016-07-02 00:00:00",
         "1750.0",
         "1",
         "1.84",
         "3960",
         "DIAGEO NORTH AMERICA INC   ",
         "2025-05-27 18:54:47"
        ],
        [
         "3117517",
         "50_MOUNTMEND_19669",
         "50",
         "19669",
         "Murphy-Goode Homefront Red",
         "750mL",
         "2",
         "0.0",
         "0.0",
         "2016-11-26 00:00:00",
         "750.0",
         "2",
         "0.22",
         "9552",
         "M S WALKER INC             ",
         "2025-05-27 18:54:47"
        ],
        [
         "3117518",
         "50_MOUNTMEND_19669",
         "50",
         "19669",
         "Murphy-Goode Homefront Red",
         "750mL",
         "2",
         "0.0",
         "0.0",
         "2016-11-30 00:00:00",
         "750.0",
         "2",
         "0.22",
         "9552",
         "M S WALKER INC             ",
         "2025-05-27 18:54:47"
        ],
        [
         "3117519",
         "50_MOUNTMEND_19669",
         "50",
         "19669",
         "Murphy-Goode Homefront Red",
         "750mL",
         "1",
         "0.0",
         "0.0",
         "2016-12-01 00:00:00",
         "750.0",
         "2",
         "0.11",
         "9552",
         "M S WALKER INC             ",
         "2025-05-27 18:54:47"
        ],
        [
         "3117520",
         "50_MOUNTMEND_19669",
         "50",
         "19669",
         "Murphy-Goode Homefront Red",
         "750mL",
         "2",
         "0.0",
         "0.0",
         "2016-12-09 00:00:00",
         "750.0",
         "2",
         "0.22",
         "9552",
         "M S WALKER INC             ",
         "2025-05-27 18:54:47"
        ],
        [
         "3155785",
         "50_MOUNTMEND_3046",
         "50",
         "3046",
         "Ciroc Peach Vodka",
         "1.75L",
         "1",
         "0.0",
         "0.0",
         "2016-07-03 00:00:00",
         "1750.0",
         "1",
         "1.84",
         "3960",
         "DIAGEO NORTH AMERICA INC   ",
         "2025-05-27 18:54:47"
        ],
        [
         "3439952",
         "54_GUTHRAM_19465",
         "54",
         "19465",
         "Flagstone Longitude Red",
         "750mL",
         "2",
         "0.0",
         "0.0",
         "2016-05-04 00:00:00",
         "750.0",
         "2",
         "0.22",
         "2000",
         "SOUTHERN WINE & SPIRITS NE ",
         "2025-05-27 18:54:47"
        ],
        [
         "3632771",
         "56_BEGGAR'S HOLE_19465",
         "56",
         "19465",
         "Flagstone Longitude Red",
         "750mL",
         "1",
         "0.0",
         "0.0",
         "2016-05-02 00:00:00",
         "750.0",
         "2",
         "0.11",
         "2000",
         "SOUTHERN WINE & SPIRITS NE ",
         "2025-05-27 18:54:47"
        ],
        [
         "4037292",
         "60_IRRAGIN_3046",
         "60",
         "3046",
         "Ciroc Peach Vodka",
         "1.75L",
         "1",
         "0.0",
         "0.0",
         "2016-07-04 00:00:00",
         "1750.0",
         "1",
         "1.84",
         "3960",
         "DIAGEO NORTH AMERICA INC   ",
         "2025-05-27 18:54:47"
        ],
        [
         "4151347",
         "61_AETHELNEY_3046",
         "61",
         "3046",
         "Ciroc Peach Vodka",
         "1.75L",
         "1",
         "0.0",
         "0.0",
         "2016-07-02 00:00:00",
         "1750.0",
         "1",
         "1.84",
         "3960",
         "DIAGEO NORTH AMERICA INC   ",
         "2025-05-27 18:54:47"
        ],
        [
         "4477928",
         "66_EANVERNESS_25340",
         "66",
         "25340",
         "Dom La Soumade Rast Prestige",
         "750mL",
         "1",
         "0.0",
         "0.0",
         "2016-02-16 00:00:00",
         "750.0",
         "2",
         "0.11",
         "4425",
         "MARTIGNETTI COMPANIES",
         "2025-05-27 18:54:47"
        ],
        [
         "4500153",
         "66_EANVERNESS_3046",
         "66",
         "3046",
         "Ciroc Peach Vodka",
         "1.75L",
         "1",
         "0.0",
         "0.0",
         "2016-07-02 00:00:00",
         "1750.0",
         "1",
         "1.84",
         "3960",
         "DIAGEO NORTH AMERICA INC   ",
         "2025-05-27 18:54:47"
        ],
        [
         "4541167",
         "66_EANVERNESS_3963",
         "66",
         "3963",
         "Menage A Trois Vodka",
         "750mL",
         "1",
         "0.0",
         "0.0",
         "2016-08-01 00:00:00",
         "750.0",
         "1",
         "0.79",
         "8892",
         "TRINCHERO FAMILY ESTATES   ",
         "2025-05-27 18:54:47"
        ],
        [
         "4988849",
         "69_MOUNTMEND_3046",
         "69",
         "3046",
         "Ciroc Peach Vodka",
         "1.75L",
         "1",
         "0.0",
         "0.0",
         "2016-07-02 00:00:00",
         "1750.0",
         "1",
         "1.84",
         "3960",
         "DIAGEO NORTH AMERICA INC   ",
         "2025-05-27 18:54:47"
        ],
        [
         "5024587",
         "69_MOUNTMEND_3963",
         "69",
         "3963",
         "Menage A Trois Vodka",
         "750mL",
         "1",
         "0.0",
         "0.0",
         "2016-08-01 00:00:00",
         "750.0",
         "1",
         "0.79",
         "8892",
         "TRINCHERO FAMILY ESTATES   ",
         "2025-05-27 18:54:47"
        ],
        [
         "5487576",
         "73_DONCASTER_3046",
         "73",
         "3046",
         "Ciroc Peach Vodka",
         "1.75L",
         "1",
         "0.0",
         "0.0",
         "2016-07-03 00:00:00",
         "1750.0",
         "1",
         "1.84",
         "3960",
         "DIAGEO NORTH AMERICA INC   ",
         "2025-05-27 18:54:47"
        ],
        [
         "5839704",
         "76_DONCASTER_19669",
         "76",
         "19669",
         "Murphy-Goode Homefront Red",
         "750mL",
         "12",
         "0.0",
         "0.0",
         "2016-11-18 00:00:00",
         "750.0",
         "2",
         "1.35",
         "9552",
         "M S WALKER INC             ",
         "2025-05-27 18:54:47"
        ],
        [
         "5899005",
         "76_DONCASTER_3046",
         "76",
         "3046",
         "Ciroc Peach Vodka",
         "1.75L",
         "3",
         "0.0",
         "0.0",
         "2016-07-02 00:00:00",
         "1750.0",
         "1",
         "5.51",
         "3960",
         "DIAGEO NORTH AMERICA INC   ",
         "2025-05-27 18:54:47"
        ]
       ],
       "shape": {
        "columns": 15,
        "rows": 24
       }
      },
      "text/html": [
       "<div>\n",
       "<style scoped>\n",
       "    .dataframe tbody tr th:only-of-type {\n",
       "        vertical-align: middle;\n",
       "    }\n",
       "\n",
       "    .dataframe tbody tr th {\n",
       "        vertical-align: top;\n",
       "    }\n",
       "\n",
       "    .dataframe thead th {\n",
       "        text-align: right;\n",
       "    }\n",
       "</style>\n",
       "<table border=\"1\" class=\"dataframe\">\n",
       "  <thead>\n",
       "    <tr style=\"text-align: right;\">\n",
       "      <th></th>\n",
       "      <th>InventoryId</th>\n",
       "      <th>Store</th>\n",
       "      <th>Brand</th>\n",
       "      <th>Description</th>\n",
       "      <th>Size</th>\n",
       "      <th>SalesQuantity</th>\n",
       "      <th>SalesDollars</th>\n",
       "      <th>SalesPrice</th>\n",
       "      <th>SalesDate</th>\n",
       "      <th>Volume</th>\n",
       "      <th>Classification</th>\n",
       "      <th>ExciseTax</th>\n",
       "      <th>VendorNo</th>\n",
       "      <th>VendorName</th>\n",
       "      <th>fecha_actualizacion</th>\n",
       "    </tr>\n",
       "  </thead>\n",
       "  <tbody>\n",
       "    <tr>\n",
       "      <th>510458</th>\n",
       "      <td>15_WANBORNE_19465</td>\n",
       "      <td>15</td>\n",
       "      <td>19465</td>\n",
       "      <td>Flagstone Longitude Red</td>\n",
       "      <td>750mL</td>\n",
       "      <td>13</td>\n",
       "      <td>0.0</td>\n",
       "      <td>0.0</td>\n",
       "      <td>2016-05-02</td>\n",
       "      <td>750.0</td>\n",
       "      <td>2</td>\n",
       "      <td>1.46</td>\n",
       "      <td>2000</td>\n",
       "      <td>SOUTHERN WINE &amp; SPIRITS NE</td>\n",
       "      <td>2025-05-27 18:54:47</td>\n",
       "    </tr>\n",
       "    <tr>\n",
       "      <th>1109734</th>\n",
       "      <td>23_ARBINGTON_19465</td>\n",
       "      <td>23</td>\n",
       "      <td>19465</td>\n",
       "      <td>Flagstone Longitude Red</td>\n",
       "      <td>750mL</td>\n",
       "      <td>6</td>\n",
       "      <td>0.0</td>\n",
       "      <td>0.0</td>\n",
       "      <td>2016-05-04</td>\n",
       "      <td>750.0</td>\n",
       "      <td>2</td>\n",
       "      <td>0.68</td>\n",
       "      <td>2000</td>\n",
       "      <td>SOUTHERN WINE &amp; SPIRITS NE</td>\n",
       "      <td>2025-05-27 18:54:47</td>\n",
       "    </tr>\n",
       "    <tr>\n",
       "      <th>1884814</th>\n",
       "      <td>34_PITMERDEN_3046</td>\n",
       "      <td>34</td>\n",
       "      <td>3046</td>\n",
       "      <td>Ciroc Peach Vodka</td>\n",
       "      <td>1.75L</td>\n",
       "      <td>1</td>\n",
       "      <td>0.0</td>\n",
       "      <td>0.0</td>\n",
       "      <td>2016-07-03</td>\n",
       "      <td>1750.0</td>\n",
       "      <td>1</td>\n",
       "      <td>1.84</td>\n",
       "      <td>3960</td>\n",
       "      <td>DIAGEO NORTH AMERICA INC</td>\n",
       "      <td>2025-05-27 18:54:47</td>\n",
       "    </tr>\n",
       "    <tr>\n",
       "      <th>1927089</th>\n",
       "      <td>34_PITMERDEN_3963</td>\n",
       "      <td>34</td>\n",
       "      <td>3963</td>\n",
       "      <td>Menage A Trois Vodka</td>\n",
       "      <td>750mL</td>\n",
       "      <td>1</td>\n",
       "      <td>0.0</td>\n",
       "      <td>0.0</td>\n",
       "      <td>2016-08-01</td>\n",
       "      <td>750.0</td>\n",
       "      <td>1</td>\n",
       "      <td>0.79</td>\n",
       "      <td>8892</td>\n",
       "      <td>TRINCHERO FAMILY ESTATES</td>\n",
       "      <td>2025-05-27 18:54:47</td>\n",
       "    </tr>\n",
       "    <tr>\n",
       "      <th>2175751</th>\n",
       "      <td>38_GOULCREST_25340</td>\n",
       "      <td>38</td>\n",
       "      <td>25340</td>\n",
       "      <td>Dom La Soumade Rast Prestige</td>\n",
       "      <td>750mL</td>\n",
       "      <td>3</td>\n",
       "      <td>0.0</td>\n",
       "      <td>0.0</td>\n",
       "      <td>2016-02-13</td>\n",
       "      <td>750.0</td>\n",
       "      <td>2</td>\n",
       "      <td>0.34</td>\n",
       "      <td>4425</td>\n",
       "      <td>MARTIGNETTI COMPANIES</td>\n",
       "      <td>2025-05-27 18:54:47</td>\n",
       "    </tr>\n",
       "    <tr>\n",
       "      <th>2197752</th>\n",
       "      <td>38_GOULCREST_3046</td>\n",
       "      <td>38</td>\n",
       "      <td>3046</td>\n",
       "      <td>Ciroc Peach Vodka</td>\n",
       "      <td>1.75L</td>\n",
       "      <td>1</td>\n",
       "      <td>0.0</td>\n",
       "      <td>0.0</td>\n",
       "      <td>2016-07-03</td>\n",
       "      <td>1750.0</td>\n",
       "      <td>1</td>\n",
       "      <td>1.84</td>\n",
       "      <td>3960</td>\n",
       "      <td>DIAGEO NORTH AMERICA INC</td>\n",
       "      <td>2025-05-27 18:54:47</td>\n",
       "    </tr>\n",
       "    <tr>\n",
       "      <th>2730027</th>\n",
       "      <td>44_PORTHCRAWL_3046</td>\n",
       "      <td>44</td>\n",
       "      <td>3046</td>\n",
       "      <td>Ciroc Peach Vodka</td>\n",
       "      <td>1.75L</td>\n",
       "      <td>1</td>\n",
       "      <td>0.0</td>\n",
       "      <td>0.0</td>\n",
       "      <td>2016-07-02</td>\n",
       "      <td>1750.0</td>\n",
       "      <td>1</td>\n",
       "      <td>1.84</td>\n",
       "      <td>3960</td>\n",
       "      <td>DIAGEO NORTH AMERICA INC</td>\n",
       "      <td>2025-05-27 18:54:47</td>\n",
       "    </tr>\n",
       "    <tr>\n",
       "      <th>3117517</th>\n",
       "      <td>50_MOUNTMEND_19669</td>\n",
       "      <td>50</td>\n",
       "      <td>19669</td>\n",
       "      <td>Murphy-Goode Homefront Red</td>\n",
       "      <td>750mL</td>\n",
       "      <td>2</td>\n",
       "      <td>0.0</td>\n",
       "      <td>0.0</td>\n",
       "      <td>2016-11-26</td>\n",
       "      <td>750.0</td>\n",
       "      <td>2</td>\n",
       "      <td>0.22</td>\n",
       "      <td>9552</td>\n",
       "      <td>M S WALKER INC</td>\n",
       "      <td>2025-05-27 18:54:47</td>\n",
       "    </tr>\n",
       "    <tr>\n",
       "      <th>3117518</th>\n",
       "      <td>50_MOUNTMEND_19669</td>\n",
       "      <td>50</td>\n",
       "      <td>19669</td>\n",
       "      <td>Murphy-Goode Homefront Red</td>\n",
       "      <td>750mL</td>\n",
       "      <td>2</td>\n",
       "      <td>0.0</td>\n",
       "      <td>0.0</td>\n",
       "      <td>2016-11-30</td>\n",
       "      <td>750.0</td>\n",
       "      <td>2</td>\n",
       "      <td>0.22</td>\n",
       "      <td>9552</td>\n",
       "      <td>M S WALKER INC</td>\n",
       "      <td>2025-05-27 18:54:47</td>\n",
       "    </tr>\n",
       "    <tr>\n",
       "      <th>3117519</th>\n",
       "      <td>50_MOUNTMEND_19669</td>\n",
       "      <td>50</td>\n",
       "      <td>19669</td>\n",
       "      <td>Murphy-Goode Homefront Red</td>\n",
       "      <td>750mL</td>\n",
       "      <td>1</td>\n",
       "      <td>0.0</td>\n",
       "      <td>0.0</td>\n",
       "      <td>2016-12-01</td>\n",
       "      <td>750.0</td>\n",
       "      <td>2</td>\n",
       "      <td>0.11</td>\n",
       "      <td>9552</td>\n",
       "      <td>M S WALKER INC</td>\n",
       "      <td>2025-05-27 18:54:47</td>\n",
       "    </tr>\n",
       "    <tr>\n",
       "      <th>3117520</th>\n",
       "      <td>50_MOUNTMEND_19669</td>\n",
       "      <td>50</td>\n",
       "      <td>19669</td>\n",
       "      <td>Murphy-Goode Homefront Red</td>\n",
       "      <td>750mL</td>\n",
       "      <td>2</td>\n",
       "      <td>0.0</td>\n",
       "      <td>0.0</td>\n",
       "      <td>2016-12-09</td>\n",
       "      <td>750.0</td>\n",
       "      <td>2</td>\n",
       "      <td>0.22</td>\n",
       "      <td>9552</td>\n",
       "      <td>M S WALKER INC</td>\n",
       "      <td>2025-05-27 18:54:47</td>\n",
       "    </tr>\n",
       "    <tr>\n",
       "      <th>3155785</th>\n",
       "      <td>50_MOUNTMEND_3046</td>\n",
       "      <td>50</td>\n",
       "      <td>3046</td>\n",
       "      <td>Ciroc Peach Vodka</td>\n",
       "      <td>1.75L</td>\n",
       "      <td>1</td>\n",
       "      <td>0.0</td>\n",
       "      <td>0.0</td>\n",
       "      <td>2016-07-03</td>\n",
       "      <td>1750.0</td>\n",
       "      <td>1</td>\n",
       "      <td>1.84</td>\n",
       "      <td>3960</td>\n",
       "      <td>DIAGEO NORTH AMERICA INC</td>\n",
       "      <td>2025-05-27 18:54:47</td>\n",
       "    </tr>\n",
       "    <tr>\n",
       "      <th>3439952</th>\n",
       "      <td>54_GUTHRAM_19465</td>\n",
       "      <td>54</td>\n",
       "      <td>19465</td>\n",
       "      <td>Flagstone Longitude Red</td>\n",
       "      <td>750mL</td>\n",
       "      <td>2</td>\n",
       "      <td>0.0</td>\n",
       "      <td>0.0</td>\n",
       "      <td>2016-05-04</td>\n",
       "      <td>750.0</td>\n",
       "      <td>2</td>\n",
       "      <td>0.22</td>\n",
       "      <td>2000</td>\n",
       "      <td>SOUTHERN WINE &amp; SPIRITS NE</td>\n",
       "      <td>2025-05-27 18:54:47</td>\n",
       "    </tr>\n",
       "    <tr>\n",
       "      <th>3632771</th>\n",
       "      <td>56_BEGGAR'S HOLE_19465</td>\n",
       "      <td>56</td>\n",
       "      <td>19465</td>\n",
       "      <td>Flagstone Longitude Red</td>\n",
       "      <td>750mL</td>\n",
       "      <td>1</td>\n",
       "      <td>0.0</td>\n",
       "      <td>0.0</td>\n",
       "      <td>2016-05-02</td>\n",
       "      <td>750.0</td>\n",
       "      <td>2</td>\n",
       "      <td>0.11</td>\n",
       "      <td>2000</td>\n",
       "      <td>SOUTHERN WINE &amp; SPIRITS NE</td>\n",
       "      <td>2025-05-27 18:54:47</td>\n",
       "    </tr>\n",
       "    <tr>\n",
       "      <th>4037292</th>\n",
       "      <td>60_IRRAGIN_3046</td>\n",
       "      <td>60</td>\n",
       "      <td>3046</td>\n",
       "      <td>Ciroc Peach Vodka</td>\n",
       "      <td>1.75L</td>\n",
       "      <td>1</td>\n",
       "      <td>0.0</td>\n",
       "      <td>0.0</td>\n",
       "      <td>2016-07-04</td>\n",
       "      <td>1750.0</td>\n",
       "      <td>1</td>\n",
       "      <td>1.84</td>\n",
       "      <td>3960</td>\n",
       "      <td>DIAGEO NORTH AMERICA INC</td>\n",
       "      <td>2025-05-27 18:54:47</td>\n",
       "    </tr>\n",
       "    <tr>\n",
       "      <th>4151347</th>\n",
       "      <td>61_AETHELNEY_3046</td>\n",
       "      <td>61</td>\n",
       "      <td>3046</td>\n",
       "      <td>Ciroc Peach Vodka</td>\n",
       "      <td>1.75L</td>\n",
       "      <td>1</td>\n",
       "      <td>0.0</td>\n",
       "      <td>0.0</td>\n",
       "      <td>2016-07-02</td>\n",
       "      <td>1750.0</td>\n",
       "      <td>1</td>\n",
       "      <td>1.84</td>\n",
       "      <td>3960</td>\n",
       "      <td>DIAGEO NORTH AMERICA INC</td>\n",
       "      <td>2025-05-27 18:54:47</td>\n",
       "    </tr>\n",
       "    <tr>\n",
       "      <th>4477928</th>\n",
       "      <td>66_EANVERNESS_25340</td>\n",
       "      <td>66</td>\n",
       "      <td>25340</td>\n",
       "      <td>Dom La Soumade Rast Prestige</td>\n",
       "      <td>750mL</td>\n",
       "      <td>1</td>\n",
       "      <td>0.0</td>\n",
       "      <td>0.0</td>\n",
       "      <td>2016-02-16</td>\n",
       "      <td>750.0</td>\n",
       "      <td>2</td>\n",
       "      <td>0.11</td>\n",
       "      <td>4425</td>\n",
       "      <td>MARTIGNETTI COMPANIES</td>\n",
       "      <td>2025-05-27 18:54:47</td>\n",
       "    </tr>\n",
       "    <tr>\n",
       "      <th>4500153</th>\n",
       "      <td>66_EANVERNESS_3046</td>\n",
       "      <td>66</td>\n",
       "      <td>3046</td>\n",
       "      <td>Ciroc Peach Vodka</td>\n",
       "      <td>1.75L</td>\n",
       "      <td>1</td>\n",
       "      <td>0.0</td>\n",
       "      <td>0.0</td>\n",
       "      <td>2016-07-02</td>\n",
       "      <td>1750.0</td>\n",
       "      <td>1</td>\n",
       "      <td>1.84</td>\n",
       "      <td>3960</td>\n",
       "      <td>DIAGEO NORTH AMERICA INC</td>\n",
       "      <td>2025-05-27 18:54:47</td>\n",
       "    </tr>\n",
       "    <tr>\n",
       "      <th>4541167</th>\n",
       "      <td>66_EANVERNESS_3963</td>\n",
       "      <td>66</td>\n",
       "      <td>3963</td>\n",
       "      <td>Menage A Trois Vodka</td>\n",
       "      <td>750mL</td>\n",
       "      <td>1</td>\n",
       "      <td>0.0</td>\n",
       "      <td>0.0</td>\n",
       "      <td>2016-08-01</td>\n",
       "      <td>750.0</td>\n",
       "      <td>1</td>\n",
       "      <td>0.79</td>\n",
       "      <td>8892</td>\n",
       "      <td>TRINCHERO FAMILY ESTATES</td>\n",
       "      <td>2025-05-27 18:54:47</td>\n",
       "    </tr>\n",
       "    <tr>\n",
       "      <th>4988849</th>\n",
       "      <td>69_MOUNTMEND_3046</td>\n",
       "      <td>69</td>\n",
       "      <td>3046</td>\n",
       "      <td>Ciroc Peach Vodka</td>\n",
       "      <td>1.75L</td>\n",
       "      <td>1</td>\n",
       "      <td>0.0</td>\n",
       "      <td>0.0</td>\n",
       "      <td>2016-07-02</td>\n",
       "      <td>1750.0</td>\n",
       "      <td>1</td>\n",
       "      <td>1.84</td>\n",
       "      <td>3960</td>\n",
       "      <td>DIAGEO NORTH AMERICA INC</td>\n",
       "      <td>2025-05-27 18:54:47</td>\n",
       "    </tr>\n",
       "    <tr>\n",
       "      <th>5024587</th>\n",
       "      <td>69_MOUNTMEND_3963</td>\n",
       "      <td>69</td>\n",
       "      <td>3963</td>\n",
       "      <td>Menage A Trois Vodka</td>\n",
       "      <td>750mL</td>\n",
       "      <td>1</td>\n",
       "      <td>0.0</td>\n",
       "      <td>0.0</td>\n",
       "      <td>2016-08-01</td>\n",
       "      <td>750.0</td>\n",
       "      <td>1</td>\n",
       "      <td>0.79</td>\n",
       "      <td>8892</td>\n",
       "      <td>TRINCHERO FAMILY ESTATES</td>\n",
       "      <td>2025-05-27 18:54:47</td>\n",
       "    </tr>\n",
       "    <tr>\n",
       "      <th>5487576</th>\n",
       "      <td>73_DONCASTER_3046</td>\n",
       "      <td>73</td>\n",
       "      <td>3046</td>\n",
       "      <td>Ciroc Peach Vodka</td>\n",
       "      <td>1.75L</td>\n",
       "      <td>1</td>\n",
       "      <td>0.0</td>\n",
       "      <td>0.0</td>\n",
       "      <td>2016-07-03</td>\n",
       "      <td>1750.0</td>\n",
       "      <td>1</td>\n",
       "      <td>1.84</td>\n",
       "      <td>3960</td>\n",
       "      <td>DIAGEO NORTH AMERICA INC</td>\n",
       "      <td>2025-05-27 18:54:47</td>\n",
       "    </tr>\n",
       "    <tr>\n",
       "      <th>5839704</th>\n",
       "      <td>76_DONCASTER_19669</td>\n",
       "      <td>76</td>\n",
       "      <td>19669</td>\n",
       "      <td>Murphy-Goode Homefront Red</td>\n",
       "      <td>750mL</td>\n",
       "      <td>12</td>\n",
       "      <td>0.0</td>\n",
       "      <td>0.0</td>\n",
       "      <td>2016-11-18</td>\n",
       "      <td>750.0</td>\n",
       "      <td>2</td>\n",
       "      <td>1.35</td>\n",
       "      <td>9552</td>\n",
       "      <td>M S WALKER INC</td>\n",
       "      <td>2025-05-27 18:54:47</td>\n",
       "    </tr>\n",
       "    <tr>\n",
       "      <th>5899005</th>\n",
       "      <td>76_DONCASTER_3046</td>\n",
       "      <td>76</td>\n",
       "      <td>3046</td>\n",
       "      <td>Ciroc Peach Vodka</td>\n",
       "      <td>1.75L</td>\n",
       "      <td>3</td>\n",
       "      <td>0.0</td>\n",
       "      <td>0.0</td>\n",
       "      <td>2016-07-02</td>\n",
       "      <td>1750.0</td>\n",
       "      <td>1</td>\n",
       "      <td>5.51</td>\n",
       "      <td>3960</td>\n",
       "      <td>DIAGEO NORTH AMERICA INC</td>\n",
       "      <td>2025-05-27 18:54:47</td>\n",
       "    </tr>\n",
       "  </tbody>\n",
       "</table>\n",
       "</div>"
      ],
      "text/plain": [
       "                    InventoryId  Store  Brand                   Description  \\\n",
       "510458        15_WANBORNE_19465     15  19465       Flagstone Longitude Red   \n",
       "1109734      23_ARBINGTON_19465     23  19465       Flagstone Longitude Red   \n",
       "1884814       34_PITMERDEN_3046     34   3046             Ciroc Peach Vodka   \n",
       "1927089       34_PITMERDEN_3963     34   3963          Menage A Trois Vodka   \n",
       "2175751      38_GOULCREST_25340     38  25340  Dom La Soumade Rast Prestige   \n",
       "2197752       38_GOULCREST_3046     38   3046             Ciroc Peach Vodka   \n",
       "2730027      44_PORTHCRAWL_3046     44   3046             Ciroc Peach Vodka   \n",
       "3117517      50_MOUNTMEND_19669     50  19669    Murphy-Goode Homefront Red   \n",
       "3117518      50_MOUNTMEND_19669     50  19669    Murphy-Goode Homefront Red   \n",
       "3117519      50_MOUNTMEND_19669     50  19669    Murphy-Goode Homefront Red   \n",
       "3117520      50_MOUNTMEND_19669     50  19669    Murphy-Goode Homefront Red   \n",
       "3155785       50_MOUNTMEND_3046     50   3046             Ciroc Peach Vodka   \n",
       "3439952        54_GUTHRAM_19465     54  19465       Flagstone Longitude Red   \n",
       "3632771  56_BEGGAR'S HOLE_19465     56  19465       Flagstone Longitude Red   \n",
       "4037292         60_IRRAGIN_3046     60   3046             Ciroc Peach Vodka   \n",
       "4151347       61_AETHELNEY_3046     61   3046             Ciroc Peach Vodka   \n",
       "4477928     66_EANVERNESS_25340     66  25340  Dom La Soumade Rast Prestige   \n",
       "4500153      66_EANVERNESS_3046     66   3046             Ciroc Peach Vodka   \n",
       "4541167      66_EANVERNESS_3963     66   3963          Menage A Trois Vodka   \n",
       "4988849       69_MOUNTMEND_3046     69   3046             Ciroc Peach Vodka   \n",
       "5024587       69_MOUNTMEND_3963     69   3963          Menage A Trois Vodka   \n",
       "5487576       73_DONCASTER_3046     73   3046             Ciroc Peach Vodka   \n",
       "5839704      76_DONCASTER_19669     76  19669    Murphy-Goode Homefront Red   \n",
       "5899005       76_DONCASTER_3046     76   3046             Ciroc Peach Vodka   \n",
       "\n",
       "          Size  SalesQuantity  SalesDollars  SalesPrice  SalesDate  Volume  \\\n",
       "510458   750mL             13           0.0         0.0 2016-05-02   750.0   \n",
       "1109734  750mL              6           0.0         0.0 2016-05-04   750.0   \n",
       "1884814  1.75L              1           0.0         0.0 2016-07-03  1750.0   \n",
       "1927089  750mL              1           0.0         0.0 2016-08-01   750.0   \n",
       "2175751  750mL              3           0.0         0.0 2016-02-13   750.0   \n",
       "2197752  1.75L              1           0.0         0.0 2016-07-03  1750.0   \n",
       "2730027  1.75L              1           0.0         0.0 2016-07-02  1750.0   \n",
       "3117517  750mL              2           0.0         0.0 2016-11-26   750.0   \n",
       "3117518  750mL              2           0.0         0.0 2016-11-30   750.0   \n",
       "3117519  750mL              1           0.0         0.0 2016-12-01   750.0   \n",
       "3117520  750mL              2           0.0         0.0 2016-12-09   750.0   \n",
       "3155785  1.75L              1           0.0         0.0 2016-07-03  1750.0   \n",
       "3439952  750mL              2           0.0         0.0 2016-05-04   750.0   \n",
       "3632771  750mL              1           0.0         0.0 2016-05-02   750.0   \n",
       "4037292  1.75L              1           0.0         0.0 2016-07-04  1750.0   \n",
       "4151347  1.75L              1           0.0         0.0 2016-07-02  1750.0   \n",
       "4477928  750mL              1           0.0         0.0 2016-02-16   750.0   \n",
       "4500153  1.75L              1           0.0         0.0 2016-07-02  1750.0   \n",
       "4541167  750mL              1           0.0         0.0 2016-08-01   750.0   \n",
       "4988849  1.75L              1           0.0         0.0 2016-07-02  1750.0   \n",
       "5024587  750mL              1           0.0         0.0 2016-08-01   750.0   \n",
       "5487576  1.75L              1           0.0         0.0 2016-07-03  1750.0   \n",
       "5839704  750mL             12           0.0         0.0 2016-11-18   750.0   \n",
       "5899005  1.75L              3           0.0         0.0 2016-07-02  1750.0   \n",
       "\n",
       "         Classification  ExciseTax  VendorNo                   VendorName  \\\n",
       "510458                2       1.46      2000  SOUTHERN WINE & SPIRITS NE    \n",
       "1109734               2       0.68      2000  SOUTHERN WINE & SPIRITS NE    \n",
       "1884814               1       1.84      3960  DIAGEO NORTH AMERICA INC      \n",
       "1927089               1       0.79      8892  TRINCHERO FAMILY ESTATES      \n",
       "2175751               2       0.34      4425        MARTIGNETTI COMPANIES   \n",
       "2197752               1       1.84      3960  DIAGEO NORTH AMERICA INC      \n",
       "2730027               1       1.84      3960  DIAGEO NORTH AMERICA INC      \n",
       "3117517               2       0.22      9552  M S WALKER INC                \n",
       "3117518               2       0.22      9552  M S WALKER INC                \n",
       "3117519               2       0.11      9552  M S WALKER INC                \n",
       "3117520               2       0.22      9552  M S WALKER INC                \n",
       "3155785               1       1.84      3960  DIAGEO NORTH AMERICA INC      \n",
       "3439952               2       0.22      2000  SOUTHERN WINE & SPIRITS NE    \n",
       "3632771               2       0.11      2000  SOUTHERN WINE & SPIRITS NE    \n",
       "4037292               1       1.84      3960  DIAGEO NORTH AMERICA INC      \n",
       "4151347               1       1.84      3960  DIAGEO NORTH AMERICA INC      \n",
       "4477928               2       0.11      4425        MARTIGNETTI COMPANIES   \n",
       "4500153               1       1.84      3960  DIAGEO NORTH AMERICA INC      \n",
       "4541167               1       0.79      8892  TRINCHERO FAMILY ESTATES      \n",
       "4988849               1       1.84      3960  DIAGEO NORTH AMERICA INC      \n",
       "5024587               1       0.79      8892  TRINCHERO FAMILY ESTATES      \n",
       "5487576               1       1.84      3960  DIAGEO NORTH AMERICA INC      \n",
       "5839704               2       1.35      9552  M S WALKER INC                \n",
       "5899005               1       5.51      3960  DIAGEO NORTH AMERICA INC      \n",
       "\n",
       "        fecha_actualizacion  \n",
       "510458  2025-05-27 18:54:47  \n",
       "1109734 2025-05-27 18:54:47  \n",
       "1884814 2025-05-27 18:54:47  \n",
       "1927089 2025-05-27 18:54:47  \n",
       "2175751 2025-05-27 18:54:47  \n",
       "2197752 2025-05-27 18:54:47  \n",
       "2730027 2025-05-27 18:54:47  \n",
       "3117517 2025-05-27 18:54:47  \n",
       "3117518 2025-05-27 18:54:47  \n",
       "3117519 2025-05-27 18:54:47  \n",
       "3117520 2025-05-27 18:54:47  \n",
       "3155785 2025-05-27 18:54:47  \n",
       "3439952 2025-05-27 18:54:47  \n",
       "3632771 2025-05-27 18:54:47  \n",
       "4037292 2025-05-27 18:54:47  \n",
       "4151347 2025-05-27 18:54:47  \n",
       "4477928 2025-05-27 18:54:47  \n",
       "4500153 2025-05-27 18:54:47  \n",
       "4541167 2025-05-27 18:54:47  \n",
       "4988849 2025-05-27 18:54:47  \n",
       "5024587 2025-05-27 18:54:47  \n",
       "5487576 2025-05-27 18:54:47  \n",
       "5839704 2025-05-27 18:54:47  \n",
       "5899005 2025-05-27 18:54:47  "
      ]
     },
     "execution_count": 41,
     "metadata": {},
     "output_type": "execute_result"
    }
   ],
   "source": [
    "df3[(df3['SalesDollars'].isnull()) | (df3['SalesDollars'] == 0)]"
   ]
  },
  {
   "cell_type": "code",
   "execution_count": 42,
   "id": "1a3aa71e",
   "metadata": {},
   "outputs": [],
   "source": [
    "df3 = df3.drop(df3[(df3['SalesDollars'].isnull()) | (df3['SalesDollars'] == 0)].index)"
   ]
  },
  {
   "cell_type": "code",
   "execution_count": 43,
   "id": "ced45005",
   "metadata": {},
   "outputs": [
    {
     "name": "stdout",
     "output_type": "stream",
     "text": [
      "Estadísticas para Store:\n",
      "  Media: 43.90\n",
      "  Mediana: 47.00\n",
      "  Desviación estándar: 23.54\n",
      "  Mínimo: 1.00\n",
      "  Máximo: 81.00\n",
      "----------------------------------------\n",
      "Estadísticas para Brand:\n",
      "  Media: 12154.36\n",
      "  Mediana: 6349.00\n",
      "  Desviación estándar: 12368.19\n",
      "  Mínimo: 58.00\n",
      "  Máximo: 90631.00\n",
      "----------------------------------------\n",
      "Estadísticas para SalesQuantity:\n",
      "  Media: 2.57\n",
      "  Mediana: 1.00\n",
      "  Desviación estándar: 4.57\n",
      "  Mínimo: 1.00\n",
      "  Máximo: 1176.00\n",
      "----------------------------------------\n",
      "Estadísticas para SalesDollars:\n",
      "  Media: 35.27\n",
      "  Mediana: 18.99\n",
      "  Desviación estándar: 88.31\n",
      "  Mínimo: 0.49\n",
      "  Máximo: 22994.03\n",
      "----------------------------------------\n",
      "Estadísticas para SalesPrice:\n",
      "  Media: 15.69\n",
      "  Mediana: 12.99\n",
      "  Desviación estándar: 15.26\n",
      "  Mínimo: 0.49\n",
      "  Máximo: 4999.99\n",
      "----------------------------------------\n",
      "Estadísticas para Volume:\n",
      "  Media: 939.36\n",
      "  Mediana: 750.00\n",
      "  Desviación estándar: 699.23\n",
      "  Mínimo: 50.00\n",
      "  Máximo: 20000.00\n",
      "----------------------------------------\n",
      "Estadísticas para Classification:\n",
      "  Media: 1.41\n",
      "  Mediana: 1.00\n",
      "  Desviación estándar: 0.49\n",
      "  Mínimo: 1.00\n",
      "  Máximo: 2.00\n",
      "----------------------------------------\n",
      "Estadísticas para ExciseTax:\n",
      "  Media: 1.48\n",
      "  Mediana: 0.75\n",
      "  Desviación estándar: 4.74\n",
      "  Mínimo: 0.01\n",
      "  Máximo: 1034.51\n",
      "----------------------------------------\n",
      "Estadísticas para VendorNo:\n",
      "  Media: 7125.15\n",
      "  Mediana: 4692.00\n",
      "  Desviación estándar: 8736.18\n",
      "  Mínimo: 2.00\n",
      "  Máximo: 201359.00\n",
      "----------------------------------------\n"
     ]
    }
   ],
   "source": [
    "columnas_numericas2 = df3.select_dtypes(include='number').columns\n",
    "\n",
    "for col in columnas_numericas2:\n",
    "    print(f\"Estadísticas para {col}:\")\n",
    "    print(f\"  Media: {df3[col].mean():.2f}\")\n",
    "    print(f\"  Mediana: {df3[col].median():.2f}\")\n",
    "    print(f\"  Desviación estándar: {df3[col].std():.2f}\")\n",
    "    print(f\"  Mínimo: {df3[col].min():.2f}\")\n",
    "    print(f\"  Máximo: {df3[col].max():.2f}\")\n",
    "    print(\"-\" * 40)"
   ]
  },
  {
   "cell_type": "markdown",
   "id": "524cd11c",
   "metadata": {},
   "source": [
    "Buscamos datos duplicados, pero no encontramos"
   ]
  },
  {
   "cell_type": "code",
   "execution_count": 44,
   "id": "02636bae",
   "metadata": {},
   "outputs": [
    {
     "data": {
      "application/vnd.microsoft.datawrangler.viewer.v0+json": {
       "columns": [
        {
         "name": "index",
         "rawType": "int64",
         "type": "integer"
        },
        {
         "name": "InventoryId",
         "rawType": "object",
         "type": "string"
        },
        {
         "name": "Store",
         "rawType": "int64",
         "type": "integer"
        },
        {
         "name": "Brand",
         "rawType": "int64",
         "type": "integer"
        },
        {
         "name": "Description",
         "rawType": "object",
         "type": "string"
        },
        {
         "name": "Size",
         "rawType": "object",
         "type": "string"
        },
        {
         "name": "SalesQuantity",
         "rawType": "int64",
         "type": "integer"
        },
        {
         "name": "SalesDollars",
         "rawType": "float64",
         "type": "float"
        },
        {
         "name": "SalesPrice",
         "rawType": "float64",
         "type": "float"
        },
        {
         "name": "SalesDate",
         "rawType": "datetime64[ns]",
         "type": "datetime"
        },
        {
         "name": "Volume",
         "rawType": "float64",
         "type": "float"
        },
        {
         "name": "Classification",
         "rawType": "int64",
         "type": "integer"
        },
        {
         "name": "ExciseTax",
         "rawType": "float64",
         "type": "float"
        },
        {
         "name": "VendorNo",
         "rawType": "int64",
         "type": "integer"
        },
        {
         "name": "VendorName",
         "rawType": "object",
         "type": "string"
        },
        {
         "name": "fecha_actualizacion",
         "rawType": "datetime64[ns]",
         "type": "datetime"
        }
       ],
       "ref": "23190cd4-c02f-4b37-a441-a9da6ff286f7",
       "rows": [],
       "shape": {
        "columns": 15,
        "rows": 0
       }
      },
      "text/html": [
       "<div>\n",
       "<style scoped>\n",
       "    .dataframe tbody tr th:only-of-type {\n",
       "        vertical-align: middle;\n",
       "    }\n",
       "\n",
       "    .dataframe tbody tr th {\n",
       "        vertical-align: top;\n",
       "    }\n",
       "\n",
       "    .dataframe thead th {\n",
       "        text-align: right;\n",
       "    }\n",
       "</style>\n",
       "<table border=\"1\" class=\"dataframe\">\n",
       "  <thead>\n",
       "    <tr style=\"text-align: right;\">\n",
       "      <th></th>\n",
       "      <th>InventoryId</th>\n",
       "      <th>Store</th>\n",
       "      <th>Brand</th>\n",
       "      <th>Description</th>\n",
       "      <th>Size</th>\n",
       "      <th>SalesQuantity</th>\n",
       "      <th>SalesDollars</th>\n",
       "      <th>SalesPrice</th>\n",
       "      <th>SalesDate</th>\n",
       "      <th>Volume</th>\n",
       "      <th>Classification</th>\n",
       "      <th>ExciseTax</th>\n",
       "      <th>VendorNo</th>\n",
       "      <th>VendorName</th>\n",
       "      <th>fecha_actualizacion</th>\n",
       "    </tr>\n",
       "  </thead>\n",
       "  <tbody>\n",
       "  </tbody>\n",
       "</table>\n",
       "</div>"
      ],
      "text/plain": [
       "Empty DataFrame\n",
       "Columns: [InventoryId, Store, Brand, Description, Size, SalesQuantity, SalesDollars, SalesPrice, SalesDate, Volume, Classification, ExciseTax, VendorNo, VendorName, fecha_actualizacion]\n",
       "Index: []"
      ]
     },
     "execution_count": 44,
     "metadata": {},
     "output_type": "execute_result"
    }
   ],
   "source": [
    "df3[df3.duplicated(keep=False)]"
   ]
  },
  {
   "cell_type": "markdown",
   "id": "5b6b6327",
   "metadata": {},
   "source": [
    "Buscamos datos faltantes en las columnas del tipo texto"
   ]
  },
  {
   "cell_type": "code",
   "execution_count": 45,
   "id": "e7a79adf",
   "metadata": {},
   "outputs": [
    {
     "data": {
      "application/vnd.microsoft.datawrangler.viewer.v0+json": {
       "columns": [
        {
         "name": "index",
         "rawType": "object",
         "type": "string"
        },
        {
         "name": "0",
         "rawType": "int64",
         "type": "integer"
        }
       ],
       "ref": "a08cd00d-204d-4d55-92db-b488c607abcc",
       "rows": [
        [
         "InventoryId",
         "0"
        ],
        [
         "Description",
         "0"
        ],
        [
         "Size",
         "0"
        ],
        [
         "VendorName",
         "0"
        ]
       ],
       "shape": {
        "columns": 1,
        "rows": 4
       }
      },
      "text/plain": [
       "InventoryId    0\n",
       "Description    0\n",
       "Size           0\n",
       "VendorName     0\n",
       "dtype: int64"
      ]
     },
     "execution_count": 45,
     "metadata": {},
     "output_type": "execute_result"
    }
   ],
   "source": [
    "# Seleccionar columnas de tipo string / objeto\n",
    "text_cols = df3.select_dtypes(include='object').columns\n",
    "\n",
    "# Filtro la cantidad de datos que tienen valores null o vacios\n",
    "df3[text_cols].isnull().sum() + (df3[text_cols] == \"\").sum()"
   ]
  },
  {
   "cell_type": "markdown",
   "id": "5d46ffa8",
   "metadata": {},
   "source": [
    "No encontramos ninguna faltante."
   ]
  },
  {
   "cell_type": "code",
   "execution_count": 46,
   "id": "e2bdfb05",
   "metadata": {},
   "outputs": [
    {
     "data": {
      "text/plain": [
       "(6412657, 15)"
      ]
     },
     "execution_count": 46,
     "metadata": {},
     "output_type": "execute_result"
    }
   ],
   "source": [
    "np.shape(df3)"
   ]
  },
  {
   "cell_type": "code",
   "execution_count": 47,
   "id": "82479c05",
   "metadata": {},
   "outputs": [],
   "source": [
    "def remove_whitespace(df3,*columns):\n",
    "    for column in columns:\n",
    "        df3[column]=df3[column].str.strip()\n",
    "    return df3\n",
    "\n",
    "df3=remove_whitespace(df3,'VendorName','Description')"
   ]
  },
  {
   "cell_type": "code",
   "execution_count": 48,
   "id": "593a8764",
   "metadata": {},
   "outputs": [
    {
     "data": {
      "application/vnd.microsoft.datawrangler.viewer.v0+json": {
       "columns": [
        {
         "name": "index",
         "rawType": "int64",
         "type": "integer"
        },
        {
         "name": "InventoryId",
         "rawType": "object",
         "type": "string"
        },
        {
         "name": "Store",
         "rawType": "int64",
         "type": "integer"
        },
        {
         "name": "Brand",
         "rawType": "int64",
         "type": "integer"
        },
        {
         "name": "Description",
         "rawType": "object",
         "type": "string"
        },
        {
         "name": "Size",
         "rawType": "object",
         "type": "string"
        },
        {
         "name": "SalesQuantity",
         "rawType": "int64",
         "type": "integer"
        },
        {
         "name": "SalesDollars",
         "rawType": "float64",
         "type": "float"
        },
        {
         "name": "SalesPrice",
         "rawType": "float64",
         "type": "float"
        },
        {
         "name": "SalesDate",
         "rawType": "datetime64[ns]",
         "type": "datetime"
        },
        {
         "name": "Volume",
         "rawType": "float64",
         "type": "float"
        },
        {
         "name": "Classification",
         "rawType": "int64",
         "type": "integer"
        },
        {
         "name": "ExciseTax",
         "rawType": "float64",
         "type": "float"
        },
        {
         "name": "VendorNo",
         "rawType": "int64",
         "type": "integer"
        },
        {
         "name": "VendorName",
         "rawType": "object",
         "type": "string"
        },
        {
         "name": "fecha_actualizacion",
         "rawType": "datetime64[ns]",
         "type": "datetime"
        }
       ],
       "ref": "a85e1c1c-ab43-4e5a-b53e-90a2ef7125ad",
       "rows": [
        [
         "0",
         "1_HARDERSFIELD_1001",
         "1",
         "1001",
         "Bailey's 50mL 4 Pack",
         "50mL 4 Pk",
         "1",
         "5.99",
         "5.99",
         "2016-08-05 00:00:00",
         "50.0",
         "1",
         "0.05",
         "3960",
         "DIAGEO NORTH AMERICA INC",
         "2025-05-27 18:54:47"
        ],
        [
         "1",
         "1_HARDERSFIELD_1001",
         "1",
         "1001",
         "Bailey's 50mL 4 Pack",
         "50mL 4 Pk",
         "1",
         "5.99",
         "5.99",
         "2016-08-12 00:00:00",
         "50.0",
         "1",
         "0.05",
         "3960",
         "DIAGEO NORTH AMERICA INC",
         "2025-05-27 18:54:47"
        ],
        [
         "2",
         "1_HARDERSFIELD_1001",
         "1",
         "1001",
         "Bailey's 50mL 4 Pack",
         "50mL 4 Pk",
         "1",
         "5.99",
         "5.99",
         "2016-08-20 00:00:00",
         "50.0",
         "1",
         "0.05",
         "3960",
         "DIAGEO NORTH AMERICA INC",
         "2025-05-27 18:54:47"
        ],
        [
         "3",
         "1_HARDERSFIELD_1001",
         "1",
         "1001",
         "Bailey's 50mL 4 Pack",
         "50mL 4 Pk",
         "1",
         "5.99",
         "5.99",
         "2016-08-29 00:00:00",
         "50.0",
         "1",
         "0.05",
         "3960",
         "DIAGEO NORTH AMERICA INC",
         "2025-05-27 18:54:47"
        ],
        [
         "4",
         "1_HARDERSFIELD_1001",
         "1",
         "1001",
         "Bailey's 50mL 4 Pack",
         "50mL 4 Pk",
         "1",
         "5.99",
         "5.99",
         "2016-09-08 00:00:00",
         "50.0",
         "1",
         "0.05",
         "3960",
         "DIAGEO NORTH AMERICA INC",
         "2025-05-27 18:54:47"
        ]
       ],
       "shape": {
        "columns": 15,
        "rows": 5
       }
      },
      "text/html": [
       "<div>\n",
       "<style scoped>\n",
       "    .dataframe tbody tr th:only-of-type {\n",
       "        vertical-align: middle;\n",
       "    }\n",
       "\n",
       "    .dataframe tbody tr th {\n",
       "        vertical-align: top;\n",
       "    }\n",
       "\n",
       "    .dataframe thead th {\n",
       "        text-align: right;\n",
       "    }\n",
       "</style>\n",
       "<table border=\"1\" class=\"dataframe\">\n",
       "  <thead>\n",
       "    <tr style=\"text-align: right;\">\n",
       "      <th></th>\n",
       "      <th>InventoryId</th>\n",
       "      <th>Store</th>\n",
       "      <th>Brand</th>\n",
       "      <th>Description</th>\n",
       "      <th>Size</th>\n",
       "      <th>SalesQuantity</th>\n",
       "      <th>SalesDollars</th>\n",
       "      <th>SalesPrice</th>\n",
       "      <th>SalesDate</th>\n",
       "      <th>Volume</th>\n",
       "      <th>Classification</th>\n",
       "      <th>ExciseTax</th>\n",
       "      <th>VendorNo</th>\n",
       "      <th>VendorName</th>\n",
       "      <th>fecha_actualizacion</th>\n",
       "    </tr>\n",
       "  </thead>\n",
       "  <tbody>\n",
       "    <tr>\n",
       "      <th>0</th>\n",
       "      <td>1_HARDERSFIELD_1001</td>\n",
       "      <td>1</td>\n",
       "      <td>1001</td>\n",
       "      <td>Bailey's 50mL 4 Pack</td>\n",
       "      <td>50mL 4 Pk</td>\n",
       "      <td>1</td>\n",
       "      <td>5.99</td>\n",
       "      <td>5.99</td>\n",
       "      <td>2016-08-05</td>\n",
       "      <td>50.0</td>\n",
       "      <td>1</td>\n",
       "      <td>0.05</td>\n",
       "      <td>3960</td>\n",
       "      <td>DIAGEO NORTH AMERICA INC</td>\n",
       "      <td>2025-05-27 18:54:47</td>\n",
       "    </tr>\n",
       "    <tr>\n",
       "      <th>1</th>\n",
       "      <td>1_HARDERSFIELD_1001</td>\n",
       "      <td>1</td>\n",
       "      <td>1001</td>\n",
       "      <td>Bailey's 50mL 4 Pack</td>\n",
       "      <td>50mL 4 Pk</td>\n",
       "      <td>1</td>\n",
       "      <td>5.99</td>\n",
       "      <td>5.99</td>\n",
       "      <td>2016-08-12</td>\n",
       "      <td>50.0</td>\n",
       "      <td>1</td>\n",
       "      <td>0.05</td>\n",
       "      <td>3960</td>\n",
       "      <td>DIAGEO NORTH AMERICA INC</td>\n",
       "      <td>2025-05-27 18:54:47</td>\n",
       "    </tr>\n",
       "    <tr>\n",
       "      <th>2</th>\n",
       "      <td>1_HARDERSFIELD_1001</td>\n",
       "      <td>1</td>\n",
       "      <td>1001</td>\n",
       "      <td>Bailey's 50mL 4 Pack</td>\n",
       "      <td>50mL 4 Pk</td>\n",
       "      <td>1</td>\n",
       "      <td>5.99</td>\n",
       "      <td>5.99</td>\n",
       "      <td>2016-08-20</td>\n",
       "      <td>50.0</td>\n",
       "      <td>1</td>\n",
       "      <td>0.05</td>\n",
       "      <td>3960</td>\n",
       "      <td>DIAGEO NORTH AMERICA INC</td>\n",
       "      <td>2025-05-27 18:54:47</td>\n",
       "    </tr>\n",
       "    <tr>\n",
       "      <th>3</th>\n",
       "      <td>1_HARDERSFIELD_1001</td>\n",
       "      <td>1</td>\n",
       "      <td>1001</td>\n",
       "      <td>Bailey's 50mL 4 Pack</td>\n",
       "      <td>50mL 4 Pk</td>\n",
       "      <td>1</td>\n",
       "      <td>5.99</td>\n",
       "      <td>5.99</td>\n",
       "      <td>2016-08-29</td>\n",
       "      <td>50.0</td>\n",
       "      <td>1</td>\n",
       "      <td>0.05</td>\n",
       "      <td>3960</td>\n",
       "      <td>DIAGEO NORTH AMERICA INC</td>\n",
       "      <td>2025-05-27 18:54:47</td>\n",
       "    </tr>\n",
       "    <tr>\n",
       "      <th>4</th>\n",
       "      <td>1_HARDERSFIELD_1001</td>\n",
       "      <td>1</td>\n",
       "      <td>1001</td>\n",
       "      <td>Bailey's 50mL 4 Pack</td>\n",
       "      <td>50mL 4 Pk</td>\n",
       "      <td>1</td>\n",
       "      <td>5.99</td>\n",
       "      <td>5.99</td>\n",
       "      <td>2016-09-08</td>\n",
       "      <td>50.0</td>\n",
       "      <td>1</td>\n",
       "      <td>0.05</td>\n",
       "      <td>3960</td>\n",
       "      <td>DIAGEO NORTH AMERICA INC</td>\n",
       "      <td>2025-05-27 18:54:47</td>\n",
       "    </tr>\n",
       "  </tbody>\n",
       "</table>\n",
       "</div>"
      ],
      "text/plain": [
       "           InventoryId  Store  Brand           Description       Size  \\\n",
       "0  1_HARDERSFIELD_1001      1   1001  Bailey's 50mL 4 Pack  50mL 4 Pk   \n",
       "1  1_HARDERSFIELD_1001      1   1001  Bailey's 50mL 4 Pack  50mL 4 Pk   \n",
       "2  1_HARDERSFIELD_1001      1   1001  Bailey's 50mL 4 Pack  50mL 4 Pk   \n",
       "3  1_HARDERSFIELD_1001      1   1001  Bailey's 50mL 4 Pack  50mL 4 Pk   \n",
       "4  1_HARDERSFIELD_1001      1   1001  Bailey's 50mL 4 Pack  50mL 4 Pk   \n",
       "\n",
       "   SalesQuantity  SalesDollars  SalesPrice  SalesDate  Volume  Classification  \\\n",
       "0              1          5.99        5.99 2016-08-05    50.0               1   \n",
       "1              1          5.99        5.99 2016-08-12    50.0               1   \n",
       "2              1          5.99        5.99 2016-08-20    50.0               1   \n",
       "3              1          5.99        5.99 2016-08-29    50.0               1   \n",
       "4              1          5.99        5.99 2016-09-08    50.0               1   \n",
       "\n",
       "   ExciseTax  VendorNo                VendorName fecha_actualizacion  \n",
       "0       0.05      3960  DIAGEO NORTH AMERICA INC 2025-05-27 18:54:47  \n",
       "1       0.05      3960  DIAGEO NORTH AMERICA INC 2025-05-27 18:54:47  \n",
       "2       0.05      3960  DIAGEO NORTH AMERICA INC 2025-05-27 18:54:47  \n",
       "3       0.05      3960  DIAGEO NORTH AMERICA INC 2025-05-27 18:54:47  \n",
       "4       0.05      3960  DIAGEO NORTH AMERICA INC 2025-05-27 18:54:47  "
      ]
     },
     "execution_count": 48,
     "metadata": {},
     "output_type": "execute_result"
    }
   ],
   "source": [
    "df3.head()"
   ]
  },
  {
   "cell_type": "code",
   "execution_count": 49,
   "id": "5f77fac7",
   "metadata": {},
   "outputs": [],
   "source": [
    "def typecast_date(df3,*columns):\n",
    "    for column in columns:\n",
    "        df3[column]=pd.to_datetime(df3[column])\n",
    "    return df3\n",
    "\n",
    "df3=typecast_date(df3,'SalesDate')"
   ]
  },
  {
   "cell_type": "code",
   "execution_count": 50,
   "id": "747cce41",
   "metadata": {},
   "outputs": [],
   "source": [
    "df3 = df3.drop(columns=['VendorName'])"
   ]
  },
  {
   "cell_type": "code",
   "execution_count": 51,
   "id": "6e135c9e",
   "metadata": {},
   "outputs": [],
   "source": [
    "#Ya hicimos toda la limpieza, guardamos\n",
    "df3.to_csv('SalesFINAL12312016_Modificado.csv', index=False)"
   ]
  },
  {
   "cell_type": "markdown",
   "id": "8f89238f",
   "metadata": {},
   "source": [
    "## Aca finaliza la limpieza de SalesFINAL12312016\n",
    "## Aca inicia la limpieza de Purchases12312016"
   ]
  },
  {
   "cell_type": "code",
   "execution_count": 52,
   "id": "1e3940ec",
   "metadata": {},
   "outputs": [],
   "source": [
    "df4 = pd.read_sql_table(\"InvoicePurchases12312016\", con=engine)"
   ]
  },
  {
   "cell_type": "code",
   "execution_count": 53,
   "id": "e66e295d",
   "metadata": {},
   "outputs": [
    {
     "data": {
      "application/vnd.microsoft.datawrangler.viewer.v0+json": {
       "columns": [
        {
         "name": "index",
         "rawType": "int64",
         "type": "integer"
        },
        {
         "name": "VendorNumber",
         "rawType": "int64",
         "type": "integer"
        },
        {
         "name": "VendorName",
         "rawType": "object",
         "type": "string"
        },
        {
         "name": "InvoiceDate",
         "rawType": "datetime64[ns]",
         "type": "datetime"
        },
        {
         "name": "PONumber",
         "rawType": "int64",
         "type": "integer"
        },
        {
         "name": "PODate",
         "rawType": "datetime64[ns]",
         "type": "datetime"
        },
        {
         "name": "PayDate",
         "rawType": "datetime64[ns]",
         "type": "datetime"
        },
        {
         "name": "Quantity",
         "rawType": "int64",
         "type": "integer"
        },
        {
         "name": "Dollars",
         "rawType": "float64",
         "type": "float"
        },
        {
         "name": "Freight",
         "rawType": "float64",
         "type": "float"
        },
        {
         "name": "Approval",
         "rawType": "object",
         "type": "string"
        },
        {
         "name": "fecha_actualizacion",
         "rawType": "datetime64[ns]",
         "type": "datetime"
        }
       ],
       "ref": "0b0a3ea4-345a-49e4-81a8-fea2efaeb949",
       "rows": [
        [
         "0",
         "0",
         "VendorName",
         null,
         "0",
         null,
         null,
         "0",
         "0.0",
         "0.0",
         "Approval\"\r\n105,\"ALTAMAR BRANDS LLC         ",
         "2025-05-27 18:54:24"
        ],
        [
         "1",
         "4466",
         "AMERICAN VINTAGE BEVERAGE  ",
         "2016-01-07 00:00:00",
         "8137",
         "2015-12-22 00:00:00",
         "2016-02-21 00:00:00",
         "15",
         "140.55",
         "8.57",
         "None\"\r\n388,\"ATLANTIC IMPORTING COMPANY ",
         "2025-05-27 18:54:24"
        ],
        [
         "2",
         "480",
         "BACARDI USA INC            ",
         "2016-01-12 00:00:00",
         "8106",
         "2015-12-20 00:00:00",
         "2016-02-05 00:00:00",
         "10100",
         "137483.78",
         "2935.2",
         "None\"\r\n516,\"BANFI PRODUCTS CORP        ",
         "2025-05-27 18:54:24"
        ],
        [
         "3",
         "2396",
         "BLACK PRINCE DISTILLERY INC",
         "2016-01-08 00:00:00",
         "8191",
         "2015-12-25 00:00:00",
         "2016-02-06 00:00:00",
         "23",
         "234.83",
         "2.3",
         "None\"\r\n1128,\"BROWN-FORMAN CORP          ",
         "2025-05-27 18:54:24"
        ],
        [
         "4",
         "1189",
         "BULLY BOY DISTILLERS       ",
         "2016-01-09 00:00:00",
         "8171",
         "2015-12-24 00:00:00",
         "2016-02-04 00:00:00",
         "6",
         "132.3",
         "5.29",
         "None\"\r\n1273,\"CALEDONIA SPIRITS INC      ",
         "2025-05-27 18:54:24"
        ]
       ],
       "shape": {
        "columns": 11,
        "rows": 5
       }
      },
      "text/html": [
       "<div>\n",
       "<style scoped>\n",
       "    .dataframe tbody tr th:only-of-type {\n",
       "        vertical-align: middle;\n",
       "    }\n",
       "\n",
       "    .dataframe tbody tr th {\n",
       "        vertical-align: top;\n",
       "    }\n",
       "\n",
       "    .dataframe thead th {\n",
       "        text-align: right;\n",
       "    }\n",
       "</style>\n",
       "<table border=\"1\" class=\"dataframe\">\n",
       "  <thead>\n",
       "    <tr style=\"text-align: right;\">\n",
       "      <th></th>\n",
       "      <th>VendorNumber</th>\n",
       "      <th>VendorName</th>\n",
       "      <th>InvoiceDate</th>\n",
       "      <th>PONumber</th>\n",
       "      <th>PODate</th>\n",
       "      <th>PayDate</th>\n",
       "      <th>Quantity</th>\n",
       "      <th>Dollars</th>\n",
       "      <th>Freight</th>\n",
       "      <th>Approval</th>\n",
       "      <th>fecha_actualizacion</th>\n",
       "    </tr>\n",
       "  </thead>\n",
       "  <tbody>\n",
       "    <tr>\n",
       "      <th>0</th>\n",
       "      <td>0</td>\n",
       "      <td>VendorName</td>\n",
       "      <td>NaT</td>\n",
       "      <td>0</td>\n",
       "      <td>NaT</td>\n",
       "      <td>NaT</td>\n",
       "      <td>0</td>\n",
       "      <td>0.00</td>\n",
       "      <td>0.00</td>\n",
       "      <td>Approval\"\\r\\n105,\"ALTAMAR BRANDS LLC</td>\n",
       "      <td>2025-05-27 18:54:24</td>\n",
       "    </tr>\n",
       "    <tr>\n",
       "      <th>1</th>\n",
       "      <td>4466</td>\n",
       "      <td>AMERICAN VINTAGE BEVERAGE</td>\n",
       "      <td>2016-01-07</td>\n",
       "      <td>8137</td>\n",
       "      <td>2015-12-22</td>\n",
       "      <td>2016-02-21</td>\n",
       "      <td>15</td>\n",
       "      <td>140.55</td>\n",
       "      <td>8.57</td>\n",
       "      <td>None\"\\r\\n388,\"ATLANTIC IMPORTING COMPANY</td>\n",
       "      <td>2025-05-27 18:54:24</td>\n",
       "    </tr>\n",
       "    <tr>\n",
       "      <th>2</th>\n",
       "      <td>480</td>\n",
       "      <td>BACARDI USA INC</td>\n",
       "      <td>2016-01-12</td>\n",
       "      <td>8106</td>\n",
       "      <td>2015-12-20</td>\n",
       "      <td>2016-02-05</td>\n",
       "      <td>10100</td>\n",
       "      <td>137483.78</td>\n",
       "      <td>2935.20</td>\n",
       "      <td>None\"\\r\\n516,\"BANFI PRODUCTS CORP</td>\n",
       "      <td>2025-05-27 18:54:24</td>\n",
       "    </tr>\n",
       "    <tr>\n",
       "      <th>3</th>\n",
       "      <td>2396</td>\n",
       "      <td>BLACK PRINCE DISTILLERY INC</td>\n",
       "      <td>2016-01-08</td>\n",
       "      <td>8191</td>\n",
       "      <td>2015-12-25</td>\n",
       "      <td>2016-02-06</td>\n",
       "      <td>23</td>\n",
       "      <td>234.83</td>\n",
       "      <td>2.30</td>\n",
       "      <td>None\"\\r\\n1128,\"BROWN-FORMAN CORP</td>\n",
       "      <td>2025-05-27 18:54:24</td>\n",
       "    </tr>\n",
       "    <tr>\n",
       "      <th>4</th>\n",
       "      <td>1189</td>\n",
       "      <td>BULLY BOY DISTILLERS</td>\n",
       "      <td>2016-01-09</td>\n",
       "      <td>8171</td>\n",
       "      <td>2015-12-24</td>\n",
       "      <td>2016-02-04</td>\n",
       "      <td>6</td>\n",
       "      <td>132.30</td>\n",
       "      <td>5.29</td>\n",
       "      <td>None\"\\r\\n1273,\"CALEDONIA SPIRITS INC</td>\n",
       "      <td>2025-05-27 18:54:24</td>\n",
       "    </tr>\n",
       "  </tbody>\n",
       "</table>\n",
       "</div>"
      ],
      "text/plain": [
       "   VendorNumber                   VendorName InvoiceDate  PONumber     PODate  \\\n",
       "0             0                   VendorName         NaT         0        NaT   \n",
       "1          4466  AMERICAN VINTAGE BEVERAGE    2016-01-07      8137 2015-12-22   \n",
       "2           480  BACARDI USA INC              2016-01-12      8106 2015-12-20   \n",
       "3          2396  BLACK PRINCE DISTILLERY INC  2016-01-08      8191 2015-12-25   \n",
       "4          1189  BULLY BOY DISTILLERS         2016-01-09      8171 2015-12-24   \n",
       "\n",
       "     PayDate  Quantity    Dollars  Freight  \\\n",
       "0        NaT         0       0.00     0.00   \n",
       "1 2016-02-21        15     140.55     8.57   \n",
       "2 2016-02-05     10100  137483.78  2935.20   \n",
       "3 2016-02-06        23     234.83     2.30   \n",
       "4 2016-02-04         6     132.30     5.29   \n",
       "\n",
       "                                        Approval fecha_actualizacion  \n",
       "0  Approval\"\\r\\n105,\"ALTAMAR BRANDS LLC          2025-05-27 18:54:24  \n",
       "1      None\"\\r\\n388,\"ATLANTIC IMPORTING COMPANY  2025-05-27 18:54:24  \n",
       "2      None\"\\r\\n516,\"BANFI PRODUCTS CORP         2025-05-27 18:54:24  \n",
       "3     None\"\\r\\n1128,\"BROWN-FORMAN CORP           2025-05-27 18:54:24  \n",
       "4     None\"\\r\\n1273,\"CALEDONIA SPIRITS INC       2025-05-27 18:54:24  "
      ]
     },
     "execution_count": 53,
     "metadata": {},
     "output_type": "execute_result"
    }
   ],
   "source": [
    "df4.head()"
   ]
  },
  {
   "cell_type": "code",
   "execution_count": 54,
   "id": "8adbd42c",
   "metadata": {},
   "outputs": [
    {
     "data": {
      "text/plain": [
       "(2776, 11)"
      ]
     },
     "execution_count": 54,
     "metadata": {},
     "output_type": "execute_result"
    }
   ],
   "source": [
    "np.shape(df4)"
   ]
  },
  {
   "cell_type": "code",
   "execution_count": 55,
   "id": "b5fe0969",
   "metadata": {},
   "outputs": [
    {
     "name": "stdout",
     "output_type": "stream",
     "text": [
      "<class 'pandas.core.frame.DataFrame'>\n",
      "RangeIndex: 2776 entries, 0 to 2775\n",
      "Data columns (total 11 columns):\n",
      " #   Column               Non-Null Count  Dtype         \n",
      "---  ------               --------------  -----         \n",
      " 0   VendorNumber         2776 non-null   int64         \n",
      " 1   VendorName           2776 non-null   object        \n",
      " 2   InvoiceDate          2775 non-null   datetime64[ns]\n",
      " 3   PONumber             2776 non-null   int64         \n",
      " 4   PODate               2775 non-null   datetime64[ns]\n",
      " 5   PayDate              2775 non-null   datetime64[ns]\n",
      " 6   Quantity             2776 non-null   int64         \n",
      " 7   Dollars              2776 non-null   float64       \n",
      " 8   Freight              2776 non-null   float64       \n",
      " 9   Approval             2776 non-null   object        \n",
      " 10  fecha_actualizacion  2776 non-null   datetime64[ns]\n",
      "dtypes: datetime64[ns](4), float64(2), int64(3), object(2)\n",
      "memory usage: 238.7+ KB\n",
      "None\n"
     ]
    }
   ],
   "source": [
    "print(df4.info())"
   ]
  },
  {
   "cell_type": "code",
   "execution_count": 56,
   "id": "502ab37f",
   "metadata": {},
   "outputs": [],
   "source": [
    "df4 = df4.drop(index=0).reset_index(drop=True)"
   ]
  },
  {
   "cell_type": "code",
   "execution_count": 57,
   "id": "2188c23e",
   "metadata": {},
   "outputs": [
    {
     "data": {
      "application/vnd.microsoft.datawrangler.viewer.v0+json": {
       "columns": [
        {
         "name": "index",
         "rawType": "int64",
         "type": "integer"
        },
        {
         "name": "VendorNumber",
         "rawType": "int64",
         "type": "integer"
        },
        {
         "name": "VendorName",
         "rawType": "object",
         "type": "string"
        },
        {
         "name": "InvoiceDate",
         "rawType": "datetime64[ns]",
         "type": "datetime"
        },
        {
         "name": "PONumber",
         "rawType": "int64",
         "type": "integer"
        },
        {
         "name": "PODate",
         "rawType": "datetime64[ns]",
         "type": "datetime"
        },
        {
         "name": "PayDate",
         "rawType": "datetime64[ns]",
         "type": "datetime"
        },
        {
         "name": "Quantity",
         "rawType": "int64",
         "type": "integer"
        },
        {
         "name": "Dollars",
         "rawType": "float64",
         "type": "float"
        },
        {
         "name": "Freight",
         "rawType": "float64",
         "type": "float"
        },
        {
         "name": "Approval",
         "rawType": "object",
         "type": "string"
        },
        {
         "name": "fecha_actualizacion",
         "rawType": "datetime64[ns]",
         "type": "datetime"
        }
       ],
       "ref": "dc8a1749-a03b-46de-9e63-bcde1f7cda44",
       "rows": [
        [
         "0",
         "4466",
         "AMERICAN VINTAGE BEVERAGE  ",
         "2016-01-07 00:00:00",
         "8137",
         "2015-12-22 00:00:00",
         "2016-02-21 00:00:00",
         "15",
         "140.55",
         "8.57",
         "None\"\r\n388,\"ATLANTIC IMPORTING COMPANY ",
         "2025-05-27 18:54:24"
        ],
        [
         "1",
         "480",
         "BACARDI USA INC            ",
         "2016-01-12 00:00:00",
         "8106",
         "2015-12-20 00:00:00",
         "2016-02-05 00:00:00",
         "10100",
         "137483.78",
         "2935.2",
         "None\"\r\n516,\"BANFI PRODUCTS CORP        ",
         "2025-05-27 18:54:24"
        ],
        [
         "2",
         "2396",
         "BLACK PRINCE DISTILLERY INC",
         "2016-01-08 00:00:00",
         "8191",
         "2015-12-25 00:00:00",
         "2016-02-06 00:00:00",
         "23",
         "234.83",
         "2.3",
         "None\"\r\n1128,\"BROWN-FORMAN CORP          ",
         "2025-05-27 18:54:24"
        ],
        [
         "3",
         "1189",
         "BULLY BOY DISTILLERS       ",
         "2016-01-09 00:00:00",
         "8171",
         "2015-12-24 00:00:00",
         "2016-02-04 00:00:00",
         "6",
         "132.3",
         "5.29",
         "None\"\r\n1273,\"CALEDONIA SPIRITS INC      ",
         "2025-05-27 18:54:24"
        ],
        [
         "4",
         "11567",
         "CAMPARI AMERICA            ",
         "2016-01-06 00:00:00",
         "8151",
         "2015-12-23 00:00:00",
         "2016-02-20 00:00:00",
         "1321",
         "12039.71",
         "398.71",
         "None\"\r\n90046,\"CANDIA VINEYARDS           ",
         "2025-05-27 18:54:24"
        ]
       ],
       "shape": {
        "columns": 11,
        "rows": 5
       }
      },
      "text/html": [
       "<div>\n",
       "<style scoped>\n",
       "    .dataframe tbody tr th:only-of-type {\n",
       "        vertical-align: middle;\n",
       "    }\n",
       "\n",
       "    .dataframe tbody tr th {\n",
       "        vertical-align: top;\n",
       "    }\n",
       "\n",
       "    .dataframe thead th {\n",
       "        text-align: right;\n",
       "    }\n",
       "</style>\n",
       "<table border=\"1\" class=\"dataframe\">\n",
       "  <thead>\n",
       "    <tr style=\"text-align: right;\">\n",
       "      <th></th>\n",
       "      <th>VendorNumber</th>\n",
       "      <th>VendorName</th>\n",
       "      <th>InvoiceDate</th>\n",
       "      <th>PONumber</th>\n",
       "      <th>PODate</th>\n",
       "      <th>PayDate</th>\n",
       "      <th>Quantity</th>\n",
       "      <th>Dollars</th>\n",
       "      <th>Freight</th>\n",
       "      <th>Approval</th>\n",
       "      <th>fecha_actualizacion</th>\n",
       "    </tr>\n",
       "  </thead>\n",
       "  <tbody>\n",
       "    <tr>\n",
       "      <th>0</th>\n",
       "      <td>4466</td>\n",
       "      <td>AMERICAN VINTAGE BEVERAGE</td>\n",
       "      <td>2016-01-07</td>\n",
       "      <td>8137</td>\n",
       "      <td>2015-12-22</td>\n",
       "      <td>2016-02-21</td>\n",
       "      <td>15</td>\n",
       "      <td>140.55</td>\n",
       "      <td>8.57</td>\n",
       "      <td>None\"\\r\\n388,\"ATLANTIC IMPORTING COMPANY</td>\n",
       "      <td>2025-05-27 18:54:24</td>\n",
       "    </tr>\n",
       "    <tr>\n",
       "      <th>1</th>\n",
       "      <td>480</td>\n",
       "      <td>BACARDI USA INC</td>\n",
       "      <td>2016-01-12</td>\n",
       "      <td>8106</td>\n",
       "      <td>2015-12-20</td>\n",
       "      <td>2016-02-05</td>\n",
       "      <td>10100</td>\n",
       "      <td>137483.78</td>\n",
       "      <td>2935.20</td>\n",
       "      <td>None\"\\r\\n516,\"BANFI PRODUCTS CORP</td>\n",
       "      <td>2025-05-27 18:54:24</td>\n",
       "    </tr>\n",
       "    <tr>\n",
       "      <th>2</th>\n",
       "      <td>2396</td>\n",
       "      <td>BLACK PRINCE DISTILLERY INC</td>\n",
       "      <td>2016-01-08</td>\n",
       "      <td>8191</td>\n",
       "      <td>2015-12-25</td>\n",
       "      <td>2016-02-06</td>\n",
       "      <td>23</td>\n",
       "      <td>234.83</td>\n",
       "      <td>2.30</td>\n",
       "      <td>None\"\\r\\n1128,\"BROWN-FORMAN CORP</td>\n",
       "      <td>2025-05-27 18:54:24</td>\n",
       "    </tr>\n",
       "    <tr>\n",
       "      <th>3</th>\n",
       "      <td>1189</td>\n",
       "      <td>BULLY BOY DISTILLERS</td>\n",
       "      <td>2016-01-09</td>\n",
       "      <td>8171</td>\n",
       "      <td>2015-12-24</td>\n",
       "      <td>2016-02-04</td>\n",
       "      <td>6</td>\n",
       "      <td>132.30</td>\n",
       "      <td>5.29</td>\n",
       "      <td>None\"\\r\\n1273,\"CALEDONIA SPIRITS INC</td>\n",
       "      <td>2025-05-27 18:54:24</td>\n",
       "    </tr>\n",
       "    <tr>\n",
       "      <th>4</th>\n",
       "      <td>11567</td>\n",
       "      <td>CAMPARI AMERICA</td>\n",
       "      <td>2016-01-06</td>\n",
       "      <td>8151</td>\n",
       "      <td>2015-12-23</td>\n",
       "      <td>2016-02-20</td>\n",
       "      <td>1321</td>\n",
       "      <td>12039.71</td>\n",
       "      <td>398.71</td>\n",
       "      <td>None\"\\r\\n90046,\"CANDIA VINEYARDS</td>\n",
       "      <td>2025-05-27 18:54:24</td>\n",
       "    </tr>\n",
       "  </tbody>\n",
       "</table>\n",
       "</div>"
      ],
      "text/plain": [
       "   VendorNumber                   VendorName InvoiceDate  PONumber     PODate  \\\n",
       "0          4466  AMERICAN VINTAGE BEVERAGE    2016-01-07      8137 2015-12-22   \n",
       "1           480  BACARDI USA INC              2016-01-12      8106 2015-12-20   \n",
       "2          2396  BLACK PRINCE DISTILLERY INC  2016-01-08      8191 2015-12-25   \n",
       "3          1189  BULLY BOY DISTILLERS         2016-01-09      8171 2015-12-24   \n",
       "4         11567  CAMPARI AMERICA              2016-01-06      8151 2015-12-23   \n",
       "\n",
       "     PayDate  Quantity    Dollars  Freight  \\\n",
       "0 2016-02-21        15     140.55     8.57   \n",
       "1 2016-02-05     10100  137483.78  2935.20   \n",
       "2 2016-02-06        23     234.83     2.30   \n",
       "3 2016-02-04         6     132.30     5.29   \n",
       "4 2016-02-20      1321   12039.71   398.71   \n",
       "\n",
       "                                      Approval fecha_actualizacion  \n",
       "0    None\"\\r\\n388,\"ATLANTIC IMPORTING COMPANY  2025-05-27 18:54:24  \n",
       "1    None\"\\r\\n516,\"BANFI PRODUCTS CORP         2025-05-27 18:54:24  \n",
       "2   None\"\\r\\n1128,\"BROWN-FORMAN CORP           2025-05-27 18:54:24  \n",
       "3   None\"\\r\\n1273,\"CALEDONIA SPIRITS INC       2025-05-27 18:54:24  \n",
       "4  None\"\\r\\n90046,\"CANDIA VINEYARDS            2025-05-27 18:54:24  "
      ]
     },
     "execution_count": 57,
     "metadata": {},
     "output_type": "execute_result"
    }
   ],
   "source": [
    "df4.head()"
   ]
  },
  {
   "cell_type": "code",
   "execution_count": 58,
   "id": "9eef6718",
   "metadata": {},
   "outputs": [
    {
     "data": {
      "application/vnd.microsoft.datawrangler.viewer.v0+json": {
       "columns": [
        {
         "name": "index",
         "rawType": "object",
         "type": "string"
        },
        {
         "name": "0",
         "rawType": "int64",
         "type": "integer"
        }
       ],
       "ref": "9301f2be-6d62-46f2-ba7b-7b7741a918ca",
       "rows": [
        [
         "VendorNumber",
         "0"
        ],
        [
         "VendorName",
         "0"
        ],
        [
         "InvoiceDate",
         "0"
        ],
        [
         "PONumber",
         "0"
        ],
        [
         "PODate",
         "0"
        ],
        [
         "PayDate",
         "0"
        ],
        [
         "Quantity",
         "0"
        ],
        [
         "Dollars",
         "0"
        ],
        [
         "Freight",
         "0"
        ],
        [
         "Approval",
         "0"
        ],
        [
         "fecha_actualizacion",
         "0"
        ]
       ],
       "shape": {
        "columns": 1,
        "rows": 11
       }
      },
      "text/plain": [
       "VendorNumber           0\n",
       "VendorName             0\n",
       "InvoiceDate            0\n",
       "PONumber               0\n",
       "PODate                 0\n",
       "PayDate                0\n",
       "Quantity               0\n",
       "Dollars                0\n",
       "Freight                0\n",
       "Approval               0\n",
       "fecha_actualizacion    0\n",
       "dtype: int64"
      ]
     },
     "execution_count": 58,
     "metadata": {},
     "output_type": "execute_result"
    }
   ],
   "source": [
    "df4.isnull().sum()"
   ]
  },
  {
   "cell_type": "code",
   "execution_count": 59,
   "id": "07f95e67",
   "metadata": {},
   "outputs": [
    {
     "name": "stdout",
     "output_type": "stream",
     "text": [
      "Estadísticas para VendorNumber:\n",
      "  Media: 20452.81\n",
      "  Mediana: 7240.00\n",
      "  Desviación estándar: 34499.17\n",
      "  Mínimo: 2.00\n",
      "  Máximo: 201359.00\n",
      "----------------------------------------\n",
      "Estadísticas para PONumber:\n",
      "  Media: 10886.80\n",
      "  Mediana: 10886.00\n",
      "  Desviación estándar: 1601.49\n",
      "  Mínimo: 8106.00\n",
      "  Máximo: 13661.00\n",
      "----------------------------------------\n",
      "Estadísticas para Quantity:\n",
      "  Media: 6246.86\n",
      "  Mediana: 398.00\n",
      "  Desviación estándar: 14931.16\n",
      "  Mínimo: 1.00\n",
      "  Máximo: 128861.00\n",
      "----------------------------------------\n",
      "Estadísticas para Dollars:\n",
      "  Media: 59986.34\n",
      "  Mediana: 4695.52\n",
      "  Desviación estándar: 146862.22\n",
      "  Mínimo: 4.14\n",
      "  Máximo: 1468470.64\n",
      "----------------------------------------\n",
      "Estadísticas para Freight:\n",
      "  Media: 305.41\n",
      "  Mediana: 24.18\n",
      "  Desviación estándar: 746.83\n",
      "  Mínimo: 0.02\n",
      "  Máximo: 7753.26\n",
      "----------------------------------------\n"
     ]
    }
   ],
   "source": [
    "columnas_numericas4 = df4.select_dtypes(include='number').columns\n",
    "\n",
    "for col in columnas_numericas4:\n",
    "    print(f\"Estadísticas para {col}:\")\n",
    "    print(f\"  Media: {df4[col].mean():.2f}\")\n",
    "    print(f\"  Mediana: {df4[col].median():.2f}\")\n",
    "    print(f\"  Desviación estándar: {df4[col].std():.2f}\")\n",
    "    print(f\"  Mínimo: {df4[col].min():.2f}\")\n",
    "    print(f\"  Máximo: {df4[col].max():.2f}\")\n",
    "    print(\"-\" * 40)"
   ]
  },
  {
   "cell_type": "code",
   "execution_count": 60,
   "id": "12068c4b",
   "metadata": {},
   "outputs": [],
   "source": [
    "df4['Approval'] = df4['Approval'].astype(str).str.extract(r'^([^\\r\\n]*)')[0].str.strip('\"')"
   ]
  },
  {
   "cell_type": "code",
   "execution_count": 61,
   "id": "76200bbe",
   "metadata": {},
   "outputs": [],
   "source": [
    "df4 = df4.replace('None', np.nan)"
   ]
  },
  {
   "cell_type": "code",
   "execution_count": 62,
   "id": "bd036446",
   "metadata": {},
   "outputs": [
    {
     "data": {
      "application/vnd.microsoft.datawrangler.viewer.v0+json": {
       "columns": [
        {
         "name": "index",
         "rawType": "object",
         "type": "string"
        },
        {
         "name": "0",
         "rawType": "int64",
         "type": "integer"
        }
       ],
       "ref": "c5147615-8a81-4930-b493-b25d3a40d91b",
       "rows": [
        [
         "VendorNumber",
         "0"
        ],
        [
         "VendorName",
         "0"
        ],
        [
         "InvoiceDate",
         "0"
        ],
        [
         "PONumber",
         "0"
        ],
        [
         "PODate",
         "0"
        ],
        [
         "PayDate",
         "0"
        ],
        [
         "Quantity",
         "0"
        ],
        [
         "Dollars",
         "0"
        ],
        [
         "Freight",
         "0"
        ],
        [
         "Approval",
         "2574"
        ],
        [
         "fecha_actualizacion",
         "0"
        ]
       ],
       "shape": {
        "columns": 1,
        "rows": 11
       }
      },
      "text/plain": [
       "VendorNumber              0\n",
       "VendorName                0\n",
       "InvoiceDate               0\n",
       "PONumber                  0\n",
       "PODate                    0\n",
       "PayDate                   0\n",
       "Quantity                  0\n",
       "Dollars                   0\n",
       "Freight                   0\n",
       "Approval               2574\n",
       "fecha_actualizacion       0\n",
       "dtype: int64"
      ]
     },
     "execution_count": 62,
     "metadata": {},
     "output_type": "execute_result"
    }
   ],
   "source": [
    "df4.isna().sum()"
   ]
  },
  {
   "cell_type": "code",
   "execution_count": 63,
   "id": "9a8a5bcc",
   "metadata": {},
   "outputs": [
    {
     "data": {
      "application/vnd.microsoft.datawrangler.viewer.v0+json": {
       "columns": [
        {
         "name": "index",
         "rawType": "int64",
         "type": "integer"
        },
        {
         "name": "VendorNumber",
         "rawType": "int64",
         "type": "integer"
        },
        {
         "name": "VendorName",
         "rawType": "object",
         "type": "string"
        },
        {
         "name": "InvoiceDate",
         "rawType": "datetime64[ns]",
         "type": "datetime"
        },
        {
         "name": "PONumber",
         "rawType": "int64",
         "type": "integer"
        },
        {
         "name": "PODate",
         "rawType": "datetime64[ns]",
         "type": "datetime"
        },
        {
         "name": "PayDate",
         "rawType": "datetime64[ns]",
         "type": "datetime"
        },
        {
         "name": "Quantity",
         "rawType": "int64",
         "type": "integer"
        },
        {
         "name": "Dollars",
         "rawType": "float64",
         "type": "float"
        },
        {
         "name": "Freight",
         "rawType": "float64",
         "type": "float"
        },
        {
         "name": "Approval",
         "rawType": "object",
         "type": "unknown"
        },
        {
         "name": "fecha_actualizacion",
         "rawType": "datetime64[ns]",
         "type": "datetime"
        }
       ],
       "ref": "a2d88142-eb5d-4af9-bd7a-dc2941965868",
       "rows": [
        [
         "0",
         "4466",
         "AMERICAN VINTAGE BEVERAGE  ",
         "2016-01-07 00:00:00",
         "8137",
         "2015-12-22 00:00:00",
         "2016-02-21 00:00:00",
         "15",
         "140.55",
         "8.57",
         null,
         "2025-05-27 18:54:24"
        ],
        [
         "1",
         "480",
         "BACARDI USA INC            ",
         "2016-01-12 00:00:00",
         "8106",
         "2015-12-20 00:00:00",
         "2016-02-05 00:00:00",
         "10100",
         "137483.78",
         "2935.2",
         null,
         "2025-05-27 18:54:24"
        ],
        [
         "2",
         "2396",
         "BLACK PRINCE DISTILLERY INC",
         "2016-01-08 00:00:00",
         "8191",
         "2015-12-25 00:00:00",
         "2016-02-06 00:00:00",
         "23",
         "234.83",
         "2.3",
         null,
         "2025-05-27 18:54:24"
        ],
        [
         "3",
         "1189",
         "BULLY BOY DISTILLERS       ",
         "2016-01-09 00:00:00",
         "8171",
         "2015-12-24 00:00:00",
         "2016-02-04 00:00:00",
         "6",
         "132.3",
         "5.29",
         null,
         "2025-05-27 18:54:24"
        ],
        [
         "4",
         "11567",
         "CAMPARI AMERICA            ",
         "2016-01-06 00:00:00",
         "8151",
         "2015-12-23 00:00:00",
         "2016-02-20 00:00:00",
         "1321",
         "12039.71",
         "398.71",
         null,
         "2025-05-27 18:54:24"
        ]
       ],
       "shape": {
        "columns": 11,
        "rows": 5
       }
      },
      "text/html": [
       "<div>\n",
       "<style scoped>\n",
       "    .dataframe tbody tr th:only-of-type {\n",
       "        vertical-align: middle;\n",
       "    }\n",
       "\n",
       "    .dataframe tbody tr th {\n",
       "        vertical-align: top;\n",
       "    }\n",
       "\n",
       "    .dataframe thead th {\n",
       "        text-align: right;\n",
       "    }\n",
       "</style>\n",
       "<table border=\"1\" class=\"dataframe\">\n",
       "  <thead>\n",
       "    <tr style=\"text-align: right;\">\n",
       "      <th></th>\n",
       "      <th>VendorNumber</th>\n",
       "      <th>VendorName</th>\n",
       "      <th>InvoiceDate</th>\n",
       "      <th>PONumber</th>\n",
       "      <th>PODate</th>\n",
       "      <th>PayDate</th>\n",
       "      <th>Quantity</th>\n",
       "      <th>Dollars</th>\n",
       "      <th>Freight</th>\n",
       "      <th>Approval</th>\n",
       "      <th>fecha_actualizacion</th>\n",
       "    </tr>\n",
       "  </thead>\n",
       "  <tbody>\n",
       "    <tr>\n",
       "      <th>0</th>\n",
       "      <td>4466</td>\n",
       "      <td>AMERICAN VINTAGE BEVERAGE</td>\n",
       "      <td>2016-01-07</td>\n",
       "      <td>8137</td>\n",
       "      <td>2015-12-22</td>\n",
       "      <td>2016-02-21</td>\n",
       "      <td>15</td>\n",
       "      <td>140.55</td>\n",
       "      <td>8.57</td>\n",
       "      <td>NaN</td>\n",
       "      <td>2025-05-27 18:54:24</td>\n",
       "    </tr>\n",
       "    <tr>\n",
       "      <th>1</th>\n",
       "      <td>480</td>\n",
       "      <td>BACARDI USA INC</td>\n",
       "      <td>2016-01-12</td>\n",
       "      <td>8106</td>\n",
       "      <td>2015-12-20</td>\n",
       "      <td>2016-02-05</td>\n",
       "      <td>10100</td>\n",
       "      <td>137483.78</td>\n",
       "      <td>2935.20</td>\n",
       "      <td>NaN</td>\n",
       "      <td>2025-05-27 18:54:24</td>\n",
       "    </tr>\n",
       "    <tr>\n",
       "      <th>2</th>\n",
       "      <td>2396</td>\n",
       "      <td>BLACK PRINCE DISTILLERY INC</td>\n",
       "      <td>2016-01-08</td>\n",
       "      <td>8191</td>\n",
       "      <td>2015-12-25</td>\n",
       "      <td>2016-02-06</td>\n",
       "      <td>23</td>\n",
       "      <td>234.83</td>\n",
       "      <td>2.30</td>\n",
       "      <td>NaN</td>\n",
       "      <td>2025-05-27 18:54:24</td>\n",
       "    </tr>\n",
       "    <tr>\n",
       "      <th>3</th>\n",
       "      <td>1189</td>\n",
       "      <td>BULLY BOY DISTILLERS</td>\n",
       "      <td>2016-01-09</td>\n",
       "      <td>8171</td>\n",
       "      <td>2015-12-24</td>\n",
       "      <td>2016-02-04</td>\n",
       "      <td>6</td>\n",
       "      <td>132.30</td>\n",
       "      <td>5.29</td>\n",
       "      <td>NaN</td>\n",
       "      <td>2025-05-27 18:54:24</td>\n",
       "    </tr>\n",
       "    <tr>\n",
       "      <th>4</th>\n",
       "      <td>11567</td>\n",
       "      <td>CAMPARI AMERICA</td>\n",
       "      <td>2016-01-06</td>\n",
       "      <td>8151</td>\n",
       "      <td>2015-12-23</td>\n",
       "      <td>2016-02-20</td>\n",
       "      <td>1321</td>\n",
       "      <td>12039.71</td>\n",
       "      <td>398.71</td>\n",
       "      <td>NaN</td>\n",
       "      <td>2025-05-27 18:54:24</td>\n",
       "    </tr>\n",
       "  </tbody>\n",
       "</table>\n",
       "</div>"
      ],
      "text/plain": [
       "   VendorNumber                   VendorName InvoiceDate  PONumber     PODate  \\\n",
       "0          4466  AMERICAN VINTAGE BEVERAGE    2016-01-07      8137 2015-12-22   \n",
       "1           480  BACARDI USA INC              2016-01-12      8106 2015-12-20   \n",
       "2          2396  BLACK PRINCE DISTILLERY INC  2016-01-08      8191 2015-12-25   \n",
       "3          1189  BULLY BOY DISTILLERS         2016-01-09      8171 2015-12-24   \n",
       "4         11567  CAMPARI AMERICA              2016-01-06      8151 2015-12-23   \n",
       "\n",
       "     PayDate  Quantity    Dollars  Freight Approval fecha_actualizacion  \n",
       "0 2016-02-21        15     140.55     8.57      NaN 2025-05-27 18:54:24  \n",
       "1 2016-02-05     10100  137483.78  2935.20      NaN 2025-05-27 18:54:24  \n",
       "2 2016-02-06        23     234.83     2.30      NaN 2025-05-27 18:54:24  \n",
       "3 2016-02-04         6     132.30     5.29      NaN 2025-05-27 18:54:24  \n",
       "4 2016-02-20      1321   12039.71   398.71      NaN 2025-05-27 18:54:24  "
      ]
     },
     "execution_count": 63,
     "metadata": {},
     "output_type": "execute_result"
    }
   ],
   "source": [
    "df4.head()"
   ]
  },
  {
   "cell_type": "code",
   "execution_count": 64,
   "id": "bdb7e953",
   "metadata": {},
   "outputs": [],
   "source": [
    "df4.drop('Approval',axis=1,inplace=True)"
   ]
  },
  {
   "cell_type": "code",
   "execution_count": 65,
   "id": "0d3023f9",
   "metadata": {},
   "outputs": [
    {
     "data": {
      "application/vnd.microsoft.datawrangler.viewer.v0+json": {
       "columns": [
        {
         "name": "index",
         "rawType": "int64",
         "type": "integer"
        },
        {
         "name": "VendorNumber",
         "rawType": "int64",
         "type": "integer"
        },
        {
         "name": "VendorName",
         "rawType": "object",
         "type": "string"
        },
        {
         "name": "InvoiceDate",
         "rawType": "datetime64[ns]",
         "type": "datetime"
        },
        {
         "name": "PONumber",
         "rawType": "int64",
         "type": "integer"
        },
        {
         "name": "PODate",
         "rawType": "datetime64[ns]",
         "type": "datetime"
        },
        {
         "name": "PayDate",
         "rawType": "datetime64[ns]",
         "type": "datetime"
        },
        {
         "name": "Quantity",
         "rawType": "int64",
         "type": "integer"
        },
        {
         "name": "Dollars",
         "rawType": "float64",
         "type": "float"
        },
        {
         "name": "Freight",
         "rawType": "float64",
         "type": "float"
        },
        {
         "name": "fecha_actualizacion",
         "rawType": "datetime64[ns]",
         "type": "datetime"
        }
       ],
       "ref": "f468aa0e-c1fb-4daa-ad66-155971c48488",
       "rows": [
        [
         "0",
         "4466",
         "AMERICAN VINTAGE BEVERAGE  ",
         "2016-01-07 00:00:00",
         "8137",
         "2015-12-22 00:00:00",
         "2016-02-21 00:00:00",
         "15",
         "140.55",
         "8.57",
         "2025-05-27 18:54:24"
        ],
        [
         "1",
         "480",
         "BACARDI USA INC            ",
         "2016-01-12 00:00:00",
         "8106",
         "2015-12-20 00:00:00",
         "2016-02-05 00:00:00",
         "10100",
         "137483.78",
         "2935.2",
         "2025-05-27 18:54:24"
        ],
        [
         "2",
         "2396",
         "BLACK PRINCE DISTILLERY INC",
         "2016-01-08 00:00:00",
         "8191",
         "2015-12-25 00:00:00",
         "2016-02-06 00:00:00",
         "23",
         "234.83",
         "2.3",
         "2025-05-27 18:54:24"
        ],
        [
         "3",
         "1189",
         "BULLY BOY DISTILLERS       ",
         "2016-01-09 00:00:00",
         "8171",
         "2015-12-24 00:00:00",
         "2016-02-04 00:00:00",
         "6",
         "132.3",
         "5.29",
         "2025-05-27 18:54:24"
        ],
        [
         "4",
         "11567",
         "CAMPARI AMERICA            ",
         "2016-01-06 00:00:00",
         "8151",
         "2015-12-23 00:00:00",
         "2016-02-20 00:00:00",
         "1321",
         "12039.71",
         "398.71",
         "2025-05-27 18:54:24"
        ]
       ],
       "shape": {
        "columns": 10,
        "rows": 5
       }
      },
      "text/html": [
       "<div>\n",
       "<style scoped>\n",
       "    .dataframe tbody tr th:only-of-type {\n",
       "        vertical-align: middle;\n",
       "    }\n",
       "\n",
       "    .dataframe tbody tr th {\n",
       "        vertical-align: top;\n",
       "    }\n",
       "\n",
       "    .dataframe thead th {\n",
       "        text-align: right;\n",
       "    }\n",
       "</style>\n",
       "<table border=\"1\" class=\"dataframe\">\n",
       "  <thead>\n",
       "    <tr style=\"text-align: right;\">\n",
       "      <th></th>\n",
       "      <th>VendorNumber</th>\n",
       "      <th>VendorName</th>\n",
       "      <th>InvoiceDate</th>\n",
       "      <th>PONumber</th>\n",
       "      <th>PODate</th>\n",
       "      <th>PayDate</th>\n",
       "      <th>Quantity</th>\n",
       "      <th>Dollars</th>\n",
       "      <th>Freight</th>\n",
       "      <th>fecha_actualizacion</th>\n",
       "    </tr>\n",
       "  </thead>\n",
       "  <tbody>\n",
       "    <tr>\n",
       "      <th>0</th>\n",
       "      <td>4466</td>\n",
       "      <td>AMERICAN VINTAGE BEVERAGE</td>\n",
       "      <td>2016-01-07</td>\n",
       "      <td>8137</td>\n",
       "      <td>2015-12-22</td>\n",
       "      <td>2016-02-21</td>\n",
       "      <td>15</td>\n",
       "      <td>140.55</td>\n",
       "      <td>8.57</td>\n",
       "      <td>2025-05-27 18:54:24</td>\n",
       "    </tr>\n",
       "    <tr>\n",
       "      <th>1</th>\n",
       "      <td>480</td>\n",
       "      <td>BACARDI USA INC</td>\n",
       "      <td>2016-01-12</td>\n",
       "      <td>8106</td>\n",
       "      <td>2015-12-20</td>\n",
       "      <td>2016-02-05</td>\n",
       "      <td>10100</td>\n",
       "      <td>137483.78</td>\n",
       "      <td>2935.20</td>\n",
       "      <td>2025-05-27 18:54:24</td>\n",
       "    </tr>\n",
       "    <tr>\n",
       "      <th>2</th>\n",
       "      <td>2396</td>\n",
       "      <td>BLACK PRINCE DISTILLERY INC</td>\n",
       "      <td>2016-01-08</td>\n",
       "      <td>8191</td>\n",
       "      <td>2015-12-25</td>\n",
       "      <td>2016-02-06</td>\n",
       "      <td>23</td>\n",
       "      <td>234.83</td>\n",
       "      <td>2.30</td>\n",
       "      <td>2025-05-27 18:54:24</td>\n",
       "    </tr>\n",
       "    <tr>\n",
       "      <th>3</th>\n",
       "      <td>1189</td>\n",
       "      <td>BULLY BOY DISTILLERS</td>\n",
       "      <td>2016-01-09</td>\n",
       "      <td>8171</td>\n",
       "      <td>2015-12-24</td>\n",
       "      <td>2016-02-04</td>\n",
       "      <td>6</td>\n",
       "      <td>132.30</td>\n",
       "      <td>5.29</td>\n",
       "      <td>2025-05-27 18:54:24</td>\n",
       "    </tr>\n",
       "    <tr>\n",
       "      <th>4</th>\n",
       "      <td>11567</td>\n",
       "      <td>CAMPARI AMERICA</td>\n",
       "      <td>2016-01-06</td>\n",
       "      <td>8151</td>\n",
       "      <td>2015-12-23</td>\n",
       "      <td>2016-02-20</td>\n",
       "      <td>1321</td>\n",
       "      <td>12039.71</td>\n",
       "      <td>398.71</td>\n",
       "      <td>2025-05-27 18:54:24</td>\n",
       "    </tr>\n",
       "  </tbody>\n",
       "</table>\n",
       "</div>"
      ],
      "text/plain": [
       "   VendorNumber                   VendorName InvoiceDate  PONumber     PODate  \\\n",
       "0          4466  AMERICAN VINTAGE BEVERAGE    2016-01-07      8137 2015-12-22   \n",
       "1           480  BACARDI USA INC              2016-01-12      8106 2015-12-20   \n",
       "2          2396  BLACK PRINCE DISTILLERY INC  2016-01-08      8191 2015-12-25   \n",
       "3          1189  BULLY BOY DISTILLERS         2016-01-09      8171 2015-12-24   \n",
       "4         11567  CAMPARI AMERICA              2016-01-06      8151 2015-12-23   \n",
       "\n",
       "     PayDate  Quantity    Dollars  Freight fecha_actualizacion  \n",
       "0 2016-02-21        15     140.55     8.57 2025-05-27 18:54:24  \n",
       "1 2016-02-05     10100  137483.78  2935.20 2025-05-27 18:54:24  \n",
       "2 2016-02-06        23     234.83     2.30 2025-05-27 18:54:24  \n",
       "3 2016-02-04         6     132.30     5.29 2025-05-27 18:54:24  \n",
       "4 2016-02-20      1321   12039.71   398.71 2025-05-27 18:54:24  "
      ]
     },
     "execution_count": 65,
     "metadata": {},
     "output_type": "execute_result"
    }
   ],
   "source": [
    "df4.head()"
   ]
  },
  {
   "cell_type": "code",
   "execution_count": 66,
   "id": "e3d6ed82",
   "metadata": {},
   "outputs": [
    {
     "data": {
      "application/vnd.microsoft.datawrangler.viewer.v0+json": {
       "columns": [
        {
         "name": "index",
         "rawType": "int64",
         "type": "integer"
        },
        {
         "name": "VendorNumber",
         "rawType": "int64",
         "type": "integer"
        },
        {
         "name": "VendorName",
         "rawType": "object",
         "type": "string"
        },
        {
         "name": "InvoiceDate",
         "rawType": "datetime64[ns]",
         "type": "datetime"
        },
        {
         "name": "PONumber",
         "rawType": "int64",
         "type": "integer"
        },
        {
         "name": "PODate",
         "rawType": "datetime64[ns]",
         "type": "datetime"
        },
        {
         "name": "PayDate",
         "rawType": "datetime64[ns]",
         "type": "datetime"
        },
        {
         "name": "Quantity",
         "rawType": "int64",
         "type": "integer"
        },
        {
         "name": "Dollars",
         "rawType": "float64",
         "type": "float"
        },
        {
         "name": "Freight",
         "rawType": "float64",
         "type": "float"
        },
        {
         "name": "fecha_actualizacion",
         "rawType": "datetime64[ns]",
         "type": "datetime"
        }
       ],
       "ref": "e0316c7b-5ea4-420b-8257-01924e01acf6",
       "rows": [],
       "shape": {
        "columns": 10,
        "rows": 0
       }
      },
      "text/html": [
       "<div>\n",
       "<style scoped>\n",
       "    .dataframe tbody tr th:only-of-type {\n",
       "        vertical-align: middle;\n",
       "    }\n",
       "\n",
       "    .dataframe tbody tr th {\n",
       "        vertical-align: top;\n",
       "    }\n",
       "\n",
       "    .dataframe thead th {\n",
       "        text-align: right;\n",
       "    }\n",
       "</style>\n",
       "<table border=\"1\" class=\"dataframe\">\n",
       "  <thead>\n",
       "    <tr style=\"text-align: right;\">\n",
       "      <th></th>\n",
       "      <th>VendorNumber</th>\n",
       "      <th>VendorName</th>\n",
       "      <th>InvoiceDate</th>\n",
       "      <th>PONumber</th>\n",
       "      <th>PODate</th>\n",
       "      <th>PayDate</th>\n",
       "      <th>Quantity</th>\n",
       "      <th>Dollars</th>\n",
       "      <th>Freight</th>\n",
       "      <th>fecha_actualizacion</th>\n",
       "    </tr>\n",
       "  </thead>\n",
       "  <tbody>\n",
       "  </tbody>\n",
       "</table>\n",
       "</div>"
      ],
      "text/plain": [
       "Empty DataFrame\n",
       "Columns: [VendorNumber, VendorName, InvoiceDate, PONumber, PODate, PayDate, Quantity, Dollars, Freight, fecha_actualizacion]\n",
       "Index: []"
      ]
     },
     "execution_count": 66,
     "metadata": {},
     "output_type": "execute_result"
    }
   ],
   "source": [
    "df4[df4.duplicated(keep=False)]"
   ]
  },
  {
   "cell_type": "code",
   "execution_count": 67,
   "id": "be0f4507",
   "metadata": {},
   "outputs": [],
   "source": [
    "def remove_whitespace(df4,*columns):\n",
    "    for column in columns:\n",
    "        df4[column]=df4[column].str.strip()\n",
    "    return df4\n",
    "\n",
    "df4=remove_whitespace(df4,'VendorName')"
   ]
  },
  {
   "cell_type": "code",
   "execution_count": 68,
   "id": "bcac7b62",
   "metadata": {},
   "outputs": [],
   "source": [
    "def typecast_date(df4,*columns):\n",
    "    for column in columns:\n",
    "        df4[column]=pd.to_datetime(df4[column])\n",
    "    return df4\n",
    "\n",
    "df4=typecast_date(df4,'InvoiceDate','PODate','PayDate')"
   ]
  },
  {
   "cell_type": "code",
   "execution_count": 69,
   "id": "fce8b63c",
   "metadata": {},
   "outputs": [],
   "source": [
    "#Ya hicimos toda la limpieza, guardamos\n",
    "df4.to_csv('Purchases12312016_Modificado.csv', index=False)"
   ]
  },
  {
   "cell_type": "markdown",
   "id": "9d09418b",
   "metadata": {},
   "source": [
    "## Aca finaliza la limpieza de Purchases12312016\n",
    "## Aca inicia la limpieza de BegInvFINAL12312016"
   ]
  },
  {
   "cell_type": "code",
   "execution_count": 70,
   "id": "f1d41c5e",
   "metadata": {},
   "outputs": [],
   "source": [
    "df5 = pd.read_sql_table(\"BegInvFINAL12312016\", con=engine)"
   ]
  },
  {
   "cell_type": "code",
   "execution_count": 71,
   "id": "9408b564",
   "metadata": {},
   "outputs": [
    {
     "data": {
      "application/vnd.microsoft.datawrangler.viewer.v0+json": {
       "columns": [
        {
         "name": "index",
         "rawType": "int64",
         "type": "integer"
        },
        {
         "name": "InventoryId",
         "rawType": "object",
         "type": "string"
        },
        {
         "name": "Store",
         "rawType": "int64",
         "type": "integer"
        },
        {
         "name": "City",
         "rawType": "object",
         "type": "string"
        },
        {
         "name": "Brand",
         "rawType": "int64",
         "type": "integer"
        },
        {
         "name": "Description",
         "rawType": "object",
         "type": "string"
        },
        {
         "name": "Size",
         "rawType": "object",
         "type": "string"
        },
        {
         "name": "onHand",
         "rawType": "int64",
         "type": "integer"
        },
        {
         "name": "Price",
         "rawType": "float64",
         "type": "float"
        },
        {
         "name": "startDate",
         "rawType": "datetime64[ns]",
         "type": "datetime"
        },
        {
         "name": "fecha_actualizacion",
         "rawType": "datetime64[ns]",
         "type": "datetime"
        }
       ],
       "ref": "b91163f9-1881-4081-a3dc-f74bbf2a68e5",
       "rows": [
        [
         "0",
         "1_HARDERSFIELD_1000",
         "1",
         "HARDERSFIELD",
         "1000",
         "Goslings Dark'n Stormy VAP",
         "750mL",
         "0",
         "14.99",
         "2016-01-01 00:00:00",
         "2025-05-27 18:54:12"
        ],
        [
         "1",
         "1_HARDERSFIELD_1001",
         "1",
         "HARDERSFIELD",
         "1001",
         "Baileys 50mL 4 Pack",
         "50mL 4 Pk",
         "0",
         "5.99",
         "2016-01-01 00:00:00",
         "2025-05-27 18:54:12"
        ],
        [
         "2",
         "1_HARDERSFIELD_10021",
         "1",
         "HARDERSFIELD",
         "10021",
         "Clayhouse Syrah Paso Robles",
         "750mL",
         "25",
         "11.99",
         "2016-01-01 00:00:00",
         "2025-05-27 18:54:12"
        ],
        [
         "3",
         "1_HARDERSFIELD_1004",
         "1",
         "HARDERSFIELD",
         "1004",
         "Jim Beam w/2 Rocks Glasses",
         "750mL",
         "17",
         "16.49",
         "2016-01-01 00:00:00",
         "2025-05-27 18:54:12"
        ],
        [
         "4",
         "1_HARDERSFIELD_1005",
         "1",
         "HARDERSFIELD",
         "1005",
         "Maker's Mark Combo Pack",
         "375mL 2 Pk",
         "7",
         "34.99",
         "2016-01-01 00:00:00",
         "2025-05-27 18:54:12"
        ]
       ],
       "shape": {
        "columns": 10,
        "rows": 5
       }
      },
      "text/html": [
       "<div>\n",
       "<style scoped>\n",
       "    .dataframe tbody tr th:only-of-type {\n",
       "        vertical-align: middle;\n",
       "    }\n",
       "\n",
       "    .dataframe tbody tr th {\n",
       "        vertical-align: top;\n",
       "    }\n",
       "\n",
       "    .dataframe thead th {\n",
       "        text-align: right;\n",
       "    }\n",
       "</style>\n",
       "<table border=\"1\" class=\"dataframe\">\n",
       "  <thead>\n",
       "    <tr style=\"text-align: right;\">\n",
       "      <th></th>\n",
       "      <th>InventoryId</th>\n",
       "      <th>Store</th>\n",
       "      <th>City</th>\n",
       "      <th>Brand</th>\n",
       "      <th>Description</th>\n",
       "      <th>Size</th>\n",
       "      <th>onHand</th>\n",
       "      <th>Price</th>\n",
       "      <th>startDate</th>\n",
       "      <th>fecha_actualizacion</th>\n",
       "    </tr>\n",
       "  </thead>\n",
       "  <tbody>\n",
       "    <tr>\n",
       "      <th>0</th>\n",
       "      <td>1_HARDERSFIELD_1000</td>\n",
       "      <td>1</td>\n",
       "      <td>HARDERSFIELD</td>\n",
       "      <td>1000</td>\n",
       "      <td>Goslings Dark'n Stormy VAP</td>\n",
       "      <td>750mL</td>\n",
       "      <td>0</td>\n",
       "      <td>14.99</td>\n",
       "      <td>2016-01-01</td>\n",
       "      <td>2025-05-27 18:54:12</td>\n",
       "    </tr>\n",
       "    <tr>\n",
       "      <th>1</th>\n",
       "      <td>1_HARDERSFIELD_1001</td>\n",
       "      <td>1</td>\n",
       "      <td>HARDERSFIELD</td>\n",
       "      <td>1001</td>\n",
       "      <td>Baileys 50mL 4 Pack</td>\n",
       "      <td>50mL 4 Pk</td>\n",
       "      <td>0</td>\n",
       "      <td>5.99</td>\n",
       "      <td>2016-01-01</td>\n",
       "      <td>2025-05-27 18:54:12</td>\n",
       "    </tr>\n",
       "    <tr>\n",
       "      <th>2</th>\n",
       "      <td>1_HARDERSFIELD_10021</td>\n",
       "      <td>1</td>\n",
       "      <td>HARDERSFIELD</td>\n",
       "      <td>10021</td>\n",
       "      <td>Clayhouse Syrah Paso Robles</td>\n",
       "      <td>750mL</td>\n",
       "      <td>25</td>\n",
       "      <td>11.99</td>\n",
       "      <td>2016-01-01</td>\n",
       "      <td>2025-05-27 18:54:12</td>\n",
       "    </tr>\n",
       "    <tr>\n",
       "      <th>3</th>\n",
       "      <td>1_HARDERSFIELD_1004</td>\n",
       "      <td>1</td>\n",
       "      <td>HARDERSFIELD</td>\n",
       "      <td>1004</td>\n",
       "      <td>Jim Beam w/2 Rocks Glasses</td>\n",
       "      <td>750mL</td>\n",
       "      <td>17</td>\n",
       "      <td>16.49</td>\n",
       "      <td>2016-01-01</td>\n",
       "      <td>2025-05-27 18:54:12</td>\n",
       "    </tr>\n",
       "    <tr>\n",
       "      <th>4</th>\n",
       "      <td>1_HARDERSFIELD_1005</td>\n",
       "      <td>1</td>\n",
       "      <td>HARDERSFIELD</td>\n",
       "      <td>1005</td>\n",
       "      <td>Maker's Mark Combo Pack</td>\n",
       "      <td>375mL 2 Pk</td>\n",
       "      <td>7</td>\n",
       "      <td>34.99</td>\n",
       "      <td>2016-01-01</td>\n",
       "      <td>2025-05-27 18:54:12</td>\n",
       "    </tr>\n",
       "  </tbody>\n",
       "</table>\n",
       "</div>"
      ],
      "text/plain": [
       "            InventoryId  Store          City  Brand  \\\n",
       "0   1_HARDERSFIELD_1000      1  HARDERSFIELD   1000   \n",
       "1   1_HARDERSFIELD_1001      1  HARDERSFIELD   1001   \n",
       "2  1_HARDERSFIELD_10021      1  HARDERSFIELD  10021   \n",
       "3   1_HARDERSFIELD_1004      1  HARDERSFIELD   1004   \n",
       "4   1_HARDERSFIELD_1005      1  HARDERSFIELD   1005   \n",
       "\n",
       "                   Description        Size  onHand  Price  startDate  \\\n",
       "0   Goslings Dark'n Stormy VAP       750mL       0  14.99 2016-01-01   \n",
       "1          Baileys 50mL 4 Pack   50mL 4 Pk       0   5.99 2016-01-01   \n",
       "2  Clayhouse Syrah Paso Robles       750mL      25  11.99 2016-01-01   \n",
       "3   Jim Beam w/2 Rocks Glasses       750mL      17  16.49 2016-01-01   \n",
       "4      Maker's Mark Combo Pack  375mL 2 Pk       7  34.99 2016-01-01   \n",
       "\n",
       "  fecha_actualizacion  \n",
       "0 2025-05-27 18:54:12  \n",
       "1 2025-05-27 18:54:12  \n",
       "2 2025-05-27 18:54:12  \n",
       "3 2025-05-27 18:54:12  \n",
       "4 2025-05-27 18:54:12  "
      ]
     },
     "execution_count": 71,
     "metadata": {},
     "output_type": "execute_result"
    }
   ],
   "source": [
    "df5.head()"
   ]
  },
  {
   "cell_type": "code",
   "execution_count": 72,
   "id": "1e22b11d",
   "metadata": {},
   "outputs": [
    {
     "data": {
      "text/plain": [
       "(206529, 10)"
      ]
     },
     "execution_count": 72,
     "metadata": {},
     "output_type": "execute_result"
    }
   ],
   "source": [
    "np.shape(df5)"
   ]
  },
  {
   "cell_type": "code",
   "execution_count": 73,
   "id": "6158afde",
   "metadata": {},
   "outputs": [
    {
     "name": "stdout",
     "output_type": "stream",
     "text": [
      "<class 'pandas.core.frame.DataFrame'>\n",
      "RangeIndex: 206529 entries, 0 to 206528\n",
      "Data columns (total 10 columns):\n",
      " #   Column               Non-Null Count   Dtype         \n",
      "---  ------               --------------   -----         \n",
      " 0   InventoryId          206529 non-null  object        \n",
      " 1   Store                206529 non-null  int64         \n",
      " 2   City                 206529 non-null  object        \n",
      " 3   Brand                206529 non-null  int64         \n",
      " 4   Description          206529 non-null  object        \n",
      " 5   Size                 206529 non-null  object        \n",
      " 6   onHand               206529 non-null  int64         \n",
      " 7   Price                206529 non-null  float64       \n",
      " 8   startDate            206528 non-null  datetime64[ns]\n",
      " 9   fecha_actualizacion  206529 non-null  datetime64[ns]\n",
      "dtypes: datetime64[ns](2), float64(1), int64(3), object(4)\n",
      "memory usage: 15.8+ MB\n"
     ]
    }
   ],
   "source": [
    "df5.info()"
   ]
  },
  {
   "cell_type": "code",
   "execution_count": 74,
   "id": "2fac40c9",
   "metadata": {},
   "outputs": [
    {
     "data": {
      "application/vnd.microsoft.datawrangler.viewer.v0+json": {
       "columns": [
        {
         "name": "index",
         "rawType": "object",
         "type": "string"
        },
        {
         "name": "0",
         "rawType": "int64",
         "type": "integer"
        }
       ],
       "ref": "73a5d735-306c-46b5-b357-f2ab8338a097",
       "rows": [
        [
         "InventoryId",
         "0"
        ],
        [
         "Store",
         "0"
        ],
        [
         "City",
         "0"
        ],
        [
         "Brand",
         "0"
        ],
        [
         "Description",
         "0"
        ],
        [
         "Size",
         "0"
        ],
        [
         "onHand",
         "0"
        ],
        [
         "Price",
         "0"
        ],
        [
         "startDate",
         "1"
        ],
        [
         "fecha_actualizacion",
         "0"
        ]
       ],
       "shape": {
        "columns": 1,
        "rows": 10
       }
      },
      "text/plain": [
       "InventoryId            0\n",
       "Store                  0\n",
       "City                   0\n",
       "Brand                  0\n",
       "Description            0\n",
       "Size                   0\n",
       "onHand                 0\n",
       "Price                  0\n",
       "startDate              1\n",
       "fecha_actualizacion    0\n",
       "dtype: int64"
      ]
     },
     "execution_count": 74,
     "metadata": {},
     "output_type": "execute_result"
    }
   ],
   "source": [
    "df5.isnull().sum()"
   ]
  },
  {
   "cell_type": "code",
   "execution_count": 75,
   "id": "0157064c",
   "metadata": {},
   "outputs": [
    {
     "data": {
      "application/vnd.microsoft.datawrangler.viewer.v0+json": {
       "columns": [
        {
         "name": "index",
         "rawType": "int64",
         "type": "integer"
        },
        {
         "name": "InventoryId",
         "rawType": "object",
         "type": "string"
        },
        {
         "name": "Store",
         "rawType": "int64",
         "type": "integer"
        },
        {
         "name": "City",
         "rawType": "object",
         "type": "string"
        },
        {
         "name": "Brand",
         "rawType": "int64",
         "type": "integer"
        },
        {
         "name": "Description",
         "rawType": "object",
         "type": "string"
        },
        {
         "name": "Size",
         "rawType": "object",
         "type": "string"
        },
        {
         "name": "onHand",
         "rawType": "int64",
         "type": "integer"
        },
        {
         "name": "Price",
         "rawType": "float64",
         "type": "float"
        },
        {
         "name": "startDate",
         "rawType": "datetime64[ns]",
         "type": "datetime"
        },
        {
         "name": "fecha_actualizacion",
         "rawType": "datetime64[ns]",
         "type": "datetime"
        }
       ],
       "ref": "400bf995-866e-4f69-afcf-775fea19055d",
       "rows": [
        [
         "206528",
         "InventoryId",
         "0",
         "City",
         "0",
         "Description",
         "Size",
         "0",
         "0.0",
         null,
         "2025-05-27 18:54:12"
        ]
       ],
       "shape": {
        "columns": 10,
        "rows": 1
       }
      },
      "text/html": [
       "<div>\n",
       "<style scoped>\n",
       "    .dataframe tbody tr th:only-of-type {\n",
       "        vertical-align: middle;\n",
       "    }\n",
       "\n",
       "    .dataframe tbody tr th {\n",
       "        vertical-align: top;\n",
       "    }\n",
       "\n",
       "    .dataframe thead th {\n",
       "        text-align: right;\n",
       "    }\n",
       "</style>\n",
       "<table border=\"1\" class=\"dataframe\">\n",
       "  <thead>\n",
       "    <tr style=\"text-align: right;\">\n",
       "      <th></th>\n",
       "      <th>InventoryId</th>\n",
       "      <th>Store</th>\n",
       "      <th>City</th>\n",
       "      <th>Brand</th>\n",
       "      <th>Description</th>\n",
       "      <th>Size</th>\n",
       "      <th>onHand</th>\n",
       "      <th>Price</th>\n",
       "      <th>startDate</th>\n",
       "      <th>fecha_actualizacion</th>\n",
       "    </tr>\n",
       "  </thead>\n",
       "  <tbody>\n",
       "    <tr>\n",
       "      <th>206528</th>\n",
       "      <td>InventoryId</td>\n",
       "      <td>0</td>\n",
       "      <td>City</td>\n",
       "      <td>0</td>\n",
       "      <td>Description</td>\n",
       "      <td>Size</td>\n",
       "      <td>0</td>\n",
       "      <td>0.0</td>\n",
       "      <td>NaT</td>\n",
       "      <td>2025-05-27 18:54:12</td>\n",
       "    </tr>\n",
       "  </tbody>\n",
       "</table>\n",
       "</div>"
      ],
      "text/plain": [
       "        InventoryId  Store  City  Brand  Description  Size  onHand  Price  \\\n",
       "206528  InventoryId      0  City      0  Description  Size       0    0.0   \n",
       "\n",
       "       startDate fecha_actualizacion  \n",
       "206528       NaT 2025-05-27 18:54:12  "
      ]
     },
     "execution_count": 75,
     "metadata": {},
     "output_type": "execute_result"
    }
   ],
   "source": [
    "df5[df5['startDate'].isnull()]"
   ]
  },
  {
   "cell_type": "code",
   "execution_count": 76,
   "id": "5a3e8f08",
   "metadata": {},
   "outputs": [],
   "source": [
    "df5 = df5.drop(df5[df5['startDate'].isnull()].index)"
   ]
  },
  {
   "cell_type": "code",
   "execution_count": 77,
   "id": "b68068d3",
   "metadata": {},
   "outputs": [
    {
     "name": "stdout",
     "output_type": "stream",
     "text": [
      "Estadísticas para Store:\n",
      "  Media: 42.12\n",
      "  Mediana: 42.00\n",
      "  Desviación estándar: 23.19\n",
      "  Mínimo: 1.00\n",
      "  Máximo: 79.00\n",
      "----------------------------------------\n",
      "Estadísticas para Brand:\n",
      "  Media: 13761.55\n",
      "  Mediana: 8010.00\n",
      "  Desviación estándar: 13059.43\n",
      "  Mínimo: 58.00\n",
      "  Máximo: 90090.00\n",
      "----------------------------------------\n",
      "Estadísticas para onHand:\n",
      "  Media: 20.43\n",
      "  Mediana: 12.00\n",
      "  Desviación estándar: 31.47\n",
      "  Mínimo: 0.00\n",
      "  Máximo: 1251.00\n",
      "----------------------------------------\n",
      "Estadísticas para Price:\n",
      "  Media: 22.25\n",
      "  Mediana: 14.99\n",
      "  Desviación estándar: 70.18\n",
      "  Mínimo: 0.00\n",
      "  Máximo: 13999.90\n",
      "----------------------------------------\n"
     ]
    }
   ],
   "source": [
    "columnas_numericas5 = df5.select_dtypes(include='number').columns\n",
    "\n",
    "for col in columnas_numericas5:\n",
    "    print(f\"Estadísticas para {col}:\")\n",
    "    print(f\"  Media: {df5[col].mean():.2f}\")\n",
    "    print(f\"  Mediana: {df5[col].median():.2f}\")\n",
    "    print(f\"  Desviación estándar: {df5[col].std():.2f}\")\n",
    "    print(f\"  Mínimo: {df5[col].min():.2f}\")\n",
    "    print(f\"  Máximo: {df5[col].max():.2f}\")\n",
    "    print(\"-\" * 40)"
   ]
  },
  {
   "cell_type": "code",
   "execution_count": 78,
   "id": "c375c04a",
   "metadata": {},
   "outputs": [
    {
     "data": {
      "application/vnd.microsoft.datawrangler.viewer.v0+json": {
       "columns": [
        {
         "name": "index",
         "rawType": "int64",
         "type": "integer"
        },
        {
         "name": "InventoryId",
         "rawType": "object",
         "type": "string"
        },
        {
         "name": "Store",
         "rawType": "int64",
         "type": "integer"
        },
        {
         "name": "City",
         "rawType": "object",
         "type": "string"
        },
        {
         "name": "Brand",
         "rawType": "int64",
         "type": "integer"
        },
        {
         "name": "Description",
         "rawType": "object",
         "type": "string"
        },
        {
         "name": "Size",
         "rawType": "object",
         "type": "string"
        },
        {
         "name": "onHand",
         "rawType": "int64",
         "type": "integer"
        },
        {
         "name": "Price",
         "rawType": "float64",
         "type": "float"
        },
        {
         "name": "startDate",
         "rawType": "datetime64[ns]",
         "type": "datetime"
        },
        {
         "name": "fecha_actualizacion",
         "rawType": "datetime64[ns]",
         "type": "datetime"
        }
       ],
       "ref": "39f97fa5-9f97-40e4-a5d5-2686bcc0a442",
       "rows": [
        [
         "15989",
         "15_WANBORNE_19138",
         "15",
         "WANBORNE",
         "19138",
         "Gerard Bertrand Organic Rose",
         "750mL",
         "0",
         "0.0",
         "2016-01-01 00:00:00",
         "2025-05-27 18:54:12"
        ],
        [
         "165258",
         "69_MOUNTMEND_19138",
         "69",
         "MOUNTMEND",
         "19138",
         "Gerard Bertrand Organic Rose",
         "750mL",
         "2",
         "0.0",
         "2016-01-01 00:00:00",
         "2025-05-27 18:54:12"
        ]
       ],
       "shape": {
        "columns": 10,
        "rows": 2
       }
      },
      "text/html": [
       "<div>\n",
       "<style scoped>\n",
       "    .dataframe tbody tr th:only-of-type {\n",
       "        vertical-align: middle;\n",
       "    }\n",
       "\n",
       "    .dataframe tbody tr th {\n",
       "        vertical-align: top;\n",
       "    }\n",
       "\n",
       "    .dataframe thead th {\n",
       "        text-align: right;\n",
       "    }\n",
       "</style>\n",
       "<table border=\"1\" class=\"dataframe\">\n",
       "  <thead>\n",
       "    <tr style=\"text-align: right;\">\n",
       "      <th></th>\n",
       "      <th>InventoryId</th>\n",
       "      <th>Store</th>\n",
       "      <th>City</th>\n",
       "      <th>Brand</th>\n",
       "      <th>Description</th>\n",
       "      <th>Size</th>\n",
       "      <th>onHand</th>\n",
       "      <th>Price</th>\n",
       "      <th>startDate</th>\n",
       "      <th>fecha_actualizacion</th>\n",
       "    </tr>\n",
       "  </thead>\n",
       "  <tbody>\n",
       "    <tr>\n",
       "      <th>15989</th>\n",
       "      <td>15_WANBORNE_19138</td>\n",
       "      <td>15</td>\n",
       "      <td>WANBORNE</td>\n",
       "      <td>19138</td>\n",
       "      <td>Gerard Bertrand Organic Rose</td>\n",
       "      <td>750mL</td>\n",
       "      <td>0</td>\n",
       "      <td>0.0</td>\n",
       "      <td>2016-01-01</td>\n",
       "      <td>2025-05-27 18:54:12</td>\n",
       "    </tr>\n",
       "    <tr>\n",
       "      <th>165258</th>\n",
       "      <td>69_MOUNTMEND_19138</td>\n",
       "      <td>69</td>\n",
       "      <td>MOUNTMEND</td>\n",
       "      <td>19138</td>\n",
       "      <td>Gerard Bertrand Organic Rose</td>\n",
       "      <td>750mL</td>\n",
       "      <td>2</td>\n",
       "      <td>0.0</td>\n",
       "      <td>2016-01-01</td>\n",
       "      <td>2025-05-27 18:54:12</td>\n",
       "    </tr>\n",
       "  </tbody>\n",
       "</table>\n",
       "</div>"
      ],
      "text/plain": [
       "               InventoryId  Store       City  Brand  \\\n",
       "15989    15_WANBORNE_19138     15   WANBORNE  19138   \n",
       "165258  69_MOUNTMEND_19138     69  MOUNTMEND  19138   \n",
       "\n",
       "                         Description   Size  onHand  Price  startDate  \\\n",
       "15989   Gerard Bertrand Organic Rose  750mL       0    0.0 2016-01-01   \n",
       "165258  Gerard Bertrand Organic Rose  750mL       2    0.0 2016-01-01   \n",
       "\n",
       "       fecha_actualizacion  \n",
       "15989  2025-05-27 18:54:12  \n",
       "165258 2025-05-27 18:54:12  "
      ]
     },
     "execution_count": 78,
     "metadata": {},
     "output_type": "execute_result"
    }
   ],
   "source": [
    "df5[(df5['Price'].isnull()) | (df5['Price'] == 0)]"
   ]
  },
  {
   "cell_type": "code",
   "execution_count": 79,
   "id": "1ae53384",
   "metadata": {},
   "outputs": [
    {
     "data": {
      "application/vnd.microsoft.datawrangler.viewer.v0+json": {
       "columns": [
        {
         "name": "index",
         "rawType": "int64",
         "type": "integer"
        },
        {
         "name": "InventoryId",
         "rawType": "object",
         "type": "string"
        },
        {
         "name": "Store",
         "rawType": "int64",
         "type": "integer"
        },
        {
         "name": "City",
         "rawType": "object",
         "type": "string"
        },
        {
         "name": "Brand",
         "rawType": "int64",
         "type": "integer"
        },
        {
         "name": "Description",
         "rawType": "object",
         "type": "string"
        },
        {
         "name": "Size",
         "rawType": "object",
         "type": "string"
        },
        {
         "name": "onHand",
         "rawType": "int64",
         "type": "integer"
        },
        {
         "name": "Price",
         "rawType": "float64",
         "type": "float"
        },
        {
         "name": "startDate",
         "rawType": "datetime64[ns]",
         "type": "datetime"
        },
        {
         "name": "fecha_actualizacion",
         "rawType": "datetime64[ns]",
         "type": "datetime"
        }
       ],
       "ref": "38eee4a3-03a1-4864-b3b0-94a7ac6b7642",
       "rows": [
        [
         "15989",
         "15_WANBORNE_19138",
         "15",
         "WANBORNE",
         "19138",
         "Gerard Bertrand Organic Rose",
         "750mL",
         "0",
         "0.0",
         "2016-01-01 00:00:00",
         "2025-05-27 18:54:12"
        ],
        [
         "165258",
         "69_MOUNTMEND_19138",
         "69",
         "MOUNTMEND",
         "19138",
         "Gerard Bertrand Organic Rose",
         "750mL",
         "2",
         "0.0",
         "2016-01-01 00:00:00",
         "2025-05-27 18:54:12"
        ]
       ],
       "shape": {
        "columns": 10,
        "rows": 2
       }
      },
      "text/html": [
       "<div>\n",
       "<style scoped>\n",
       "    .dataframe tbody tr th:only-of-type {\n",
       "        vertical-align: middle;\n",
       "    }\n",
       "\n",
       "    .dataframe tbody tr th {\n",
       "        vertical-align: top;\n",
       "    }\n",
       "\n",
       "    .dataframe thead th {\n",
       "        text-align: right;\n",
       "    }\n",
       "</style>\n",
       "<table border=\"1\" class=\"dataframe\">\n",
       "  <thead>\n",
       "    <tr style=\"text-align: right;\">\n",
       "      <th></th>\n",
       "      <th>InventoryId</th>\n",
       "      <th>Store</th>\n",
       "      <th>City</th>\n",
       "      <th>Brand</th>\n",
       "      <th>Description</th>\n",
       "      <th>Size</th>\n",
       "      <th>onHand</th>\n",
       "      <th>Price</th>\n",
       "      <th>startDate</th>\n",
       "      <th>fecha_actualizacion</th>\n",
       "    </tr>\n",
       "  </thead>\n",
       "  <tbody>\n",
       "    <tr>\n",
       "      <th>15989</th>\n",
       "      <td>15_WANBORNE_19138</td>\n",
       "      <td>15</td>\n",
       "      <td>WANBORNE</td>\n",
       "      <td>19138</td>\n",
       "      <td>Gerard Bertrand Organic Rose</td>\n",
       "      <td>750mL</td>\n",
       "      <td>0</td>\n",
       "      <td>0.0</td>\n",
       "      <td>2016-01-01</td>\n",
       "      <td>2025-05-27 18:54:12</td>\n",
       "    </tr>\n",
       "    <tr>\n",
       "      <th>165258</th>\n",
       "      <td>69_MOUNTMEND_19138</td>\n",
       "      <td>69</td>\n",
       "      <td>MOUNTMEND</td>\n",
       "      <td>19138</td>\n",
       "      <td>Gerard Bertrand Organic Rose</td>\n",
       "      <td>750mL</td>\n",
       "      <td>2</td>\n",
       "      <td>0.0</td>\n",
       "      <td>2016-01-01</td>\n",
       "      <td>2025-05-27 18:54:12</td>\n",
       "    </tr>\n",
       "  </tbody>\n",
       "</table>\n",
       "</div>"
      ],
      "text/plain": [
       "               InventoryId  Store       City  Brand  \\\n",
       "15989    15_WANBORNE_19138     15   WANBORNE  19138   \n",
       "165258  69_MOUNTMEND_19138     69  MOUNTMEND  19138   \n",
       "\n",
       "                         Description   Size  onHand  Price  startDate  \\\n",
       "15989   Gerard Bertrand Organic Rose  750mL       0    0.0 2016-01-01   \n",
       "165258  Gerard Bertrand Organic Rose  750mL       2    0.0 2016-01-01   \n",
       "\n",
       "       fecha_actualizacion  \n",
       "15989  2025-05-27 18:54:12  \n",
       "165258 2025-05-27 18:54:12  "
      ]
     },
     "execution_count": 79,
     "metadata": {},
     "output_type": "execute_result"
    }
   ],
   "source": [
    "df5[df5['Description'].str.contains('Gerard Bertrand Organic Rose', case=False, na=False)]"
   ]
  },
  {
   "cell_type": "code",
   "execution_count": 80,
   "id": "897c81ab",
   "metadata": {},
   "outputs": [],
   "source": [
    "df5.loc[df5['Description'].str.contains('Gerard Bertrand Organic Rose', case=False, na=False), 'Price'] = 9.99"
   ]
  },
  {
   "cell_type": "code",
   "execution_count": 81,
   "id": "aa77af26",
   "metadata": {},
   "outputs": [
    {
     "data": {
      "application/vnd.microsoft.datawrangler.viewer.v0+json": {
       "columns": [
        {
         "name": "index",
         "rawType": "int64",
         "type": "integer"
        },
        {
         "name": "InventoryId",
         "rawType": "object",
         "type": "string"
        },
        {
         "name": "Store",
         "rawType": "int64",
         "type": "integer"
        },
        {
         "name": "City",
         "rawType": "object",
         "type": "string"
        },
        {
         "name": "Brand",
         "rawType": "int64",
         "type": "integer"
        },
        {
         "name": "Description",
         "rawType": "object",
         "type": "string"
        },
        {
         "name": "Size",
         "rawType": "object",
         "type": "string"
        },
        {
         "name": "onHand",
         "rawType": "int64",
         "type": "integer"
        },
        {
         "name": "Price",
         "rawType": "float64",
         "type": "float"
        },
        {
         "name": "startDate",
         "rawType": "datetime64[ns]",
         "type": "datetime"
        },
        {
         "name": "fecha_actualizacion",
         "rawType": "datetime64[ns]",
         "type": "datetime"
        }
       ],
       "ref": "226436b3-38e7-4da2-9821-bcf569acd315",
       "rows": [],
       "shape": {
        "columns": 10,
        "rows": 0
       }
      },
      "text/html": [
       "<div>\n",
       "<style scoped>\n",
       "    .dataframe tbody tr th:only-of-type {\n",
       "        vertical-align: middle;\n",
       "    }\n",
       "\n",
       "    .dataframe tbody tr th {\n",
       "        vertical-align: top;\n",
       "    }\n",
       "\n",
       "    .dataframe thead th {\n",
       "        text-align: right;\n",
       "    }\n",
       "</style>\n",
       "<table border=\"1\" class=\"dataframe\">\n",
       "  <thead>\n",
       "    <tr style=\"text-align: right;\">\n",
       "      <th></th>\n",
       "      <th>InventoryId</th>\n",
       "      <th>Store</th>\n",
       "      <th>City</th>\n",
       "      <th>Brand</th>\n",
       "      <th>Description</th>\n",
       "      <th>Size</th>\n",
       "      <th>onHand</th>\n",
       "      <th>Price</th>\n",
       "      <th>startDate</th>\n",
       "      <th>fecha_actualizacion</th>\n",
       "    </tr>\n",
       "  </thead>\n",
       "  <tbody>\n",
       "  </tbody>\n",
       "</table>\n",
       "</div>"
      ],
      "text/plain": [
       "Empty DataFrame\n",
       "Columns: [InventoryId, Store, City, Brand, Description, Size, onHand, Price, startDate, fecha_actualizacion]\n",
       "Index: []"
      ]
     },
     "execution_count": 81,
     "metadata": {},
     "output_type": "execute_result"
    }
   ],
   "source": [
    "df5[df5.duplicated(keep=False)]"
   ]
  },
  {
   "cell_type": "code",
   "execution_count": 82,
   "id": "bd82e13c",
   "metadata": {},
   "outputs": [
    {
     "data": {
      "application/vnd.microsoft.datawrangler.viewer.v0+json": {
       "columns": [
        {
         "name": "index",
         "rawType": "object",
         "type": "string"
        },
        {
         "name": "0",
         "rawType": "int64",
         "type": "integer"
        }
       ],
       "ref": "bf01da28-04f9-45e3-821e-78a6f32783e2",
       "rows": [
        [
         "InventoryId",
         "0"
        ],
        [
         "City",
         "0"
        ],
        [
         "Description",
         "0"
        ],
        [
         "Size",
         "0"
        ]
       ],
       "shape": {
        "columns": 1,
        "rows": 4
       }
      },
      "text/plain": [
       "InventoryId    0\n",
       "City           0\n",
       "Description    0\n",
       "Size           0\n",
       "dtype: int64"
      ]
     },
     "execution_count": 82,
     "metadata": {},
     "output_type": "execute_result"
    }
   ],
   "source": [
    "#Obtenego solo nombres de columnas de tipo texto\n",
    "text_cols = df5.select_dtypes(include='object').columns\n",
    "\n",
    "# Calculo cuántos valores nulos o vacíos hay en cada columna de texto\n",
    "df5[text_cols].isnull().sum() + (df5[text_cols] == \"\").sum()"
   ]
  },
  {
   "cell_type": "code",
   "execution_count": 83,
   "id": "4d9a85af",
   "metadata": {},
   "outputs": [],
   "source": [
    "def remove_whitespace(df,*columns):\n",
    "    for column in columns:\n",
    "        df[column]=df[column].str.strip()\n",
    "    return df\n",
    "\n",
    "df5=remove_whitespace(df5,'City','Description')"
   ]
  },
  {
   "cell_type": "code",
   "execution_count": 84,
   "id": "d81592cd",
   "metadata": {},
   "outputs": [],
   "source": [
    "def typecast_date(df,*columns):\n",
    "    for column in columns:\n",
    "        df[column]=pd.to_datetime(df[column])\n",
    "    return df\n",
    "\n",
    "df5=typecast_date(df5,'startDate')"
   ]
  },
  {
   "cell_type": "code",
   "execution_count": 85,
   "id": "7b4e863e",
   "metadata": {},
   "outputs": [
    {
     "data": {
      "application/vnd.microsoft.datawrangler.viewer.v0+json": {
       "columns": [
        {
         "name": "index",
         "rawType": "int64",
         "type": "integer"
        },
        {
         "name": "InventoryId",
         "rawType": "object",
         "type": "string"
        },
        {
         "name": "Store",
         "rawType": "int64",
         "type": "integer"
        },
        {
         "name": "City",
         "rawType": "object",
         "type": "string"
        },
        {
         "name": "Brand",
         "rawType": "int64",
         "type": "integer"
        },
        {
         "name": "Description",
         "rawType": "object",
         "type": "string"
        },
        {
         "name": "Size",
         "rawType": "object",
         "type": "string"
        },
        {
         "name": "onHand",
         "rawType": "int64",
         "type": "integer"
        },
        {
         "name": "Price",
         "rawType": "float64",
         "type": "float"
        },
        {
         "name": "startDate",
         "rawType": "datetime64[ns]",
         "type": "datetime"
        },
        {
         "name": "fecha_actualizacion",
         "rawType": "datetime64[ns]",
         "type": "datetime"
        }
       ],
       "ref": "97459ab6-5a8c-4bfe-be58-74d598754daf",
       "rows": [
        [
         "0",
         "1_HARDERSFIELD_1000",
         "1",
         "HARDERSFIELD",
         "1000",
         "Goslings Dark'n Stormy VAP",
         "750mL",
         "0",
         "14.99",
         "2016-01-01 00:00:00",
         "2025-05-27 18:54:12"
        ],
        [
         "1",
         "1_HARDERSFIELD_1001",
         "1",
         "HARDERSFIELD",
         "1001",
         "Baileys 50mL 4 Pack",
         "50mL 4 Pk",
         "0",
         "5.99",
         "2016-01-01 00:00:00",
         "2025-05-27 18:54:12"
        ],
        [
         "2",
         "1_HARDERSFIELD_10021",
         "1",
         "HARDERSFIELD",
         "10021",
         "Clayhouse Syrah Paso Robles",
         "750mL",
         "25",
         "11.99",
         "2016-01-01 00:00:00",
         "2025-05-27 18:54:12"
        ],
        [
         "3",
         "1_HARDERSFIELD_1004",
         "1",
         "HARDERSFIELD",
         "1004",
         "Jim Beam w/2 Rocks Glasses",
         "750mL",
         "17",
         "16.49",
         "2016-01-01 00:00:00",
         "2025-05-27 18:54:12"
        ],
        [
         "4",
         "1_HARDERSFIELD_1005",
         "1",
         "HARDERSFIELD",
         "1005",
         "Maker's Mark Combo Pack",
         "375mL 2 Pk",
         "7",
         "34.99",
         "2016-01-01 00:00:00",
         "2025-05-27 18:54:12"
        ]
       ],
       "shape": {
        "columns": 10,
        "rows": 5
       }
      },
      "text/html": [
       "<div>\n",
       "<style scoped>\n",
       "    .dataframe tbody tr th:only-of-type {\n",
       "        vertical-align: middle;\n",
       "    }\n",
       "\n",
       "    .dataframe tbody tr th {\n",
       "        vertical-align: top;\n",
       "    }\n",
       "\n",
       "    .dataframe thead th {\n",
       "        text-align: right;\n",
       "    }\n",
       "</style>\n",
       "<table border=\"1\" class=\"dataframe\">\n",
       "  <thead>\n",
       "    <tr style=\"text-align: right;\">\n",
       "      <th></th>\n",
       "      <th>InventoryId</th>\n",
       "      <th>Store</th>\n",
       "      <th>City</th>\n",
       "      <th>Brand</th>\n",
       "      <th>Description</th>\n",
       "      <th>Size</th>\n",
       "      <th>onHand</th>\n",
       "      <th>Price</th>\n",
       "      <th>startDate</th>\n",
       "      <th>fecha_actualizacion</th>\n",
       "    </tr>\n",
       "  </thead>\n",
       "  <tbody>\n",
       "    <tr>\n",
       "      <th>0</th>\n",
       "      <td>1_HARDERSFIELD_1000</td>\n",
       "      <td>1</td>\n",
       "      <td>HARDERSFIELD</td>\n",
       "      <td>1000</td>\n",
       "      <td>Goslings Dark'n Stormy VAP</td>\n",
       "      <td>750mL</td>\n",
       "      <td>0</td>\n",
       "      <td>14.99</td>\n",
       "      <td>2016-01-01</td>\n",
       "      <td>2025-05-27 18:54:12</td>\n",
       "    </tr>\n",
       "    <tr>\n",
       "      <th>1</th>\n",
       "      <td>1_HARDERSFIELD_1001</td>\n",
       "      <td>1</td>\n",
       "      <td>HARDERSFIELD</td>\n",
       "      <td>1001</td>\n",
       "      <td>Baileys 50mL 4 Pack</td>\n",
       "      <td>50mL 4 Pk</td>\n",
       "      <td>0</td>\n",
       "      <td>5.99</td>\n",
       "      <td>2016-01-01</td>\n",
       "      <td>2025-05-27 18:54:12</td>\n",
       "    </tr>\n",
       "    <tr>\n",
       "      <th>2</th>\n",
       "      <td>1_HARDERSFIELD_10021</td>\n",
       "      <td>1</td>\n",
       "      <td>HARDERSFIELD</td>\n",
       "      <td>10021</td>\n",
       "      <td>Clayhouse Syrah Paso Robles</td>\n",
       "      <td>750mL</td>\n",
       "      <td>25</td>\n",
       "      <td>11.99</td>\n",
       "      <td>2016-01-01</td>\n",
       "      <td>2025-05-27 18:54:12</td>\n",
       "    </tr>\n",
       "    <tr>\n",
       "      <th>3</th>\n",
       "      <td>1_HARDERSFIELD_1004</td>\n",
       "      <td>1</td>\n",
       "      <td>HARDERSFIELD</td>\n",
       "      <td>1004</td>\n",
       "      <td>Jim Beam w/2 Rocks Glasses</td>\n",
       "      <td>750mL</td>\n",
       "      <td>17</td>\n",
       "      <td>16.49</td>\n",
       "      <td>2016-01-01</td>\n",
       "      <td>2025-05-27 18:54:12</td>\n",
       "    </tr>\n",
       "    <tr>\n",
       "      <th>4</th>\n",
       "      <td>1_HARDERSFIELD_1005</td>\n",
       "      <td>1</td>\n",
       "      <td>HARDERSFIELD</td>\n",
       "      <td>1005</td>\n",
       "      <td>Maker's Mark Combo Pack</td>\n",
       "      <td>375mL 2 Pk</td>\n",
       "      <td>7</td>\n",
       "      <td>34.99</td>\n",
       "      <td>2016-01-01</td>\n",
       "      <td>2025-05-27 18:54:12</td>\n",
       "    </tr>\n",
       "  </tbody>\n",
       "</table>\n",
       "</div>"
      ],
      "text/plain": [
       "            InventoryId  Store          City  Brand  \\\n",
       "0   1_HARDERSFIELD_1000      1  HARDERSFIELD   1000   \n",
       "1   1_HARDERSFIELD_1001      1  HARDERSFIELD   1001   \n",
       "2  1_HARDERSFIELD_10021      1  HARDERSFIELD  10021   \n",
       "3   1_HARDERSFIELD_1004      1  HARDERSFIELD   1004   \n",
       "4   1_HARDERSFIELD_1005      1  HARDERSFIELD   1005   \n",
       "\n",
       "                   Description        Size  onHand  Price  startDate  \\\n",
       "0   Goslings Dark'n Stormy VAP       750mL       0  14.99 2016-01-01   \n",
       "1          Baileys 50mL 4 Pack   50mL 4 Pk       0   5.99 2016-01-01   \n",
       "2  Clayhouse Syrah Paso Robles       750mL      25  11.99 2016-01-01   \n",
       "3   Jim Beam w/2 Rocks Glasses       750mL      17  16.49 2016-01-01   \n",
       "4      Maker's Mark Combo Pack  375mL 2 Pk       7  34.99 2016-01-01   \n",
       "\n",
       "  fecha_actualizacion  \n",
       "0 2025-05-27 18:54:12  \n",
       "1 2025-05-27 18:54:12  \n",
       "2 2025-05-27 18:54:12  \n",
       "3 2025-05-27 18:54:12  \n",
       "4 2025-05-27 18:54:12  "
      ]
     },
     "execution_count": 85,
     "metadata": {},
     "output_type": "execute_result"
    }
   ],
   "source": [
    "df5.head()"
   ]
  },
  {
   "cell_type": "code",
   "execution_count": 86,
   "id": "ff62ec56",
   "metadata": {},
   "outputs": [
    {
     "data": {
      "text/plain": [
       "(206528, 10)"
      ]
     },
     "execution_count": 86,
     "metadata": {},
     "output_type": "execute_result"
    }
   ],
   "source": [
    "np.shape(df5)"
   ]
  },
  {
   "cell_type": "code",
   "execution_count": 87,
   "id": "d2415a0c",
   "metadata": {},
   "outputs": [],
   "source": [
    "#Ya hicimos toda la limpieza, guardamos\n",
    "df5.to_csv('BegInvFINAL12312016_Modificado.csv', index=False)"
   ]
  },
  {
   "cell_type": "markdown",
   "id": "2f23d043",
   "metadata": {},
   "source": [
    "## Aca finaliza la limpieza de BegInvFINAL12312016\n",
    "## Aca inicia la limpieza de EndInvFINAL12312016"
   ]
  },
  {
   "cell_type": "code",
   "execution_count": 88,
   "id": "41a594c0",
   "metadata": {},
   "outputs": [],
   "source": [
    "df6 = pd.read_sql_table(\"EndInvFINAL12312016\", con=engine)"
   ]
  },
  {
   "cell_type": "code",
   "execution_count": 89,
   "id": "927436e0",
   "metadata": {},
   "outputs": [
    {
     "data": {
      "application/vnd.microsoft.datawrangler.viewer.v0+json": {
       "columns": [
        {
         "name": "index",
         "rawType": "int64",
         "type": "integer"
        },
        {
         "name": "InventoryId",
         "rawType": "object",
         "type": "string"
        },
        {
         "name": "Store",
         "rawType": "int64",
         "type": "integer"
        },
        {
         "name": "City",
         "rawType": "object",
         "type": "string"
        },
        {
         "name": "Brand",
         "rawType": "float64",
         "type": "float"
        },
        {
         "name": "Description",
         "rawType": "object",
         "type": "unknown"
        },
        {
         "name": "Size",
         "rawType": "object",
         "type": "unknown"
        },
        {
         "name": "onHand",
         "rawType": "float64",
         "type": "float"
        },
        {
         "name": "Price",
         "rawType": "float64",
         "type": "float"
        },
        {
         "name": "endDate",
         "rawType": "datetime64[ns]",
         "type": "datetime"
        },
        {
         "name": "fecha_actualizacion",
         "rawType": "datetime64[ns]",
         "type": "datetime"
        }
       ],
       "ref": "fd78be0d-143b-4a3b-bd98-d3e352da5fad",
       "rows": [
        [
         "0",
         "01",
         "1",
         "Buenos Aires",
         null,
         null,
         null,
         null,
         null,
         null,
         "2025-05-30 15:27:09"
        ],
        [
         "1",
         "02",
         "2",
         "Buenos Aires",
         null,
         null,
         null,
         null,
         null,
         null,
         "2025-05-30 15:37:06"
        ],
        [
         "2",
         "03",
         "3",
         "Buenos Aires",
         null,
         null,
         null,
         null,
         null,
         null,
         "2025-05-30 15:39:42"
        ],
        [
         "3",
         "04",
         "4",
         "Buenos Aires",
         null,
         null,
         null,
         null,
         null,
         null,
         "2025-05-30 15:41:16"
        ],
        [
         "4",
         "05",
         "5",
         "Buenos Aires",
         null,
         null,
         null,
         null,
         null,
         null,
         "2025-05-30 15:42:43"
        ]
       ],
       "shape": {
        "columns": 10,
        "rows": 5
       }
      },
      "text/html": [
       "<div>\n",
       "<style scoped>\n",
       "    .dataframe tbody tr th:only-of-type {\n",
       "        vertical-align: middle;\n",
       "    }\n",
       "\n",
       "    .dataframe tbody tr th {\n",
       "        vertical-align: top;\n",
       "    }\n",
       "\n",
       "    .dataframe thead th {\n",
       "        text-align: right;\n",
       "    }\n",
       "</style>\n",
       "<table border=\"1\" class=\"dataframe\">\n",
       "  <thead>\n",
       "    <tr style=\"text-align: right;\">\n",
       "      <th></th>\n",
       "      <th>InventoryId</th>\n",
       "      <th>Store</th>\n",
       "      <th>City</th>\n",
       "      <th>Brand</th>\n",
       "      <th>Description</th>\n",
       "      <th>Size</th>\n",
       "      <th>onHand</th>\n",
       "      <th>Price</th>\n",
       "      <th>endDate</th>\n",
       "      <th>fecha_actualizacion</th>\n",
       "    </tr>\n",
       "  </thead>\n",
       "  <tbody>\n",
       "    <tr>\n",
       "      <th>0</th>\n",
       "      <td>01</td>\n",
       "      <td>1</td>\n",
       "      <td>Buenos Aires</td>\n",
       "      <td>NaN</td>\n",
       "      <td>None</td>\n",
       "      <td>None</td>\n",
       "      <td>NaN</td>\n",
       "      <td>NaN</td>\n",
       "      <td>NaT</td>\n",
       "      <td>2025-05-30 15:27:09</td>\n",
       "    </tr>\n",
       "    <tr>\n",
       "      <th>1</th>\n",
       "      <td>02</td>\n",
       "      <td>2</td>\n",
       "      <td>Buenos Aires</td>\n",
       "      <td>NaN</td>\n",
       "      <td>None</td>\n",
       "      <td>None</td>\n",
       "      <td>NaN</td>\n",
       "      <td>NaN</td>\n",
       "      <td>NaT</td>\n",
       "      <td>2025-05-30 15:37:06</td>\n",
       "    </tr>\n",
       "    <tr>\n",
       "      <th>2</th>\n",
       "      <td>03</td>\n",
       "      <td>3</td>\n",
       "      <td>Buenos Aires</td>\n",
       "      <td>NaN</td>\n",
       "      <td>None</td>\n",
       "      <td>None</td>\n",
       "      <td>NaN</td>\n",
       "      <td>NaN</td>\n",
       "      <td>NaT</td>\n",
       "      <td>2025-05-30 15:39:42</td>\n",
       "    </tr>\n",
       "    <tr>\n",
       "      <th>3</th>\n",
       "      <td>04</td>\n",
       "      <td>4</td>\n",
       "      <td>Buenos Aires</td>\n",
       "      <td>NaN</td>\n",
       "      <td>None</td>\n",
       "      <td>None</td>\n",
       "      <td>NaN</td>\n",
       "      <td>NaN</td>\n",
       "      <td>NaT</td>\n",
       "      <td>2025-05-30 15:41:16</td>\n",
       "    </tr>\n",
       "    <tr>\n",
       "      <th>4</th>\n",
       "      <td>05</td>\n",
       "      <td>5</td>\n",
       "      <td>Buenos Aires</td>\n",
       "      <td>NaN</td>\n",
       "      <td>None</td>\n",
       "      <td>None</td>\n",
       "      <td>NaN</td>\n",
       "      <td>NaN</td>\n",
       "      <td>NaT</td>\n",
       "      <td>2025-05-30 15:42:43</td>\n",
       "    </tr>\n",
       "  </tbody>\n",
       "</table>\n",
       "</div>"
      ],
      "text/plain": [
       "  InventoryId  Store          City  Brand Description  Size  onHand  Price  \\\n",
       "0          01      1  Buenos Aires    NaN        None  None     NaN    NaN   \n",
       "1          02      2  Buenos Aires    NaN        None  None     NaN    NaN   \n",
       "2          03      3  Buenos Aires    NaN        None  None     NaN    NaN   \n",
       "3          04      4  Buenos Aires    NaN        None  None     NaN    NaN   \n",
       "4          05      5  Buenos Aires    NaN        None  None     NaN    NaN   \n",
       "\n",
       "  endDate fecha_actualizacion  \n",
       "0     NaT 2025-05-30 15:27:09  \n",
       "1     NaT 2025-05-30 15:37:06  \n",
       "2     NaT 2025-05-30 15:39:42  \n",
       "3     NaT 2025-05-30 15:41:16  \n",
       "4     NaT 2025-05-30 15:42:43  "
      ]
     },
     "execution_count": 89,
     "metadata": {},
     "output_type": "execute_result"
    }
   ],
   "source": [
    "df6.head()"
   ]
  },
  {
   "cell_type": "code",
   "execution_count": 90,
   "id": "937e8d17",
   "metadata": {},
   "outputs": [
    {
     "data": {
      "text/plain": [
       "(224495, 10)"
      ]
     },
     "execution_count": 90,
     "metadata": {},
     "output_type": "execute_result"
    }
   ],
   "source": [
    "np.shape(df6)"
   ]
  },
  {
   "cell_type": "code",
   "execution_count": 91,
   "id": "2ef24906",
   "metadata": {},
   "outputs": [
    {
     "data": {
      "application/vnd.microsoft.datawrangler.viewer.v0+json": {
       "columns": [
        {
         "name": "index",
         "rawType": "object",
         "type": "string"
        },
        {
         "name": "0",
         "rawType": "int64",
         "type": "integer"
        }
       ],
       "ref": "b2a64fd8-95d7-448a-9f83-102233ae872b",
       "rows": [
        [
         "InventoryId",
         "0"
        ],
        [
         "Store",
         "0"
        ],
        [
         "City",
         "0"
        ],
        [
         "Brand",
         "6"
        ],
        [
         "Description",
         "6"
        ],
        [
         "Size",
         "6"
        ],
        [
         "onHand",
         "6"
        ],
        [
         "Price",
         "6"
        ],
        [
         "endDate",
         "7"
        ],
        [
         "fecha_actualizacion",
         "0"
        ]
       ],
       "shape": {
        "columns": 1,
        "rows": 10
       }
      },
      "text/plain": [
       "InventoryId            0\n",
       "Store                  0\n",
       "City                   0\n",
       "Brand                  6\n",
       "Description            6\n",
       "Size                   6\n",
       "onHand                 6\n",
       "Price                  6\n",
       "endDate                7\n",
       "fecha_actualizacion    0\n",
       "dtype: int64"
      ]
     },
     "execution_count": 91,
     "metadata": {},
     "output_type": "execute_result"
    }
   ],
   "source": [
    "df6.isnull().sum()"
   ]
  },
  {
   "cell_type": "code",
   "execution_count": 92,
   "id": "e4cf3171",
   "metadata": {},
   "outputs": [
    {
     "data": {
      "application/vnd.microsoft.datawrangler.viewer.v0+json": {
       "columns": [
        {
         "name": "index",
         "rawType": "int64",
         "type": "integer"
        },
        {
         "name": "InventoryId",
         "rawType": "object",
         "type": "string"
        },
        {
         "name": "Store",
         "rawType": "int64",
         "type": "integer"
        },
        {
         "name": "City",
         "rawType": "object",
         "type": "string"
        },
        {
         "name": "Brand",
         "rawType": "float64",
         "type": "float"
        },
        {
         "name": "Description",
         "rawType": "object",
         "type": "unknown"
        },
        {
         "name": "Size",
         "rawType": "object",
         "type": "unknown"
        },
        {
         "name": "onHand",
         "rawType": "float64",
         "type": "float"
        },
        {
         "name": "Price",
         "rawType": "float64",
         "type": "float"
        },
        {
         "name": "endDate",
         "rawType": "datetime64[ns]",
         "type": "datetime"
        },
        {
         "name": "fecha_actualizacion",
         "rawType": "datetime64[ns]",
         "type": "datetime"
        }
       ],
       "ref": "b61fff5c-1ed5-438e-976f-4c40dd62740d",
       "rows": [
        [
         "0",
         "01",
         "1",
         "Buenos Aires",
         null,
         null,
         null,
         null,
         null,
         null,
         "2025-05-30 15:27:09"
        ],
        [
         "1",
         "02",
         "2",
         "Buenos Aires",
         null,
         null,
         null,
         null,
         null,
         null,
         "2025-05-30 15:37:06"
        ],
        [
         "2",
         "03",
         "3",
         "Buenos Aires",
         null,
         null,
         null,
         null,
         null,
         null,
         "2025-05-30 15:39:42"
        ],
        [
         "3",
         "04",
         "4",
         "Buenos Aires",
         null,
         null,
         null,
         null,
         null,
         null,
         "2025-05-30 15:41:16"
        ],
        [
         "4",
         "05",
         "5",
         "Buenos Aires",
         null,
         null,
         null,
         null,
         null,
         null,
         "2025-05-30 15:42:43"
        ],
        [
         "5",
         "06",
         "6",
         "Buenos Aires",
         null,
         null,
         null,
         null,
         null,
         null,
         "2025-05-30 15:46:30"
        ],
        [
         "224494",
         "InventoryId",
         "0",
         "City",
         "0.0",
         "Description",
         "Size",
         "0.0",
         "0.0",
         null,
         "2025-05-27 18:54:18"
        ]
       ],
       "shape": {
        "columns": 10,
        "rows": 7
       }
      },
      "text/html": [
       "<div>\n",
       "<style scoped>\n",
       "    .dataframe tbody tr th:only-of-type {\n",
       "        vertical-align: middle;\n",
       "    }\n",
       "\n",
       "    .dataframe tbody tr th {\n",
       "        vertical-align: top;\n",
       "    }\n",
       "\n",
       "    .dataframe thead th {\n",
       "        text-align: right;\n",
       "    }\n",
       "</style>\n",
       "<table border=\"1\" class=\"dataframe\">\n",
       "  <thead>\n",
       "    <tr style=\"text-align: right;\">\n",
       "      <th></th>\n",
       "      <th>InventoryId</th>\n",
       "      <th>Store</th>\n",
       "      <th>City</th>\n",
       "      <th>Brand</th>\n",
       "      <th>Description</th>\n",
       "      <th>Size</th>\n",
       "      <th>onHand</th>\n",
       "      <th>Price</th>\n",
       "      <th>endDate</th>\n",
       "      <th>fecha_actualizacion</th>\n",
       "    </tr>\n",
       "  </thead>\n",
       "  <tbody>\n",
       "    <tr>\n",
       "      <th>0</th>\n",
       "      <td>01</td>\n",
       "      <td>1</td>\n",
       "      <td>Buenos Aires</td>\n",
       "      <td>NaN</td>\n",
       "      <td>None</td>\n",
       "      <td>None</td>\n",
       "      <td>NaN</td>\n",
       "      <td>NaN</td>\n",
       "      <td>NaT</td>\n",
       "      <td>2025-05-30 15:27:09</td>\n",
       "    </tr>\n",
       "    <tr>\n",
       "      <th>1</th>\n",
       "      <td>02</td>\n",
       "      <td>2</td>\n",
       "      <td>Buenos Aires</td>\n",
       "      <td>NaN</td>\n",
       "      <td>None</td>\n",
       "      <td>None</td>\n",
       "      <td>NaN</td>\n",
       "      <td>NaN</td>\n",
       "      <td>NaT</td>\n",
       "      <td>2025-05-30 15:37:06</td>\n",
       "    </tr>\n",
       "    <tr>\n",
       "      <th>2</th>\n",
       "      <td>03</td>\n",
       "      <td>3</td>\n",
       "      <td>Buenos Aires</td>\n",
       "      <td>NaN</td>\n",
       "      <td>None</td>\n",
       "      <td>None</td>\n",
       "      <td>NaN</td>\n",
       "      <td>NaN</td>\n",
       "      <td>NaT</td>\n",
       "      <td>2025-05-30 15:39:42</td>\n",
       "    </tr>\n",
       "    <tr>\n",
       "      <th>3</th>\n",
       "      <td>04</td>\n",
       "      <td>4</td>\n",
       "      <td>Buenos Aires</td>\n",
       "      <td>NaN</td>\n",
       "      <td>None</td>\n",
       "      <td>None</td>\n",
       "      <td>NaN</td>\n",
       "      <td>NaN</td>\n",
       "      <td>NaT</td>\n",
       "      <td>2025-05-30 15:41:16</td>\n",
       "    </tr>\n",
       "    <tr>\n",
       "      <th>4</th>\n",
       "      <td>05</td>\n",
       "      <td>5</td>\n",
       "      <td>Buenos Aires</td>\n",
       "      <td>NaN</td>\n",
       "      <td>None</td>\n",
       "      <td>None</td>\n",
       "      <td>NaN</td>\n",
       "      <td>NaN</td>\n",
       "      <td>NaT</td>\n",
       "      <td>2025-05-30 15:42:43</td>\n",
       "    </tr>\n",
       "    <tr>\n",
       "      <th>5</th>\n",
       "      <td>06</td>\n",
       "      <td>6</td>\n",
       "      <td>Buenos Aires</td>\n",
       "      <td>NaN</td>\n",
       "      <td>None</td>\n",
       "      <td>None</td>\n",
       "      <td>NaN</td>\n",
       "      <td>NaN</td>\n",
       "      <td>NaT</td>\n",
       "      <td>2025-05-30 15:46:30</td>\n",
       "    </tr>\n",
       "    <tr>\n",
       "      <th>224494</th>\n",
       "      <td>InventoryId</td>\n",
       "      <td>0</td>\n",
       "      <td>City</td>\n",
       "      <td>0.0</td>\n",
       "      <td>Description</td>\n",
       "      <td>Size</td>\n",
       "      <td>0.0</td>\n",
       "      <td>0.0</td>\n",
       "      <td>NaT</td>\n",
       "      <td>2025-05-27 18:54:18</td>\n",
       "    </tr>\n",
       "  </tbody>\n",
       "</table>\n",
       "</div>"
      ],
      "text/plain": [
       "        InventoryId  Store          City  Brand  Description  Size  onHand  \\\n",
       "0                01      1  Buenos Aires    NaN         None  None     NaN   \n",
       "1                02      2  Buenos Aires    NaN         None  None     NaN   \n",
       "2                03      3  Buenos Aires    NaN         None  None     NaN   \n",
       "3                04      4  Buenos Aires    NaN         None  None     NaN   \n",
       "4                05      5  Buenos Aires    NaN         None  None     NaN   \n",
       "5                06      6  Buenos Aires    NaN         None  None     NaN   \n",
       "224494  InventoryId      0          City    0.0  Description  Size     0.0   \n",
       "\n",
       "        Price endDate fecha_actualizacion  \n",
       "0         NaN     NaT 2025-05-30 15:27:09  \n",
       "1         NaN     NaT 2025-05-30 15:37:06  \n",
       "2         NaN     NaT 2025-05-30 15:39:42  \n",
       "3         NaN     NaT 2025-05-30 15:41:16  \n",
       "4         NaN     NaT 2025-05-30 15:42:43  \n",
       "5         NaN     NaT 2025-05-30 15:46:30  \n",
       "224494    0.0     NaT 2025-05-27 18:54:18  "
      ]
     },
     "execution_count": 92,
     "metadata": {},
     "output_type": "execute_result"
    }
   ],
   "source": [
    "df6[df6['endDate'].isnull()]"
   ]
  },
  {
   "cell_type": "code",
   "execution_count": 93,
   "id": "7cfecea9",
   "metadata": {},
   "outputs": [],
   "source": [
    "df6 = df6.drop(df6[df6['endDate'].isnull()].index)"
   ]
  },
  {
   "cell_type": "code",
   "execution_count": 94,
   "id": "b5edb194",
   "metadata": {},
   "outputs": [
    {
     "name": "stdout",
     "output_type": "stream",
     "text": [
      "Estadísticas para Store:\n",
      "  Media: 43.51\n",
      "  Mediana: 44.00\n",
      "  Desviación estándar: 23.33\n",
      "  Mínimo: 1.00\n",
      "  Máximo: 81.00\n",
      "----------------------------------------\n",
      "Estadísticas para Brand:\n",
      "  Media: 14356.43\n",
      "  Mediana: 8259.00\n",
      "  Desviación estándar: 13118.46\n",
      "  Mínimo: 58.00\n",
      "  Máximo: 90631.00\n",
      "----------------------------------------\n",
      "Estadísticas para onHand:\n",
      "  Media: 21.76\n",
      "  Mediana: 12.00\n",
      "  Desviación estándar: 37.23\n",
      "  Mínimo: 0.00\n",
      "  Máximo: 3676.00\n",
      "----------------------------------------\n",
      "Estadísticas para Price:\n",
      "  Media: 23.59\n",
      "  Mediana: 14.99\n",
      "  Desviación estándar: 79.20\n",
      "  Mínimo: 0.49\n",
      "  Máximo: 13999.90\n",
      "----------------------------------------\n"
     ]
    }
   ],
   "source": [
    "columnas_numericas6 = df6.select_dtypes(include='number').columns\n",
    "\n",
    "for col in columnas_numericas6:\n",
    "    print(f\"Estadísticas para {col}:\")\n",
    "    print(f\"  Media: {df6[col].mean():.2f}\")\n",
    "    print(f\"  Mediana: {df6[col].median():.2f}\")\n",
    "    print(f\"  Desviación estándar: {df6[col].std():.2f}\")\n",
    "    print(f\"  Mínimo: {df6[col].min():.2f}\")\n",
    "    print(f\"  Máximo: {df6[col].max():.2f}\")\n",
    "    print(\"-\" * 40)"
   ]
  },
  {
   "cell_type": "code",
   "execution_count": 95,
   "id": "2c08740d",
   "metadata": {},
   "outputs": [
    {
     "data": {
      "application/vnd.microsoft.datawrangler.viewer.v0+json": {
       "columns": [
        {
         "name": "index",
         "rawType": "int64",
         "type": "integer"
        },
        {
         "name": "InventoryId",
         "rawType": "object",
         "type": "string"
        },
        {
         "name": "Store",
         "rawType": "int64",
         "type": "integer"
        },
        {
         "name": "City",
         "rawType": "object",
         "type": "string"
        },
        {
         "name": "Brand",
         "rawType": "float64",
         "type": "float"
        },
        {
         "name": "Description",
         "rawType": "object",
         "type": "string"
        },
        {
         "name": "Size",
         "rawType": "object",
         "type": "string"
        },
        {
         "name": "onHand",
         "rawType": "float64",
         "type": "float"
        },
        {
         "name": "Price",
         "rawType": "float64",
         "type": "float"
        },
        {
         "name": "endDate",
         "rawType": "datetime64[ns]",
         "type": "datetime"
        },
        {
         "name": "fecha_actualizacion",
         "rawType": "datetime64[ns]",
         "type": "datetime"
        }
       ],
       "ref": "c373f673-74ec-4f33-be35-812bab9fbacf",
       "rows": [],
       "shape": {
        "columns": 10,
        "rows": 0
       }
      },
      "text/html": [
       "<div>\n",
       "<style scoped>\n",
       "    .dataframe tbody tr th:only-of-type {\n",
       "        vertical-align: middle;\n",
       "    }\n",
       "\n",
       "    .dataframe tbody tr th {\n",
       "        vertical-align: top;\n",
       "    }\n",
       "\n",
       "    .dataframe thead th {\n",
       "        text-align: right;\n",
       "    }\n",
       "</style>\n",
       "<table border=\"1\" class=\"dataframe\">\n",
       "  <thead>\n",
       "    <tr style=\"text-align: right;\">\n",
       "      <th></th>\n",
       "      <th>InventoryId</th>\n",
       "      <th>Store</th>\n",
       "      <th>City</th>\n",
       "      <th>Brand</th>\n",
       "      <th>Description</th>\n",
       "      <th>Size</th>\n",
       "      <th>onHand</th>\n",
       "      <th>Price</th>\n",
       "      <th>endDate</th>\n",
       "      <th>fecha_actualizacion</th>\n",
       "    </tr>\n",
       "  </thead>\n",
       "  <tbody>\n",
       "  </tbody>\n",
       "</table>\n",
       "</div>"
      ],
      "text/plain": [
       "Empty DataFrame\n",
       "Columns: [InventoryId, Store, City, Brand, Description, Size, onHand, Price, endDate, fecha_actualizacion]\n",
       "Index: []"
      ]
     },
     "execution_count": 95,
     "metadata": {},
     "output_type": "execute_result"
    }
   ],
   "source": [
    "df6[df6.duplicated(keep=False)]"
   ]
  },
  {
   "cell_type": "code",
   "execution_count": 96,
   "id": "abeac769",
   "metadata": {},
   "outputs": [
    {
     "name": "stdout",
     "output_type": "stream",
     "text": [
      "Estadísticas para Store:\n",
      "  Media: 43.51\n",
      "  Mediana: 44.00\n",
      "  Desviación estándar: 23.33\n",
      "  Mínimo: 1.00\n",
      "  Máximo: 81.00\n",
      "----------------------------------------\n",
      "Estadísticas para Brand:\n",
      "  Media: 14356.43\n",
      "  Mediana: 8259.00\n",
      "  Desviación estándar: 13118.46\n",
      "  Mínimo: 58.00\n",
      "  Máximo: 90631.00\n",
      "----------------------------------------\n",
      "Estadísticas para onHand:\n",
      "  Media: 21.76\n",
      "  Mediana: 12.00\n",
      "  Desviación estándar: 37.23\n",
      "  Mínimo: 0.00\n",
      "  Máximo: 3676.00\n",
      "----------------------------------------\n",
      "Estadísticas para Price:\n",
      "  Media: 23.59\n",
      "  Mediana: 14.99\n",
      "  Desviación estándar: 79.20\n",
      "  Mínimo: 0.49\n",
      "  Máximo: 13999.90\n",
      "----------------------------------------\n"
     ]
    }
   ],
   "source": [
    "columnas_numericas6 = df6.select_dtypes(include='number').columns\n",
    "\n",
    "for col in columnas_numericas6:\n",
    "    print(f\"Estadísticas para {col}:\")\n",
    "    print(f\"  Media: {df6[col].mean():.2f}\")\n",
    "    print(f\"  Mediana: {df6[col].median():.2f}\")\n",
    "    print(f\"  Desviación estándar: {df6[col].std():.2f}\")\n",
    "    print(f\"  Mínimo: {df6[col].min():.2f}\")\n",
    "    print(f\"  Máximo: {df6[col].max():.2f}\")\n",
    "    print(\"-\" * 40)"
   ]
  },
  {
   "cell_type": "code",
   "execution_count": 97,
   "id": "782ec72e",
   "metadata": {},
   "outputs": [
    {
     "data": {
      "application/vnd.microsoft.datawrangler.viewer.v0+json": {
       "columns": [
        {
         "name": "index",
         "rawType": "int64",
         "type": "integer"
        },
        {
         "name": "InventoryId",
         "rawType": "object",
         "type": "string"
        },
        {
         "name": "Store",
         "rawType": "int64",
         "type": "integer"
        },
        {
         "name": "City",
         "rawType": "object",
         "type": "string"
        },
        {
         "name": "Brand",
         "rawType": "float64",
         "type": "float"
        },
        {
         "name": "Description",
         "rawType": "object",
         "type": "string"
        },
        {
         "name": "Size",
         "rawType": "object",
         "type": "string"
        },
        {
         "name": "onHand",
         "rawType": "float64",
         "type": "float"
        },
        {
         "name": "Price",
         "rawType": "float64",
         "type": "float"
        },
        {
         "name": "endDate",
         "rawType": "datetime64[ns]",
         "type": "datetime"
        },
        {
         "name": "fecha_actualizacion",
         "rawType": "datetime64[ns]",
         "type": "datetime"
        }
       ],
       "ref": "568e50c0-082c-4030-aa5a-46f552f89163",
       "rows": [],
       "shape": {
        "columns": 10,
        "rows": 0
       }
      },
      "text/html": [
       "<div>\n",
       "<style scoped>\n",
       "    .dataframe tbody tr th:only-of-type {\n",
       "        vertical-align: middle;\n",
       "    }\n",
       "\n",
       "    .dataframe tbody tr th {\n",
       "        vertical-align: top;\n",
       "    }\n",
       "\n",
       "    .dataframe thead th {\n",
       "        text-align: right;\n",
       "    }\n",
       "</style>\n",
       "<table border=\"1\" class=\"dataframe\">\n",
       "  <thead>\n",
       "    <tr style=\"text-align: right;\">\n",
       "      <th></th>\n",
       "      <th>InventoryId</th>\n",
       "      <th>Store</th>\n",
       "      <th>City</th>\n",
       "      <th>Brand</th>\n",
       "      <th>Description</th>\n",
       "      <th>Size</th>\n",
       "      <th>onHand</th>\n",
       "      <th>Price</th>\n",
       "      <th>endDate</th>\n",
       "      <th>fecha_actualizacion</th>\n",
       "    </tr>\n",
       "  </thead>\n",
       "  <tbody>\n",
       "  </tbody>\n",
       "</table>\n",
       "</div>"
      ],
      "text/plain": [
       "Empty DataFrame\n",
       "Columns: [InventoryId, Store, City, Brand, Description, Size, onHand, Price, endDate, fecha_actualizacion]\n",
       "Index: []"
      ]
     },
     "execution_count": 97,
     "metadata": {},
     "output_type": "execute_result"
    }
   ],
   "source": [
    "df6[df6['Store'].isnull()]"
   ]
  },
  {
   "cell_type": "code",
   "execution_count": 98,
   "id": "334c8b26",
   "metadata": {},
   "outputs": [
    {
     "data": {
      "application/vnd.microsoft.datawrangler.viewer.v0+json": {
       "columns": [
        {
         "name": "index",
         "rawType": "object",
         "type": "string"
        },
        {
         "name": "0",
         "rawType": "int64",
         "type": "integer"
        }
       ],
       "ref": "6594f6a0-1b2b-4567-958a-42ee59147012",
       "rows": [
        [
         "InventoryId",
         "0"
        ],
        [
         "City",
         "1284"
        ],
        [
         "Description",
         "0"
        ],
        [
         "Size",
         "0"
        ]
       ],
       "shape": {
        "columns": 1,
        "rows": 4
       }
      },
      "text/plain": [
       "InventoryId       0\n",
       "City           1284\n",
       "Description       0\n",
       "Size              0\n",
       "dtype: int64"
      ]
     },
     "execution_count": 98,
     "metadata": {},
     "output_type": "execute_result"
    }
   ],
   "source": [
    "#Obtenego solo nombres de columnas de tipo texto\n",
    "text_cols = df6.select_dtypes(include='object').columns\n",
    "\n",
    "# Calculo cuántos valores nulos o vacíos hay en cada columna de texto\n",
    "df6[text_cols].isnull().sum() + (df6[text_cols] == \"\").sum()"
   ]
  },
  {
   "cell_type": "code",
   "execution_count": 99,
   "id": "bc1718c9",
   "metadata": {},
   "outputs": [
    {
     "data": {
      "application/vnd.microsoft.datawrangler.viewer.v0+json": {
       "columns": [
        {
         "name": "index",
         "rawType": "int64",
         "type": "integer"
        },
        {
         "name": "InventoryId",
         "rawType": "object",
         "type": "string"
        },
        {
         "name": "Store",
         "rawType": "int64",
         "type": "integer"
        },
        {
         "name": "City",
         "rawType": "object",
         "type": "string"
        },
        {
         "name": "Brand",
         "rawType": "float64",
         "type": "float"
        },
        {
         "name": "Description",
         "rawType": "object",
         "type": "string"
        },
        {
         "name": "Size",
         "rawType": "object",
         "type": "string"
        },
        {
         "name": "onHand",
         "rawType": "float64",
         "type": "float"
        },
        {
         "name": "Price",
         "rawType": "float64",
         "type": "float"
        },
        {
         "name": "endDate",
         "rawType": "datetime64[ns]",
         "type": "datetime"
        },
        {
         "name": "fecha_actualizacion",
         "rawType": "datetime64[ns]",
         "type": "datetime"
        }
       ],
       "ref": "0ec465f1-23ff-4a42-a44f-59526f80c966",
       "rows": [
        [
         "6",
         "1_HARDERSFIELD_1001",
         "1",
         "HARDERSFIELD",
         "1001.0",
         "Baileys 50mL 4 Pack",
         "50mL 4 Pk",
         "0.0",
         "5.99",
         "2016-12-31 00:00:00",
         "2025-05-27 18:54:18"
        ],
        [
         "7",
         "1_HARDERSFIELD_10021",
         "1",
         "HARDERSFIELD",
         "10021.0",
         "Clayhouse Syrah Paso Robles",
         "750mL",
         "23.0",
         "13.99",
         "2016-12-31 00:00:00",
         "2025-05-27 18:54:18"
        ],
        [
         "8",
         "1_HARDERSFIELD_1003",
         "1",
         "HARDERSFIELD",
         "1003.0",
         "Crown Royal VAP Glass+Coastr",
         "750mL",
         "0.0",
         "22.99",
         "2016-12-31 00:00:00",
         "2025-05-27 18:54:18"
        ],
        [
         "9",
         "1_HARDERSFIELD_10058",
         "1",
         "HARDERSFIELD",
         "10058.0",
         "F Coppola Dmd Ivry Cab Svgn",
         "750mL",
         "47.0",
         "14.99",
         "2016-12-31 00:00:00",
         "2025-05-27 18:54:18"
        ],
        [
         "10",
         "1_HARDERSFIELD_10062",
         "1",
         "HARDERSFIELD",
         "10062.0",
         "B de Beauchene CDR Rouge",
         "750mL",
         "29.0",
         "8.99",
         "2016-12-31 00:00:00",
         "2025-05-27 18:54:18"
        ]
       ],
       "shape": {
        "columns": 10,
        "rows": 5
       }
      },
      "text/html": [
       "<div>\n",
       "<style scoped>\n",
       "    .dataframe tbody tr th:only-of-type {\n",
       "        vertical-align: middle;\n",
       "    }\n",
       "\n",
       "    .dataframe tbody tr th {\n",
       "        vertical-align: top;\n",
       "    }\n",
       "\n",
       "    .dataframe thead th {\n",
       "        text-align: right;\n",
       "    }\n",
       "</style>\n",
       "<table border=\"1\" class=\"dataframe\">\n",
       "  <thead>\n",
       "    <tr style=\"text-align: right;\">\n",
       "      <th></th>\n",
       "      <th>InventoryId</th>\n",
       "      <th>Store</th>\n",
       "      <th>City</th>\n",
       "      <th>Brand</th>\n",
       "      <th>Description</th>\n",
       "      <th>Size</th>\n",
       "      <th>onHand</th>\n",
       "      <th>Price</th>\n",
       "      <th>endDate</th>\n",
       "      <th>fecha_actualizacion</th>\n",
       "    </tr>\n",
       "  </thead>\n",
       "  <tbody>\n",
       "    <tr>\n",
       "      <th>6</th>\n",
       "      <td>1_HARDERSFIELD_1001</td>\n",
       "      <td>1</td>\n",
       "      <td>HARDERSFIELD</td>\n",
       "      <td>1001.0</td>\n",
       "      <td>Baileys 50mL 4 Pack</td>\n",
       "      <td>50mL 4 Pk</td>\n",
       "      <td>0.0</td>\n",
       "      <td>5.99</td>\n",
       "      <td>2016-12-31</td>\n",
       "      <td>2025-05-27 18:54:18</td>\n",
       "    </tr>\n",
       "    <tr>\n",
       "      <th>7</th>\n",
       "      <td>1_HARDERSFIELD_10021</td>\n",
       "      <td>1</td>\n",
       "      <td>HARDERSFIELD</td>\n",
       "      <td>10021.0</td>\n",
       "      <td>Clayhouse Syrah Paso Robles</td>\n",
       "      <td>750mL</td>\n",
       "      <td>23.0</td>\n",
       "      <td>13.99</td>\n",
       "      <td>2016-12-31</td>\n",
       "      <td>2025-05-27 18:54:18</td>\n",
       "    </tr>\n",
       "    <tr>\n",
       "      <th>8</th>\n",
       "      <td>1_HARDERSFIELD_1003</td>\n",
       "      <td>1</td>\n",
       "      <td>HARDERSFIELD</td>\n",
       "      <td>1003.0</td>\n",
       "      <td>Crown Royal VAP Glass+Coastr</td>\n",
       "      <td>750mL</td>\n",
       "      <td>0.0</td>\n",
       "      <td>22.99</td>\n",
       "      <td>2016-12-31</td>\n",
       "      <td>2025-05-27 18:54:18</td>\n",
       "    </tr>\n",
       "    <tr>\n",
       "      <th>9</th>\n",
       "      <td>1_HARDERSFIELD_10058</td>\n",
       "      <td>1</td>\n",
       "      <td>HARDERSFIELD</td>\n",
       "      <td>10058.0</td>\n",
       "      <td>F Coppola Dmd Ivry Cab Svgn</td>\n",
       "      <td>750mL</td>\n",
       "      <td>47.0</td>\n",
       "      <td>14.99</td>\n",
       "      <td>2016-12-31</td>\n",
       "      <td>2025-05-27 18:54:18</td>\n",
       "    </tr>\n",
       "    <tr>\n",
       "      <th>10</th>\n",
       "      <td>1_HARDERSFIELD_10062</td>\n",
       "      <td>1</td>\n",
       "      <td>HARDERSFIELD</td>\n",
       "      <td>10062.0</td>\n",
       "      <td>B de Beauchene CDR Rouge</td>\n",
       "      <td>750mL</td>\n",
       "      <td>29.0</td>\n",
       "      <td>8.99</td>\n",
       "      <td>2016-12-31</td>\n",
       "      <td>2025-05-27 18:54:18</td>\n",
       "    </tr>\n",
       "  </tbody>\n",
       "</table>\n",
       "</div>"
      ],
      "text/plain": [
       "             InventoryId  Store          City    Brand  \\\n",
       "6    1_HARDERSFIELD_1001      1  HARDERSFIELD   1001.0   \n",
       "7   1_HARDERSFIELD_10021      1  HARDERSFIELD  10021.0   \n",
       "8    1_HARDERSFIELD_1003      1  HARDERSFIELD   1003.0   \n",
       "9   1_HARDERSFIELD_10058      1  HARDERSFIELD  10058.0   \n",
       "10  1_HARDERSFIELD_10062      1  HARDERSFIELD  10062.0   \n",
       "\n",
       "                     Description       Size  onHand  Price    endDate  \\\n",
       "6            Baileys 50mL 4 Pack  50mL 4 Pk     0.0   5.99 2016-12-31   \n",
       "7    Clayhouse Syrah Paso Robles      750mL    23.0  13.99 2016-12-31   \n",
       "8   Crown Royal VAP Glass+Coastr      750mL     0.0  22.99 2016-12-31   \n",
       "9    F Coppola Dmd Ivry Cab Svgn      750mL    47.0  14.99 2016-12-31   \n",
       "10      B de Beauchene CDR Rouge      750mL    29.0   8.99 2016-12-31   \n",
       "\n",
       "   fecha_actualizacion  \n",
       "6  2025-05-27 18:54:18  \n",
       "7  2025-05-27 18:54:18  \n",
       "8  2025-05-27 18:54:18  \n",
       "9  2025-05-27 18:54:18  \n",
       "10 2025-05-27 18:54:18  "
      ]
     },
     "execution_count": 99,
     "metadata": {},
     "output_type": "execute_result"
    }
   ],
   "source": [
    "df6.head()"
   ]
  },
  {
   "cell_type": "code",
   "execution_count": 100,
   "id": "942d2932",
   "metadata": {},
   "outputs": [
    {
     "data": {
      "application/vnd.microsoft.datawrangler.viewer.v0+json": {
       "columns": [
        {
         "name": "index",
         "rawType": "int64",
         "type": "integer"
        },
        {
         "name": "InventoryId",
         "rawType": "object",
         "type": "string"
        },
        {
         "name": "Store",
         "rawType": "int64",
         "type": "integer"
        },
        {
         "name": "City",
         "rawType": "object",
         "type": "string"
        },
        {
         "name": "Brand",
         "rawType": "float64",
         "type": "float"
        },
        {
         "name": "Description",
         "rawType": "object",
         "type": "string"
        },
        {
         "name": "Size",
         "rawType": "object",
         "type": "string"
        },
        {
         "name": "onHand",
         "rawType": "float64",
         "type": "float"
        },
        {
         "name": "Price",
         "rawType": "float64",
         "type": "float"
        },
        {
         "name": "endDate",
         "rawType": "datetime64[ns]",
         "type": "datetime"
        },
        {
         "name": "fecha_actualizacion",
         "rawType": "datetime64[ns]",
         "type": "datetime"
        }
       ],
       "ref": "35240379-98a6-46f5-97b3-a744d131a973",
       "rows": [
        [
         "101319",
         "46__1003",
         "46",
         "",
         "1003.0",
         "Crown Royal VAP Glass+Coastr",
         "750mL",
         "0.0",
         "22.99",
         "2016-12-31 00:00:00",
         "2025-05-27 18:54:18"
        ],
        [
         "101320",
         "46__10058",
         "46",
         "",
         "10058.0",
         "F Coppola Dmd Ivry Cab Svgn",
         "750mL",
         "0.0",
         "14.99",
         "2016-12-31 00:00:00",
         "2025-05-27 18:54:18"
        ],
        [
         "101321",
         "46__10236",
         "46",
         "",
         "10236.0",
         "Layer Cake Malbec Mendoza",
         "750mL",
         "0.0",
         "11.95",
         "2016-12-31 00:00:00",
         "2025-05-27 18:54:18"
        ],
        [
         "101322",
         "46__10238",
         "46",
         "",
         "10238.0",
         "Layer Cake Primitivo Puglia",
         "750mL",
         "0.0",
         "15.99",
         "2016-12-31 00:00:00",
         "2025-05-27 18:54:18"
        ],
        [
         "101323",
         "46__10266",
         "46",
         "",
         "10266.0",
         "Klinker Brick Old Vine Znfdl",
         "750mL",
         "0.0",
         "15.99",
         "2016-12-31 00:00:00",
         "2025-05-27 18:54:18"
        ],
        [
         "101324",
         "46__10420",
         "46",
         "",
         "10420.0",
         "Barefoot Moscato Cal",
         "750mL",
         "0.0",
         "4.99",
         "2016-12-31 00:00:00",
         "2025-05-27 18:54:18"
        ],
        [
         "101325",
         "46__10421",
         "46",
         "",
         "10421.0",
         "Barefoot Moscato Cal",
         "1.5L",
         "0.0",
         "10.99",
         "2016-12-31 00:00:00",
         "2025-05-27 18:54:18"
        ],
        [
         "101326",
         "46__10451",
         "46",
         "",
         "10451.0",
         "Line 39 Cab Svgn Lake Cnty",
         "750mL",
         "0.0",
         "9.99",
         "2016-12-31 00:00:00",
         "2025-05-27 18:54:18"
        ],
        [
         "101327",
         "46__10472",
         "46",
         "",
         "10472.0",
         "Clos du Bois Pnt Nr Cal",
         "750mL",
         "0.0",
         "8.99",
         "2016-12-31 00:00:00",
         "2025-05-27 18:54:18"
        ],
        [
         "101328",
         "46__10596",
         "46",
         "",
         "10596.0",
         "Almaden Mt Rhine Calif B/B",
         "5L",
         "0.0",
         "14.99",
         "2016-12-31 00:00:00",
         "2025-05-27 18:54:18"
        ],
        [
         "101329",
         "46__106",
         "46",
         "",
         "106.0",
         "Mr Boston Peach Schnapps",
         "Liter",
         "0.0",
         "4.49",
         "2016-12-31 00:00:00",
         "2025-05-27 18:54:18"
        ],
        [
         "101330",
         "46__10626",
         "46",
         "",
         "10626.0",
         "MezzaCorona Pnt Nr",
         "1.5L",
         "0.0",
         "10.99",
         "2016-12-31 00:00:00",
         "2025-05-27 18:54:18"
        ],
        [
         "101331",
         "46__10715",
         "46",
         "",
         "10715.0",
         "C Y Toro Privada Rsv Casa Di",
         "750mL",
         "0.0",
         "14.99",
         "2016-12-31 00:00:00",
         "2025-05-27 18:54:18"
        ],
        [
         "101332",
         "46__10723",
         "46",
         "",
         "10723.0",
         "R M Woodbridge Chard",
         "1.5L",
         "0.0",
         "8.99",
         "2016-12-31 00:00:00",
         "2025-05-27 18:54:18"
        ],
        [
         "101333",
         "46__10727",
         "46",
         "",
         "10727.0",
         "Starborough Svgn Bl Marlboro",
         "750mL",
         "0.0",
         "9.99",
         "2016-12-31 00:00:00",
         "2025-05-27 18:54:18"
        ],
        [
         "101334",
         "46__10957",
         "46",
         "",
         "10957.0",
         "Seaglass Svgn Bl Snt Barbara",
         "750mL",
         "0.0",
         "8.99",
         "2016-12-31 00:00:00",
         "2025-05-27 18:54:18"
        ],
        [
         "101335",
         "46__110",
         "46",
         "",
         "110.0",
         "Mr Boston Creme de Menthe-Wh",
         "Liter",
         "0.0",
         "6.49",
         "2016-12-31 00:00:00",
         "2025-05-27 18:54:18"
        ],
        [
         "101336",
         "46__11067",
         "46",
         "",
         "11067.0",
         "Sterling Chard",
         "750mL",
         "0.0",
         "15.99",
         "2016-12-31 00:00:00",
         "2025-05-27 18:54:18"
        ],
        [
         "101337",
         "46__11080",
         "46",
         "",
         "11080.0",
         "G Vigouroux Pigmentum Malbec",
         "750mL",
         "0.0",
         "8.99",
         "2016-12-31 00:00:00",
         "2025-05-27 18:54:18"
        ],
        [
         "101338",
         "46__11089",
         "46",
         "",
         "11089.0",
         "Jaboulet CdR Parl 45 Rose",
         "750mL",
         "0.0",
         "12.99",
         "2016-12-31 00:00:00",
         "2025-05-27 18:54:18"
        ],
        [
         "101339",
         "46__11141",
         "46",
         "",
         "11141.0",
         "C K Mondavi Chard",
         "1.5L",
         "0.0",
         "12.99",
         "2016-12-31 00:00:00",
         "2025-05-27 18:54:18"
        ],
        [
         "101340",
         "46__11196",
         "46",
         "",
         "11196.0",
         "Angelini Pnt Grigio Veneto",
         "750mL",
         "0.0",
         "9.99",
         "2016-12-31 00:00:00",
         "2025-05-27 18:54:18"
        ],
        [
         "101341",
         "46__112",
         "46",
         "",
         "112.0",
         "Mr Boston Cr de Cacao White",
         "Liter",
         "0.0",
         "6.49",
         "2016-12-31 00:00:00",
         "2025-05-27 18:54:18"
        ],
        [
         "101342",
         "46__11213",
         "46",
         "",
         "11213.0",
         "Meiomi Pnt Nr",
         "750mL",
         "0.0",
         "21.99",
         "2016-12-31 00:00:00",
         "2025-05-27 18:54:18"
        ],
        [
         "101343",
         "46__11214",
         "46",
         "",
         "11214.0",
         "Caymus Cab Svgn Napa Vly",
         "750mL",
         "0.0",
         "69.99",
         "2016-12-31 00:00:00",
         "2025-05-27 18:54:18"
        ],
        [
         "101344",
         "46__11219",
         "46",
         "",
         "11219.0",
         "Josh Cellars Cab Svgn",
         "750mL",
         "0.0",
         "12.99",
         "2016-12-31 00:00:00",
         "2025-05-27 18:54:18"
        ],
        [
         "101345",
         "46__113",
         "46",
         "",
         "113.0",
         "Mr Boston Cr de Cacao Brown",
         "Liter",
         "0.0",
         "6.49",
         "2016-12-31 00:00:00",
         "2025-05-27 18:54:18"
        ],
        [
         "101346",
         "46__11367",
         "46",
         "",
         "11367.0",
         "Two Oceans WstrnCape Svgn Bl",
         "750mL",
         "0.0",
         "9.99",
         "2016-12-31 00:00:00",
         "2025-05-27 18:54:18"
        ],
        [
         "101347",
         "46__114",
         "46",
         "",
         "114.0",
         "Mr Boston Creme de Banana",
         "Liter",
         "0.0",
         "6.49",
         "2016-12-31 00:00:00",
         "2025-05-27 18:54:18"
        ],
        [
         "101348",
         "46__11456",
         "46",
         "",
         "11456.0",
         "Burgess Cab Svgn Napa",
         "750mL",
         "0.0",
         "34.99",
         "2016-12-31 00:00:00",
         "2025-05-27 18:54:18"
        ],
        [
         "101349",
         "46__11488",
         "46",
         "",
         "11488.0",
         "C K Mondavi Cab Svgn",
         "1.5L",
         "0.0",
         "12.99",
         "2016-12-31 00:00:00",
         "2025-05-27 18:54:18"
        ],
        [
         "101350",
         "46__1178",
         "46",
         "",
         "1178.0",
         "Evan Williams Black Label B",
         "750mL",
         "0.0",
         "11.49",
         "2016-12-31 00:00:00",
         "2025-05-27 18:54:18"
        ],
        [
         "101351",
         "46__1180",
         "46",
         "",
         "1180.0",
         "Evan Williams Black Label B",
         "1.75L",
         "0.0",
         "20.99",
         "2016-12-31 00:00:00",
         "2025-05-27 18:54:18"
        ],
        [
         "101352",
         "46__11825",
         "46",
         "",
         "11825.0",
         "Cupcake Cab Svgn",
         "750mL",
         "0.0",
         "7.49",
         "2016-12-31 00:00:00",
         "2025-05-27 18:54:18"
        ],
        [
         "101353",
         "46__11826",
         "46",
         "",
         "11826.0",
         "Cupcake Chard",
         "750mL",
         "0.0",
         "7.49",
         "2016-12-31 00:00:00",
         "2025-05-27 18:54:18"
        ],
        [
         "101354",
         "46__11827",
         "46",
         "",
         "11827.0",
         "Cupcake Merlot",
         "750mL",
         "0.0",
         "7.49",
         "2016-12-31 00:00:00",
         "2025-05-27 18:54:18"
        ],
        [
         "101355",
         "46__11828",
         "46",
         "",
         "11828.0",
         "Cupcake Svgn Bl",
         "750mL",
         "0.0",
         "7.49",
         "2016-12-31 00:00:00",
         "2025-05-27 18:54:18"
        ],
        [
         "101356",
         "46__11888",
         "46",
         "",
         "11888.0",
         "Penfolds Koonunga Hills Shir",
         "750mL",
         "0.0",
         "14.99",
         "2016-12-31 00:00:00",
         "2025-05-27 18:54:18"
        ],
        [
         "101357",
         "46__11957",
         "46",
         "",
         "11957.0",
         "Souverain Cab Svgn N Cst",
         "750mL",
         "0.0",
         "9.99",
         "2016-12-31 00:00:00",
         "2025-05-27 18:54:18"
        ],
        [
         "101358",
         "46__11970",
         "46",
         "",
         "11970.0",
         "Zaccagnini Montepulciano Rsv",
         "750mL",
         "0.0",
         "14.99",
         "2016-12-31 00:00:00",
         "2025-05-27 18:54:18"
        ],
        [
         "101359",
         "46__12069",
         "46",
         "",
         "12069.0",
         "Gnarly Head Pnt Grigio",
         "750mL",
         "0.0",
         "7.99",
         "2016-12-31 00:00:00",
         "2025-05-27 18:54:18"
        ],
        [
         "101360",
         "46__12147",
         "46",
         "",
         "12147.0",
         "Sterling Vintners CA Meritag",
         "750mL",
         "0.0",
         "7.99",
         "2016-12-31 00:00:00",
         "2025-05-27 18:54:18"
        ],
        [
         "101361",
         "46__12181",
         "46",
         "",
         "12181.0",
         "Cakebread Chard",
         "750mL",
         "0.0",
         "37.99",
         "2016-12-31 00:00:00",
         "2025-05-27 18:54:18"
        ],
        [
         "101362",
         "46__1220",
         "46",
         "",
         "1220.0",
         "Woodford Reserve Bourbon",
         "750mL",
         "0.0",
         "30.99",
         "2016-12-31 00:00:00",
         "2025-05-27 18:54:18"
        ],
        [
         "101363",
         "46__12203",
         "46",
         "",
         "12203.0",
         "Cavit Prosecco Lunetta",
         "187mL 3 Pk",
         "0.0",
         "9.99",
         "2016-12-31 00:00:00",
         "2025-05-27 18:54:18"
        ],
        [
         "101364",
         "46__12211",
         "46",
         "",
         "12211.0",
         "Black Box Rsl",
         "3L",
         "0.0",
         "18.99",
         "2016-12-31 00:00:00",
         "2025-05-27 18:54:18"
        ],
        [
         "101365",
         "46__12212",
         "46",
         "",
         "12212.0",
         "Black Box Svgn Bl",
         "3L",
         "0.0",
         "18.99",
         "2016-12-31 00:00:00",
         "2025-05-27 18:54:18"
        ],
        [
         "101366",
         "46__12213",
         "46",
         "",
         "12213.0",
         "Evodia Garnacha Old Vine",
         "750mL",
         "0.0",
         "8.99",
         "2016-12-31 00:00:00",
         "2025-05-27 18:54:18"
        ],
        [
         "101367",
         "46__12216",
         "46",
         "",
         "12216.0",
         "Da Vinci Pnt Grigio",
         "750mL",
         "0.0",
         "9.99",
         "2016-12-31 00:00:00",
         "2025-05-27 18:54:18"
        ],
        [
         "101368",
         "46__12220",
         "46",
         "",
         "12220.0",
         "Angeline Pnt Nr",
         "750mL",
         "0.0",
         "9.99",
         "2016-12-31 00:00:00",
         "2025-05-27 18:54:18"
        ]
       ],
       "shape": {
        "columns": 10,
        "rows": 1284
       }
      },
      "text/html": [
       "<div>\n",
       "<style scoped>\n",
       "    .dataframe tbody tr th:only-of-type {\n",
       "        vertical-align: middle;\n",
       "    }\n",
       "\n",
       "    .dataframe tbody tr th {\n",
       "        vertical-align: top;\n",
       "    }\n",
       "\n",
       "    .dataframe thead th {\n",
       "        text-align: right;\n",
       "    }\n",
       "</style>\n",
       "<table border=\"1\" class=\"dataframe\">\n",
       "  <thead>\n",
       "    <tr style=\"text-align: right;\">\n",
       "      <th></th>\n",
       "      <th>InventoryId</th>\n",
       "      <th>Store</th>\n",
       "      <th>City</th>\n",
       "      <th>Brand</th>\n",
       "      <th>Description</th>\n",
       "      <th>Size</th>\n",
       "      <th>onHand</th>\n",
       "      <th>Price</th>\n",
       "      <th>endDate</th>\n",
       "      <th>fecha_actualizacion</th>\n",
       "    </tr>\n",
       "  </thead>\n",
       "  <tbody>\n",
       "    <tr>\n",
       "      <th>101319</th>\n",
       "      <td>46__1003</td>\n",
       "      <td>46</td>\n",
       "      <td></td>\n",
       "      <td>1003.0</td>\n",
       "      <td>Crown Royal VAP Glass+Coastr</td>\n",
       "      <td>750mL</td>\n",
       "      <td>0.0</td>\n",
       "      <td>22.99</td>\n",
       "      <td>2016-12-31</td>\n",
       "      <td>2025-05-27 18:54:18</td>\n",
       "    </tr>\n",
       "    <tr>\n",
       "      <th>101320</th>\n",
       "      <td>46__10058</td>\n",
       "      <td>46</td>\n",
       "      <td></td>\n",
       "      <td>10058.0</td>\n",
       "      <td>F Coppola Dmd Ivry Cab Svgn</td>\n",
       "      <td>750mL</td>\n",
       "      <td>0.0</td>\n",
       "      <td>14.99</td>\n",
       "      <td>2016-12-31</td>\n",
       "      <td>2025-05-27 18:54:18</td>\n",
       "    </tr>\n",
       "    <tr>\n",
       "      <th>101321</th>\n",
       "      <td>46__10236</td>\n",
       "      <td>46</td>\n",
       "      <td></td>\n",
       "      <td>10236.0</td>\n",
       "      <td>Layer Cake Malbec Mendoza</td>\n",
       "      <td>750mL</td>\n",
       "      <td>0.0</td>\n",
       "      <td>11.95</td>\n",
       "      <td>2016-12-31</td>\n",
       "      <td>2025-05-27 18:54:18</td>\n",
       "    </tr>\n",
       "    <tr>\n",
       "      <th>101322</th>\n",
       "      <td>46__10238</td>\n",
       "      <td>46</td>\n",
       "      <td></td>\n",
       "      <td>10238.0</td>\n",
       "      <td>Layer Cake Primitivo Puglia</td>\n",
       "      <td>750mL</td>\n",
       "      <td>0.0</td>\n",
       "      <td>15.99</td>\n",
       "      <td>2016-12-31</td>\n",
       "      <td>2025-05-27 18:54:18</td>\n",
       "    </tr>\n",
       "    <tr>\n",
       "      <th>101323</th>\n",
       "      <td>46__10266</td>\n",
       "      <td>46</td>\n",
       "      <td></td>\n",
       "      <td>10266.0</td>\n",
       "      <td>Klinker Brick Old Vine Znfdl</td>\n",
       "      <td>750mL</td>\n",
       "      <td>0.0</td>\n",
       "      <td>15.99</td>\n",
       "      <td>2016-12-31</td>\n",
       "      <td>2025-05-27 18:54:18</td>\n",
       "    </tr>\n",
       "    <tr>\n",
       "      <th>...</th>\n",
       "      <td>...</td>\n",
       "      <td>...</td>\n",
       "      <td>...</td>\n",
       "      <td>...</td>\n",
       "      <td>...</td>\n",
       "      <td>...</td>\n",
       "      <td>...</td>\n",
       "      <td>...</td>\n",
       "      <td>...</td>\n",
       "      <td>...</td>\n",
       "    </tr>\n",
       "    <tr>\n",
       "      <th>102598</th>\n",
       "      <td>46__9388</td>\n",
       "      <td>46</td>\n",
       "      <td></td>\n",
       "      <td>9388.0</td>\n",
       "      <td>Hennessy Privilege VSOP</td>\n",
       "      <td>375mL</td>\n",
       "      <td>0.0</td>\n",
       "      <td>23.99</td>\n",
       "      <td>2016-12-31</td>\n",
       "      <td>2025-05-27 18:54:18</td>\n",
       "    </tr>\n",
       "    <tr>\n",
       "      <th>102599</th>\n",
       "      <td>46__966</td>\n",
       "      <td>46</td>\n",
       "      <td></td>\n",
       "      <td>966.0</td>\n",
       "      <td>Patron Citronge Orange Liqu</td>\n",
       "      <td>750mL</td>\n",
       "      <td>0.0</td>\n",
       "      <td>20.99</td>\n",
       "      <td>2016-12-31</td>\n",
       "      <td>2025-05-27 18:54:18</td>\n",
       "    </tr>\n",
       "    <tr>\n",
       "      <th>102600</th>\n",
       "      <td>46__976</td>\n",
       "      <td>46</td>\n",
       "      <td></td>\n",
       "      <td>976.0</td>\n",
       "      <td>McCormick Gold Label Bourbon</td>\n",
       "      <td>Liter</td>\n",
       "      <td>0.0</td>\n",
       "      <td>9.49</td>\n",
       "      <td>2016-12-31</td>\n",
       "      <td>2025-05-27 18:54:18</td>\n",
       "    </tr>\n",
       "    <tr>\n",
       "      <th>102601</th>\n",
       "      <td>46__981</td>\n",
       "      <td>46</td>\n",
       "      <td></td>\n",
       "      <td>981.0</td>\n",
       "      <td>McCormick Triple Sec</td>\n",
       "      <td>Liter</td>\n",
       "      <td>0.0</td>\n",
       "      <td>3.99</td>\n",
       "      <td>2016-12-31</td>\n",
       "      <td>2025-05-27 18:54:18</td>\n",
       "    </tr>\n",
       "    <tr>\n",
       "      <th>102602</th>\n",
       "      <td>46__984</td>\n",
       "      <td>46</td>\n",
       "      <td></td>\n",
       "      <td>984.0</td>\n",
       "      <td>Patron XO Cafe Liqueur</td>\n",
       "      <td>750mL</td>\n",
       "      <td>0.0</td>\n",
       "      <td>25.99</td>\n",
       "      <td>2016-12-31</td>\n",
       "      <td>2025-05-27 18:54:18</td>\n",
       "    </tr>\n",
       "  </tbody>\n",
       "</table>\n",
       "<p>1284 rows × 10 columns</p>\n",
       "</div>"
      ],
      "text/plain": [
       "       InventoryId  Store City    Brand                   Description   Size  \\\n",
       "101319    46__1003     46        1003.0  Crown Royal VAP Glass+Coastr  750mL   \n",
       "101320   46__10058     46       10058.0   F Coppola Dmd Ivry Cab Svgn  750mL   \n",
       "101321   46__10236     46       10236.0     Layer Cake Malbec Mendoza  750mL   \n",
       "101322   46__10238     46       10238.0   Layer Cake Primitivo Puglia  750mL   \n",
       "101323   46__10266     46       10266.0  Klinker Brick Old Vine Znfdl  750mL   \n",
       "...            ...    ...  ...      ...                           ...    ...   \n",
       "102598    46__9388     46        9388.0       Hennessy Privilege VSOP  375mL   \n",
       "102599     46__966     46         966.0   Patron Citronge Orange Liqu  750mL   \n",
       "102600     46__976     46         976.0  McCormick Gold Label Bourbon  Liter   \n",
       "102601     46__981     46         981.0          McCormick Triple Sec  Liter   \n",
       "102602     46__984     46         984.0        Patron XO Cafe Liqueur  750mL   \n",
       "\n",
       "        onHand  Price    endDate fecha_actualizacion  \n",
       "101319     0.0  22.99 2016-12-31 2025-05-27 18:54:18  \n",
       "101320     0.0  14.99 2016-12-31 2025-05-27 18:54:18  \n",
       "101321     0.0  11.95 2016-12-31 2025-05-27 18:54:18  \n",
       "101322     0.0  15.99 2016-12-31 2025-05-27 18:54:18  \n",
       "101323     0.0  15.99 2016-12-31 2025-05-27 18:54:18  \n",
       "...        ...    ...        ...                 ...  \n",
       "102598     0.0  23.99 2016-12-31 2025-05-27 18:54:18  \n",
       "102599     0.0  20.99 2016-12-31 2025-05-27 18:54:18  \n",
       "102600     0.0   9.49 2016-12-31 2025-05-27 18:54:18  \n",
       "102601     0.0   3.99 2016-12-31 2025-05-27 18:54:18  \n",
       "102602     0.0  25.99 2016-12-31 2025-05-27 18:54:18  \n",
       "\n",
       "[1284 rows x 10 columns]"
      ]
     },
     "execution_count": 100,
     "metadata": {},
     "output_type": "execute_result"
    }
   ],
   "source": [
    "df6[df6['InventoryId'].str.contains('__', na=False)]"
   ]
  },
  {
   "cell_type": "code",
   "execution_count": 120,
   "id": "d04dc6ab",
   "metadata": {},
   "outputs": [],
   "source": [
    "# Diccionario de Store -> City\n",
    "city_map = df5.dropna(subset=['City']).drop_duplicates(subset=['Store'])\n",
    "store_to_city = dict(zip(city_map['Store'], city_map['City']))\n"
   ]
  },
  {
   "cell_type": "code",
   "execution_count": 121,
   "id": "8b4c3f20",
   "metadata": {},
   "outputs": [],
   "source": [
    "# Reemplazo solo donde City está vacío o es NaN\n",
    "df6['City'] = df6.apply(\n",
    "    lambda row: store_to_city.get(row['Store'], row['City']) \n",
    "    if pd.isna(row['City']) or row['City'].strip() == \"\" \n",
    "    else row['City'],\n",
    "    axis=1\n",
    ")"
   ]
  },
  {
   "cell_type": "code",
   "execution_count": 122,
   "id": "d646a2b6",
   "metadata": {},
   "outputs": [
    {
     "data": {
      "application/vnd.microsoft.datawrangler.viewer.v0+json": {
       "columns": [
        {
         "name": "index",
         "rawType": "int64",
         "type": "integer"
        },
        {
         "name": "InventoryId",
         "rawType": "object",
         "type": "string"
        },
        {
         "name": "Store",
         "rawType": "int64",
         "type": "integer"
        },
        {
         "name": "City",
         "rawType": "object",
         "type": "string"
        },
        {
         "name": "Brand",
         "rawType": "float64",
         "type": "float"
        },
        {
         "name": "Description",
         "rawType": "object",
         "type": "string"
        },
        {
         "name": "Size",
         "rawType": "object",
         "type": "string"
        },
        {
         "name": "onHand",
         "rawType": "float64",
         "type": "float"
        },
        {
         "name": "Price",
         "rawType": "float64",
         "type": "float"
        },
        {
         "name": "endDate",
         "rawType": "datetime64[ns]",
         "type": "datetime"
        },
        {
         "name": "fecha_actualizacion",
         "rawType": "datetime64[ns]",
         "type": "datetime"
        }
       ],
       "ref": "cd4a4e6e-f8fd-49f8-b737-b57d1ec4ce54",
       "rows": [],
       "shape": {
        "columns": 10,
        "rows": 0
       }
      },
      "text/html": [
       "<div>\n",
       "<style scoped>\n",
       "    .dataframe tbody tr th:only-of-type {\n",
       "        vertical-align: middle;\n",
       "    }\n",
       "\n",
       "    .dataframe tbody tr th {\n",
       "        vertical-align: top;\n",
       "    }\n",
       "\n",
       "    .dataframe thead th {\n",
       "        text-align: right;\n",
       "    }\n",
       "</style>\n",
       "<table border=\"1\" class=\"dataframe\">\n",
       "  <thead>\n",
       "    <tr style=\"text-align: right;\">\n",
       "      <th></th>\n",
       "      <th>InventoryId</th>\n",
       "      <th>Store</th>\n",
       "      <th>City</th>\n",
       "      <th>Brand</th>\n",
       "      <th>Description</th>\n",
       "      <th>Size</th>\n",
       "      <th>onHand</th>\n",
       "      <th>Price</th>\n",
       "      <th>endDate</th>\n",
       "      <th>fecha_actualizacion</th>\n",
       "    </tr>\n",
       "  </thead>\n",
       "  <tbody>\n",
       "  </tbody>\n",
       "</table>\n",
       "</div>"
      ],
      "text/plain": [
       "Empty DataFrame\n",
       "Columns: [InventoryId, Store, City, Brand, Description, Size, onHand, Price, endDate, fecha_actualizacion]\n",
       "Index: []"
      ]
     },
     "execution_count": 122,
     "metadata": {},
     "output_type": "execute_result"
    }
   ],
   "source": [
    "df6[(df6['City'].isnull()) | (df6['City'] == \"\")]"
   ]
  },
  {
   "cell_type": "code",
   "execution_count": 123,
   "id": "cd07b1d9",
   "metadata": {},
   "outputs": [],
   "source": [
    "mask = df6['InventoryId'].str.contains('__', na=False)\n",
    "\n",
    "df6.loc[mask, 'InventoryId'] = df6.loc[mask].apply(\n",
    "    lambda row: row['InventoryId'].replace('_', f\"{row['City']}_\") if pd.notnull(row['City']) else row['InventoryId'],\n",
    "    axis=1\n",
    ")\n"
   ]
  },
  {
   "cell_type": "code",
   "execution_count": 124,
   "id": "e3930b6e",
   "metadata": {},
   "outputs": [
    {
     "data": {
      "application/vnd.microsoft.datawrangler.viewer.v0+json": {
       "columns": [
        {
         "name": "index",
         "rawType": "int64",
         "type": "integer"
        },
        {
         "name": "InventoryId",
         "rawType": "object",
         "type": "string"
        },
        {
         "name": "Store",
         "rawType": "int64",
         "type": "integer"
        },
        {
         "name": "City",
         "rawType": "object",
         "type": "string"
        },
        {
         "name": "Brand",
         "rawType": "float64",
         "type": "float"
        },
        {
         "name": "Description",
         "rawType": "object",
         "type": "string"
        },
        {
         "name": "Size",
         "rawType": "object",
         "type": "string"
        },
        {
         "name": "onHand",
         "rawType": "float64",
         "type": "float"
        },
        {
         "name": "Price",
         "rawType": "float64",
         "type": "float"
        },
        {
         "name": "endDate",
         "rawType": "datetime64[ns]",
         "type": "datetime"
        },
        {
         "name": "fecha_actualizacion",
         "rawType": "datetime64[ns]",
         "type": "datetime"
        }
       ],
       "ref": "695cb9f0-517b-45b5-bacf-f9f097d12030",
       "rows": [],
       "shape": {
        "columns": 10,
        "rows": 0
       }
      },
      "text/html": [
       "<div>\n",
       "<style scoped>\n",
       "    .dataframe tbody tr th:only-of-type {\n",
       "        vertical-align: middle;\n",
       "    }\n",
       "\n",
       "    .dataframe tbody tr th {\n",
       "        vertical-align: top;\n",
       "    }\n",
       "\n",
       "    .dataframe thead th {\n",
       "        text-align: right;\n",
       "    }\n",
       "</style>\n",
       "<table border=\"1\" class=\"dataframe\">\n",
       "  <thead>\n",
       "    <tr style=\"text-align: right;\">\n",
       "      <th></th>\n",
       "      <th>InventoryId</th>\n",
       "      <th>Store</th>\n",
       "      <th>City</th>\n",
       "      <th>Brand</th>\n",
       "      <th>Description</th>\n",
       "      <th>Size</th>\n",
       "      <th>onHand</th>\n",
       "      <th>Price</th>\n",
       "      <th>endDate</th>\n",
       "      <th>fecha_actualizacion</th>\n",
       "    </tr>\n",
       "  </thead>\n",
       "  <tbody>\n",
       "  </tbody>\n",
       "</table>\n",
       "</div>"
      ],
      "text/plain": [
       "Empty DataFrame\n",
       "Columns: [InventoryId, Store, City, Brand, Description, Size, onHand, Price, endDate, fecha_actualizacion]\n",
       "Index: []"
      ]
     },
     "execution_count": 124,
     "metadata": {},
     "output_type": "execute_result"
    }
   ],
   "source": [
    "df6[df6['InventoryId'].str.contains('__', na=False)]"
   ]
  },
  {
   "cell_type": "code",
   "execution_count": 125,
   "id": "b6d603f6",
   "metadata": {},
   "outputs": [
    {
     "data": {
      "application/vnd.microsoft.datawrangler.viewer.v0+json": {
       "columns": [
        {
         "name": "index",
         "rawType": "int64",
         "type": "integer"
        },
        {
         "name": "InventoryId",
         "rawType": "object",
         "type": "string"
        },
        {
         "name": "Store",
         "rawType": "int64",
         "type": "integer"
        },
        {
         "name": "City",
         "rawType": "object",
         "type": "string"
        },
        {
         "name": "Brand",
         "rawType": "float64",
         "type": "float"
        },
        {
         "name": "Description",
         "rawType": "object",
         "type": "string"
        },
        {
         "name": "Size",
         "rawType": "object",
         "type": "string"
        },
        {
         "name": "onHand",
         "rawType": "float64",
         "type": "float"
        },
        {
         "name": "Price",
         "rawType": "float64",
         "type": "float"
        },
        {
         "name": "endDate",
         "rawType": "datetime64[ns]",
         "type": "datetime"
        },
        {
         "name": "fecha_actualizacion",
         "rawType": "datetime64[ns]",
         "type": "datetime"
        }
       ],
       "ref": "d0282e18-c86f-45f8-9215-06647da66931",
       "rows": [
        [
         "6",
         "1_HARDERSFIELD_1001",
         "1",
         "HARDERSFIELD",
         "1001.0",
         "Baileys 50mL 4 Pack",
         "50mL 4 Pk",
         "0.0",
         "5.99",
         "2016-12-31 00:00:00",
         "2025-05-27 18:54:18"
        ],
        [
         "7",
         "1_HARDERSFIELD_10021",
         "1",
         "HARDERSFIELD",
         "10021.0",
         "Clayhouse Syrah Paso Robles",
         "750mL",
         "23.0",
         "13.99",
         "2016-12-31 00:00:00",
         "2025-05-27 18:54:18"
        ],
        [
         "8",
         "1_HARDERSFIELD_1003",
         "1",
         "HARDERSFIELD",
         "1003.0",
         "Crown Royal VAP Glass+Coastr",
         "750mL",
         "0.0",
         "22.99",
         "2016-12-31 00:00:00",
         "2025-05-27 18:54:18"
        ],
        [
         "9",
         "1_HARDERSFIELD_10058",
         "1",
         "HARDERSFIELD",
         "10058.0",
         "F Coppola Dmd Ivry Cab Svgn",
         "750mL",
         "47.0",
         "14.99",
         "2016-12-31 00:00:00",
         "2025-05-27 18:54:18"
        ],
        [
         "10",
         "1_HARDERSFIELD_10062",
         "1",
         "HARDERSFIELD",
         "10062.0",
         "B de Beauchene CDR Rouge",
         "750mL",
         "29.0",
         "8.99",
         "2016-12-31 00:00:00",
         "2025-05-27 18:54:18"
        ]
       ],
       "shape": {
        "columns": 10,
        "rows": 5
       }
      },
      "text/html": [
       "<div>\n",
       "<style scoped>\n",
       "    .dataframe tbody tr th:only-of-type {\n",
       "        vertical-align: middle;\n",
       "    }\n",
       "\n",
       "    .dataframe tbody tr th {\n",
       "        vertical-align: top;\n",
       "    }\n",
       "\n",
       "    .dataframe thead th {\n",
       "        text-align: right;\n",
       "    }\n",
       "</style>\n",
       "<table border=\"1\" class=\"dataframe\">\n",
       "  <thead>\n",
       "    <tr style=\"text-align: right;\">\n",
       "      <th></th>\n",
       "      <th>InventoryId</th>\n",
       "      <th>Store</th>\n",
       "      <th>City</th>\n",
       "      <th>Brand</th>\n",
       "      <th>Description</th>\n",
       "      <th>Size</th>\n",
       "      <th>onHand</th>\n",
       "      <th>Price</th>\n",
       "      <th>endDate</th>\n",
       "      <th>fecha_actualizacion</th>\n",
       "    </tr>\n",
       "  </thead>\n",
       "  <tbody>\n",
       "    <tr>\n",
       "      <th>6</th>\n",
       "      <td>1_HARDERSFIELD_1001</td>\n",
       "      <td>1</td>\n",
       "      <td>HARDERSFIELD</td>\n",
       "      <td>1001.0</td>\n",
       "      <td>Baileys 50mL 4 Pack</td>\n",
       "      <td>50mL 4 Pk</td>\n",
       "      <td>0.0</td>\n",
       "      <td>5.99</td>\n",
       "      <td>2016-12-31</td>\n",
       "      <td>2025-05-27 18:54:18</td>\n",
       "    </tr>\n",
       "    <tr>\n",
       "      <th>7</th>\n",
       "      <td>1_HARDERSFIELD_10021</td>\n",
       "      <td>1</td>\n",
       "      <td>HARDERSFIELD</td>\n",
       "      <td>10021.0</td>\n",
       "      <td>Clayhouse Syrah Paso Robles</td>\n",
       "      <td>750mL</td>\n",
       "      <td>23.0</td>\n",
       "      <td>13.99</td>\n",
       "      <td>2016-12-31</td>\n",
       "      <td>2025-05-27 18:54:18</td>\n",
       "    </tr>\n",
       "    <tr>\n",
       "      <th>8</th>\n",
       "      <td>1_HARDERSFIELD_1003</td>\n",
       "      <td>1</td>\n",
       "      <td>HARDERSFIELD</td>\n",
       "      <td>1003.0</td>\n",
       "      <td>Crown Royal VAP Glass+Coastr</td>\n",
       "      <td>750mL</td>\n",
       "      <td>0.0</td>\n",
       "      <td>22.99</td>\n",
       "      <td>2016-12-31</td>\n",
       "      <td>2025-05-27 18:54:18</td>\n",
       "    </tr>\n",
       "    <tr>\n",
       "      <th>9</th>\n",
       "      <td>1_HARDERSFIELD_10058</td>\n",
       "      <td>1</td>\n",
       "      <td>HARDERSFIELD</td>\n",
       "      <td>10058.0</td>\n",
       "      <td>F Coppola Dmd Ivry Cab Svgn</td>\n",
       "      <td>750mL</td>\n",
       "      <td>47.0</td>\n",
       "      <td>14.99</td>\n",
       "      <td>2016-12-31</td>\n",
       "      <td>2025-05-27 18:54:18</td>\n",
       "    </tr>\n",
       "    <tr>\n",
       "      <th>10</th>\n",
       "      <td>1_HARDERSFIELD_10062</td>\n",
       "      <td>1</td>\n",
       "      <td>HARDERSFIELD</td>\n",
       "      <td>10062.0</td>\n",
       "      <td>B de Beauchene CDR Rouge</td>\n",
       "      <td>750mL</td>\n",
       "      <td>29.0</td>\n",
       "      <td>8.99</td>\n",
       "      <td>2016-12-31</td>\n",
       "      <td>2025-05-27 18:54:18</td>\n",
       "    </tr>\n",
       "  </tbody>\n",
       "</table>\n",
       "</div>"
      ],
      "text/plain": [
       "             InventoryId  Store          City    Brand  \\\n",
       "6    1_HARDERSFIELD_1001      1  HARDERSFIELD   1001.0   \n",
       "7   1_HARDERSFIELD_10021      1  HARDERSFIELD  10021.0   \n",
       "8    1_HARDERSFIELD_1003      1  HARDERSFIELD   1003.0   \n",
       "9   1_HARDERSFIELD_10058      1  HARDERSFIELD  10058.0   \n",
       "10  1_HARDERSFIELD_10062      1  HARDERSFIELD  10062.0   \n",
       "\n",
       "                     Description       Size  onHand  Price    endDate  \\\n",
       "6            Baileys 50mL 4 Pack  50mL 4 Pk     0.0   5.99 2016-12-31   \n",
       "7    Clayhouse Syrah Paso Robles      750mL    23.0  13.99 2016-12-31   \n",
       "8   Crown Royal VAP Glass+Coastr      750mL     0.0  22.99 2016-12-31   \n",
       "9    F Coppola Dmd Ivry Cab Svgn      750mL    47.0  14.99 2016-12-31   \n",
       "10      B de Beauchene CDR Rouge      750mL    29.0   8.99 2016-12-31   \n",
       "\n",
       "   fecha_actualizacion  \n",
       "6  2025-05-27 18:54:18  \n",
       "7  2025-05-27 18:54:18  \n",
       "8  2025-05-27 18:54:18  \n",
       "9  2025-05-27 18:54:18  \n",
       "10 2025-05-27 18:54:18  "
      ]
     },
     "execution_count": 125,
     "metadata": {},
     "output_type": "execute_result"
    }
   ],
   "source": [
    "df6.head()"
   ]
  },
  {
   "cell_type": "code",
   "execution_count": 126,
   "id": "e34822bc",
   "metadata": {},
   "outputs": [],
   "source": [
    "def remove_whitespace(df,*columns):\n",
    "    for column in columns:\n",
    "        df[column]=df[column].str.strip()\n",
    "    return df\n",
    "\n",
    "df6=remove_whitespace(df6,'City','Description')"
   ]
  },
  {
   "cell_type": "code",
   "execution_count": 127,
   "id": "727387d9",
   "metadata": {},
   "outputs": [],
   "source": [
    "def typecast_date(df,*columns):\n",
    "    for column in columns:\n",
    "        df[column]=pd.to_datetime(df[column])\n",
    "    return df\n",
    "\n",
    "df6=typecast_date(df6,'endDate')"
   ]
  },
  {
   "cell_type": "code",
   "execution_count": 109,
   "id": "bf58d35c",
   "metadata": {},
   "outputs": [],
   "source": [
    "#Ya hicimos toda la limpieza, guardamos\n",
    "df6.to_csv('EndInvFINAL12312016_Modificado.csv', index=False)"
   ]
  },
  {
   "cell_type": "markdown",
   "id": "94782224",
   "metadata": {},
   "source": [
    "## Aca hago un paso extra en df2, para reemplazar los valores faltantes en inventoryID:"
   ]
  },
  {
   "cell_type": "code",
   "execution_count": 159,
   "id": "6a3424c5",
   "metadata": {},
   "outputs": [
    {
     "data": {
      "application/vnd.microsoft.datawrangler.viewer.v0+json": {
       "columns": [
        {
         "name": "index",
         "rawType": "int64",
         "type": "integer"
        },
        {
         "name": "InventoryId",
         "rawType": "object",
         "type": "string"
        },
        {
         "name": "Store",
         "rawType": "int64",
         "type": "integer"
        },
        {
         "name": "Brand",
         "rawType": "int64",
         "type": "integer"
        },
        {
         "name": "Description",
         "rawType": "object",
         "type": "string"
        },
        {
         "name": "Size",
         "rawType": "object",
         "type": "string"
        },
        {
         "name": "VendorNumber",
         "rawType": "int64",
         "type": "integer"
        },
        {
         "name": "VendorName",
         "rawType": "object",
         "type": "string"
        },
        {
         "name": "PONumber",
         "rawType": "int64",
         "type": "integer"
        },
        {
         "name": "PODate",
         "rawType": "datetime64[ns]",
         "type": "datetime"
        },
        {
         "name": "ReceivingDate",
         "rawType": "datetime64[ns]",
         "type": "datetime"
        },
        {
         "name": "InvoiceDate",
         "rawType": "datetime64[ns]",
         "type": "datetime"
        },
        {
         "name": "PayDate",
         "rawType": "datetime64[ns]",
         "type": "datetime"
        },
        {
         "name": "PurchasePrice",
         "rawType": "float64",
         "type": "float"
        },
        {
         "name": "Quantity",
         "rawType": "int64",
         "type": "integer"
        },
        {
         "name": "Dollars",
         "rawType": "float64",
         "type": "float"
        },
        {
         "name": "Classification",
         "rawType": "int64",
         "type": "integer"
        },
        {
         "name": "fecha_actualizacion",
         "rawType": "datetime64[ns]",
         "type": "datetime"
        }
       ],
       "ref": "4ce2b53e-01a8-4ca7-8ef8-cd408e1fdb46",
       "rows": [
        [
         "0",
         "30_CULCHETH_5255",
         "30",
         "5255",
         "TGI Fridays Ultimte Mudslide",
         "1.75L",
         "4466",
         "AMERICAN VINTAGE BEVERAGE",
         "8137",
         "2015-12-22 00:00:00",
         "2016-01-01 00:00:00",
         "2016-01-07 00:00:00",
         "2016-02-21 00:00:00",
         "9.35",
         "4",
         "37.4",
         "1",
         "2025-05-27 18:54:37"
        ],
        [
         "1",
         "34_PITMERDEN_5215",
         "34",
         "5215",
         "TGI Fridays Long Island Iced",
         "1.75L",
         "4466",
         "AMERICAN VINTAGE BEVERAGE",
         "8137",
         "2015-12-22 00:00:00",
         "2016-01-02 00:00:00",
         "2016-01-07 00:00:00",
         "2016-02-21 00:00:00",
         "9.41",
         "5",
         "47.05",
         "1",
         "2025-05-27 18:54:37"
        ],
        [
         "2",
         "1_HARDERSFIELD_5255",
         "1",
         "5255",
         "TGI Fridays Ultimte Mudslide",
         "1.75L",
         "4466",
         "AMERICAN VINTAGE BEVERAGE",
         "8137",
         "2015-12-22 00:00:00",
         "2016-01-01 00:00:00",
         "2016-01-07 00:00:00",
         "2016-02-21 00:00:00",
         "9.35",
         "6",
         "56.1",
         "1",
         "2025-05-27 18:54:37"
        ],
        [
         "3",
         "76_DONCASTER_2034",
         "76",
         "2034",
         "Glendalough Double Barrel",
         "750mL",
         "388",
         "ATLANTIC IMPORTING COMPANY",
         "8169",
         "2015-12-24 00:00:00",
         "2016-01-02 00:00:00",
         "2016-01-09 00:00:00",
         "2016-02-16 00:00:00",
         "21.32",
         "5",
         "106.6",
         "1",
         "2025-05-27 18:54:37"
        ],
        [
         "4",
         "5_SUTTON_3348",
         "5",
         "3348",
         "Bombay Sapphire Gin",
         "1.75L",
         "480",
         "BACARDI USA INC",
         "8106",
         "2015-12-20 00:00:00",
         "2016-01-02 00:00:00",
         "2016-01-12 00:00:00",
         "2016-02-05 00:00:00",
         "22.38",
         "6",
         "134.28",
         "1",
         "2025-05-27 18:54:37"
        ]
       ],
       "shape": {
        "columns": 17,
        "rows": 5
       }
      },
      "text/html": [
       "<div>\n",
       "<style scoped>\n",
       "    .dataframe tbody tr th:only-of-type {\n",
       "        vertical-align: middle;\n",
       "    }\n",
       "\n",
       "    .dataframe tbody tr th {\n",
       "        vertical-align: top;\n",
       "    }\n",
       "\n",
       "    .dataframe thead th {\n",
       "        text-align: right;\n",
       "    }\n",
       "</style>\n",
       "<table border=\"1\" class=\"dataframe\">\n",
       "  <thead>\n",
       "    <tr style=\"text-align: right;\">\n",
       "      <th></th>\n",
       "      <th>InventoryId</th>\n",
       "      <th>Store</th>\n",
       "      <th>Brand</th>\n",
       "      <th>Description</th>\n",
       "      <th>Size</th>\n",
       "      <th>VendorNumber</th>\n",
       "      <th>VendorName</th>\n",
       "      <th>PONumber</th>\n",
       "      <th>PODate</th>\n",
       "      <th>ReceivingDate</th>\n",
       "      <th>InvoiceDate</th>\n",
       "      <th>PayDate</th>\n",
       "      <th>PurchasePrice</th>\n",
       "      <th>Quantity</th>\n",
       "      <th>Dollars</th>\n",
       "      <th>Classification</th>\n",
       "      <th>fecha_actualizacion</th>\n",
       "    </tr>\n",
       "  </thead>\n",
       "  <tbody>\n",
       "    <tr>\n",
       "      <th>0</th>\n",
       "      <td>30_CULCHETH_5255</td>\n",
       "      <td>30</td>\n",
       "      <td>5255</td>\n",
       "      <td>TGI Fridays Ultimte Mudslide</td>\n",
       "      <td>1.75L</td>\n",
       "      <td>4466</td>\n",
       "      <td>AMERICAN VINTAGE BEVERAGE</td>\n",
       "      <td>8137</td>\n",
       "      <td>2015-12-22</td>\n",
       "      <td>2016-01-01</td>\n",
       "      <td>2016-01-07</td>\n",
       "      <td>2016-02-21</td>\n",
       "      <td>9.35</td>\n",
       "      <td>4</td>\n",
       "      <td>37.40</td>\n",
       "      <td>1</td>\n",
       "      <td>2025-05-27 18:54:37</td>\n",
       "    </tr>\n",
       "    <tr>\n",
       "      <th>1</th>\n",
       "      <td>34_PITMERDEN_5215</td>\n",
       "      <td>34</td>\n",
       "      <td>5215</td>\n",
       "      <td>TGI Fridays Long Island Iced</td>\n",
       "      <td>1.75L</td>\n",
       "      <td>4466</td>\n",
       "      <td>AMERICAN VINTAGE BEVERAGE</td>\n",
       "      <td>8137</td>\n",
       "      <td>2015-12-22</td>\n",
       "      <td>2016-01-02</td>\n",
       "      <td>2016-01-07</td>\n",
       "      <td>2016-02-21</td>\n",
       "      <td>9.41</td>\n",
       "      <td>5</td>\n",
       "      <td>47.05</td>\n",
       "      <td>1</td>\n",
       "      <td>2025-05-27 18:54:37</td>\n",
       "    </tr>\n",
       "    <tr>\n",
       "      <th>2</th>\n",
       "      <td>1_HARDERSFIELD_5255</td>\n",
       "      <td>1</td>\n",
       "      <td>5255</td>\n",
       "      <td>TGI Fridays Ultimte Mudslide</td>\n",
       "      <td>1.75L</td>\n",
       "      <td>4466</td>\n",
       "      <td>AMERICAN VINTAGE BEVERAGE</td>\n",
       "      <td>8137</td>\n",
       "      <td>2015-12-22</td>\n",
       "      <td>2016-01-01</td>\n",
       "      <td>2016-01-07</td>\n",
       "      <td>2016-02-21</td>\n",
       "      <td>9.35</td>\n",
       "      <td>6</td>\n",
       "      <td>56.10</td>\n",
       "      <td>1</td>\n",
       "      <td>2025-05-27 18:54:37</td>\n",
       "    </tr>\n",
       "    <tr>\n",
       "      <th>3</th>\n",
       "      <td>76_DONCASTER_2034</td>\n",
       "      <td>76</td>\n",
       "      <td>2034</td>\n",
       "      <td>Glendalough Double Barrel</td>\n",
       "      <td>750mL</td>\n",
       "      <td>388</td>\n",
       "      <td>ATLANTIC IMPORTING COMPANY</td>\n",
       "      <td>8169</td>\n",
       "      <td>2015-12-24</td>\n",
       "      <td>2016-01-02</td>\n",
       "      <td>2016-01-09</td>\n",
       "      <td>2016-02-16</td>\n",
       "      <td>21.32</td>\n",
       "      <td>5</td>\n",
       "      <td>106.60</td>\n",
       "      <td>1</td>\n",
       "      <td>2025-05-27 18:54:37</td>\n",
       "    </tr>\n",
       "    <tr>\n",
       "      <th>4</th>\n",
       "      <td>5_SUTTON_3348</td>\n",
       "      <td>5</td>\n",
       "      <td>3348</td>\n",
       "      <td>Bombay Sapphire Gin</td>\n",
       "      <td>1.75L</td>\n",
       "      <td>480</td>\n",
       "      <td>BACARDI USA INC</td>\n",
       "      <td>8106</td>\n",
       "      <td>2015-12-20</td>\n",
       "      <td>2016-01-02</td>\n",
       "      <td>2016-01-12</td>\n",
       "      <td>2016-02-05</td>\n",
       "      <td>22.38</td>\n",
       "      <td>6</td>\n",
       "      <td>134.28</td>\n",
       "      <td>1</td>\n",
       "      <td>2025-05-27 18:54:37</td>\n",
       "    </tr>\n",
       "  </tbody>\n",
       "</table>\n",
       "</div>"
      ],
      "text/plain": [
       "           InventoryId  Store  Brand                   Description   Size  \\\n",
       "0     30_CULCHETH_5255     30   5255  TGI Fridays Ultimte Mudslide  1.75L   \n",
       "1    34_PITMERDEN_5215     34   5215  TGI Fridays Long Island Iced  1.75L   \n",
       "2  1_HARDERSFIELD_5255      1   5255  TGI Fridays Ultimte Mudslide  1.75L   \n",
       "3    76_DONCASTER_2034     76   2034     Glendalough Double Barrel  750mL   \n",
       "4        5_SUTTON_3348      5   3348           Bombay Sapphire Gin  1.75L   \n",
       "\n",
       "   VendorNumber                  VendorName  PONumber     PODate  \\\n",
       "0          4466   AMERICAN VINTAGE BEVERAGE      8137 2015-12-22   \n",
       "1          4466   AMERICAN VINTAGE BEVERAGE      8137 2015-12-22   \n",
       "2          4466   AMERICAN VINTAGE BEVERAGE      8137 2015-12-22   \n",
       "3           388  ATLANTIC IMPORTING COMPANY      8169 2015-12-24   \n",
       "4           480             BACARDI USA INC      8106 2015-12-20   \n",
       "\n",
       "  ReceivingDate InvoiceDate    PayDate  PurchasePrice  Quantity  Dollars  \\\n",
       "0    2016-01-01  2016-01-07 2016-02-21           9.35         4    37.40   \n",
       "1    2016-01-02  2016-01-07 2016-02-21           9.41         5    47.05   \n",
       "2    2016-01-01  2016-01-07 2016-02-21           9.35         6    56.10   \n",
       "3    2016-01-02  2016-01-09 2016-02-16          21.32         5   106.60   \n",
       "4    2016-01-02  2016-01-12 2016-02-05          22.38         6   134.28   \n",
       "\n",
       "   Classification fecha_actualizacion  \n",
       "0               1 2025-05-27 18:54:37  \n",
       "1               1 2025-05-27 18:54:37  \n",
       "2               1 2025-05-27 18:54:37  \n",
       "3               1 2025-05-27 18:54:37  \n",
       "4               1 2025-05-27 18:54:37  "
      ]
     },
     "execution_count": 159,
     "metadata": {},
     "output_type": "execute_result"
    }
   ],
   "source": [
    "df2.head()"
   ]
  },
  {
   "cell_type": "code",
   "execution_count": 160,
   "id": "cea1add6",
   "metadata": {},
   "outputs": [],
   "source": [
    "\n",
    "# Solo columnas necesarias\n",
    "df_city = df5[['Store', 'City']].drop_duplicates(subset=['Store']).dropna()\n",
    "\n",
    "# Merge con df2\n",
    "df2 = df2.merge(df_city, on='Store', how='left', suffixes=('', '_new'))\n",
    "\n",
    "# Filtro para IDs con '__'\n",
    "mask = df2['InventoryId'].str.contains('__', na=False)\n",
    "\n",
    "# Reemplazo\n",
    "df2.loc[mask, 'InventoryId'] = df2.loc[mask].apply(\n",
    "    lambda row: row['InventoryId'].replace('_', f\"{row['City']}_\") if pd.notnull(row['City']) else row['InventoryId'],\n",
    "    axis=1\n",
    ")"
   ]
  },
  {
   "cell_type": "code",
   "execution_count": 161,
   "id": "56958de1",
   "metadata": {},
   "outputs": [
    {
     "data": {
      "application/vnd.microsoft.datawrangler.viewer.v0+json": {
       "columns": [
        {
         "name": "index",
         "rawType": "int64",
         "type": "integer"
        },
        {
         "name": "InventoryId",
         "rawType": "object",
         "type": "string"
        },
        {
         "name": "Store",
         "rawType": "int64",
         "type": "integer"
        },
        {
         "name": "Brand",
         "rawType": "int64",
         "type": "integer"
        },
        {
         "name": "Description",
         "rawType": "object",
         "type": "string"
        },
        {
         "name": "Size",
         "rawType": "object",
         "type": "string"
        },
        {
         "name": "VendorNumber",
         "rawType": "int64",
         "type": "integer"
        },
        {
         "name": "VendorName",
         "rawType": "object",
         "type": "string"
        },
        {
         "name": "PONumber",
         "rawType": "int64",
         "type": "integer"
        },
        {
         "name": "PODate",
         "rawType": "datetime64[ns]",
         "type": "datetime"
        },
        {
         "name": "ReceivingDate",
         "rawType": "datetime64[ns]",
         "type": "datetime"
        },
        {
         "name": "InvoiceDate",
         "rawType": "datetime64[ns]",
         "type": "datetime"
        },
        {
         "name": "PayDate",
         "rawType": "datetime64[ns]",
         "type": "datetime"
        },
        {
         "name": "PurchasePrice",
         "rawType": "float64",
         "type": "float"
        },
        {
         "name": "Quantity",
         "rawType": "int64",
         "type": "integer"
        },
        {
         "name": "Dollars",
         "rawType": "float64",
         "type": "float"
        },
        {
         "name": "Classification",
         "rawType": "int64",
         "type": "integer"
        },
        {
         "name": "fecha_actualizacion",
         "rawType": "datetime64[ns]",
         "type": "datetime"
        },
        {
         "name": "City",
         "rawType": "object",
         "type": "unknown"
        }
       ],
       "ref": "b2b1a0c1-476c-4f35-afbd-1307c3066a8b",
       "rows": [
        [
         "1502548",
         "81__90088",
         "81",
         "90088",
         "Ch Le Petite Mouton 12 Pauil",
         "750mL",
         "1703",
         "ALISA CARR BEVERAGES",
         "11816",
         "2016-08-26 00:00:00",
         "2016-08-29 00:00:00",
         "2016-09-05 00:00:00",
         "2016-10-22 00:00:00",
         "92.46",
         "3",
         "277.38",
         "2",
         "2025-05-27 18:54:37",
         null
        ],
        [
         "1502552",
         "81__90604",
         "81",
         "90604",
         "Ch Lynch Bages Pauilac",
         "750mL",
         "1703",
         "ALISA CARR BEVERAGES",
         "11816",
         "2016-08-26 00:00:00",
         "2016-08-29 00:00:00",
         "2016-09-05 00:00:00",
         "2016-10-22 00:00:00",
         "78.42",
         "2",
         "156.84",
         "2",
         "2025-05-27 18:54:37",
         null
        ],
        [
         "1502555",
         "81__90087",
         "81",
         "90087",
         "Ch Mouton Rothschild 12 Paui",
         "750mL",
         "1703",
         "ALISA CARR BEVERAGES",
         "11816",
         "2016-08-26 00:00:00",
         "2016-08-29 00:00:00",
         "2016-09-05 00:00:00",
         "2016-10-22 00:00:00",
         "311.25",
         "3",
         "933.75",
         "2",
         "2025-05-27 18:54:37",
         null
        ],
        [
         "1504656",
         "81__22840",
         "81",
         "22840",
         "Banfi Poggio All'Oro Br Mont",
         "750mL",
         "516",
         "BANFI PRODUCTS CORP",
         "11818",
         "2016-08-26 00:00:00",
         "2016-08-29 00:00:00",
         "2016-09-12 00:00:00",
         "2016-10-08 00:00:00",
         "83.86",
         "2",
         "167.72",
         "2",
         "2025-05-27 18:54:37",
         null
        ],
        [
         "1511621",
         "81__11321",
         "81",
         "11321",
         "BV GDL Private Rsv Cab Svgn",
         "750mL",
         "1590",
         "DIAGEO CHATEAU ESTATE WINES",
         "11819",
         "2016-08-26 00:00:00",
         "2016-08-29 00:00:00",
         "2016-09-08 00:00:00",
         "2016-10-11 00:00:00",
         "77.88",
         "3",
         "233.64",
         "2",
         "2025-05-27 18:54:37",
         null
        ],
        [
         "1526746",
         "81__22054",
         "81",
         "22054",
         "Lokoya Spring Mtn Cab Svgn",
         "750mL",
         "9552",
         "M S WALKER INC",
         "11756",
         "2016-08-22 00:00:00",
         "2016-08-29 00:00:00",
         "2016-09-13 00:00:00",
         "2016-10-08 00:00:00",
         "211.03",
         "3",
         "633.09",
         "2",
         "2025-05-27 18:54:37",
         null
        ],
        [
         "1527105",
         "81__16896",
         "81",
         "16896",
         "Nicolas Catena Zapata Mendza",
         "750mL",
         "9552",
         "M S WALKER INC",
         "11756",
         "2016-08-22 00:00:00",
         "2016-08-29 00:00:00",
         "2016-09-13 00:00:00",
         "2016-10-08 00:00:00",
         "71.42",
         "3",
         "214.26",
         "2",
         "2025-05-27 18:54:37",
         null
        ],
        [
         "1527479",
         "81__22052",
         "81",
         "22052",
         "Lokoya Howell Mtn Cab Svgn",
         "750mL",
         "9552",
         "M S WALKER INC",
         "11756",
         "2016-08-22 00:00:00",
         "2016-08-29 00:00:00",
         "2016-09-13 00:00:00",
         "2016-10-08 00:00:00",
         "215.23",
         "2",
         "430.46",
         "2",
         "2025-05-27 18:54:37",
         null
        ],
        [
         "1528948",
         "81__21737",
         "81",
         "21737",
         "Paul Hobbs Beckstoffer Cab S",
         "750mL",
         "4425",
         "MARTIGNETTI COMPANIES",
         "11781",
         "2016-08-23 00:00:00",
         "2016-08-29 00:00:00",
         "2016-09-07 00:00:00",
         "2016-10-16 00:00:00",
         "120.8",
         "3",
         "362.4",
         "2",
         "2025-05-27 18:54:37",
         null
        ],
        [
         "1528990",
         "81__11776",
         "81",
         "11776",
         "Diamond Crk Gravelly Cab Svg",
         "750mL",
         "4425",
         "MARTIGNETTI COMPANIES",
         "11781",
         "2016-08-23 00:00:00",
         "2016-08-29 00:00:00",
         "2016-09-07 00:00:00",
         "2016-10-16 00:00:00",
         "154.1",
         "3",
         "462.3",
         "2",
         "2025-05-27 18:54:37",
         null
        ],
        [
         "1529730",
         "81__25602",
         "81",
         "25602",
         "Ramey Cab Svgn Pedregal Vyd",
         "750mL",
         "4425",
         "MARTIGNETTI COMPANIES",
         "11781",
         "2016-08-23 00:00:00",
         "2016-08-29 00:00:00",
         "2016-09-07 00:00:00",
         "2016-10-16 00:00:00",
         "123.37",
         "2",
         "246.74",
         "2",
         "2025-05-27 18:54:37",
         null
        ],
        [
         "1530459",
         "81__26104",
         "81",
         "26104",
         "Spottswoode Cab Svgn Napa",
         "750mL",
         "4425",
         "MARTIGNETTI COMPANIES",
         "11781",
         "2016-08-23 00:00:00",
         "2016-08-29 00:00:00",
         "2016-09-07 00:00:00",
         "2016-10-16 00:00:00",
         "105.51",
         "3",
         "316.53",
         "2",
         "2025-05-27 18:54:37",
         null
        ],
        [
         "1530791",
         "81__11775",
         "81",
         "11775",
         "Diamond Creek Red Rock Cab S",
         "750mL",
         "4425",
         "MARTIGNETTI COMPANIES",
         "11781",
         "2016-08-23 00:00:00",
         "2016-08-29 00:00:00",
         "2016-09-07 00:00:00",
         "2016-10-16 00:00:00",
         "149.99",
         "2",
         "299.98",
         "2",
         "2025-05-27 18:54:37",
         null
        ],
        [
         "1531168",
         "81__23110",
         "81",
         "23110",
         "Duckhorn Estates Merlot",
         "1.5L",
         "4425",
         "MARTIGNETTI COMPANIES",
         "11781",
         "2016-08-23 00:00:00",
         "2016-08-29 00:00:00",
         "2016-09-07 00:00:00",
         "2016-10-16 00:00:00",
         "109.67",
         "2",
         "219.34",
         "2",
         "2025-05-27 18:54:37",
         null
        ],
        [
         "1532416",
         "81__11774",
         "81",
         "11774",
         "Diamond Crk Cab Svgn Volcanc",
         "750mL",
         "4425",
         "MARTIGNETTI COMPANIES",
         "11781",
         "2016-08-23 00:00:00",
         "2016-08-29 00:00:00",
         "2016-09-07 00:00:00",
         "2016-10-16 00:00:00",
         "148.02",
         "2",
         "296.04",
         "2",
         "2025-05-27 18:54:37",
         null
        ],
        [
         "1533249",
         "81__19218",
         "81",
         "19218",
         "Veuve Clicquot Brut Grande",
         "750mL",
         "8112",
         "MOET HENNESSY USA INC",
         "11800",
         "2016-08-24 00:00:00",
         "2016-08-29 00:00:00",
         "2016-09-11 00:00:00",
         "2016-10-12 00:00:00",
         "80.53",
         "3",
         "241.59",
         "2",
         "2025-05-27 18:54:37",
         null
        ],
        [
         "1534765",
         "81__21443",
         "81",
         "21443",
         "Ch L'Englise Clinet St Emiln",
         "750mL",
         "10754",
         "PERFECTA WINES",
         "11825",
         "2016-08-26 00:00:00",
         "2016-08-29 00:00:00",
         "2016-09-11 00:00:00",
         "2016-10-17 00:00:00",
         "102.59",
         "3",
         "307.77",
         "2",
         "2025-05-27 18:54:37",
         null
        ],
        [
         "1534820",
         "81__21459",
         "81",
         "21459",
         "Chateau Montrose St Estephe",
         "750mL",
         "10754",
         "PERFECTA WINES",
         "11825",
         "2016-08-26 00:00:00",
         "2016-08-29 00:00:00",
         "2016-09-11 00:00:00",
         "2016-10-17 00:00:00",
         "100.65",
         "3",
         "301.95",
         "2",
         "2025-05-27 18:54:37",
         null
        ],
        [
         "1535254",
         "81__23755",
         "81",
         "23755",
         "Ch Haut Brion 12 Pessac-Leog",
         "750mL",
         "10754",
         "PERFECTA WINES",
         "11825",
         "2016-08-26 00:00:00",
         "2016-08-29 00:00:00",
         "2016-09-11 00:00:00",
         "2016-10-17 00:00:00",
         "359.86",
         "3",
         "1079.58",
         "2",
         "2025-05-27 18:54:37",
         null
        ],
        [
         "1535299",
         "81__23769",
         "81",
         "23769",
         "Ch Pape Clement 12 Pess-Leog",
         "750mL",
         "10754",
         "PERFECTA WINES",
         "11825",
         "2016-08-26 00:00:00",
         "2016-08-29 00:00:00",
         "2016-09-11 00:00:00",
         "2016-10-17 00:00:00",
         "73.68",
         "3",
         "221.04",
         "2",
         "2025-05-27 18:54:37",
         null
        ],
        [
         "1535376",
         "81__36063",
         "81",
         "36063",
         "Ch La Mission Haut-Brion 10",
         "750mL",
         "10754",
         "PERFECTA WINES",
         "11825",
         "2016-08-26 00:00:00",
         "2016-08-29 00:00:00",
         "2016-09-11 00:00:00",
         "2016-10-17 00:00:00",
         "753.42",
         "3",
         "2260.26",
         "2",
         "2025-05-27 18:54:37",
         null
        ],
        [
         "1535390",
         "81__23783",
         "81",
         "23783",
         "Pavillon du Ch Margaux 12 Ma",
         "750mL",
         "10754",
         "PERFECTA WINES",
         "11825",
         "2016-08-26 00:00:00",
         "2016-08-29 00:00:00",
         "2016-09-11 00:00:00",
         "2016-10-17 00:00:00",
         "114.28",
         "3",
         "342.84",
         "2",
         "2025-05-27 18:54:37",
         null
        ],
        [
         "1535430",
         "81__23756",
         "81",
         "23756",
         "Ch La Mission 12 Haut Brion",
         "750mL",
         "10754",
         "PERFECTA WINES",
         "11825",
         "2016-08-26 00:00:00",
         "2016-08-29 00:00:00",
         "2016-09-11 00:00:00",
         "2016-10-17 00:00:00",
         "224.32",
         "3",
         "672.96",
         "2",
         "2025-05-27 18:54:37",
         null
        ],
        [
         "1535548",
         "81__26583",
         "81",
         "26583",
         "Billecart-Salmon Brut 02 N F",
         "750mL",
         "10754",
         "PERFECTA WINES",
         "11825",
         "2016-08-26 00:00:00",
         "2016-08-29 00:00:00",
         "2016-09-11 00:00:00",
         "2016-10-17 00:00:00",
         "128.27",
         "2",
         "256.54",
         "2",
         "2025-05-27 18:54:37",
         null
        ],
        [
         "1535591",
         "81__23762",
         "81",
         "23762",
         "Ch Margaux 12 Margaux",
         "750mL",
         "10754",
         "PERFECTA WINES",
         "11825",
         "2016-08-26 00:00:00",
         "2016-08-29 00:00:00",
         "2016-09-11 00:00:00",
         "2016-10-17 00:00:00",
         "360.54",
         "3",
         "1081.62",
         "2",
         "2025-05-27 18:54:37",
         null
        ],
        [
         "1543862",
         "81__23336",
         "81",
         "23336",
         "Ch Pavie St Emilion 11 Gr Cr",
         "750mL",
         "2000",
         "SOUTHERN WINE & SPIRITS NE",
         "11764",
         "2016-08-22 00:00:00",
         "2016-08-29 00:00:00",
         "2016-09-05 00:00:00",
         "2016-10-11 00:00:00",
         "155.4",
         "3",
         "466.2",
         "2",
         "2025-05-27 18:54:37",
         null
        ],
        [
         "1543919",
         "81__23327",
         "81",
         "23327",
         "Ch Cheval Blanc St Emil 11",
         "750mL",
         "2000",
         "SOUTHERN WINE & SPIRITS NE",
         "11764",
         "2016-08-22 00:00:00",
         "2016-08-29 00:00:00",
         "2016-09-05 00:00:00",
         "2016-10-11 00:00:00",
         "616.43",
         "3",
         "1849.29",
         "2",
         "2025-05-27 18:54:37",
         null
        ],
        [
         "1543951",
         "81__24328",
         "81",
         "24328",
         "Ch Ducru Beaucaillou 12 St J",
         "750mL",
         "2000",
         "SOUTHERN WINE & SPIRITS NE",
         "11764",
         "2016-08-22 00:00:00",
         "2016-08-29 00:00:00",
         "2016-09-05 00:00:00",
         "2016-10-11 00:00:00",
         "101.3",
         "3",
         "303.9",
         "2",
         "2025-05-27 18:54:37",
         null
        ],
        [
         "1544104",
         "81__24329",
         "81",
         "24329",
         "Ch Cos d'Estournel St-Est 12",
         "750mL",
         "2000",
         "SOUTHERN WINE & SPIRITS NE",
         "11764",
         "2016-08-22 00:00:00",
         "2016-08-29 00:00:00",
         "2016-09-05 00:00:00",
         "2016-10-11 00:00:00",
         "135.61",
         "3",
         "406.83",
         "2",
         "2025-05-27 18:54:37",
         null
        ],
        [
         "1544108",
         "81__20024",
         "81",
         "20024",
         "Inglenook Rubicon 09",
         "750mL",
         "2000",
         "SOUTHERN WINE & SPIRITS NE",
         "11764",
         "2016-08-22 00:00:00",
         "2016-08-29 00:00:00",
         "2016-09-05 00:00:00",
         "2016-10-11 00:00:00",
         "115.53",
         "3",
         "346.59",
         "2",
         "2025-05-27 18:54:37",
         null
        ],
        [
         "1544122",
         "81__23329",
         "81",
         "23329",
         "Ch Clos d'Estournel 11 Est",
         "750mL",
         "2000",
         "SOUTHERN WINE & SPIRITS NE",
         "11764",
         "2016-08-22 00:00:00",
         "2016-08-29 00:00:00",
         "2016-09-05 00:00:00",
         "2016-10-11 00:00:00",
         "149.0",
         "3",
         "447.0",
         "2",
         "2025-05-27 18:54:37",
         null
        ],
        [
         "1544165",
         "81__23289",
         "81",
         "23289",
         "Ch Mouton Rothschild 11 Paui",
         "750mL",
         "2000",
         "SOUTHERN WINE & SPIRITS NE",
         "11764",
         "2016-08-22 00:00:00",
         "2016-08-29 00:00:00",
         "2016-09-05 00:00:00",
         "2016-10-11 00:00:00",
         "479.45",
         "3",
         "1438.35",
         "2",
         "2025-05-27 18:54:37",
         null
        ],
        [
         "1544205",
         "81__23325",
         "81",
         "23325",
         "Ch Bellevue-Mondotte 11 Emil",
         "750mL",
         "2000",
         "SOUTHERN WINE & SPIRITS NE",
         "11764",
         "2016-08-22 00:00:00",
         "2016-08-29 00:00:00",
         "2016-09-05 00:00:00",
         "2016-10-11 00:00:00",
         "136.36",
         "3",
         "409.08",
         "2",
         "2025-05-27 18:54:37",
         null
        ],
        [
         "1544275",
         "81__23286",
         "81",
         "23286",
         "Ch Pape Clement Bl Gr Cru 11",
         "750mL",
         "2000",
         "SOUTHERN WINE & SPIRITS NE",
         "11764",
         "2016-08-22 00:00:00",
         "2016-08-29 00:00:00",
         "2016-09-05 00:00:00",
         "2016-10-11 00:00:00",
         "132.44",
         "2",
         "264.88",
         "2",
         "2025-05-27 18:54:37",
         null
        ],
        [
         "1544358",
         "81__23324",
         "81",
         "23324",
         "Ch Angelus 11 Brdx",
         "750mL",
         "2000",
         "SOUTHERN WINE & SPIRITS NE",
         "11764",
         "2016-08-22 00:00:00",
         "2016-08-29 00:00:00",
         "2016-09-05 00:00:00",
         "2016-10-11 00:00:00",
         "189.18",
         "3",
         "567.54",
         "2",
         "2025-05-27 18:54:37",
         null
        ],
        [
         "1549164",
         "81__15971",
         "81",
         "15971",
         "Revana Cab Svgn Napa Vly",
         "750mL",
         "9165",
         "ULTRA BEVERAGE COMPANY LLP",
         "11788",
         "2016-08-23 00:00:00",
         "2016-08-29 00:00:00",
         "2016-09-10 00:00:00",
         "2016-10-20 00:00:00",
         "71.89",
         "3",
         "215.67",
         "2",
         "2025-05-27 18:54:37",
         null
        ]
       ],
       "shape": {
        "columns": 18,
        "rows": 36
       }
      },
      "text/html": [
       "<div>\n",
       "<style scoped>\n",
       "    .dataframe tbody tr th:only-of-type {\n",
       "        vertical-align: middle;\n",
       "    }\n",
       "\n",
       "    .dataframe tbody tr th {\n",
       "        vertical-align: top;\n",
       "    }\n",
       "\n",
       "    .dataframe thead th {\n",
       "        text-align: right;\n",
       "    }\n",
       "</style>\n",
       "<table border=\"1\" class=\"dataframe\">\n",
       "  <thead>\n",
       "    <tr style=\"text-align: right;\">\n",
       "      <th></th>\n",
       "      <th>InventoryId</th>\n",
       "      <th>Store</th>\n",
       "      <th>Brand</th>\n",
       "      <th>Description</th>\n",
       "      <th>Size</th>\n",
       "      <th>VendorNumber</th>\n",
       "      <th>VendorName</th>\n",
       "      <th>PONumber</th>\n",
       "      <th>PODate</th>\n",
       "      <th>ReceivingDate</th>\n",
       "      <th>InvoiceDate</th>\n",
       "      <th>PayDate</th>\n",
       "      <th>PurchasePrice</th>\n",
       "      <th>Quantity</th>\n",
       "      <th>Dollars</th>\n",
       "      <th>Classification</th>\n",
       "      <th>fecha_actualizacion</th>\n",
       "      <th>City</th>\n",
       "    </tr>\n",
       "  </thead>\n",
       "  <tbody>\n",
       "    <tr>\n",
       "      <th>1502548</th>\n",
       "      <td>81__90088</td>\n",
       "      <td>81</td>\n",
       "      <td>90088</td>\n",
       "      <td>Ch Le Petite Mouton 12 Pauil</td>\n",
       "      <td>750mL</td>\n",
       "      <td>1703</td>\n",
       "      <td>ALISA CARR BEVERAGES</td>\n",
       "      <td>11816</td>\n",
       "      <td>2016-08-26</td>\n",
       "      <td>2016-08-29</td>\n",
       "      <td>2016-09-05</td>\n",
       "      <td>2016-10-22</td>\n",
       "      <td>92.46</td>\n",
       "      <td>3</td>\n",
       "      <td>277.38</td>\n",
       "      <td>2</td>\n",
       "      <td>2025-05-27 18:54:37</td>\n",
       "      <td>NaN</td>\n",
       "    </tr>\n",
       "    <tr>\n",
       "      <th>1502552</th>\n",
       "      <td>81__90604</td>\n",
       "      <td>81</td>\n",
       "      <td>90604</td>\n",
       "      <td>Ch Lynch Bages Pauilac</td>\n",
       "      <td>750mL</td>\n",
       "      <td>1703</td>\n",
       "      <td>ALISA CARR BEVERAGES</td>\n",
       "      <td>11816</td>\n",
       "      <td>2016-08-26</td>\n",
       "      <td>2016-08-29</td>\n",
       "      <td>2016-09-05</td>\n",
       "      <td>2016-10-22</td>\n",
       "      <td>78.42</td>\n",
       "      <td>2</td>\n",
       "      <td>156.84</td>\n",
       "      <td>2</td>\n",
       "      <td>2025-05-27 18:54:37</td>\n",
       "      <td>NaN</td>\n",
       "    </tr>\n",
       "    <tr>\n",
       "      <th>1502555</th>\n",
       "      <td>81__90087</td>\n",
       "      <td>81</td>\n",
       "      <td>90087</td>\n",
       "      <td>Ch Mouton Rothschild 12 Paui</td>\n",
       "      <td>750mL</td>\n",
       "      <td>1703</td>\n",
       "      <td>ALISA CARR BEVERAGES</td>\n",
       "      <td>11816</td>\n",
       "      <td>2016-08-26</td>\n",
       "      <td>2016-08-29</td>\n",
       "      <td>2016-09-05</td>\n",
       "      <td>2016-10-22</td>\n",
       "      <td>311.25</td>\n",
       "      <td>3</td>\n",
       "      <td>933.75</td>\n",
       "      <td>2</td>\n",
       "      <td>2025-05-27 18:54:37</td>\n",
       "      <td>NaN</td>\n",
       "    </tr>\n",
       "    <tr>\n",
       "      <th>1504656</th>\n",
       "      <td>81__22840</td>\n",
       "      <td>81</td>\n",
       "      <td>22840</td>\n",
       "      <td>Banfi Poggio All'Oro Br Mont</td>\n",
       "      <td>750mL</td>\n",
       "      <td>516</td>\n",
       "      <td>BANFI PRODUCTS CORP</td>\n",
       "      <td>11818</td>\n",
       "      <td>2016-08-26</td>\n",
       "      <td>2016-08-29</td>\n",
       "      <td>2016-09-12</td>\n",
       "      <td>2016-10-08</td>\n",
       "      <td>83.86</td>\n",
       "      <td>2</td>\n",
       "      <td>167.72</td>\n",
       "      <td>2</td>\n",
       "      <td>2025-05-27 18:54:37</td>\n",
       "      <td>NaN</td>\n",
       "    </tr>\n",
       "    <tr>\n",
       "      <th>1511621</th>\n",
       "      <td>81__11321</td>\n",
       "      <td>81</td>\n",
       "      <td>11321</td>\n",
       "      <td>BV GDL Private Rsv Cab Svgn</td>\n",
       "      <td>750mL</td>\n",
       "      <td>1590</td>\n",
       "      <td>DIAGEO CHATEAU ESTATE WINES</td>\n",
       "      <td>11819</td>\n",
       "      <td>2016-08-26</td>\n",
       "      <td>2016-08-29</td>\n",
       "      <td>2016-09-08</td>\n",
       "      <td>2016-10-11</td>\n",
       "      <td>77.88</td>\n",
       "      <td>3</td>\n",
       "      <td>233.64</td>\n",
       "      <td>2</td>\n",
       "      <td>2025-05-27 18:54:37</td>\n",
       "      <td>NaN</td>\n",
       "    </tr>\n",
       "    <tr>\n",
       "      <th>1526746</th>\n",
       "      <td>81__22054</td>\n",
       "      <td>81</td>\n",
       "      <td>22054</td>\n",
       "      <td>Lokoya Spring Mtn Cab Svgn</td>\n",
       "      <td>750mL</td>\n",
       "      <td>9552</td>\n",
       "      <td>M S WALKER INC</td>\n",
       "      <td>11756</td>\n",
       "      <td>2016-08-22</td>\n",
       "      <td>2016-08-29</td>\n",
       "      <td>2016-09-13</td>\n",
       "      <td>2016-10-08</td>\n",
       "      <td>211.03</td>\n",
       "      <td>3</td>\n",
       "      <td>633.09</td>\n",
       "      <td>2</td>\n",
       "      <td>2025-05-27 18:54:37</td>\n",
       "      <td>NaN</td>\n",
       "    </tr>\n",
       "    <tr>\n",
       "      <th>1527105</th>\n",
       "      <td>81__16896</td>\n",
       "      <td>81</td>\n",
       "      <td>16896</td>\n",
       "      <td>Nicolas Catena Zapata Mendza</td>\n",
       "      <td>750mL</td>\n",
       "      <td>9552</td>\n",
       "      <td>M S WALKER INC</td>\n",
       "      <td>11756</td>\n",
       "      <td>2016-08-22</td>\n",
       "      <td>2016-08-29</td>\n",
       "      <td>2016-09-13</td>\n",
       "      <td>2016-10-08</td>\n",
       "      <td>71.42</td>\n",
       "      <td>3</td>\n",
       "      <td>214.26</td>\n",
       "      <td>2</td>\n",
       "      <td>2025-05-27 18:54:37</td>\n",
       "      <td>NaN</td>\n",
       "    </tr>\n",
       "    <tr>\n",
       "      <th>1527479</th>\n",
       "      <td>81__22052</td>\n",
       "      <td>81</td>\n",
       "      <td>22052</td>\n",
       "      <td>Lokoya Howell Mtn Cab Svgn</td>\n",
       "      <td>750mL</td>\n",
       "      <td>9552</td>\n",
       "      <td>M S WALKER INC</td>\n",
       "      <td>11756</td>\n",
       "      <td>2016-08-22</td>\n",
       "      <td>2016-08-29</td>\n",
       "      <td>2016-09-13</td>\n",
       "      <td>2016-10-08</td>\n",
       "      <td>215.23</td>\n",
       "      <td>2</td>\n",
       "      <td>430.46</td>\n",
       "      <td>2</td>\n",
       "      <td>2025-05-27 18:54:37</td>\n",
       "      <td>NaN</td>\n",
       "    </tr>\n",
       "    <tr>\n",
       "      <th>1528948</th>\n",
       "      <td>81__21737</td>\n",
       "      <td>81</td>\n",
       "      <td>21737</td>\n",
       "      <td>Paul Hobbs Beckstoffer Cab S</td>\n",
       "      <td>750mL</td>\n",
       "      <td>4425</td>\n",
       "      <td>MARTIGNETTI COMPANIES</td>\n",
       "      <td>11781</td>\n",
       "      <td>2016-08-23</td>\n",
       "      <td>2016-08-29</td>\n",
       "      <td>2016-09-07</td>\n",
       "      <td>2016-10-16</td>\n",
       "      <td>120.80</td>\n",
       "      <td>3</td>\n",
       "      <td>362.40</td>\n",
       "      <td>2</td>\n",
       "      <td>2025-05-27 18:54:37</td>\n",
       "      <td>NaN</td>\n",
       "    </tr>\n",
       "    <tr>\n",
       "      <th>1528990</th>\n",
       "      <td>81__11776</td>\n",
       "      <td>81</td>\n",
       "      <td>11776</td>\n",
       "      <td>Diamond Crk Gravelly Cab Svg</td>\n",
       "      <td>750mL</td>\n",
       "      <td>4425</td>\n",
       "      <td>MARTIGNETTI COMPANIES</td>\n",
       "      <td>11781</td>\n",
       "      <td>2016-08-23</td>\n",
       "      <td>2016-08-29</td>\n",
       "      <td>2016-09-07</td>\n",
       "      <td>2016-10-16</td>\n",
       "      <td>154.10</td>\n",
       "      <td>3</td>\n",
       "      <td>462.30</td>\n",
       "      <td>2</td>\n",
       "      <td>2025-05-27 18:54:37</td>\n",
       "      <td>NaN</td>\n",
       "    </tr>\n",
       "    <tr>\n",
       "      <th>1529730</th>\n",
       "      <td>81__25602</td>\n",
       "      <td>81</td>\n",
       "      <td>25602</td>\n",
       "      <td>Ramey Cab Svgn Pedregal Vyd</td>\n",
       "      <td>750mL</td>\n",
       "      <td>4425</td>\n",
       "      <td>MARTIGNETTI COMPANIES</td>\n",
       "      <td>11781</td>\n",
       "      <td>2016-08-23</td>\n",
       "      <td>2016-08-29</td>\n",
       "      <td>2016-09-07</td>\n",
       "      <td>2016-10-16</td>\n",
       "      <td>123.37</td>\n",
       "      <td>2</td>\n",
       "      <td>246.74</td>\n",
       "      <td>2</td>\n",
       "      <td>2025-05-27 18:54:37</td>\n",
       "      <td>NaN</td>\n",
       "    </tr>\n",
       "    <tr>\n",
       "      <th>1530459</th>\n",
       "      <td>81__26104</td>\n",
       "      <td>81</td>\n",
       "      <td>26104</td>\n",
       "      <td>Spottswoode Cab Svgn Napa</td>\n",
       "      <td>750mL</td>\n",
       "      <td>4425</td>\n",
       "      <td>MARTIGNETTI COMPANIES</td>\n",
       "      <td>11781</td>\n",
       "      <td>2016-08-23</td>\n",
       "      <td>2016-08-29</td>\n",
       "      <td>2016-09-07</td>\n",
       "      <td>2016-10-16</td>\n",
       "      <td>105.51</td>\n",
       "      <td>3</td>\n",
       "      <td>316.53</td>\n",
       "      <td>2</td>\n",
       "      <td>2025-05-27 18:54:37</td>\n",
       "      <td>NaN</td>\n",
       "    </tr>\n",
       "    <tr>\n",
       "      <th>1530791</th>\n",
       "      <td>81__11775</td>\n",
       "      <td>81</td>\n",
       "      <td>11775</td>\n",
       "      <td>Diamond Creek Red Rock Cab S</td>\n",
       "      <td>750mL</td>\n",
       "      <td>4425</td>\n",
       "      <td>MARTIGNETTI COMPANIES</td>\n",
       "      <td>11781</td>\n",
       "      <td>2016-08-23</td>\n",
       "      <td>2016-08-29</td>\n",
       "      <td>2016-09-07</td>\n",
       "      <td>2016-10-16</td>\n",
       "      <td>149.99</td>\n",
       "      <td>2</td>\n",
       "      <td>299.98</td>\n",
       "      <td>2</td>\n",
       "      <td>2025-05-27 18:54:37</td>\n",
       "      <td>NaN</td>\n",
       "    </tr>\n",
       "    <tr>\n",
       "      <th>1531168</th>\n",
       "      <td>81__23110</td>\n",
       "      <td>81</td>\n",
       "      <td>23110</td>\n",
       "      <td>Duckhorn Estates Merlot</td>\n",
       "      <td>1.5L</td>\n",
       "      <td>4425</td>\n",
       "      <td>MARTIGNETTI COMPANIES</td>\n",
       "      <td>11781</td>\n",
       "      <td>2016-08-23</td>\n",
       "      <td>2016-08-29</td>\n",
       "      <td>2016-09-07</td>\n",
       "      <td>2016-10-16</td>\n",
       "      <td>109.67</td>\n",
       "      <td>2</td>\n",
       "      <td>219.34</td>\n",
       "      <td>2</td>\n",
       "      <td>2025-05-27 18:54:37</td>\n",
       "      <td>NaN</td>\n",
       "    </tr>\n",
       "    <tr>\n",
       "      <th>1532416</th>\n",
       "      <td>81__11774</td>\n",
       "      <td>81</td>\n",
       "      <td>11774</td>\n",
       "      <td>Diamond Crk Cab Svgn Volcanc</td>\n",
       "      <td>750mL</td>\n",
       "      <td>4425</td>\n",
       "      <td>MARTIGNETTI COMPANIES</td>\n",
       "      <td>11781</td>\n",
       "      <td>2016-08-23</td>\n",
       "      <td>2016-08-29</td>\n",
       "      <td>2016-09-07</td>\n",
       "      <td>2016-10-16</td>\n",
       "      <td>148.02</td>\n",
       "      <td>2</td>\n",
       "      <td>296.04</td>\n",
       "      <td>2</td>\n",
       "      <td>2025-05-27 18:54:37</td>\n",
       "      <td>NaN</td>\n",
       "    </tr>\n",
       "    <tr>\n",
       "      <th>1533249</th>\n",
       "      <td>81__19218</td>\n",
       "      <td>81</td>\n",
       "      <td>19218</td>\n",
       "      <td>Veuve Clicquot Brut Grande</td>\n",
       "      <td>750mL</td>\n",
       "      <td>8112</td>\n",
       "      <td>MOET HENNESSY USA INC</td>\n",
       "      <td>11800</td>\n",
       "      <td>2016-08-24</td>\n",
       "      <td>2016-08-29</td>\n",
       "      <td>2016-09-11</td>\n",
       "      <td>2016-10-12</td>\n",
       "      <td>80.53</td>\n",
       "      <td>3</td>\n",
       "      <td>241.59</td>\n",
       "      <td>2</td>\n",
       "      <td>2025-05-27 18:54:37</td>\n",
       "      <td>NaN</td>\n",
       "    </tr>\n",
       "    <tr>\n",
       "      <th>1534765</th>\n",
       "      <td>81__21443</td>\n",
       "      <td>81</td>\n",
       "      <td>21443</td>\n",
       "      <td>Ch L'Englise Clinet St Emiln</td>\n",
       "      <td>750mL</td>\n",
       "      <td>10754</td>\n",
       "      <td>PERFECTA WINES</td>\n",
       "      <td>11825</td>\n",
       "      <td>2016-08-26</td>\n",
       "      <td>2016-08-29</td>\n",
       "      <td>2016-09-11</td>\n",
       "      <td>2016-10-17</td>\n",
       "      <td>102.59</td>\n",
       "      <td>3</td>\n",
       "      <td>307.77</td>\n",
       "      <td>2</td>\n",
       "      <td>2025-05-27 18:54:37</td>\n",
       "      <td>NaN</td>\n",
       "    </tr>\n",
       "    <tr>\n",
       "      <th>1534820</th>\n",
       "      <td>81__21459</td>\n",
       "      <td>81</td>\n",
       "      <td>21459</td>\n",
       "      <td>Chateau Montrose St Estephe</td>\n",
       "      <td>750mL</td>\n",
       "      <td>10754</td>\n",
       "      <td>PERFECTA WINES</td>\n",
       "      <td>11825</td>\n",
       "      <td>2016-08-26</td>\n",
       "      <td>2016-08-29</td>\n",
       "      <td>2016-09-11</td>\n",
       "      <td>2016-10-17</td>\n",
       "      <td>100.65</td>\n",
       "      <td>3</td>\n",
       "      <td>301.95</td>\n",
       "      <td>2</td>\n",
       "      <td>2025-05-27 18:54:37</td>\n",
       "      <td>NaN</td>\n",
       "    </tr>\n",
       "    <tr>\n",
       "      <th>1535254</th>\n",
       "      <td>81__23755</td>\n",
       "      <td>81</td>\n",
       "      <td>23755</td>\n",
       "      <td>Ch Haut Brion 12 Pessac-Leog</td>\n",
       "      <td>750mL</td>\n",
       "      <td>10754</td>\n",
       "      <td>PERFECTA WINES</td>\n",
       "      <td>11825</td>\n",
       "      <td>2016-08-26</td>\n",
       "      <td>2016-08-29</td>\n",
       "      <td>2016-09-11</td>\n",
       "      <td>2016-10-17</td>\n",
       "      <td>359.86</td>\n",
       "      <td>3</td>\n",
       "      <td>1079.58</td>\n",
       "      <td>2</td>\n",
       "      <td>2025-05-27 18:54:37</td>\n",
       "      <td>NaN</td>\n",
       "    </tr>\n",
       "    <tr>\n",
       "      <th>1535299</th>\n",
       "      <td>81__23769</td>\n",
       "      <td>81</td>\n",
       "      <td>23769</td>\n",
       "      <td>Ch Pape Clement 12 Pess-Leog</td>\n",
       "      <td>750mL</td>\n",
       "      <td>10754</td>\n",
       "      <td>PERFECTA WINES</td>\n",
       "      <td>11825</td>\n",
       "      <td>2016-08-26</td>\n",
       "      <td>2016-08-29</td>\n",
       "      <td>2016-09-11</td>\n",
       "      <td>2016-10-17</td>\n",
       "      <td>73.68</td>\n",
       "      <td>3</td>\n",
       "      <td>221.04</td>\n",
       "      <td>2</td>\n",
       "      <td>2025-05-27 18:54:37</td>\n",
       "      <td>NaN</td>\n",
       "    </tr>\n",
       "    <tr>\n",
       "      <th>1535376</th>\n",
       "      <td>81__36063</td>\n",
       "      <td>81</td>\n",
       "      <td>36063</td>\n",
       "      <td>Ch La Mission Haut-Brion 10</td>\n",
       "      <td>750mL</td>\n",
       "      <td>10754</td>\n",
       "      <td>PERFECTA WINES</td>\n",
       "      <td>11825</td>\n",
       "      <td>2016-08-26</td>\n",
       "      <td>2016-08-29</td>\n",
       "      <td>2016-09-11</td>\n",
       "      <td>2016-10-17</td>\n",
       "      <td>753.42</td>\n",
       "      <td>3</td>\n",
       "      <td>2260.26</td>\n",
       "      <td>2</td>\n",
       "      <td>2025-05-27 18:54:37</td>\n",
       "      <td>NaN</td>\n",
       "    </tr>\n",
       "    <tr>\n",
       "      <th>1535390</th>\n",
       "      <td>81__23783</td>\n",
       "      <td>81</td>\n",
       "      <td>23783</td>\n",
       "      <td>Pavillon du Ch Margaux 12 Ma</td>\n",
       "      <td>750mL</td>\n",
       "      <td>10754</td>\n",
       "      <td>PERFECTA WINES</td>\n",
       "      <td>11825</td>\n",
       "      <td>2016-08-26</td>\n",
       "      <td>2016-08-29</td>\n",
       "      <td>2016-09-11</td>\n",
       "      <td>2016-10-17</td>\n",
       "      <td>114.28</td>\n",
       "      <td>3</td>\n",
       "      <td>342.84</td>\n",
       "      <td>2</td>\n",
       "      <td>2025-05-27 18:54:37</td>\n",
       "      <td>NaN</td>\n",
       "    </tr>\n",
       "    <tr>\n",
       "      <th>1535430</th>\n",
       "      <td>81__23756</td>\n",
       "      <td>81</td>\n",
       "      <td>23756</td>\n",
       "      <td>Ch La Mission 12 Haut Brion</td>\n",
       "      <td>750mL</td>\n",
       "      <td>10754</td>\n",
       "      <td>PERFECTA WINES</td>\n",
       "      <td>11825</td>\n",
       "      <td>2016-08-26</td>\n",
       "      <td>2016-08-29</td>\n",
       "      <td>2016-09-11</td>\n",
       "      <td>2016-10-17</td>\n",
       "      <td>224.32</td>\n",
       "      <td>3</td>\n",
       "      <td>672.96</td>\n",
       "      <td>2</td>\n",
       "      <td>2025-05-27 18:54:37</td>\n",
       "      <td>NaN</td>\n",
       "    </tr>\n",
       "    <tr>\n",
       "      <th>1535548</th>\n",
       "      <td>81__26583</td>\n",
       "      <td>81</td>\n",
       "      <td>26583</td>\n",
       "      <td>Billecart-Salmon Brut 02 N F</td>\n",
       "      <td>750mL</td>\n",
       "      <td>10754</td>\n",
       "      <td>PERFECTA WINES</td>\n",
       "      <td>11825</td>\n",
       "      <td>2016-08-26</td>\n",
       "      <td>2016-08-29</td>\n",
       "      <td>2016-09-11</td>\n",
       "      <td>2016-10-17</td>\n",
       "      <td>128.27</td>\n",
       "      <td>2</td>\n",
       "      <td>256.54</td>\n",
       "      <td>2</td>\n",
       "      <td>2025-05-27 18:54:37</td>\n",
       "      <td>NaN</td>\n",
       "    </tr>\n",
       "    <tr>\n",
       "      <th>1535591</th>\n",
       "      <td>81__23762</td>\n",
       "      <td>81</td>\n",
       "      <td>23762</td>\n",
       "      <td>Ch Margaux 12 Margaux</td>\n",
       "      <td>750mL</td>\n",
       "      <td>10754</td>\n",
       "      <td>PERFECTA WINES</td>\n",
       "      <td>11825</td>\n",
       "      <td>2016-08-26</td>\n",
       "      <td>2016-08-29</td>\n",
       "      <td>2016-09-11</td>\n",
       "      <td>2016-10-17</td>\n",
       "      <td>360.54</td>\n",
       "      <td>3</td>\n",
       "      <td>1081.62</td>\n",
       "      <td>2</td>\n",
       "      <td>2025-05-27 18:54:37</td>\n",
       "      <td>NaN</td>\n",
       "    </tr>\n",
       "    <tr>\n",
       "      <th>1543862</th>\n",
       "      <td>81__23336</td>\n",
       "      <td>81</td>\n",
       "      <td>23336</td>\n",
       "      <td>Ch Pavie St Emilion 11 Gr Cr</td>\n",
       "      <td>750mL</td>\n",
       "      <td>2000</td>\n",
       "      <td>SOUTHERN WINE &amp; SPIRITS NE</td>\n",
       "      <td>11764</td>\n",
       "      <td>2016-08-22</td>\n",
       "      <td>2016-08-29</td>\n",
       "      <td>2016-09-05</td>\n",
       "      <td>2016-10-11</td>\n",
       "      <td>155.40</td>\n",
       "      <td>3</td>\n",
       "      <td>466.20</td>\n",
       "      <td>2</td>\n",
       "      <td>2025-05-27 18:54:37</td>\n",
       "      <td>NaN</td>\n",
       "    </tr>\n",
       "    <tr>\n",
       "      <th>1543919</th>\n",
       "      <td>81__23327</td>\n",
       "      <td>81</td>\n",
       "      <td>23327</td>\n",
       "      <td>Ch Cheval Blanc St Emil 11</td>\n",
       "      <td>750mL</td>\n",
       "      <td>2000</td>\n",
       "      <td>SOUTHERN WINE &amp; SPIRITS NE</td>\n",
       "      <td>11764</td>\n",
       "      <td>2016-08-22</td>\n",
       "      <td>2016-08-29</td>\n",
       "      <td>2016-09-05</td>\n",
       "      <td>2016-10-11</td>\n",
       "      <td>616.43</td>\n",
       "      <td>3</td>\n",
       "      <td>1849.29</td>\n",
       "      <td>2</td>\n",
       "      <td>2025-05-27 18:54:37</td>\n",
       "      <td>NaN</td>\n",
       "    </tr>\n",
       "    <tr>\n",
       "      <th>1543951</th>\n",
       "      <td>81__24328</td>\n",
       "      <td>81</td>\n",
       "      <td>24328</td>\n",
       "      <td>Ch Ducru Beaucaillou 12 St J</td>\n",
       "      <td>750mL</td>\n",
       "      <td>2000</td>\n",
       "      <td>SOUTHERN WINE &amp; SPIRITS NE</td>\n",
       "      <td>11764</td>\n",
       "      <td>2016-08-22</td>\n",
       "      <td>2016-08-29</td>\n",
       "      <td>2016-09-05</td>\n",
       "      <td>2016-10-11</td>\n",
       "      <td>101.30</td>\n",
       "      <td>3</td>\n",
       "      <td>303.90</td>\n",
       "      <td>2</td>\n",
       "      <td>2025-05-27 18:54:37</td>\n",
       "      <td>NaN</td>\n",
       "    </tr>\n",
       "    <tr>\n",
       "      <th>1544104</th>\n",
       "      <td>81__24329</td>\n",
       "      <td>81</td>\n",
       "      <td>24329</td>\n",
       "      <td>Ch Cos d'Estournel St-Est 12</td>\n",
       "      <td>750mL</td>\n",
       "      <td>2000</td>\n",
       "      <td>SOUTHERN WINE &amp; SPIRITS NE</td>\n",
       "      <td>11764</td>\n",
       "      <td>2016-08-22</td>\n",
       "      <td>2016-08-29</td>\n",
       "      <td>2016-09-05</td>\n",
       "      <td>2016-10-11</td>\n",
       "      <td>135.61</td>\n",
       "      <td>3</td>\n",
       "      <td>406.83</td>\n",
       "      <td>2</td>\n",
       "      <td>2025-05-27 18:54:37</td>\n",
       "      <td>NaN</td>\n",
       "    </tr>\n",
       "    <tr>\n",
       "      <th>1544108</th>\n",
       "      <td>81__20024</td>\n",
       "      <td>81</td>\n",
       "      <td>20024</td>\n",
       "      <td>Inglenook Rubicon 09</td>\n",
       "      <td>750mL</td>\n",
       "      <td>2000</td>\n",
       "      <td>SOUTHERN WINE &amp; SPIRITS NE</td>\n",
       "      <td>11764</td>\n",
       "      <td>2016-08-22</td>\n",
       "      <td>2016-08-29</td>\n",
       "      <td>2016-09-05</td>\n",
       "      <td>2016-10-11</td>\n",
       "      <td>115.53</td>\n",
       "      <td>3</td>\n",
       "      <td>346.59</td>\n",
       "      <td>2</td>\n",
       "      <td>2025-05-27 18:54:37</td>\n",
       "      <td>NaN</td>\n",
       "    </tr>\n",
       "    <tr>\n",
       "      <th>1544122</th>\n",
       "      <td>81__23329</td>\n",
       "      <td>81</td>\n",
       "      <td>23329</td>\n",
       "      <td>Ch Clos d'Estournel 11 Est</td>\n",
       "      <td>750mL</td>\n",
       "      <td>2000</td>\n",
       "      <td>SOUTHERN WINE &amp; SPIRITS NE</td>\n",
       "      <td>11764</td>\n",
       "      <td>2016-08-22</td>\n",
       "      <td>2016-08-29</td>\n",
       "      <td>2016-09-05</td>\n",
       "      <td>2016-10-11</td>\n",
       "      <td>149.00</td>\n",
       "      <td>3</td>\n",
       "      <td>447.00</td>\n",
       "      <td>2</td>\n",
       "      <td>2025-05-27 18:54:37</td>\n",
       "      <td>NaN</td>\n",
       "    </tr>\n",
       "    <tr>\n",
       "      <th>1544165</th>\n",
       "      <td>81__23289</td>\n",
       "      <td>81</td>\n",
       "      <td>23289</td>\n",
       "      <td>Ch Mouton Rothschild 11 Paui</td>\n",
       "      <td>750mL</td>\n",
       "      <td>2000</td>\n",
       "      <td>SOUTHERN WINE &amp; SPIRITS NE</td>\n",
       "      <td>11764</td>\n",
       "      <td>2016-08-22</td>\n",
       "      <td>2016-08-29</td>\n",
       "      <td>2016-09-05</td>\n",
       "      <td>2016-10-11</td>\n",
       "      <td>479.45</td>\n",
       "      <td>3</td>\n",
       "      <td>1438.35</td>\n",
       "      <td>2</td>\n",
       "      <td>2025-05-27 18:54:37</td>\n",
       "      <td>NaN</td>\n",
       "    </tr>\n",
       "    <tr>\n",
       "      <th>1544205</th>\n",
       "      <td>81__23325</td>\n",
       "      <td>81</td>\n",
       "      <td>23325</td>\n",
       "      <td>Ch Bellevue-Mondotte 11 Emil</td>\n",
       "      <td>750mL</td>\n",
       "      <td>2000</td>\n",
       "      <td>SOUTHERN WINE &amp; SPIRITS NE</td>\n",
       "      <td>11764</td>\n",
       "      <td>2016-08-22</td>\n",
       "      <td>2016-08-29</td>\n",
       "      <td>2016-09-05</td>\n",
       "      <td>2016-10-11</td>\n",
       "      <td>136.36</td>\n",
       "      <td>3</td>\n",
       "      <td>409.08</td>\n",
       "      <td>2</td>\n",
       "      <td>2025-05-27 18:54:37</td>\n",
       "      <td>NaN</td>\n",
       "    </tr>\n",
       "    <tr>\n",
       "      <th>1544275</th>\n",
       "      <td>81__23286</td>\n",
       "      <td>81</td>\n",
       "      <td>23286</td>\n",
       "      <td>Ch Pape Clement Bl Gr Cru 11</td>\n",
       "      <td>750mL</td>\n",
       "      <td>2000</td>\n",
       "      <td>SOUTHERN WINE &amp; SPIRITS NE</td>\n",
       "      <td>11764</td>\n",
       "      <td>2016-08-22</td>\n",
       "      <td>2016-08-29</td>\n",
       "      <td>2016-09-05</td>\n",
       "      <td>2016-10-11</td>\n",
       "      <td>132.44</td>\n",
       "      <td>2</td>\n",
       "      <td>264.88</td>\n",
       "      <td>2</td>\n",
       "      <td>2025-05-27 18:54:37</td>\n",
       "      <td>NaN</td>\n",
       "    </tr>\n",
       "    <tr>\n",
       "      <th>1544358</th>\n",
       "      <td>81__23324</td>\n",
       "      <td>81</td>\n",
       "      <td>23324</td>\n",
       "      <td>Ch Angelus 11 Brdx</td>\n",
       "      <td>750mL</td>\n",
       "      <td>2000</td>\n",
       "      <td>SOUTHERN WINE &amp; SPIRITS NE</td>\n",
       "      <td>11764</td>\n",
       "      <td>2016-08-22</td>\n",
       "      <td>2016-08-29</td>\n",
       "      <td>2016-09-05</td>\n",
       "      <td>2016-10-11</td>\n",
       "      <td>189.18</td>\n",
       "      <td>3</td>\n",
       "      <td>567.54</td>\n",
       "      <td>2</td>\n",
       "      <td>2025-05-27 18:54:37</td>\n",
       "      <td>NaN</td>\n",
       "    </tr>\n",
       "    <tr>\n",
       "      <th>1549164</th>\n",
       "      <td>81__15971</td>\n",
       "      <td>81</td>\n",
       "      <td>15971</td>\n",
       "      <td>Revana Cab Svgn Napa Vly</td>\n",
       "      <td>750mL</td>\n",
       "      <td>9165</td>\n",
       "      <td>ULTRA BEVERAGE COMPANY LLP</td>\n",
       "      <td>11788</td>\n",
       "      <td>2016-08-23</td>\n",
       "      <td>2016-08-29</td>\n",
       "      <td>2016-09-10</td>\n",
       "      <td>2016-10-20</td>\n",
       "      <td>71.89</td>\n",
       "      <td>3</td>\n",
       "      <td>215.67</td>\n",
       "      <td>2</td>\n",
       "      <td>2025-05-27 18:54:37</td>\n",
       "      <td>NaN</td>\n",
       "    </tr>\n",
       "  </tbody>\n",
       "</table>\n",
       "</div>"
      ],
      "text/plain": [
       "        InventoryId  Store  Brand                   Description   Size  \\\n",
       "1502548   81__90088     81  90088  Ch Le Petite Mouton 12 Pauil  750mL   \n",
       "1502552   81__90604     81  90604        Ch Lynch Bages Pauilac  750mL   \n",
       "1502555   81__90087     81  90087  Ch Mouton Rothschild 12 Paui  750mL   \n",
       "1504656   81__22840     81  22840  Banfi Poggio All'Oro Br Mont  750mL   \n",
       "1511621   81__11321     81  11321   BV GDL Private Rsv Cab Svgn  750mL   \n",
       "1526746   81__22054     81  22054    Lokoya Spring Mtn Cab Svgn  750mL   \n",
       "1527105   81__16896     81  16896  Nicolas Catena Zapata Mendza  750mL   \n",
       "1527479   81__22052     81  22052    Lokoya Howell Mtn Cab Svgn  750mL   \n",
       "1528948   81__21737     81  21737  Paul Hobbs Beckstoffer Cab S  750mL   \n",
       "1528990   81__11776     81  11776  Diamond Crk Gravelly Cab Svg  750mL   \n",
       "1529730   81__25602     81  25602   Ramey Cab Svgn Pedregal Vyd  750mL   \n",
       "1530459   81__26104     81  26104     Spottswoode Cab Svgn Napa  750mL   \n",
       "1530791   81__11775     81  11775  Diamond Creek Red Rock Cab S  750mL   \n",
       "1531168   81__23110     81  23110       Duckhorn Estates Merlot   1.5L   \n",
       "1532416   81__11774     81  11774  Diamond Crk Cab Svgn Volcanc  750mL   \n",
       "1533249   81__19218     81  19218    Veuve Clicquot Brut Grande  750mL   \n",
       "1534765   81__21443     81  21443  Ch L'Englise Clinet St Emiln  750mL   \n",
       "1534820   81__21459     81  21459   Chateau Montrose St Estephe  750mL   \n",
       "1535254   81__23755     81  23755  Ch Haut Brion 12 Pessac-Leog  750mL   \n",
       "1535299   81__23769     81  23769  Ch Pape Clement 12 Pess-Leog  750mL   \n",
       "1535376   81__36063     81  36063   Ch La Mission Haut-Brion 10  750mL   \n",
       "1535390   81__23783     81  23783  Pavillon du Ch Margaux 12 Ma  750mL   \n",
       "1535430   81__23756     81  23756   Ch La Mission 12 Haut Brion  750mL   \n",
       "1535548   81__26583     81  26583  Billecart-Salmon Brut 02 N F  750mL   \n",
       "1535591   81__23762     81  23762         Ch Margaux 12 Margaux  750mL   \n",
       "1543862   81__23336     81  23336  Ch Pavie St Emilion 11 Gr Cr  750mL   \n",
       "1543919   81__23327     81  23327    Ch Cheval Blanc St Emil 11  750mL   \n",
       "1543951   81__24328     81  24328  Ch Ducru Beaucaillou 12 St J  750mL   \n",
       "1544104   81__24329     81  24329  Ch Cos d'Estournel St-Est 12  750mL   \n",
       "1544108   81__20024     81  20024          Inglenook Rubicon 09  750mL   \n",
       "1544122   81__23329     81  23329    Ch Clos d'Estournel 11 Est  750mL   \n",
       "1544165   81__23289     81  23289  Ch Mouton Rothschild 11 Paui  750mL   \n",
       "1544205   81__23325     81  23325  Ch Bellevue-Mondotte 11 Emil  750mL   \n",
       "1544275   81__23286     81  23286  Ch Pape Clement Bl Gr Cru 11  750mL   \n",
       "1544358   81__23324     81  23324            Ch Angelus 11 Brdx  750mL   \n",
       "1549164   81__15971     81  15971      Revana Cab Svgn Napa Vly  750mL   \n",
       "\n",
       "         VendorNumber                   VendorName  PONumber     PODate  \\\n",
       "1502548          1703         ALISA CARR BEVERAGES     11816 2016-08-26   \n",
       "1502552          1703         ALISA CARR BEVERAGES     11816 2016-08-26   \n",
       "1502555          1703         ALISA CARR BEVERAGES     11816 2016-08-26   \n",
       "1504656           516          BANFI PRODUCTS CORP     11818 2016-08-26   \n",
       "1511621          1590  DIAGEO CHATEAU ESTATE WINES     11819 2016-08-26   \n",
       "1526746          9552               M S WALKER INC     11756 2016-08-22   \n",
       "1527105          9552               M S WALKER INC     11756 2016-08-22   \n",
       "1527479          9552               M S WALKER INC     11756 2016-08-22   \n",
       "1528948          4425        MARTIGNETTI COMPANIES     11781 2016-08-23   \n",
       "1528990          4425        MARTIGNETTI COMPANIES     11781 2016-08-23   \n",
       "1529730          4425        MARTIGNETTI COMPANIES     11781 2016-08-23   \n",
       "1530459          4425        MARTIGNETTI COMPANIES     11781 2016-08-23   \n",
       "1530791          4425        MARTIGNETTI COMPANIES     11781 2016-08-23   \n",
       "1531168          4425        MARTIGNETTI COMPANIES     11781 2016-08-23   \n",
       "1532416          4425        MARTIGNETTI COMPANIES     11781 2016-08-23   \n",
       "1533249          8112        MOET HENNESSY USA INC     11800 2016-08-24   \n",
       "1534765         10754               PERFECTA WINES     11825 2016-08-26   \n",
       "1534820         10754               PERFECTA WINES     11825 2016-08-26   \n",
       "1535254         10754               PERFECTA WINES     11825 2016-08-26   \n",
       "1535299         10754               PERFECTA WINES     11825 2016-08-26   \n",
       "1535376         10754               PERFECTA WINES     11825 2016-08-26   \n",
       "1535390         10754               PERFECTA WINES     11825 2016-08-26   \n",
       "1535430         10754               PERFECTA WINES     11825 2016-08-26   \n",
       "1535548         10754               PERFECTA WINES     11825 2016-08-26   \n",
       "1535591         10754               PERFECTA WINES     11825 2016-08-26   \n",
       "1543862          2000   SOUTHERN WINE & SPIRITS NE     11764 2016-08-22   \n",
       "1543919          2000   SOUTHERN WINE & SPIRITS NE     11764 2016-08-22   \n",
       "1543951          2000   SOUTHERN WINE & SPIRITS NE     11764 2016-08-22   \n",
       "1544104          2000   SOUTHERN WINE & SPIRITS NE     11764 2016-08-22   \n",
       "1544108          2000   SOUTHERN WINE & SPIRITS NE     11764 2016-08-22   \n",
       "1544122          2000   SOUTHERN WINE & SPIRITS NE     11764 2016-08-22   \n",
       "1544165          2000   SOUTHERN WINE & SPIRITS NE     11764 2016-08-22   \n",
       "1544205          2000   SOUTHERN WINE & SPIRITS NE     11764 2016-08-22   \n",
       "1544275          2000   SOUTHERN WINE & SPIRITS NE     11764 2016-08-22   \n",
       "1544358          2000   SOUTHERN WINE & SPIRITS NE     11764 2016-08-22   \n",
       "1549164          9165   ULTRA BEVERAGE COMPANY LLP     11788 2016-08-23   \n",
       "\n",
       "        ReceivingDate InvoiceDate    PayDate  PurchasePrice  Quantity  \\\n",
       "1502548    2016-08-29  2016-09-05 2016-10-22          92.46         3   \n",
       "1502552    2016-08-29  2016-09-05 2016-10-22          78.42         2   \n",
       "1502555    2016-08-29  2016-09-05 2016-10-22         311.25         3   \n",
       "1504656    2016-08-29  2016-09-12 2016-10-08          83.86         2   \n",
       "1511621    2016-08-29  2016-09-08 2016-10-11          77.88         3   \n",
       "1526746    2016-08-29  2016-09-13 2016-10-08         211.03         3   \n",
       "1527105    2016-08-29  2016-09-13 2016-10-08          71.42         3   \n",
       "1527479    2016-08-29  2016-09-13 2016-10-08         215.23         2   \n",
       "1528948    2016-08-29  2016-09-07 2016-10-16         120.80         3   \n",
       "1528990    2016-08-29  2016-09-07 2016-10-16         154.10         3   \n",
       "1529730    2016-08-29  2016-09-07 2016-10-16         123.37         2   \n",
       "1530459    2016-08-29  2016-09-07 2016-10-16         105.51         3   \n",
       "1530791    2016-08-29  2016-09-07 2016-10-16         149.99         2   \n",
       "1531168    2016-08-29  2016-09-07 2016-10-16         109.67         2   \n",
       "1532416    2016-08-29  2016-09-07 2016-10-16         148.02         2   \n",
       "1533249    2016-08-29  2016-09-11 2016-10-12          80.53         3   \n",
       "1534765    2016-08-29  2016-09-11 2016-10-17         102.59         3   \n",
       "1534820    2016-08-29  2016-09-11 2016-10-17         100.65         3   \n",
       "1535254    2016-08-29  2016-09-11 2016-10-17         359.86         3   \n",
       "1535299    2016-08-29  2016-09-11 2016-10-17          73.68         3   \n",
       "1535376    2016-08-29  2016-09-11 2016-10-17         753.42         3   \n",
       "1535390    2016-08-29  2016-09-11 2016-10-17         114.28         3   \n",
       "1535430    2016-08-29  2016-09-11 2016-10-17         224.32         3   \n",
       "1535548    2016-08-29  2016-09-11 2016-10-17         128.27         2   \n",
       "1535591    2016-08-29  2016-09-11 2016-10-17         360.54         3   \n",
       "1543862    2016-08-29  2016-09-05 2016-10-11         155.40         3   \n",
       "1543919    2016-08-29  2016-09-05 2016-10-11         616.43         3   \n",
       "1543951    2016-08-29  2016-09-05 2016-10-11         101.30         3   \n",
       "1544104    2016-08-29  2016-09-05 2016-10-11         135.61         3   \n",
       "1544108    2016-08-29  2016-09-05 2016-10-11         115.53         3   \n",
       "1544122    2016-08-29  2016-09-05 2016-10-11         149.00         3   \n",
       "1544165    2016-08-29  2016-09-05 2016-10-11         479.45         3   \n",
       "1544205    2016-08-29  2016-09-05 2016-10-11         136.36         3   \n",
       "1544275    2016-08-29  2016-09-05 2016-10-11         132.44         2   \n",
       "1544358    2016-08-29  2016-09-05 2016-10-11         189.18         3   \n",
       "1549164    2016-08-29  2016-09-10 2016-10-20          71.89         3   \n",
       "\n",
       "         Dollars  Classification fecha_actualizacion City  \n",
       "1502548   277.38               2 2025-05-27 18:54:37  NaN  \n",
       "1502552   156.84               2 2025-05-27 18:54:37  NaN  \n",
       "1502555   933.75               2 2025-05-27 18:54:37  NaN  \n",
       "1504656   167.72               2 2025-05-27 18:54:37  NaN  \n",
       "1511621   233.64               2 2025-05-27 18:54:37  NaN  \n",
       "1526746   633.09               2 2025-05-27 18:54:37  NaN  \n",
       "1527105   214.26               2 2025-05-27 18:54:37  NaN  \n",
       "1527479   430.46               2 2025-05-27 18:54:37  NaN  \n",
       "1528948   362.40               2 2025-05-27 18:54:37  NaN  \n",
       "1528990   462.30               2 2025-05-27 18:54:37  NaN  \n",
       "1529730   246.74               2 2025-05-27 18:54:37  NaN  \n",
       "1530459   316.53               2 2025-05-27 18:54:37  NaN  \n",
       "1530791   299.98               2 2025-05-27 18:54:37  NaN  \n",
       "1531168   219.34               2 2025-05-27 18:54:37  NaN  \n",
       "1532416   296.04               2 2025-05-27 18:54:37  NaN  \n",
       "1533249   241.59               2 2025-05-27 18:54:37  NaN  \n",
       "1534765   307.77               2 2025-05-27 18:54:37  NaN  \n",
       "1534820   301.95               2 2025-05-27 18:54:37  NaN  \n",
       "1535254  1079.58               2 2025-05-27 18:54:37  NaN  \n",
       "1535299   221.04               2 2025-05-27 18:54:37  NaN  \n",
       "1535376  2260.26               2 2025-05-27 18:54:37  NaN  \n",
       "1535390   342.84               2 2025-05-27 18:54:37  NaN  \n",
       "1535430   672.96               2 2025-05-27 18:54:37  NaN  \n",
       "1535548   256.54               2 2025-05-27 18:54:37  NaN  \n",
       "1535591  1081.62               2 2025-05-27 18:54:37  NaN  \n",
       "1543862   466.20               2 2025-05-27 18:54:37  NaN  \n",
       "1543919  1849.29               2 2025-05-27 18:54:37  NaN  \n",
       "1543951   303.90               2 2025-05-27 18:54:37  NaN  \n",
       "1544104   406.83               2 2025-05-27 18:54:37  NaN  \n",
       "1544108   346.59               2 2025-05-27 18:54:37  NaN  \n",
       "1544122   447.00               2 2025-05-27 18:54:37  NaN  \n",
       "1544165  1438.35               2 2025-05-27 18:54:37  NaN  \n",
       "1544205   409.08               2 2025-05-27 18:54:37  NaN  \n",
       "1544275   264.88               2 2025-05-27 18:54:37  NaN  \n",
       "1544358   567.54               2 2025-05-27 18:54:37  NaN  \n",
       "1549164   215.67               2 2025-05-27 18:54:37  NaN  "
      ]
     },
     "execution_count": 161,
     "metadata": {},
     "output_type": "execute_result"
    }
   ],
   "source": [
    "df2[df2['InventoryId'].str.contains('__', na=False)]"
   ]
  },
  {
   "cell_type": "code",
   "execution_count": 162,
   "id": "586983b1",
   "metadata": {},
   "outputs": [],
   "source": [
    "# Solo columnas necesarias\n",
    "df_city = df6[['Store', 'City']].drop_duplicates(subset=['Store']).dropna()\n",
    "\n",
    "# Merge con df2\n",
    "df2 = df2.merge(df_city, on='Store', how='left', suffixes=('', '_new2'))\n",
    "\n",
    "# Filtro para IDs con '__'\n",
    "mask = df2['InventoryId'].str.contains('__', na=False)\n",
    "\n",
    "# Reemplazo\n",
    "df2.loc[mask, 'InventoryId'] = df2.loc[mask].apply(\n",
    "    lambda row: row['InventoryId'].replace('_', f\"{row['City']}_\") if pd.notnull(row['City']) else row['InventoryId'],\n",
    "    axis=1\n",
    ")"
   ]
  },
  {
   "cell_type": "code",
   "execution_count": 168,
   "id": "5d433a06",
   "metadata": {},
   "outputs": [
    {
     "data": {
      "application/vnd.microsoft.datawrangler.viewer.v0+json": {
       "columns": [
        {
         "name": "index",
         "rawType": "int64",
         "type": "integer"
        },
        {
         "name": "InventoryId",
         "rawType": "object",
         "type": "string"
        },
        {
         "name": "Store",
         "rawType": "int64",
         "type": "integer"
        },
        {
         "name": "Brand",
         "rawType": "int64",
         "type": "integer"
        },
        {
         "name": "Description",
         "rawType": "object",
         "type": "string"
        },
        {
         "name": "Size",
         "rawType": "object",
         "type": "string"
        },
        {
         "name": "VendorNumber",
         "rawType": "int64",
         "type": "integer"
        },
        {
         "name": "VendorName",
         "rawType": "object",
         "type": "string"
        },
        {
         "name": "PONumber",
         "rawType": "int64",
         "type": "integer"
        },
        {
         "name": "PODate",
         "rawType": "datetime64[ns]",
         "type": "datetime"
        },
        {
         "name": "ReceivingDate",
         "rawType": "datetime64[ns]",
         "type": "datetime"
        },
        {
         "name": "InvoiceDate",
         "rawType": "datetime64[ns]",
         "type": "datetime"
        },
        {
         "name": "PayDate",
         "rawType": "datetime64[ns]",
         "type": "datetime"
        },
        {
         "name": "PurchasePrice",
         "rawType": "float64",
         "type": "float"
        },
        {
         "name": "Quantity",
         "rawType": "int64",
         "type": "integer"
        },
        {
         "name": "Dollars",
         "rawType": "float64",
         "type": "float"
        },
        {
         "name": "Classification",
         "rawType": "int64",
         "type": "integer"
        },
        {
         "name": "fecha_actualizacion",
         "rawType": "datetime64[ns]",
         "type": "datetime"
        }
       ],
       "ref": "9d3a9f67-7196-4d82-a07b-500671c0b19d",
       "rows": [],
       "shape": {
        "columns": 17,
        "rows": 0
       }
      },
      "text/html": [
       "<div>\n",
       "<style scoped>\n",
       "    .dataframe tbody tr th:only-of-type {\n",
       "        vertical-align: middle;\n",
       "    }\n",
       "\n",
       "    .dataframe tbody tr th {\n",
       "        vertical-align: top;\n",
       "    }\n",
       "\n",
       "    .dataframe thead th {\n",
       "        text-align: right;\n",
       "    }\n",
       "</style>\n",
       "<table border=\"1\" class=\"dataframe\">\n",
       "  <thead>\n",
       "    <tr style=\"text-align: right;\">\n",
       "      <th></th>\n",
       "      <th>InventoryId</th>\n",
       "      <th>Store</th>\n",
       "      <th>Brand</th>\n",
       "      <th>Description</th>\n",
       "      <th>Size</th>\n",
       "      <th>VendorNumber</th>\n",
       "      <th>VendorName</th>\n",
       "      <th>PONumber</th>\n",
       "      <th>PODate</th>\n",
       "      <th>ReceivingDate</th>\n",
       "      <th>InvoiceDate</th>\n",
       "      <th>PayDate</th>\n",
       "      <th>PurchasePrice</th>\n",
       "      <th>Quantity</th>\n",
       "      <th>Dollars</th>\n",
       "      <th>Classification</th>\n",
       "      <th>fecha_actualizacion</th>\n",
       "    </tr>\n",
       "  </thead>\n",
       "  <tbody>\n",
       "  </tbody>\n",
       "</table>\n",
       "</div>"
      ],
      "text/plain": [
       "Empty DataFrame\n",
       "Columns: [InventoryId, Store, Brand, Description, Size, VendorNumber, VendorName, PONumber, PODate, ReceivingDate, InvoiceDate, PayDate, PurchasePrice, Quantity, Dollars, Classification, fecha_actualizacion]\n",
       "Index: []"
      ]
     },
     "execution_count": 168,
     "metadata": {},
     "output_type": "execute_result"
    }
   ],
   "source": [
    "df2[df2['InventoryId'].str.contains('__', na=False)]"
   ]
  },
  {
   "cell_type": "code",
   "execution_count": 164,
   "id": "d08ed086",
   "metadata": {},
   "outputs": [],
   "source": [
    "mask = df2['InventoryId'].str.contains('__', na=False)\n",
    "\n",
    "df2.loc[mask, 'InventoryId'] = df6.loc[mask].apply(\n",
    "    lambda row: row['InventoryId'].replace('_', f\"{row['City_new2']}_\") if pd.notnull(row['City_new2']) else row['InventoryId'],\n",
    "    axis=1\n",
    ")"
   ]
  },
  {
   "cell_type": "code",
   "execution_count": 165,
   "id": "1a29bd9e",
   "metadata": {},
   "outputs": [
    {
     "data": {
      "application/vnd.microsoft.datawrangler.viewer.v0+json": {
       "columns": [
        {
         "name": "index",
         "rawType": "int64",
         "type": "integer"
        },
        {
         "name": "InventoryId",
         "rawType": "object",
         "type": "string"
        },
        {
         "name": "Store",
         "rawType": "int64",
         "type": "integer"
        },
        {
         "name": "Brand",
         "rawType": "int64",
         "type": "integer"
        },
        {
         "name": "Description",
         "rawType": "object",
         "type": "string"
        },
        {
         "name": "Size",
         "rawType": "object",
         "type": "string"
        },
        {
         "name": "VendorNumber",
         "rawType": "int64",
         "type": "integer"
        },
        {
         "name": "VendorName",
         "rawType": "object",
         "type": "string"
        },
        {
         "name": "PONumber",
         "rawType": "int64",
         "type": "integer"
        },
        {
         "name": "PODate",
         "rawType": "datetime64[ns]",
         "type": "datetime"
        },
        {
         "name": "ReceivingDate",
         "rawType": "datetime64[ns]",
         "type": "datetime"
        },
        {
         "name": "InvoiceDate",
         "rawType": "datetime64[ns]",
         "type": "datetime"
        },
        {
         "name": "PayDate",
         "rawType": "datetime64[ns]",
         "type": "datetime"
        },
        {
         "name": "PurchasePrice",
         "rawType": "float64",
         "type": "float"
        },
        {
         "name": "Quantity",
         "rawType": "int64",
         "type": "integer"
        },
        {
         "name": "Dollars",
         "rawType": "float64",
         "type": "float"
        },
        {
         "name": "Classification",
         "rawType": "int64",
         "type": "integer"
        },
        {
         "name": "fecha_actualizacion",
         "rawType": "datetime64[ns]",
         "type": "datetime"
        },
        {
         "name": "City",
         "rawType": "object",
         "type": "string"
        },
        {
         "name": "City_new2",
         "rawType": "object",
         "type": "string"
        }
       ],
       "ref": "26a5f188-8881-4847-b33f-baea006dd3a6",
       "rows": [],
       "shape": {
        "columns": 19,
        "rows": 0
       }
      },
      "text/html": [
       "<div>\n",
       "<style scoped>\n",
       "    .dataframe tbody tr th:only-of-type {\n",
       "        vertical-align: middle;\n",
       "    }\n",
       "\n",
       "    .dataframe tbody tr th {\n",
       "        vertical-align: top;\n",
       "    }\n",
       "\n",
       "    .dataframe thead th {\n",
       "        text-align: right;\n",
       "    }\n",
       "</style>\n",
       "<table border=\"1\" class=\"dataframe\">\n",
       "  <thead>\n",
       "    <tr style=\"text-align: right;\">\n",
       "      <th></th>\n",
       "      <th>InventoryId</th>\n",
       "      <th>Store</th>\n",
       "      <th>Brand</th>\n",
       "      <th>Description</th>\n",
       "      <th>Size</th>\n",
       "      <th>VendorNumber</th>\n",
       "      <th>VendorName</th>\n",
       "      <th>PONumber</th>\n",
       "      <th>PODate</th>\n",
       "      <th>ReceivingDate</th>\n",
       "      <th>InvoiceDate</th>\n",
       "      <th>PayDate</th>\n",
       "      <th>PurchasePrice</th>\n",
       "      <th>Quantity</th>\n",
       "      <th>Dollars</th>\n",
       "      <th>Classification</th>\n",
       "      <th>fecha_actualizacion</th>\n",
       "      <th>City</th>\n",
       "      <th>City_new2</th>\n",
       "    </tr>\n",
       "  </thead>\n",
       "  <tbody>\n",
       "  </tbody>\n",
       "</table>\n",
       "</div>"
      ],
      "text/plain": [
       "Empty DataFrame\n",
       "Columns: [InventoryId, Store, Brand, Description, Size, VendorNumber, VendorName, PONumber, PODate, ReceivingDate, InvoiceDate, PayDate, PurchasePrice, Quantity, Dollars, Classification, fecha_actualizacion, City, City_new2]\n",
       "Index: []"
      ]
     },
     "execution_count": 165,
     "metadata": {},
     "output_type": "execute_result"
    }
   ],
   "source": [
    "df2[df2['InventoryId'].str.contains('__', na=False)]"
   ]
  },
  {
   "cell_type": "code",
   "execution_count": 167,
   "id": "aab4669f",
   "metadata": {},
   "outputs": [],
   "source": [
    "df2 = df2.drop(columns=['City'])\n",
    "df2 = df2.drop(columns=['City_new2'])"
   ]
  },
  {
   "cell_type": "code",
   "execution_count": 169,
   "id": "c2ca69da",
   "metadata": {},
   "outputs": [
    {
     "data": {
      "application/vnd.microsoft.datawrangler.viewer.v0+json": {
       "columns": [
        {
         "name": "index",
         "rawType": "int64",
         "type": "integer"
        },
        {
         "name": "InventoryId",
         "rawType": "object",
         "type": "string"
        },
        {
         "name": "Store",
         "rawType": "int64",
         "type": "integer"
        },
        {
         "name": "Brand",
         "rawType": "int64",
         "type": "integer"
        },
        {
         "name": "Description",
         "rawType": "object",
         "type": "string"
        },
        {
         "name": "Size",
         "rawType": "object",
         "type": "string"
        },
        {
         "name": "VendorNumber",
         "rawType": "int64",
         "type": "integer"
        },
        {
         "name": "VendorName",
         "rawType": "object",
         "type": "string"
        },
        {
         "name": "PONumber",
         "rawType": "int64",
         "type": "integer"
        },
        {
         "name": "PODate",
         "rawType": "datetime64[ns]",
         "type": "datetime"
        },
        {
         "name": "ReceivingDate",
         "rawType": "datetime64[ns]",
         "type": "datetime"
        },
        {
         "name": "InvoiceDate",
         "rawType": "datetime64[ns]",
         "type": "datetime"
        },
        {
         "name": "PayDate",
         "rawType": "datetime64[ns]",
         "type": "datetime"
        },
        {
         "name": "PurchasePrice",
         "rawType": "float64",
         "type": "float"
        },
        {
         "name": "Quantity",
         "rawType": "int64",
         "type": "integer"
        },
        {
         "name": "Dollars",
         "rawType": "float64",
         "type": "float"
        },
        {
         "name": "Classification",
         "rawType": "int64",
         "type": "integer"
        },
        {
         "name": "fecha_actualizacion",
         "rawType": "datetime64[ns]",
         "type": "datetime"
        }
       ],
       "ref": "9601ccc6-f54d-45a5-8387-ec45e3882fcb",
       "rows": [
        [
         "0",
         "30_CULCHETH_5255",
         "30",
         "5255",
         "TGI Fridays Ultimte Mudslide",
         "1.75L",
         "4466",
         "AMERICAN VINTAGE BEVERAGE",
         "8137",
         "2015-12-22 00:00:00",
         "2016-01-01 00:00:00",
         "2016-01-07 00:00:00",
         "2016-02-21 00:00:00",
         "9.35",
         "4",
         "37.4",
         "1",
         "2025-05-27 18:54:37"
        ],
        [
         "1",
         "34_PITMERDEN_5215",
         "34",
         "5215",
         "TGI Fridays Long Island Iced",
         "1.75L",
         "4466",
         "AMERICAN VINTAGE BEVERAGE",
         "8137",
         "2015-12-22 00:00:00",
         "2016-01-02 00:00:00",
         "2016-01-07 00:00:00",
         "2016-02-21 00:00:00",
         "9.41",
         "5",
         "47.05",
         "1",
         "2025-05-27 18:54:37"
        ],
        [
         "2",
         "1_HARDERSFIELD_5255",
         "1",
         "5255",
         "TGI Fridays Ultimte Mudslide",
         "1.75L",
         "4466",
         "AMERICAN VINTAGE BEVERAGE",
         "8137",
         "2015-12-22 00:00:00",
         "2016-01-01 00:00:00",
         "2016-01-07 00:00:00",
         "2016-02-21 00:00:00",
         "9.35",
         "6",
         "56.1",
         "1",
         "2025-05-27 18:54:37"
        ],
        [
         "3",
         "76_DONCASTER_2034",
         "76",
         "2034",
         "Glendalough Double Barrel",
         "750mL",
         "388",
         "ATLANTIC IMPORTING COMPANY",
         "8169",
         "2015-12-24 00:00:00",
         "2016-01-02 00:00:00",
         "2016-01-09 00:00:00",
         "2016-02-16 00:00:00",
         "21.32",
         "5",
         "106.6",
         "1",
         "2025-05-27 18:54:37"
        ],
        [
         "4",
         "5_SUTTON_3348",
         "5",
         "3348",
         "Bombay Sapphire Gin",
         "1.75L",
         "480",
         "BACARDI USA INC",
         "8106",
         "2015-12-20 00:00:00",
         "2016-01-02 00:00:00",
         "2016-01-12 00:00:00",
         "2016-02-05 00:00:00",
         "22.38",
         "6",
         "134.28",
         "1",
         "2025-05-27 18:54:37"
        ]
       ],
       "shape": {
        "columns": 17,
        "rows": 5
       }
      },
      "text/html": [
       "<div>\n",
       "<style scoped>\n",
       "    .dataframe tbody tr th:only-of-type {\n",
       "        vertical-align: middle;\n",
       "    }\n",
       "\n",
       "    .dataframe tbody tr th {\n",
       "        vertical-align: top;\n",
       "    }\n",
       "\n",
       "    .dataframe thead th {\n",
       "        text-align: right;\n",
       "    }\n",
       "</style>\n",
       "<table border=\"1\" class=\"dataframe\">\n",
       "  <thead>\n",
       "    <tr style=\"text-align: right;\">\n",
       "      <th></th>\n",
       "      <th>InventoryId</th>\n",
       "      <th>Store</th>\n",
       "      <th>Brand</th>\n",
       "      <th>Description</th>\n",
       "      <th>Size</th>\n",
       "      <th>VendorNumber</th>\n",
       "      <th>VendorName</th>\n",
       "      <th>PONumber</th>\n",
       "      <th>PODate</th>\n",
       "      <th>ReceivingDate</th>\n",
       "      <th>InvoiceDate</th>\n",
       "      <th>PayDate</th>\n",
       "      <th>PurchasePrice</th>\n",
       "      <th>Quantity</th>\n",
       "      <th>Dollars</th>\n",
       "      <th>Classification</th>\n",
       "      <th>fecha_actualizacion</th>\n",
       "    </tr>\n",
       "  </thead>\n",
       "  <tbody>\n",
       "    <tr>\n",
       "      <th>0</th>\n",
       "      <td>30_CULCHETH_5255</td>\n",
       "      <td>30</td>\n",
       "      <td>5255</td>\n",
       "      <td>TGI Fridays Ultimte Mudslide</td>\n",
       "      <td>1.75L</td>\n",
       "      <td>4466</td>\n",
       "      <td>AMERICAN VINTAGE BEVERAGE</td>\n",
       "      <td>8137</td>\n",
       "      <td>2015-12-22</td>\n",
       "      <td>2016-01-01</td>\n",
       "      <td>2016-01-07</td>\n",
       "      <td>2016-02-21</td>\n",
       "      <td>9.35</td>\n",
       "      <td>4</td>\n",
       "      <td>37.40</td>\n",
       "      <td>1</td>\n",
       "      <td>2025-05-27 18:54:37</td>\n",
       "    </tr>\n",
       "    <tr>\n",
       "      <th>1</th>\n",
       "      <td>34_PITMERDEN_5215</td>\n",
       "      <td>34</td>\n",
       "      <td>5215</td>\n",
       "      <td>TGI Fridays Long Island Iced</td>\n",
       "      <td>1.75L</td>\n",
       "      <td>4466</td>\n",
       "      <td>AMERICAN VINTAGE BEVERAGE</td>\n",
       "      <td>8137</td>\n",
       "      <td>2015-12-22</td>\n",
       "      <td>2016-01-02</td>\n",
       "      <td>2016-01-07</td>\n",
       "      <td>2016-02-21</td>\n",
       "      <td>9.41</td>\n",
       "      <td>5</td>\n",
       "      <td>47.05</td>\n",
       "      <td>1</td>\n",
       "      <td>2025-05-27 18:54:37</td>\n",
       "    </tr>\n",
       "    <tr>\n",
       "      <th>2</th>\n",
       "      <td>1_HARDERSFIELD_5255</td>\n",
       "      <td>1</td>\n",
       "      <td>5255</td>\n",
       "      <td>TGI Fridays Ultimte Mudslide</td>\n",
       "      <td>1.75L</td>\n",
       "      <td>4466</td>\n",
       "      <td>AMERICAN VINTAGE BEVERAGE</td>\n",
       "      <td>8137</td>\n",
       "      <td>2015-12-22</td>\n",
       "      <td>2016-01-01</td>\n",
       "      <td>2016-01-07</td>\n",
       "      <td>2016-02-21</td>\n",
       "      <td>9.35</td>\n",
       "      <td>6</td>\n",
       "      <td>56.10</td>\n",
       "      <td>1</td>\n",
       "      <td>2025-05-27 18:54:37</td>\n",
       "    </tr>\n",
       "    <tr>\n",
       "      <th>3</th>\n",
       "      <td>76_DONCASTER_2034</td>\n",
       "      <td>76</td>\n",
       "      <td>2034</td>\n",
       "      <td>Glendalough Double Barrel</td>\n",
       "      <td>750mL</td>\n",
       "      <td>388</td>\n",
       "      <td>ATLANTIC IMPORTING COMPANY</td>\n",
       "      <td>8169</td>\n",
       "      <td>2015-12-24</td>\n",
       "      <td>2016-01-02</td>\n",
       "      <td>2016-01-09</td>\n",
       "      <td>2016-02-16</td>\n",
       "      <td>21.32</td>\n",
       "      <td>5</td>\n",
       "      <td>106.60</td>\n",
       "      <td>1</td>\n",
       "      <td>2025-05-27 18:54:37</td>\n",
       "    </tr>\n",
       "    <tr>\n",
       "      <th>4</th>\n",
       "      <td>5_SUTTON_3348</td>\n",
       "      <td>5</td>\n",
       "      <td>3348</td>\n",
       "      <td>Bombay Sapphire Gin</td>\n",
       "      <td>1.75L</td>\n",
       "      <td>480</td>\n",
       "      <td>BACARDI USA INC</td>\n",
       "      <td>8106</td>\n",
       "      <td>2015-12-20</td>\n",
       "      <td>2016-01-02</td>\n",
       "      <td>2016-01-12</td>\n",
       "      <td>2016-02-05</td>\n",
       "      <td>22.38</td>\n",
       "      <td>6</td>\n",
       "      <td>134.28</td>\n",
       "      <td>1</td>\n",
       "      <td>2025-05-27 18:54:37</td>\n",
       "    </tr>\n",
       "  </tbody>\n",
       "</table>\n",
       "</div>"
      ],
      "text/plain": [
       "           InventoryId  Store  Brand                   Description   Size  \\\n",
       "0     30_CULCHETH_5255     30   5255  TGI Fridays Ultimte Mudslide  1.75L   \n",
       "1    34_PITMERDEN_5215     34   5215  TGI Fridays Long Island Iced  1.75L   \n",
       "2  1_HARDERSFIELD_5255      1   5255  TGI Fridays Ultimte Mudslide  1.75L   \n",
       "3    76_DONCASTER_2034     76   2034     Glendalough Double Barrel  750mL   \n",
       "4        5_SUTTON_3348      5   3348           Bombay Sapphire Gin  1.75L   \n",
       "\n",
       "   VendorNumber                  VendorName  PONumber     PODate  \\\n",
       "0          4466   AMERICAN VINTAGE BEVERAGE      8137 2015-12-22   \n",
       "1          4466   AMERICAN VINTAGE BEVERAGE      8137 2015-12-22   \n",
       "2          4466   AMERICAN VINTAGE BEVERAGE      8137 2015-12-22   \n",
       "3           388  ATLANTIC IMPORTING COMPANY      8169 2015-12-24   \n",
       "4           480             BACARDI USA INC      8106 2015-12-20   \n",
       "\n",
       "  ReceivingDate InvoiceDate    PayDate  PurchasePrice  Quantity  Dollars  \\\n",
       "0    2016-01-01  2016-01-07 2016-02-21           9.35         4    37.40   \n",
       "1    2016-01-02  2016-01-07 2016-02-21           9.41         5    47.05   \n",
       "2    2016-01-01  2016-01-07 2016-02-21           9.35         6    56.10   \n",
       "3    2016-01-02  2016-01-09 2016-02-16          21.32         5   106.60   \n",
       "4    2016-01-02  2016-01-12 2016-02-05          22.38         6   134.28   \n",
       "\n",
       "   Classification fecha_actualizacion  \n",
       "0               1 2025-05-27 18:54:37  \n",
       "1               1 2025-05-27 18:54:37  \n",
       "2               1 2025-05-27 18:54:37  \n",
       "3               1 2025-05-27 18:54:37  \n",
       "4               1 2025-05-27 18:54:37  "
      ]
     },
     "execution_count": 169,
     "metadata": {},
     "output_type": "execute_result"
    }
   ],
   "source": [
    "df2.head()"
   ]
  },
  {
   "cell_type": "code",
   "execution_count": 170,
   "id": "75abb495",
   "metadata": {},
   "outputs": [],
   "source": [
    "#Ya hicimos toda la limpieza, guardamos\n",
    "df2.to_csv('PurchaseFINAL12312016_Modificado.csv', index=False)"
   ]
  }
 ],
 "metadata": {
  "kernelspec": {
   "display_name": "Python 3",
   "language": "python",
   "name": "python3"
  },
  "language_info": {
   "codemirror_mode": {
    "name": "ipython",
    "version": 3
   },
   "file_extension": ".py",
   "mimetype": "text/x-python",
   "name": "python",
   "nbconvert_exporter": "python",
   "pygments_lexer": "ipython3",
   "version": "3.13.3"
  }
 },
 "nbformat": 4,
 "nbformat_minor": 5
}
