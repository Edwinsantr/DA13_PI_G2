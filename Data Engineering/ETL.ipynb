{
 "cells": [
  {
   "cell_type": "markdown",
   "metadata": {},
   "source": [
    "Primero, nos conectamos a la BD y cargamos el DS:"
   ]
  },
  {
   "cell_type": "code",
   "execution_count": 3,
   "id": "471bbce3",
   "metadata": {},
   "outputs": [
    {
     "name": "stdout",
     "output_type": "stream",
     "text": [
      "Requirement already satisfied: mysql-connector-python in c:\\users\\franco\\appdata\\local\\programs\\python\\python313\\lib\\site-packages (9.3.0)\n",
      "Note: you may need to restart the kernel to use updated packages.\n"
     ]
    },
    {
     "name": "stderr",
     "output_type": "stream",
     "text": [
      "\n",
      "[notice] A new release of pip is available: 25.0.1 -> 25.1.1\n",
      "[notice] To update, run: python.exe -m pip install --upgrade pip\n"
     ]
    }
   ],
   "source": [
    "pip install mysql-connector-python"
   ]
  },
  {
   "cell_type": "code",
   "execution_count": 4,
   "id": "29cb2b84",
   "metadata": {},
   "outputs": [
    {
     "name": "stdout",
     "output_type": "stream",
     "text": [
      "Requirement already satisfied: SQLAlchemy in c:\\users\\franco\\appdata\\local\\programs\\python\\python313\\lib\\site-packages (2.0.41)\n",
      "Requirement already satisfied: greenlet>=1 in c:\\users\\franco\\appdata\\local\\programs\\python\\python313\\lib\\site-packages (from SQLAlchemy) (3.2.2)\n",
      "Requirement already satisfied: typing-extensions>=4.6.0 in c:\\users\\franco\\appdata\\local\\programs\\python\\python313\\lib\\site-packages (from SQLAlchemy) (4.13.2)\n",
      "Note: you may need to restart the kernel to use updated packages.\n"
     ]
    },
    {
     "name": "stderr",
     "output_type": "stream",
     "text": [
      "\n",
      "[notice] A new release of pip is available: 25.0.1 -> 25.1.1\n",
      "[notice] To update, run: python.exe -m pip install --upgrade pip\n"
     ]
    }
   ],
   "source": [
    "pip install SQLAlchemy"
   ]
  },
  {
   "cell_type": "code",
   "execution_count": 5,
   "id": "dcdb6427",
   "metadata": {},
   "outputs": [],
   "source": [
    "from sqlalchemy import create_engine\n",
    "import os"
   ]
  },
  {
   "cell_type": "code",
   "execution_count": 6,
   "id": "b13d3c41",
   "metadata": {},
   "outputs": [],
   "source": [
    "usuario = \"franco\"\n",
    "contraseña = \"Proyectofinal2025!%\"\n",
    "host = \"34.135.248.251\"\n",
    "puerto = \"3306\"\n",
    "base_de_datos = \"pf-g2-daft13\""
   ]
  },
  {
   "cell_type": "code",
   "execution_count": 7,
   "id": "e9e08b99",
   "metadata": {},
   "outputs": [],
   "source": [
    "# Crear conexión SQLAlchemy\n",
    "engine = create_engine(f\"mysql+mysqlconnector://{usuario}:{contraseña}@{host}:{puerto}/{base_de_datos}\")"
   ]
  },
  {
   "cell_type": "markdown",
   "id": "3d0e8bcf",
   "metadata": {},
   "source": [
    "Importo las librerias necesarias"
   ]
  },
  {
   "cell_type": "code",
   "execution_count": 8,
   "id": "cf5b63d0",
   "metadata": {},
   "outputs": [],
   "source": [
    "import pandas as pd\n",
    "import numpy as np\n",
    "import matplotlib.pyplot as plt"
   ]
  },
  {
   "cell_type": "markdown",
   "id": "9171afc3",
   "metadata": {},
   "source": [
    "## Aca Inicia la limpieza de PurchasePricesDec2017"
   ]
  },
  {
   "cell_type": "markdown",
   "id": "af2adced",
   "metadata": {},
   "source": [
    "Cargo la primer tabla:"
   ]
  },
  {
   "cell_type": "code",
   "execution_count": 9,
   "id": "07a4be2a",
   "metadata": {},
   "outputs": [],
   "source": [
    "df1 = pd.read_sql_table(\"PurchasePricesDec2017\", con=engine)"
   ]
  },
  {
   "cell_type": "code",
   "execution_count": 10,
   "id": "5eb88f23",
   "metadata": {},
   "outputs": [
    {
     "data": {
      "application/vnd.microsoft.datawrangler.viewer.v0+json": {
       "columns": [
        {
         "name": "index",
         "rawType": "int64",
         "type": "integer"
        },
        {
         "name": "Brand",
         "rawType": "int64",
         "type": "integer"
        },
        {
         "name": "Description",
         "rawType": "object",
         "type": "string"
        },
        {
         "name": "Price",
         "rawType": "float64",
         "type": "float"
        },
        {
         "name": "Size",
         "rawType": "object",
         "type": "string"
        },
        {
         "name": "Volume",
         "rawType": "int64",
         "type": "integer"
        },
        {
         "name": "Classification",
         "rawType": "int64",
         "type": "integer"
        },
        {
         "name": "PurchasePrice",
         "rawType": "float64",
         "type": "float"
        },
        {
         "name": "VendorNumber",
         "rawType": "int64",
         "type": "integer"
        },
        {
         "name": "VendorName",
         "rawType": "object",
         "type": "string"
        },
        {
         "name": "fecha_actualizacion",
         "rawType": "datetime64[ns]",
         "type": "datetime"
        }
       ],
       "ref": "165f3ad7-ab33-42a0-ae4a-026c01fc525f",
       "rows": [
        [
         "0",
         "0",
         "Description",
         "0.0",
         "Size",
         "0",
         "0",
         "0.0",
         "0",
         "VendorName\"\r\n58,\"Gekkeikan Black & Gold Sake",
         "2025-05-27 18:54:32"
        ],
        [
         "1",
         "61",
         "Margaritaville Silver",
         "13.99",
         "750mL",
         "750",
         "1",
         "10.6",
         "8004",
         "SAZERAC CO INC             \"\r\n122,\"DeKuyper Mixed Berry Medley",
         "2025-05-27 18:54:32"
        ],
        [
         "2",
         "62",
         "Herradura Silver Tequila",
         "36.99",
         "750mL",
         "750",
         "1",
         "28.67",
         "1128",
         "BROWN-FORMAN CORP          \"\r\n63,\"Herradura Reposado Tequila",
         "2025-05-27 18:54:32"
        ],
        [
         "3",
         "68",
         "Luxardo Triplum Triple Sec",
         "24.99",
         "750mL",
         "750",
         "1",
         "18.93",
         "9165",
         "ULTRA BEVERAGE COMPANY LLP \"\r\n97,\"Smirnoff Passion Fruit Vodka",
         "2025-05-27 18:54:32"
        ],
        [
         "4",
         "70",
         "Luxardo Amaretto di Saschira",
         "18.99",
         "750mL",
         "750",
         "1",
         "13.96",
         "9165",
         "ULTRA BEVERAGE COMPANY LLP \"\r\n3535,\"Ricura Cream Liqueur",
         "2025-05-27 18:54:32"
        ]
       ],
       "shape": {
        "columns": 10,
        "rows": 5
       }
      },
      "text/html": [
       "<div>\n",
       "<style scoped>\n",
       "    .dataframe tbody tr th:only-of-type {\n",
       "        vertical-align: middle;\n",
       "    }\n",
       "\n",
       "    .dataframe tbody tr th {\n",
       "        vertical-align: top;\n",
       "    }\n",
       "\n",
       "    .dataframe thead th {\n",
       "        text-align: right;\n",
       "    }\n",
       "</style>\n",
       "<table border=\"1\" class=\"dataframe\">\n",
       "  <thead>\n",
       "    <tr style=\"text-align: right;\">\n",
       "      <th></th>\n",
       "      <th>Brand</th>\n",
       "      <th>Description</th>\n",
       "      <th>Price</th>\n",
       "      <th>Size</th>\n",
       "      <th>Volume</th>\n",
       "      <th>Classification</th>\n",
       "      <th>PurchasePrice</th>\n",
       "      <th>VendorNumber</th>\n",
       "      <th>VendorName</th>\n",
       "      <th>fecha_actualizacion</th>\n",
       "    </tr>\n",
       "  </thead>\n",
       "  <tbody>\n",
       "    <tr>\n",
       "      <th>0</th>\n",
       "      <td>0</td>\n",
       "      <td>Description</td>\n",
       "      <td>0.00</td>\n",
       "      <td>Size</td>\n",
       "      <td>0</td>\n",
       "      <td>0</td>\n",
       "      <td>0.00</td>\n",
       "      <td>0</td>\n",
       "      <td>VendorName\"\\r\\n58,\"Gekkeikan Black &amp; Gold Sake</td>\n",
       "      <td>2025-05-27 18:54:32</td>\n",
       "    </tr>\n",
       "    <tr>\n",
       "      <th>1</th>\n",
       "      <td>61</td>\n",
       "      <td>Margaritaville Silver</td>\n",
       "      <td>13.99</td>\n",
       "      <td>750mL</td>\n",
       "      <td>750</td>\n",
       "      <td>1</td>\n",
       "      <td>10.60</td>\n",
       "      <td>8004</td>\n",
       "      <td>SAZERAC CO INC             \"\\r\\n122,\"DeKuyper ...</td>\n",
       "      <td>2025-05-27 18:54:32</td>\n",
       "    </tr>\n",
       "    <tr>\n",
       "      <th>2</th>\n",
       "      <td>62</td>\n",
       "      <td>Herradura Silver Tequila</td>\n",
       "      <td>36.99</td>\n",
       "      <td>750mL</td>\n",
       "      <td>750</td>\n",
       "      <td>1</td>\n",
       "      <td>28.67</td>\n",
       "      <td>1128</td>\n",
       "      <td>BROWN-FORMAN CORP          \"\\r\\n63,\"Herradura ...</td>\n",
       "      <td>2025-05-27 18:54:32</td>\n",
       "    </tr>\n",
       "    <tr>\n",
       "      <th>3</th>\n",
       "      <td>68</td>\n",
       "      <td>Luxardo Triplum Triple Sec</td>\n",
       "      <td>24.99</td>\n",
       "      <td>750mL</td>\n",
       "      <td>750</td>\n",
       "      <td>1</td>\n",
       "      <td>18.93</td>\n",
       "      <td>9165</td>\n",
       "      <td>ULTRA BEVERAGE COMPANY LLP \"\\r\\n97,\"Smirnoff P...</td>\n",
       "      <td>2025-05-27 18:54:32</td>\n",
       "    </tr>\n",
       "    <tr>\n",
       "      <th>4</th>\n",
       "      <td>70</td>\n",
       "      <td>Luxardo Amaretto di Saschira</td>\n",
       "      <td>18.99</td>\n",
       "      <td>750mL</td>\n",
       "      <td>750</td>\n",
       "      <td>1</td>\n",
       "      <td>13.96</td>\n",
       "      <td>9165</td>\n",
       "      <td>ULTRA BEVERAGE COMPANY LLP \"\\r\\n3535,\"Ricura C...</td>\n",
       "      <td>2025-05-27 18:54:32</td>\n",
       "    </tr>\n",
       "  </tbody>\n",
       "</table>\n",
       "</div>"
      ],
      "text/plain": [
       "   Brand                   Description  Price   Size  Volume  Classification  \\\n",
       "0      0                   Description   0.00   Size       0               0   \n",
       "1     61         Margaritaville Silver  13.99  750mL     750               1   \n",
       "2     62      Herradura Silver Tequila  36.99  750mL     750               1   \n",
       "3     68    Luxardo Triplum Triple Sec  24.99  750mL     750               1   \n",
       "4     70  Luxardo Amaretto di Saschira  18.99  750mL     750               1   \n",
       "\n",
       "   PurchasePrice  VendorNumber  \\\n",
       "0           0.00             0   \n",
       "1          10.60          8004   \n",
       "2          28.67          1128   \n",
       "3          18.93          9165   \n",
       "4          13.96          9165   \n",
       "\n",
       "                                          VendorName fecha_actualizacion  \n",
       "0     VendorName\"\\r\\n58,\"Gekkeikan Black & Gold Sake 2025-05-27 18:54:32  \n",
       "1  SAZERAC CO INC             \"\\r\\n122,\"DeKuyper ... 2025-05-27 18:54:32  \n",
       "2  BROWN-FORMAN CORP          \"\\r\\n63,\"Herradura ... 2025-05-27 18:54:32  \n",
       "3  ULTRA BEVERAGE COMPANY LLP \"\\r\\n97,\"Smirnoff P... 2025-05-27 18:54:32  \n",
       "4  ULTRA BEVERAGE COMPANY LLP \"\\r\\n3535,\"Ricura C... 2025-05-27 18:54:32  "
      ]
     },
     "execution_count": 10,
     "metadata": {},
     "output_type": "execute_result"
    }
   ],
   "source": [
    "df1.head()"
   ]
  },
  {
   "cell_type": "code",
   "execution_count": 11,
   "id": "2211c065",
   "metadata": {},
   "outputs": [
    {
     "data": {
      "text/plain": [
       "(6131, 10)"
      ]
     },
     "execution_count": 11,
     "metadata": {},
     "output_type": "execute_result"
    }
   ],
   "source": [
    "np.shape(df1)"
   ]
  },
  {
   "cell_type": "code",
   "execution_count": 12,
   "id": "828d8f6a",
   "metadata": {},
   "outputs": [
    {
     "name": "stdout",
     "output_type": "stream",
     "text": [
      "Index(['Brand', 'Description', 'Price', 'Size', 'Volume', 'Classification',\n",
      "       'PurchasePrice', 'VendorNumber', 'VendorName', 'fecha_actualizacion'],\n",
      "      dtype='object')\n"
     ]
    }
   ],
   "source": [
    "#Validamos los datos que tenemos en los campos\n",
    "print(df1.columns)"
   ]
  },
  {
   "cell_type": "code",
   "execution_count": 13,
   "id": "30b3d2f6",
   "metadata": {},
   "outputs": [
    {
     "name": "stdout",
     "output_type": "stream",
     "text": [
      "<class 'pandas.core.frame.DataFrame'>\n",
      "RangeIndex: 6131 entries, 0 to 6130\n",
      "Data columns (total 10 columns):\n",
      " #   Column               Non-Null Count  Dtype         \n",
      "---  ------               --------------  -----         \n",
      " 0   Brand                6131 non-null   int64         \n",
      " 1   Description          6131 non-null   object        \n",
      " 2   Price                6131 non-null   float64       \n",
      " 3   Size                 6131 non-null   object        \n",
      " 4   Volume               6131 non-null   int64         \n",
      " 5   Classification       6131 non-null   int64         \n",
      " 6   PurchasePrice        6131 non-null   float64       \n",
      " 7   VendorNumber         6131 non-null   int64         \n",
      " 8   VendorName           6131 non-null   object        \n",
      " 9   fecha_actualizacion  6131 non-null   datetime64[ns]\n",
      "dtypes: datetime64[ns](1), float64(2), int64(4), object(3)\n",
      "memory usage: 479.1+ KB\n",
      "None\n"
     ]
    }
   ],
   "source": [
    "print(df1.info())"
   ]
  },
  {
   "cell_type": "markdown",
   "id": "97c11807",
   "metadata": {},
   "source": [
    "En principio no hay nulos, chequeamos"
   ]
  },
  {
   "cell_type": "code",
   "execution_count": 14,
   "id": "72ec6bd1",
   "metadata": {},
   "outputs": [
    {
     "data": {
      "application/vnd.microsoft.datawrangler.viewer.v0+json": {
       "columns": [
        {
         "name": "index",
         "rawType": "object",
         "type": "string"
        },
        {
         "name": "0",
         "rawType": "int64",
         "type": "integer"
        }
       ],
       "ref": "860d704c-d927-48fc-953f-e03faadc2990",
       "rows": [
        [
         "Brand",
         "0"
        ],
        [
         "Description",
         "0"
        ],
        [
         "Price",
         "0"
        ],
        [
         "Size",
         "0"
        ],
        [
         "Volume",
         "0"
        ],
        [
         "Classification",
         "0"
        ],
        [
         "PurchasePrice",
         "0"
        ],
        [
         "VendorNumber",
         "0"
        ],
        [
         "VendorName",
         "0"
        ],
        [
         "fecha_actualizacion",
         "0"
        ]
       ],
       "shape": {
        "columns": 1,
        "rows": 10
       }
      },
      "text/plain": [
       "Brand                  0\n",
       "Description            0\n",
       "Price                  0\n",
       "Size                   0\n",
       "Volume                 0\n",
       "Classification         0\n",
       "PurchasePrice          0\n",
       "VendorNumber           0\n",
       "VendorName             0\n",
       "fecha_actualizacion    0\n",
       "dtype: int64"
      ]
     },
     "execution_count": 14,
     "metadata": {},
     "output_type": "execute_result"
    }
   ],
   "source": [
    "df1.isnull().sum()"
   ]
  },
  {
   "cell_type": "code",
   "execution_count": 15,
   "id": "cf43d241",
   "metadata": {},
   "outputs": [
    {
     "data": {
      "application/vnd.microsoft.datawrangler.viewer.v0+json": {
       "columns": [
        {
         "name": "index",
         "rawType": "object",
         "type": "string"
        },
        {
         "name": "0",
         "rawType": "int64",
         "type": "integer"
        }
       ],
       "ref": "345361f7-3027-425d-be5e-754cd3f865f8",
       "rows": [
        [
         "Brand",
         "0"
        ],
        [
         "Description",
         "0"
        ],
        [
         "Price",
         "0"
        ],
        [
         "Size",
         "0"
        ],
        [
         "Volume",
         "0"
        ],
        [
         "Classification",
         "0"
        ],
        [
         "PurchasePrice",
         "0"
        ],
        [
         "VendorNumber",
         "0"
        ],
        [
         "VendorName",
         "0"
        ],
        [
         "fecha_actualizacion",
         "0"
        ]
       ],
       "shape": {
        "columns": 1,
        "rows": 10
       }
      },
      "text/plain": [
       "Brand                  0\n",
       "Description            0\n",
       "Price                  0\n",
       "Size                   0\n",
       "Volume                 0\n",
       "Classification         0\n",
       "PurchasePrice          0\n",
       "VendorNumber           0\n",
       "VendorName             0\n",
       "fecha_actualizacion    0\n",
       "dtype: int64"
      ]
     },
     "execution_count": 15,
     "metadata": {},
     "output_type": "execute_result"
    }
   ],
   "source": [
    "df1.isna().sum()"
   ]
  },
  {
   "cell_type": "markdown",
   "id": "867e0dc2",
   "metadata": {},
   "source": [
    "Vemos que no hay nulos ni 0, pero podria haber espacios vacios con espacios, reemplazamos estor valores:"
   ]
  },
  {
   "cell_type": "code",
   "execution_count": 16,
   "id": "4a910c12",
   "metadata": {},
   "outputs": [],
   "source": [
    "df1 = df1.replace(r'^\\s*$', np.nan, regex=True)"
   ]
  },
  {
   "cell_type": "markdown",
   "id": "654e6468",
   "metadata": {},
   "source": [
    "Eliminamos la primera fila, que contiene los titulos"
   ]
  },
  {
   "cell_type": "code",
   "execution_count": 17,
   "id": "599f977a",
   "metadata": {},
   "outputs": [],
   "source": [
    "df1 = df1.drop(index=0).reset_index(drop=True)"
   ]
  },
  {
   "cell_type": "code",
   "execution_count": 18,
   "id": "a4530826",
   "metadata": {},
   "outputs": [
    {
     "data": {
      "application/vnd.microsoft.datawrangler.viewer.v0+json": {
       "columns": [
        {
         "name": "index",
         "rawType": "object",
         "type": "string"
        },
        {
         "name": "0",
         "rawType": "int64",
         "type": "integer"
        }
       ],
       "ref": "d0253ea4-83a7-4c84-b105-f820b7b051e5",
       "rows": [
        [
         "Brand",
         "0"
        ],
        [
         "Description",
         "1"
        ],
        [
         "Price",
         "0"
        ],
        [
         "Size",
         "1"
        ],
        [
         "Volume",
         "0"
        ],
        [
         "Classification",
         "0"
        ],
        [
         "PurchasePrice",
         "0"
        ],
        [
         "VendorNumber",
         "0"
        ],
        [
         "VendorName",
         "0"
        ],
        [
         "fecha_actualizacion",
         "0"
        ]
       ],
       "shape": {
        "columns": 1,
        "rows": 10
       }
      },
      "text/plain": [
       "Brand                  0\n",
       "Description            1\n",
       "Price                  0\n",
       "Size                   1\n",
       "Volume                 0\n",
       "Classification         0\n",
       "PurchasePrice          0\n",
       "VendorNumber           0\n",
       "VendorName             0\n",
       "fecha_actualizacion    0\n",
       "dtype: int64"
      ]
     },
     "execution_count": 18,
     "metadata": {},
     "output_type": "execute_result"
    }
   ],
   "source": [
    "df1.isna().sum()"
   ]
  },
  {
   "cell_type": "code",
   "execution_count": 19,
   "id": "6b74a532",
   "metadata": {},
   "outputs": [
    {
     "data": {
      "application/vnd.microsoft.datawrangler.viewer.v0+json": {
       "columns": [
        {
         "name": "index",
         "rawType": "object",
         "type": "string"
        },
        {
         "name": "0",
         "rawType": "int64",
         "type": "integer"
        }
       ],
       "ref": "cb946b41-ae98-4820-84b5-7f6e95090c26",
       "rows": [
        [
         "Brand",
         "0"
        ],
        [
         "Description",
         "1"
        ],
        [
         "Price",
         "0"
        ],
        [
         "Size",
         "1"
        ],
        [
         "Volume",
         "0"
        ],
        [
         "Classification",
         "0"
        ],
        [
         "PurchasePrice",
         "0"
        ],
        [
         "VendorNumber",
         "0"
        ],
        [
         "VendorName",
         "0"
        ],
        [
         "fecha_actualizacion",
         "0"
        ]
       ],
       "shape": {
        "columns": 1,
        "rows": 10
       }
      },
      "text/plain": [
       "Brand                  0\n",
       "Description            1\n",
       "Price                  0\n",
       "Size                   1\n",
       "Volume                 0\n",
       "Classification         0\n",
       "PurchasePrice          0\n",
       "VendorNumber           0\n",
       "VendorName             0\n",
       "fecha_actualizacion    0\n",
       "dtype: int64"
      ]
     },
     "execution_count": 19,
     "metadata": {},
     "output_type": "execute_result"
    }
   ],
   "source": [
    "df1.isnull().sum()"
   ]
  },
  {
   "cell_type": "markdown",
   "id": "a171439a",
   "metadata": {},
   "source": [
    "Encontramos valores nulos y na, buscamos cual es antes de tomar una decisión:"
   ]
  },
  {
   "cell_type": "code",
   "execution_count": 20,
   "id": "1e723238",
   "metadata": {},
   "outputs": [
    {
     "data": {
      "application/vnd.microsoft.datawrangler.viewer.v0+json": {
       "columns": [
        {
         "name": "index",
         "rawType": "int64",
         "type": "integer"
        },
        {
         "name": "Brand",
         "rawType": "int64",
         "type": "integer"
        },
        {
         "name": "Description",
         "rawType": "object",
         "type": "unknown"
        },
        {
         "name": "Price",
         "rawType": "float64",
         "type": "float"
        },
        {
         "name": "Size",
         "rawType": "object",
         "type": "unknown"
        },
        {
         "name": "Volume",
         "rawType": "int64",
         "type": "integer"
        },
        {
         "name": "Classification",
         "rawType": "int64",
         "type": "integer"
        },
        {
         "name": "PurchasePrice",
         "rawType": "float64",
         "type": "float"
        },
        {
         "name": "VendorNumber",
         "rawType": "int64",
         "type": "integer"
        },
        {
         "name": "VendorName",
         "rawType": "object",
         "type": "string"
        },
        {
         "name": "fecha_actualizacion",
         "rawType": "datetime64[ns]",
         "type": "datetime"
        }
       ],
       "ref": "d17a252d-9a06-49ae-92f3-2a8713b8e959",
       "rows": [
        [
         "1186",
         "4202",
         null,
         "0.0",
         null,
         "0",
         "1",
         "11.19",
         "480",
         "BACARDI USA INC            \"\r\n17989,\"Porta Vita Bianco",
         "2025-05-27 18:54:32"
        ]
       ],
       "shape": {
        "columns": 10,
        "rows": 1
       }
      },
      "text/html": [
       "<div>\n",
       "<style scoped>\n",
       "    .dataframe tbody tr th:only-of-type {\n",
       "        vertical-align: middle;\n",
       "    }\n",
       "\n",
       "    .dataframe tbody tr th {\n",
       "        vertical-align: top;\n",
       "    }\n",
       "\n",
       "    .dataframe thead th {\n",
       "        text-align: right;\n",
       "    }\n",
       "</style>\n",
       "<table border=\"1\" class=\"dataframe\">\n",
       "  <thead>\n",
       "    <tr style=\"text-align: right;\">\n",
       "      <th></th>\n",
       "      <th>Brand</th>\n",
       "      <th>Description</th>\n",
       "      <th>Price</th>\n",
       "      <th>Size</th>\n",
       "      <th>Volume</th>\n",
       "      <th>Classification</th>\n",
       "      <th>PurchasePrice</th>\n",
       "      <th>VendorNumber</th>\n",
       "      <th>VendorName</th>\n",
       "      <th>fecha_actualizacion</th>\n",
       "    </tr>\n",
       "  </thead>\n",
       "  <tbody>\n",
       "    <tr>\n",
       "      <th>1186</th>\n",
       "      <td>4202</td>\n",
       "      <td>NaN</td>\n",
       "      <td>0.0</td>\n",
       "      <td>NaN</td>\n",
       "      <td>0</td>\n",
       "      <td>1</td>\n",
       "      <td>11.19</td>\n",
       "      <td>480</td>\n",
       "      <td>BACARDI USA INC            \"\\r\\n17989,\"Porta V...</td>\n",
       "      <td>2025-05-27 18:54:32</td>\n",
       "    </tr>\n",
       "  </tbody>\n",
       "</table>\n",
       "</div>"
      ],
      "text/plain": [
       "      Brand Description  Price Size  Volume  Classification  PurchasePrice  \\\n",
       "1186   4202         NaN    0.0  NaN       0               1          11.19   \n",
       "\n",
       "      VendorNumber                                         VendorName  \\\n",
       "1186           480  BACARDI USA INC            \"\\r\\n17989,\"Porta V...   \n",
       "\n",
       "     fecha_actualizacion  \n",
       "1186 2025-05-27 18:54:32  "
      ]
     },
     "execution_count": 20,
     "metadata": {},
     "output_type": "execute_result"
    }
   ],
   "source": [
    "df1.loc[df1['Description'].isna()]"
   ]
  },
  {
   "cell_type": "markdown",
   "id": "c3e22bdf",
   "metadata": {},
   "source": [
    "Observamos que no tenemos mucha informacion de esta, la borramos:"
   ]
  },
  {
   "cell_type": "code",
   "execution_count": 21,
   "id": "fb7a931e",
   "metadata": {},
   "outputs": [],
   "source": [
    "df1 = df1.dropna()"
   ]
  },
  {
   "cell_type": "code",
   "execution_count": 22,
   "id": "1b172baa",
   "metadata": {},
   "outputs": [
    {
     "data": {
      "text/plain": [
       "(6129, 10)"
      ]
     },
     "execution_count": 22,
     "metadata": {},
     "output_type": "execute_result"
    }
   ],
   "source": [
    "np.shape(df1)"
   ]
  },
  {
   "cell_type": "code",
   "execution_count": 23,
   "id": "56e4f2b7",
   "metadata": {},
   "outputs": [
    {
     "data": {
      "application/vnd.microsoft.datawrangler.viewer.v0+json": {
       "columns": [
        {
         "name": "index",
         "rawType": "int64",
         "type": "integer"
        },
        {
         "name": "Brand",
         "rawType": "int64",
         "type": "integer"
        },
        {
         "name": "Description",
         "rawType": "object",
         "type": "string"
        },
        {
         "name": "Price",
         "rawType": "float64",
         "type": "float"
        },
        {
         "name": "Size",
         "rawType": "object",
         "type": "string"
        },
        {
         "name": "Volume",
         "rawType": "int64",
         "type": "integer"
        },
        {
         "name": "Classification",
         "rawType": "int64",
         "type": "integer"
        },
        {
         "name": "PurchasePrice",
         "rawType": "float64",
         "type": "float"
        },
        {
         "name": "VendorNumber",
         "rawType": "int64",
         "type": "integer"
        },
        {
         "name": "VendorName",
         "rawType": "object",
         "type": "string"
        },
        {
         "name": "fecha_actualizacion",
         "rawType": "datetime64[ns]",
         "type": "datetime"
        }
       ],
       "ref": "fb712410-7c48-4e6c-af23-115d22c59c2e",
       "rows": [
        [
         "0",
         "61",
         "Margaritaville Silver",
         "13.99",
         "750mL",
         "750",
         "1",
         "10.6",
         "8004",
         "SAZERAC CO INC             \"\r\n122,\"DeKuyper Mixed Berry Medley",
         "2025-05-27 18:54:32"
        ],
        [
         "1",
         "62",
         "Herradura Silver Tequila",
         "36.99",
         "750mL",
         "750",
         "1",
         "28.67",
         "1128",
         "BROWN-FORMAN CORP          \"\r\n63,\"Herradura Reposado Tequila",
         "2025-05-27 18:54:32"
        ],
        [
         "2",
         "68",
         "Luxardo Triplum Triple Sec",
         "24.99",
         "750mL",
         "750",
         "1",
         "18.93",
         "9165",
         "ULTRA BEVERAGE COMPANY LLP \"\r\n97,\"Smirnoff Passion Fruit Vodka",
         "2025-05-27 18:54:32"
        ],
        [
         "3",
         "70",
         "Luxardo Amaretto di Saschira",
         "18.99",
         "750mL",
         "750",
         "1",
         "13.96",
         "9165",
         "ULTRA BEVERAGE COMPANY LLP \"\r\n3535,\"Ricura Cream Liqueur",
         "2025-05-27 18:54:32"
        ],
        [
         "4",
         "72",
         "No. 3 London Dry Gin",
         "34.99",
         "750mL",
         "750",
         "1",
         "26.11",
         "9165",
         "ULTRA BEVERAGE COMPANY LLP \"\r\n75,\"Three Olives Tomato Vodka",
         "2025-05-27 18:54:32"
        ]
       ],
       "shape": {
        "columns": 10,
        "rows": 5
       }
      },
      "text/html": [
       "<div>\n",
       "<style scoped>\n",
       "    .dataframe tbody tr th:only-of-type {\n",
       "        vertical-align: middle;\n",
       "    }\n",
       "\n",
       "    .dataframe tbody tr th {\n",
       "        vertical-align: top;\n",
       "    }\n",
       "\n",
       "    .dataframe thead th {\n",
       "        text-align: right;\n",
       "    }\n",
       "</style>\n",
       "<table border=\"1\" class=\"dataframe\">\n",
       "  <thead>\n",
       "    <tr style=\"text-align: right;\">\n",
       "      <th></th>\n",
       "      <th>Brand</th>\n",
       "      <th>Description</th>\n",
       "      <th>Price</th>\n",
       "      <th>Size</th>\n",
       "      <th>Volume</th>\n",
       "      <th>Classification</th>\n",
       "      <th>PurchasePrice</th>\n",
       "      <th>VendorNumber</th>\n",
       "      <th>VendorName</th>\n",
       "      <th>fecha_actualizacion</th>\n",
       "    </tr>\n",
       "  </thead>\n",
       "  <tbody>\n",
       "    <tr>\n",
       "      <th>0</th>\n",
       "      <td>61</td>\n",
       "      <td>Margaritaville Silver</td>\n",
       "      <td>13.99</td>\n",
       "      <td>750mL</td>\n",
       "      <td>750</td>\n",
       "      <td>1</td>\n",
       "      <td>10.60</td>\n",
       "      <td>8004</td>\n",
       "      <td>SAZERAC CO INC             \"\\r\\n122,\"DeKuyper ...</td>\n",
       "      <td>2025-05-27 18:54:32</td>\n",
       "    </tr>\n",
       "    <tr>\n",
       "      <th>1</th>\n",
       "      <td>62</td>\n",
       "      <td>Herradura Silver Tequila</td>\n",
       "      <td>36.99</td>\n",
       "      <td>750mL</td>\n",
       "      <td>750</td>\n",
       "      <td>1</td>\n",
       "      <td>28.67</td>\n",
       "      <td>1128</td>\n",
       "      <td>BROWN-FORMAN CORP          \"\\r\\n63,\"Herradura ...</td>\n",
       "      <td>2025-05-27 18:54:32</td>\n",
       "    </tr>\n",
       "    <tr>\n",
       "      <th>2</th>\n",
       "      <td>68</td>\n",
       "      <td>Luxardo Triplum Triple Sec</td>\n",
       "      <td>24.99</td>\n",
       "      <td>750mL</td>\n",
       "      <td>750</td>\n",
       "      <td>1</td>\n",
       "      <td>18.93</td>\n",
       "      <td>9165</td>\n",
       "      <td>ULTRA BEVERAGE COMPANY LLP \"\\r\\n97,\"Smirnoff P...</td>\n",
       "      <td>2025-05-27 18:54:32</td>\n",
       "    </tr>\n",
       "    <tr>\n",
       "      <th>3</th>\n",
       "      <td>70</td>\n",
       "      <td>Luxardo Amaretto di Saschira</td>\n",
       "      <td>18.99</td>\n",
       "      <td>750mL</td>\n",
       "      <td>750</td>\n",
       "      <td>1</td>\n",
       "      <td>13.96</td>\n",
       "      <td>9165</td>\n",
       "      <td>ULTRA BEVERAGE COMPANY LLP \"\\r\\n3535,\"Ricura C...</td>\n",
       "      <td>2025-05-27 18:54:32</td>\n",
       "    </tr>\n",
       "    <tr>\n",
       "      <th>4</th>\n",
       "      <td>72</td>\n",
       "      <td>No. 3 London Dry Gin</td>\n",
       "      <td>34.99</td>\n",
       "      <td>750mL</td>\n",
       "      <td>750</td>\n",
       "      <td>1</td>\n",
       "      <td>26.11</td>\n",
       "      <td>9165</td>\n",
       "      <td>ULTRA BEVERAGE COMPANY LLP \"\\r\\n75,\"Three Oliv...</td>\n",
       "      <td>2025-05-27 18:54:32</td>\n",
       "    </tr>\n",
       "  </tbody>\n",
       "</table>\n",
       "</div>"
      ],
      "text/plain": [
       "   Brand                   Description  Price   Size  Volume  Classification  \\\n",
       "0     61         Margaritaville Silver  13.99  750mL     750               1   \n",
       "1     62      Herradura Silver Tequila  36.99  750mL     750               1   \n",
       "2     68    Luxardo Triplum Triple Sec  24.99  750mL     750               1   \n",
       "3     70  Luxardo Amaretto di Saschira  18.99  750mL     750               1   \n",
       "4     72          No. 3 London Dry Gin  34.99  750mL     750               1   \n",
       "\n",
       "   PurchasePrice  VendorNumber  \\\n",
       "0          10.60          8004   \n",
       "1          28.67          1128   \n",
       "2          18.93          9165   \n",
       "3          13.96          9165   \n",
       "4          26.11          9165   \n",
       "\n",
       "                                          VendorName fecha_actualizacion  \n",
       "0  SAZERAC CO INC             \"\\r\\n122,\"DeKuyper ... 2025-05-27 18:54:32  \n",
       "1  BROWN-FORMAN CORP          \"\\r\\n63,\"Herradura ... 2025-05-27 18:54:32  \n",
       "2  ULTRA BEVERAGE COMPANY LLP \"\\r\\n97,\"Smirnoff P... 2025-05-27 18:54:32  \n",
       "3  ULTRA BEVERAGE COMPANY LLP \"\\r\\n3535,\"Ricura C... 2025-05-27 18:54:32  \n",
       "4  ULTRA BEVERAGE COMPANY LLP \"\\r\\n75,\"Three Oliv... 2025-05-27 18:54:32  "
      ]
     },
     "execution_count": 23,
     "metadata": {},
     "output_type": "execute_result"
    }
   ],
   "source": [
    "df1.head()"
   ]
  },
  {
   "cell_type": "code",
   "execution_count": 24,
   "id": "02baed71",
   "metadata": {},
   "outputs": [
    {
     "name": "stdout",
     "output_type": "stream",
     "text": [
      "['SAZERAC CO INC             \"\\r\\n122,\"DeKuyper Mixed Berry Medley'\n",
      " 'BROWN-FORMAN CORP          \"\\r\\n63,\"Herradura Reposado Tequila'\n",
      " 'ULTRA BEVERAGE COMPANY LLP \"\\r\\n97,\"Smirnoff Passion Fruit Vodka' ...\n",
      " 'MARTIGNETTI COMPANIES\"\\r\\n5837,\"Leroux Cherry Brandy'\n",
      " 'IRA GOLDMAN AND WILLIAMS, LLP          \"\\r\\n21835,\"Ch St Jean Bijou Chard'\n",
      " 'ULTRA BEVERAGE COMPANY LLP \"\\r\\n5992,\"Kaikouzu Potato Shochu']\n"
     ]
    }
   ],
   "source": [
    "print(df1['VendorName'].unique())"
   ]
  },
  {
   "cell_type": "code",
   "execution_count": 25,
   "id": "89aff5dd",
   "metadata": {},
   "outputs": [],
   "source": [
    "df1['VendorName'] = df1['VendorName'].astype(str).str.extract(r'^([^\\r\\n]*)')[0].str.strip('\"')\n"
   ]
  },
  {
   "cell_type": "code",
   "execution_count": 26,
   "id": "47c92c84",
   "metadata": {},
   "outputs": [
    {
     "data": {
      "application/vnd.microsoft.datawrangler.viewer.v0+json": {
       "columns": [
        {
         "name": "index",
         "rawType": "int64",
         "type": "integer"
        },
        {
         "name": "Brand",
         "rawType": "int64",
         "type": "integer"
        },
        {
         "name": "Description",
         "rawType": "object",
         "type": "string"
        },
        {
         "name": "Price",
         "rawType": "float64",
         "type": "float"
        },
        {
         "name": "Size",
         "rawType": "object",
         "type": "string"
        },
        {
         "name": "Volume",
         "rawType": "int64",
         "type": "integer"
        },
        {
         "name": "Classification",
         "rawType": "int64",
         "type": "integer"
        },
        {
         "name": "PurchasePrice",
         "rawType": "float64",
         "type": "float"
        },
        {
         "name": "VendorNumber",
         "rawType": "int64",
         "type": "integer"
        },
        {
         "name": "VendorName",
         "rawType": "object",
         "type": "string"
        },
        {
         "name": "fecha_actualizacion",
         "rawType": "datetime64[ns]",
         "type": "datetime"
        }
       ],
       "ref": "0e6834a6-b5f3-4c4e-a38a-101ef9fce04b",
       "rows": [
        [
         "0",
         "61",
         "Margaritaville Silver",
         "13.99",
         "750mL",
         "750",
         "1",
         "10.6",
         "8004",
         "SAZERAC CO INC             ",
         "2025-05-27 18:54:32"
        ],
        [
         "1",
         "62",
         "Herradura Silver Tequila",
         "36.99",
         "750mL",
         "750",
         "1",
         "28.67",
         "1128",
         "BROWN-FORMAN CORP          ",
         "2025-05-27 18:54:32"
        ],
        [
         "2",
         "68",
         "Luxardo Triplum Triple Sec",
         "24.99",
         "750mL",
         "750",
         "1",
         "18.93",
         "9165",
         "ULTRA BEVERAGE COMPANY LLP ",
         "2025-05-27 18:54:32"
        ],
        [
         "3",
         "70",
         "Luxardo Amaretto di Saschira",
         "18.99",
         "750mL",
         "750",
         "1",
         "13.96",
         "9165",
         "ULTRA BEVERAGE COMPANY LLP ",
         "2025-05-27 18:54:32"
        ],
        [
         "4",
         "72",
         "No. 3 London Dry Gin",
         "34.99",
         "750mL",
         "750",
         "1",
         "26.11",
         "9165",
         "ULTRA BEVERAGE COMPANY LLP ",
         "2025-05-27 18:54:32"
        ]
       ],
       "shape": {
        "columns": 10,
        "rows": 5
       }
      },
      "text/html": [
       "<div>\n",
       "<style scoped>\n",
       "    .dataframe tbody tr th:only-of-type {\n",
       "        vertical-align: middle;\n",
       "    }\n",
       "\n",
       "    .dataframe tbody tr th {\n",
       "        vertical-align: top;\n",
       "    }\n",
       "\n",
       "    .dataframe thead th {\n",
       "        text-align: right;\n",
       "    }\n",
       "</style>\n",
       "<table border=\"1\" class=\"dataframe\">\n",
       "  <thead>\n",
       "    <tr style=\"text-align: right;\">\n",
       "      <th></th>\n",
       "      <th>Brand</th>\n",
       "      <th>Description</th>\n",
       "      <th>Price</th>\n",
       "      <th>Size</th>\n",
       "      <th>Volume</th>\n",
       "      <th>Classification</th>\n",
       "      <th>PurchasePrice</th>\n",
       "      <th>VendorNumber</th>\n",
       "      <th>VendorName</th>\n",
       "      <th>fecha_actualizacion</th>\n",
       "    </tr>\n",
       "  </thead>\n",
       "  <tbody>\n",
       "    <tr>\n",
       "      <th>0</th>\n",
       "      <td>61</td>\n",
       "      <td>Margaritaville Silver</td>\n",
       "      <td>13.99</td>\n",
       "      <td>750mL</td>\n",
       "      <td>750</td>\n",
       "      <td>1</td>\n",
       "      <td>10.60</td>\n",
       "      <td>8004</td>\n",
       "      <td>SAZERAC CO INC</td>\n",
       "      <td>2025-05-27 18:54:32</td>\n",
       "    </tr>\n",
       "    <tr>\n",
       "      <th>1</th>\n",
       "      <td>62</td>\n",
       "      <td>Herradura Silver Tequila</td>\n",
       "      <td>36.99</td>\n",
       "      <td>750mL</td>\n",
       "      <td>750</td>\n",
       "      <td>1</td>\n",
       "      <td>28.67</td>\n",
       "      <td>1128</td>\n",
       "      <td>BROWN-FORMAN CORP</td>\n",
       "      <td>2025-05-27 18:54:32</td>\n",
       "    </tr>\n",
       "    <tr>\n",
       "      <th>2</th>\n",
       "      <td>68</td>\n",
       "      <td>Luxardo Triplum Triple Sec</td>\n",
       "      <td>24.99</td>\n",
       "      <td>750mL</td>\n",
       "      <td>750</td>\n",
       "      <td>1</td>\n",
       "      <td>18.93</td>\n",
       "      <td>9165</td>\n",
       "      <td>ULTRA BEVERAGE COMPANY LLP</td>\n",
       "      <td>2025-05-27 18:54:32</td>\n",
       "    </tr>\n",
       "    <tr>\n",
       "      <th>3</th>\n",
       "      <td>70</td>\n",
       "      <td>Luxardo Amaretto di Saschira</td>\n",
       "      <td>18.99</td>\n",
       "      <td>750mL</td>\n",
       "      <td>750</td>\n",
       "      <td>1</td>\n",
       "      <td>13.96</td>\n",
       "      <td>9165</td>\n",
       "      <td>ULTRA BEVERAGE COMPANY LLP</td>\n",
       "      <td>2025-05-27 18:54:32</td>\n",
       "    </tr>\n",
       "    <tr>\n",
       "      <th>4</th>\n",
       "      <td>72</td>\n",
       "      <td>No. 3 London Dry Gin</td>\n",
       "      <td>34.99</td>\n",
       "      <td>750mL</td>\n",
       "      <td>750</td>\n",
       "      <td>1</td>\n",
       "      <td>26.11</td>\n",
       "      <td>9165</td>\n",
       "      <td>ULTRA BEVERAGE COMPANY LLP</td>\n",
       "      <td>2025-05-27 18:54:32</td>\n",
       "    </tr>\n",
       "  </tbody>\n",
       "</table>\n",
       "</div>"
      ],
      "text/plain": [
       "   Brand                   Description  Price   Size  Volume  Classification  \\\n",
       "0     61         Margaritaville Silver  13.99  750mL     750               1   \n",
       "1     62      Herradura Silver Tequila  36.99  750mL     750               1   \n",
       "2     68    Luxardo Triplum Triple Sec  24.99  750mL     750               1   \n",
       "3     70  Luxardo Amaretto di Saschira  18.99  750mL     750               1   \n",
       "4     72          No. 3 London Dry Gin  34.99  750mL     750               1   \n",
       "\n",
       "   PurchasePrice  VendorNumber                   VendorName  \\\n",
       "0          10.60          8004  SAZERAC CO INC                \n",
       "1          28.67          1128  BROWN-FORMAN CORP             \n",
       "2          18.93          9165  ULTRA BEVERAGE COMPANY LLP    \n",
       "3          13.96          9165  ULTRA BEVERAGE COMPANY LLP    \n",
       "4          26.11          9165  ULTRA BEVERAGE COMPANY LLP    \n",
       "\n",
       "  fecha_actualizacion  \n",
       "0 2025-05-27 18:54:32  \n",
       "1 2025-05-27 18:54:32  \n",
       "2 2025-05-27 18:54:32  \n",
       "3 2025-05-27 18:54:32  \n",
       "4 2025-05-27 18:54:32  "
      ]
     },
     "execution_count": 26,
     "metadata": {},
     "output_type": "execute_result"
    }
   ],
   "source": [
    "df1.head()"
   ]
  },
  {
   "cell_type": "code",
   "execution_count": 27,
   "id": "5b788bcc",
   "metadata": {},
   "outputs": [
    {
     "name": "stdout",
     "output_type": "stream",
     "text": [
      "<class 'pandas.core.frame.DataFrame'>\n",
      "Index: 6129 entries, 0 to 6129\n",
      "Data columns (total 10 columns):\n",
      " #   Column               Non-Null Count  Dtype         \n",
      "---  ------               --------------  -----         \n",
      " 0   Brand                6129 non-null   int64         \n",
      " 1   Description          6129 non-null   object        \n",
      " 2   Price                6129 non-null   float64       \n",
      " 3   Size                 6129 non-null   object        \n",
      " 4   Volume               6129 non-null   int64         \n",
      " 5   Classification       6129 non-null   int64         \n",
      " 6   PurchasePrice        6129 non-null   float64       \n",
      " 7   VendorNumber         6129 non-null   int64         \n",
      " 8   VendorName           6129 non-null   object        \n",
      " 9   fecha_actualizacion  6129 non-null   datetime64[ns]\n",
      "dtypes: datetime64[ns](1), float64(2), int64(4), object(3)\n",
      "memory usage: 526.7+ KB\n"
     ]
    }
   ],
   "source": [
    "df1.info()"
   ]
  },
  {
   "cell_type": "code",
   "execution_count": 28,
   "id": "d3b94f99",
   "metadata": {},
   "outputs": [
    {
     "data": {
      "application/vnd.microsoft.datawrangler.viewer.v0+json": {
       "columns": [
        {
         "name": "index",
         "rawType": "int64",
         "type": "integer"
        },
        {
         "name": "Brand",
         "rawType": "int64",
         "type": "integer"
        },
        {
         "name": "Description",
         "rawType": "object",
         "type": "string"
        },
        {
         "name": "Price",
         "rawType": "float64",
         "type": "float"
        },
        {
         "name": "Size",
         "rawType": "object",
         "type": "string"
        },
        {
         "name": "Volume",
         "rawType": "int64",
         "type": "integer"
        },
        {
         "name": "Classification",
         "rawType": "int64",
         "type": "integer"
        },
        {
         "name": "PurchasePrice",
         "rawType": "float64",
         "type": "float"
        },
        {
         "name": "VendorNumber",
         "rawType": "int64",
         "type": "integer"
        },
        {
         "name": "VendorName",
         "rawType": "object",
         "type": "string"
        },
        {
         "name": "fecha_actualizacion",
         "rawType": "datetime64[ns]",
         "type": "datetime"
        }
       ],
       "ref": "0e592278-7687-4da9-9471-c52ce4ae69cc",
       "rows": [
        [
         "1960",
         "8992",
         "Group 92",
         "1.99",
         "Unknown",
         "0",
         "1",
         "1.43",
         "1703",
         "ALISA CARR BEVERAGES               ",
         "2025-05-27 18:54:32"
        ],
        [
         "1985",
         "9908",
         "Tito's Copper Mug 2 Pack",
         "21.01",
         "Unknown",
         "0",
         "1",
         "16.15",
         "4425",
         "MARTIGNETTI COMPANIES",
         "2025-05-27 18:54:32"
        ],
        [
         "6127",
         "90590",
         "Overture Champagne 2Glass Pk",
         "19.95",
         "Unknown",
         "0",
         "2",
         "13.12",
         "4425",
         "MARTIGNETTI COMPANIES",
         "2025-05-27 18:54:32"
        ]
       ],
       "shape": {
        "columns": 10,
        "rows": 3
       }
      },
      "text/html": [
       "<div>\n",
       "<style scoped>\n",
       "    .dataframe tbody tr th:only-of-type {\n",
       "        vertical-align: middle;\n",
       "    }\n",
       "\n",
       "    .dataframe tbody tr th {\n",
       "        vertical-align: top;\n",
       "    }\n",
       "\n",
       "    .dataframe thead th {\n",
       "        text-align: right;\n",
       "    }\n",
       "</style>\n",
       "<table border=\"1\" class=\"dataframe\">\n",
       "  <thead>\n",
       "    <tr style=\"text-align: right;\">\n",
       "      <th></th>\n",
       "      <th>Brand</th>\n",
       "      <th>Description</th>\n",
       "      <th>Price</th>\n",
       "      <th>Size</th>\n",
       "      <th>Volume</th>\n",
       "      <th>Classification</th>\n",
       "      <th>PurchasePrice</th>\n",
       "      <th>VendorNumber</th>\n",
       "      <th>VendorName</th>\n",
       "      <th>fecha_actualizacion</th>\n",
       "    </tr>\n",
       "  </thead>\n",
       "  <tbody>\n",
       "    <tr>\n",
       "      <th>1960</th>\n",
       "      <td>8992</td>\n",
       "      <td>Group 92</td>\n",
       "      <td>1.99</td>\n",
       "      <td>Unknown</td>\n",
       "      <td>0</td>\n",
       "      <td>1</td>\n",
       "      <td>1.43</td>\n",
       "      <td>1703</td>\n",
       "      <td>ALISA CARR BEVERAGES</td>\n",
       "      <td>2025-05-27 18:54:32</td>\n",
       "    </tr>\n",
       "    <tr>\n",
       "      <th>1985</th>\n",
       "      <td>9908</td>\n",
       "      <td>Tito's Copper Mug 2 Pack</td>\n",
       "      <td>21.01</td>\n",
       "      <td>Unknown</td>\n",
       "      <td>0</td>\n",
       "      <td>1</td>\n",
       "      <td>16.15</td>\n",
       "      <td>4425</td>\n",
       "      <td>MARTIGNETTI COMPANIES</td>\n",
       "      <td>2025-05-27 18:54:32</td>\n",
       "    </tr>\n",
       "    <tr>\n",
       "      <th>6127</th>\n",
       "      <td>90590</td>\n",
       "      <td>Overture Champagne 2Glass Pk</td>\n",
       "      <td>19.95</td>\n",
       "      <td>Unknown</td>\n",
       "      <td>0</td>\n",
       "      <td>2</td>\n",
       "      <td>13.12</td>\n",
       "      <td>4425</td>\n",
       "      <td>MARTIGNETTI COMPANIES</td>\n",
       "      <td>2025-05-27 18:54:32</td>\n",
       "    </tr>\n",
       "  </tbody>\n",
       "</table>\n",
       "</div>"
      ],
      "text/plain": [
       "      Brand                   Description  Price     Size  Volume  \\\n",
       "1960   8992                      Group 92   1.99  Unknown       0   \n",
       "1985   9908      Tito's Copper Mug 2 Pack  21.01  Unknown       0   \n",
       "6127  90590  Overture Champagne 2Glass Pk  19.95  Unknown       0   \n",
       "\n",
       "      Classification  PurchasePrice  VendorNumber  \\\n",
       "1960               1           1.43          1703   \n",
       "1985               1          16.15          4425   \n",
       "6127               2          13.12          4425   \n",
       "\n",
       "                               VendorName fecha_actualizacion  \n",
       "1960  ALISA CARR BEVERAGES                2025-05-27 18:54:32  \n",
       "1985                MARTIGNETTI COMPANIES 2025-05-27 18:54:32  \n",
       "6127                MARTIGNETTI COMPANIES 2025-05-27 18:54:32  "
      ]
     },
     "execution_count": 28,
     "metadata": {},
     "output_type": "execute_result"
    }
   ],
   "source": [
    "df1[(df1['Volume'].isnull()) | (df1['Volume'] == 0)]"
   ]
  },
  {
   "cell_type": "code",
   "execution_count": 39,
   "id": "147c9d80",
   "metadata": {},
   "outputs": [
    {
     "data": {
      "application/vnd.microsoft.datawrangler.viewer.v0+json": {
       "columns": [
        {
         "name": "index",
         "rawType": "int64",
         "type": "integer"
        },
        {
         "name": "Brand",
         "rawType": "int64",
         "type": "integer"
        },
        {
         "name": "Description",
         "rawType": "object",
         "type": "string"
        },
        {
         "name": "Price",
         "rawType": "float64",
         "type": "float"
        },
        {
         "name": "Size",
         "rawType": "object",
         "type": "string"
        },
        {
         "name": "Volume",
         "rawType": "int64",
         "type": "integer"
        },
        {
         "name": "Classification",
         "rawType": "int64",
         "type": "integer"
        },
        {
         "name": "PurchasePrice",
         "rawType": "float64",
         "type": "float"
        },
        {
         "name": "VendorNumber",
         "rawType": "int64",
         "type": "integer"
        },
        {
         "name": "VendorName",
         "rawType": "object",
         "type": "string"
        },
        {
         "name": "fecha_actualizacion",
         "rawType": "datetime64[ns]",
         "type": "datetime"
        }
       ],
       "ref": "6f7c4f10-9fe7-459d-993d-384588cd5177",
       "rows": [
        [
         "6127",
         "90590",
         "Overture Champagne 2Glass Pk",
         "19.95",
         "Unknown",
         "0",
         "2",
         "13.12",
         "4425",
         "MARTIGNETTI COMPANIES",
         "2025-05-27 18:54:32"
        ]
       ],
       "shape": {
        "columns": 10,
        "rows": 1
       }
      },
      "text/html": [
       "<div>\n",
       "<style scoped>\n",
       "    .dataframe tbody tr th:only-of-type {\n",
       "        vertical-align: middle;\n",
       "    }\n",
       "\n",
       "    .dataframe tbody tr th {\n",
       "        vertical-align: top;\n",
       "    }\n",
       "\n",
       "    .dataframe thead th {\n",
       "        text-align: right;\n",
       "    }\n",
       "</style>\n",
       "<table border=\"1\" class=\"dataframe\">\n",
       "  <thead>\n",
       "    <tr style=\"text-align: right;\">\n",
       "      <th></th>\n",
       "      <th>Brand</th>\n",
       "      <th>Description</th>\n",
       "      <th>Price</th>\n",
       "      <th>Size</th>\n",
       "      <th>Volume</th>\n",
       "      <th>Classification</th>\n",
       "      <th>PurchasePrice</th>\n",
       "      <th>VendorNumber</th>\n",
       "      <th>VendorName</th>\n",
       "      <th>fecha_actualizacion</th>\n",
       "    </tr>\n",
       "  </thead>\n",
       "  <tbody>\n",
       "    <tr>\n",
       "      <th>6127</th>\n",
       "      <td>90590</td>\n",
       "      <td>Overture Champagne 2Glass Pk</td>\n",
       "      <td>19.95</td>\n",
       "      <td>Unknown</td>\n",
       "      <td>0</td>\n",
       "      <td>2</td>\n",
       "      <td>13.12</td>\n",
       "      <td>4425</td>\n",
       "      <td>MARTIGNETTI COMPANIES</td>\n",
       "      <td>2025-05-27 18:54:32</td>\n",
       "    </tr>\n",
       "  </tbody>\n",
       "</table>\n",
       "</div>"
      ],
      "text/plain": [
       "      Brand                   Description  Price     Size  Volume  \\\n",
       "6127  90590  Overture Champagne 2Glass Pk  19.95  Unknown       0   \n",
       "\n",
       "      Classification  PurchasePrice  VendorNumber             VendorName  \\\n",
       "6127               2          13.12          4425  MARTIGNETTI COMPANIES   \n",
       "\n",
       "     fecha_actualizacion  \n",
       "6127 2025-05-27 18:54:32  "
      ]
     },
     "execution_count": 39,
     "metadata": {},
     "output_type": "execute_result"
    }
   ],
   "source": [
    "df1[df1['Description'].str.contains('Overture', case=False, na=False)]"
   ]
  },
  {
   "cell_type": "code",
   "execution_count": 42,
   "id": "76e6751a",
   "metadata": {},
   "outputs": [
    {
     "data": {
      "application/vnd.microsoft.datawrangler.viewer.v0+json": {
       "columns": [
        {
         "name": "index",
         "rawType": "int64",
         "type": "integer"
        },
        {
         "name": "Brand",
         "rawType": "int64",
         "type": "integer"
        },
        {
         "name": "Description",
         "rawType": "object",
         "type": "string"
        },
        {
         "name": "Price",
         "rawType": "float64",
         "type": "float"
        },
        {
         "name": "Size",
         "rawType": "object",
         "type": "string"
        },
        {
         "name": "Volume",
         "rawType": "int64",
         "type": "integer"
        },
        {
         "name": "Classification",
         "rawType": "int64",
         "type": "integer"
        },
        {
         "name": "PurchasePrice",
         "rawType": "float64",
         "type": "float"
        },
        {
         "name": "VendorNumber",
         "rawType": "int64",
         "type": "integer"
        },
        {
         "name": "VendorName",
         "rawType": "object",
         "type": "string"
        },
        {
         "name": "fecha_actualizacion",
         "rawType": "datetime64[ns]",
         "type": "datetime"
        }
       ],
       "ref": "e3f9dbaf-3766-44fc-9b7f-ee60f930211b",
       "rows": [
        [
         "1960",
         "8992",
         "Group 92",
         "1.99",
         "Unknown",
         "0",
         "1",
         "1.43",
         "1703",
         "ALISA CARR BEVERAGES               ",
         "2025-05-27 18:54:32"
        ],
        [
         "1985",
         "9908",
         "Tito's Copper Mug 2 Pack",
         "21.01",
         "Unknown",
         "0",
         "1",
         "16.15",
         "4425",
         "MARTIGNETTI COMPANIES",
         "2025-05-27 18:54:32"
        ],
        [
         "6127",
         "90590",
         "Overture Champagne 2Glass Pk",
         "19.95",
         "Unknown",
         "0",
         "2",
         "13.12",
         "4425",
         "MARTIGNETTI COMPANIES",
         "2025-05-27 18:54:32"
        ]
       ],
       "shape": {
        "columns": 10,
        "rows": 3
       }
      },
      "text/html": [
       "<div>\n",
       "<style scoped>\n",
       "    .dataframe tbody tr th:only-of-type {\n",
       "        vertical-align: middle;\n",
       "    }\n",
       "\n",
       "    .dataframe tbody tr th {\n",
       "        vertical-align: top;\n",
       "    }\n",
       "\n",
       "    .dataframe thead th {\n",
       "        text-align: right;\n",
       "    }\n",
       "</style>\n",
       "<table border=\"1\" class=\"dataframe\">\n",
       "  <thead>\n",
       "    <tr style=\"text-align: right;\">\n",
       "      <th></th>\n",
       "      <th>Brand</th>\n",
       "      <th>Description</th>\n",
       "      <th>Price</th>\n",
       "      <th>Size</th>\n",
       "      <th>Volume</th>\n",
       "      <th>Classification</th>\n",
       "      <th>PurchasePrice</th>\n",
       "      <th>VendorNumber</th>\n",
       "      <th>VendorName</th>\n",
       "      <th>fecha_actualizacion</th>\n",
       "    </tr>\n",
       "  </thead>\n",
       "  <tbody>\n",
       "    <tr>\n",
       "      <th>1960</th>\n",
       "      <td>8992</td>\n",
       "      <td>Group 92</td>\n",
       "      <td>1.99</td>\n",
       "      <td>Unknown</td>\n",
       "      <td>0</td>\n",
       "      <td>1</td>\n",
       "      <td>1.43</td>\n",
       "      <td>1703</td>\n",
       "      <td>ALISA CARR BEVERAGES</td>\n",
       "      <td>2025-05-27 18:54:32</td>\n",
       "    </tr>\n",
       "    <tr>\n",
       "      <th>1985</th>\n",
       "      <td>9908</td>\n",
       "      <td>Tito's Copper Mug 2 Pack</td>\n",
       "      <td>21.01</td>\n",
       "      <td>Unknown</td>\n",
       "      <td>0</td>\n",
       "      <td>1</td>\n",
       "      <td>16.15</td>\n",
       "      <td>4425</td>\n",
       "      <td>MARTIGNETTI COMPANIES</td>\n",
       "      <td>2025-05-27 18:54:32</td>\n",
       "    </tr>\n",
       "    <tr>\n",
       "      <th>6127</th>\n",
       "      <td>90590</td>\n",
       "      <td>Overture Champagne 2Glass Pk</td>\n",
       "      <td>19.95</td>\n",
       "      <td>Unknown</td>\n",
       "      <td>0</td>\n",
       "      <td>2</td>\n",
       "      <td>13.12</td>\n",
       "      <td>4425</td>\n",
       "      <td>MARTIGNETTI COMPANIES</td>\n",
       "      <td>2025-05-27 18:54:32</td>\n",
       "    </tr>\n",
       "  </tbody>\n",
       "</table>\n",
       "</div>"
      ],
      "text/plain": [
       "      Brand                   Description  Price     Size  Volume  \\\n",
       "1960   8992                      Group 92   1.99  Unknown       0   \n",
       "1985   9908      Tito's Copper Mug 2 Pack  21.01  Unknown       0   \n",
       "6127  90590  Overture Champagne 2Glass Pk  19.95  Unknown       0   \n",
       "\n",
       "      Classification  PurchasePrice  VendorNumber  \\\n",
       "1960               1           1.43          1703   \n",
       "1985               1          16.15          4425   \n",
       "6127               2          13.12          4425   \n",
       "\n",
       "                               VendorName fecha_actualizacion  \n",
       "1960  ALISA CARR BEVERAGES                2025-05-27 18:54:32  \n",
       "1985                MARTIGNETTI COMPANIES 2025-05-27 18:54:32  \n",
       "6127                MARTIGNETTI COMPANIES 2025-05-27 18:54:32  "
      ]
     },
     "execution_count": 42,
     "metadata": {},
     "output_type": "execute_result"
    }
   ],
   "source": [
    "df1[(df1['Volume'].isnull()) | (df1['Volume'] == 0)]"
   ]
  },
  {
   "cell_type": "markdown",
   "id": "7ea5d1ef",
   "metadata": {},
   "source": [
    "Como estos 3 datos estan faltantes en size y volume, elimino las filas"
   ]
  },
  {
   "cell_type": "code",
   "execution_count": 58,
   "id": "279f94b7",
   "metadata": {},
   "outputs": [],
   "source": [
    "df1 = df1.drop(df1[df1['Volume'] == 0].index)"
   ]
  },
  {
   "cell_type": "code",
   "execution_count": 59,
   "id": "396f6224",
   "metadata": {},
   "outputs": [
    {
     "data": {
      "text/plain": [
       "(6126, 10)"
      ]
     },
     "execution_count": 59,
     "metadata": {},
     "output_type": "execute_result"
    }
   ],
   "source": [
    "np.shape(df1)"
   ]
  },
  {
   "cell_type": "code",
   "execution_count": 61,
   "id": "6ffb8cdd",
   "metadata": {},
   "outputs": [
    {
     "data": {
      "application/vnd.microsoft.datawrangler.viewer.v0+json": {
       "columns": [
        {
         "name": "index",
         "rawType": "int64",
         "type": "integer"
        },
        {
         "name": "Brand",
         "rawType": "int64",
         "type": "integer"
        },
        {
         "name": "Description",
         "rawType": "object",
         "type": "string"
        },
        {
         "name": "Price",
         "rawType": "float64",
         "type": "float"
        },
        {
         "name": "Size",
         "rawType": "object",
         "type": "string"
        },
        {
         "name": "Volume",
         "rawType": "int64",
         "type": "integer"
        },
        {
         "name": "Classification",
         "rawType": "int64",
         "type": "integer"
        },
        {
         "name": "PurchasePrice",
         "rawType": "float64",
         "type": "float"
        },
        {
         "name": "VendorNumber",
         "rawType": "int64",
         "type": "integer"
        },
        {
         "name": "VendorName",
         "rawType": "object",
         "type": "string"
        },
        {
         "name": "fecha_actualizacion",
         "rawType": "datetime64[ns]",
         "type": "datetime"
        }
       ],
       "ref": "57214193-cb00-466e-8cf2-55a6720527dc",
       "rows": [
        [
         "526",
         "2166",
         "The Macallan Double Cask 12",
         "0.0",
         "750mL",
         "750",
         "1",
         "0.0",
         "2561",
         "EDRINGTON AMERICAS         ",
         "2025-05-27 18:54:32"
        ]
       ],
       "shape": {
        "columns": 10,
        "rows": 1
       }
      },
      "text/html": [
       "<div>\n",
       "<style scoped>\n",
       "    .dataframe tbody tr th:only-of-type {\n",
       "        vertical-align: middle;\n",
       "    }\n",
       "\n",
       "    .dataframe tbody tr th {\n",
       "        vertical-align: top;\n",
       "    }\n",
       "\n",
       "    .dataframe thead th {\n",
       "        text-align: right;\n",
       "    }\n",
       "</style>\n",
       "<table border=\"1\" class=\"dataframe\">\n",
       "  <thead>\n",
       "    <tr style=\"text-align: right;\">\n",
       "      <th></th>\n",
       "      <th>Brand</th>\n",
       "      <th>Description</th>\n",
       "      <th>Price</th>\n",
       "      <th>Size</th>\n",
       "      <th>Volume</th>\n",
       "      <th>Classification</th>\n",
       "      <th>PurchasePrice</th>\n",
       "      <th>VendorNumber</th>\n",
       "      <th>VendorName</th>\n",
       "      <th>fecha_actualizacion</th>\n",
       "    </tr>\n",
       "  </thead>\n",
       "  <tbody>\n",
       "    <tr>\n",
       "      <th>526</th>\n",
       "      <td>2166</td>\n",
       "      <td>The Macallan Double Cask 12</td>\n",
       "      <td>0.0</td>\n",
       "      <td>750mL</td>\n",
       "      <td>750</td>\n",
       "      <td>1</td>\n",
       "      <td>0.0</td>\n",
       "      <td>2561</td>\n",
       "      <td>EDRINGTON AMERICAS</td>\n",
       "      <td>2025-05-27 18:54:32</td>\n",
       "    </tr>\n",
       "  </tbody>\n",
       "</table>\n",
       "</div>"
      ],
      "text/plain": [
       "     Brand                  Description  Price   Size  Volume  Classification  \\\n",
       "526   2166  The Macallan Double Cask 12    0.0  750mL     750               1   \n",
       "\n",
       "     PurchasePrice  VendorNumber                   VendorName  \\\n",
       "526            0.0          2561  EDRINGTON AMERICAS            \n",
       "\n",
       "    fecha_actualizacion  \n",
       "526 2025-05-27 18:54:32  "
      ]
     },
     "execution_count": 61,
     "metadata": {},
     "output_type": "execute_result"
    }
   ],
   "source": [
    "df1[(df1['Price'].isnull()) | (df1['Price'] == 0)]"
   ]
  },
  {
   "cell_type": "markdown",
   "id": "6424a817",
   "metadata": {},
   "source": [
    "Elimino las filas con precio igual a 0"
   ]
  },
  {
   "cell_type": "code",
   "execution_count": 62,
   "id": "a9570481",
   "metadata": {},
   "outputs": [],
   "source": [
    "df1 = df1.drop(df1[df1['Price'] == 0].index)"
   ]
  },
  {
   "cell_type": "code",
   "execution_count": 65,
   "id": "33353fad",
   "metadata": {},
   "outputs": [
    {
     "name": "stdout",
     "output_type": "stream",
     "text": [
      "<class 'pandas.core.series.Series'>\n",
      "Index: 6125 entries, 0 to 6129\n",
      "Series name: Volume\n",
      "Non-Null Count  Dtype\n",
      "--------------  -----\n",
      "6125 non-null   int64\n",
      "dtypes: int64(1)\n",
      "memory usage: 95.7 KB\n",
      "None\n",
      "50\n",
      "18000\n"
     ]
    }
   ],
   "source": [
    "print(df1['Volume'].info())\n",
    "print(df1['Volume'].min())\n",
    "print(df1['Volume'].max())"
   ]
  },
  {
   "cell_type": "code",
   "execution_count": 108,
   "id": "4035ad59",
   "metadata": {},
   "outputs": [
    {
     "data": {
      "application/vnd.microsoft.datawrangler.viewer.v0+json": {
       "columns": [
        {
         "name": "index",
         "rawType": "object",
         "type": "string"
        },
        {
         "name": "0",
         "rawType": "int64",
         "type": "integer"
        }
       ],
       "ref": "456bd00a-0ba4-40b5-a9a0-8aa453fa9ba7",
       "rows": [
        [
         "Description",
         "0"
        ],
        [
         "Size",
         "0"
        ],
        [
         "VendorName",
         "0"
        ]
       ],
       "shape": {
        "columns": 1,
        "rows": 3
       }
      },
      "text/plain": [
       "Description    0\n",
       "Size           0\n",
       "VendorName     0\n",
       "dtype: int64"
      ]
     },
     "execution_count": 108,
     "metadata": {},
     "output_type": "execute_result"
    }
   ],
   "source": [
    "# Seleccionar columnas de tipo string / objeto\n",
    "text_cols = df1.select_dtypes(include='object').columns\n",
    "\n",
    "# Filtro la cantidad de datos que tienen valores null o vacios\n",
    "df1[text_cols].isnull().sum() + (df1[text_cols] == \"\").sum()"
   ]
  },
  {
   "cell_type": "markdown",
   "id": "00a382de",
   "metadata": {},
   "source": [
    "## Aca finaliza la limpieza de PurchasePricesDec2017\n",
    "## Aca inicia la limpieza de PurchaseFINAL12312016\n"
   ]
  },
  {
   "cell_type": "markdown",
   "id": "26d27cf7",
   "metadata": {},
   "source": [
    "Cargo la segunda tabla:"
   ]
  },
  {
   "cell_type": "code",
   "execution_count": 52,
   "id": "2fdefaba",
   "metadata": {},
   "outputs": [],
   "source": [
    "df2 = pd.read_sql_table(\"PurchasesFINAL12312016\", con=engine)"
   ]
  },
  {
   "cell_type": "code",
   "execution_count": 66,
   "id": "18ea1d88",
   "metadata": {},
   "outputs": [
    {
     "data": {
      "application/vnd.microsoft.datawrangler.viewer.v0+json": {
       "columns": [
        {
         "name": "index",
         "rawType": "int64",
         "type": "integer"
        },
        {
         "name": "InventoryId",
         "rawType": "object",
         "type": "string"
        },
        {
         "name": "Store",
         "rawType": "int64",
         "type": "integer"
        },
        {
         "name": "Brand",
         "rawType": "int64",
         "type": "integer"
        },
        {
         "name": "Description",
         "rawType": "object",
         "type": "string"
        },
        {
         "name": "Size",
         "rawType": "object",
         "type": "string"
        },
        {
         "name": "VendorNumber",
         "rawType": "int64",
         "type": "integer"
        },
        {
         "name": "VendorName",
         "rawType": "object",
         "type": "string"
        },
        {
         "name": "PONumber",
         "rawType": "int64",
         "type": "integer"
        },
        {
         "name": "PODate",
         "rawType": "datetime64[ns]",
         "type": "datetime"
        },
        {
         "name": "ReceivingDate",
         "rawType": "datetime64[ns]",
         "type": "datetime"
        },
        {
         "name": "InvoiceDate",
         "rawType": "datetime64[ns]",
         "type": "datetime"
        },
        {
         "name": "PayDate",
         "rawType": "datetime64[ns]",
         "type": "datetime"
        },
        {
         "name": "PurchasePrice",
         "rawType": "float64",
         "type": "float"
        },
        {
         "name": "Quantity",
         "rawType": "int64",
         "type": "integer"
        },
        {
         "name": "Dollars",
         "rawType": "float64",
         "type": "float"
        },
        {
         "name": "Classification",
         "rawType": "int64",
         "type": "integer"
        },
        {
         "name": "fecha_actualizacion",
         "rawType": "datetime64[ns]",
         "type": "datetime"
        }
       ],
       "ref": "e87363f2-5855-4836-bc49-3070e2f2207a",
       "rows": [
        [
         "0",
         "InventoryId",
         "0",
         "0",
         "Description",
         "Size",
         "0",
         "VendorName",
         "0",
         null,
         null,
         null,
         null,
         "0.0",
         "0",
         "0.0",
         "0",
         "2025-05-27 18:54:37"
        ],
        [
         "1",
         "30_CULCHETH_5255",
         "30",
         "5255",
         "TGI Fridays Ultimte Mudslide",
         "1.75L",
         "4466",
         "AMERICAN VINTAGE BEVERAGE  ",
         "8137",
         "2015-12-22 00:00:00",
         "2016-01-01 00:00:00",
         "2016-01-07 00:00:00",
         "2016-02-21 00:00:00",
         "9.35",
         "4",
         "37.4",
         "1",
         "2025-05-27 18:54:37"
        ],
        [
         "2",
         "34_PITMERDEN_5215",
         "34",
         "5215",
         "TGI Fridays Long Island Iced",
         "1.75L",
         "4466",
         "AMERICAN VINTAGE BEVERAGE  ",
         "8137",
         "2015-12-22 00:00:00",
         "2016-01-02 00:00:00",
         "2016-01-07 00:00:00",
         "2016-02-21 00:00:00",
         "9.41",
         "5",
         "47.05",
         "1",
         "2025-05-27 18:54:37"
        ],
        [
         "3",
         "1_HARDERSFIELD_5255",
         "1",
         "5255",
         "TGI Fridays Ultimte Mudslide",
         "1.75L",
         "4466",
         "AMERICAN VINTAGE BEVERAGE  ",
         "8137",
         "2015-12-22 00:00:00",
         "2016-01-01 00:00:00",
         "2016-01-07 00:00:00",
         "2016-02-21 00:00:00",
         "9.35",
         "6",
         "56.1",
         "1",
         "2025-05-27 18:54:37"
        ],
        [
         "4",
         "76_DONCASTER_2034",
         "76",
         "2034",
         "Glendalough Double Barrel",
         "750mL",
         "388",
         "ATLANTIC IMPORTING COMPANY ",
         "8169",
         "2015-12-24 00:00:00",
         "2016-01-02 00:00:00",
         "2016-01-09 00:00:00",
         "2016-02-16 00:00:00",
         "21.32",
         "5",
         "106.6",
         "1",
         "2025-05-27 18:54:37"
        ]
       ],
       "shape": {
        "columns": 17,
        "rows": 5
       }
      },
      "text/html": [
       "<div>\n",
       "<style scoped>\n",
       "    .dataframe tbody tr th:only-of-type {\n",
       "        vertical-align: middle;\n",
       "    }\n",
       "\n",
       "    .dataframe tbody tr th {\n",
       "        vertical-align: top;\n",
       "    }\n",
       "\n",
       "    .dataframe thead th {\n",
       "        text-align: right;\n",
       "    }\n",
       "</style>\n",
       "<table border=\"1\" class=\"dataframe\">\n",
       "  <thead>\n",
       "    <tr style=\"text-align: right;\">\n",
       "      <th></th>\n",
       "      <th>InventoryId</th>\n",
       "      <th>Store</th>\n",
       "      <th>Brand</th>\n",
       "      <th>Description</th>\n",
       "      <th>Size</th>\n",
       "      <th>VendorNumber</th>\n",
       "      <th>VendorName</th>\n",
       "      <th>PONumber</th>\n",
       "      <th>PODate</th>\n",
       "      <th>ReceivingDate</th>\n",
       "      <th>InvoiceDate</th>\n",
       "      <th>PayDate</th>\n",
       "      <th>PurchasePrice</th>\n",
       "      <th>Quantity</th>\n",
       "      <th>Dollars</th>\n",
       "      <th>Classification</th>\n",
       "      <th>fecha_actualizacion</th>\n",
       "    </tr>\n",
       "  </thead>\n",
       "  <tbody>\n",
       "    <tr>\n",
       "      <th>0</th>\n",
       "      <td>InventoryId</td>\n",
       "      <td>0</td>\n",
       "      <td>0</td>\n",
       "      <td>Description</td>\n",
       "      <td>Size</td>\n",
       "      <td>0</td>\n",
       "      <td>VendorName</td>\n",
       "      <td>0</td>\n",
       "      <td>NaT</td>\n",
       "      <td>NaT</td>\n",
       "      <td>NaT</td>\n",
       "      <td>NaT</td>\n",
       "      <td>0.00</td>\n",
       "      <td>0</td>\n",
       "      <td>0.00</td>\n",
       "      <td>0</td>\n",
       "      <td>2025-05-27 18:54:37</td>\n",
       "    </tr>\n",
       "    <tr>\n",
       "      <th>1</th>\n",
       "      <td>30_CULCHETH_5255</td>\n",
       "      <td>30</td>\n",
       "      <td>5255</td>\n",
       "      <td>TGI Fridays Ultimte Mudslide</td>\n",
       "      <td>1.75L</td>\n",
       "      <td>4466</td>\n",
       "      <td>AMERICAN VINTAGE BEVERAGE</td>\n",
       "      <td>8137</td>\n",
       "      <td>2015-12-22</td>\n",
       "      <td>2016-01-01</td>\n",
       "      <td>2016-01-07</td>\n",
       "      <td>2016-02-21</td>\n",
       "      <td>9.35</td>\n",
       "      <td>4</td>\n",
       "      <td>37.40</td>\n",
       "      <td>1</td>\n",
       "      <td>2025-05-27 18:54:37</td>\n",
       "    </tr>\n",
       "    <tr>\n",
       "      <th>2</th>\n",
       "      <td>34_PITMERDEN_5215</td>\n",
       "      <td>34</td>\n",
       "      <td>5215</td>\n",
       "      <td>TGI Fridays Long Island Iced</td>\n",
       "      <td>1.75L</td>\n",
       "      <td>4466</td>\n",
       "      <td>AMERICAN VINTAGE BEVERAGE</td>\n",
       "      <td>8137</td>\n",
       "      <td>2015-12-22</td>\n",
       "      <td>2016-01-02</td>\n",
       "      <td>2016-01-07</td>\n",
       "      <td>2016-02-21</td>\n",
       "      <td>9.41</td>\n",
       "      <td>5</td>\n",
       "      <td>47.05</td>\n",
       "      <td>1</td>\n",
       "      <td>2025-05-27 18:54:37</td>\n",
       "    </tr>\n",
       "    <tr>\n",
       "      <th>3</th>\n",
       "      <td>1_HARDERSFIELD_5255</td>\n",
       "      <td>1</td>\n",
       "      <td>5255</td>\n",
       "      <td>TGI Fridays Ultimte Mudslide</td>\n",
       "      <td>1.75L</td>\n",
       "      <td>4466</td>\n",
       "      <td>AMERICAN VINTAGE BEVERAGE</td>\n",
       "      <td>8137</td>\n",
       "      <td>2015-12-22</td>\n",
       "      <td>2016-01-01</td>\n",
       "      <td>2016-01-07</td>\n",
       "      <td>2016-02-21</td>\n",
       "      <td>9.35</td>\n",
       "      <td>6</td>\n",
       "      <td>56.10</td>\n",
       "      <td>1</td>\n",
       "      <td>2025-05-27 18:54:37</td>\n",
       "    </tr>\n",
       "    <tr>\n",
       "      <th>4</th>\n",
       "      <td>76_DONCASTER_2034</td>\n",
       "      <td>76</td>\n",
       "      <td>2034</td>\n",
       "      <td>Glendalough Double Barrel</td>\n",
       "      <td>750mL</td>\n",
       "      <td>388</td>\n",
       "      <td>ATLANTIC IMPORTING COMPANY</td>\n",
       "      <td>8169</td>\n",
       "      <td>2015-12-24</td>\n",
       "      <td>2016-01-02</td>\n",
       "      <td>2016-01-09</td>\n",
       "      <td>2016-02-16</td>\n",
       "      <td>21.32</td>\n",
       "      <td>5</td>\n",
       "      <td>106.60</td>\n",
       "      <td>1</td>\n",
       "      <td>2025-05-27 18:54:37</td>\n",
       "    </tr>\n",
       "  </tbody>\n",
       "</table>\n",
       "</div>"
      ],
      "text/plain": [
       "           InventoryId  Store  Brand                   Description   Size  \\\n",
       "0          InventoryId      0      0                   Description   Size   \n",
       "1     30_CULCHETH_5255     30   5255  TGI Fridays Ultimte Mudslide  1.75L   \n",
       "2    34_PITMERDEN_5215     34   5215  TGI Fridays Long Island Iced  1.75L   \n",
       "3  1_HARDERSFIELD_5255      1   5255  TGI Fridays Ultimte Mudslide  1.75L   \n",
       "4    76_DONCASTER_2034     76   2034     Glendalough Double Barrel  750mL   \n",
       "\n",
       "   VendorNumber                   VendorName  PONumber     PODate  \\\n",
       "0             0                   VendorName         0        NaT   \n",
       "1          4466  AMERICAN VINTAGE BEVERAGE        8137 2015-12-22   \n",
       "2          4466  AMERICAN VINTAGE BEVERAGE        8137 2015-12-22   \n",
       "3          4466  AMERICAN VINTAGE BEVERAGE        8137 2015-12-22   \n",
       "4           388  ATLANTIC IMPORTING COMPANY       8169 2015-12-24   \n",
       "\n",
       "  ReceivingDate InvoiceDate    PayDate  PurchasePrice  Quantity  Dollars  \\\n",
       "0           NaT         NaT        NaT           0.00         0     0.00   \n",
       "1    2016-01-01  2016-01-07 2016-02-21           9.35         4    37.40   \n",
       "2    2016-01-02  2016-01-07 2016-02-21           9.41         5    47.05   \n",
       "3    2016-01-01  2016-01-07 2016-02-21           9.35         6    56.10   \n",
       "4    2016-01-02  2016-01-09 2016-02-16          21.32         5   106.60   \n",
       "\n",
       "   Classification fecha_actualizacion  \n",
       "0               0 2025-05-27 18:54:37  \n",
       "1               1 2025-05-27 18:54:37  \n",
       "2               1 2025-05-27 18:54:37  \n",
       "3               1 2025-05-27 18:54:37  \n",
       "4               1 2025-05-27 18:54:37  "
      ]
     },
     "execution_count": 66,
     "metadata": {},
     "output_type": "execute_result"
    }
   ],
   "source": [
    "df2.head()"
   ]
  },
  {
   "cell_type": "code",
   "execution_count": 67,
   "id": "d7545a90",
   "metadata": {},
   "outputs": [
    {
     "data": {
      "text/plain": [
       "(2372474, 17)"
      ]
     },
     "execution_count": 67,
     "metadata": {},
     "output_type": "execute_result"
    }
   ],
   "source": [
    "np.shape(df2)"
   ]
  },
  {
   "cell_type": "markdown",
   "id": "2d49c1dd",
   "metadata": {},
   "source": [
    "Elimino la primer fila que tiene los encabezados"
   ]
  },
  {
   "cell_type": "code",
   "execution_count": 68,
   "id": "608893e4",
   "metadata": {},
   "outputs": [],
   "source": [
    "df2 = df2.drop(index=0).reset_index(drop=True)"
   ]
  },
  {
   "cell_type": "code",
   "execution_count": 69,
   "id": "0701bc5b",
   "metadata": {},
   "outputs": [
    {
     "data": {
      "text/plain": [
       "(2372473, 17)"
      ]
     },
     "execution_count": 69,
     "metadata": {},
     "output_type": "execute_result"
    }
   ],
   "source": [
    "np.shape(df2)"
   ]
  },
  {
   "cell_type": "code",
   "execution_count": 70,
   "id": "172eeb55",
   "metadata": {},
   "outputs": [
    {
     "name": "stdout",
     "output_type": "stream",
     "text": [
      "Index(['InventoryId', 'Store', 'Brand', 'Description', 'Size', 'VendorNumber',\n",
      "       'VendorName', 'PONumber', 'PODate', 'ReceivingDate', 'InvoiceDate',\n",
      "       'PayDate', 'PurchasePrice', 'Quantity', 'Dollars', 'Classification',\n",
      "       'fecha_actualizacion'],\n",
      "      dtype='object')\n"
     ]
    }
   ],
   "source": [
    "print(df2.columns)"
   ]
  },
  {
   "cell_type": "code",
   "execution_count": 71,
   "id": "fd240f65",
   "metadata": {},
   "outputs": [
    {
     "name": "stdout",
     "output_type": "stream",
     "text": [
      "<class 'pandas.core.frame.DataFrame'>\n",
      "RangeIndex: 2372473 entries, 0 to 2372472\n",
      "Data columns (total 17 columns):\n",
      " #   Column               Dtype         \n",
      "---  ------               -----         \n",
      " 0   InventoryId          object        \n",
      " 1   Store                int64         \n",
      " 2   Brand                int64         \n",
      " 3   Description          object        \n",
      " 4   Size                 object        \n",
      " 5   VendorNumber         int64         \n",
      " 6   VendorName           object        \n",
      " 7   PONumber             int64         \n",
      " 8   PODate               datetime64[ns]\n",
      " 9   ReceivingDate        datetime64[ns]\n",
      " 10  InvoiceDate          datetime64[ns]\n",
      " 11  PayDate              datetime64[ns]\n",
      " 12  PurchasePrice        float64       \n",
      " 13  Quantity             int64         \n",
      " 14  Dollars              float64       \n",
      " 15  Classification       int64         \n",
      " 16  fecha_actualizacion  datetime64[ns]\n",
      "dtypes: datetime64[ns](5), float64(2), int64(6), object(4)\n",
      "memory usage: 307.7+ MB\n",
      "None\n"
     ]
    }
   ],
   "source": [
    "print(df2.info())"
   ]
  },
  {
   "cell_type": "code",
   "execution_count": 85,
   "id": "c51d0622",
   "metadata": {},
   "outputs": [
    {
     "data": {
      "application/vnd.microsoft.datawrangler.viewer.v0+json": {
       "columns": [
        {
         "name": "index",
         "rawType": "object",
         "type": "string"
        },
        {
         "name": "0",
         "rawType": "int64",
         "type": "integer"
        }
       ],
       "ref": "157f118d-2a1f-4379-852b-da737ef6cc25",
       "rows": [
        [
         "Brand",
         "0"
        ],
        [
         "Description",
         "0"
        ],
        [
         "Price",
         "0"
        ],
        [
         "Size",
         "0"
        ],
        [
         "Volume",
         "0"
        ],
        [
         "Classification",
         "0"
        ],
        [
         "PurchasePrice",
         "0"
        ],
        [
         "VendorNumber",
         "0"
        ],
        [
         "VendorName",
         "0"
        ],
        [
         "fecha_actualizacion",
         "0"
        ]
       ],
       "shape": {
        "columns": 1,
        "rows": 10
       }
      },
      "text/plain": [
       "Brand                  0\n",
       "Description            0\n",
       "Price                  0\n",
       "Size                   0\n",
       "Volume                 0\n",
       "Classification         0\n",
       "PurchasePrice          0\n",
       "VendorNumber           0\n",
       "VendorName             0\n",
       "fecha_actualizacion    0\n",
       "dtype: int64"
      ]
     },
     "execution_count": 85,
     "metadata": {},
     "output_type": "execute_result"
    }
   ],
   "source": [
    "#df2.isnull().sum()\n",
    "df1.isna().sum()"
   ]
  },
  {
   "cell_type": "markdown",
   "id": "49b675ba",
   "metadata": {},
   "source": [
    "En principio no hay datos faltantes"
   ]
  },
  {
   "cell_type": "code",
   "execution_count": 93,
   "id": "caa92bef",
   "metadata": {},
   "outputs": [
    {
     "name": "stdout",
     "output_type": "stream",
     "text": [
      "Estadísticas para Store:\n",
      "  Media: 44.65\n",
      "  Mediana: 48.00\n",
      "  Desviación estándar: 23.51\n",
      "  Mínimo: 1.00\n",
      "  Máximo: 81.00\n",
      "----------------------------------------\n",
      "Estadísticas para Brand:\n",
      "  Media: 12418.64\n",
      "  Mediana: 6523.00\n",
      "  Desviación estándar: 12557.28\n",
      "  Mínimo: 58.00\n",
      "  Máximo: 90631.00\n",
      "----------------------------------------\n",
      "Estadísticas para VendorNumber:\n",
      "  Media: 6886.44\n",
      "  Mediana: 4425.00\n",
      "  Desviación estándar: 8066.69\n",
      "  Mínimo: 2.00\n",
      "  Máximo: 201359.00\n",
      "----------------------------------------\n",
      "Estadísticas para PONumber:\n",
      "  Media: 11040.94\n",
      "  Mediana: 11103.00\n",
      "  Desviación estándar: 1565.34\n",
      "  Mínimo: 8106.00\n",
      "  Máximo: 13661.00\n",
      "----------------------------------------\n",
      "Estadísticas para PurchasePrice:\n",
      "  Media: 12.05\n",
      "  Mediana: 9.22\n",
      "  Desviación estándar: 17.95\n",
      "  Mínimo: 0.00\n",
      "  Máximo: 5681.81\n",
      "----------------------------------------\n",
      "Estadísticas para Quantity:\n",
      "  Media: 14.16\n",
      "  Mediana: 10.00\n",
      "  Desviación estándar: 23.45\n",
      "  Mínimo: 1.00\n",
      "  Máximo: 3816.00\n",
      "----------------------------------------\n",
      "Estadísticas para Dollars:\n",
      "  Media: 135.68\n",
      "  Mediana: 83.93\n",
      "  Desviación estándar: 281.66\n",
      "  Mínimo: 0.00\n",
      "  Máximo: 50175.70\n",
      "----------------------------------------\n",
      "Estadísticas para Classification:\n",
      "  Media: 1.44\n",
      "  Mediana: 1.00\n",
      "  Desviación estándar: 0.50\n",
      "  Mínimo: 1.00\n",
      "  Máximo: 2.00\n",
      "----------------------------------------\n"
     ]
    }
   ],
   "source": [
    "columnas_numericas = df2.select_dtypes(include='number').columns\n",
    "\n",
    "for col in columnas_numericas:\n",
    "    print(f\"Estadísticas para {col}:\")\n",
    "    print(f\"  Media: {df2[col].mean():.2f}\")\n",
    "    print(f\"  Mediana: {df2[col].median():.2f}\")\n",
    "    print(f\"  Desviación estándar: {df2[col].std():.2f}\")\n",
    "    print(f\"  Mínimo: {df2[col].min():.2f}\")\n",
    "    print(f\"  Máximo: {df2[col].max():.2f}\")\n",
    "    print(\"-\" * 40)"
   ]
  },
  {
   "cell_type": "markdown",
   "id": "fcb2ea51",
   "metadata": {},
   "source": [
    "Vemos que PurchasePrice y Dollars tienen datos nulos, vemos cuantas filas tienen ese estado"
   ]
  },
  {
   "cell_type": "code",
   "execution_count": 94,
   "id": "e606bcd6",
   "metadata": {},
   "outputs": [
    {
     "data": {
      "application/vnd.microsoft.datawrangler.viewer.v0+json": {
       "columns": [
        {
         "name": "index",
         "rawType": "int64",
         "type": "integer"
        },
        {
         "name": "InventoryId",
         "rawType": "object",
         "type": "string"
        },
        {
         "name": "Store",
         "rawType": "int64",
         "type": "integer"
        },
        {
         "name": "Brand",
         "rawType": "int64",
         "type": "integer"
        },
        {
         "name": "Description",
         "rawType": "object",
         "type": "string"
        },
        {
         "name": "Size",
         "rawType": "object",
         "type": "string"
        },
        {
         "name": "VendorNumber",
         "rawType": "int64",
         "type": "integer"
        },
        {
         "name": "VendorName",
         "rawType": "object",
         "type": "string"
        },
        {
         "name": "PONumber",
         "rawType": "int64",
         "type": "integer"
        },
        {
         "name": "PODate",
         "rawType": "datetime64[ns]",
         "type": "datetime"
        },
        {
         "name": "ReceivingDate",
         "rawType": "datetime64[ns]",
         "type": "datetime"
        },
        {
         "name": "InvoiceDate",
         "rawType": "datetime64[ns]",
         "type": "datetime"
        },
        {
         "name": "PayDate",
         "rawType": "datetime64[ns]",
         "type": "datetime"
        },
        {
         "name": "PurchasePrice",
         "rawType": "float64",
         "type": "float"
        },
        {
         "name": "Quantity",
         "rawType": "int64",
         "type": "integer"
        },
        {
         "name": "Dollars",
         "rawType": "float64",
         "type": "float"
        },
        {
         "name": "Classification",
         "rawType": "int64",
         "type": "integer"
        },
        {
         "name": "fecha_actualizacion",
         "rawType": "datetime64[ns]",
         "type": "datetime"
        }
       ],
       "ref": "7e1915c0-696a-4115-8660-fb097ca6e727",
       "rows": [
        [
         "1369008",
         "59_CLAETHORPES_2166",
         "59",
         "2166",
         "The Macallan Double Cask 12",
         "750mL",
         "2561",
         "EDRINGTON AMERICAS         ",
         "11462",
         "2016-08-02 00:00:00",
         "2016-08-10 00:00:00",
         "2016-08-22 00:00:00",
         "2016-10-01 00:00:00",
         "0.0",
         "12",
         "0.0",
         "1",
         "2025-05-27 18:54:37"
        ],
        [
         "1369017",
         "38_GOULCREST_2166",
         "38",
         "2166",
         "The Macallan Double Cask 12",
         "750mL",
         "2561",
         "EDRINGTON AMERICAS         ",
         "11462",
         "2016-08-02 00:00:00",
         "2016-08-11 00:00:00",
         "2016-08-22 00:00:00",
         "2016-10-01 00:00:00",
         "0.0",
         "12",
         "0.0",
         "1",
         "2025-05-27 18:54:37"
        ],
        [
         "1369030",
         "34_PITMERDEN_2166",
         "34",
         "2166",
         "The Macallan Double Cask 12",
         "750mL",
         "2561",
         "EDRINGTON AMERICAS         ",
         "11462",
         "2016-08-02 00:00:00",
         "2016-08-09 00:00:00",
         "2016-08-22 00:00:00",
         "2016-10-01 00:00:00",
         "0.0",
         "12",
         "0.0",
         "1",
         "2025-05-27 18:54:37"
        ],
        [
         "1369031",
         "44_PORTHCRAWL_2166",
         "44",
         "2166",
         "The Macallan Double Cask 12",
         "750mL",
         "2561",
         "EDRINGTON AMERICAS         ",
         "11462",
         "2016-08-02 00:00:00",
         "2016-08-08 00:00:00",
         "2016-08-22 00:00:00",
         "2016-10-01 00:00:00",
         "0.0",
         "12",
         "0.0",
         "1",
         "2025-05-27 18:54:37"
        ],
        [
         "1369032",
         "56_BEGGAR'S HOLE_2166",
         "56",
         "2166",
         "The Macallan Double Cask 12",
         "750mL",
         "2561",
         "EDRINGTON AMERICAS         ",
         "11462",
         "2016-08-02 00:00:00",
         "2016-08-09 00:00:00",
         "2016-08-22 00:00:00",
         "2016-10-01 00:00:00",
         "0.0",
         "12",
         "0.0",
         "1",
         "2025-05-27 18:54:37"
        ],
        [
         "1369042",
         "66_EANVERNESS_2166",
         "66",
         "2166",
         "The Macallan Double Cask 12",
         "750mL",
         "2561",
         "EDRINGTON AMERICAS         ",
         "11462",
         "2016-08-02 00:00:00",
         "2016-08-10 00:00:00",
         "2016-08-22 00:00:00",
         "2016-10-01 00:00:00",
         "0.0",
         "12",
         "0.0",
         "1",
         "2025-05-27 18:54:37"
        ],
        [
         "1369044",
         "79_BALLYMENA_2166",
         "79",
         "2166",
         "The Macallan Double Cask 12",
         "750mL",
         "2561",
         "EDRINGTON AMERICAS         ",
         "11462",
         "2016-08-02 00:00:00",
         "2016-08-09 00:00:00",
         "2016-08-22 00:00:00",
         "2016-10-01 00:00:00",
         "0.0",
         "12",
         "0.0",
         "1",
         "2025-05-27 18:54:37"
        ],
        [
         "1369057",
         "73_DONCASTER_2166",
         "73",
         "2166",
         "The Macallan Double Cask 12",
         "750mL",
         "2561",
         "EDRINGTON AMERICAS         ",
         "11462",
         "2016-08-02 00:00:00",
         "2016-08-10 00:00:00",
         "2016-08-22 00:00:00",
         "2016-10-01 00:00:00",
         "0.0",
         "12",
         "0.0",
         "1",
         "2025-05-27 18:54:37"
        ],
        [
         "1369059",
         "1_HARDERSFIELD_2166",
         "1",
         "2166",
         "The Macallan Double Cask 12",
         "750mL",
         "2561",
         "EDRINGTON AMERICAS         ",
         "11462",
         "2016-08-02 00:00:00",
         "2016-08-09 00:00:00",
         "2016-08-22 00:00:00",
         "2016-10-01 00:00:00",
         "0.0",
         "12",
         "0.0",
         "1",
         "2025-05-27 18:54:37"
        ],
        [
         "1369062",
         "41_LARNWICK_2166",
         "41",
         "2166",
         "The Macallan Double Cask 12",
         "750mL",
         "2561",
         "EDRINGTON AMERICAS         ",
         "11462",
         "2016-08-02 00:00:00",
         "2016-08-09 00:00:00",
         "2016-08-22 00:00:00",
         "2016-10-01 00:00:00",
         "0.0",
         "12",
         "0.0",
         "1",
         "2025-05-27 18:54:37"
        ],
        [
         "1369068",
         "4_EANVERNESS_2166",
         "4",
         "2166",
         "The Macallan Double Cask 12",
         "750mL",
         "2561",
         "EDRINGTON AMERICAS         ",
         "11462",
         "2016-08-02 00:00:00",
         "2016-08-08 00:00:00",
         "2016-08-22 00:00:00",
         "2016-10-01 00:00:00",
         "0.0",
         "12",
         "0.0",
         "1",
         "2025-05-27 18:54:37"
        ],
        [
         "1369077",
         "67_EANVERNESS_2166",
         "67",
         "2166",
         "The Macallan Double Cask 12",
         "750mL",
         "2561",
         "EDRINGTON AMERICAS         ",
         "11462",
         "2016-08-02 00:00:00",
         "2016-08-09 00:00:00",
         "2016-08-22 00:00:00",
         "2016-10-01 00:00:00",
         "0.0",
         "12",
         "0.0",
         "1",
         "2025-05-27 18:54:37"
        ],
        [
         "1369088",
         "54_GUTHRAM_2166",
         "54",
         "2166",
         "The Macallan Double Cask 12",
         "750mL",
         "2561",
         "EDRINGTON AMERICAS         ",
         "11462",
         "2016-08-02 00:00:00",
         "2016-08-09 00:00:00",
         "2016-08-22 00:00:00",
         "2016-10-01 00:00:00",
         "0.0",
         "12",
         "0.0",
         "1",
         "2025-05-27 18:54:37"
        ],
        [
         "1369091",
         "60_IRRAGIN_2166",
         "60",
         "2166",
         "The Macallan Double Cask 12",
         "750mL",
         "2561",
         "EDRINGTON AMERICAS         ",
         "11462",
         "2016-08-02 00:00:00",
         "2016-08-09 00:00:00",
         "2016-08-22 00:00:00",
         "2016-10-01 00:00:00",
         "0.0",
         "12",
         "0.0",
         "1",
         "2025-05-27 18:54:37"
        ],
        [
         "1369096",
         "68_SOLARIS_2166",
         "68",
         "2166",
         "The Macallan Double Cask 12",
         "750mL",
         "2561",
         "EDRINGTON AMERICAS         ",
         "11462",
         "2016-08-02 00:00:00",
         "2016-08-08 00:00:00",
         "2016-08-22 00:00:00",
         "2016-10-01 00:00:00",
         "0.0",
         "12",
         "0.0",
         "1",
         "2025-05-27 18:54:37"
        ],
        [
         "1369103",
         "7_STANMORE_2166",
         "7",
         "2166",
         "The Macallan Double Cask 12",
         "750mL",
         "2561",
         "EDRINGTON AMERICAS         ",
         "11462",
         "2016-08-02 00:00:00",
         "2016-08-09 00:00:00",
         "2016-08-22 00:00:00",
         "2016-10-01 00:00:00",
         "0.0",
         "12",
         "0.0",
         "1",
         "2025-05-27 18:54:37"
        ],
        [
         "1369105",
         "30_CULCHETH_2166",
         "30",
         "2166",
         "The Macallan Double Cask 12",
         "750mL",
         "2561",
         "EDRINGTON AMERICAS         ",
         "11462",
         "2016-08-02 00:00:00",
         "2016-08-08 00:00:00",
         "2016-08-22 00:00:00",
         "2016-10-01 00:00:00",
         "0.0",
         "12",
         "0.0",
         "1",
         "2025-05-27 18:54:37"
        ],
        [
         "1369124",
         "77_TAMWORTH_2166",
         "77",
         "2166",
         "The Macallan Double Cask 12",
         "750mL",
         "2561",
         "EDRINGTON AMERICAS         ",
         "11462",
         "2016-08-02 00:00:00",
         "2016-08-09 00:00:00",
         "2016-08-22 00:00:00",
         "2016-10-01 00:00:00",
         "0.0",
         "12",
         "0.0",
         "1",
         "2025-05-27 18:54:37"
        ],
        [
         "1369131",
         "76_DONCASTER_2166",
         "76",
         "2166",
         "The Macallan Double Cask 12",
         "750mL",
         "2561",
         "EDRINGTON AMERICAS         ",
         "11462",
         "2016-08-02 00:00:00",
         "2016-08-11 00:00:00",
         "2016-08-22 00:00:00",
         "2016-10-01 00:00:00",
         "0.0",
         "12",
         "0.0",
         "1",
         "2025-05-27 18:54:37"
        ],
        [
         "1369135",
         "74_PAENTMARWY_2166",
         "74",
         "2166",
         "The Macallan Double Cask 12",
         "750mL",
         "2561",
         "EDRINGTON AMERICAS         ",
         "11462",
         "2016-08-02 00:00:00",
         "2016-08-10 00:00:00",
         "2016-08-22 00:00:00",
         "2016-10-01 00:00:00",
         "0.0",
         "12",
         "0.0",
         "1",
         "2025-05-27 18:54:37"
        ],
        [
         "1369137",
         "32_MOUNTMEND_2166",
         "32",
         "2166",
         "The Macallan Double Cask 12",
         "750mL",
         "2561",
         "EDRINGTON AMERICAS         ",
         "11462",
         "2016-08-02 00:00:00",
         "2016-08-09 00:00:00",
         "2016-08-22 00:00:00",
         "2016-10-01 00:00:00",
         "0.0",
         "12",
         "0.0",
         "1",
         "2025-05-27 18:54:37"
        ],
        [
         "1369139",
         "48_NORFOLK_2166",
         "48",
         "2166",
         "The Macallan Double Cask 12",
         "750mL",
         "2561",
         "EDRINGTON AMERICAS         ",
         "11462",
         "2016-08-02 00:00:00",
         "2016-08-08 00:00:00",
         "2016-08-22 00:00:00",
         "2016-10-01 00:00:00",
         "0.0",
         "12",
         "0.0",
         "1",
         "2025-05-27 18:54:37"
        ],
        [
         "1369148",
         "2_ASHBORNE_2166",
         "2",
         "2166",
         "The Macallan Double Cask 12",
         "750mL",
         "2561",
         "EDRINGTON AMERICAS         ",
         "11462",
         "2016-08-02 00:00:00",
         "2016-08-08 00:00:00",
         "2016-08-22 00:00:00",
         "2016-10-01 00:00:00",
         "0.0",
         "12",
         "0.0",
         "1",
         "2025-05-27 18:54:37"
        ],
        [
         "1369151",
         "61_AETHELNEY_2166",
         "61",
         "2166",
         "The Macallan Double Cask 12",
         "750mL",
         "2561",
         "EDRINGTON AMERICAS         ",
         "11462",
         "2016-08-02 00:00:00",
         "2016-08-10 00:00:00",
         "2016-08-22 00:00:00",
         "2016-10-01 00:00:00",
         "0.0",
         "12",
         "0.0",
         "1",
         "2025-05-27 18:54:37"
        ],
        [
         "1369157",
         "49_GARIGILL_2166",
         "49",
         "2166",
         "The Macallan Double Cask 12",
         "750mL",
         "2561",
         "EDRINGTON AMERICAS         ",
         "11462",
         "2016-08-02 00:00:00",
         "2016-08-09 00:00:00",
         "2016-08-22 00:00:00",
         "2016-10-01 00:00:00",
         "0.0",
         "12",
         "0.0",
         "1",
         "2025-05-27 18:54:37"
        ],
        [
         "1369161",
         "6_GOULCREST_2166",
         "6",
         "2166",
         "The Macallan Double Cask 12",
         "750mL",
         "2561",
         "EDRINGTON AMERICAS         ",
         "11462",
         "2016-08-02 00:00:00",
         "2016-08-09 00:00:00",
         "2016-08-22 00:00:00",
         "2016-10-01 00:00:00",
         "0.0",
         "12",
         "0.0",
         "1",
         "2025-05-27 18:54:37"
        ],
        [
         "1369165",
         "21_BALERNO_2166",
         "21",
         "2166",
         "The Macallan Double Cask 12",
         "750mL",
         "2561",
         "EDRINGTON AMERICAS         ",
         "11462",
         "2016-08-02 00:00:00",
         "2016-08-09 00:00:00",
         "2016-08-22 00:00:00",
         "2016-10-01 00:00:00",
         "0.0",
         "12",
         "0.0",
         "1",
         "2025-05-27 18:54:37"
        ],
        [
         "1369170",
         "14_BROMWICH_2166",
         "14",
         "2166",
         "The Macallan Double Cask 12",
         "750mL",
         "2561",
         "EDRINGTON AMERICAS         ",
         "11462",
         "2016-08-02 00:00:00",
         "2016-08-08 00:00:00",
         "2016-08-22 00:00:00",
         "2016-10-01 00:00:00",
         "0.0",
         "12",
         "0.0",
         "1",
         "2025-05-27 18:54:37"
        ],
        [
         "1369177",
         "50_MOUNTMEND_2166",
         "50",
         "2166",
         "The Macallan Double Cask 12",
         "750mL",
         "2561",
         "EDRINGTON AMERICAS         ",
         "11462",
         "2016-08-02 00:00:00",
         "2016-08-09 00:00:00",
         "2016-08-22 00:00:00",
         "2016-10-01 00:00:00",
         "0.0",
         "12",
         "0.0",
         "1",
         "2025-05-27 18:54:37"
        ],
        [
         "1369182",
         "55_DRY GULCH_2166",
         "55",
         "2166",
         "The Macallan Double Cask 12",
         "750mL",
         "2561",
         "EDRINGTON AMERICAS         ",
         "11462",
         "2016-08-02 00:00:00",
         "2016-08-09 00:00:00",
         "2016-08-22 00:00:00",
         "2016-10-01 00:00:00",
         "0.0",
         "12",
         "0.0",
         "1",
         "2025-05-27 18:54:37"
        ],
        [
         "1369188",
         "15_WANBORNE_2166",
         "15",
         "2166",
         "The Macallan Double Cask 12",
         "750mL",
         "2561",
         "EDRINGTON AMERICAS         ",
         "11462",
         "2016-08-02 00:00:00",
         "2016-08-11 00:00:00",
         "2016-08-22 00:00:00",
         "2016-10-01 00:00:00",
         "0.0",
         "12",
         "0.0",
         "1",
         "2025-05-27 18:54:37"
        ],
        [
         "1369194",
         "23_ARBINGTON_2166",
         "23",
         "2166",
         "The Macallan Double Cask 12",
         "750mL",
         "2561",
         "EDRINGTON AMERICAS         ",
         "11462",
         "2016-08-02 00:00:00",
         "2016-08-09 00:00:00",
         "2016-08-22 00:00:00",
         "2016-10-01 00:00:00",
         "0.0",
         "12",
         "0.0",
         "1",
         "2025-05-27 18:54:37"
        ],
        [
         "1369195",
         "10_HORNSEY_2166",
         "10",
         "2166",
         "The Macallan Double Cask 12",
         "750mL",
         "2561",
         "EDRINGTON AMERICAS         ",
         "11462",
         "2016-08-02 00:00:00",
         "2016-08-12 00:00:00",
         "2016-08-22 00:00:00",
         "2016-10-01 00:00:00",
         "0.0",
         "12",
         "0.0",
         "1",
         "2025-05-27 18:54:37"
        ],
        [
         "1369196",
         "69_MOUNTMEND_2166",
         "69",
         "2166",
         "The Macallan Double Cask 12",
         "750mL",
         "2561",
         "EDRINGTON AMERICAS         ",
         "11462",
         "2016-08-02 00:00:00",
         "2016-08-11 00:00:00",
         "2016-08-22 00:00:00",
         "2016-10-01 00:00:00",
         "0.0",
         "12",
         "0.0",
         "1",
         "2025-05-27 18:54:37"
        ],
        [
         "1369201",
         "33_HORNSEY_2166",
         "33",
         "2166",
         "The Macallan Double Cask 12",
         "750mL",
         "2561",
         "EDRINGTON AMERICAS         ",
         "11462",
         "2016-08-02 00:00:00",
         "2016-08-08 00:00:00",
         "2016-08-22 00:00:00",
         "2016-10-01 00:00:00",
         "0.0",
         "12",
         "0.0",
         "1",
         "2025-05-27 18:54:37"
        ],
        [
         "1419362",
         "23_ARBINGTON_2166",
         "23",
         "2166",
         "The Macallan Double Cask 12",
         "750mL",
         "2561",
         "EDRINGTON AMERICAS         ",
         "11548",
         "2016-08-08 00:00:00",
         "2016-08-16 00:00:00",
         "2016-08-25 00:00:00",
         "2016-09-24 00:00:00",
         "0.0",
         "24",
         "0.0",
         "1",
         "2025-05-27 18:54:37"
        ],
        [
         "1471731",
         "76_DONCASTER_2166",
         "76",
         "2166",
         "The Macallan Double Cask 12",
         "750mL",
         "2561",
         "EDRINGTON AMERICAS         ",
         "11689",
         "2016-08-17 00:00:00",
         "2016-08-22 00:00:00",
         "2016-09-01 00:00:00",
         "2016-10-07 00:00:00",
         "0.0",
         "12",
         "0.0",
         "1",
         "2025-05-27 18:54:37"
        ],
        [
         "1471735",
         "73_DONCASTER_2166",
         "73",
         "2166",
         "The Macallan Double Cask 12",
         "750mL",
         "2561",
         "EDRINGTON AMERICAS         ",
         "11689",
         "2016-08-17 00:00:00",
         "2016-08-22 00:00:00",
         "2016-09-01 00:00:00",
         "2016-10-07 00:00:00",
         "0.0",
         "12",
         "0.0",
         "1",
         "2025-05-27 18:54:37"
        ],
        [
         "1520028",
         "67_EANVERNESS_2166",
         "67",
         "2166",
         "The Macallan Double Cask 12",
         "750mL",
         "2561",
         "EDRINGTON AMERICAS         ",
         "11752",
         "2016-08-22 00:00:00",
         "2016-08-30 00:00:00",
         "2016-09-12 00:00:00",
         "2016-10-06 00:00:00",
         "0.0",
         "12",
         "0.0",
         "1",
         "2025-05-27 18:54:37"
        ],
        [
         "1520035",
         "76_DONCASTER_2166",
         "76",
         "2166",
         "The Macallan Double Cask 12",
         "750mL",
         "2561",
         "EDRINGTON AMERICAS         ",
         "11752",
         "2016-08-22 00:00:00",
         "2016-08-31 00:00:00",
         "2016-09-12 00:00:00",
         "2016-10-06 00:00:00",
         "0.0",
         "12",
         "0.0",
         "1",
         "2025-05-27 18:54:37"
        ],
        [
         "1520049",
         "81_PEMBROKE_2166",
         "81",
         "2166",
         "The Macallan Double Cask 12",
         "750mL",
         "2561",
         "EDRINGTON AMERICAS         ",
         "11752",
         "2016-08-22 00:00:00",
         "2016-08-30 00:00:00",
         "2016-09-12 00:00:00",
         "2016-10-06 00:00:00",
         "0.0",
         "12",
         "0.0",
         "1",
         "2025-05-27 18:54:37"
        ],
        [
         "1520108",
         "38_GOULCREST_2166",
         "38",
         "2166",
         "The Macallan Double Cask 12",
         "750mL",
         "2561",
         "EDRINGTON AMERICAS         ",
         "11752",
         "2016-08-22 00:00:00",
         "2016-08-30 00:00:00",
         "2016-09-12 00:00:00",
         "2016-10-06 00:00:00",
         "0.0",
         "11",
         "0.0",
         "1",
         "2025-05-27 18:54:37"
        ],
        [
         "1520118",
         "73_DONCASTER_2166",
         "73",
         "2166",
         "The Macallan Double Cask 12",
         "750mL",
         "2561",
         "EDRINGTON AMERICAS         ",
         "11752",
         "2016-08-22 00:00:00",
         "2016-09-01 00:00:00",
         "2016-09-12 00:00:00",
         "2016-10-06 00:00:00",
         "0.0",
         "11",
         "0.0",
         "1",
         "2025-05-27 18:54:37"
        ],
        [
         "1570793",
         "38_GOULCREST_2166",
         "38",
         "2166",
         "The Macallan Double Cask 12",
         "750mL",
         "2561",
         "EDRINGTON AMERICAS         ",
         "11862",
         "2016-08-30 00:00:00",
         "2016-09-06 00:00:00",
         "2016-09-15 00:00:00",
         "2016-10-26 00:00:00",
         "0.0",
         "11",
         "0.0",
         "1",
         "2025-05-27 18:54:37"
        ],
        [
         "1570821",
         "73_DONCASTER_2166",
         "73",
         "2166",
         "The Macallan Double Cask 12",
         "750mL",
         "2561",
         "EDRINGTON AMERICAS         ",
         "11862",
         "2016-08-30 00:00:00",
         "2016-09-08 00:00:00",
         "2016-09-15 00:00:00",
         "2016-10-26 00:00:00",
         "0.0",
         "9",
         "0.0",
         "1",
         "2025-05-27 18:54:37"
        ],
        [
         "1570835",
         "66_EANVERNESS_2166",
         "66",
         "2166",
         "The Macallan Double Cask 12",
         "750mL",
         "2561",
         "EDRINGTON AMERICAS         ",
         "11862",
         "2016-08-30 00:00:00",
         "2016-09-07 00:00:00",
         "2016-09-15 00:00:00",
         "2016-10-26 00:00:00",
         "0.0",
         "12",
         "0.0",
         "1",
         "2025-05-27 18:54:37"
        ],
        [
         "1617285",
         "76_DONCASTER_2166",
         "76",
         "2166",
         "The Macallan Double Cask 12",
         "750mL",
         "2561",
         "EDRINGTON AMERICAS         ",
         "11973",
         "2016-09-06 00:00:00",
         "2016-09-12 00:00:00",
         "2016-09-20 00:00:00",
         "2016-10-23 00:00:00",
         "0.0",
         "12",
         "0.0",
         "1",
         "2025-05-27 18:54:37"
        ],
        [
         "1617293",
         "66_EANVERNESS_2166",
         "66",
         "2166",
         "The Macallan Double Cask 12",
         "750mL",
         "2561",
         "EDRINGTON AMERICAS         ",
         "11973",
         "2016-09-06 00:00:00",
         "2016-09-13 00:00:00",
         "2016-09-20 00:00:00",
         "2016-10-23 00:00:00",
         "0.0",
         "48",
         "0.0",
         "1",
         "2025-05-27 18:54:37"
        ],
        [
         "1705636",
         "15_WANBORNE_2166",
         "15",
         "2166",
         "The Macallan Double Cask 12",
         "750mL",
         "2561",
         "EDRINGTON AMERICAS         ",
         "12238",
         "2016-09-23 00:00:00",
         "2016-09-29 00:00:00",
         "2016-10-09 00:00:00",
         "2016-11-07 00:00:00",
         "0.0",
         "5",
         "0.0",
         "1",
         "2025-05-27 18:54:37"
        ],
        [
         "1756835",
         "67_EANVERNESS_2166",
         "67",
         "2166",
         "The Macallan Double Cask 12",
         "750mL",
         "2561",
         "EDRINGTON AMERICAS         ",
         "12315",
         "2016-09-25 00:00:00",
         "2016-10-06 00:00:00",
         "2016-10-14 00:00:00",
         "2016-11-13 00:00:00",
         "0.0",
         "12",
         "0.0",
         "1",
         "2025-05-27 18:54:37"
        ]
       ],
       "shape": {
        "columns": 17,
        "rows": 153
       }
      },
      "text/html": [
       "<div>\n",
       "<style scoped>\n",
       "    .dataframe tbody tr th:only-of-type {\n",
       "        vertical-align: middle;\n",
       "    }\n",
       "\n",
       "    .dataframe tbody tr th {\n",
       "        vertical-align: top;\n",
       "    }\n",
       "\n",
       "    .dataframe thead th {\n",
       "        text-align: right;\n",
       "    }\n",
       "</style>\n",
       "<table border=\"1\" class=\"dataframe\">\n",
       "  <thead>\n",
       "    <tr style=\"text-align: right;\">\n",
       "      <th></th>\n",
       "      <th>InventoryId</th>\n",
       "      <th>Store</th>\n",
       "      <th>Brand</th>\n",
       "      <th>Description</th>\n",
       "      <th>Size</th>\n",
       "      <th>VendorNumber</th>\n",
       "      <th>VendorName</th>\n",
       "      <th>PONumber</th>\n",
       "      <th>PODate</th>\n",
       "      <th>ReceivingDate</th>\n",
       "      <th>InvoiceDate</th>\n",
       "      <th>PayDate</th>\n",
       "      <th>PurchasePrice</th>\n",
       "      <th>Quantity</th>\n",
       "      <th>Dollars</th>\n",
       "      <th>Classification</th>\n",
       "      <th>fecha_actualizacion</th>\n",
       "    </tr>\n",
       "  </thead>\n",
       "  <tbody>\n",
       "    <tr>\n",
       "      <th>1369008</th>\n",
       "      <td>59_CLAETHORPES_2166</td>\n",
       "      <td>59</td>\n",
       "      <td>2166</td>\n",
       "      <td>The Macallan Double Cask 12</td>\n",
       "      <td>750mL</td>\n",
       "      <td>2561</td>\n",
       "      <td>EDRINGTON AMERICAS</td>\n",
       "      <td>11462</td>\n",
       "      <td>2016-08-02</td>\n",
       "      <td>2016-08-10</td>\n",
       "      <td>2016-08-22</td>\n",
       "      <td>2016-10-01</td>\n",
       "      <td>0.0</td>\n",
       "      <td>12</td>\n",
       "      <td>0.0</td>\n",
       "      <td>1</td>\n",
       "      <td>2025-05-27 18:54:37</td>\n",
       "    </tr>\n",
       "    <tr>\n",
       "      <th>1369017</th>\n",
       "      <td>38_GOULCREST_2166</td>\n",
       "      <td>38</td>\n",
       "      <td>2166</td>\n",
       "      <td>The Macallan Double Cask 12</td>\n",
       "      <td>750mL</td>\n",
       "      <td>2561</td>\n",
       "      <td>EDRINGTON AMERICAS</td>\n",
       "      <td>11462</td>\n",
       "      <td>2016-08-02</td>\n",
       "      <td>2016-08-11</td>\n",
       "      <td>2016-08-22</td>\n",
       "      <td>2016-10-01</td>\n",
       "      <td>0.0</td>\n",
       "      <td>12</td>\n",
       "      <td>0.0</td>\n",
       "      <td>1</td>\n",
       "      <td>2025-05-27 18:54:37</td>\n",
       "    </tr>\n",
       "    <tr>\n",
       "      <th>1369030</th>\n",
       "      <td>34_PITMERDEN_2166</td>\n",
       "      <td>34</td>\n",
       "      <td>2166</td>\n",
       "      <td>The Macallan Double Cask 12</td>\n",
       "      <td>750mL</td>\n",
       "      <td>2561</td>\n",
       "      <td>EDRINGTON AMERICAS</td>\n",
       "      <td>11462</td>\n",
       "      <td>2016-08-02</td>\n",
       "      <td>2016-08-09</td>\n",
       "      <td>2016-08-22</td>\n",
       "      <td>2016-10-01</td>\n",
       "      <td>0.0</td>\n",
       "      <td>12</td>\n",
       "      <td>0.0</td>\n",
       "      <td>1</td>\n",
       "      <td>2025-05-27 18:54:37</td>\n",
       "    </tr>\n",
       "    <tr>\n",
       "      <th>1369031</th>\n",
       "      <td>44_PORTHCRAWL_2166</td>\n",
       "      <td>44</td>\n",
       "      <td>2166</td>\n",
       "      <td>The Macallan Double Cask 12</td>\n",
       "      <td>750mL</td>\n",
       "      <td>2561</td>\n",
       "      <td>EDRINGTON AMERICAS</td>\n",
       "      <td>11462</td>\n",
       "      <td>2016-08-02</td>\n",
       "      <td>2016-08-08</td>\n",
       "      <td>2016-08-22</td>\n",
       "      <td>2016-10-01</td>\n",
       "      <td>0.0</td>\n",
       "      <td>12</td>\n",
       "      <td>0.0</td>\n",
       "      <td>1</td>\n",
       "      <td>2025-05-27 18:54:37</td>\n",
       "    </tr>\n",
       "    <tr>\n",
       "      <th>1369032</th>\n",
       "      <td>56_BEGGAR'S HOLE_2166</td>\n",
       "      <td>56</td>\n",
       "      <td>2166</td>\n",
       "      <td>The Macallan Double Cask 12</td>\n",
       "      <td>750mL</td>\n",
       "      <td>2561</td>\n",
       "      <td>EDRINGTON AMERICAS</td>\n",
       "      <td>11462</td>\n",
       "      <td>2016-08-02</td>\n",
       "      <td>2016-08-09</td>\n",
       "      <td>2016-08-22</td>\n",
       "      <td>2016-10-01</td>\n",
       "      <td>0.0</td>\n",
       "      <td>12</td>\n",
       "      <td>0.0</td>\n",
       "      <td>1</td>\n",
       "      <td>2025-05-27 18:54:37</td>\n",
       "    </tr>\n",
       "    <tr>\n",
       "      <th>...</th>\n",
       "      <td>...</td>\n",
       "      <td>...</td>\n",
       "      <td>...</td>\n",
       "      <td>...</td>\n",
       "      <td>...</td>\n",
       "      <td>...</td>\n",
       "      <td>...</td>\n",
       "      <td>...</td>\n",
       "      <td>...</td>\n",
       "      <td>...</td>\n",
       "      <td>...</td>\n",
       "      <td>...</td>\n",
       "      <td>...</td>\n",
       "      <td>...</td>\n",
       "      <td>...</td>\n",
       "      <td>...</td>\n",
       "      <td>...</td>\n",
       "    </tr>\n",
       "    <tr>\n",
       "      <th>2278895</th>\n",
       "      <td>39_EASTHALLOW_2166</td>\n",
       "      <td>39</td>\n",
       "      <td>2166</td>\n",
       "      <td>The Macallan Double Cask 12</td>\n",
       "      <td>750mL</td>\n",
       "      <td>2561</td>\n",
       "      <td>EDRINGTON AMERICAS</td>\n",
       "      <td>13506</td>\n",
       "      <td>2016-12-14</td>\n",
       "      <td>2016-12-19</td>\n",
       "      <td>2016-12-28</td>\n",
       "      <td>2017-02-03</td>\n",
       "      <td>0.0</td>\n",
       "      <td>12</td>\n",
       "      <td>0.0</td>\n",
       "      <td>1</td>\n",
       "      <td>2025-05-27 18:54:37</td>\n",
       "    </tr>\n",
       "    <tr>\n",
       "      <th>2278908</th>\n",
       "      <td>38_GOULCREST_2166</td>\n",
       "      <td>38</td>\n",
       "      <td>2166</td>\n",
       "      <td>The Macallan Double Cask 12</td>\n",
       "      <td>750mL</td>\n",
       "      <td>2561</td>\n",
       "      <td>EDRINGTON AMERICAS</td>\n",
       "      <td>13506</td>\n",
       "      <td>2016-12-14</td>\n",
       "      <td>2016-12-20</td>\n",
       "      <td>2016-12-28</td>\n",
       "      <td>2017-02-03</td>\n",
       "      <td>0.0</td>\n",
       "      <td>10</td>\n",
       "      <td>0.0</td>\n",
       "      <td>1</td>\n",
       "      <td>2025-05-27 18:54:37</td>\n",
       "    </tr>\n",
       "    <tr>\n",
       "      <th>2278921</th>\n",
       "      <td>9_BLACKPOOL_2166</td>\n",
       "      <td>9</td>\n",
       "      <td>2166</td>\n",
       "      <td>The Macallan Double Cask 12</td>\n",
       "      <td>750mL</td>\n",
       "      <td>2561</td>\n",
       "      <td>EDRINGTON AMERICAS</td>\n",
       "      <td>13506</td>\n",
       "      <td>2016-12-14</td>\n",
       "      <td>2016-12-19</td>\n",
       "      <td>2016-12-28</td>\n",
       "      <td>2017-02-03</td>\n",
       "      <td>0.0</td>\n",
       "      <td>12</td>\n",
       "      <td>0.0</td>\n",
       "      <td>1</td>\n",
       "      <td>2025-05-27 18:54:37</td>\n",
       "    </tr>\n",
       "    <tr>\n",
       "      <th>2278953</th>\n",
       "      <td>20_BREDWARDINE_2166</td>\n",
       "      <td>20</td>\n",
       "      <td>2166</td>\n",
       "      <td>The Macallan Double Cask 12</td>\n",
       "      <td>750mL</td>\n",
       "      <td>2561</td>\n",
       "      <td>EDRINGTON AMERICAS</td>\n",
       "      <td>13506</td>\n",
       "      <td>2016-12-14</td>\n",
       "      <td>2016-12-19</td>\n",
       "      <td>2016-12-28</td>\n",
       "      <td>2017-02-03</td>\n",
       "      <td>0.0</td>\n",
       "      <td>12</td>\n",
       "      <td>0.0</td>\n",
       "      <td>1</td>\n",
       "      <td>2025-05-27 18:54:37</td>\n",
       "    </tr>\n",
       "    <tr>\n",
       "      <th>2278957</th>\n",
       "      <td>31_HORNSEY_2166</td>\n",
       "      <td>31</td>\n",
       "      <td>2166</td>\n",
       "      <td>The Macallan Double Cask 12</td>\n",
       "      <td>750mL</td>\n",
       "      <td>2561</td>\n",
       "      <td>EDRINGTON AMERICAS</td>\n",
       "      <td>13506</td>\n",
       "      <td>2016-12-14</td>\n",
       "      <td>2016-12-19</td>\n",
       "      <td>2016-12-28</td>\n",
       "      <td>2017-02-03</td>\n",
       "      <td>0.0</td>\n",
       "      <td>12</td>\n",
       "      <td>0.0</td>\n",
       "      <td>1</td>\n",
       "      <td>2025-05-27 18:54:37</td>\n",
       "    </tr>\n",
       "  </tbody>\n",
       "</table>\n",
       "<p>153 rows × 17 columns</p>\n",
       "</div>"
      ],
      "text/plain": [
       "                   InventoryId  Store  Brand                  Description  \\\n",
       "1369008    59_CLAETHORPES_2166     59   2166  The Macallan Double Cask 12   \n",
       "1369017      38_GOULCREST_2166     38   2166  The Macallan Double Cask 12   \n",
       "1369030      34_PITMERDEN_2166     34   2166  The Macallan Double Cask 12   \n",
       "1369031     44_PORTHCRAWL_2166     44   2166  The Macallan Double Cask 12   \n",
       "1369032  56_BEGGAR'S HOLE_2166     56   2166  The Macallan Double Cask 12   \n",
       "...                        ...    ...    ...                          ...   \n",
       "2278895     39_EASTHALLOW_2166     39   2166  The Macallan Double Cask 12   \n",
       "2278908      38_GOULCREST_2166     38   2166  The Macallan Double Cask 12   \n",
       "2278921       9_BLACKPOOL_2166      9   2166  The Macallan Double Cask 12   \n",
       "2278953    20_BREDWARDINE_2166     20   2166  The Macallan Double Cask 12   \n",
       "2278957        31_HORNSEY_2166     31   2166  The Macallan Double Cask 12   \n",
       "\n",
       "          Size  VendorNumber                   VendorName  PONumber  \\\n",
       "1369008  750mL          2561  EDRINGTON AMERICAS              11462   \n",
       "1369017  750mL          2561  EDRINGTON AMERICAS              11462   \n",
       "1369030  750mL          2561  EDRINGTON AMERICAS              11462   \n",
       "1369031  750mL          2561  EDRINGTON AMERICAS              11462   \n",
       "1369032  750mL          2561  EDRINGTON AMERICAS              11462   \n",
       "...        ...           ...                          ...       ...   \n",
       "2278895  750mL          2561  EDRINGTON AMERICAS              13506   \n",
       "2278908  750mL          2561  EDRINGTON AMERICAS              13506   \n",
       "2278921  750mL          2561  EDRINGTON AMERICAS              13506   \n",
       "2278953  750mL          2561  EDRINGTON AMERICAS              13506   \n",
       "2278957  750mL          2561  EDRINGTON AMERICAS              13506   \n",
       "\n",
       "            PODate ReceivingDate InvoiceDate    PayDate  PurchasePrice  \\\n",
       "1369008 2016-08-02    2016-08-10  2016-08-22 2016-10-01            0.0   \n",
       "1369017 2016-08-02    2016-08-11  2016-08-22 2016-10-01            0.0   \n",
       "1369030 2016-08-02    2016-08-09  2016-08-22 2016-10-01            0.0   \n",
       "1369031 2016-08-02    2016-08-08  2016-08-22 2016-10-01            0.0   \n",
       "1369032 2016-08-02    2016-08-09  2016-08-22 2016-10-01            0.0   \n",
       "...            ...           ...         ...        ...            ...   \n",
       "2278895 2016-12-14    2016-12-19  2016-12-28 2017-02-03            0.0   \n",
       "2278908 2016-12-14    2016-12-20  2016-12-28 2017-02-03            0.0   \n",
       "2278921 2016-12-14    2016-12-19  2016-12-28 2017-02-03            0.0   \n",
       "2278953 2016-12-14    2016-12-19  2016-12-28 2017-02-03            0.0   \n",
       "2278957 2016-12-14    2016-12-19  2016-12-28 2017-02-03            0.0   \n",
       "\n",
       "         Quantity  Dollars  Classification fecha_actualizacion  \n",
       "1369008        12      0.0               1 2025-05-27 18:54:37  \n",
       "1369017        12      0.0               1 2025-05-27 18:54:37  \n",
       "1369030        12      0.0               1 2025-05-27 18:54:37  \n",
       "1369031        12      0.0               1 2025-05-27 18:54:37  \n",
       "1369032        12      0.0               1 2025-05-27 18:54:37  \n",
       "...           ...      ...             ...                 ...  \n",
       "2278895        12      0.0               1 2025-05-27 18:54:37  \n",
       "2278908        10      0.0               1 2025-05-27 18:54:37  \n",
       "2278921        12      0.0               1 2025-05-27 18:54:37  \n",
       "2278953        12      0.0               1 2025-05-27 18:54:37  \n",
       "2278957        12      0.0               1 2025-05-27 18:54:37  \n",
       "\n",
       "[153 rows x 17 columns]"
      ]
     },
     "execution_count": 94,
     "metadata": {},
     "output_type": "execute_result"
    }
   ],
   "source": [
    "df2[(df2['PurchasePrice'].isnull()) | (df2['PurchasePrice'] == 0)]"
   ]
  },
  {
   "cell_type": "markdown",
   "id": "eb474fdc",
   "metadata": {},
   "source": [
    "Vemos que hay para el producto \"The Macallan Double Cask 12\", no tiene precio de compra, me fijo si algun dato en la tabla tiene esta informacion para reemplazarla."
   ]
  },
  {
   "cell_type": "code",
   "execution_count": 100,
   "id": "c9a79ecf",
   "metadata": {},
   "outputs": [
    {
     "data": {
      "application/vnd.microsoft.datawrangler.viewer.v0+json": {
       "columns": [
        {
         "name": "index",
         "rawType": "int64",
         "type": "integer"
        },
        {
         "name": "InventoryId",
         "rawType": "object",
         "type": "string"
        },
        {
         "name": "Store",
         "rawType": "int64",
         "type": "integer"
        },
        {
         "name": "Brand",
         "rawType": "int64",
         "type": "integer"
        },
        {
         "name": "Description",
         "rawType": "object",
         "type": "string"
        },
        {
         "name": "Size",
         "rawType": "object",
         "type": "string"
        },
        {
         "name": "VendorNumber",
         "rawType": "int64",
         "type": "integer"
        },
        {
         "name": "VendorName",
         "rawType": "object",
         "type": "string"
        },
        {
         "name": "PONumber",
         "rawType": "int64",
         "type": "integer"
        },
        {
         "name": "PODate",
         "rawType": "datetime64[ns]",
         "type": "datetime"
        },
        {
         "name": "ReceivingDate",
         "rawType": "datetime64[ns]",
         "type": "datetime"
        },
        {
         "name": "InvoiceDate",
         "rawType": "datetime64[ns]",
         "type": "datetime"
        },
        {
         "name": "PayDate",
         "rawType": "datetime64[ns]",
         "type": "datetime"
        },
        {
         "name": "PurchasePrice",
         "rawType": "float64",
         "type": "float"
        },
        {
         "name": "Quantity",
         "rawType": "int64",
         "type": "integer"
        },
        {
         "name": "Dollars",
         "rawType": "float64",
         "type": "float"
        },
        {
         "name": "Classification",
         "rawType": "int64",
         "type": "integer"
        },
        {
         "name": "fecha_actualizacion",
         "rawType": "datetime64[ns]",
         "type": "datetime"
        }
       ],
       "ref": "bf451c86-c8b2-4c2a-9b77-2743bd377860",
       "rows": [],
       "shape": {
        "columns": 17,
        "rows": 0
       }
      },
      "text/html": [
       "<div>\n",
       "<style scoped>\n",
       "    .dataframe tbody tr th:only-of-type {\n",
       "        vertical-align: middle;\n",
       "    }\n",
       "\n",
       "    .dataframe tbody tr th {\n",
       "        vertical-align: top;\n",
       "    }\n",
       "\n",
       "    .dataframe thead th {\n",
       "        text-align: right;\n",
       "    }\n",
       "</style>\n",
       "<table border=\"1\" class=\"dataframe\">\n",
       "  <thead>\n",
       "    <tr style=\"text-align: right;\">\n",
       "      <th></th>\n",
       "      <th>InventoryId</th>\n",
       "      <th>Store</th>\n",
       "      <th>Brand</th>\n",
       "      <th>Description</th>\n",
       "      <th>Size</th>\n",
       "      <th>VendorNumber</th>\n",
       "      <th>VendorName</th>\n",
       "      <th>PONumber</th>\n",
       "      <th>PODate</th>\n",
       "      <th>ReceivingDate</th>\n",
       "      <th>InvoiceDate</th>\n",
       "      <th>PayDate</th>\n",
       "      <th>PurchasePrice</th>\n",
       "      <th>Quantity</th>\n",
       "      <th>Dollars</th>\n",
       "      <th>Classification</th>\n",
       "      <th>fecha_actualizacion</th>\n",
       "    </tr>\n",
       "  </thead>\n",
       "  <tbody>\n",
       "  </tbody>\n",
       "</table>\n",
       "</div>"
      ],
      "text/plain": [
       "Empty DataFrame\n",
       "Columns: [InventoryId, Store, Brand, Description, Size, VendorNumber, VendorName, PONumber, PODate, ReceivingDate, InvoiceDate, PayDate, PurchasePrice, Quantity, Dollars, Classification, fecha_actualizacion]\n",
       "Index: []"
      ]
     },
     "execution_count": 100,
     "metadata": {},
     "output_type": "execute_result"
    }
   ],
   "source": [
    "df2[\n",
    "    (df2['Description'].str.contains('The Macallan Double', case=False, na=False)) &\n",
    "    (df2['PurchasePrice'] > 0)\n",
    "]"
   ]
  },
  {
   "cell_type": "markdown",
   "id": "9ee1970d",
   "metadata": {},
   "source": [
    "No hay coincidencia de datos que pueda rellenar, por lo que procedo a borrar estas filas."
   ]
  },
  {
   "cell_type": "code",
   "execution_count": 101,
   "id": "3f4733fd",
   "metadata": {},
   "outputs": [],
   "source": [
    "df2 = df2.drop(df2[df2['PurchasePrice'] == 0].index)"
   ]
  },
  {
   "cell_type": "code",
   "execution_count": 103,
   "id": "5f4558f9",
   "metadata": {},
   "outputs": [
    {
     "data": {
      "application/vnd.microsoft.datawrangler.viewer.v0+json": {
       "columns": [
        {
         "name": "index",
         "rawType": "int64",
         "type": "integer"
        },
        {
         "name": "InventoryId",
         "rawType": "object",
         "type": "string"
        },
        {
         "name": "Store",
         "rawType": "int64",
         "type": "integer"
        },
        {
         "name": "Brand",
         "rawType": "int64",
         "type": "integer"
        },
        {
         "name": "Description",
         "rawType": "object",
         "type": "string"
        },
        {
         "name": "Size",
         "rawType": "object",
         "type": "string"
        },
        {
         "name": "VendorNumber",
         "rawType": "int64",
         "type": "integer"
        },
        {
         "name": "VendorName",
         "rawType": "object",
         "type": "string"
        },
        {
         "name": "PONumber",
         "rawType": "int64",
         "type": "integer"
        },
        {
         "name": "PODate",
         "rawType": "datetime64[ns]",
         "type": "datetime"
        },
        {
         "name": "ReceivingDate",
         "rawType": "datetime64[ns]",
         "type": "datetime"
        },
        {
         "name": "InvoiceDate",
         "rawType": "datetime64[ns]",
         "type": "datetime"
        },
        {
         "name": "PayDate",
         "rawType": "datetime64[ns]",
         "type": "datetime"
        },
        {
         "name": "PurchasePrice",
         "rawType": "float64",
         "type": "float"
        },
        {
         "name": "Quantity",
         "rawType": "int64",
         "type": "integer"
        },
        {
         "name": "Dollars",
         "rawType": "float64",
         "type": "float"
        },
        {
         "name": "Classification",
         "rawType": "int64",
         "type": "integer"
        },
        {
         "name": "fecha_actualizacion",
         "rawType": "datetime64[ns]",
         "type": "datetime"
        }
       ],
       "ref": "72285e52-e8e5-4963-86f9-bcad9fac8339",
       "rows": [],
       "shape": {
        "columns": 17,
        "rows": 0
       }
      },
      "text/html": [
       "<div>\n",
       "<style scoped>\n",
       "    .dataframe tbody tr th:only-of-type {\n",
       "        vertical-align: middle;\n",
       "    }\n",
       "\n",
       "    .dataframe tbody tr th {\n",
       "        vertical-align: top;\n",
       "    }\n",
       "\n",
       "    .dataframe thead th {\n",
       "        text-align: right;\n",
       "    }\n",
       "</style>\n",
       "<table border=\"1\" class=\"dataframe\">\n",
       "  <thead>\n",
       "    <tr style=\"text-align: right;\">\n",
       "      <th></th>\n",
       "      <th>InventoryId</th>\n",
       "      <th>Store</th>\n",
       "      <th>Brand</th>\n",
       "      <th>Description</th>\n",
       "      <th>Size</th>\n",
       "      <th>VendorNumber</th>\n",
       "      <th>VendorName</th>\n",
       "      <th>PONumber</th>\n",
       "      <th>PODate</th>\n",
       "      <th>ReceivingDate</th>\n",
       "      <th>InvoiceDate</th>\n",
       "      <th>PayDate</th>\n",
       "      <th>PurchasePrice</th>\n",
       "      <th>Quantity</th>\n",
       "      <th>Dollars</th>\n",
       "      <th>Classification</th>\n",
       "      <th>fecha_actualizacion</th>\n",
       "    </tr>\n",
       "  </thead>\n",
       "  <tbody>\n",
       "  </tbody>\n",
       "</table>\n",
       "</div>"
      ],
      "text/plain": [
       "Empty DataFrame\n",
       "Columns: [InventoryId, Store, Brand, Description, Size, VendorNumber, VendorName, PONumber, PODate, ReceivingDate, InvoiceDate, PayDate, PurchasePrice, Quantity, Dollars, Classification, fecha_actualizacion]\n",
       "Index: []"
      ]
     },
     "execution_count": 103,
     "metadata": {},
     "output_type": "execute_result"
    }
   ],
   "source": [
    "df2.loc[df2['Size'].isna()]"
   ]
  },
  {
   "cell_type": "code",
   "execution_count": null,
   "id": "caf4fe77",
   "metadata": {},
   "outputs": [
    {
     "data": {
      "application/vnd.microsoft.datawrangler.viewer.v0+json": {
       "columns": [
        {
         "name": "index",
         "rawType": "object",
         "type": "string"
        },
        {
         "name": "0",
         "rawType": "int64",
         "type": "integer"
        }
       ],
       "ref": "e65c1814-fc7c-41fa-88d3-bc98b22de3e3",
       "rows": [
        [
         "InventoryId",
         "0"
        ],
        [
         "Description",
         "0"
        ],
        [
         "Size",
         "3"
        ],
        [
         "VendorName",
         "0"
        ]
       ],
       "shape": {
        "columns": 1,
        "rows": 4
       }
      },
      "text/plain": [
       "InventoryId    0\n",
       "Description    0\n",
       "Size           3\n",
       "VendorName     0\n",
       "dtype: int64"
      ]
     },
     "execution_count": 107,
     "metadata": {},
     "output_type": "execute_result"
    }
   ],
   "source": [
    "# Seleccionar columnas de tipo string / objeto\n",
    "text_cols = df2.select_dtypes(include='object').columns\n",
    "\n",
    "# Filtro la cantidad de datos que tienen valores null o vacios\n",
    "df2[text_cols].isnull().sum() + (df2[text_cols] == \"\").sum()"
   ]
  },
  {
   "cell_type": "markdown",
   "id": "0e5a6b1d",
   "metadata": {},
   "source": [
    "Observo que hay datos vacios en size, filtro estos datos"
   ]
  },
  {
   "cell_type": "code",
   "execution_count": 109,
   "id": "dd47d87b",
   "metadata": {},
   "outputs": [
    {
     "data": {
      "application/vnd.microsoft.datawrangler.viewer.v0+json": {
       "columns": [
        {
         "name": "index",
         "rawType": "int64",
         "type": "integer"
        },
        {
         "name": "InventoryId",
         "rawType": "object",
         "type": "string"
        },
        {
         "name": "Store",
         "rawType": "int64",
         "type": "integer"
        },
        {
         "name": "Brand",
         "rawType": "int64",
         "type": "integer"
        },
        {
         "name": "Description",
         "rawType": "object",
         "type": "string"
        },
        {
         "name": "Size",
         "rawType": "object",
         "type": "string"
        },
        {
         "name": "VendorNumber",
         "rawType": "int64",
         "type": "integer"
        },
        {
         "name": "VendorName",
         "rawType": "object",
         "type": "string"
        },
        {
         "name": "PONumber",
         "rawType": "int64",
         "type": "integer"
        },
        {
         "name": "PODate",
         "rawType": "datetime64[ns]",
         "type": "datetime"
        },
        {
         "name": "ReceivingDate",
         "rawType": "datetime64[ns]",
         "type": "datetime"
        },
        {
         "name": "InvoiceDate",
         "rawType": "datetime64[ns]",
         "type": "datetime"
        },
        {
         "name": "PayDate",
         "rawType": "datetime64[ns]",
         "type": "datetime"
        },
        {
         "name": "PurchasePrice",
         "rawType": "float64",
         "type": "float"
        },
        {
         "name": "Quantity",
         "rawType": "int64",
         "type": "integer"
        },
        {
         "name": "Dollars",
         "rawType": "float64",
         "type": "float"
        },
        {
         "name": "Classification",
         "rawType": "int64",
         "type": "integer"
        },
        {
         "name": "fecha_actualizacion",
         "rawType": "datetime64[ns]",
         "type": "datetime"
        }
       ],
       "ref": "62c4327a-3950-444b-94ea-1720ea75941b",
       "rows": [
        [
         "1109667",
         "34_PITMERDEN_3121",
         "34",
         "3121",
         "Pinnacle Rainbow Sherbet",
         "",
         "12546",
         "JIM BEAM BRANDS COMPANY    ",
         "10938",
         "2016-06-27 00:00:00",
         "2016-07-04 00:00:00",
         "2016-07-13 00:00:00",
         "2016-08-16 00:00:00",
         "6.93",
         "7",
         "48.51",
         "1",
         "2025-05-27 18:54:37"
        ],
        [
         "1112425",
         "34_PITMERDEN_5678",
         "34",
         "5678",
         "Skinnygirl Pina Colada",
         "",
         "12546",
         "JIM BEAM BRANDS COMPANY    ",
         "10938",
         "2016-06-27 00:00:00",
         "2016-07-09 00:00:00",
         "2016-07-13 00:00:00",
         "2016-08-16 00:00:00",
         "6.93",
         "6",
         "41.58",
         "1",
         "2025-05-27 18:54:37"
        ],
        [
         "1116301",
         "39_EASTHALLOW_15365",
         "39",
         "15365",
         "Alabaster 07 Tinta de Toro",
         "",
         "9552",
         "M S WALKER INC             ",
         "10972",
         "2016-06-29 00:00:00",
         "2016-07-07 00:00:00",
         "2016-07-13 00:00:00",
         "2016-08-21 00:00:00",
         "91.83",
         "1",
         "91.83",
         "2",
         "2025-05-27 18:54:37"
        ]
       ],
       "shape": {
        "columns": 17,
        "rows": 3
       }
      },
      "text/html": [
       "<div>\n",
       "<style scoped>\n",
       "    .dataframe tbody tr th:only-of-type {\n",
       "        vertical-align: middle;\n",
       "    }\n",
       "\n",
       "    .dataframe tbody tr th {\n",
       "        vertical-align: top;\n",
       "    }\n",
       "\n",
       "    .dataframe thead th {\n",
       "        text-align: right;\n",
       "    }\n",
       "</style>\n",
       "<table border=\"1\" class=\"dataframe\">\n",
       "  <thead>\n",
       "    <tr style=\"text-align: right;\">\n",
       "      <th></th>\n",
       "      <th>InventoryId</th>\n",
       "      <th>Store</th>\n",
       "      <th>Brand</th>\n",
       "      <th>Description</th>\n",
       "      <th>Size</th>\n",
       "      <th>VendorNumber</th>\n",
       "      <th>VendorName</th>\n",
       "      <th>PONumber</th>\n",
       "      <th>PODate</th>\n",
       "      <th>ReceivingDate</th>\n",
       "      <th>InvoiceDate</th>\n",
       "      <th>PayDate</th>\n",
       "      <th>PurchasePrice</th>\n",
       "      <th>Quantity</th>\n",
       "      <th>Dollars</th>\n",
       "      <th>Classification</th>\n",
       "      <th>fecha_actualizacion</th>\n",
       "    </tr>\n",
       "  </thead>\n",
       "  <tbody>\n",
       "    <tr>\n",
       "      <th>1109667</th>\n",
       "      <td>34_PITMERDEN_3121</td>\n",
       "      <td>34</td>\n",
       "      <td>3121</td>\n",
       "      <td>Pinnacle Rainbow Sherbet</td>\n",
       "      <td></td>\n",
       "      <td>12546</td>\n",
       "      <td>JIM BEAM BRANDS COMPANY</td>\n",
       "      <td>10938</td>\n",
       "      <td>2016-06-27</td>\n",
       "      <td>2016-07-04</td>\n",
       "      <td>2016-07-13</td>\n",
       "      <td>2016-08-16</td>\n",
       "      <td>6.93</td>\n",
       "      <td>7</td>\n",
       "      <td>48.51</td>\n",
       "      <td>1</td>\n",
       "      <td>2025-05-27 18:54:37</td>\n",
       "    </tr>\n",
       "    <tr>\n",
       "      <th>1112425</th>\n",
       "      <td>34_PITMERDEN_5678</td>\n",
       "      <td>34</td>\n",
       "      <td>5678</td>\n",
       "      <td>Skinnygirl Pina Colada</td>\n",
       "      <td></td>\n",
       "      <td>12546</td>\n",
       "      <td>JIM BEAM BRANDS COMPANY</td>\n",
       "      <td>10938</td>\n",
       "      <td>2016-06-27</td>\n",
       "      <td>2016-07-09</td>\n",
       "      <td>2016-07-13</td>\n",
       "      <td>2016-08-16</td>\n",
       "      <td>6.93</td>\n",
       "      <td>6</td>\n",
       "      <td>41.58</td>\n",
       "      <td>1</td>\n",
       "      <td>2025-05-27 18:54:37</td>\n",
       "    </tr>\n",
       "    <tr>\n",
       "      <th>1116301</th>\n",
       "      <td>39_EASTHALLOW_15365</td>\n",
       "      <td>39</td>\n",
       "      <td>15365</td>\n",
       "      <td>Alabaster 07 Tinta de Toro</td>\n",
       "      <td></td>\n",
       "      <td>9552</td>\n",
       "      <td>M S WALKER INC</td>\n",
       "      <td>10972</td>\n",
       "      <td>2016-06-29</td>\n",
       "      <td>2016-07-07</td>\n",
       "      <td>2016-07-13</td>\n",
       "      <td>2016-08-21</td>\n",
       "      <td>91.83</td>\n",
       "      <td>1</td>\n",
       "      <td>91.83</td>\n",
       "      <td>2</td>\n",
       "      <td>2025-05-27 18:54:37</td>\n",
       "    </tr>\n",
       "  </tbody>\n",
       "</table>\n",
       "</div>"
      ],
      "text/plain": [
       "                 InventoryId  Store  Brand                 Description Size  \\\n",
       "1109667    34_PITMERDEN_3121     34   3121    Pinnacle Rainbow Sherbet        \n",
       "1112425    34_PITMERDEN_5678     34   5678      Skinnygirl Pina Colada        \n",
       "1116301  39_EASTHALLOW_15365     39  15365  Alabaster 07 Tinta de Toro        \n",
       "\n",
       "         VendorNumber                   VendorName  PONumber     PODate  \\\n",
       "1109667         12546  JIM BEAM BRANDS COMPANY         10938 2016-06-27   \n",
       "1112425         12546  JIM BEAM BRANDS COMPANY         10938 2016-06-27   \n",
       "1116301          9552  M S WALKER INC                  10972 2016-06-29   \n",
       "\n",
       "        ReceivingDate InvoiceDate    PayDate  PurchasePrice  Quantity  \\\n",
       "1109667    2016-07-04  2016-07-13 2016-08-16           6.93         7   \n",
       "1112425    2016-07-09  2016-07-13 2016-08-16           6.93         6   \n",
       "1116301    2016-07-07  2016-07-13 2016-08-21          91.83         1   \n",
       "\n",
       "         Dollars  Classification fecha_actualizacion  \n",
       "1109667    48.51               1 2025-05-27 18:54:37  \n",
       "1112425    41.58               1 2025-05-27 18:54:37  \n",
       "1116301    91.83               2 2025-05-27 18:54:37  "
      ]
     },
     "execution_count": 109,
     "metadata": {},
     "output_type": "execute_result"
    }
   ],
   "source": [
    "df2[(df2['Size'].isnull()) | (df2['Size'] == \"\")]"
   ]
  },
  {
   "cell_type": "code",
   "execution_count": 113,
   "id": "d58e7c8d",
   "metadata": {},
   "outputs": [
    {
     "data": {
      "application/vnd.microsoft.datawrangler.viewer.v0+json": {
       "columns": [
        {
         "name": "index",
         "rawType": "int64",
         "type": "integer"
        },
        {
         "name": "InventoryId",
         "rawType": "object",
         "type": "string"
        },
        {
         "name": "Store",
         "rawType": "int64",
         "type": "integer"
        },
        {
         "name": "Brand",
         "rawType": "int64",
         "type": "integer"
        },
        {
         "name": "Description",
         "rawType": "object",
         "type": "string"
        },
        {
         "name": "Size",
         "rawType": "object",
         "type": "string"
        },
        {
         "name": "VendorNumber",
         "rawType": "int64",
         "type": "integer"
        },
        {
         "name": "VendorName",
         "rawType": "object",
         "type": "string"
        },
        {
         "name": "PONumber",
         "rawType": "int64",
         "type": "integer"
        },
        {
         "name": "PODate",
         "rawType": "datetime64[ns]",
         "type": "datetime"
        },
        {
         "name": "ReceivingDate",
         "rawType": "datetime64[ns]",
         "type": "datetime"
        },
        {
         "name": "InvoiceDate",
         "rawType": "datetime64[ns]",
         "type": "datetime"
        },
        {
         "name": "PayDate",
         "rawType": "datetime64[ns]",
         "type": "datetime"
        },
        {
         "name": "PurchasePrice",
         "rawType": "float64",
         "type": "float"
        },
        {
         "name": "Quantity",
         "rawType": "int64",
         "type": "integer"
        },
        {
         "name": "Dollars",
         "rawType": "float64",
         "type": "float"
        },
        {
         "name": "Classification",
         "rawType": "int64",
         "type": "integer"
        },
        {
         "name": "fecha_actualizacion",
         "rawType": "datetime64[ns]",
         "type": "datetime"
        }
       ],
       "ref": "2e522600-0899-435b-af1b-654343c8a48e",
       "rows": [
        [
         "26471",
         "38_GOULCREST_5678",
         "38",
         "5678",
         "Skinnygirl Pina Colada",
         "750mL",
         "12546",
         "JIM BEAM BRANDS COMPANY    ",
         "8241",
         "2015-12-29 00:00:00",
         "2016-01-06 00:00:00",
         "2016-01-16 00:00:00",
         "2016-02-15 00:00:00",
         "6.93",
         "29",
         "200.97",
         "1",
         "2025-05-27 18:54:37"
        ],
        [
         "176513",
         "49_GARIGILL_5678",
         "49",
         "5678",
         "Skinnygirl Pina Colada",
         "750mL",
         "12546",
         "JIM BEAM BRANDS COMPANY    ",
         "8659",
         "2016-01-27 00:00:00",
         "2016-02-04 00:00:00",
         "2016-02-14 00:00:00",
         "2016-03-19 00:00:00",
         "6.93",
         "1",
         "6.93",
         "1",
         "2025-05-27 18:54:37"
        ],
        [
         "214730",
         "76_DONCASTER_5678",
         "76",
         "5678",
         "Skinnygirl Pina Colada",
         "750mL",
         "12546",
         "JIM BEAM BRANDS COMPANY    ",
         "8800",
         "2016-02-05 00:00:00",
         "2016-02-12 00:00:00",
         "2016-02-19 00:00:00",
         "2016-04-01 00:00:00",
         "6.93",
         "17",
         "117.81",
         "1",
         "2025-05-27 18:54:37"
        ],
        [
         "366400",
         "66_EANVERNESS_5678",
         "66",
         "5678",
         "Skinnygirl Pina Colada",
         "750mL",
         "12546",
         "JIM BEAM BRANDS COMPANY    ",
         "9118",
         "2016-02-28 00:00:00",
         "2016-03-11 00:00:00",
         "2016-03-19 00:00:00",
         "2016-04-21 00:00:00",
         "6.93",
         "2",
         "13.86",
         "1",
         "2025-05-27 18:54:37"
        ],
        [
         "366881",
         "34_PITMERDEN_5678",
         "34",
         "5678",
         "Skinnygirl Pina Colada",
         "750mL",
         "12546",
         "JIM BEAM BRANDS COMPANY    ",
         "9118",
         "2016-02-28 00:00:00",
         "2016-03-10 00:00:00",
         "2016-03-19 00:00:00",
         "2016-04-21 00:00:00",
         "6.93",
         "45",
         "311.85",
         "1",
         "2025-05-27 18:54:37"
        ],
        [
         "367930",
         "67_EANVERNESS_5678",
         "67",
         "5678",
         "Skinnygirl Pina Colada",
         "750mL",
         "12546",
         "JIM BEAM BRANDS COMPANY    ",
         "9118",
         "2016-02-28 00:00:00",
         "2016-03-08 00:00:00",
         "2016-03-19 00:00:00",
         "2016-04-21 00:00:00",
         "6.93",
         "17",
         "117.81",
         "1",
         "2025-05-27 18:54:37"
        ],
        [
         "631594",
         "66_EANVERNESS_5678",
         "66",
         "5678",
         "Skinnygirl Pina Colada",
         "750mL",
         "12546",
         "JIM BEAM BRANDS COMPANY    ",
         "9907",
         "2016-04-22 00:00:00",
         "2016-04-27 00:00:00",
         "2016-05-04 00:00:00",
         "2016-06-17 00:00:00",
         "6.93",
         "10",
         "69.3",
         "1",
         "2025-05-27 18:54:37"
        ],
        [
         "760081",
         "34_PITMERDEN_5678",
         "34",
         "5678",
         "Skinnygirl Pina Colada",
         "750mL",
         "12546",
         "JIM BEAM BRANDS COMPANY    ",
         "10132",
         "2016-05-09 00:00:00",
         "2016-05-19 00:00:00",
         "2016-05-23 00:00:00",
         "2016-07-09 00:00:00",
         "6.93",
         "2",
         "13.86",
         "1",
         "2025-05-27 18:54:37"
        ],
        [
         "761873",
         "69_MOUNTMEND_5678",
         "69",
         "5678",
         "Skinnygirl Pina Colada",
         "750mL",
         "12546",
         "JIM BEAM BRANDS COMPANY    ",
         "10132",
         "2016-05-09 00:00:00",
         "2016-05-20 00:00:00",
         "2016-05-23 00:00:00",
         "2016-07-09 00:00:00",
         "6.93",
         "1",
         "6.93",
         "1",
         "2025-05-27 18:54:37"
        ],
        [
         "1112425",
         "34_PITMERDEN_5678",
         "34",
         "5678",
         "Skinnygirl Pina Colada",
         "",
         "12546",
         "JIM BEAM BRANDS COMPANY    ",
         "10938",
         "2016-06-27 00:00:00",
         "2016-07-09 00:00:00",
         "2016-07-13 00:00:00",
         "2016-08-16 00:00:00",
         "6.93",
         "6",
         "41.58",
         "1",
         "2025-05-27 18:54:37"
        ]
       ],
       "shape": {
        "columns": 17,
        "rows": 10
       }
      },
      "text/html": [
       "<div>\n",
       "<style scoped>\n",
       "    .dataframe tbody tr th:only-of-type {\n",
       "        vertical-align: middle;\n",
       "    }\n",
       "\n",
       "    .dataframe tbody tr th {\n",
       "        vertical-align: top;\n",
       "    }\n",
       "\n",
       "    .dataframe thead th {\n",
       "        text-align: right;\n",
       "    }\n",
       "</style>\n",
       "<table border=\"1\" class=\"dataframe\">\n",
       "  <thead>\n",
       "    <tr style=\"text-align: right;\">\n",
       "      <th></th>\n",
       "      <th>InventoryId</th>\n",
       "      <th>Store</th>\n",
       "      <th>Brand</th>\n",
       "      <th>Description</th>\n",
       "      <th>Size</th>\n",
       "      <th>VendorNumber</th>\n",
       "      <th>VendorName</th>\n",
       "      <th>PONumber</th>\n",
       "      <th>PODate</th>\n",
       "      <th>ReceivingDate</th>\n",
       "      <th>InvoiceDate</th>\n",
       "      <th>PayDate</th>\n",
       "      <th>PurchasePrice</th>\n",
       "      <th>Quantity</th>\n",
       "      <th>Dollars</th>\n",
       "      <th>Classification</th>\n",
       "      <th>fecha_actualizacion</th>\n",
       "    </tr>\n",
       "  </thead>\n",
       "  <tbody>\n",
       "    <tr>\n",
       "      <th>26471</th>\n",
       "      <td>38_GOULCREST_5678</td>\n",
       "      <td>38</td>\n",
       "      <td>5678</td>\n",
       "      <td>Skinnygirl Pina Colada</td>\n",
       "      <td>750mL</td>\n",
       "      <td>12546</td>\n",
       "      <td>JIM BEAM BRANDS COMPANY</td>\n",
       "      <td>8241</td>\n",
       "      <td>2015-12-29</td>\n",
       "      <td>2016-01-06</td>\n",
       "      <td>2016-01-16</td>\n",
       "      <td>2016-02-15</td>\n",
       "      <td>6.93</td>\n",
       "      <td>29</td>\n",
       "      <td>200.97</td>\n",
       "      <td>1</td>\n",
       "      <td>2025-05-27 18:54:37</td>\n",
       "    </tr>\n",
       "    <tr>\n",
       "      <th>176513</th>\n",
       "      <td>49_GARIGILL_5678</td>\n",
       "      <td>49</td>\n",
       "      <td>5678</td>\n",
       "      <td>Skinnygirl Pina Colada</td>\n",
       "      <td>750mL</td>\n",
       "      <td>12546</td>\n",
       "      <td>JIM BEAM BRANDS COMPANY</td>\n",
       "      <td>8659</td>\n",
       "      <td>2016-01-27</td>\n",
       "      <td>2016-02-04</td>\n",
       "      <td>2016-02-14</td>\n",
       "      <td>2016-03-19</td>\n",
       "      <td>6.93</td>\n",
       "      <td>1</td>\n",
       "      <td>6.93</td>\n",
       "      <td>1</td>\n",
       "      <td>2025-05-27 18:54:37</td>\n",
       "    </tr>\n",
       "    <tr>\n",
       "      <th>214730</th>\n",
       "      <td>76_DONCASTER_5678</td>\n",
       "      <td>76</td>\n",
       "      <td>5678</td>\n",
       "      <td>Skinnygirl Pina Colada</td>\n",
       "      <td>750mL</td>\n",
       "      <td>12546</td>\n",
       "      <td>JIM BEAM BRANDS COMPANY</td>\n",
       "      <td>8800</td>\n",
       "      <td>2016-02-05</td>\n",
       "      <td>2016-02-12</td>\n",
       "      <td>2016-02-19</td>\n",
       "      <td>2016-04-01</td>\n",
       "      <td>6.93</td>\n",
       "      <td>17</td>\n",
       "      <td>117.81</td>\n",
       "      <td>1</td>\n",
       "      <td>2025-05-27 18:54:37</td>\n",
       "    </tr>\n",
       "    <tr>\n",
       "      <th>366400</th>\n",
       "      <td>66_EANVERNESS_5678</td>\n",
       "      <td>66</td>\n",
       "      <td>5678</td>\n",
       "      <td>Skinnygirl Pina Colada</td>\n",
       "      <td>750mL</td>\n",
       "      <td>12546</td>\n",
       "      <td>JIM BEAM BRANDS COMPANY</td>\n",
       "      <td>9118</td>\n",
       "      <td>2016-02-28</td>\n",
       "      <td>2016-03-11</td>\n",
       "      <td>2016-03-19</td>\n",
       "      <td>2016-04-21</td>\n",
       "      <td>6.93</td>\n",
       "      <td>2</td>\n",
       "      <td>13.86</td>\n",
       "      <td>1</td>\n",
       "      <td>2025-05-27 18:54:37</td>\n",
       "    </tr>\n",
       "    <tr>\n",
       "      <th>366881</th>\n",
       "      <td>34_PITMERDEN_5678</td>\n",
       "      <td>34</td>\n",
       "      <td>5678</td>\n",
       "      <td>Skinnygirl Pina Colada</td>\n",
       "      <td>750mL</td>\n",
       "      <td>12546</td>\n",
       "      <td>JIM BEAM BRANDS COMPANY</td>\n",
       "      <td>9118</td>\n",
       "      <td>2016-02-28</td>\n",
       "      <td>2016-03-10</td>\n",
       "      <td>2016-03-19</td>\n",
       "      <td>2016-04-21</td>\n",
       "      <td>6.93</td>\n",
       "      <td>45</td>\n",
       "      <td>311.85</td>\n",
       "      <td>1</td>\n",
       "      <td>2025-05-27 18:54:37</td>\n",
       "    </tr>\n",
       "    <tr>\n",
       "      <th>367930</th>\n",
       "      <td>67_EANVERNESS_5678</td>\n",
       "      <td>67</td>\n",
       "      <td>5678</td>\n",
       "      <td>Skinnygirl Pina Colada</td>\n",
       "      <td>750mL</td>\n",
       "      <td>12546</td>\n",
       "      <td>JIM BEAM BRANDS COMPANY</td>\n",
       "      <td>9118</td>\n",
       "      <td>2016-02-28</td>\n",
       "      <td>2016-03-08</td>\n",
       "      <td>2016-03-19</td>\n",
       "      <td>2016-04-21</td>\n",
       "      <td>6.93</td>\n",
       "      <td>17</td>\n",
       "      <td>117.81</td>\n",
       "      <td>1</td>\n",
       "      <td>2025-05-27 18:54:37</td>\n",
       "    </tr>\n",
       "    <tr>\n",
       "      <th>631594</th>\n",
       "      <td>66_EANVERNESS_5678</td>\n",
       "      <td>66</td>\n",
       "      <td>5678</td>\n",
       "      <td>Skinnygirl Pina Colada</td>\n",
       "      <td>750mL</td>\n",
       "      <td>12546</td>\n",
       "      <td>JIM BEAM BRANDS COMPANY</td>\n",
       "      <td>9907</td>\n",
       "      <td>2016-04-22</td>\n",
       "      <td>2016-04-27</td>\n",
       "      <td>2016-05-04</td>\n",
       "      <td>2016-06-17</td>\n",
       "      <td>6.93</td>\n",
       "      <td>10</td>\n",
       "      <td>69.30</td>\n",
       "      <td>1</td>\n",
       "      <td>2025-05-27 18:54:37</td>\n",
       "    </tr>\n",
       "    <tr>\n",
       "      <th>760081</th>\n",
       "      <td>34_PITMERDEN_5678</td>\n",
       "      <td>34</td>\n",
       "      <td>5678</td>\n",
       "      <td>Skinnygirl Pina Colada</td>\n",
       "      <td>750mL</td>\n",
       "      <td>12546</td>\n",
       "      <td>JIM BEAM BRANDS COMPANY</td>\n",
       "      <td>10132</td>\n",
       "      <td>2016-05-09</td>\n",
       "      <td>2016-05-19</td>\n",
       "      <td>2016-05-23</td>\n",
       "      <td>2016-07-09</td>\n",
       "      <td>6.93</td>\n",
       "      <td>2</td>\n",
       "      <td>13.86</td>\n",
       "      <td>1</td>\n",
       "      <td>2025-05-27 18:54:37</td>\n",
       "    </tr>\n",
       "    <tr>\n",
       "      <th>761873</th>\n",
       "      <td>69_MOUNTMEND_5678</td>\n",
       "      <td>69</td>\n",
       "      <td>5678</td>\n",
       "      <td>Skinnygirl Pina Colada</td>\n",
       "      <td>750mL</td>\n",
       "      <td>12546</td>\n",
       "      <td>JIM BEAM BRANDS COMPANY</td>\n",
       "      <td>10132</td>\n",
       "      <td>2016-05-09</td>\n",
       "      <td>2016-05-20</td>\n",
       "      <td>2016-05-23</td>\n",
       "      <td>2016-07-09</td>\n",
       "      <td>6.93</td>\n",
       "      <td>1</td>\n",
       "      <td>6.93</td>\n",
       "      <td>1</td>\n",
       "      <td>2025-05-27 18:54:37</td>\n",
       "    </tr>\n",
       "    <tr>\n",
       "      <th>1112425</th>\n",
       "      <td>34_PITMERDEN_5678</td>\n",
       "      <td>34</td>\n",
       "      <td>5678</td>\n",
       "      <td>Skinnygirl Pina Colada</td>\n",
       "      <td></td>\n",
       "      <td>12546</td>\n",
       "      <td>JIM BEAM BRANDS COMPANY</td>\n",
       "      <td>10938</td>\n",
       "      <td>2016-06-27</td>\n",
       "      <td>2016-07-09</td>\n",
       "      <td>2016-07-13</td>\n",
       "      <td>2016-08-16</td>\n",
       "      <td>6.93</td>\n",
       "      <td>6</td>\n",
       "      <td>41.58</td>\n",
       "      <td>1</td>\n",
       "      <td>2025-05-27 18:54:37</td>\n",
       "    </tr>\n",
       "  </tbody>\n",
       "</table>\n",
       "</div>"
      ],
      "text/plain": [
       "                InventoryId  Store  Brand             Description   Size  \\\n",
       "26471     38_GOULCREST_5678     38   5678  Skinnygirl Pina Colada  750mL   \n",
       "176513     49_GARIGILL_5678     49   5678  Skinnygirl Pina Colada  750mL   \n",
       "214730    76_DONCASTER_5678     76   5678  Skinnygirl Pina Colada  750mL   \n",
       "366400   66_EANVERNESS_5678     66   5678  Skinnygirl Pina Colada  750mL   \n",
       "366881    34_PITMERDEN_5678     34   5678  Skinnygirl Pina Colada  750mL   \n",
       "367930   67_EANVERNESS_5678     67   5678  Skinnygirl Pina Colada  750mL   \n",
       "631594   66_EANVERNESS_5678     66   5678  Skinnygirl Pina Colada  750mL   \n",
       "760081    34_PITMERDEN_5678     34   5678  Skinnygirl Pina Colada  750mL   \n",
       "761873    69_MOUNTMEND_5678     69   5678  Skinnygirl Pina Colada  750mL   \n",
       "1112425   34_PITMERDEN_5678     34   5678  Skinnygirl Pina Colada          \n",
       "\n",
       "         VendorNumber                   VendorName  PONumber     PODate  \\\n",
       "26471           12546  JIM BEAM BRANDS COMPANY          8241 2015-12-29   \n",
       "176513          12546  JIM BEAM BRANDS COMPANY          8659 2016-01-27   \n",
       "214730          12546  JIM BEAM BRANDS COMPANY          8800 2016-02-05   \n",
       "366400          12546  JIM BEAM BRANDS COMPANY          9118 2016-02-28   \n",
       "366881          12546  JIM BEAM BRANDS COMPANY          9118 2016-02-28   \n",
       "367930          12546  JIM BEAM BRANDS COMPANY          9118 2016-02-28   \n",
       "631594          12546  JIM BEAM BRANDS COMPANY          9907 2016-04-22   \n",
       "760081          12546  JIM BEAM BRANDS COMPANY         10132 2016-05-09   \n",
       "761873          12546  JIM BEAM BRANDS COMPANY         10132 2016-05-09   \n",
       "1112425         12546  JIM BEAM BRANDS COMPANY         10938 2016-06-27   \n",
       "\n",
       "        ReceivingDate InvoiceDate    PayDate  PurchasePrice  Quantity  \\\n",
       "26471      2016-01-06  2016-01-16 2016-02-15           6.93        29   \n",
       "176513     2016-02-04  2016-02-14 2016-03-19           6.93         1   \n",
       "214730     2016-02-12  2016-02-19 2016-04-01           6.93        17   \n",
       "366400     2016-03-11  2016-03-19 2016-04-21           6.93         2   \n",
       "366881     2016-03-10  2016-03-19 2016-04-21           6.93        45   \n",
       "367930     2016-03-08  2016-03-19 2016-04-21           6.93        17   \n",
       "631594     2016-04-27  2016-05-04 2016-06-17           6.93        10   \n",
       "760081     2016-05-19  2016-05-23 2016-07-09           6.93         2   \n",
       "761873     2016-05-20  2016-05-23 2016-07-09           6.93         1   \n",
       "1112425    2016-07-09  2016-07-13 2016-08-16           6.93         6   \n",
       "\n",
       "         Dollars  Classification fecha_actualizacion  \n",
       "26471     200.97               1 2025-05-27 18:54:37  \n",
       "176513      6.93               1 2025-05-27 18:54:37  \n",
       "214730    117.81               1 2025-05-27 18:54:37  \n",
       "366400     13.86               1 2025-05-27 18:54:37  \n",
       "366881    311.85               1 2025-05-27 18:54:37  \n",
       "367930    117.81               1 2025-05-27 18:54:37  \n",
       "631594     69.30               1 2025-05-27 18:54:37  \n",
       "760081     13.86               1 2025-05-27 18:54:37  \n",
       "761873      6.93               1 2025-05-27 18:54:37  \n",
       "1112425    41.58               1 2025-05-27 18:54:37  "
      ]
     },
     "execution_count": 113,
     "metadata": {},
     "output_type": "execute_result"
    }
   ],
   "source": [
    "df2[\n",
    "    (df2['Description'].str.contains('Skinnygirl Pina Colada', case=False, na=False)) &\n",
    "    (df2['Size'].isnull()==False)\n",
    "]"
   ]
  },
  {
   "cell_type": "markdown",
   "id": "afa70230",
   "metadata": {},
   "source": [
    "Vemos que hay datos para reemplazar los faltantes, entonces hago un reemplazo de estas."
   ]
  },
  {
   "cell_type": "code",
   "execution_count": 114,
   "id": "92430bad",
   "metadata": {},
   "outputs": [],
   "source": [
    "df2['Size'] = df2['Size'].replace('', np.nan)\n",
    "\n",
    "#Rellenamos NaN con el valor más frecuente (moda) por cada Description\n",
    "df2['Size'] = df2['Size'].fillna(\n",
    "    df2.groupby('Description')['Size'].transform(lambda x: x.mode().iloc[0] if not x.mode().empty else np.nan)\n",
    ")"
   ]
  },
  {
   "cell_type": "code",
   "execution_count": 115,
   "id": "12932ba8",
   "metadata": {},
   "outputs": [
    {
     "data": {
      "application/vnd.microsoft.datawrangler.viewer.v0+json": {
       "columns": [
        {
         "name": "index",
         "rawType": "int64",
         "type": "integer"
        },
        {
         "name": "InventoryId",
         "rawType": "object",
         "type": "string"
        },
        {
         "name": "Store",
         "rawType": "int64",
         "type": "integer"
        },
        {
         "name": "Brand",
         "rawType": "int64",
         "type": "integer"
        },
        {
         "name": "Description",
         "rawType": "object",
         "type": "string"
        },
        {
         "name": "Size",
         "rawType": "object",
         "type": "unknown"
        },
        {
         "name": "VendorNumber",
         "rawType": "int64",
         "type": "integer"
        },
        {
         "name": "VendorName",
         "rawType": "object",
         "type": "string"
        },
        {
         "name": "PONumber",
         "rawType": "int64",
         "type": "integer"
        },
        {
         "name": "PODate",
         "rawType": "datetime64[ns]",
         "type": "datetime"
        },
        {
         "name": "ReceivingDate",
         "rawType": "datetime64[ns]",
         "type": "datetime"
        },
        {
         "name": "InvoiceDate",
         "rawType": "datetime64[ns]",
         "type": "datetime"
        },
        {
         "name": "PayDate",
         "rawType": "datetime64[ns]",
         "type": "datetime"
        },
        {
         "name": "PurchasePrice",
         "rawType": "float64",
         "type": "float"
        },
        {
         "name": "Quantity",
         "rawType": "int64",
         "type": "integer"
        },
        {
         "name": "Dollars",
         "rawType": "float64",
         "type": "float"
        },
        {
         "name": "Classification",
         "rawType": "int64",
         "type": "integer"
        },
        {
         "name": "fecha_actualizacion",
         "rawType": "datetime64[ns]",
         "type": "datetime"
        }
       ],
       "ref": "5f635db9-92c2-48a8-9d28-747694989bf0",
       "rows": [
        [
         "1116301",
         "39_EASTHALLOW_15365",
         "39",
         "15365",
         "Alabaster 07 Tinta de Toro",
         null,
         "9552",
         "M S WALKER INC             ",
         "10972",
         "2016-06-29 00:00:00",
         "2016-07-07 00:00:00",
         "2016-07-13 00:00:00",
         "2016-08-21 00:00:00",
         "91.83",
         "1",
         "91.83",
         "2",
         "2025-05-27 18:54:37"
        ]
       ],
       "shape": {
        "columns": 17,
        "rows": 1
       }
      },
      "text/html": [
       "<div>\n",
       "<style scoped>\n",
       "    .dataframe tbody tr th:only-of-type {\n",
       "        vertical-align: middle;\n",
       "    }\n",
       "\n",
       "    .dataframe tbody tr th {\n",
       "        vertical-align: top;\n",
       "    }\n",
       "\n",
       "    .dataframe thead th {\n",
       "        text-align: right;\n",
       "    }\n",
       "</style>\n",
       "<table border=\"1\" class=\"dataframe\">\n",
       "  <thead>\n",
       "    <tr style=\"text-align: right;\">\n",
       "      <th></th>\n",
       "      <th>InventoryId</th>\n",
       "      <th>Store</th>\n",
       "      <th>Brand</th>\n",
       "      <th>Description</th>\n",
       "      <th>Size</th>\n",
       "      <th>VendorNumber</th>\n",
       "      <th>VendorName</th>\n",
       "      <th>PONumber</th>\n",
       "      <th>PODate</th>\n",
       "      <th>ReceivingDate</th>\n",
       "      <th>InvoiceDate</th>\n",
       "      <th>PayDate</th>\n",
       "      <th>PurchasePrice</th>\n",
       "      <th>Quantity</th>\n",
       "      <th>Dollars</th>\n",
       "      <th>Classification</th>\n",
       "      <th>fecha_actualizacion</th>\n",
       "    </tr>\n",
       "  </thead>\n",
       "  <tbody>\n",
       "    <tr>\n",
       "      <th>1116301</th>\n",
       "      <td>39_EASTHALLOW_15365</td>\n",
       "      <td>39</td>\n",
       "      <td>15365</td>\n",
       "      <td>Alabaster 07 Tinta de Toro</td>\n",
       "      <td>NaN</td>\n",
       "      <td>9552</td>\n",
       "      <td>M S WALKER INC</td>\n",
       "      <td>10972</td>\n",
       "      <td>2016-06-29</td>\n",
       "      <td>2016-07-07</td>\n",
       "      <td>2016-07-13</td>\n",
       "      <td>2016-08-21</td>\n",
       "      <td>91.83</td>\n",
       "      <td>1</td>\n",
       "      <td>91.83</td>\n",
       "      <td>2</td>\n",
       "      <td>2025-05-27 18:54:37</td>\n",
       "    </tr>\n",
       "  </tbody>\n",
       "</table>\n",
       "</div>"
      ],
      "text/plain": [
       "                 InventoryId  Store  Brand                 Description Size  \\\n",
       "1116301  39_EASTHALLOW_15365     39  15365  Alabaster 07 Tinta de Toro  NaN   \n",
       "\n",
       "         VendorNumber                   VendorName  PONumber     PODate  \\\n",
       "1116301          9552  M S WALKER INC                  10972 2016-06-29   \n",
       "\n",
       "        ReceivingDate InvoiceDate    PayDate  PurchasePrice  Quantity  \\\n",
       "1116301    2016-07-07  2016-07-13 2016-08-21          91.83         1   \n",
       "\n",
       "         Dollars  Classification fecha_actualizacion  \n",
       "1116301    91.83               2 2025-05-27 18:54:37  "
      ]
     },
     "execution_count": 115,
     "metadata": {},
     "output_type": "execute_result"
    }
   ],
   "source": [
    "df2[(df2['Size'].isnull()) | (df2['Size'] == \"\")]"
   ]
  },
  {
   "cell_type": "code",
   "execution_count": 117,
   "id": "3d49191c",
   "metadata": {},
   "outputs": [
    {
     "data": {
      "application/vnd.microsoft.datawrangler.viewer.v0+json": {
       "columns": [
        {
         "name": "index",
         "rawType": "int64",
         "type": "integer"
        },
        {
         "name": "Brand",
         "rawType": "int64",
         "type": "integer"
        },
        {
         "name": "Description",
         "rawType": "object",
         "type": "string"
        },
        {
         "name": "Price",
         "rawType": "float64",
         "type": "float"
        },
        {
         "name": "Size",
         "rawType": "object",
         "type": "string"
        },
        {
         "name": "Volume",
         "rawType": "int64",
         "type": "integer"
        },
        {
         "name": "Classification",
         "rawType": "int64",
         "type": "integer"
        },
        {
         "name": "PurchasePrice",
         "rawType": "float64",
         "type": "float"
        },
        {
         "name": "VendorNumber",
         "rawType": "int64",
         "type": "integer"
        },
        {
         "name": "VendorName",
         "rawType": "object",
         "type": "string"
        },
        {
         "name": "fecha_actualizacion",
         "rawType": "datetime64[ns]",
         "type": "datetime"
        }
       ],
       "ref": "06b53782-eca9-468b-912c-34153da09b0e",
       "rows": [
        [
         "2534",
         "15365",
         "Alabaster 07 Tinta de Toro",
         "142.99",
         "750mL",
         "750",
         "2",
         "91.83",
         "9552",
         "M S WALKER INC             ",
         "2025-05-27 18:54:32"
        ]
       ],
       "shape": {
        "columns": 10,
        "rows": 1
       }
      },
      "text/html": [
       "<div>\n",
       "<style scoped>\n",
       "    .dataframe tbody tr th:only-of-type {\n",
       "        vertical-align: middle;\n",
       "    }\n",
       "\n",
       "    .dataframe tbody tr th {\n",
       "        vertical-align: top;\n",
       "    }\n",
       "\n",
       "    .dataframe thead th {\n",
       "        text-align: right;\n",
       "    }\n",
       "</style>\n",
       "<table border=\"1\" class=\"dataframe\">\n",
       "  <thead>\n",
       "    <tr style=\"text-align: right;\">\n",
       "      <th></th>\n",
       "      <th>Brand</th>\n",
       "      <th>Description</th>\n",
       "      <th>Price</th>\n",
       "      <th>Size</th>\n",
       "      <th>Volume</th>\n",
       "      <th>Classification</th>\n",
       "      <th>PurchasePrice</th>\n",
       "      <th>VendorNumber</th>\n",
       "      <th>VendorName</th>\n",
       "      <th>fecha_actualizacion</th>\n",
       "    </tr>\n",
       "  </thead>\n",
       "  <tbody>\n",
       "    <tr>\n",
       "      <th>2534</th>\n",
       "      <td>15365</td>\n",
       "      <td>Alabaster 07 Tinta de Toro</td>\n",
       "      <td>142.99</td>\n",
       "      <td>750mL</td>\n",
       "      <td>750</td>\n",
       "      <td>2</td>\n",
       "      <td>91.83</td>\n",
       "      <td>9552</td>\n",
       "      <td>M S WALKER INC</td>\n",
       "      <td>2025-05-27 18:54:32</td>\n",
       "    </tr>\n",
       "  </tbody>\n",
       "</table>\n",
       "</div>"
      ],
      "text/plain": [
       "      Brand                 Description   Price   Size  Volume  \\\n",
       "2534  15365  Alabaster 07 Tinta de Toro  142.99  750mL     750   \n",
       "\n",
       "      Classification  PurchasePrice  VendorNumber  \\\n",
       "2534               2          91.83          9552   \n",
       "\n",
       "                       VendorName fecha_actualizacion  \n",
       "2534  M S WALKER INC              2025-05-27 18:54:32  "
      ]
     },
     "execution_count": 117,
     "metadata": {},
     "output_type": "execute_result"
    }
   ],
   "source": [
    "df1[\n",
    "    (df1['Description'].str.contains('Alabaster 07', case=False, na=False)) &\n",
    "    (df1['Size'].isnull()==False)\n",
    "]"
   ]
  },
  {
   "cell_type": "markdown",
   "id": "e8bf94a5",
   "metadata": {},
   "source": [
    "Vemos que en otra df tenemos el dato faltante, entonces reemplazamos."
   ]
  },
  {
   "cell_type": "code",
   "execution_count": 124,
   "id": "1a899953",
   "metadata": {},
   "outputs": [],
   "source": [
    "df2.loc[(df2['Size'].isnull()) | (df2['Size'] == \"\"), 'Size'] = '750mL'"
   ]
  },
  {
   "cell_type": "code",
   "execution_count": 125,
   "id": "373085f9",
   "metadata": {},
   "outputs": [
    {
     "data": {
      "application/vnd.microsoft.datawrangler.viewer.v0+json": {
       "columns": [
        {
         "name": "index",
         "rawType": "int64",
         "type": "integer"
        },
        {
         "name": "InventoryId",
         "rawType": "object",
         "type": "string"
        },
        {
         "name": "Store",
         "rawType": "int64",
         "type": "integer"
        },
        {
         "name": "Brand",
         "rawType": "int64",
         "type": "integer"
        },
        {
         "name": "Description",
         "rawType": "object",
         "type": "string"
        },
        {
         "name": "Size",
         "rawType": "object",
         "type": "string"
        },
        {
         "name": "VendorNumber",
         "rawType": "int64",
         "type": "integer"
        },
        {
         "name": "VendorName",
         "rawType": "object",
         "type": "string"
        },
        {
         "name": "PONumber",
         "rawType": "int64",
         "type": "integer"
        },
        {
         "name": "PODate",
         "rawType": "datetime64[ns]",
         "type": "datetime"
        },
        {
         "name": "ReceivingDate",
         "rawType": "datetime64[ns]",
         "type": "datetime"
        },
        {
         "name": "InvoiceDate",
         "rawType": "datetime64[ns]",
         "type": "datetime"
        },
        {
         "name": "PayDate",
         "rawType": "datetime64[ns]",
         "type": "datetime"
        },
        {
         "name": "PurchasePrice",
         "rawType": "float64",
         "type": "float"
        },
        {
         "name": "Quantity",
         "rawType": "int64",
         "type": "integer"
        },
        {
         "name": "Dollars",
         "rawType": "float64",
         "type": "float"
        },
        {
         "name": "Classification",
         "rawType": "int64",
         "type": "integer"
        },
        {
         "name": "fecha_actualizacion",
         "rawType": "datetime64[ns]",
         "type": "datetime"
        }
       ],
       "ref": "d1a72ac1-18c7-4bf2-8e00-773693c2e91d",
       "rows": [],
       "shape": {
        "columns": 17,
        "rows": 0
       }
      },
      "text/html": [
       "<div>\n",
       "<style scoped>\n",
       "    .dataframe tbody tr th:only-of-type {\n",
       "        vertical-align: middle;\n",
       "    }\n",
       "\n",
       "    .dataframe tbody tr th {\n",
       "        vertical-align: top;\n",
       "    }\n",
       "\n",
       "    .dataframe thead th {\n",
       "        text-align: right;\n",
       "    }\n",
       "</style>\n",
       "<table border=\"1\" class=\"dataframe\">\n",
       "  <thead>\n",
       "    <tr style=\"text-align: right;\">\n",
       "      <th></th>\n",
       "      <th>InventoryId</th>\n",
       "      <th>Store</th>\n",
       "      <th>Brand</th>\n",
       "      <th>Description</th>\n",
       "      <th>Size</th>\n",
       "      <th>VendorNumber</th>\n",
       "      <th>VendorName</th>\n",
       "      <th>PONumber</th>\n",
       "      <th>PODate</th>\n",
       "      <th>ReceivingDate</th>\n",
       "      <th>InvoiceDate</th>\n",
       "      <th>PayDate</th>\n",
       "      <th>PurchasePrice</th>\n",
       "      <th>Quantity</th>\n",
       "      <th>Dollars</th>\n",
       "      <th>Classification</th>\n",
       "      <th>fecha_actualizacion</th>\n",
       "    </tr>\n",
       "  </thead>\n",
       "  <tbody>\n",
       "  </tbody>\n",
       "</table>\n",
       "</div>"
      ],
      "text/plain": [
       "Empty DataFrame\n",
       "Columns: [InventoryId, Store, Brand, Description, Size, VendorNumber, VendorName, PONumber, PODate, ReceivingDate, InvoiceDate, PayDate, PurchasePrice, Quantity, Dollars, Classification, fecha_actualizacion]\n",
       "Index: []"
      ]
     },
     "execution_count": 125,
     "metadata": {},
     "output_type": "execute_result"
    }
   ],
   "source": [
    "df2[(df2['Size'].isnull()) | (df2['Size'] == \"\")]"
   ]
  },
  {
   "cell_type": "markdown",
   "id": "e6c9f11a",
   "metadata": {},
   "source": [
    "## Aca finaliza la limpieza de PurchaseFINAL12312016\n",
    "## Aca inicia la limpieza de SalesFINAL12312016"
   ]
  },
  {
   "cell_type": "code",
   "execution_count": 126,
   "id": "890ea0fb",
   "metadata": {},
   "outputs": [
    {
     "ename": "MemoryError",
     "evalue": "Unable to allocate 196. MiB for an array with shape (4, 6412682) and data type float64",
     "output_type": "error",
     "traceback": [
      "\u001b[31m---------------------------------------------------------------------------\u001b[39m",
      "\u001b[31mMemoryError\u001b[39m                               Traceback (most recent call last)",
      "\u001b[36mCell\u001b[39m\u001b[36m \u001b[39m\u001b[32mIn[126]\u001b[39m\u001b[32m, line 1\u001b[39m\n\u001b[32m----> \u001b[39m\u001b[32m1\u001b[39m df3 = \u001b[43mpd\u001b[49m\u001b[43m.\u001b[49m\u001b[43mread_sql_table\u001b[49m\u001b[43m(\u001b[49m\u001b[33;43m\"\u001b[39;49m\u001b[33;43mSalesFINAL12312016\u001b[39;49m\u001b[33;43m\"\u001b[39;49m\u001b[43m,\u001b[49m\u001b[43m \u001b[49m\u001b[43mcon\u001b[49m\u001b[43m=\u001b[49m\u001b[43mengine\u001b[49m\u001b[43m)\u001b[49m\n",
      "\u001b[36mFile \u001b[39m\u001b[32mc:\\Users\\Franco\\AppData\\Local\\Programs\\Python\\Python313\\Lib\\site-packages\\pandas\\io\\sql.py:388\u001b[39m, in \u001b[36mread_sql_table\u001b[39m\u001b[34m(table_name, con, schema, index_col, coerce_float, parse_dates, columns, chunksize, dtype_backend)\u001b[39m\n\u001b[32m    385\u001b[39m     \u001b[38;5;28;01mif\u001b[39;00m \u001b[38;5;129;01mnot\u001b[39;00m pandas_sql.has_table(table_name):\n\u001b[32m    386\u001b[39m         \u001b[38;5;28;01mraise\u001b[39;00m \u001b[38;5;167;01mValueError\u001b[39;00m(\u001b[33mf\u001b[39m\u001b[33m\"\u001b[39m\u001b[33mTable \u001b[39m\u001b[38;5;132;01m{\u001b[39;00mtable_name\u001b[38;5;132;01m}\u001b[39;00m\u001b[33m not found\u001b[39m\u001b[33m\"\u001b[39m)\n\u001b[32m--> \u001b[39m\u001b[32m388\u001b[39m     table = \u001b[43mpandas_sql\u001b[49m\u001b[43m.\u001b[49m\u001b[43mread_table\u001b[49m\u001b[43m(\u001b[49m\n\u001b[32m    389\u001b[39m \u001b[43m        \u001b[49m\u001b[43mtable_name\u001b[49m\u001b[43m,\u001b[49m\n\u001b[32m    390\u001b[39m \u001b[43m        \u001b[49m\u001b[43mindex_col\u001b[49m\u001b[43m=\u001b[49m\u001b[43mindex_col\u001b[49m\u001b[43m,\u001b[49m\n\u001b[32m    391\u001b[39m \u001b[43m        \u001b[49m\u001b[43mcoerce_float\u001b[49m\u001b[43m=\u001b[49m\u001b[43mcoerce_float\u001b[49m\u001b[43m,\u001b[49m\n\u001b[32m    392\u001b[39m \u001b[43m        \u001b[49m\u001b[43mparse_dates\u001b[49m\u001b[43m=\u001b[49m\u001b[43mparse_dates\u001b[49m\u001b[43m,\u001b[49m\n\u001b[32m    393\u001b[39m \u001b[43m        \u001b[49m\u001b[43mcolumns\u001b[49m\u001b[43m=\u001b[49m\u001b[43mcolumns\u001b[49m\u001b[43m,\u001b[49m\n\u001b[32m    394\u001b[39m \u001b[43m        \u001b[49m\u001b[43mchunksize\u001b[49m\u001b[43m=\u001b[49m\u001b[43mchunksize\u001b[49m\u001b[43m,\u001b[49m\n\u001b[32m    395\u001b[39m \u001b[43m        \u001b[49m\u001b[43mdtype_backend\u001b[49m\u001b[43m=\u001b[49m\u001b[43mdtype_backend\u001b[49m\u001b[43m,\u001b[49m\n\u001b[32m    396\u001b[39m \u001b[43m    \u001b[49m\u001b[43m)\u001b[49m\n\u001b[32m    398\u001b[39m \u001b[38;5;28;01mif\u001b[39;00m table \u001b[38;5;129;01mis\u001b[39;00m \u001b[38;5;129;01mnot\u001b[39;00m \u001b[38;5;28;01mNone\u001b[39;00m:\n\u001b[32m    399\u001b[39m     \u001b[38;5;28;01mreturn\u001b[39;00m table\n",
      "\u001b[36mFile \u001b[39m\u001b[32mc:\\Users\\Franco\\AppData\\Local\\Programs\\Python\\Python313\\Lib\\site-packages\\pandas\\io\\sql.py:1729\u001b[39m, in \u001b[36mSQLDatabase.read_table\u001b[39m\u001b[34m(self, table_name, index_col, coerce_float, parse_dates, columns, schema, chunksize, dtype_backend)\u001b[39m\n\u001b[32m   1727\u001b[39m \u001b[38;5;28;01mif\u001b[39;00m chunksize \u001b[38;5;129;01mis\u001b[39;00m \u001b[38;5;129;01mnot\u001b[39;00m \u001b[38;5;28;01mNone\u001b[39;00m:\n\u001b[32m   1728\u001b[39m     \u001b[38;5;28mself\u001b[39m.returns_generator = \u001b[38;5;28;01mTrue\u001b[39;00m\n\u001b[32m-> \u001b[39m\u001b[32m1729\u001b[39m \u001b[38;5;28;01mreturn\u001b[39;00m \u001b[43mtable\u001b[49m\u001b[43m.\u001b[49m\u001b[43mread\u001b[49m\u001b[43m(\u001b[49m\n\u001b[32m   1730\u001b[39m \u001b[43m    \u001b[49m\u001b[38;5;28;43mself\u001b[39;49m\u001b[43m.\u001b[49m\u001b[43mexit_stack\u001b[49m\u001b[43m,\u001b[49m\n\u001b[32m   1731\u001b[39m \u001b[43m    \u001b[49m\u001b[43mcoerce_float\u001b[49m\u001b[43m=\u001b[49m\u001b[43mcoerce_float\u001b[49m\u001b[43m,\u001b[49m\n\u001b[32m   1732\u001b[39m \u001b[43m    \u001b[49m\u001b[43mparse_dates\u001b[49m\u001b[43m=\u001b[49m\u001b[43mparse_dates\u001b[49m\u001b[43m,\u001b[49m\n\u001b[32m   1733\u001b[39m \u001b[43m    \u001b[49m\u001b[43mcolumns\u001b[49m\u001b[43m=\u001b[49m\u001b[43mcolumns\u001b[49m\u001b[43m,\u001b[49m\n\u001b[32m   1734\u001b[39m \u001b[43m    \u001b[49m\u001b[43mchunksize\u001b[49m\u001b[43m=\u001b[49m\u001b[43mchunksize\u001b[49m\u001b[43m,\u001b[49m\n\u001b[32m   1735\u001b[39m \u001b[43m    \u001b[49m\u001b[43mdtype_backend\u001b[49m\u001b[43m=\u001b[49m\u001b[43mdtype_backend\u001b[49m\u001b[43m,\u001b[49m\n\u001b[32m   1736\u001b[39m \u001b[43m\u001b[49m\u001b[43m)\u001b[49m\n",
      "\u001b[36mFile \u001b[39m\u001b[32mc:\\Users\\Franco\\AppData\\Local\\Programs\\Python\\Python313\\Lib\\site-packages\\pandas\\io\\sql.py:1198\u001b[39m, in \u001b[36mSQLTable.read\u001b[39m\u001b[34m(self, exit_stack, coerce_float, parse_dates, columns, chunksize, dtype_backend)\u001b[39m\n\u001b[32m   1196\u001b[39m \u001b[38;5;28;01melse\u001b[39;00m:\n\u001b[32m   1197\u001b[39m     data = result.fetchall()\n\u001b[32m-> \u001b[39m\u001b[32m1198\u001b[39m     \u001b[38;5;28mself\u001b[39m.frame = \u001b[43m_convert_arrays_to_dataframe\u001b[49m\u001b[43m(\u001b[49m\n\u001b[32m   1199\u001b[39m \u001b[43m        \u001b[49m\u001b[43mdata\u001b[49m\u001b[43m,\u001b[49m\u001b[43m \u001b[49m\u001b[43mcolumn_names\u001b[49m\u001b[43m,\u001b[49m\u001b[43m \u001b[49m\u001b[43mcoerce_float\u001b[49m\u001b[43m,\u001b[49m\u001b[43m \u001b[49m\u001b[43mdtype_backend\u001b[49m\n\u001b[32m   1200\u001b[39m \u001b[43m    \u001b[49m\u001b[43m)\u001b[49m\n\u001b[32m   1202\u001b[39m     \u001b[38;5;28mself\u001b[39m._harmonize_columns(\n\u001b[32m   1203\u001b[39m         parse_dates=parse_dates, dtype_backend=dtype_backend\n\u001b[32m   1204\u001b[39m     )\n\u001b[32m   1206\u001b[39m     \u001b[38;5;28;01mif\u001b[39;00m \u001b[38;5;28mself\u001b[39m.index \u001b[38;5;129;01mis\u001b[39;00m \u001b[38;5;129;01mnot\u001b[39;00m \u001b[38;5;28;01mNone\u001b[39;00m:\n",
      "\u001b[36mFile \u001b[39m\u001b[32mc:\\Users\\Franco\\AppData\\Local\\Programs\\Python\\Python313\\Lib\\site-packages\\pandas\\io\\sql.py:187\u001b[39m, in \u001b[36m_convert_arrays_to_dataframe\u001b[39m\u001b[34m(data, columns, coerce_float, dtype_backend)\u001b[39m\n\u001b[32m    185\u001b[39m     arrays = result_arrays  \u001b[38;5;66;03m# type: ignore[assignment]\u001b[39;00m\n\u001b[32m    186\u001b[39m \u001b[38;5;28;01mif\u001b[39;00m arrays:\n\u001b[32m--> \u001b[39m\u001b[32m187\u001b[39m     df = \u001b[43mDataFrame\u001b[49m\u001b[43m(\u001b[49m\u001b[38;5;28;43mdict\u001b[39;49m\u001b[43m(\u001b[49m\u001b[38;5;28;43mzip\u001b[39;49m\u001b[43m(\u001b[49m\u001b[38;5;28;43mlist\u001b[39;49m\u001b[43m(\u001b[49m\u001b[38;5;28;43mrange\u001b[39;49m\u001b[43m(\u001b[49m\u001b[38;5;28;43mlen\u001b[39;49m\u001b[43m(\u001b[49m\u001b[43mcolumns\u001b[49m\u001b[43m)\u001b[49m\u001b[43m)\u001b[49m\u001b[43m)\u001b[49m\u001b[43m,\u001b[49m\u001b[43m \u001b[49m\u001b[43marrays\u001b[49m\u001b[43m)\u001b[49m\u001b[43m)\u001b[49m\u001b[43m)\u001b[49m\n\u001b[32m    188\u001b[39m     df.columns = columns\n\u001b[32m    189\u001b[39m     \u001b[38;5;28;01mreturn\u001b[39;00m df\n",
      "\u001b[36mFile \u001b[39m\u001b[32mc:\\Users\\Franco\\AppData\\Local\\Programs\\Python\\Python313\\Lib\\site-packages\\pandas\\core\\frame.py:778\u001b[39m, in \u001b[36mDataFrame.__init__\u001b[39m\u001b[34m(self, data, index, columns, dtype, copy)\u001b[39m\n\u001b[32m    772\u001b[39m     mgr = \u001b[38;5;28mself\u001b[39m._init_mgr(\n\u001b[32m    773\u001b[39m         data, axes={\u001b[33m\"\u001b[39m\u001b[33mindex\u001b[39m\u001b[33m\"\u001b[39m: index, \u001b[33m\"\u001b[39m\u001b[33mcolumns\u001b[39m\u001b[33m\"\u001b[39m: columns}, dtype=dtype, copy=copy\n\u001b[32m    774\u001b[39m     )\n\u001b[32m    776\u001b[39m \u001b[38;5;28;01melif\u001b[39;00m \u001b[38;5;28misinstance\u001b[39m(data, \u001b[38;5;28mdict\u001b[39m):\n\u001b[32m    777\u001b[39m     \u001b[38;5;66;03m# GH#38939 de facto copy defaults to False only in non-dict cases\u001b[39;00m\n\u001b[32m--> \u001b[39m\u001b[32m778\u001b[39m     mgr = \u001b[43mdict_to_mgr\u001b[49m\u001b[43m(\u001b[49m\u001b[43mdata\u001b[49m\u001b[43m,\u001b[49m\u001b[43m \u001b[49m\u001b[43mindex\u001b[49m\u001b[43m,\u001b[49m\u001b[43m \u001b[49m\u001b[43mcolumns\u001b[49m\u001b[43m,\u001b[49m\u001b[43m \u001b[49m\u001b[43mdtype\u001b[49m\u001b[43m=\u001b[49m\u001b[43mdtype\u001b[49m\u001b[43m,\u001b[49m\u001b[43m \u001b[49m\u001b[43mcopy\u001b[49m\u001b[43m=\u001b[49m\u001b[43mcopy\u001b[49m\u001b[43m,\u001b[49m\u001b[43m \u001b[49m\u001b[43mtyp\u001b[49m\u001b[43m=\u001b[49m\u001b[43mmanager\u001b[49m\u001b[43m)\u001b[49m\n\u001b[32m    779\u001b[39m \u001b[38;5;28;01melif\u001b[39;00m \u001b[38;5;28misinstance\u001b[39m(data, ma.MaskedArray):\n\u001b[32m    780\u001b[39m     \u001b[38;5;28;01mfrom\u001b[39;00m\u001b[38;5;250m \u001b[39m\u001b[34;01mnumpy\u001b[39;00m\u001b[34;01m.\u001b[39;00m\u001b[34;01mma\u001b[39;00m\u001b[38;5;250m \u001b[39m\u001b[38;5;28;01mimport\u001b[39;00m mrecords\n",
      "\u001b[36mFile \u001b[39m\u001b[32mc:\\Users\\Franco\\AppData\\Local\\Programs\\Python\\Python313\\Lib\\site-packages\\pandas\\core\\internals\\construction.py:503\u001b[39m, in \u001b[36mdict_to_mgr\u001b[39m\u001b[34m(data, index, columns, dtype, typ, copy)\u001b[39m\n\u001b[32m    499\u001b[39m     \u001b[38;5;28;01melse\u001b[39;00m:\n\u001b[32m    500\u001b[39m         \u001b[38;5;66;03m# dtype check to exclude e.g. range objects, scalars\u001b[39;00m\n\u001b[32m    501\u001b[39m         arrays = [x.copy() \u001b[38;5;28;01mif\u001b[39;00m \u001b[38;5;28mhasattr\u001b[39m(x, \u001b[33m\"\u001b[39m\u001b[33mdtype\u001b[39m\u001b[33m\"\u001b[39m) \u001b[38;5;28;01melse\u001b[39;00m x \u001b[38;5;28;01mfor\u001b[39;00m x \u001b[38;5;129;01min\u001b[39;00m arrays]\n\u001b[32m--> \u001b[39m\u001b[32m503\u001b[39m \u001b[38;5;28;01mreturn\u001b[39;00m \u001b[43marrays_to_mgr\u001b[49m\u001b[43m(\u001b[49m\u001b[43marrays\u001b[49m\u001b[43m,\u001b[49m\u001b[43m \u001b[49m\u001b[43mcolumns\u001b[49m\u001b[43m,\u001b[49m\u001b[43m \u001b[49m\u001b[43mindex\u001b[49m\u001b[43m,\u001b[49m\u001b[43m \u001b[49m\u001b[43mdtype\u001b[49m\u001b[43m=\u001b[49m\u001b[43mdtype\u001b[49m\u001b[43m,\u001b[49m\u001b[43m \u001b[49m\u001b[43mtyp\u001b[49m\u001b[43m=\u001b[49m\u001b[43mtyp\u001b[49m\u001b[43m,\u001b[49m\u001b[43m \u001b[49m\u001b[43mconsolidate\u001b[49m\u001b[43m=\u001b[49m\u001b[43mcopy\u001b[49m\u001b[43m)\u001b[49m\n",
      "\u001b[36mFile \u001b[39m\u001b[32mc:\\Users\\Franco\\AppData\\Local\\Programs\\Python\\Python313\\Lib\\site-packages\\pandas\\core\\internals\\construction.py:152\u001b[39m, in \u001b[36marrays_to_mgr\u001b[39m\u001b[34m(arrays, columns, index, dtype, verify_integrity, typ, consolidate)\u001b[39m\n\u001b[32m    149\u001b[39m axes = [columns, index]\n\u001b[32m    151\u001b[39m \u001b[38;5;28;01mif\u001b[39;00m typ == \u001b[33m\"\u001b[39m\u001b[33mblock\u001b[39m\u001b[33m\"\u001b[39m:\n\u001b[32m--> \u001b[39m\u001b[32m152\u001b[39m     \u001b[38;5;28;01mreturn\u001b[39;00m \u001b[43mcreate_block_manager_from_column_arrays\u001b[49m\u001b[43m(\u001b[49m\n\u001b[32m    153\u001b[39m \u001b[43m        \u001b[49m\u001b[43marrays\u001b[49m\u001b[43m,\u001b[49m\u001b[43m \u001b[49m\u001b[43maxes\u001b[49m\u001b[43m,\u001b[49m\u001b[43m \u001b[49m\u001b[43mconsolidate\u001b[49m\u001b[43m=\u001b[49m\u001b[43mconsolidate\u001b[49m\u001b[43m,\u001b[49m\u001b[43m \u001b[49m\u001b[43mrefs\u001b[49m\u001b[43m=\u001b[49m\u001b[43mrefs\u001b[49m\n\u001b[32m    154\u001b[39m \u001b[43m    \u001b[49m\u001b[43m)\u001b[49m\n\u001b[32m    155\u001b[39m \u001b[38;5;28;01melif\u001b[39;00m typ == \u001b[33m\"\u001b[39m\u001b[33marray\u001b[39m\u001b[33m\"\u001b[39m:\n\u001b[32m    156\u001b[39m     \u001b[38;5;28;01mreturn\u001b[39;00m ArrayManager(arrays, [index, columns])\n",
      "\u001b[36mFile \u001b[39m\u001b[32mc:\\Users\\Franco\\AppData\\Local\\Programs\\Python\\Python313\\Lib\\site-packages\\pandas\\core\\internals\\managers.py:2144\u001b[39m, in \u001b[36mcreate_block_manager_from_column_arrays\u001b[39m\u001b[34m(arrays, axes, consolidate, refs)\u001b[39m\n\u001b[32m   2142\u001b[39m     raise_construction_error(\u001b[38;5;28mlen\u001b[39m(arrays), arrays[\u001b[32m0\u001b[39m].shape, axes, e)\n\u001b[32m   2143\u001b[39m \u001b[38;5;28;01mif\u001b[39;00m consolidate:\n\u001b[32m-> \u001b[39m\u001b[32m2144\u001b[39m     \u001b[43mmgr\u001b[49m\u001b[43m.\u001b[49m\u001b[43m_consolidate_inplace\u001b[49m\u001b[43m(\u001b[49m\u001b[43m)\u001b[49m\n\u001b[32m   2145\u001b[39m \u001b[38;5;28;01mreturn\u001b[39;00m mgr\n",
      "\u001b[36mFile \u001b[39m\u001b[32mc:\\Users\\Franco\\AppData\\Local\\Programs\\Python\\Python313\\Lib\\site-packages\\pandas\\core\\internals\\managers.py:1788\u001b[39m, in \u001b[36mBlockManager._consolidate_inplace\u001b[39m\u001b[34m(self)\u001b[39m\n\u001b[32m   1782\u001b[39m \u001b[38;5;28;01mdef\u001b[39;00m\u001b[38;5;250m \u001b[39m\u001b[34m_consolidate_inplace\u001b[39m(\u001b[38;5;28mself\u001b[39m) -> \u001b[38;5;28;01mNone\u001b[39;00m:\n\u001b[32m   1783\u001b[39m     \u001b[38;5;66;03m# In general, _consolidate_inplace should only be called via\u001b[39;00m\n\u001b[32m   1784\u001b[39m     \u001b[38;5;66;03m#  DataFrame._consolidate_inplace, otherwise we will fail to invalidate\u001b[39;00m\n\u001b[32m   1785\u001b[39m     \u001b[38;5;66;03m#  the DataFrame's _item_cache. The exception is for newly-created\u001b[39;00m\n\u001b[32m   1786\u001b[39m     \u001b[38;5;66;03m#  BlockManager objects not yet attached to a DataFrame.\u001b[39;00m\n\u001b[32m   1787\u001b[39m     \u001b[38;5;28;01mif\u001b[39;00m \u001b[38;5;129;01mnot\u001b[39;00m \u001b[38;5;28mself\u001b[39m.is_consolidated():\n\u001b[32m-> \u001b[39m\u001b[32m1788\u001b[39m         \u001b[38;5;28mself\u001b[39m.blocks = \u001b[43m_consolidate\u001b[49m\u001b[43m(\u001b[49m\u001b[38;5;28;43mself\u001b[39;49m\u001b[43m.\u001b[49m\u001b[43mblocks\u001b[49m\u001b[43m)\u001b[49m\n\u001b[32m   1789\u001b[39m         \u001b[38;5;28mself\u001b[39m._is_consolidated = \u001b[38;5;28;01mTrue\u001b[39;00m\n\u001b[32m   1790\u001b[39m         \u001b[38;5;28mself\u001b[39m._known_consolidated = \u001b[38;5;28;01mTrue\u001b[39;00m\n",
      "\u001b[36mFile \u001b[39m\u001b[32mc:\\Users\\Franco\\AppData\\Local\\Programs\\Python\\Python313\\Lib\\site-packages\\pandas\\core\\internals\\managers.py:2269\u001b[39m, in \u001b[36m_consolidate\u001b[39m\u001b[34m(blocks)\u001b[39m\n\u001b[32m   2267\u001b[39m new_blocks: \u001b[38;5;28mlist\u001b[39m[Block] = []\n\u001b[32m   2268\u001b[39m \u001b[38;5;28;01mfor\u001b[39;00m (_can_consolidate, dtype), group_blocks \u001b[38;5;129;01min\u001b[39;00m grouper:\n\u001b[32m-> \u001b[39m\u001b[32m2269\u001b[39m     merged_blocks, _ = \u001b[43m_merge_blocks\u001b[49m\u001b[43m(\u001b[49m\n\u001b[32m   2270\u001b[39m \u001b[43m        \u001b[49m\u001b[38;5;28;43mlist\u001b[39;49m\u001b[43m(\u001b[49m\u001b[43mgroup_blocks\u001b[49m\u001b[43m)\u001b[49m\u001b[43m,\u001b[49m\u001b[43m \u001b[49m\u001b[43mdtype\u001b[49m\u001b[43m=\u001b[49m\u001b[43mdtype\u001b[49m\u001b[43m,\u001b[49m\u001b[43m \u001b[49m\u001b[43mcan_consolidate\u001b[49m\u001b[43m=\u001b[49m\u001b[43m_can_consolidate\u001b[49m\n\u001b[32m   2271\u001b[39m \u001b[43m    \u001b[49m\u001b[43m)\u001b[49m\n\u001b[32m   2272\u001b[39m     new_blocks = extend_blocks(merged_blocks, new_blocks)\n\u001b[32m   2273\u001b[39m \u001b[38;5;28;01mreturn\u001b[39;00m \u001b[38;5;28mtuple\u001b[39m(new_blocks)\n",
      "\u001b[36mFile \u001b[39m\u001b[32mc:\\Users\\Franco\\AppData\\Local\\Programs\\Python\\Python313\\Lib\\site-packages\\pandas\\core\\internals\\managers.py:2294\u001b[39m, in \u001b[36m_merge_blocks\u001b[39m\u001b[34m(blocks, dtype, can_consolidate)\u001b[39m\n\u001b[32m   2287\u001b[39m new_values: ArrayLike\n\u001b[32m   2289\u001b[39m \u001b[38;5;28;01mif\u001b[39;00m \u001b[38;5;28misinstance\u001b[39m(blocks[\u001b[32m0\u001b[39m].dtype, np.dtype):\n\u001b[32m   2290\u001b[39m     \u001b[38;5;66;03m# error: List comprehension has incompatible type List[Union[ndarray,\u001b[39;00m\n\u001b[32m   2291\u001b[39m     \u001b[38;5;66;03m# ExtensionArray]]; expected List[Union[complex, generic,\u001b[39;00m\n\u001b[32m   2292\u001b[39m     \u001b[38;5;66;03m# Sequence[Union[int, float, complex, str, bytes, generic]],\u001b[39;00m\n\u001b[32m   2293\u001b[39m     \u001b[38;5;66;03m# Sequence[Sequence[Any]], SupportsArray]]\u001b[39;00m\n\u001b[32m-> \u001b[39m\u001b[32m2294\u001b[39m     new_values = \u001b[43mnp\u001b[49m\u001b[43m.\u001b[49m\u001b[43mvstack\u001b[49m\u001b[43m(\u001b[49m\u001b[43m[\u001b[49m\u001b[43mb\u001b[49m\u001b[43m.\u001b[49m\u001b[43mvalues\u001b[49m\u001b[43m \u001b[49m\u001b[38;5;28;43;01mfor\u001b[39;49;00m\u001b[43m \u001b[49m\u001b[43mb\u001b[49m\u001b[43m \u001b[49m\u001b[38;5;129;43;01min\u001b[39;49;00m\u001b[43m \u001b[49m\u001b[43mblocks\u001b[49m\u001b[43m]\u001b[49m\u001b[43m)\u001b[49m  \u001b[38;5;66;03m# type: ignore[misc]\u001b[39;00m\n\u001b[32m   2295\u001b[39m \u001b[38;5;28;01melse\u001b[39;00m:\n\u001b[32m   2296\u001b[39m     bvals = [blk.values \u001b[38;5;28;01mfor\u001b[39;00m blk \u001b[38;5;129;01min\u001b[39;00m blocks]\n",
      "\u001b[36mFile \u001b[39m\u001b[32mc:\\Users\\Franco\\AppData\\Local\\Programs\\Python\\Python313\\Lib\\site-packages\\numpy\\_core\\shape_base.py:292\u001b[39m, in \u001b[36mvstack\u001b[39m\u001b[34m(tup, dtype, casting)\u001b[39m\n\u001b[32m    290\u001b[39m \u001b[38;5;28;01mif\u001b[39;00m \u001b[38;5;129;01mnot\u001b[39;00m \u001b[38;5;28misinstance\u001b[39m(arrs, \u001b[38;5;28mtuple\u001b[39m):\n\u001b[32m    291\u001b[39m     arrs = (arrs,)\n\u001b[32m--> \u001b[39m\u001b[32m292\u001b[39m \u001b[38;5;28;01mreturn\u001b[39;00m \u001b[43m_nx\u001b[49m\u001b[43m.\u001b[49m\u001b[43mconcatenate\u001b[49m\u001b[43m(\u001b[49m\u001b[43marrs\u001b[49m\u001b[43m,\u001b[49m\u001b[43m \u001b[49m\u001b[32;43m0\u001b[39;49m\u001b[43m,\u001b[49m\u001b[43m \u001b[49m\u001b[43mdtype\u001b[49m\u001b[43m=\u001b[49m\u001b[43mdtype\u001b[49m\u001b[43m,\u001b[49m\u001b[43m \u001b[49m\u001b[43mcasting\u001b[49m\u001b[43m=\u001b[49m\u001b[43mcasting\u001b[49m\u001b[43m)\u001b[49m\n",
      "\u001b[31mMemoryError\u001b[39m: Unable to allocate 196. MiB for an array with shape (4, 6412682) and data type float64"
     ]
    }
   ],
   "source": [
    "df3 = pd.read_sql_table(\"SalesFINAL12312016\", con=engine)"
   ]
  },
  {
   "cell_type": "code",
   "execution_count": 127,
   "id": "8ac76c47",
   "metadata": {},
   "outputs": [
    {
     "ename": "NameError",
     "evalue": "name 'df3' is not defined",
     "output_type": "error",
     "traceback": [
      "\u001b[31m---------------------------------------------------------------------------\u001b[39m",
      "\u001b[31mNameError\u001b[39m                                 Traceback (most recent call last)",
      "\u001b[36mCell\u001b[39m\u001b[36m \u001b[39m\u001b[32mIn[127]\u001b[39m\u001b[32m, line 1\u001b[39m\n\u001b[32m----> \u001b[39m\u001b[32m1\u001b[39m \u001b[43mdf3\u001b[49m.head()\n",
      "\u001b[31mNameError\u001b[39m: name 'df3' is not defined"
     ]
    }
   ],
   "source": [
    "df3.head()"
   ]
  },
  {
   "cell_type": "code",
   "execution_count": null,
   "id": "5635f614",
   "metadata": {},
   "outputs": [],
   "source": [
    "np.shape(df3)"
   ]
  },
  {
   "cell_type": "code",
   "execution_count": null,
   "id": "a714e8ca",
   "metadata": {},
   "outputs": [],
   "source": [
    "print(df3.info())"
   ]
  }
 ],
 "metadata": {
  "kernelspec": {
   "display_name": "Python 3",
   "language": "python",
   "name": "python3"
  },
  "language_info": {
   "codemirror_mode": {
    "name": "ipython",
    "version": 3
   },
   "file_extension": ".py",
   "mimetype": "text/x-python",
   "name": "python",
   "nbconvert_exporter": "python",
   "pygments_lexer": "ipython3",
   "version": "3.13.3"
  }
 },
 "nbformat": 4,
 "nbformat_minor": 5
}
