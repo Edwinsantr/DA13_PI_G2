{
 "cells": [
  {
   "cell_type": "markdown",
   "metadata": {},
   "source": [
    "Primero, nos conectamos a la BD y cargamos el DS:"
   ]
  },
  {
   "cell_type": "code",
   "execution_count": 3,
   "id": "471bbce3",
   "metadata": {},
   "outputs": [
    {
     "name": "stdout",
     "output_type": "stream",
     "text": [
      "Requirement already satisfied: mysql-connector-python in c:\\users\\franco\\appdata\\local\\programs\\python\\python313\\lib\\site-packages (9.3.0)\n",
      "Note: you may need to restart the kernel to use updated packages.\n"
     ]
    },
    {
     "name": "stderr",
     "output_type": "stream",
     "text": [
      "\n",
      "[notice] A new release of pip is available: 25.0.1 -> 25.1.1\n",
      "[notice] To update, run: python.exe -m pip install --upgrade pip\n"
     ]
    }
   ],
   "source": [
    "pip install mysql-connector-python"
   ]
  },
  {
   "cell_type": "code",
   "execution_count": 4,
   "id": "29cb2b84",
   "metadata": {},
   "outputs": [
    {
     "name": "stdout",
     "output_type": "stream",
     "text": [
      "Requirement already satisfied: SQLAlchemy in c:\\users\\franco\\appdata\\local\\programs\\python\\python313\\lib\\site-packages (2.0.41)\n",
      "Requirement already satisfied: greenlet>=1 in c:\\users\\franco\\appdata\\local\\programs\\python\\python313\\lib\\site-packages (from SQLAlchemy) (3.2.2)\n",
      "Requirement already satisfied: typing-extensions>=4.6.0 in c:\\users\\franco\\appdata\\local\\programs\\python\\python313\\lib\\site-packages (from SQLAlchemy) (4.13.2)\n",
      "Note: you may need to restart the kernel to use updated packages.\n"
     ]
    },
    {
     "name": "stderr",
     "output_type": "stream",
     "text": [
      "\n",
      "[notice] A new release of pip is available: 25.0.1 -> 25.1.1\n",
      "[notice] To update, run: python.exe -m pip install --upgrade pip\n"
     ]
    }
   ],
   "source": [
    "pip install SQLAlchemy"
   ]
  },
  {
   "cell_type": "code",
   "execution_count": 5,
   "id": "dcdb6427",
   "metadata": {},
   "outputs": [],
   "source": [
    "from sqlalchemy import create_engine\n",
    "import os"
   ]
  },
  {
   "cell_type": "code",
   "execution_count": 6,
   "id": "b13d3c41",
   "metadata": {},
   "outputs": [],
   "source": [
    "usuario = \"franco\"\n",
    "contraseña = \"Proyectofinal2025!%\"\n",
    "host = \"34.135.248.251\"\n",
    "puerto = \"3306\"\n",
    "base_de_datos = \"pf-g2-daft13\""
   ]
  },
  {
   "cell_type": "code",
   "execution_count": 7,
   "id": "e9e08b99",
   "metadata": {},
   "outputs": [],
   "source": [
    "# Crear conexión SQLAlchemy\n",
    "engine = create_engine(f\"mysql+mysqlconnector://{usuario}:{contraseña}@{host}:{puerto}/{base_de_datos}\")"
   ]
  },
  {
   "cell_type": "markdown",
   "id": "3d0e8bcf",
   "metadata": {},
   "source": [
    "Importo las librerias necesarias"
   ]
  },
  {
   "cell_type": "code",
   "execution_count": 8,
   "id": "cf5b63d0",
   "metadata": {},
   "outputs": [],
   "source": [
    "import pandas as pd\n",
    "import numpy as np\n",
    "import matplotlib.pyplot as plt"
   ]
  },
  {
   "cell_type": "markdown",
   "id": "9171afc3",
   "metadata": {},
   "source": [
    "## Aca Inicia la limpieza de PurchasePricesDec2017"
   ]
  },
  {
   "cell_type": "markdown",
   "id": "af2adced",
   "metadata": {},
   "source": [
    "Cargo la primer tabla:"
   ]
  },
  {
   "cell_type": "code",
   "execution_count": 9,
   "id": "07a4be2a",
   "metadata": {},
   "outputs": [],
   "source": [
    "df1 = pd.read_sql_table(\"PurchasePricesDec2017\", con=engine)"
   ]
  },
  {
   "cell_type": "code",
   "execution_count": 10,
   "id": "5eb88f23",
   "metadata": {},
   "outputs": [
    {
     "data": {
      "application/vnd.microsoft.datawrangler.viewer.v0+json": {
       "columns": [
        {
         "name": "index",
         "rawType": "int64",
         "type": "integer"
        },
        {
         "name": "Brand",
         "rawType": "int64",
         "type": "integer"
        },
        {
         "name": "Description",
         "rawType": "object",
         "type": "string"
        },
        {
         "name": "Price",
         "rawType": "float64",
         "type": "float"
        },
        {
         "name": "Size",
         "rawType": "object",
         "type": "string"
        },
        {
         "name": "Volume",
         "rawType": "int64",
         "type": "integer"
        },
        {
         "name": "Classification",
         "rawType": "int64",
         "type": "integer"
        },
        {
         "name": "PurchasePrice",
         "rawType": "float64",
         "type": "float"
        },
        {
         "name": "VendorNumber",
         "rawType": "int64",
         "type": "integer"
        },
        {
         "name": "VendorName",
         "rawType": "object",
         "type": "string"
        },
        {
         "name": "fecha_actualizacion",
         "rawType": "datetime64[ns]",
         "type": "datetime"
        }
       ],
       "ref": "165f3ad7-ab33-42a0-ae4a-026c01fc525f",
       "rows": [
        [
         "0",
         "0",
         "Description",
         "0.0",
         "Size",
         "0",
         "0",
         "0.0",
         "0",
         "VendorName\"\r\n58,\"Gekkeikan Black & Gold Sake",
         "2025-05-27 18:54:32"
        ],
        [
         "1",
         "61",
         "Margaritaville Silver",
         "13.99",
         "750mL",
         "750",
         "1",
         "10.6",
         "8004",
         "SAZERAC CO INC             \"\r\n122,\"DeKuyper Mixed Berry Medley",
         "2025-05-27 18:54:32"
        ],
        [
         "2",
         "62",
         "Herradura Silver Tequila",
         "36.99",
         "750mL",
         "750",
         "1",
         "28.67",
         "1128",
         "BROWN-FORMAN CORP          \"\r\n63,\"Herradura Reposado Tequila",
         "2025-05-27 18:54:32"
        ],
        [
         "3",
         "68",
         "Luxardo Triplum Triple Sec",
         "24.99",
         "750mL",
         "750",
         "1",
         "18.93",
         "9165",
         "ULTRA BEVERAGE COMPANY LLP \"\r\n97,\"Smirnoff Passion Fruit Vodka",
         "2025-05-27 18:54:32"
        ],
        [
         "4",
         "70",
         "Luxardo Amaretto di Saschira",
         "18.99",
         "750mL",
         "750",
         "1",
         "13.96",
         "9165",
         "ULTRA BEVERAGE COMPANY LLP \"\r\n3535,\"Ricura Cream Liqueur",
         "2025-05-27 18:54:32"
        ]
       ],
       "shape": {
        "columns": 10,
        "rows": 5
       }
      },
      "text/html": [
       "<div>\n",
       "<style scoped>\n",
       "    .dataframe tbody tr th:only-of-type {\n",
       "        vertical-align: middle;\n",
       "    }\n",
       "\n",
       "    .dataframe tbody tr th {\n",
       "        vertical-align: top;\n",
       "    }\n",
       "\n",
       "    .dataframe thead th {\n",
       "        text-align: right;\n",
       "    }\n",
       "</style>\n",
       "<table border=\"1\" class=\"dataframe\">\n",
       "  <thead>\n",
       "    <tr style=\"text-align: right;\">\n",
       "      <th></th>\n",
       "      <th>Brand</th>\n",
       "      <th>Description</th>\n",
       "      <th>Price</th>\n",
       "      <th>Size</th>\n",
       "      <th>Volume</th>\n",
       "      <th>Classification</th>\n",
       "      <th>PurchasePrice</th>\n",
       "      <th>VendorNumber</th>\n",
       "      <th>VendorName</th>\n",
       "      <th>fecha_actualizacion</th>\n",
       "    </tr>\n",
       "  </thead>\n",
       "  <tbody>\n",
       "    <tr>\n",
       "      <th>0</th>\n",
       "      <td>0</td>\n",
       "      <td>Description</td>\n",
       "      <td>0.00</td>\n",
       "      <td>Size</td>\n",
       "      <td>0</td>\n",
       "      <td>0</td>\n",
       "      <td>0.00</td>\n",
       "      <td>0</td>\n",
       "      <td>VendorName\"\\r\\n58,\"Gekkeikan Black &amp; Gold Sake</td>\n",
       "      <td>2025-05-27 18:54:32</td>\n",
       "    </tr>\n",
       "    <tr>\n",
       "      <th>1</th>\n",
       "      <td>61</td>\n",
       "      <td>Margaritaville Silver</td>\n",
       "      <td>13.99</td>\n",
       "      <td>750mL</td>\n",
       "      <td>750</td>\n",
       "      <td>1</td>\n",
       "      <td>10.60</td>\n",
       "      <td>8004</td>\n",
       "      <td>SAZERAC CO INC             \"\\r\\n122,\"DeKuyper ...</td>\n",
       "      <td>2025-05-27 18:54:32</td>\n",
       "    </tr>\n",
       "    <tr>\n",
       "      <th>2</th>\n",
       "      <td>62</td>\n",
       "      <td>Herradura Silver Tequila</td>\n",
       "      <td>36.99</td>\n",
       "      <td>750mL</td>\n",
       "      <td>750</td>\n",
       "      <td>1</td>\n",
       "      <td>28.67</td>\n",
       "      <td>1128</td>\n",
       "      <td>BROWN-FORMAN CORP          \"\\r\\n63,\"Herradura ...</td>\n",
       "      <td>2025-05-27 18:54:32</td>\n",
       "    </tr>\n",
       "    <tr>\n",
       "      <th>3</th>\n",
       "      <td>68</td>\n",
       "      <td>Luxardo Triplum Triple Sec</td>\n",
       "      <td>24.99</td>\n",
       "      <td>750mL</td>\n",
       "      <td>750</td>\n",
       "      <td>1</td>\n",
       "      <td>18.93</td>\n",
       "      <td>9165</td>\n",
       "      <td>ULTRA BEVERAGE COMPANY LLP \"\\r\\n97,\"Smirnoff P...</td>\n",
       "      <td>2025-05-27 18:54:32</td>\n",
       "    </tr>\n",
       "    <tr>\n",
       "      <th>4</th>\n",
       "      <td>70</td>\n",
       "      <td>Luxardo Amaretto di Saschira</td>\n",
       "      <td>18.99</td>\n",
       "      <td>750mL</td>\n",
       "      <td>750</td>\n",
       "      <td>1</td>\n",
       "      <td>13.96</td>\n",
       "      <td>9165</td>\n",
       "      <td>ULTRA BEVERAGE COMPANY LLP \"\\r\\n3535,\"Ricura C...</td>\n",
       "      <td>2025-05-27 18:54:32</td>\n",
       "    </tr>\n",
       "  </tbody>\n",
       "</table>\n",
       "</div>"
      ],
      "text/plain": [
       "   Brand                   Description  Price   Size  Volume  Classification  \\\n",
       "0      0                   Description   0.00   Size       0               0   \n",
       "1     61         Margaritaville Silver  13.99  750mL     750               1   \n",
       "2     62      Herradura Silver Tequila  36.99  750mL     750               1   \n",
       "3     68    Luxardo Triplum Triple Sec  24.99  750mL     750               1   \n",
       "4     70  Luxardo Amaretto di Saschira  18.99  750mL     750               1   \n",
       "\n",
       "   PurchasePrice  VendorNumber  \\\n",
       "0           0.00             0   \n",
       "1          10.60          8004   \n",
       "2          28.67          1128   \n",
       "3          18.93          9165   \n",
       "4          13.96          9165   \n",
       "\n",
       "                                          VendorName fecha_actualizacion  \n",
       "0     VendorName\"\\r\\n58,\"Gekkeikan Black & Gold Sake 2025-05-27 18:54:32  \n",
       "1  SAZERAC CO INC             \"\\r\\n122,\"DeKuyper ... 2025-05-27 18:54:32  \n",
       "2  BROWN-FORMAN CORP          \"\\r\\n63,\"Herradura ... 2025-05-27 18:54:32  \n",
       "3  ULTRA BEVERAGE COMPANY LLP \"\\r\\n97,\"Smirnoff P... 2025-05-27 18:54:32  \n",
       "4  ULTRA BEVERAGE COMPANY LLP \"\\r\\n3535,\"Ricura C... 2025-05-27 18:54:32  "
      ]
     },
     "execution_count": 10,
     "metadata": {},
     "output_type": "execute_result"
    }
   ],
   "source": [
    "df1.head()"
   ]
  },
  {
   "cell_type": "code",
   "execution_count": 11,
   "id": "2211c065",
   "metadata": {},
   "outputs": [
    {
     "data": {
      "text/plain": [
       "(6131, 10)"
      ]
     },
     "execution_count": 11,
     "metadata": {},
     "output_type": "execute_result"
    }
   ],
   "source": [
    "np.shape(df1)"
   ]
  },
  {
   "cell_type": "code",
   "execution_count": 12,
   "id": "828d8f6a",
   "metadata": {},
   "outputs": [
    {
     "name": "stdout",
     "output_type": "stream",
     "text": [
      "Index(['Brand', 'Description', 'Price', 'Size', 'Volume', 'Classification',\n",
      "       'PurchasePrice', 'VendorNumber', 'VendorName', 'fecha_actualizacion'],\n",
      "      dtype='object')\n"
     ]
    }
   ],
   "source": [
    "#Validamos los datos que tenemos en los campos\n",
    "print(df1.columns)"
   ]
  },
  {
   "cell_type": "code",
   "execution_count": 13,
   "id": "30b3d2f6",
   "metadata": {},
   "outputs": [
    {
     "name": "stdout",
     "output_type": "stream",
     "text": [
      "<class 'pandas.core.frame.DataFrame'>\n",
      "RangeIndex: 6131 entries, 0 to 6130\n",
      "Data columns (total 10 columns):\n",
      " #   Column               Non-Null Count  Dtype         \n",
      "---  ------               --------------  -----         \n",
      " 0   Brand                6131 non-null   int64         \n",
      " 1   Description          6131 non-null   object        \n",
      " 2   Price                6131 non-null   float64       \n",
      " 3   Size                 6131 non-null   object        \n",
      " 4   Volume               6131 non-null   int64         \n",
      " 5   Classification       6131 non-null   int64         \n",
      " 6   PurchasePrice        6131 non-null   float64       \n",
      " 7   VendorNumber         6131 non-null   int64         \n",
      " 8   VendorName           6131 non-null   object        \n",
      " 9   fecha_actualizacion  6131 non-null   datetime64[ns]\n",
      "dtypes: datetime64[ns](1), float64(2), int64(4), object(3)\n",
      "memory usage: 479.1+ KB\n",
      "None\n"
     ]
    }
   ],
   "source": [
    "print(df1.info())"
   ]
  },
  {
   "cell_type": "markdown",
   "id": "97c11807",
   "metadata": {},
   "source": [
    "En principio no hay nulos, chequeamos"
   ]
  },
  {
   "cell_type": "code",
   "execution_count": 14,
   "id": "72ec6bd1",
   "metadata": {},
   "outputs": [
    {
     "data": {
      "application/vnd.microsoft.datawrangler.viewer.v0+json": {
       "columns": [
        {
         "name": "index",
         "rawType": "object",
         "type": "string"
        },
        {
         "name": "0",
         "rawType": "int64",
         "type": "integer"
        }
       ],
       "ref": "860d704c-d927-48fc-953f-e03faadc2990",
       "rows": [
        [
         "Brand",
         "0"
        ],
        [
         "Description",
         "0"
        ],
        [
         "Price",
         "0"
        ],
        [
         "Size",
         "0"
        ],
        [
         "Volume",
         "0"
        ],
        [
         "Classification",
         "0"
        ],
        [
         "PurchasePrice",
         "0"
        ],
        [
         "VendorNumber",
         "0"
        ],
        [
         "VendorName",
         "0"
        ],
        [
         "fecha_actualizacion",
         "0"
        ]
       ],
       "shape": {
        "columns": 1,
        "rows": 10
       }
      },
      "text/plain": [
       "Brand                  0\n",
       "Description            0\n",
       "Price                  0\n",
       "Size                   0\n",
       "Volume                 0\n",
       "Classification         0\n",
       "PurchasePrice          0\n",
       "VendorNumber           0\n",
       "VendorName             0\n",
       "fecha_actualizacion    0\n",
       "dtype: int64"
      ]
     },
     "execution_count": 14,
     "metadata": {},
     "output_type": "execute_result"
    }
   ],
   "source": [
    "df1.isnull().sum()"
   ]
  },
  {
   "cell_type": "code",
   "execution_count": 15,
   "id": "cf43d241",
   "metadata": {},
   "outputs": [
    {
     "data": {
      "application/vnd.microsoft.datawrangler.viewer.v0+json": {
       "columns": [
        {
         "name": "index",
         "rawType": "object",
         "type": "string"
        },
        {
         "name": "0",
         "rawType": "int64",
         "type": "integer"
        }
       ],
       "ref": "345361f7-3027-425d-be5e-754cd3f865f8",
       "rows": [
        [
         "Brand",
         "0"
        ],
        [
         "Description",
         "0"
        ],
        [
         "Price",
         "0"
        ],
        [
         "Size",
         "0"
        ],
        [
         "Volume",
         "0"
        ],
        [
         "Classification",
         "0"
        ],
        [
         "PurchasePrice",
         "0"
        ],
        [
         "VendorNumber",
         "0"
        ],
        [
         "VendorName",
         "0"
        ],
        [
         "fecha_actualizacion",
         "0"
        ]
       ],
       "shape": {
        "columns": 1,
        "rows": 10
       }
      },
      "text/plain": [
       "Brand                  0\n",
       "Description            0\n",
       "Price                  0\n",
       "Size                   0\n",
       "Volume                 0\n",
       "Classification         0\n",
       "PurchasePrice          0\n",
       "VendorNumber           0\n",
       "VendorName             0\n",
       "fecha_actualizacion    0\n",
       "dtype: int64"
      ]
     },
     "execution_count": 15,
     "metadata": {},
     "output_type": "execute_result"
    }
   ],
   "source": [
    "df1.isna().sum()"
   ]
  },
  {
   "cell_type": "markdown",
   "id": "867e0dc2",
   "metadata": {},
   "source": [
    "Vemos que no hay nulos ni 0, pero podria haber espacios vacios con espacios, reemplazamos estor valores:"
   ]
  },
  {
   "cell_type": "code",
   "execution_count": 16,
   "id": "4a910c12",
   "metadata": {},
   "outputs": [],
   "source": [
    "df1 = df1.replace(r'^\\s*$', np.nan, regex=True)"
   ]
  },
  {
   "cell_type": "markdown",
   "id": "654e6468",
   "metadata": {},
   "source": [
    "Eliminamos la primera fila, que contiene los titulos"
   ]
  },
  {
   "cell_type": "code",
   "execution_count": 17,
   "id": "599f977a",
   "metadata": {},
   "outputs": [],
   "source": [
    "df1 = df1.drop(index=0).reset_index(drop=True)"
   ]
  },
  {
   "cell_type": "code",
   "execution_count": 18,
   "id": "a4530826",
   "metadata": {},
   "outputs": [
    {
     "data": {
      "application/vnd.microsoft.datawrangler.viewer.v0+json": {
       "columns": [
        {
         "name": "index",
         "rawType": "object",
         "type": "string"
        },
        {
         "name": "0",
         "rawType": "int64",
         "type": "integer"
        }
       ],
       "ref": "d0253ea4-83a7-4c84-b105-f820b7b051e5",
       "rows": [
        [
         "Brand",
         "0"
        ],
        [
         "Description",
         "1"
        ],
        [
         "Price",
         "0"
        ],
        [
         "Size",
         "1"
        ],
        [
         "Volume",
         "0"
        ],
        [
         "Classification",
         "0"
        ],
        [
         "PurchasePrice",
         "0"
        ],
        [
         "VendorNumber",
         "0"
        ],
        [
         "VendorName",
         "0"
        ],
        [
         "fecha_actualizacion",
         "0"
        ]
       ],
       "shape": {
        "columns": 1,
        "rows": 10
       }
      },
      "text/plain": [
       "Brand                  0\n",
       "Description            1\n",
       "Price                  0\n",
       "Size                   1\n",
       "Volume                 0\n",
       "Classification         0\n",
       "PurchasePrice          0\n",
       "VendorNumber           0\n",
       "VendorName             0\n",
       "fecha_actualizacion    0\n",
       "dtype: int64"
      ]
     },
     "execution_count": 18,
     "metadata": {},
     "output_type": "execute_result"
    }
   ],
   "source": [
    "df1.isna().sum()"
   ]
  },
  {
   "cell_type": "code",
   "execution_count": 19,
   "id": "6b74a532",
   "metadata": {},
   "outputs": [
    {
     "data": {
      "application/vnd.microsoft.datawrangler.viewer.v0+json": {
       "columns": [
        {
         "name": "index",
         "rawType": "object",
         "type": "string"
        },
        {
         "name": "0",
         "rawType": "int64",
         "type": "integer"
        }
       ],
       "ref": "cb946b41-ae98-4820-84b5-7f6e95090c26",
       "rows": [
        [
         "Brand",
         "0"
        ],
        [
         "Description",
         "1"
        ],
        [
         "Price",
         "0"
        ],
        [
         "Size",
         "1"
        ],
        [
         "Volume",
         "0"
        ],
        [
         "Classification",
         "0"
        ],
        [
         "PurchasePrice",
         "0"
        ],
        [
         "VendorNumber",
         "0"
        ],
        [
         "VendorName",
         "0"
        ],
        [
         "fecha_actualizacion",
         "0"
        ]
       ],
       "shape": {
        "columns": 1,
        "rows": 10
       }
      },
      "text/plain": [
       "Brand                  0\n",
       "Description            1\n",
       "Price                  0\n",
       "Size                   1\n",
       "Volume                 0\n",
       "Classification         0\n",
       "PurchasePrice          0\n",
       "VendorNumber           0\n",
       "VendorName             0\n",
       "fecha_actualizacion    0\n",
       "dtype: int64"
      ]
     },
     "execution_count": 19,
     "metadata": {},
     "output_type": "execute_result"
    }
   ],
   "source": [
    "df1.isnull().sum()"
   ]
  },
  {
   "cell_type": "markdown",
   "id": "a171439a",
   "metadata": {},
   "source": [
    "Encontramos valores nulos y na, buscamos cual es antes de tomar una decisión:"
   ]
  },
  {
   "cell_type": "code",
   "execution_count": 20,
   "id": "1e723238",
   "metadata": {},
   "outputs": [
    {
     "data": {
      "application/vnd.microsoft.datawrangler.viewer.v0+json": {
       "columns": [
        {
         "name": "index",
         "rawType": "int64",
         "type": "integer"
        },
        {
         "name": "Brand",
         "rawType": "int64",
         "type": "integer"
        },
        {
         "name": "Description",
         "rawType": "object",
         "type": "unknown"
        },
        {
         "name": "Price",
         "rawType": "float64",
         "type": "float"
        },
        {
         "name": "Size",
         "rawType": "object",
         "type": "unknown"
        },
        {
         "name": "Volume",
         "rawType": "int64",
         "type": "integer"
        },
        {
         "name": "Classification",
         "rawType": "int64",
         "type": "integer"
        },
        {
         "name": "PurchasePrice",
         "rawType": "float64",
         "type": "float"
        },
        {
         "name": "VendorNumber",
         "rawType": "int64",
         "type": "integer"
        },
        {
         "name": "VendorName",
         "rawType": "object",
         "type": "string"
        },
        {
         "name": "fecha_actualizacion",
         "rawType": "datetime64[ns]",
         "type": "datetime"
        }
       ],
       "ref": "d17a252d-9a06-49ae-92f3-2a8713b8e959",
       "rows": [
        [
         "1186",
         "4202",
         null,
         "0.0",
         null,
         "0",
         "1",
         "11.19",
         "480",
         "BACARDI USA INC            \"\r\n17989,\"Porta Vita Bianco",
         "2025-05-27 18:54:32"
        ]
       ],
       "shape": {
        "columns": 10,
        "rows": 1
       }
      },
      "text/html": [
       "<div>\n",
       "<style scoped>\n",
       "    .dataframe tbody tr th:only-of-type {\n",
       "        vertical-align: middle;\n",
       "    }\n",
       "\n",
       "    .dataframe tbody tr th {\n",
       "        vertical-align: top;\n",
       "    }\n",
       "\n",
       "    .dataframe thead th {\n",
       "        text-align: right;\n",
       "    }\n",
       "</style>\n",
       "<table border=\"1\" class=\"dataframe\">\n",
       "  <thead>\n",
       "    <tr style=\"text-align: right;\">\n",
       "      <th></th>\n",
       "      <th>Brand</th>\n",
       "      <th>Description</th>\n",
       "      <th>Price</th>\n",
       "      <th>Size</th>\n",
       "      <th>Volume</th>\n",
       "      <th>Classification</th>\n",
       "      <th>PurchasePrice</th>\n",
       "      <th>VendorNumber</th>\n",
       "      <th>VendorName</th>\n",
       "      <th>fecha_actualizacion</th>\n",
       "    </tr>\n",
       "  </thead>\n",
       "  <tbody>\n",
       "    <tr>\n",
       "      <th>1186</th>\n",
       "      <td>4202</td>\n",
       "      <td>NaN</td>\n",
       "      <td>0.0</td>\n",
       "      <td>NaN</td>\n",
       "      <td>0</td>\n",
       "      <td>1</td>\n",
       "      <td>11.19</td>\n",
       "      <td>480</td>\n",
       "      <td>BACARDI USA INC            \"\\r\\n17989,\"Porta V...</td>\n",
       "      <td>2025-05-27 18:54:32</td>\n",
       "    </tr>\n",
       "  </tbody>\n",
       "</table>\n",
       "</div>"
      ],
      "text/plain": [
       "      Brand Description  Price Size  Volume  Classification  PurchasePrice  \\\n",
       "1186   4202         NaN    0.0  NaN       0               1          11.19   \n",
       "\n",
       "      VendorNumber                                         VendorName  \\\n",
       "1186           480  BACARDI USA INC            \"\\r\\n17989,\"Porta V...   \n",
       "\n",
       "     fecha_actualizacion  \n",
       "1186 2025-05-27 18:54:32  "
      ]
     },
     "execution_count": 20,
     "metadata": {},
     "output_type": "execute_result"
    }
   ],
   "source": [
    "df1.loc[df1['Description'].isna()]"
   ]
  },
  {
   "cell_type": "markdown",
   "id": "c3e22bdf",
   "metadata": {},
   "source": [
    "Observamos que no tenemos mucha informacion de esta, la borramos:"
   ]
  },
  {
   "cell_type": "code",
   "execution_count": 21,
   "id": "fb7a931e",
   "metadata": {},
   "outputs": [],
   "source": [
    "df1 = df1.dropna()"
   ]
  },
  {
   "cell_type": "code",
   "execution_count": 22,
   "id": "1b172baa",
   "metadata": {},
   "outputs": [
    {
     "data": {
      "text/plain": [
       "(6129, 10)"
      ]
     },
     "execution_count": 22,
     "metadata": {},
     "output_type": "execute_result"
    }
   ],
   "source": [
    "np.shape(df1)"
   ]
  },
  {
   "cell_type": "code",
   "execution_count": 23,
   "id": "56e4f2b7",
   "metadata": {},
   "outputs": [
    {
     "data": {
      "application/vnd.microsoft.datawrangler.viewer.v0+json": {
       "columns": [
        {
         "name": "index",
         "rawType": "int64",
         "type": "integer"
        },
        {
         "name": "Brand",
         "rawType": "int64",
         "type": "integer"
        },
        {
         "name": "Description",
         "rawType": "object",
         "type": "string"
        },
        {
         "name": "Price",
         "rawType": "float64",
         "type": "float"
        },
        {
         "name": "Size",
         "rawType": "object",
         "type": "string"
        },
        {
         "name": "Volume",
         "rawType": "int64",
         "type": "integer"
        },
        {
         "name": "Classification",
         "rawType": "int64",
         "type": "integer"
        },
        {
         "name": "PurchasePrice",
         "rawType": "float64",
         "type": "float"
        },
        {
         "name": "VendorNumber",
         "rawType": "int64",
         "type": "integer"
        },
        {
         "name": "VendorName",
         "rawType": "object",
         "type": "string"
        },
        {
         "name": "fecha_actualizacion",
         "rawType": "datetime64[ns]",
         "type": "datetime"
        }
       ],
       "ref": "fb712410-7c48-4e6c-af23-115d22c59c2e",
       "rows": [
        [
         "0",
         "61",
         "Margaritaville Silver",
         "13.99",
         "750mL",
         "750",
         "1",
         "10.6",
         "8004",
         "SAZERAC CO INC             \"\r\n122,\"DeKuyper Mixed Berry Medley",
         "2025-05-27 18:54:32"
        ],
        [
         "1",
         "62",
         "Herradura Silver Tequila",
         "36.99",
         "750mL",
         "750",
         "1",
         "28.67",
         "1128",
         "BROWN-FORMAN CORP          \"\r\n63,\"Herradura Reposado Tequila",
         "2025-05-27 18:54:32"
        ],
        [
         "2",
         "68",
         "Luxardo Triplum Triple Sec",
         "24.99",
         "750mL",
         "750",
         "1",
         "18.93",
         "9165",
         "ULTRA BEVERAGE COMPANY LLP \"\r\n97,\"Smirnoff Passion Fruit Vodka",
         "2025-05-27 18:54:32"
        ],
        [
         "3",
         "70",
         "Luxardo Amaretto di Saschira",
         "18.99",
         "750mL",
         "750",
         "1",
         "13.96",
         "9165",
         "ULTRA BEVERAGE COMPANY LLP \"\r\n3535,\"Ricura Cream Liqueur",
         "2025-05-27 18:54:32"
        ],
        [
         "4",
         "72",
         "No. 3 London Dry Gin",
         "34.99",
         "750mL",
         "750",
         "1",
         "26.11",
         "9165",
         "ULTRA BEVERAGE COMPANY LLP \"\r\n75,\"Three Olives Tomato Vodka",
         "2025-05-27 18:54:32"
        ]
       ],
       "shape": {
        "columns": 10,
        "rows": 5
       }
      },
      "text/html": [
       "<div>\n",
       "<style scoped>\n",
       "    .dataframe tbody tr th:only-of-type {\n",
       "        vertical-align: middle;\n",
       "    }\n",
       "\n",
       "    .dataframe tbody tr th {\n",
       "        vertical-align: top;\n",
       "    }\n",
       "\n",
       "    .dataframe thead th {\n",
       "        text-align: right;\n",
       "    }\n",
       "</style>\n",
       "<table border=\"1\" class=\"dataframe\">\n",
       "  <thead>\n",
       "    <tr style=\"text-align: right;\">\n",
       "      <th></th>\n",
       "      <th>Brand</th>\n",
       "      <th>Description</th>\n",
       "      <th>Price</th>\n",
       "      <th>Size</th>\n",
       "      <th>Volume</th>\n",
       "      <th>Classification</th>\n",
       "      <th>PurchasePrice</th>\n",
       "      <th>VendorNumber</th>\n",
       "      <th>VendorName</th>\n",
       "      <th>fecha_actualizacion</th>\n",
       "    </tr>\n",
       "  </thead>\n",
       "  <tbody>\n",
       "    <tr>\n",
       "      <th>0</th>\n",
       "      <td>61</td>\n",
       "      <td>Margaritaville Silver</td>\n",
       "      <td>13.99</td>\n",
       "      <td>750mL</td>\n",
       "      <td>750</td>\n",
       "      <td>1</td>\n",
       "      <td>10.60</td>\n",
       "      <td>8004</td>\n",
       "      <td>SAZERAC CO INC             \"\\r\\n122,\"DeKuyper ...</td>\n",
       "      <td>2025-05-27 18:54:32</td>\n",
       "    </tr>\n",
       "    <tr>\n",
       "      <th>1</th>\n",
       "      <td>62</td>\n",
       "      <td>Herradura Silver Tequila</td>\n",
       "      <td>36.99</td>\n",
       "      <td>750mL</td>\n",
       "      <td>750</td>\n",
       "      <td>1</td>\n",
       "      <td>28.67</td>\n",
       "      <td>1128</td>\n",
       "      <td>BROWN-FORMAN CORP          \"\\r\\n63,\"Herradura ...</td>\n",
       "      <td>2025-05-27 18:54:32</td>\n",
       "    </tr>\n",
       "    <tr>\n",
       "      <th>2</th>\n",
       "      <td>68</td>\n",
       "      <td>Luxardo Triplum Triple Sec</td>\n",
       "      <td>24.99</td>\n",
       "      <td>750mL</td>\n",
       "      <td>750</td>\n",
       "      <td>1</td>\n",
       "      <td>18.93</td>\n",
       "      <td>9165</td>\n",
       "      <td>ULTRA BEVERAGE COMPANY LLP \"\\r\\n97,\"Smirnoff P...</td>\n",
       "      <td>2025-05-27 18:54:32</td>\n",
       "    </tr>\n",
       "    <tr>\n",
       "      <th>3</th>\n",
       "      <td>70</td>\n",
       "      <td>Luxardo Amaretto di Saschira</td>\n",
       "      <td>18.99</td>\n",
       "      <td>750mL</td>\n",
       "      <td>750</td>\n",
       "      <td>1</td>\n",
       "      <td>13.96</td>\n",
       "      <td>9165</td>\n",
       "      <td>ULTRA BEVERAGE COMPANY LLP \"\\r\\n3535,\"Ricura C...</td>\n",
       "      <td>2025-05-27 18:54:32</td>\n",
       "    </tr>\n",
       "    <tr>\n",
       "      <th>4</th>\n",
       "      <td>72</td>\n",
       "      <td>No. 3 London Dry Gin</td>\n",
       "      <td>34.99</td>\n",
       "      <td>750mL</td>\n",
       "      <td>750</td>\n",
       "      <td>1</td>\n",
       "      <td>26.11</td>\n",
       "      <td>9165</td>\n",
       "      <td>ULTRA BEVERAGE COMPANY LLP \"\\r\\n75,\"Three Oliv...</td>\n",
       "      <td>2025-05-27 18:54:32</td>\n",
       "    </tr>\n",
       "  </tbody>\n",
       "</table>\n",
       "</div>"
      ],
      "text/plain": [
       "   Brand                   Description  Price   Size  Volume  Classification  \\\n",
       "0     61         Margaritaville Silver  13.99  750mL     750               1   \n",
       "1     62      Herradura Silver Tequila  36.99  750mL     750               1   \n",
       "2     68    Luxardo Triplum Triple Sec  24.99  750mL     750               1   \n",
       "3     70  Luxardo Amaretto di Saschira  18.99  750mL     750               1   \n",
       "4     72          No. 3 London Dry Gin  34.99  750mL     750               1   \n",
       "\n",
       "   PurchasePrice  VendorNumber  \\\n",
       "0          10.60          8004   \n",
       "1          28.67          1128   \n",
       "2          18.93          9165   \n",
       "3          13.96          9165   \n",
       "4          26.11          9165   \n",
       "\n",
       "                                          VendorName fecha_actualizacion  \n",
       "0  SAZERAC CO INC             \"\\r\\n122,\"DeKuyper ... 2025-05-27 18:54:32  \n",
       "1  BROWN-FORMAN CORP          \"\\r\\n63,\"Herradura ... 2025-05-27 18:54:32  \n",
       "2  ULTRA BEVERAGE COMPANY LLP \"\\r\\n97,\"Smirnoff P... 2025-05-27 18:54:32  \n",
       "3  ULTRA BEVERAGE COMPANY LLP \"\\r\\n3535,\"Ricura C... 2025-05-27 18:54:32  \n",
       "4  ULTRA BEVERAGE COMPANY LLP \"\\r\\n75,\"Three Oliv... 2025-05-27 18:54:32  "
      ]
     },
     "execution_count": 23,
     "metadata": {},
     "output_type": "execute_result"
    }
   ],
   "source": [
    "df1.head()"
   ]
  },
  {
   "cell_type": "code",
   "execution_count": 24,
   "id": "02baed71",
   "metadata": {},
   "outputs": [
    {
     "name": "stdout",
     "output_type": "stream",
     "text": [
      "['SAZERAC CO INC             \"\\r\\n122,\"DeKuyper Mixed Berry Medley'\n",
      " 'BROWN-FORMAN CORP          \"\\r\\n63,\"Herradura Reposado Tequila'\n",
      " 'ULTRA BEVERAGE COMPANY LLP \"\\r\\n97,\"Smirnoff Passion Fruit Vodka' ...\n",
      " 'MARTIGNETTI COMPANIES\"\\r\\n5837,\"Leroux Cherry Brandy'\n",
      " 'IRA GOLDMAN AND WILLIAMS, LLP          \"\\r\\n21835,\"Ch St Jean Bijou Chard'\n",
      " 'ULTRA BEVERAGE COMPANY LLP \"\\r\\n5992,\"Kaikouzu Potato Shochu']\n"
     ]
    }
   ],
   "source": [
    "print(df1['VendorName'].unique())"
   ]
  },
  {
   "cell_type": "code",
   "execution_count": 25,
   "id": "89aff5dd",
   "metadata": {},
   "outputs": [],
   "source": [
    "df1['VendorName'] = df1['VendorName'].astype(str).str.extract(r'^([^\\r\\n]*)')[0].str.strip('\"')\n"
   ]
  },
  {
   "cell_type": "code",
   "execution_count": 26,
   "id": "47c92c84",
   "metadata": {},
   "outputs": [
    {
     "data": {
      "application/vnd.microsoft.datawrangler.viewer.v0+json": {
       "columns": [
        {
         "name": "index",
         "rawType": "int64",
         "type": "integer"
        },
        {
         "name": "Brand",
         "rawType": "int64",
         "type": "integer"
        },
        {
         "name": "Description",
         "rawType": "object",
         "type": "string"
        },
        {
         "name": "Price",
         "rawType": "float64",
         "type": "float"
        },
        {
         "name": "Size",
         "rawType": "object",
         "type": "string"
        },
        {
         "name": "Volume",
         "rawType": "int64",
         "type": "integer"
        },
        {
         "name": "Classification",
         "rawType": "int64",
         "type": "integer"
        },
        {
         "name": "PurchasePrice",
         "rawType": "float64",
         "type": "float"
        },
        {
         "name": "VendorNumber",
         "rawType": "int64",
         "type": "integer"
        },
        {
         "name": "VendorName",
         "rawType": "object",
         "type": "string"
        },
        {
         "name": "fecha_actualizacion",
         "rawType": "datetime64[ns]",
         "type": "datetime"
        }
       ],
       "ref": "0e6834a6-b5f3-4c4e-a38a-101ef9fce04b",
       "rows": [
        [
         "0",
         "61",
         "Margaritaville Silver",
         "13.99",
         "750mL",
         "750",
         "1",
         "10.6",
         "8004",
         "SAZERAC CO INC             ",
         "2025-05-27 18:54:32"
        ],
        [
         "1",
         "62",
         "Herradura Silver Tequila",
         "36.99",
         "750mL",
         "750",
         "1",
         "28.67",
         "1128",
         "BROWN-FORMAN CORP          ",
         "2025-05-27 18:54:32"
        ],
        [
         "2",
         "68",
         "Luxardo Triplum Triple Sec",
         "24.99",
         "750mL",
         "750",
         "1",
         "18.93",
         "9165",
         "ULTRA BEVERAGE COMPANY LLP ",
         "2025-05-27 18:54:32"
        ],
        [
         "3",
         "70",
         "Luxardo Amaretto di Saschira",
         "18.99",
         "750mL",
         "750",
         "1",
         "13.96",
         "9165",
         "ULTRA BEVERAGE COMPANY LLP ",
         "2025-05-27 18:54:32"
        ],
        [
         "4",
         "72",
         "No. 3 London Dry Gin",
         "34.99",
         "750mL",
         "750",
         "1",
         "26.11",
         "9165",
         "ULTRA BEVERAGE COMPANY LLP ",
         "2025-05-27 18:54:32"
        ]
       ],
       "shape": {
        "columns": 10,
        "rows": 5
       }
      },
      "text/html": [
       "<div>\n",
       "<style scoped>\n",
       "    .dataframe tbody tr th:only-of-type {\n",
       "        vertical-align: middle;\n",
       "    }\n",
       "\n",
       "    .dataframe tbody tr th {\n",
       "        vertical-align: top;\n",
       "    }\n",
       "\n",
       "    .dataframe thead th {\n",
       "        text-align: right;\n",
       "    }\n",
       "</style>\n",
       "<table border=\"1\" class=\"dataframe\">\n",
       "  <thead>\n",
       "    <tr style=\"text-align: right;\">\n",
       "      <th></th>\n",
       "      <th>Brand</th>\n",
       "      <th>Description</th>\n",
       "      <th>Price</th>\n",
       "      <th>Size</th>\n",
       "      <th>Volume</th>\n",
       "      <th>Classification</th>\n",
       "      <th>PurchasePrice</th>\n",
       "      <th>VendorNumber</th>\n",
       "      <th>VendorName</th>\n",
       "      <th>fecha_actualizacion</th>\n",
       "    </tr>\n",
       "  </thead>\n",
       "  <tbody>\n",
       "    <tr>\n",
       "      <th>0</th>\n",
       "      <td>61</td>\n",
       "      <td>Margaritaville Silver</td>\n",
       "      <td>13.99</td>\n",
       "      <td>750mL</td>\n",
       "      <td>750</td>\n",
       "      <td>1</td>\n",
       "      <td>10.60</td>\n",
       "      <td>8004</td>\n",
       "      <td>SAZERAC CO INC</td>\n",
       "      <td>2025-05-27 18:54:32</td>\n",
       "    </tr>\n",
       "    <tr>\n",
       "      <th>1</th>\n",
       "      <td>62</td>\n",
       "      <td>Herradura Silver Tequila</td>\n",
       "      <td>36.99</td>\n",
       "      <td>750mL</td>\n",
       "      <td>750</td>\n",
       "      <td>1</td>\n",
       "      <td>28.67</td>\n",
       "      <td>1128</td>\n",
       "      <td>BROWN-FORMAN CORP</td>\n",
       "      <td>2025-05-27 18:54:32</td>\n",
       "    </tr>\n",
       "    <tr>\n",
       "      <th>2</th>\n",
       "      <td>68</td>\n",
       "      <td>Luxardo Triplum Triple Sec</td>\n",
       "      <td>24.99</td>\n",
       "      <td>750mL</td>\n",
       "      <td>750</td>\n",
       "      <td>1</td>\n",
       "      <td>18.93</td>\n",
       "      <td>9165</td>\n",
       "      <td>ULTRA BEVERAGE COMPANY LLP</td>\n",
       "      <td>2025-05-27 18:54:32</td>\n",
       "    </tr>\n",
       "    <tr>\n",
       "      <th>3</th>\n",
       "      <td>70</td>\n",
       "      <td>Luxardo Amaretto di Saschira</td>\n",
       "      <td>18.99</td>\n",
       "      <td>750mL</td>\n",
       "      <td>750</td>\n",
       "      <td>1</td>\n",
       "      <td>13.96</td>\n",
       "      <td>9165</td>\n",
       "      <td>ULTRA BEVERAGE COMPANY LLP</td>\n",
       "      <td>2025-05-27 18:54:32</td>\n",
       "    </tr>\n",
       "    <tr>\n",
       "      <th>4</th>\n",
       "      <td>72</td>\n",
       "      <td>No. 3 London Dry Gin</td>\n",
       "      <td>34.99</td>\n",
       "      <td>750mL</td>\n",
       "      <td>750</td>\n",
       "      <td>1</td>\n",
       "      <td>26.11</td>\n",
       "      <td>9165</td>\n",
       "      <td>ULTRA BEVERAGE COMPANY LLP</td>\n",
       "      <td>2025-05-27 18:54:32</td>\n",
       "    </tr>\n",
       "  </tbody>\n",
       "</table>\n",
       "</div>"
      ],
      "text/plain": [
       "   Brand                   Description  Price   Size  Volume  Classification  \\\n",
       "0     61         Margaritaville Silver  13.99  750mL     750               1   \n",
       "1     62      Herradura Silver Tequila  36.99  750mL     750               1   \n",
       "2     68    Luxardo Triplum Triple Sec  24.99  750mL     750               1   \n",
       "3     70  Luxardo Amaretto di Saschira  18.99  750mL     750               1   \n",
       "4     72          No. 3 London Dry Gin  34.99  750mL     750               1   \n",
       "\n",
       "   PurchasePrice  VendorNumber                   VendorName  \\\n",
       "0          10.60          8004  SAZERAC CO INC                \n",
       "1          28.67          1128  BROWN-FORMAN CORP             \n",
       "2          18.93          9165  ULTRA BEVERAGE COMPANY LLP    \n",
       "3          13.96          9165  ULTRA BEVERAGE COMPANY LLP    \n",
       "4          26.11          9165  ULTRA BEVERAGE COMPANY LLP    \n",
       "\n",
       "  fecha_actualizacion  \n",
       "0 2025-05-27 18:54:32  \n",
       "1 2025-05-27 18:54:32  \n",
       "2 2025-05-27 18:54:32  \n",
       "3 2025-05-27 18:54:32  \n",
       "4 2025-05-27 18:54:32  "
      ]
     },
     "execution_count": 26,
     "metadata": {},
     "output_type": "execute_result"
    }
   ],
   "source": [
    "df1.head()"
   ]
  },
  {
   "cell_type": "code",
   "execution_count": 27,
   "id": "5b788bcc",
   "metadata": {},
   "outputs": [
    {
     "name": "stdout",
     "output_type": "stream",
     "text": [
      "<class 'pandas.core.frame.DataFrame'>\n",
      "Index: 6129 entries, 0 to 6129\n",
      "Data columns (total 10 columns):\n",
      " #   Column               Non-Null Count  Dtype         \n",
      "---  ------               --------------  -----         \n",
      " 0   Brand                6129 non-null   int64         \n",
      " 1   Description          6129 non-null   object        \n",
      " 2   Price                6129 non-null   float64       \n",
      " 3   Size                 6129 non-null   object        \n",
      " 4   Volume               6129 non-null   int64         \n",
      " 5   Classification       6129 non-null   int64         \n",
      " 6   PurchasePrice        6129 non-null   float64       \n",
      " 7   VendorNumber         6129 non-null   int64         \n",
      " 8   VendorName           6129 non-null   object        \n",
      " 9   fecha_actualizacion  6129 non-null   datetime64[ns]\n",
      "dtypes: datetime64[ns](1), float64(2), int64(4), object(3)\n",
      "memory usage: 526.7+ KB\n"
     ]
    }
   ],
   "source": [
    "df1.info()"
   ]
  },
  {
   "cell_type": "code",
   "execution_count": 28,
   "id": "d3b94f99",
   "metadata": {},
   "outputs": [
    {
     "data": {
      "application/vnd.microsoft.datawrangler.viewer.v0+json": {
       "columns": [
        {
         "name": "index",
         "rawType": "int64",
         "type": "integer"
        },
        {
         "name": "Brand",
         "rawType": "int64",
         "type": "integer"
        },
        {
         "name": "Description",
         "rawType": "object",
         "type": "string"
        },
        {
         "name": "Price",
         "rawType": "float64",
         "type": "float"
        },
        {
         "name": "Size",
         "rawType": "object",
         "type": "string"
        },
        {
         "name": "Volume",
         "rawType": "int64",
         "type": "integer"
        },
        {
         "name": "Classification",
         "rawType": "int64",
         "type": "integer"
        },
        {
         "name": "PurchasePrice",
         "rawType": "float64",
         "type": "float"
        },
        {
         "name": "VendorNumber",
         "rawType": "int64",
         "type": "integer"
        },
        {
         "name": "VendorName",
         "rawType": "object",
         "type": "string"
        },
        {
         "name": "fecha_actualizacion",
         "rawType": "datetime64[ns]",
         "type": "datetime"
        }
       ],
       "ref": "0e592278-7687-4da9-9471-c52ce4ae69cc",
       "rows": [
        [
         "1960",
         "8992",
         "Group 92",
         "1.99",
         "Unknown",
         "0",
         "1",
         "1.43",
         "1703",
         "ALISA CARR BEVERAGES               ",
         "2025-05-27 18:54:32"
        ],
        [
         "1985",
         "9908",
         "Tito's Copper Mug 2 Pack",
         "21.01",
         "Unknown",
         "0",
         "1",
         "16.15",
         "4425",
         "MARTIGNETTI COMPANIES",
         "2025-05-27 18:54:32"
        ],
        [
         "6127",
         "90590",
         "Overture Champagne 2Glass Pk",
         "19.95",
         "Unknown",
         "0",
         "2",
         "13.12",
         "4425",
         "MARTIGNETTI COMPANIES",
         "2025-05-27 18:54:32"
        ]
       ],
       "shape": {
        "columns": 10,
        "rows": 3
       }
      },
      "text/html": [
       "<div>\n",
       "<style scoped>\n",
       "    .dataframe tbody tr th:only-of-type {\n",
       "        vertical-align: middle;\n",
       "    }\n",
       "\n",
       "    .dataframe tbody tr th {\n",
       "        vertical-align: top;\n",
       "    }\n",
       "\n",
       "    .dataframe thead th {\n",
       "        text-align: right;\n",
       "    }\n",
       "</style>\n",
       "<table border=\"1\" class=\"dataframe\">\n",
       "  <thead>\n",
       "    <tr style=\"text-align: right;\">\n",
       "      <th></th>\n",
       "      <th>Brand</th>\n",
       "      <th>Description</th>\n",
       "      <th>Price</th>\n",
       "      <th>Size</th>\n",
       "      <th>Volume</th>\n",
       "      <th>Classification</th>\n",
       "      <th>PurchasePrice</th>\n",
       "      <th>VendorNumber</th>\n",
       "      <th>VendorName</th>\n",
       "      <th>fecha_actualizacion</th>\n",
       "    </tr>\n",
       "  </thead>\n",
       "  <tbody>\n",
       "    <tr>\n",
       "      <th>1960</th>\n",
       "      <td>8992</td>\n",
       "      <td>Group 92</td>\n",
       "      <td>1.99</td>\n",
       "      <td>Unknown</td>\n",
       "      <td>0</td>\n",
       "      <td>1</td>\n",
       "      <td>1.43</td>\n",
       "      <td>1703</td>\n",
       "      <td>ALISA CARR BEVERAGES</td>\n",
       "      <td>2025-05-27 18:54:32</td>\n",
       "    </tr>\n",
       "    <tr>\n",
       "      <th>1985</th>\n",
       "      <td>9908</td>\n",
       "      <td>Tito's Copper Mug 2 Pack</td>\n",
       "      <td>21.01</td>\n",
       "      <td>Unknown</td>\n",
       "      <td>0</td>\n",
       "      <td>1</td>\n",
       "      <td>16.15</td>\n",
       "      <td>4425</td>\n",
       "      <td>MARTIGNETTI COMPANIES</td>\n",
       "      <td>2025-05-27 18:54:32</td>\n",
       "    </tr>\n",
       "    <tr>\n",
       "      <th>6127</th>\n",
       "      <td>90590</td>\n",
       "      <td>Overture Champagne 2Glass Pk</td>\n",
       "      <td>19.95</td>\n",
       "      <td>Unknown</td>\n",
       "      <td>0</td>\n",
       "      <td>2</td>\n",
       "      <td>13.12</td>\n",
       "      <td>4425</td>\n",
       "      <td>MARTIGNETTI COMPANIES</td>\n",
       "      <td>2025-05-27 18:54:32</td>\n",
       "    </tr>\n",
       "  </tbody>\n",
       "</table>\n",
       "</div>"
      ],
      "text/plain": [
       "      Brand                   Description  Price     Size  Volume  \\\n",
       "1960   8992                      Group 92   1.99  Unknown       0   \n",
       "1985   9908      Tito's Copper Mug 2 Pack  21.01  Unknown       0   \n",
       "6127  90590  Overture Champagne 2Glass Pk  19.95  Unknown       0   \n",
       "\n",
       "      Classification  PurchasePrice  VendorNumber  \\\n",
       "1960               1           1.43          1703   \n",
       "1985               1          16.15          4425   \n",
       "6127               2          13.12          4425   \n",
       "\n",
       "                               VendorName fecha_actualizacion  \n",
       "1960  ALISA CARR BEVERAGES                2025-05-27 18:54:32  \n",
       "1985                MARTIGNETTI COMPANIES 2025-05-27 18:54:32  \n",
       "6127                MARTIGNETTI COMPANIES 2025-05-27 18:54:32  "
      ]
     },
     "execution_count": 28,
     "metadata": {},
     "output_type": "execute_result"
    }
   ],
   "source": [
    "df1[(df1['Volume'].isnull()) | (df1['Volume'] == 0)]"
   ]
  },
  {
   "cell_type": "code",
   "execution_count": 39,
   "id": "147c9d80",
   "metadata": {},
   "outputs": [
    {
     "data": {
      "application/vnd.microsoft.datawrangler.viewer.v0+json": {
       "columns": [
        {
         "name": "index",
         "rawType": "int64",
         "type": "integer"
        },
        {
         "name": "Brand",
         "rawType": "int64",
         "type": "integer"
        },
        {
         "name": "Description",
         "rawType": "object",
         "type": "string"
        },
        {
         "name": "Price",
         "rawType": "float64",
         "type": "float"
        },
        {
         "name": "Size",
         "rawType": "object",
         "type": "string"
        },
        {
         "name": "Volume",
         "rawType": "int64",
         "type": "integer"
        },
        {
         "name": "Classification",
         "rawType": "int64",
         "type": "integer"
        },
        {
         "name": "PurchasePrice",
         "rawType": "float64",
         "type": "float"
        },
        {
         "name": "VendorNumber",
         "rawType": "int64",
         "type": "integer"
        },
        {
         "name": "VendorName",
         "rawType": "object",
         "type": "string"
        },
        {
         "name": "fecha_actualizacion",
         "rawType": "datetime64[ns]",
         "type": "datetime"
        }
       ],
       "ref": "6f7c4f10-9fe7-459d-993d-384588cd5177",
       "rows": [
        [
         "6127",
         "90590",
         "Overture Champagne 2Glass Pk",
         "19.95",
         "Unknown",
         "0",
         "2",
         "13.12",
         "4425",
         "MARTIGNETTI COMPANIES",
         "2025-05-27 18:54:32"
        ]
       ],
       "shape": {
        "columns": 10,
        "rows": 1
       }
      },
      "text/html": [
       "<div>\n",
       "<style scoped>\n",
       "    .dataframe tbody tr th:only-of-type {\n",
       "        vertical-align: middle;\n",
       "    }\n",
       "\n",
       "    .dataframe tbody tr th {\n",
       "        vertical-align: top;\n",
       "    }\n",
       "\n",
       "    .dataframe thead th {\n",
       "        text-align: right;\n",
       "    }\n",
       "</style>\n",
       "<table border=\"1\" class=\"dataframe\">\n",
       "  <thead>\n",
       "    <tr style=\"text-align: right;\">\n",
       "      <th></th>\n",
       "      <th>Brand</th>\n",
       "      <th>Description</th>\n",
       "      <th>Price</th>\n",
       "      <th>Size</th>\n",
       "      <th>Volume</th>\n",
       "      <th>Classification</th>\n",
       "      <th>PurchasePrice</th>\n",
       "      <th>VendorNumber</th>\n",
       "      <th>VendorName</th>\n",
       "      <th>fecha_actualizacion</th>\n",
       "    </tr>\n",
       "  </thead>\n",
       "  <tbody>\n",
       "    <tr>\n",
       "      <th>6127</th>\n",
       "      <td>90590</td>\n",
       "      <td>Overture Champagne 2Glass Pk</td>\n",
       "      <td>19.95</td>\n",
       "      <td>Unknown</td>\n",
       "      <td>0</td>\n",
       "      <td>2</td>\n",
       "      <td>13.12</td>\n",
       "      <td>4425</td>\n",
       "      <td>MARTIGNETTI COMPANIES</td>\n",
       "      <td>2025-05-27 18:54:32</td>\n",
       "    </tr>\n",
       "  </tbody>\n",
       "</table>\n",
       "</div>"
      ],
      "text/plain": [
       "      Brand                   Description  Price     Size  Volume  \\\n",
       "6127  90590  Overture Champagne 2Glass Pk  19.95  Unknown       0   \n",
       "\n",
       "      Classification  PurchasePrice  VendorNumber             VendorName  \\\n",
       "6127               2          13.12          4425  MARTIGNETTI COMPANIES   \n",
       "\n",
       "     fecha_actualizacion  \n",
       "6127 2025-05-27 18:54:32  "
      ]
     },
     "execution_count": 39,
     "metadata": {},
     "output_type": "execute_result"
    }
   ],
   "source": [
    "df1[df1['Description'].str.contains('Overture', case=False, na=False)]"
   ]
  },
  {
   "cell_type": "code",
   "execution_count": 42,
   "id": "76e6751a",
   "metadata": {},
   "outputs": [
    {
     "data": {
      "application/vnd.microsoft.datawrangler.viewer.v0+json": {
       "columns": [
        {
         "name": "index",
         "rawType": "int64",
         "type": "integer"
        },
        {
         "name": "Brand",
         "rawType": "int64",
         "type": "integer"
        },
        {
         "name": "Description",
         "rawType": "object",
         "type": "string"
        },
        {
         "name": "Price",
         "rawType": "float64",
         "type": "float"
        },
        {
         "name": "Size",
         "rawType": "object",
         "type": "string"
        },
        {
         "name": "Volume",
         "rawType": "int64",
         "type": "integer"
        },
        {
         "name": "Classification",
         "rawType": "int64",
         "type": "integer"
        },
        {
         "name": "PurchasePrice",
         "rawType": "float64",
         "type": "float"
        },
        {
         "name": "VendorNumber",
         "rawType": "int64",
         "type": "integer"
        },
        {
         "name": "VendorName",
         "rawType": "object",
         "type": "string"
        },
        {
         "name": "fecha_actualizacion",
         "rawType": "datetime64[ns]",
         "type": "datetime"
        }
       ],
       "ref": "e3f9dbaf-3766-44fc-9b7f-ee60f930211b",
       "rows": [
        [
         "1960",
         "8992",
         "Group 92",
         "1.99",
         "Unknown",
         "0",
         "1",
         "1.43",
         "1703",
         "ALISA CARR BEVERAGES               ",
         "2025-05-27 18:54:32"
        ],
        [
         "1985",
         "9908",
         "Tito's Copper Mug 2 Pack",
         "21.01",
         "Unknown",
         "0",
         "1",
         "16.15",
         "4425",
         "MARTIGNETTI COMPANIES",
         "2025-05-27 18:54:32"
        ],
        [
         "6127",
         "90590",
         "Overture Champagne 2Glass Pk",
         "19.95",
         "Unknown",
         "0",
         "2",
         "13.12",
         "4425",
         "MARTIGNETTI COMPANIES",
         "2025-05-27 18:54:32"
        ]
       ],
       "shape": {
        "columns": 10,
        "rows": 3
       }
      },
      "text/html": [
       "<div>\n",
       "<style scoped>\n",
       "    .dataframe tbody tr th:only-of-type {\n",
       "        vertical-align: middle;\n",
       "    }\n",
       "\n",
       "    .dataframe tbody tr th {\n",
       "        vertical-align: top;\n",
       "    }\n",
       "\n",
       "    .dataframe thead th {\n",
       "        text-align: right;\n",
       "    }\n",
       "</style>\n",
       "<table border=\"1\" class=\"dataframe\">\n",
       "  <thead>\n",
       "    <tr style=\"text-align: right;\">\n",
       "      <th></th>\n",
       "      <th>Brand</th>\n",
       "      <th>Description</th>\n",
       "      <th>Price</th>\n",
       "      <th>Size</th>\n",
       "      <th>Volume</th>\n",
       "      <th>Classification</th>\n",
       "      <th>PurchasePrice</th>\n",
       "      <th>VendorNumber</th>\n",
       "      <th>VendorName</th>\n",
       "      <th>fecha_actualizacion</th>\n",
       "    </tr>\n",
       "  </thead>\n",
       "  <tbody>\n",
       "    <tr>\n",
       "      <th>1960</th>\n",
       "      <td>8992</td>\n",
       "      <td>Group 92</td>\n",
       "      <td>1.99</td>\n",
       "      <td>Unknown</td>\n",
       "      <td>0</td>\n",
       "      <td>1</td>\n",
       "      <td>1.43</td>\n",
       "      <td>1703</td>\n",
       "      <td>ALISA CARR BEVERAGES</td>\n",
       "      <td>2025-05-27 18:54:32</td>\n",
       "    </tr>\n",
       "    <tr>\n",
       "      <th>1985</th>\n",
       "      <td>9908</td>\n",
       "      <td>Tito's Copper Mug 2 Pack</td>\n",
       "      <td>21.01</td>\n",
       "      <td>Unknown</td>\n",
       "      <td>0</td>\n",
       "      <td>1</td>\n",
       "      <td>16.15</td>\n",
       "      <td>4425</td>\n",
       "      <td>MARTIGNETTI COMPANIES</td>\n",
       "      <td>2025-05-27 18:54:32</td>\n",
       "    </tr>\n",
       "    <tr>\n",
       "      <th>6127</th>\n",
       "      <td>90590</td>\n",
       "      <td>Overture Champagne 2Glass Pk</td>\n",
       "      <td>19.95</td>\n",
       "      <td>Unknown</td>\n",
       "      <td>0</td>\n",
       "      <td>2</td>\n",
       "      <td>13.12</td>\n",
       "      <td>4425</td>\n",
       "      <td>MARTIGNETTI COMPANIES</td>\n",
       "      <td>2025-05-27 18:54:32</td>\n",
       "    </tr>\n",
       "  </tbody>\n",
       "</table>\n",
       "</div>"
      ],
      "text/plain": [
       "      Brand                   Description  Price     Size  Volume  \\\n",
       "1960   8992                      Group 92   1.99  Unknown       0   \n",
       "1985   9908      Tito's Copper Mug 2 Pack  21.01  Unknown       0   \n",
       "6127  90590  Overture Champagne 2Glass Pk  19.95  Unknown       0   \n",
       "\n",
       "      Classification  PurchasePrice  VendorNumber  \\\n",
       "1960               1           1.43          1703   \n",
       "1985               1          16.15          4425   \n",
       "6127               2          13.12          4425   \n",
       "\n",
       "                               VendorName fecha_actualizacion  \n",
       "1960  ALISA CARR BEVERAGES                2025-05-27 18:54:32  \n",
       "1985                MARTIGNETTI COMPANIES 2025-05-27 18:54:32  \n",
       "6127                MARTIGNETTI COMPANIES 2025-05-27 18:54:32  "
      ]
     },
     "execution_count": 42,
     "metadata": {},
     "output_type": "execute_result"
    }
   ],
   "source": [
    "df1[(df1['Volume'].isnull()) | (df1['Volume'] == 0)]"
   ]
  },
  {
   "cell_type": "markdown",
   "id": "7ea5d1ef",
   "metadata": {},
   "source": [
    "Como estos 3 datos estan faltantes en size y volume, elimino las filas"
   ]
  },
  {
   "cell_type": "code",
   "execution_count": 58,
   "id": "279f94b7",
   "metadata": {},
   "outputs": [],
   "source": [
    "df1 = df1.drop(df1[df1['Volume'] == 0].index)"
   ]
  },
  {
   "cell_type": "code",
   "execution_count": 59,
   "id": "396f6224",
   "metadata": {},
   "outputs": [
    {
     "data": {
      "text/plain": [
       "(6126, 10)"
      ]
     },
     "execution_count": 59,
     "metadata": {},
     "output_type": "execute_result"
    }
   ],
   "source": [
    "np.shape(df1)"
   ]
  },
  {
   "cell_type": "code",
   "execution_count": 61,
   "id": "6ffb8cdd",
   "metadata": {},
   "outputs": [
    {
     "data": {
      "application/vnd.microsoft.datawrangler.viewer.v0+json": {
       "columns": [
        {
         "name": "index",
         "rawType": "int64",
         "type": "integer"
        },
        {
         "name": "Brand",
         "rawType": "int64",
         "type": "integer"
        },
        {
         "name": "Description",
         "rawType": "object",
         "type": "string"
        },
        {
         "name": "Price",
         "rawType": "float64",
         "type": "float"
        },
        {
         "name": "Size",
         "rawType": "object",
         "type": "string"
        },
        {
         "name": "Volume",
         "rawType": "int64",
         "type": "integer"
        },
        {
         "name": "Classification",
         "rawType": "int64",
         "type": "integer"
        },
        {
         "name": "PurchasePrice",
         "rawType": "float64",
         "type": "float"
        },
        {
         "name": "VendorNumber",
         "rawType": "int64",
         "type": "integer"
        },
        {
         "name": "VendorName",
         "rawType": "object",
         "type": "string"
        },
        {
         "name": "fecha_actualizacion",
         "rawType": "datetime64[ns]",
         "type": "datetime"
        }
       ],
       "ref": "57214193-cb00-466e-8cf2-55a6720527dc",
       "rows": [
        [
         "526",
         "2166",
         "The Macallan Double Cask 12",
         "0.0",
         "750mL",
         "750",
         "1",
         "0.0",
         "2561",
         "EDRINGTON AMERICAS         ",
         "2025-05-27 18:54:32"
        ]
       ],
       "shape": {
        "columns": 10,
        "rows": 1
       }
      },
      "text/html": [
       "<div>\n",
       "<style scoped>\n",
       "    .dataframe tbody tr th:only-of-type {\n",
       "        vertical-align: middle;\n",
       "    }\n",
       "\n",
       "    .dataframe tbody tr th {\n",
       "        vertical-align: top;\n",
       "    }\n",
       "\n",
       "    .dataframe thead th {\n",
       "        text-align: right;\n",
       "    }\n",
       "</style>\n",
       "<table border=\"1\" class=\"dataframe\">\n",
       "  <thead>\n",
       "    <tr style=\"text-align: right;\">\n",
       "      <th></th>\n",
       "      <th>Brand</th>\n",
       "      <th>Description</th>\n",
       "      <th>Price</th>\n",
       "      <th>Size</th>\n",
       "      <th>Volume</th>\n",
       "      <th>Classification</th>\n",
       "      <th>PurchasePrice</th>\n",
       "      <th>VendorNumber</th>\n",
       "      <th>VendorName</th>\n",
       "      <th>fecha_actualizacion</th>\n",
       "    </tr>\n",
       "  </thead>\n",
       "  <tbody>\n",
       "    <tr>\n",
       "      <th>526</th>\n",
       "      <td>2166</td>\n",
       "      <td>The Macallan Double Cask 12</td>\n",
       "      <td>0.0</td>\n",
       "      <td>750mL</td>\n",
       "      <td>750</td>\n",
       "      <td>1</td>\n",
       "      <td>0.0</td>\n",
       "      <td>2561</td>\n",
       "      <td>EDRINGTON AMERICAS</td>\n",
       "      <td>2025-05-27 18:54:32</td>\n",
       "    </tr>\n",
       "  </tbody>\n",
       "</table>\n",
       "</div>"
      ],
      "text/plain": [
       "     Brand                  Description  Price   Size  Volume  Classification  \\\n",
       "526   2166  The Macallan Double Cask 12    0.0  750mL     750               1   \n",
       "\n",
       "     PurchasePrice  VendorNumber                   VendorName  \\\n",
       "526            0.0          2561  EDRINGTON AMERICAS            \n",
       "\n",
       "    fecha_actualizacion  \n",
       "526 2025-05-27 18:54:32  "
      ]
     },
     "execution_count": 61,
     "metadata": {},
     "output_type": "execute_result"
    }
   ],
   "source": [
    "df1[(df1['Price'].isnull()) | (df1['Price'] == 0)]"
   ]
  },
  {
   "cell_type": "markdown",
   "id": "6424a817",
   "metadata": {},
   "source": [
    "Elimino las filas con precio igual a 0"
   ]
  },
  {
   "cell_type": "code",
   "execution_count": 62,
   "id": "a9570481",
   "metadata": {},
   "outputs": [],
   "source": [
    "df1 = df1.drop(df1[df1['Price'] == 0].index)"
   ]
  },
  {
   "cell_type": "code",
   "execution_count": 65,
   "id": "33353fad",
   "metadata": {},
   "outputs": [
    {
     "name": "stdout",
     "output_type": "stream",
     "text": [
      "<class 'pandas.core.series.Series'>\n",
      "Index: 6125 entries, 0 to 6129\n",
      "Series name: Volume\n",
      "Non-Null Count  Dtype\n",
      "--------------  -----\n",
      "6125 non-null   int64\n",
      "dtypes: int64(1)\n",
      "memory usage: 95.7 KB\n",
      "None\n",
      "50\n",
      "18000\n"
     ]
    }
   ],
   "source": [
    "print(df1['Volume'].info())\n",
    "print(df1['Volume'].min())\n",
    "print(df1['Volume'].max())"
   ]
  },
  {
   "cell_type": "markdown",
   "id": "00a382de",
   "metadata": {},
   "source": [
    "## Aca finaliza la limpieza de PurchasePricesDec2017\n",
    "## Aca inicia la limpieza de PurchaseFINAL12312016\n"
   ]
  },
  {
   "cell_type": "markdown",
   "id": "26d27cf7",
   "metadata": {},
   "source": [
    "Cargo la segunda tabla:"
   ]
  },
  {
   "cell_type": "code",
   "execution_count": 52,
   "id": "2fdefaba",
   "metadata": {},
   "outputs": [],
   "source": [
    "df2 = pd.read_sql_table(\"PurchasesFINAL12312016\", con=engine)"
   ]
  },
  {
   "cell_type": "code",
   "execution_count": 66,
   "id": "18ea1d88",
   "metadata": {},
   "outputs": [
    {
     "data": {
      "application/vnd.microsoft.datawrangler.viewer.v0+json": {
       "columns": [
        {
         "name": "index",
         "rawType": "int64",
         "type": "integer"
        },
        {
         "name": "InventoryId",
         "rawType": "object",
         "type": "string"
        },
        {
         "name": "Store",
         "rawType": "int64",
         "type": "integer"
        },
        {
         "name": "Brand",
         "rawType": "int64",
         "type": "integer"
        },
        {
         "name": "Description",
         "rawType": "object",
         "type": "string"
        },
        {
         "name": "Size",
         "rawType": "object",
         "type": "string"
        },
        {
         "name": "VendorNumber",
         "rawType": "int64",
         "type": "integer"
        },
        {
         "name": "VendorName",
         "rawType": "object",
         "type": "string"
        },
        {
         "name": "PONumber",
         "rawType": "int64",
         "type": "integer"
        },
        {
         "name": "PODate",
         "rawType": "datetime64[ns]",
         "type": "datetime"
        },
        {
         "name": "ReceivingDate",
         "rawType": "datetime64[ns]",
         "type": "datetime"
        },
        {
         "name": "InvoiceDate",
         "rawType": "datetime64[ns]",
         "type": "datetime"
        },
        {
         "name": "PayDate",
         "rawType": "datetime64[ns]",
         "type": "datetime"
        },
        {
         "name": "PurchasePrice",
         "rawType": "float64",
         "type": "float"
        },
        {
         "name": "Quantity",
         "rawType": "int64",
         "type": "integer"
        },
        {
         "name": "Dollars",
         "rawType": "float64",
         "type": "float"
        },
        {
         "name": "Classification",
         "rawType": "int64",
         "type": "integer"
        },
        {
         "name": "fecha_actualizacion",
         "rawType": "datetime64[ns]",
         "type": "datetime"
        }
       ],
       "ref": "e87363f2-5855-4836-bc49-3070e2f2207a",
       "rows": [
        [
         "0",
         "InventoryId",
         "0",
         "0",
         "Description",
         "Size",
         "0",
         "VendorName",
         "0",
         null,
         null,
         null,
         null,
         "0.0",
         "0",
         "0.0",
         "0",
         "2025-05-27 18:54:37"
        ],
        [
         "1",
         "30_CULCHETH_5255",
         "30",
         "5255",
         "TGI Fridays Ultimte Mudslide",
         "1.75L",
         "4466",
         "AMERICAN VINTAGE BEVERAGE  ",
         "8137",
         "2015-12-22 00:00:00",
         "2016-01-01 00:00:00",
         "2016-01-07 00:00:00",
         "2016-02-21 00:00:00",
         "9.35",
         "4",
         "37.4",
         "1",
         "2025-05-27 18:54:37"
        ],
        [
         "2",
         "34_PITMERDEN_5215",
         "34",
         "5215",
         "TGI Fridays Long Island Iced",
         "1.75L",
         "4466",
         "AMERICAN VINTAGE BEVERAGE  ",
         "8137",
         "2015-12-22 00:00:00",
         "2016-01-02 00:00:00",
         "2016-01-07 00:00:00",
         "2016-02-21 00:00:00",
         "9.41",
         "5",
         "47.05",
         "1",
         "2025-05-27 18:54:37"
        ],
        [
         "3",
         "1_HARDERSFIELD_5255",
         "1",
         "5255",
         "TGI Fridays Ultimte Mudslide",
         "1.75L",
         "4466",
         "AMERICAN VINTAGE BEVERAGE  ",
         "8137",
         "2015-12-22 00:00:00",
         "2016-01-01 00:00:00",
         "2016-01-07 00:00:00",
         "2016-02-21 00:00:00",
         "9.35",
         "6",
         "56.1",
         "1",
         "2025-05-27 18:54:37"
        ],
        [
         "4",
         "76_DONCASTER_2034",
         "76",
         "2034",
         "Glendalough Double Barrel",
         "750mL",
         "388",
         "ATLANTIC IMPORTING COMPANY ",
         "8169",
         "2015-12-24 00:00:00",
         "2016-01-02 00:00:00",
         "2016-01-09 00:00:00",
         "2016-02-16 00:00:00",
         "21.32",
         "5",
         "106.6",
         "1",
         "2025-05-27 18:54:37"
        ]
       ],
       "shape": {
        "columns": 17,
        "rows": 5
       }
      },
      "text/html": [
       "<div>\n",
       "<style scoped>\n",
       "    .dataframe tbody tr th:only-of-type {\n",
       "        vertical-align: middle;\n",
       "    }\n",
       "\n",
       "    .dataframe tbody tr th {\n",
       "        vertical-align: top;\n",
       "    }\n",
       "\n",
       "    .dataframe thead th {\n",
       "        text-align: right;\n",
       "    }\n",
       "</style>\n",
       "<table border=\"1\" class=\"dataframe\">\n",
       "  <thead>\n",
       "    <tr style=\"text-align: right;\">\n",
       "      <th></th>\n",
       "      <th>InventoryId</th>\n",
       "      <th>Store</th>\n",
       "      <th>Brand</th>\n",
       "      <th>Description</th>\n",
       "      <th>Size</th>\n",
       "      <th>VendorNumber</th>\n",
       "      <th>VendorName</th>\n",
       "      <th>PONumber</th>\n",
       "      <th>PODate</th>\n",
       "      <th>ReceivingDate</th>\n",
       "      <th>InvoiceDate</th>\n",
       "      <th>PayDate</th>\n",
       "      <th>PurchasePrice</th>\n",
       "      <th>Quantity</th>\n",
       "      <th>Dollars</th>\n",
       "      <th>Classification</th>\n",
       "      <th>fecha_actualizacion</th>\n",
       "    </tr>\n",
       "  </thead>\n",
       "  <tbody>\n",
       "    <tr>\n",
       "      <th>0</th>\n",
       "      <td>InventoryId</td>\n",
       "      <td>0</td>\n",
       "      <td>0</td>\n",
       "      <td>Description</td>\n",
       "      <td>Size</td>\n",
       "      <td>0</td>\n",
       "      <td>VendorName</td>\n",
       "      <td>0</td>\n",
       "      <td>NaT</td>\n",
       "      <td>NaT</td>\n",
       "      <td>NaT</td>\n",
       "      <td>NaT</td>\n",
       "      <td>0.00</td>\n",
       "      <td>0</td>\n",
       "      <td>0.00</td>\n",
       "      <td>0</td>\n",
       "      <td>2025-05-27 18:54:37</td>\n",
       "    </tr>\n",
       "    <tr>\n",
       "      <th>1</th>\n",
       "      <td>30_CULCHETH_5255</td>\n",
       "      <td>30</td>\n",
       "      <td>5255</td>\n",
       "      <td>TGI Fridays Ultimte Mudslide</td>\n",
       "      <td>1.75L</td>\n",
       "      <td>4466</td>\n",
       "      <td>AMERICAN VINTAGE BEVERAGE</td>\n",
       "      <td>8137</td>\n",
       "      <td>2015-12-22</td>\n",
       "      <td>2016-01-01</td>\n",
       "      <td>2016-01-07</td>\n",
       "      <td>2016-02-21</td>\n",
       "      <td>9.35</td>\n",
       "      <td>4</td>\n",
       "      <td>37.40</td>\n",
       "      <td>1</td>\n",
       "      <td>2025-05-27 18:54:37</td>\n",
       "    </tr>\n",
       "    <tr>\n",
       "      <th>2</th>\n",
       "      <td>34_PITMERDEN_5215</td>\n",
       "      <td>34</td>\n",
       "      <td>5215</td>\n",
       "      <td>TGI Fridays Long Island Iced</td>\n",
       "      <td>1.75L</td>\n",
       "      <td>4466</td>\n",
       "      <td>AMERICAN VINTAGE BEVERAGE</td>\n",
       "      <td>8137</td>\n",
       "      <td>2015-12-22</td>\n",
       "      <td>2016-01-02</td>\n",
       "      <td>2016-01-07</td>\n",
       "      <td>2016-02-21</td>\n",
       "      <td>9.41</td>\n",
       "      <td>5</td>\n",
       "      <td>47.05</td>\n",
       "      <td>1</td>\n",
       "      <td>2025-05-27 18:54:37</td>\n",
       "    </tr>\n",
       "    <tr>\n",
       "      <th>3</th>\n",
       "      <td>1_HARDERSFIELD_5255</td>\n",
       "      <td>1</td>\n",
       "      <td>5255</td>\n",
       "      <td>TGI Fridays Ultimte Mudslide</td>\n",
       "      <td>1.75L</td>\n",
       "      <td>4466</td>\n",
       "      <td>AMERICAN VINTAGE BEVERAGE</td>\n",
       "      <td>8137</td>\n",
       "      <td>2015-12-22</td>\n",
       "      <td>2016-01-01</td>\n",
       "      <td>2016-01-07</td>\n",
       "      <td>2016-02-21</td>\n",
       "      <td>9.35</td>\n",
       "      <td>6</td>\n",
       "      <td>56.10</td>\n",
       "      <td>1</td>\n",
       "      <td>2025-05-27 18:54:37</td>\n",
       "    </tr>\n",
       "    <tr>\n",
       "      <th>4</th>\n",
       "      <td>76_DONCASTER_2034</td>\n",
       "      <td>76</td>\n",
       "      <td>2034</td>\n",
       "      <td>Glendalough Double Barrel</td>\n",
       "      <td>750mL</td>\n",
       "      <td>388</td>\n",
       "      <td>ATLANTIC IMPORTING COMPANY</td>\n",
       "      <td>8169</td>\n",
       "      <td>2015-12-24</td>\n",
       "      <td>2016-01-02</td>\n",
       "      <td>2016-01-09</td>\n",
       "      <td>2016-02-16</td>\n",
       "      <td>21.32</td>\n",
       "      <td>5</td>\n",
       "      <td>106.60</td>\n",
       "      <td>1</td>\n",
       "      <td>2025-05-27 18:54:37</td>\n",
       "    </tr>\n",
       "  </tbody>\n",
       "</table>\n",
       "</div>"
      ],
      "text/plain": [
       "           InventoryId  Store  Brand                   Description   Size  \\\n",
       "0          InventoryId      0      0                   Description   Size   \n",
       "1     30_CULCHETH_5255     30   5255  TGI Fridays Ultimte Mudslide  1.75L   \n",
       "2    34_PITMERDEN_5215     34   5215  TGI Fridays Long Island Iced  1.75L   \n",
       "3  1_HARDERSFIELD_5255      1   5255  TGI Fridays Ultimte Mudslide  1.75L   \n",
       "4    76_DONCASTER_2034     76   2034     Glendalough Double Barrel  750mL   \n",
       "\n",
       "   VendorNumber                   VendorName  PONumber     PODate  \\\n",
       "0             0                   VendorName         0        NaT   \n",
       "1          4466  AMERICAN VINTAGE BEVERAGE        8137 2015-12-22   \n",
       "2          4466  AMERICAN VINTAGE BEVERAGE        8137 2015-12-22   \n",
       "3          4466  AMERICAN VINTAGE BEVERAGE        8137 2015-12-22   \n",
       "4           388  ATLANTIC IMPORTING COMPANY       8169 2015-12-24   \n",
       "\n",
       "  ReceivingDate InvoiceDate    PayDate  PurchasePrice  Quantity  Dollars  \\\n",
       "0           NaT         NaT        NaT           0.00         0     0.00   \n",
       "1    2016-01-01  2016-01-07 2016-02-21           9.35         4    37.40   \n",
       "2    2016-01-02  2016-01-07 2016-02-21           9.41         5    47.05   \n",
       "3    2016-01-01  2016-01-07 2016-02-21           9.35         6    56.10   \n",
       "4    2016-01-02  2016-01-09 2016-02-16          21.32         5   106.60   \n",
       "\n",
       "   Classification fecha_actualizacion  \n",
       "0               0 2025-05-27 18:54:37  \n",
       "1               1 2025-05-27 18:54:37  \n",
       "2               1 2025-05-27 18:54:37  \n",
       "3               1 2025-05-27 18:54:37  \n",
       "4               1 2025-05-27 18:54:37  "
      ]
     },
     "execution_count": 66,
     "metadata": {},
     "output_type": "execute_result"
    }
   ],
   "source": [
    "df2.head()"
   ]
  },
  {
   "cell_type": "code",
   "execution_count": 57,
   "id": "10fb966b",
   "metadata": {},
   "outputs": [
    {
     "data": {
      "application/vnd.microsoft.datawrangler.viewer.v0+json": {
       "columns": [
        {
         "name": "index",
         "rawType": "int64",
         "type": "integer"
        },
        {
         "name": "InventoryId",
         "rawType": "object",
         "type": "string"
        },
        {
         "name": "Store",
         "rawType": "int64",
         "type": "integer"
        },
        {
         "name": "Brand",
         "rawType": "int64",
         "type": "integer"
        },
        {
         "name": "Description",
         "rawType": "object",
         "type": "string"
        },
        {
         "name": "Size",
         "rawType": "object",
         "type": "string"
        },
        {
         "name": "VendorNumber",
         "rawType": "int64",
         "type": "integer"
        },
        {
         "name": "VendorName",
         "rawType": "object",
         "type": "string"
        },
        {
         "name": "PONumber",
         "rawType": "int64",
         "type": "integer"
        },
        {
         "name": "PODate",
         "rawType": "datetime64[ns]",
         "type": "datetime"
        },
        {
         "name": "ReceivingDate",
         "rawType": "datetime64[ns]",
         "type": "datetime"
        },
        {
         "name": "InvoiceDate",
         "rawType": "datetime64[ns]",
         "type": "datetime"
        },
        {
         "name": "PayDate",
         "rawType": "datetime64[ns]",
         "type": "datetime"
        },
        {
         "name": "PurchasePrice",
         "rawType": "float64",
         "type": "float"
        },
        {
         "name": "Quantity",
         "rawType": "int64",
         "type": "integer"
        },
        {
         "name": "Dollars",
         "rawType": "float64",
         "type": "float"
        },
        {
         "name": "Classification",
         "rawType": "int64",
         "type": "integer"
        },
        {
         "name": "fecha_actualizacion",
         "rawType": "datetime64[ns]",
         "type": "datetime"
        }
       ],
       "ref": "3a80098f-5461-4767-9829-0a11b7882b72",
       "rows": [],
       "shape": {
        "columns": 17,
        "rows": 0
       }
      },
      "text/html": [
       "<div>\n",
       "<style scoped>\n",
       "    .dataframe tbody tr th:only-of-type {\n",
       "        vertical-align: middle;\n",
       "    }\n",
       "\n",
       "    .dataframe tbody tr th {\n",
       "        vertical-align: top;\n",
       "    }\n",
       "\n",
       "    .dataframe thead th {\n",
       "        text-align: right;\n",
       "    }\n",
       "</style>\n",
       "<table border=\"1\" class=\"dataframe\">\n",
       "  <thead>\n",
       "    <tr style=\"text-align: right;\">\n",
       "      <th></th>\n",
       "      <th>InventoryId</th>\n",
       "      <th>Store</th>\n",
       "      <th>Brand</th>\n",
       "      <th>Description</th>\n",
       "      <th>Size</th>\n",
       "      <th>VendorNumber</th>\n",
       "      <th>VendorName</th>\n",
       "      <th>PONumber</th>\n",
       "      <th>PODate</th>\n",
       "      <th>ReceivingDate</th>\n",
       "      <th>InvoiceDate</th>\n",
       "      <th>PayDate</th>\n",
       "      <th>PurchasePrice</th>\n",
       "      <th>Quantity</th>\n",
       "      <th>Dollars</th>\n",
       "      <th>Classification</th>\n",
       "      <th>fecha_actualizacion</th>\n",
       "    </tr>\n",
       "  </thead>\n",
       "  <tbody>\n",
       "  </tbody>\n",
       "</table>\n",
       "</div>"
      ],
      "text/plain": [
       "Empty DataFrame\n",
       "Columns: [InventoryId, Store, Brand, Description, Size, VendorNumber, VendorName, PONumber, PODate, ReceivingDate, InvoiceDate, PayDate, PurchasePrice, Quantity, Dollars, Classification, fecha_actualizacion]\n",
       "Index: []"
      ]
     },
     "execution_count": 57,
     "metadata": {},
     "output_type": "execute_result"
    }
   ],
   "source": [
    "df2[df2['Description'].str.contains('Overture', case=False, na=False)]"
   ]
  },
  {
   "cell_type": "code",
   "execution_count": null,
   "id": "c51d0622",
   "metadata": {},
   "outputs": [],
   "source": []
  }
 ],
 "metadata": {
  "kernelspec": {
   "display_name": "Python 3",
   "language": "python",
   "name": "python3"
  },
  "language_info": {
   "codemirror_mode": {
    "name": "ipython",
    "version": 3
   },
   "file_extension": ".py",
   "mimetype": "text/x-python",
   "name": "python",
   "nbconvert_exporter": "python",
   "pygments_lexer": "ipython3",
   "version": "3.13.3"
  }
 },
 "nbformat": 4,
 "nbformat_minor": 5
}
