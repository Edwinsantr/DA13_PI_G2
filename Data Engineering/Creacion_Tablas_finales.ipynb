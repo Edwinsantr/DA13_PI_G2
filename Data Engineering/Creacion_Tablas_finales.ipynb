{
 "cells": [
  {
   "cell_type": "code",
   "execution_count": 2,
   "id": "70e2684e",
   "metadata": {},
   "outputs": [],
   "source": [
    "import pandas as pd\n",
    "import numpy as np\n",
    "import matplotlib.pyplot as plt"
   ]
  },
  {
   "cell_type": "code",
   "execution_count": 3,
   "id": "5b11923c",
   "metadata": {},
   "outputs": [],
   "source": [
    "df1 = pd.read_csv('D:/Curso Henry/Proyecto final/CSV_Limpiados/Copia de SalesFINAL12312016_Modificado.csv')"
   ]
  },
  {
   "cell_type": "code",
   "execution_count": 4,
   "id": "4f74951c",
   "metadata": {},
   "outputs": [
    {
     "data": {
      "application/vnd.microsoft.datawrangler.viewer.v0+json": {
       "columns": [
        {
         "name": "index",
         "rawType": "int64",
         "type": "integer"
        },
        {
         "name": "InventoryId",
         "rawType": "object",
         "type": "string"
        },
        {
         "name": "Store",
         "rawType": "int64",
         "type": "integer"
        },
        {
         "name": "Brand",
         "rawType": "int64",
         "type": "integer"
        },
        {
         "name": "Description",
         "rawType": "object",
         "type": "string"
        },
        {
         "name": "Size",
         "rawType": "object",
         "type": "string"
        },
        {
         "name": "SalesQuantity",
         "rawType": "int64",
         "type": "integer"
        },
        {
         "name": "SalesDollars",
         "rawType": "float64",
         "type": "float"
        },
        {
         "name": "SalesPrice",
         "rawType": "float64",
         "type": "float"
        },
        {
         "name": "SalesDate",
         "rawType": "object",
         "type": "string"
        },
        {
         "name": "Volume",
         "rawType": "float64",
         "type": "float"
        },
        {
         "name": "Classification",
         "rawType": "int64",
         "type": "integer"
        },
        {
         "name": "ExciseTax",
         "rawType": "float64",
         "type": "float"
        },
        {
         "name": "VendorNo",
         "rawType": "int64",
         "type": "integer"
        },
        {
         "name": "fecha_actualizacion",
         "rawType": "object",
         "type": "string"
        }
       ],
       "ref": "c96c4921-77c1-48d5-b48b-691031978c24",
       "rows": [
        [
         "0",
         "1_HARDERSFIELD_1001",
         "1",
         "1001",
         "Bailey's 50mL 4 Pack",
         "50mL 4 Pk",
         "1",
         "5.99",
         "5.99",
         "2016-08-05",
         "50.0",
         "1",
         "0.05",
         "3960",
         "2025-05-27 18:54:47"
        ],
        [
         "1",
         "1_HARDERSFIELD_1001",
         "1",
         "1001",
         "Bailey's 50mL 4 Pack",
         "50mL 4 Pk",
         "1",
         "5.99",
         "5.99",
         "2016-08-12",
         "50.0",
         "1",
         "0.05",
         "3960",
         "2025-05-27 18:54:47"
        ],
        [
         "2",
         "1_HARDERSFIELD_1001",
         "1",
         "1001",
         "Bailey's 50mL 4 Pack",
         "50mL 4 Pk",
         "1",
         "5.99",
         "5.99",
         "2016-08-20",
         "50.0",
         "1",
         "0.05",
         "3960",
         "2025-05-27 18:54:47"
        ],
        [
         "3",
         "1_HARDERSFIELD_1001",
         "1",
         "1001",
         "Bailey's 50mL 4 Pack",
         "50mL 4 Pk",
         "1",
         "5.99",
         "5.99",
         "2016-08-29",
         "50.0",
         "1",
         "0.05",
         "3960",
         "2025-05-27 18:54:47"
        ],
        [
         "4",
         "1_HARDERSFIELD_1001",
         "1",
         "1001",
         "Bailey's 50mL 4 Pack",
         "50mL 4 Pk",
         "1",
         "5.99",
         "5.99",
         "2016-09-08",
         "50.0",
         "1",
         "0.05",
         "3960",
         "2025-05-27 18:54:47"
        ]
       ],
       "shape": {
        "columns": 14,
        "rows": 5
       }
      },
      "text/html": [
       "<div>\n",
       "<style scoped>\n",
       "    .dataframe tbody tr th:only-of-type {\n",
       "        vertical-align: middle;\n",
       "    }\n",
       "\n",
       "    .dataframe tbody tr th {\n",
       "        vertical-align: top;\n",
       "    }\n",
       "\n",
       "    .dataframe thead th {\n",
       "        text-align: right;\n",
       "    }\n",
       "</style>\n",
       "<table border=\"1\" class=\"dataframe\">\n",
       "  <thead>\n",
       "    <tr style=\"text-align: right;\">\n",
       "      <th></th>\n",
       "      <th>InventoryId</th>\n",
       "      <th>Store</th>\n",
       "      <th>Brand</th>\n",
       "      <th>Description</th>\n",
       "      <th>Size</th>\n",
       "      <th>SalesQuantity</th>\n",
       "      <th>SalesDollars</th>\n",
       "      <th>SalesPrice</th>\n",
       "      <th>SalesDate</th>\n",
       "      <th>Volume</th>\n",
       "      <th>Classification</th>\n",
       "      <th>ExciseTax</th>\n",
       "      <th>VendorNo</th>\n",
       "      <th>fecha_actualizacion</th>\n",
       "    </tr>\n",
       "  </thead>\n",
       "  <tbody>\n",
       "    <tr>\n",
       "      <th>0</th>\n",
       "      <td>1_HARDERSFIELD_1001</td>\n",
       "      <td>1</td>\n",
       "      <td>1001</td>\n",
       "      <td>Bailey's 50mL 4 Pack</td>\n",
       "      <td>50mL 4 Pk</td>\n",
       "      <td>1</td>\n",
       "      <td>5.99</td>\n",
       "      <td>5.99</td>\n",
       "      <td>2016-08-05</td>\n",
       "      <td>50.0</td>\n",
       "      <td>1</td>\n",
       "      <td>0.05</td>\n",
       "      <td>3960</td>\n",
       "      <td>2025-05-27 18:54:47</td>\n",
       "    </tr>\n",
       "    <tr>\n",
       "      <th>1</th>\n",
       "      <td>1_HARDERSFIELD_1001</td>\n",
       "      <td>1</td>\n",
       "      <td>1001</td>\n",
       "      <td>Bailey's 50mL 4 Pack</td>\n",
       "      <td>50mL 4 Pk</td>\n",
       "      <td>1</td>\n",
       "      <td>5.99</td>\n",
       "      <td>5.99</td>\n",
       "      <td>2016-08-12</td>\n",
       "      <td>50.0</td>\n",
       "      <td>1</td>\n",
       "      <td>0.05</td>\n",
       "      <td>3960</td>\n",
       "      <td>2025-05-27 18:54:47</td>\n",
       "    </tr>\n",
       "    <tr>\n",
       "      <th>2</th>\n",
       "      <td>1_HARDERSFIELD_1001</td>\n",
       "      <td>1</td>\n",
       "      <td>1001</td>\n",
       "      <td>Bailey's 50mL 4 Pack</td>\n",
       "      <td>50mL 4 Pk</td>\n",
       "      <td>1</td>\n",
       "      <td>5.99</td>\n",
       "      <td>5.99</td>\n",
       "      <td>2016-08-20</td>\n",
       "      <td>50.0</td>\n",
       "      <td>1</td>\n",
       "      <td>0.05</td>\n",
       "      <td>3960</td>\n",
       "      <td>2025-05-27 18:54:47</td>\n",
       "    </tr>\n",
       "    <tr>\n",
       "      <th>3</th>\n",
       "      <td>1_HARDERSFIELD_1001</td>\n",
       "      <td>1</td>\n",
       "      <td>1001</td>\n",
       "      <td>Bailey's 50mL 4 Pack</td>\n",
       "      <td>50mL 4 Pk</td>\n",
       "      <td>1</td>\n",
       "      <td>5.99</td>\n",
       "      <td>5.99</td>\n",
       "      <td>2016-08-29</td>\n",
       "      <td>50.0</td>\n",
       "      <td>1</td>\n",
       "      <td>0.05</td>\n",
       "      <td>3960</td>\n",
       "      <td>2025-05-27 18:54:47</td>\n",
       "    </tr>\n",
       "    <tr>\n",
       "      <th>4</th>\n",
       "      <td>1_HARDERSFIELD_1001</td>\n",
       "      <td>1</td>\n",
       "      <td>1001</td>\n",
       "      <td>Bailey's 50mL 4 Pack</td>\n",
       "      <td>50mL 4 Pk</td>\n",
       "      <td>1</td>\n",
       "      <td>5.99</td>\n",
       "      <td>5.99</td>\n",
       "      <td>2016-09-08</td>\n",
       "      <td>50.0</td>\n",
       "      <td>1</td>\n",
       "      <td>0.05</td>\n",
       "      <td>3960</td>\n",
       "      <td>2025-05-27 18:54:47</td>\n",
       "    </tr>\n",
       "  </tbody>\n",
       "</table>\n",
       "</div>"
      ],
      "text/plain": [
       "           InventoryId  Store  Brand           Description       Size  \\\n",
       "0  1_HARDERSFIELD_1001      1   1001  Bailey's 50mL 4 Pack  50mL 4 Pk   \n",
       "1  1_HARDERSFIELD_1001      1   1001  Bailey's 50mL 4 Pack  50mL 4 Pk   \n",
       "2  1_HARDERSFIELD_1001      1   1001  Bailey's 50mL 4 Pack  50mL 4 Pk   \n",
       "3  1_HARDERSFIELD_1001      1   1001  Bailey's 50mL 4 Pack  50mL 4 Pk   \n",
       "4  1_HARDERSFIELD_1001      1   1001  Bailey's 50mL 4 Pack  50mL 4 Pk   \n",
       "\n",
       "   SalesQuantity  SalesDollars  SalesPrice   SalesDate  Volume  \\\n",
       "0              1          5.99        5.99  2016-08-05    50.0   \n",
       "1              1          5.99        5.99  2016-08-12    50.0   \n",
       "2              1          5.99        5.99  2016-08-20    50.0   \n",
       "3              1          5.99        5.99  2016-08-29    50.0   \n",
       "4              1          5.99        5.99  2016-09-08    50.0   \n",
       "\n",
       "   Classification  ExciseTax  VendorNo  fecha_actualizacion  \n",
       "0               1       0.05      3960  2025-05-27 18:54:47  \n",
       "1               1       0.05      3960  2025-05-27 18:54:47  \n",
       "2               1       0.05      3960  2025-05-27 18:54:47  \n",
       "3               1       0.05      3960  2025-05-27 18:54:47  \n",
       "4               1       0.05      3960  2025-05-27 18:54:47  "
      ]
     },
     "execution_count": 4,
     "metadata": {},
     "output_type": "execute_result"
    }
   ],
   "source": [
    "df1.head()"
   ]
  },
  {
   "cell_type": "code",
   "execution_count": 5,
   "id": "00b0dc39",
   "metadata": {},
   "outputs": [
    {
     "name": "stdout",
     "output_type": "stream",
     "text": [
      "<class 'pandas.core.frame.DataFrame'>\n",
      "RangeIndex: 6412657 entries, 0 to 6412656\n",
      "Data columns (total 14 columns):\n",
      " #   Column               Dtype  \n",
      "---  ------               -----  \n",
      " 0   InventoryId          object \n",
      " 1   Store                int64  \n",
      " 2   Brand                int64  \n",
      " 3   Description          object \n",
      " 4   Size                 object \n",
      " 5   SalesQuantity        int64  \n",
      " 6   SalesDollars         float64\n",
      " 7   SalesPrice           float64\n",
      " 8   SalesDate            object \n",
      " 9   Volume               float64\n",
      " 10  Classification       int64  \n",
      " 11  ExciseTax            float64\n",
      " 12  VendorNo             int64  \n",
      " 13  fecha_actualizacion  object \n",
      "dtypes: float64(4), int64(5), object(5)\n",
      "memory usage: 684.9+ MB\n"
     ]
    }
   ],
   "source": [
    "df1.info()"
   ]
  },
  {
   "cell_type": "code",
   "execution_count": 6,
   "id": "bb71bd07",
   "metadata": {},
   "outputs": [],
   "source": [
    "columnas_a_eliminar = ['Description', 'Size', 'Volume', 'Classification', 'VendorNo', 'fecha_actualizacion']\n",
    "\n",
    "df1 = df1.drop(columns=[col for col in columnas_a_eliminar if col in df1.columns])"
   ]
  },
  {
   "cell_type": "code",
   "execution_count": 7,
   "id": "e1223830",
   "metadata": {},
   "outputs": [
    {
     "data": {
      "application/vnd.microsoft.datawrangler.viewer.v0+json": {
       "columns": [
        {
         "name": "index",
         "rawType": "int64",
         "type": "integer"
        },
        {
         "name": "InventoryId",
         "rawType": "object",
         "type": "string"
        },
        {
         "name": "Store",
         "rawType": "int64",
         "type": "integer"
        },
        {
         "name": "Brand",
         "rawType": "int64",
         "type": "integer"
        },
        {
         "name": "SalesQuantity",
         "rawType": "int64",
         "type": "integer"
        },
        {
         "name": "SalesDollars",
         "rawType": "float64",
         "type": "float"
        },
        {
         "name": "SalesPrice",
         "rawType": "float64",
         "type": "float"
        },
        {
         "name": "SalesDate",
         "rawType": "object",
         "type": "string"
        },
        {
         "name": "ExciseTax",
         "rawType": "float64",
         "type": "float"
        }
       ],
       "ref": "092c845e-779c-4282-8614-e6cc8c037505",
       "rows": [
        [
         "0",
         "1_HARDERSFIELD_1001",
         "1",
         "1001",
         "1",
         "5.99",
         "5.99",
         "2016-08-05",
         "0.05"
        ],
        [
         "1",
         "1_HARDERSFIELD_1001",
         "1",
         "1001",
         "1",
         "5.99",
         "5.99",
         "2016-08-12",
         "0.05"
        ],
        [
         "2",
         "1_HARDERSFIELD_1001",
         "1",
         "1001",
         "1",
         "5.99",
         "5.99",
         "2016-08-20",
         "0.05"
        ],
        [
         "3",
         "1_HARDERSFIELD_1001",
         "1",
         "1001",
         "1",
         "5.99",
         "5.99",
         "2016-08-29",
         "0.05"
        ],
        [
         "4",
         "1_HARDERSFIELD_1001",
         "1",
         "1001",
         "1",
         "5.99",
         "5.99",
         "2016-09-08",
         "0.05"
        ]
       ],
       "shape": {
        "columns": 8,
        "rows": 5
       }
      },
      "text/html": [
       "<div>\n",
       "<style scoped>\n",
       "    .dataframe tbody tr th:only-of-type {\n",
       "        vertical-align: middle;\n",
       "    }\n",
       "\n",
       "    .dataframe tbody tr th {\n",
       "        vertical-align: top;\n",
       "    }\n",
       "\n",
       "    .dataframe thead th {\n",
       "        text-align: right;\n",
       "    }\n",
       "</style>\n",
       "<table border=\"1\" class=\"dataframe\">\n",
       "  <thead>\n",
       "    <tr style=\"text-align: right;\">\n",
       "      <th></th>\n",
       "      <th>InventoryId</th>\n",
       "      <th>Store</th>\n",
       "      <th>Brand</th>\n",
       "      <th>SalesQuantity</th>\n",
       "      <th>SalesDollars</th>\n",
       "      <th>SalesPrice</th>\n",
       "      <th>SalesDate</th>\n",
       "      <th>ExciseTax</th>\n",
       "    </tr>\n",
       "  </thead>\n",
       "  <tbody>\n",
       "    <tr>\n",
       "      <th>0</th>\n",
       "      <td>1_HARDERSFIELD_1001</td>\n",
       "      <td>1</td>\n",
       "      <td>1001</td>\n",
       "      <td>1</td>\n",
       "      <td>5.99</td>\n",
       "      <td>5.99</td>\n",
       "      <td>2016-08-05</td>\n",
       "      <td>0.05</td>\n",
       "    </tr>\n",
       "    <tr>\n",
       "      <th>1</th>\n",
       "      <td>1_HARDERSFIELD_1001</td>\n",
       "      <td>1</td>\n",
       "      <td>1001</td>\n",
       "      <td>1</td>\n",
       "      <td>5.99</td>\n",
       "      <td>5.99</td>\n",
       "      <td>2016-08-12</td>\n",
       "      <td>0.05</td>\n",
       "    </tr>\n",
       "    <tr>\n",
       "      <th>2</th>\n",
       "      <td>1_HARDERSFIELD_1001</td>\n",
       "      <td>1</td>\n",
       "      <td>1001</td>\n",
       "      <td>1</td>\n",
       "      <td>5.99</td>\n",
       "      <td>5.99</td>\n",
       "      <td>2016-08-20</td>\n",
       "      <td>0.05</td>\n",
       "    </tr>\n",
       "    <tr>\n",
       "      <th>3</th>\n",
       "      <td>1_HARDERSFIELD_1001</td>\n",
       "      <td>1</td>\n",
       "      <td>1001</td>\n",
       "      <td>1</td>\n",
       "      <td>5.99</td>\n",
       "      <td>5.99</td>\n",
       "      <td>2016-08-29</td>\n",
       "      <td>0.05</td>\n",
       "    </tr>\n",
       "    <tr>\n",
       "      <th>4</th>\n",
       "      <td>1_HARDERSFIELD_1001</td>\n",
       "      <td>1</td>\n",
       "      <td>1001</td>\n",
       "      <td>1</td>\n",
       "      <td>5.99</td>\n",
       "      <td>5.99</td>\n",
       "      <td>2016-09-08</td>\n",
       "      <td>0.05</td>\n",
       "    </tr>\n",
       "  </tbody>\n",
       "</table>\n",
       "</div>"
      ],
      "text/plain": [
       "           InventoryId  Store  Brand  SalesQuantity  SalesDollars  SalesPrice  \\\n",
       "0  1_HARDERSFIELD_1001      1   1001              1          5.99        5.99   \n",
       "1  1_HARDERSFIELD_1001      1   1001              1          5.99        5.99   \n",
       "2  1_HARDERSFIELD_1001      1   1001              1          5.99        5.99   \n",
       "3  1_HARDERSFIELD_1001      1   1001              1          5.99        5.99   \n",
       "4  1_HARDERSFIELD_1001      1   1001              1          5.99        5.99   \n",
       "\n",
       "    SalesDate  ExciseTax  \n",
       "0  2016-08-05       0.05  \n",
       "1  2016-08-12       0.05  \n",
       "2  2016-08-20       0.05  \n",
       "3  2016-08-29       0.05  \n",
       "4  2016-09-08       0.05  "
      ]
     },
     "execution_count": 7,
     "metadata": {},
     "output_type": "execute_result"
    }
   ],
   "source": [
    "df1.head()"
   ]
  },
  {
   "cell_type": "code",
   "execution_count": null,
   "id": "bfd9b323",
   "metadata": {},
   "outputs": [],
   "source": [
    "columnas_coma = ['SalesDollars', 'SalesPrice']\n",
    "\n",
    "for col in columnas_coma:\n",
    "    df1[col] = df1[col].astype(str).str.replace('.', ',', regex=False)"
   ]
  },
  {
   "cell_type": "code",
   "execution_count": 7,
   "id": "fc7c5b09",
   "metadata": {},
   "outputs": [
    {
     "data": {
      "application/vnd.microsoft.datawrangler.viewer.v0+json": {
       "columns": [
        {
         "name": "index",
         "rawType": "int64",
         "type": "integer"
        },
        {
         "name": "InventoryId",
         "rawType": "object",
         "type": "string"
        },
        {
         "name": "Store",
         "rawType": "int64",
         "type": "integer"
        },
        {
         "name": "Brand",
         "rawType": "int64",
         "type": "integer"
        },
        {
         "name": "Description",
         "rawType": "object",
         "type": "string"
        },
        {
         "name": "Size",
         "rawType": "object",
         "type": "string"
        },
        {
         "name": "SalesQuantity",
         "rawType": "int64",
         "type": "integer"
        },
        {
         "name": "SalesDollars",
         "rawType": "float64",
         "type": "float"
        },
        {
         "name": "SalesPrice",
         "rawType": "float64",
         "type": "float"
        },
        {
         "name": "SalesDate",
         "rawType": "object",
         "type": "string"
        },
        {
         "name": "Volume",
         "rawType": "float64",
         "type": "float"
        },
        {
         "name": "Classification",
         "rawType": "int64",
         "type": "integer"
        },
        {
         "name": "ExciseTax",
         "rawType": "float64",
         "type": "float"
        },
        {
         "name": "VendorNo",
         "rawType": "int64",
         "type": "integer"
        },
        {
         "name": "fecha_actualizacion",
         "rawType": "object",
         "type": "string"
        }
       ],
       "ref": "b230d66b-0903-43bf-abc0-dba1eda56112",
       "rows": [
        [
         "0",
         "1_HARDERSFIELD_1001",
         "1",
         "1001",
         "Bailey's 50mL 4 Pack",
         "50mL 4 Pk",
         "1",
         "5.99",
         "5.99",
         "2016-08-05",
         "50.0",
         "1",
         "0.05",
         "3960",
         "2025-05-27 18:54:47"
        ],
        [
         "1",
         "1_HARDERSFIELD_1001",
         "1",
         "1001",
         "Bailey's 50mL 4 Pack",
         "50mL 4 Pk",
         "1",
         "5.99",
         "5.99",
         "2016-08-12",
         "50.0",
         "1",
         "0.05",
         "3960",
         "2025-05-27 18:54:47"
        ],
        [
         "2",
         "1_HARDERSFIELD_1001",
         "1",
         "1001",
         "Bailey's 50mL 4 Pack",
         "50mL 4 Pk",
         "1",
         "5.99",
         "5.99",
         "2016-08-20",
         "50.0",
         "1",
         "0.05",
         "3960",
         "2025-05-27 18:54:47"
        ],
        [
         "3",
         "1_HARDERSFIELD_1001",
         "1",
         "1001",
         "Bailey's 50mL 4 Pack",
         "50mL 4 Pk",
         "1",
         "5.99",
         "5.99",
         "2016-08-29",
         "50.0",
         "1",
         "0.05",
         "3960",
         "2025-05-27 18:54:47"
        ],
        [
         "4",
         "1_HARDERSFIELD_1001",
         "1",
         "1001",
         "Bailey's 50mL 4 Pack",
         "50mL 4 Pk",
         "1",
         "5.99",
         "5.99",
         "2016-09-08",
         "50.0",
         "1",
         "0.05",
         "3960",
         "2025-05-27 18:54:47"
        ]
       ],
       "shape": {
        "columns": 14,
        "rows": 5
       }
      },
      "text/html": [
       "<div>\n",
       "<style scoped>\n",
       "    .dataframe tbody tr th:only-of-type {\n",
       "        vertical-align: middle;\n",
       "    }\n",
       "\n",
       "    .dataframe tbody tr th {\n",
       "        vertical-align: top;\n",
       "    }\n",
       "\n",
       "    .dataframe thead th {\n",
       "        text-align: right;\n",
       "    }\n",
       "</style>\n",
       "<table border=\"1\" class=\"dataframe\">\n",
       "  <thead>\n",
       "    <tr style=\"text-align: right;\">\n",
       "      <th></th>\n",
       "      <th>InventoryId</th>\n",
       "      <th>Store</th>\n",
       "      <th>Brand</th>\n",
       "      <th>Description</th>\n",
       "      <th>Size</th>\n",
       "      <th>SalesQuantity</th>\n",
       "      <th>SalesDollars</th>\n",
       "      <th>SalesPrice</th>\n",
       "      <th>SalesDate</th>\n",
       "      <th>Volume</th>\n",
       "      <th>Classification</th>\n",
       "      <th>ExciseTax</th>\n",
       "      <th>VendorNo</th>\n",
       "      <th>fecha_actualizacion</th>\n",
       "    </tr>\n",
       "  </thead>\n",
       "  <tbody>\n",
       "    <tr>\n",
       "      <th>0</th>\n",
       "      <td>1_HARDERSFIELD_1001</td>\n",
       "      <td>1</td>\n",
       "      <td>1001</td>\n",
       "      <td>Bailey's 50mL 4 Pack</td>\n",
       "      <td>50mL 4 Pk</td>\n",
       "      <td>1</td>\n",
       "      <td>5.99</td>\n",
       "      <td>5.99</td>\n",
       "      <td>2016-08-05</td>\n",
       "      <td>50.0</td>\n",
       "      <td>1</td>\n",
       "      <td>0.05</td>\n",
       "      <td>3960</td>\n",
       "      <td>2025-05-27 18:54:47</td>\n",
       "    </tr>\n",
       "    <tr>\n",
       "      <th>1</th>\n",
       "      <td>1_HARDERSFIELD_1001</td>\n",
       "      <td>1</td>\n",
       "      <td>1001</td>\n",
       "      <td>Bailey's 50mL 4 Pack</td>\n",
       "      <td>50mL 4 Pk</td>\n",
       "      <td>1</td>\n",
       "      <td>5.99</td>\n",
       "      <td>5.99</td>\n",
       "      <td>2016-08-12</td>\n",
       "      <td>50.0</td>\n",
       "      <td>1</td>\n",
       "      <td>0.05</td>\n",
       "      <td>3960</td>\n",
       "      <td>2025-05-27 18:54:47</td>\n",
       "    </tr>\n",
       "    <tr>\n",
       "      <th>2</th>\n",
       "      <td>1_HARDERSFIELD_1001</td>\n",
       "      <td>1</td>\n",
       "      <td>1001</td>\n",
       "      <td>Bailey's 50mL 4 Pack</td>\n",
       "      <td>50mL 4 Pk</td>\n",
       "      <td>1</td>\n",
       "      <td>5.99</td>\n",
       "      <td>5.99</td>\n",
       "      <td>2016-08-20</td>\n",
       "      <td>50.0</td>\n",
       "      <td>1</td>\n",
       "      <td>0.05</td>\n",
       "      <td>3960</td>\n",
       "      <td>2025-05-27 18:54:47</td>\n",
       "    </tr>\n",
       "    <tr>\n",
       "      <th>3</th>\n",
       "      <td>1_HARDERSFIELD_1001</td>\n",
       "      <td>1</td>\n",
       "      <td>1001</td>\n",
       "      <td>Bailey's 50mL 4 Pack</td>\n",
       "      <td>50mL 4 Pk</td>\n",
       "      <td>1</td>\n",
       "      <td>5.99</td>\n",
       "      <td>5.99</td>\n",
       "      <td>2016-08-29</td>\n",
       "      <td>50.0</td>\n",
       "      <td>1</td>\n",
       "      <td>0.05</td>\n",
       "      <td>3960</td>\n",
       "      <td>2025-05-27 18:54:47</td>\n",
       "    </tr>\n",
       "    <tr>\n",
       "      <th>4</th>\n",
       "      <td>1_HARDERSFIELD_1001</td>\n",
       "      <td>1</td>\n",
       "      <td>1001</td>\n",
       "      <td>Bailey's 50mL 4 Pack</td>\n",
       "      <td>50mL 4 Pk</td>\n",
       "      <td>1</td>\n",
       "      <td>5.99</td>\n",
       "      <td>5.99</td>\n",
       "      <td>2016-09-08</td>\n",
       "      <td>50.0</td>\n",
       "      <td>1</td>\n",
       "      <td>0.05</td>\n",
       "      <td>3960</td>\n",
       "      <td>2025-05-27 18:54:47</td>\n",
       "    </tr>\n",
       "  </tbody>\n",
       "</table>\n",
       "</div>"
      ],
      "text/plain": [
       "           InventoryId  Store  Brand           Description       Size  \\\n",
       "0  1_HARDERSFIELD_1001      1   1001  Bailey's 50mL 4 Pack  50mL 4 Pk   \n",
       "1  1_HARDERSFIELD_1001      1   1001  Bailey's 50mL 4 Pack  50mL 4 Pk   \n",
       "2  1_HARDERSFIELD_1001      1   1001  Bailey's 50mL 4 Pack  50mL 4 Pk   \n",
       "3  1_HARDERSFIELD_1001      1   1001  Bailey's 50mL 4 Pack  50mL 4 Pk   \n",
       "4  1_HARDERSFIELD_1001      1   1001  Bailey's 50mL 4 Pack  50mL 4 Pk   \n",
       "\n",
       "   SalesQuantity  SalesDollars  SalesPrice   SalesDate  Volume  \\\n",
       "0              1          5.99        5.99  2016-08-05    50.0   \n",
       "1              1          5.99        5.99  2016-08-12    50.0   \n",
       "2              1          5.99        5.99  2016-08-20    50.0   \n",
       "3              1          5.99        5.99  2016-08-29    50.0   \n",
       "4              1          5.99        5.99  2016-09-08    50.0   \n",
       "\n",
       "   Classification  ExciseTax  VendorNo  fecha_actualizacion  \n",
       "0               1       0.05      3960  2025-05-27 18:54:47  \n",
       "1               1       0.05      3960  2025-05-27 18:54:47  \n",
       "2               1       0.05      3960  2025-05-27 18:54:47  \n",
       "3               1       0.05      3960  2025-05-27 18:54:47  \n",
       "4               1       0.05      3960  2025-05-27 18:54:47  "
      ]
     },
     "execution_count": 7,
     "metadata": {},
     "output_type": "execute_result"
    }
   ],
   "source": [
    "df1.head()"
   ]
  },
  {
   "cell_type": "code",
   "execution_count": null,
   "id": "a784ed00",
   "metadata": {},
   "outputs": [],
   "source": [
    "#Ya hicimos toda la limpieza, guardamos\n",
    "df1.to_csv('Ventas.csv', index=False)"
   ]
  },
  {
   "cell_type": "markdown",
   "id": "fcdba072",
   "metadata": {},
   "source": [
    "-----------------"
   ]
  },
  {
   "cell_type": "code",
   "execution_count": 4,
   "id": "46521764",
   "metadata": {},
   "outputs": [],
   "source": [
    "df2 = pd.read_csv('D:/Curso Henry/Proyecto final/CSV_Limpiados/Copia de PurchasePricesDec2017_Modificado.csv')"
   ]
  },
  {
   "cell_type": "code",
   "execution_count": 5,
   "id": "b9016a15",
   "metadata": {},
   "outputs": [
    {
     "data": {
      "application/vnd.microsoft.datawrangler.viewer.v0+json": {
       "columns": [
        {
         "name": "index",
         "rawType": "int64",
         "type": "integer"
        },
        {
         "name": "Brand",
         "rawType": "int64",
         "type": "integer"
        },
        {
         "name": "Description",
         "rawType": "object",
         "type": "string"
        },
        {
         "name": "Price",
         "rawType": "float64",
         "type": "float"
        },
        {
         "name": "Size",
         "rawType": "object",
         "type": "string"
        },
        {
         "name": "Volume",
         "rawType": "int64",
         "type": "integer"
        },
        {
         "name": "Classification",
         "rawType": "int64",
         "type": "integer"
        },
        {
         "name": "PurchasePrice",
         "rawType": "float64",
         "type": "float"
        },
        {
         "name": "VendorNumber",
         "rawType": "int64",
         "type": "integer"
        },
        {
         "name": "VendorName",
         "rawType": "object",
         "type": "string"
        },
        {
         "name": "fecha_actualizacion",
         "rawType": "object",
         "type": "string"
        }
       ],
       "ref": "1786dbd2-6d5d-4900-81b2-74b7364dbe44",
       "rows": [
        [
         "0",
         "1",
         "Frizze Blue 1000mL",
         "11.5",
         "1000mL",
         "1000",
         "0",
         "11.5",
         "11500",
         "Distribuidora Sur S.A.",
         "2025-05-30 15:14:13"
        ],
        [
         "1",
         "2",
         "Cynar 750mL",
         "13.99",
         "750mL",
         "750",
         "0",
         "13.99",
         "11501",
         "Importadora Global Ltda.",
         "2025-05-30 15:14:13"
        ],
        [
         "2",
         "4",
         "Frizze Blue 1000mL",
         "11.5",
         "1000mL",
         "1000",
         "0",
         "11.5",
         "11500",
         "Distribuidora Sur S.A.",
         "2025-05-30 15:19:54"
        ],
        [
         "3",
         "5",
         "Cynar 750mL",
         "13.99",
         "750mL",
         "750",
         "0",
         "13.99",
         "11501",
         "Importadora Global Ltda.",
         "2025-05-30 15:19:54"
        ],
        [
         "4",
         "61",
         "Margaritaville Silver",
         "13.99",
         "750mL",
         "750",
         "1",
         "10.6",
         "8004",
         "SAZERAC CO INC",
         "2025-05-27 18:54:32"
        ]
       ],
       "shape": {
        "columns": 10,
        "rows": 5
       }
      },
      "text/html": [
       "<div>\n",
       "<style scoped>\n",
       "    .dataframe tbody tr th:only-of-type {\n",
       "        vertical-align: middle;\n",
       "    }\n",
       "\n",
       "    .dataframe tbody tr th {\n",
       "        vertical-align: top;\n",
       "    }\n",
       "\n",
       "    .dataframe thead th {\n",
       "        text-align: right;\n",
       "    }\n",
       "</style>\n",
       "<table border=\"1\" class=\"dataframe\">\n",
       "  <thead>\n",
       "    <tr style=\"text-align: right;\">\n",
       "      <th></th>\n",
       "      <th>Brand</th>\n",
       "      <th>Description</th>\n",
       "      <th>Price</th>\n",
       "      <th>Size</th>\n",
       "      <th>Volume</th>\n",
       "      <th>Classification</th>\n",
       "      <th>PurchasePrice</th>\n",
       "      <th>VendorNumber</th>\n",
       "      <th>VendorName</th>\n",
       "      <th>fecha_actualizacion</th>\n",
       "    </tr>\n",
       "  </thead>\n",
       "  <tbody>\n",
       "    <tr>\n",
       "      <th>0</th>\n",
       "      <td>1</td>\n",
       "      <td>Frizze Blue 1000mL</td>\n",
       "      <td>11.50</td>\n",
       "      <td>1000mL</td>\n",
       "      <td>1000</td>\n",
       "      <td>0</td>\n",
       "      <td>11.50</td>\n",
       "      <td>11500</td>\n",
       "      <td>Distribuidora Sur S.A.</td>\n",
       "      <td>2025-05-30 15:14:13</td>\n",
       "    </tr>\n",
       "    <tr>\n",
       "      <th>1</th>\n",
       "      <td>2</td>\n",
       "      <td>Cynar 750mL</td>\n",
       "      <td>13.99</td>\n",
       "      <td>750mL</td>\n",
       "      <td>750</td>\n",
       "      <td>0</td>\n",
       "      <td>13.99</td>\n",
       "      <td>11501</td>\n",
       "      <td>Importadora Global Ltda.</td>\n",
       "      <td>2025-05-30 15:14:13</td>\n",
       "    </tr>\n",
       "    <tr>\n",
       "      <th>2</th>\n",
       "      <td>4</td>\n",
       "      <td>Frizze Blue 1000mL</td>\n",
       "      <td>11.50</td>\n",
       "      <td>1000mL</td>\n",
       "      <td>1000</td>\n",
       "      <td>0</td>\n",
       "      <td>11.50</td>\n",
       "      <td>11500</td>\n",
       "      <td>Distribuidora Sur S.A.</td>\n",
       "      <td>2025-05-30 15:19:54</td>\n",
       "    </tr>\n",
       "    <tr>\n",
       "      <th>3</th>\n",
       "      <td>5</td>\n",
       "      <td>Cynar 750mL</td>\n",
       "      <td>13.99</td>\n",
       "      <td>750mL</td>\n",
       "      <td>750</td>\n",
       "      <td>0</td>\n",
       "      <td>13.99</td>\n",
       "      <td>11501</td>\n",
       "      <td>Importadora Global Ltda.</td>\n",
       "      <td>2025-05-30 15:19:54</td>\n",
       "    </tr>\n",
       "    <tr>\n",
       "      <th>4</th>\n",
       "      <td>61</td>\n",
       "      <td>Margaritaville Silver</td>\n",
       "      <td>13.99</td>\n",
       "      <td>750mL</td>\n",
       "      <td>750</td>\n",
       "      <td>1</td>\n",
       "      <td>10.60</td>\n",
       "      <td>8004</td>\n",
       "      <td>SAZERAC CO INC</td>\n",
       "      <td>2025-05-27 18:54:32</td>\n",
       "    </tr>\n",
       "  </tbody>\n",
       "</table>\n",
       "</div>"
      ],
      "text/plain": [
       "   Brand            Description  Price    Size  Volume  Classification  \\\n",
       "0      1     Frizze Blue 1000mL  11.50  1000mL    1000               0   \n",
       "1      2            Cynar 750mL  13.99   750mL     750               0   \n",
       "2      4     Frizze Blue 1000mL  11.50  1000mL    1000               0   \n",
       "3      5            Cynar 750mL  13.99   750mL     750               0   \n",
       "4     61  Margaritaville Silver  13.99   750mL     750               1   \n",
       "\n",
       "   PurchasePrice  VendorNumber                VendorName  fecha_actualizacion  \n",
       "0          11.50         11500    Distribuidora Sur S.A.  2025-05-30 15:14:13  \n",
       "1          13.99         11501  Importadora Global Ltda.  2025-05-30 15:14:13  \n",
       "2          11.50         11500    Distribuidora Sur S.A.  2025-05-30 15:19:54  \n",
       "3          13.99         11501  Importadora Global Ltda.  2025-05-30 15:19:54  \n",
       "4          10.60          8004            SAZERAC CO INC  2025-05-27 18:54:32  "
      ]
     },
     "execution_count": 5,
     "metadata": {},
     "output_type": "execute_result"
    }
   ],
   "source": [
    "df2.head()"
   ]
  },
  {
   "cell_type": "code",
   "execution_count": null,
   "id": "dbf5d723",
   "metadata": {},
   "outputs": [
    {
     "name": "stdout",
     "output_type": "stream",
     "text": [
      "<class 'pandas.core.frame.DataFrame'>\n",
      "RangeIndex: 6129 entries, 0 to 6128\n",
      "Data columns (total 10 columns):\n",
      " #   Column               Non-Null Count  Dtype  \n",
      "---  ------               --------------  -----  \n",
      " 0   Brand                6129 non-null   int64  \n",
      " 1   Description          6129 non-null   object \n",
      " 2   Price                6129 non-null   float64\n",
      " 3   Size                 6129 non-null   object \n",
      " 4   Volume               6129 non-null   int64  \n",
      " 5   Classification       6129 non-null   int64  \n",
      " 6   PurchasePrice        6129 non-null   float64\n",
      " 7   VendorNumber         6129 non-null   int64  \n",
      " 8   VendorName           6129 non-null   object \n",
      " 9   fecha_actualizacion  6129 non-null   object \n",
      "dtypes: float64(2), int64(4), object(4)\n",
      "memory usage: 479.0+ KB\n"
     ]
    }
   ],
   "source": [
    "df2.info()"
   ]
  },
  {
   "cell_type": "code",
   "execution_count": null,
   "id": "fd252cbc",
   "metadata": {},
   "outputs": [],
   "source": [
    "columnas_a_eliminar = ['Size', 'fecha_actualizacion', 'Classification']\n",
    "\n",
    "df2 = df2.drop(columns=[col for col in columnas_a_eliminar if col in df2.columns])"
   ]
  },
  {
   "cell_type": "code",
   "execution_count": null,
   "id": "643c14e1",
   "metadata": {},
   "outputs": [
    {
     "data": {
      "application/vnd.microsoft.datawrangler.viewer.v0+json": {
       "columns": [
        {
         "name": "index",
         "rawType": "int64",
         "type": "integer"
        },
        {
         "name": "Brand",
         "rawType": "int64",
         "type": "integer"
        },
        {
         "name": "Description",
         "rawType": "object",
         "type": "string"
        },
        {
         "name": "Price",
         "rawType": "object",
         "type": "string"
        },
        {
         "name": "Volume",
         "rawType": "int64",
         "type": "integer"
        },
        {
         "name": "PurchasePrice",
         "rawType": "object",
         "type": "string"
        },
        {
         "name": "VendorNumber",
         "rawType": "int64",
         "type": "integer"
        },
        {
         "name": "VendorName",
         "rawType": "object",
         "type": "string"
        }
       ],
       "ref": "961e8059-a995-47f9-a5e3-f39991f55ea8",
       "rows": [
        [
         "0",
         "1",
         "Frizze Blue 1000mL",
         "11,5",
         "1000",
         "11,5",
         "11500",
         "Distribuidora Sur S.A."
        ],
        [
         "1",
         "2",
         "Cynar 750mL",
         "13,99",
         "750",
         "13,99",
         "11501",
         "Importadora Global Ltda."
        ],
        [
         "2",
         "4",
         "Frizze Blue 1000mL",
         "11,5",
         "1000",
         "11,5",
         "11500",
         "Distribuidora Sur S.A."
        ],
        [
         "3",
         "5",
         "Cynar 750mL",
         "13,99",
         "750",
         "13,99",
         "11501",
         "Importadora Global Ltda."
        ],
        [
         "4",
         "61",
         "Margaritaville Silver",
         "13,99",
         "750",
         "10,6",
         "8004",
         "SAZERAC CO INC"
        ]
       ],
       "shape": {
        "columns": 7,
        "rows": 5
       }
      },
      "text/html": [
       "<div>\n",
       "<style scoped>\n",
       "    .dataframe tbody tr th:only-of-type {\n",
       "        vertical-align: middle;\n",
       "    }\n",
       "\n",
       "    .dataframe tbody tr th {\n",
       "        vertical-align: top;\n",
       "    }\n",
       "\n",
       "    .dataframe thead th {\n",
       "        text-align: right;\n",
       "    }\n",
       "</style>\n",
       "<table border=\"1\" class=\"dataframe\">\n",
       "  <thead>\n",
       "    <tr style=\"text-align: right;\">\n",
       "      <th></th>\n",
       "      <th>Brand</th>\n",
       "      <th>Description</th>\n",
       "      <th>Price</th>\n",
       "      <th>Volume</th>\n",
       "      <th>PurchasePrice</th>\n",
       "      <th>VendorNumber</th>\n",
       "      <th>VendorName</th>\n",
       "    </tr>\n",
       "  </thead>\n",
       "  <tbody>\n",
       "    <tr>\n",
       "      <th>0</th>\n",
       "      <td>1</td>\n",
       "      <td>Frizze Blue 1000mL</td>\n",
       "      <td>11,5</td>\n",
       "      <td>1000</td>\n",
       "      <td>11,5</td>\n",
       "      <td>11500</td>\n",
       "      <td>Distribuidora Sur S.A.</td>\n",
       "    </tr>\n",
       "    <tr>\n",
       "      <th>1</th>\n",
       "      <td>2</td>\n",
       "      <td>Cynar 750mL</td>\n",
       "      <td>13,99</td>\n",
       "      <td>750</td>\n",
       "      <td>13,99</td>\n",
       "      <td>11501</td>\n",
       "      <td>Importadora Global Ltda.</td>\n",
       "    </tr>\n",
       "    <tr>\n",
       "      <th>2</th>\n",
       "      <td>4</td>\n",
       "      <td>Frizze Blue 1000mL</td>\n",
       "      <td>11,5</td>\n",
       "      <td>1000</td>\n",
       "      <td>11,5</td>\n",
       "      <td>11500</td>\n",
       "      <td>Distribuidora Sur S.A.</td>\n",
       "    </tr>\n",
       "    <tr>\n",
       "      <th>3</th>\n",
       "      <td>5</td>\n",
       "      <td>Cynar 750mL</td>\n",
       "      <td>13,99</td>\n",
       "      <td>750</td>\n",
       "      <td>13,99</td>\n",
       "      <td>11501</td>\n",
       "      <td>Importadora Global Ltda.</td>\n",
       "    </tr>\n",
       "    <tr>\n",
       "      <th>4</th>\n",
       "      <td>61</td>\n",
       "      <td>Margaritaville Silver</td>\n",
       "      <td>13,99</td>\n",
       "      <td>750</td>\n",
       "      <td>10,6</td>\n",
       "      <td>8004</td>\n",
       "      <td>SAZERAC CO INC</td>\n",
       "    </tr>\n",
       "  </tbody>\n",
       "</table>\n",
       "</div>"
      ],
      "text/plain": [
       "   Brand            Description  Price  Volume PurchasePrice  VendorNumber  \\\n",
       "0      1     Frizze Blue 1000mL   11,5    1000          11,5         11500   \n",
       "1      2            Cynar 750mL  13,99     750         13,99         11501   \n",
       "2      4     Frizze Blue 1000mL   11,5    1000          11,5         11500   \n",
       "3      5            Cynar 750mL  13,99     750         13,99         11501   \n",
       "4     61  Margaritaville Silver  13,99     750          10,6          8004   \n",
       "\n",
       "                 VendorName  \n",
       "0    Distribuidora Sur S.A.  \n",
       "1  Importadora Global Ltda.  \n",
       "2    Distribuidora Sur S.A.  \n",
       "3  Importadora Global Ltda.  \n",
       "4            SAZERAC CO INC  "
      ]
     },
     "execution_count": 28,
     "metadata": {},
     "output_type": "execute_result"
    }
   ],
   "source": [
    "df2.head()"
   ]
  },
  {
   "cell_type": "code",
   "execution_count": null,
   "id": "b1064c93",
   "metadata": {},
   "outputs": [],
   "source": [
    "columnas_coma = ['Price', 'PurchasePrice']\n",
    "\n",
    "for col in columnas_coma:\n",
    "    df2[col] = df2[col].astype(str).str.replace('.', ',', regex=False)"
   ]
  },
  {
   "cell_type": "code",
   "execution_count": null,
   "id": "2369c02b",
   "metadata": {},
   "outputs": [
    {
     "data": {
      "application/vnd.microsoft.datawrangler.viewer.v0+json": {
       "columns": [
        {
         "name": "index",
         "rawType": "int64",
         "type": "integer"
        },
        {
         "name": "Brand",
         "rawType": "int64",
         "type": "integer"
        },
        {
         "name": "Description",
         "rawType": "object",
         "type": "string"
        },
        {
         "name": "Price",
         "rawType": "object",
         "type": "string"
        },
        {
         "name": "Volume",
         "rawType": "int64",
         "type": "integer"
        },
        {
         "name": "PurchasePrice",
         "rawType": "object",
         "type": "string"
        },
        {
         "name": "VendorNumber",
         "rawType": "int64",
         "type": "integer"
        },
        {
         "name": "VendorName",
         "rawType": "object",
         "type": "string"
        }
       ],
       "ref": "0280ec9b-0423-4c07-a69e-83294bbb505d",
       "rows": [
        [
         "0",
         "1",
         "Frizze Blue 1000mL",
         "11,5",
         "1000",
         "11,5",
         "11500",
         "Distribuidora Sur S.A."
        ],
        [
         "1",
         "2",
         "Cynar 750mL",
         "13,99",
         "750",
         "13,99",
         "11501",
         "Importadora Global Ltda."
        ],
        [
         "2",
         "4",
         "Frizze Blue 1000mL",
         "11,5",
         "1000",
         "11,5",
         "11500",
         "Distribuidora Sur S.A."
        ],
        [
         "3",
         "5",
         "Cynar 750mL",
         "13,99",
         "750",
         "13,99",
         "11501",
         "Importadora Global Ltda."
        ],
        [
         "4",
         "61",
         "Margaritaville Silver",
         "13,99",
         "750",
         "10,6",
         "8004",
         "SAZERAC CO INC"
        ]
       ],
       "shape": {
        "columns": 7,
        "rows": 5
       }
      },
      "text/html": [
       "<div>\n",
       "<style scoped>\n",
       "    .dataframe tbody tr th:only-of-type {\n",
       "        vertical-align: middle;\n",
       "    }\n",
       "\n",
       "    .dataframe tbody tr th {\n",
       "        vertical-align: top;\n",
       "    }\n",
       "\n",
       "    .dataframe thead th {\n",
       "        text-align: right;\n",
       "    }\n",
       "</style>\n",
       "<table border=\"1\" class=\"dataframe\">\n",
       "  <thead>\n",
       "    <tr style=\"text-align: right;\">\n",
       "      <th></th>\n",
       "      <th>Brand</th>\n",
       "      <th>Description</th>\n",
       "      <th>Price</th>\n",
       "      <th>Volume</th>\n",
       "      <th>PurchasePrice</th>\n",
       "      <th>VendorNumber</th>\n",
       "      <th>VendorName</th>\n",
       "    </tr>\n",
       "  </thead>\n",
       "  <tbody>\n",
       "    <tr>\n",
       "      <th>0</th>\n",
       "      <td>1</td>\n",
       "      <td>Frizze Blue 1000mL</td>\n",
       "      <td>11,5</td>\n",
       "      <td>1000</td>\n",
       "      <td>11,5</td>\n",
       "      <td>11500</td>\n",
       "      <td>Distribuidora Sur S.A.</td>\n",
       "    </tr>\n",
       "    <tr>\n",
       "      <th>1</th>\n",
       "      <td>2</td>\n",
       "      <td>Cynar 750mL</td>\n",
       "      <td>13,99</td>\n",
       "      <td>750</td>\n",
       "      <td>13,99</td>\n",
       "      <td>11501</td>\n",
       "      <td>Importadora Global Ltda.</td>\n",
       "    </tr>\n",
       "    <tr>\n",
       "      <th>2</th>\n",
       "      <td>4</td>\n",
       "      <td>Frizze Blue 1000mL</td>\n",
       "      <td>11,5</td>\n",
       "      <td>1000</td>\n",
       "      <td>11,5</td>\n",
       "      <td>11500</td>\n",
       "      <td>Distribuidora Sur S.A.</td>\n",
       "    </tr>\n",
       "    <tr>\n",
       "      <th>3</th>\n",
       "      <td>5</td>\n",
       "      <td>Cynar 750mL</td>\n",
       "      <td>13,99</td>\n",
       "      <td>750</td>\n",
       "      <td>13,99</td>\n",
       "      <td>11501</td>\n",
       "      <td>Importadora Global Ltda.</td>\n",
       "    </tr>\n",
       "    <tr>\n",
       "      <th>4</th>\n",
       "      <td>61</td>\n",
       "      <td>Margaritaville Silver</td>\n",
       "      <td>13,99</td>\n",
       "      <td>750</td>\n",
       "      <td>10,6</td>\n",
       "      <td>8004</td>\n",
       "      <td>SAZERAC CO INC</td>\n",
       "    </tr>\n",
       "  </tbody>\n",
       "</table>\n",
       "</div>"
      ],
      "text/plain": [
       "   Brand            Description  Price  Volume PurchasePrice  VendorNumber  \\\n",
       "0      1     Frizze Blue 1000mL   11,5    1000          11,5         11500   \n",
       "1      2            Cynar 750mL  13,99     750         13,99         11501   \n",
       "2      4     Frizze Blue 1000mL   11,5    1000          11,5         11500   \n",
       "3      5            Cynar 750mL  13,99     750         13,99         11501   \n",
       "4     61  Margaritaville Silver  13,99     750          10,6          8004   \n",
       "\n",
       "                 VendorName  \n",
       "0    Distribuidora Sur S.A.  \n",
       "1  Importadora Global Ltda.  \n",
       "2    Distribuidora Sur S.A.  \n",
       "3  Importadora Global Ltda.  \n",
       "4            SAZERAC CO INC  "
      ]
     },
     "execution_count": 30,
     "metadata": {},
     "output_type": "execute_result"
    }
   ],
   "source": [
    "df2.head()"
   ]
  },
  {
   "cell_type": "code",
   "execution_count": null,
   "id": "000c8b05",
   "metadata": {},
   "outputs": [],
   "source": [
    "#Ya hicimos toda la limpieza, guardamos\n",
    "df2.to_csv('Productos.csv', index=False)"
   ]
  },
  {
   "cell_type": "markdown",
   "id": "b83351b7",
   "metadata": {},
   "source": [
    "--------------"
   ]
  },
  {
   "cell_type": "code",
   "execution_count": null,
   "id": "c639657e",
   "metadata": {},
   "outputs": [],
   "source": [
    "df4 = pd.read_csv('D:/Curso Henry/Proyecto final/CSV/Copia de PurchaseFINAL12312016_Modificado.csv')"
   ]
  },
  {
   "cell_type": "code",
   "execution_count": null,
   "id": "11284826",
   "metadata": {},
   "outputs": [
    {
     "data": {
      "application/vnd.microsoft.datawrangler.viewer.v0+json": {
       "columns": [
        {
         "name": "index",
         "rawType": "int64",
         "type": "integer"
        },
        {
         "name": "InventoryId",
         "rawType": "object",
         "type": "string"
        },
        {
         "name": "Store",
         "rawType": "int64",
         "type": "integer"
        },
        {
         "name": "Brand",
         "rawType": "int64",
         "type": "integer"
        },
        {
         "name": "Description",
         "rawType": "object",
         "type": "string"
        },
        {
         "name": "Size",
         "rawType": "object",
         "type": "string"
        },
        {
         "name": "VendorNumber",
         "rawType": "int64",
         "type": "integer"
        },
        {
         "name": "VendorName",
         "rawType": "object",
         "type": "string"
        },
        {
         "name": "PONumber",
         "rawType": "int64",
         "type": "integer"
        },
        {
         "name": "PODate",
         "rawType": "object",
         "type": "string"
        },
        {
         "name": "ReceivingDate",
         "rawType": "object",
         "type": "string"
        },
        {
         "name": "InvoiceDate",
         "rawType": "object",
         "type": "string"
        },
        {
         "name": "PayDate",
         "rawType": "object",
         "type": "string"
        },
        {
         "name": "PurchasePrice",
         "rawType": "float64",
         "type": "float"
        },
        {
         "name": "Quantity",
         "rawType": "int64",
         "type": "integer"
        },
        {
         "name": "Dollars",
         "rawType": "float64",
         "type": "float"
        },
        {
         "name": "Classification",
         "rawType": "int64",
         "type": "integer"
        },
        {
         "name": "fecha_actualizacion",
         "rawType": "object",
         "type": "string"
        }
       ],
       "ref": "79eebc96-f6be-4806-a28a-6f03067db6cd",
       "rows": [
        [
         "0",
         "30_CULCHETH_5255",
         "30",
         "5255",
         "TGI Fridays Ultimte Mudslide",
         "1.75L",
         "4466",
         "AMERICAN VINTAGE BEVERAGE",
         "8137",
         "2015-12-22",
         "2016-01-01",
         "2016-01-07",
         "2016-02-21",
         "9.35",
         "4",
         "37.4",
         "1",
         "2025-05-27 18:54:37"
        ],
        [
         "1",
         "34_PITMERDEN_5215",
         "34",
         "5215",
         "TGI Fridays Long Island Iced",
         "1.75L",
         "4466",
         "AMERICAN VINTAGE BEVERAGE",
         "8137",
         "2015-12-22",
         "2016-01-02",
         "2016-01-07",
         "2016-02-21",
         "9.41",
         "5",
         "47.05",
         "1",
         "2025-05-27 18:54:37"
        ],
        [
         "2",
         "1_HARDERSFIELD_5255",
         "1",
         "5255",
         "TGI Fridays Ultimte Mudslide",
         "1.75L",
         "4466",
         "AMERICAN VINTAGE BEVERAGE",
         "8137",
         "2015-12-22",
         "2016-01-01",
         "2016-01-07",
         "2016-02-21",
         "9.35",
         "6",
         "56.1",
         "1",
         "2025-05-27 18:54:37"
        ],
        [
         "3",
         "76_DONCASTER_2034",
         "76",
         "2034",
         "Glendalough Double Barrel",
         "750mL",
         "388",
         "ATLANTIC IMPORTING COMPANY",
         "8169",
         "2015-12-24",
         "2016-01-02",
         "2016-01-09",
         "2016-02-16",
         "21.32",
         "5",
         "106.6",
         "1",
         "2025-05-27 18:54:37"
        ],
        [
         "4",
         "5_SUTTON_3348",
         "5",
         "3348",
         "Bombay Sapphire Gin",
         "1.75L",
         "480",
         "BACARDI USA INC",
         "8106",
         "2015-12-20",
         "2016-01-02",
         "2016-01-12",
         "2016-02-05",
         "22.38",
         "6",
         "134.28",
         "1",
         "2025-05-27 18:54:37"
        ]
       ],
       "shape": {
        "columns": 17,
        "rows": 5
       }
      },
      "text/html": [
       "<div>\n",
       "<style scoped>\n",
       "    .dataframe tbody tr th:only-of-type {\n",
       "        vertical-align: middle;\n",
       "    }\n",
       "\n",
       "    .dataframe tbody tr th {\n",
       "        vertical-align: top;\n",
       "    }\n",
       "\n",
       "    .dataframe thead th {\n",
       "        text-align: right;\n",
       "    }\n",
       "</style>\n",
       "<table border=\"1\" class=\"dataframe\">\n",
       "  <thead>\n",
       "    <tr style=\"text-align: right;\">\n",
       "      <th></th>\n",
       "      <th>InventoryId</th>\n",
       "      <th>Store</th>\n",
       "      <th>Brand</th>\n",
       "      <th>Description</th>\n",
       "      <th>Size</th>\n",
       "      <th>VendorNumber</th>\n",
       "      <th>VendorName</th>\n",
       "      <th>PONumber</th>\n",
       "      <th>PODate</th>\n",
       "      <th>ReceivingDate</th>\n",
       "      <th>InvoiceDate</th>\n",
       "      <th>PayDate</th>\n",
       "      <th>PurchasePrice</th>\n",
       "      <th>Quantity</th>\n",
       "      <th>Dollars</th>\n",
       "      <th>Classification</th>\n",
       "      <th>fecha_actualizacion</th>\n",
       "    </tr>\n",
       "  </thead>\n",
       "  <tbody>\n",
       "    <tr>\n",
       "      <th>0</th>\n",
       "      <td>30_CULCHETH_5255</td>\n",
       "      <td>30</td>\n",
       "      <td>5255</td>\n",
       "      <td>TGI Fridays Ultimte Mudslide</td>\n",
       "      <td>1.75L</td>\n",
       "      <td>4466</td>\n",
       "      <td>AMERICAN VINTAGE BEVERAGE</td>\n",
       "      <td>8137</td>\n",
       "      <td>2015-12-22</td>\n",
       "      <td>2016-01-01</td>\n",
       "      <td>2016-01-07</td>\n",
       "      <td>2016-02-21</td>\n",
       "      <td>9.35</td>\n",
       "      <td>4</td>\n",
       "      <td>37.40</td>\n",
       "      <td>1</td>\n",
       "      <td>2025-05-27 18:54:37</td>\n",
       "    </tr>\n",
       "    <tr>\n",
       "      <th>1</th>\n",
       "      <td>34_PITMERDEN_5215</td>\n",
       "      <td>34</td>\n",
       "      <td>5215</td>\n",
       "      <td>TGI Fridays Long Island Iced</td>\n",
       "      <td>1.75L</td>\n",
       "      <td>4466</td>\n",
       "      <td>AMERICAN VINTAGE BEVERAGE</td>\n",
       "      <td>8137</td>\n",
       "      <td>2015-12-22</td>\n",
       "      <td>2016-01-02</td>\n",
       "      <td>2016-01-07</td>\n",
       "      <td>2016-02-21</td>\n",
       "      <td>9.41</td>\n",
       "      <td>5</td>\n",
       "      <td>47.05</td>\n",
       "      <td>1</td>\n",
       "      <td>2025-05-27 18:54:37</td>\n",
       "    </tr>\n",
       "    <tr>\n",
       "      <th>2</th>\n",
       "      <td>1_HARDERSFIELD_5255</td>\n",
       "      <td>1</td>\n",
       "      <td>5255</td>\n",
       "      <td>TGI Fridays Ultimte Mudslide</td>\n",
       "      <td>1.75L</td>\n",
       "      <td>4466</td>\n",
       "      <td>AMERICAN VINTAGE BEVERAGE</td>\n",
       "      <td>8137</td>\n",
       "      <td>2015-12-22</td>\n",
       "      <td>2016-01-01</td>\n",
       "      <td>2016-01-07</td>\n",
       "      <td>2016-02-21</td>\n",
       "      <td>9.35</td>\n",
       "      <td>6</td>\n",
       "      <td>56.10</td>\n",
       "      <td>1</td>\n",
       "      <td>2025-05-27 18:54:37</td>\n",
       "    </tr>\n",
       "    <tr>\n",
       "      <th>3</th>\n",
       "      <td>76_DONCASTER_2034</td>\n",
       "      <td>76</td>\n",
       "      <td>2034</td>\n",
       "      <td>Glendalough Double Barrel</td>\n",
       "      <td>750mL</td>\n",
       "      <td>388</td>\n",
       "      <td>ATLANTIC IMPORTING COMPANY</td>\n",
       "      <td>8169</td>\n",
       "      <td>2015-12-24</td>\n",
       "      <td>2016-01-02</td>\n",
       "      <td>2016-01-09</td>\n",
       "      <td>2016-02-16</td>\n",
       "      <td>21.32</td>\n",
       "      <td>5</td>\n",
       "      <td>106.60</td>\n",
       "      <td>1</td>\n",
       "      <td>2025-05-27 18:54:37</td>\n",
       "    </tr>\n",
       "    <tr>\n",
       "      <th>4</th>\n",
       "      <td>5_SUTTON_3348</td>\n",
       "      <td>5</td>\n",
       "      <td>3348</td>\n",
       "      <td>Bombay Sapphire Gin</td>\n",
       "      <td>1.75L</td>\n",
       "      <td>480</td>\n",
       "      <td>BACARDI USA INC</td>\n",
       "      <td>8106</td>\n",
       "      <td>2015-12-20</td>\n",
       "      <td>2016-01-02</td>\n",
       "      <td>2016-01-12</td>\n",
       "      <td>2016-02-05</td>\n",
       "      <td>22.38</td>\n",
       "      <td>6</td>\n",
       "      <td>134.28</td>\n",
       "      <td>1</td>\n",
       "      <td>2025-05-27 18:54:37</td>\n",
       "    </tr>\n",
       "  </tbody>\n",
       "</table>\n",
       "</div>"
      ],
      "text/plain": [
       "           InventoryId  Store  Brand                   Description   Size  \\\n",
       "0     30_CULCHETH_5255     30   5255  TGI Fridays Ultimte Mudslide  1.75L   \n",
       "1    34_PITMERDEN_5215     34   5215  TGI Fridays Long Island Iced  1.75L   \n",
       "2  1_HARDERSFIELD_5255      1   5255  TGI Fridays Ultimte Mudslide  1.75L   \n",
       "3    76_DONCASTER_2034     76   2034     Glendalough Double Barrel  750mL   \n",
       "4        5_SUTTON_3348      5   3348           Bombay Sapphire Gin  1.75L   \n",
       "\n",
       "   VendorNumber                  VendorName  PONumber      PODate  \\\n",
       "0          4466   AMERICAN VINTAGE BEVERAGE      8137  2015-12-22   \n",
       "1          4466   AMERICAN VINTAGE BEVERAGE      8137  2015-12-22   \n",
       "2          4466   AMERICAN VINTAGE BEVERAGE      8137  2015-12-22   \n",
       "3           388  ATLANTIC IMPORTING COMPANY      8169  2015-12-24   \n",
       "4           480             BACARDI USA INC      8106  2015-12-20   \n",
       "\n",
       "  ReceivingDate InvoiceDate     PayDate  PurchasePrice  Quantity  Dollars  \\\n",
       "0    2016-01-01  2016-01-07  2016-02-21           9.35         4    37.40   \n",
       "1    2016-01-02  2016-01-07  2016-02-21           9.41         5    47.05   \n",
       "2    2016-01-01  2016-01-07  2016-02-21           9.35         6    56.10   \n",
       "3    2016-01-02  2016-01-09  2016-02-16          21.32         5   106.60   \n",
       "4    2016-01-02  2016-01-12  2016-02-05          22.38         6   134.28   \n",
       "\n",
       "   Classification  fecha_actualizacion  \n",
       "0               1  2025-05-27 18:54:37  \n",
       "1               1  2025-05-27 18:54:37  \n",
       "2               1  2025-05-27 18:54:37  \n",
       "3               1  2025-05-27 18:54:37  \n",
       "4               1  2025-05-27 18:54:37  "
      ]
     },
     "execution_count": 107,
     "metadata": {},
     "output_type": "execute_result"
    }
   ],
   "source": [
    "df4.head()"
   ]
  },
  {
   "cell_type": "code",
   "execution_count": null,
   "id": "34e50850",
   "metadata": {},
   "outputs": [],
   "source": [
    "columnas_a_eliminar = ['fecha_actualizacion', 'Classification']\n",
    "\n",
    "df4 = df4.drop(columns=[col for col in columnas_a_eliminar if col in df4.columns])"
   ]
  },
  {
   "cell_type": "code",
   "execution_count": null,
   "id": "b14063d1",
   "metadata": {},
   "outputs": [],
   "source": [
    "columnas_coma = ['Dollars', 'PurchasePrice']\n",
    "\n",
    "#for col in columnas_coma:\n",
    "#    df4[col] = df4[col].astype(str).str.replace('.', ',', regex=False)"
   ]
  },
  {
   "cell_type": "code",
   "execution_count": null,
   "id": "8ecca727",
   "metadata": {},
   "outputs": [
    {
     "data": {
      "application/vnd.microsoft.datawrangler.viewer.v0+json": {
       "columns": [
        {
         "name": "index",
         "rawType": "int64",
         "type": "integer"
        },
        {
         "name": "InventoryId",
         "rawType": "object",
         "type": "string"
        },
        {
         "name": "Store",
         "rawType": "int64",
         "type": "integer"
        },
        {
         "name": "Brand",
         "rawType": "int64",
         "type": "integer"
        },
        {
         "name": "Description",
         "rawType": "object",
         "type": "string"
        },
        {
         "name": "Size",
         "rawType": "object",
         "type": "string"
        },
        {
         "name": "VendorNumber",
         "rawType": "int64",
         "type": "integer"
        },
        {
         "name": "VendorName",
         "rawType": "object",
         "type": "string"
        },
        {
         "name": "PONumber",
         "rawType": "int64",
         "type": "integer"
        },
        {
         "name": "PODate",
         "rawType": "object",
         "type": "string"
        },
        {
         "name": "ReceivingDate",
         "rawType": "object",
         "type": "string"
        },
        {
         "name": "InvoiceDate",
         "rawType": "object",
         "type": "string"
        },
        {
         "name": "PayDate",
         "rawType": "object",
         "type": "string"
        },
        {
         "name": "PurchasePrice",
         "rawType": "float64",
         "type": "float"
        },
        {
         "name": "Quantity",
         "rawType": "int64",
         "type": "integer"
        },
        {
         "name": "Dollars",
         "rawType": "float64",
         "type": "float"
        }
       ],
       "ref": "2e411644-b9f6-4d94-bd15-368602a11ff4",
       "rows": [
        [
         "0",
         "30_CULCHETH_5255",
         "30",
         "5255",
         "TGI Fridays Ultimte Mudslide",
         "1.75L",
         "4466",
         "AMERICAN VINTAGE BEVERAGE",
         "8137",
         "2015-12-22",
         "2016-01-01",
         "2016-01-07",
         "2016-02-21",
         "9.35",
         "4",
         "37.4"
        ],
        [
         "1",
         "34_PITMERDEN_5215",
         "34",
         "5215",
         "TGI Fridays Long Island Iced",
         "1.75L",
         "4466",
         "AMERICAN VINTAGE BEVERAGE",
         "8137",
         "2015-12-22",
         "2016-01-02",
         "2016-01-07",
         "2016-02-21",
         "9.41",
         "5",
         "47.05"
        ],
        [
         "2",
         "1_HARDERSFIELD_5255",
         "1",
         "5255",
         "TGI Fridays Ultimte Mudslide",
         "1.75L",
         "4466",
         "AMERICAN VINTAGE BEVERAGE",
         "8137",
         "2015-12-22",
         "2016-01-01",
         "2016-01-07",
         "2016-02-21",
         "9.35",
         "6",
         "56.1"
        ],
        [
         "3",
         "76_DONCASTER_2034",
         "76",
         "2034",
         "Glendalough Double Barrel",
         "750mL",
         "388",
         "ATLANTIC IMPORTING COMPANY",
         "8169",
         "2015-12-24",
         "2016-01-02",
         "2016-01-09",
         "2016-02-16",
         "21.32",
         "5",
         "106.6"
        ],
        [
         "4",
         "5_SUTTON_3348",
         "5",
         "3348",
         "Bombay Sapphire Gin",
         "1.75L",
         "480",
         "BACARDI USA INC",
         "8106",
         "2015-12-20",
         "2016-01-02",
         "2016-01-12",
         "2016-02-05",
         "22.38",
         "6",
         "134.28"
        ]
       ],
       "shape": {
        "columns": 15,
        "rows": 5
       }
      },
      "text/html": [
       "<div>\n",
       "<style scoped>\n",
       "    .dataframe tbody tr th:only-of-type {\n",
       "        vertical-align: middle;\n",
       "    }\n",
       "\n",
       "    .dataframe tbody tr th {\n",
       "        vertical-align: top;\n",
       "    }\n",
       "\n",
       "    .dataframe thead th {\n",
       "        text-align: right;\n",
       "    }\n",
       "</style>\n",
       "<table border=\"1\" class=\"dataframe\">\n",
       "  <thead>\n",
       "    <tr style=\"text-align: right;\">\n",
       "      <th></th>\n",
       "      <th>InventoryId</th>\n",
       "      <th>Store</th>\n",
       "      <th>Brand</th>\n",
       "      <th>Description</th>\n",
       "      <th>Size</th>\n",
       "      <th>VendorNumber</th>\n",
       "      <th>VendorName</th>\n",
       "      <th>PONumber</th>\n",
       "      <th>PODate</th>\n",
       "      <th>ReceivingDate</th>\n",
       "      <th>InvoiceDate</th>\n",
       "      <th>PayDate</th>\n",
       "      <th>PurchasePrice</th>\n",
       "      <th>Quantity</th>\n",
       "      <th>Dollars</th>\n",
       "    </tr>\n",
       "  </thead>\n",
       "  <tbody>\n",
       "    <tr>\n",
       "      <th>0</th>\n",
       "      <td>30_CULCHETH_5255</td>\n",
       "      <td>30</td>\n",
       "      <td>5255</td>\n",
       "      <td>TGI Fridays Ultimte Mudslide</td>\n",
       "      <td>1.75L</td>\n",
       "      <td>4466</td>\n",
       "      <td>AMERICAN VINTAGE BEVERAGE</td>\n",
       "      <td>8137</td>\n",
       "      <td>2015-12-22</td>\n",
       "      <td>2016-01-01</td>\n",
       "      <td>2016-01-07</td>\n",
       "      <td>2016-02-21</td>\n",
       "      <td>9.35</td>\n",
       "      <td>4</td>\n",
       "      <td>37.40</td>\n",
       "    </tr>\n",
       "    <tr>\n",
       "      <th>1</th>\n",
       "      <td>34_PITMERDEN_5215</td>\n",
       "      <td>34</td>\n",
       "      <td>5215</td>\n",
       "      <td>TGI Fridays Long Island Iced</td>\n",
       "      <td>1.75L</td>\n",
       "      <td>4466</td>\n",
       "      <td>AMERICAN VINTAGE BEVERAGE</td>\n",
       "      <td>8137</td>\n",
       "      <td>2015-12-22</td>\n",
       "      <td>2016-01-02</td>\n",
       "      <td>2016-01-07</td>\n",
       "      <td>2016-02-21</td>\n",
       "      <td>9.41</td>\n",
       "      <td>5</td>\n",
       "      <td>47.05</td>\n",
       "    </tr>\n",
       "    <tr>\n",
       "      <th>2</th>\n",
       "      <td>1_HARDERSFIELD_5255</td>\n",
       "      <td>1</td>\n",
       "      <td>5255</td>\n",
       "      <td>TGI Fridays Ultimte Mudslide</td>\n",
       "      <td>1.75L</td>\n",
       "      <td>4466</td>\n",
       "      <td>AMERICAN VINTAGE BEVERAGE</td>\n",
       "      <td>8137</td>\n",
       "      <td>2015-12-22</td>\n",
       "      <td>2016-01-01</td>\n",
       "      <td>2016-01-07</td>\n",
       "      <td>2016-02-21</td>\n",
       "      <td>9.35</td>\n",
       "      <td>6</td>\n",
       "      <td>56.10</td>\n",
       "    </tr>\n",
       "    <tr>\n",
       "      <th>3</th>\n",
       "      <td>76_DONCASTER_2034</td>\n",
       "      <td>76</td>\n",
       "      <td>2034</td>\n",
       "      <td>Glendalough Double Barrel</td>\n",
       "      <td>750mL</td>\n",
       "      <td>388</td>\n",
       "      <td>ATLANTIC IMPORTING COMPANY</td>\n",
       "      <td>8169</td>\n",
       "      <td>2015-12-24</td>\n",
       "      <td>2016-01-02</td>\n",
       "      <td>2016-01-09</td>\n",
       "      <td>2016-02-16</td>\n",
       "      <td>21.32</td>\n",
       "      <td>5</td>\n",
       "      <td>106.60</td>\n",
       "    </tr>\n",
       "    <tr>\n",
       "      <th>4</th>\n",
       "      <td>5_SUTTON_3348</td>\n",
       "      <td>5</td>\n",
       "      <td>3348</td>\n",
       "      <td>Bombay Sapphire Gin</td>\n",
       "      <td>1.75L</td>\n",
       "      <td>480</td>\n",
       "      <td>BACARDI USA INC</td>\n",
       "      <td>8106</td>\n",
       "      <td>2015-12-20</td>\n",
       "      <td>2016-01-02</td>\n",
       "      <td>2016-01-12</td>\n",
       "      <td>2016-02-05</td>\n",
       "      <td>22.38</td>\n",
       "      <td>6</td>\n",
       "      <td>134.28</td>\n",
       "    </tr>\n",
       "  </tbody>\n",
       "</table>\n",
       "</div>"
      ],
      "text/plain": [
       "           InventoryId  Store  Brand                   Description   Size  \\\n",
       "0     30_CULCHETH_5255     30   5255  TGI Fridays Ultimte Mudslide  1.75L   \n",
       "1    34_PITMERDEN_5215     34   5215  TGI Fridays Long Island Iced  1.75L   \n",
       "2  1_HARDERSFIELD_5255      1   5255  TGI Fridays Ultimte Mudslide  1.75L   \n",
       "3    76_DONCASTER_2034     76   2034     Glendalough Double Barrel  750mL   \n",
       "4        5_SUTTON_3348      5   3348           Bombay Sapphire Gin  1.75L   \n",
       "\n",
       "   VendorNumber                  VendorName  PONumber      PODate  \\\n",
       "0          4466   AMERICAN VINTAGE BEVERAGE      8137  2015-12-22   \n",
       "1          4466   AMERICAN VINTAGE BEVERAGE      8137  2015-12-22   \n",
       "2          4466   AMERICAN VINTAGE BEVERAGE      8137  2015-12-22   \n",
       "3           388  ATLANTIC IMPORTING COMPANY      8169  2015-12-24   \n",
       "4           480             BACARDI USA INC      8106  2015-12-20   \n",
       "\n",
       "  ReceivingDate InvoiceDate     PayDate  PurchasePrice  Quantity  Dollars  \n",
       "0    2016-01-01  2016-01-07  2016-02-21           9.35         4    37.40  \n",
       "1    2016-01-02  2016-01-07  2016-02-21           9.41         5    47.05  \n",
       "2    2016-01-01  2016-01-07  2016-02-21           9.35         6    56.10  \n",
       "3    2016-01-02  2016-01-09  2016-02-16          21.32         5   106.60  \n",
       "4    2016-01-02  2016-01-12  2016-02-05          22.38         6   134.28  "
      ]
     },
     "execution_count": 110,
     "metadata": {},
     "output_type": "execute_result"
    }
   ],
   "source": [
    "df4.head()"
   ]
  },
  {
   "cell_type": "code",
   "execution_count": null,
   "id": "b67cba3c",
   "metadata": {},
   "outputs": [],
   "source": [
    "resumen_nuevos = df4.groupby('PONumber', as_index=False).agg({\n",
    "    'VendorNumber': 'first',\n",
    "    'PODate': 'first',\n",
    "    'InvoiceDate': 'first',\n",
    "    'PayDate': 'first',\n",
    "    'Quantity': 'sum',\n",
    "    'Dollars': 'sum'\n",
    "})"
   ]
  },
  {
   "cell_type": "markdown",
   "id": "2f6789f2",
   "metadata": {},
   "source": [
    "-----------------"
   ]
  },
  {
   "cell_type": "code",
   "execution_count": null,
   "id": "d81535c9",
   "metadata": {},
   "outputs": [],
   "source": [
    "df3 = pd.read_csv('D:/Curso Henry/Proyecto final/CSV/Copia de Purchases12312016_Modificado.csv')"
   ]
  },
  {
   "cell_type": "code",
   "execution_count": null,
   "id": "8c62058c",
   "metadata": {},
   "outputs": [
    {
     "data": {
      "application/vnd.microsoft.datawrangler.viewer.v0+json": {
       "columns": [
        {
         "name": "index",
         "rawType": "int64",
         "type": "integer"
        },
        {
         "name": "VendorNumber",
         "rawType": "int64",
         "type": "integer"
        },
        {
         "name": "VendorName",
         "rawType": "object",
         "type": "string"
        },
        {
         "name": "InvoiceDate",
         "rawType": "object",
         "type": "string"
        },
        {
         "name": "PONumber",
         "rawType": "int64",
         "type": "integer"
        },
        {
         "name": "PODate",
         "rawType": "object",
         "type": "string"
        },
        {
         "name": "PayDate",
         "rawType": "object",
         "type": "string"
        },
        {
         "name": "Quantity",
         "rawType": "int64",
         "type": "integer"
        },
        {
         "name": "Dollars",
         "rawType": "float64",
         "type": "float"
        },
        {
         "name": "Freight",
         "rawType": "float64",
         "type": "float"
        },
        {
         "name": "fecha_actualizacion",
         "rawType": "object",
         "type": "string"
        }
       ],
       "ref": "6e337ad3-a12e-4e72-b592-6e6f25009618",
       "rows": [
        [
         "0",
         "4466",
         "AMERICAN VINTAGE BEVERAGE",
         "2016-01-07",
         "8137",
         "2015-12-22",
         "2016-02-21",
         "15",
         "140.55",
         "8.57",
         "2025-05-27 18:54:24"
        ],
        [
         "1",
         "480",
         "BACARDI USA INC",
         "2016-01-12",
         "8106",
         "2015-12-20",
         "2016-02-05",
         "10100",
         "137483.78",
         "2935.2",
         "2025-05-27 18:54:24"
        ],
        [
         "2",
         "2396",
         "BLACK PRINCE DISTILLERY INC",
         "2016-01-08",
         "8191",
         "2015-12-25",
         "2016-02-06",
         "23",
         "234.83",
         "2.3",
         "2025-05-27 18:54:24"
        ],
        [
         "3",
         "1189",
         "BULLY BOY DISTILLERS",
         "2016-01-09",
         "8171",
         "2015-12-24",
         "2016-02-04",
         "6",
         "132.3",
         "5.29",
         "2025-05-27 18:54:24"
        ],
        [
         "4",
         "11567",
         "CAMPARI AMERICA",
         "2016-01-06",
         "8151",
         "2015-12-23",
         "2016-02-20",
         "1321",
         "12039.71",
         "398.71",
         "2025-05-27 18:54:24"
        ]
       ],
       "shape": {
        "columns": 10,
        "rows": 5
       }
      },
      "text/html": [
       "<div>\n",
       "<style scoped>\n",
       "    .dataframe tbody tr th:only-of-type {\n",
       "        vertical-align: middle;\n",
       "    }\n",
       "\n",
       "    .dataframe tbody tr th {\n",
       "        vertical-align: top;\n",
       "    }\n",
       "\n",
       "    .dataframe thead th {\n",
       "        text-align: right;\n",
       "    }\n",
       "</style>\n",
       "<table border=\"1\" class=\"dataframe\">\n",
       "  <thead>\n",
       "    <tr style=\"text-align: right;\">\n",
       "      <th></th>\n",
       "      <th>VendorNumber</th>\n",
       "      <th>VendorName</th>\n",
       "      <th>InvoiceDate</th>\n",
       "      <th>PONumber</th>\n",
       "      <th>PODate</th>\n",
       "      <th>PayDate</th>\n",
       "      <th>Quantity</th>\n",
       "      <th>Dollars</th>\n",
       "      <th>Freight</th>\n",
       "      <th>fecha_actualizacion</th>\n",
       "    </tr>\n",
       "  </thead>\n",
       "  <tbody>\n",
       "    <tr>\n",
       "      <th>0</th>\n",
       "      <td>4466</td>\n",
       "      <td>AMERICAN VINTAGE BEVERAGE</td>\n",
       "      <td>2016-01-07</td>\n",
       "      <td>8137</td>\n",
       "      <td>2015-12-22</td>\n",
       "      <td>2016-02-21</td>\n",
       "      <td>15</td>\n",
       "      <td>140.55</td>\n",
       "      <td>8.57</td>\n",
       "      <td>2025-05-27 18:54:24</td>\n",
       "    </tr>\n",
       "    <tr>\n",
       "      <th>1</th>\n",
       "      <td>480</td>\n",
       "      <td>BACARDI USA INC</td>\n",
       "      <td>2016-01-12</td>\n",
       "      <td>8106</td>\n",
       "      <td>2015-12-20</td>\n",
       "      <td>2016-02-05</td>\n",
       "      <td>10100</td>\n",
       "      <td>137483.78</td>\n",
       "      <td>2935.20</td>\n",
       "      <td>2025-05-27 18:54:24</td>\n",
       "    </tr>\n",
       "    <tr>\n",
       "      <th>2</th>\n",
       "      <td>2396</td>\n",
       "      <td>BLACK PRINCE DISTILLERY INC</td>\n",
       "      <td>2016-01-08</td>\n",
       "      <td>8191</td>\n",
       "      <td>2015-12-25</td>\n",
       "      <td>2016-02-06</td>\n",
       "      <td>23</td>\n",
       "      <td>234.83</td>\n",
       "      <td>2.30</td>\n",
       "      <td>2025-05-27 18:54:24</td>\n",
       "    </tr>\n",
       "    <tr>\n",
       "      <th>3</th>\n",
       "      <td>1189</td>\n",
       "      <td>BULLY BOY DISTILLERS</td>\n",
       "      <td>2016-01-09</td>\n",
       "      <td>8171</td>\n",
       "      <td>2015-12-24</td>\n",
       "      <td>2016-02-04</td>\n",
       "      <td>6</td>\n",
       "      <td>132.30</td>\n",
       "      <td>5.29</td>\n",
       "      <td>2025-05-27 18:54:24</td>\n",
       "    </tr>\n",
       "    <tr>\n",
       "      <th>4</th>\n",
       "      <td>11567</td>\n",
       "      <td>CAMPARI AMERICA</td>\n",
       "      <td>2016-01-06</td>\n",
       "      <td>8151</td>\n",
       "      <td>2015-12-23</td>\n",
       "      <td>2016-02-20</td>\n",
       "      <td>1321</td>\n",
       "      <td>12039.71</td>\n",
       "      <td>398.71</td>\n",
       "      <td>2025-05-27 18:54:24</td>\n",
       "    </tr>\n",
       "  </tbody>\n",
       "</table>\n",
       "</div>"
      ],
      "text/plain": [
       "   VendorNumber                   VendorName InvoiceDate  PONumber  \\\n",
       "0          4466    AMERICAN VINTAGE BEVERAGE  2016-01-07      8137   \n",
       "1           480              BACARDI USA INC  2016-01-12      8106   \n",
       "2          2396  BLACK PRINCE DISTILLERY INC  2016-01-08      8191   \n",
       "3          1189         BULLY BOY DISTILLERS  2016-01-09      8171   \n",
       "4         11567              CAMPARI AMERICA  2016-01-06      8151   \n",
       "\n",
       "       PODate     PayDate  Quantity    Dollars  Freight  fecha_actualizacion  \n",
       "0  2015-12-22  2016-02-21        15     140.55     8.57  2025-05-27 18:54:24  \n",
       "1  2015-12-20  2016-02-05     10100  137483.78  2935.20  2025-05-27 18:54:24  \n",
       "2  2015-12-25  2016-02-06        23     234.83     2.30  2025-05-27 18:54:24  \n",
       "3  2015-12-24  2016-02-04         6     132.30     5.29  2025-05-27 18:54:24  \n",
       "4  2015-12-23  2016-02-20      1321   12039.71   398.71  2025-05-27 18:54:24  "
      ]
     },
     "execution_count": 113,
     "metadata": {},
     "output_type": "execute_result"
    }
   ],
   "source": [
    "df3.head()"
   ]
  },
  {
   "cell_type": "code",
   "execution_count": null,
   "id": "b8a8eddd",
   "metadata": {},
   "outputs": [],
   "source": [
    "columnas_a_eliminar = ['fecha_actualizacion']\n",
    "\n",
    "df3 = df3.drop(columns=[col for col in columnas_a_eliminar if col in df3.columns])"
   ]
  },
  {
   "cell_type": "code",
   "execution_count": null,
   "id": "16b308a2",
   "metadata": {},
   "outputs": [],
   "source": [
    "columnas_coma = ['Freight', 'Dollars']\n",
    "\n",
    "#for col in columnas_coma:\n",
    "#    df3[col] = df3[col].astype(str).str.replace('.', ',', regex=False)"
   ]
  },
  {
   "cell_type": "code",
   "execution_count": null,
   "id": "dbddd0de",
   "metadata": {},
   "outputs": [
    {
     "data": {
      "application/vnd.microsoft.datawrangler.viewer.v0+json": {
       "columns": [
        {
         "name": "index",
         "rawType": "int64",
         "type": "integer"
        },
        {
         "name": "VendorNumber",
         "rawType": "int64",
         "type": "integer"
        },
        {
         "name": "VendorName",
         "rawType": "object",
         "type": "string"
        },
        {
         "name": "InvoiceDate",
         "rawType": "object",
         "type": "string"
        },
        {
         "name": "PONumber",
         "rawType": "int64",
         "type": "integer"
        },
        {
         "name": "PODate",
         "rawType": "object",
         "type": "string"
        },
        {
         "name": "PayDate",
         "rawType": "object",
         "type": "string"
        },
        {
         "name": "Quantity",
         "rawType": "int64",
         "type": "integer"
        },
        {
         "name": "Dollars",
         "rawType": "float64",
         "type": "float"
        },
        {
         "name": "Freight",
         "rawType": "float64",
         "type": "float"
        }
       ],
       "ref": "a4bfc4dc-0fc4-4e37-99ae-5dcb5ff21328",
       "rows": [
        [
         "0",
         "4466",
         "AMERICAN VINTAGE BEVERAGE",
         "2016-01-07",
         "8137",
         "2015-12-22",
         "2016-02-21",
         "15",
         "140.55",
         "8.57"
        ],
        [
         "1",
         "480",
         "BACARDI USA INC",
         "2016-01-12",
         "8106",
         "2015-12-20",
         "2016-02-05",
         "10100",
         "137483.78",
         "2935.2"
        ],
        [
         "2",
         "2396",
         "BLACK PRINCE DISTILLERY INC",
         "2016-01-08",
         "8191",
         "2015-12-25",
         "2016-02-06",
         "23",
         "234.83",
         "2.3"
        ],
        [
         "3",
         "1189",
         "BULLY BOY DISTILLERS",
         "2016-01-09",
         "8171",
         "2015-12-24",
         "2016-02-04",
         "6",
         "132.3",
         "5.29"
        ],
        [
         "4",
         "11567",
         "CAMPARI AMERICA",
         "2016-01-06",
         "8151",
         "2015-12-23",
         "2016-02-20",
         "1321",
         "12039.71",
         "398.71"
        ]
       ],
       "shape": {
        "columns": 9,
        "rows": 5
       }
      },
      "text/html": [
       "<div>\n",
       "<style scoped>\n",
       "    .dataframe tbody tr th:only-of-type {\n",
       "        vertical-align: middle;\n",
       "    }\n",
       "\n",
       "    .dataframe tbody tr th {\n",
       "        vertical-align: top;\n",
       "    }\n",
       "\n",
       "    .dataframe thead th {\n",
       "        text-align: right;\n",
       "    }\n",
       "</style>\n",
       "<table border=\"1\" class=\"dataframe\">\n",
       "  <thead>\n",
       "    <tr style=\"text-align: right;\">\n",
       "      <th></th>\n",
       "      <th>VendorNumber</th>\n",
       "      <th>VendorName</th>\n",
       "      <th>InvoiceDate</th>\n",
       "      <th>PONumber</th>\n",
       "      <th>PODate</th>\n",
       "      <th>PayDate</th>\n",
       "      <th>Quantity</th>\n",
       "      <th>Dollars</th>\n",
       "      <th>Freight</th>\n",
       "    </tr>\n",
       "  </thead>\n",
       "  <tbody>\n",
       "    <tr>\n",
       "      <th>0</th>\n",
       "      <td>4466</td>\n",
       "      <td>AMERICAN VINTAGE BEVERAGE</td>\n",
       "      <td>2016-01-07</td>\n",
       "      <td>8137</td>\n",
       "      <td>2015-12-22</td>\n",
       "      <td>2016-02-21</td>\n",
       "      <td>15</td>\n",
       "      <td>140.55</td>\n",
       "      <td>8.57</td>\n",
       "    </tr>\n",
       "    <tr>\n",
       "      <th>1</th>\n",
       "      <td>480</td>\n",
       "      <td>BACARDI USA INC</td>\n",
       "      <td>2016-01-12</td>\n",
       "      <td>8106</td>\n",
       "      <td>2015-12-20</td>\n",
       "      <td>2016-02-05</td>\n",
       "      <td>10100</td>\n",
       "      <td>137483.78</td>\n",
       "      <td>2935.20</td>\n",
       "    </tr>\n",
       "    <tr>\n",
       "      <th>2</th>\n",
       "      <td>2396</td>\n",
       "      <td>BLACK PRINCE DISTILLERY INC</td>\n",
       "      <td>2016-01-08</td>\n",
       "      <td>8191</td>\n",
       "      <td>2015-12-25</td>\n",
       "      <td>2016-02-06</td>\n",
       "      <td>23</td>\n",
       "      <td>234.83</td>\n",
       "      <td>2.30</td>\n",
       "    </tr>\n",
       "    <tr>\n",
       "      <th>3</th>\n",
       "      <td>1189</td>\n",
       "      <td>BULLY BOY DISTILLERS</td>\n",
       "      <td>2016-01-09</td>\n",
       "      <td>8171</td>\n",
       "      <td>2015-12-24</td>\n",
       "      <td>2016-02-04</td>\n",
       "      <td>6</td>\n",
       "      <td>132.30</td>\n",
       "      <td>5.29</td>\n",
       "    </tr>\n",
       "    <tr>\n",
       "      <th>4</th>\n",
       "      <td>11567</td>\n",
       "      <td>CAMPARI AMERICA</td>\n",
       "      <td>2016-01-06</td>\n",
       "      <td>8151</td>\n",
       "      <td>2015-12-23</td>\n",
       "      <td>2016-02-20</td>\n",
       "      <td>1321</td>\n",
       "      <td>12039.71</td>\n",
       "      <td>398.71</td>\n",
       "    </tr>\n",
       "  </tbody>\n",
       "</table>\n",
       "</div>"
      ],
      "text/plain": [
       "   VendorNumber                   VendorName InvoiceDate  PONumber  \\\n",
       "0          4466    AMERICAN VINTAGE BEVERAGE  2016-01-07      8137   \n",
       "1           480              BACARDI USA INC  2016-01-12      8106   \n",
       "2          2396  BLACK PRINCE DISTILLERY INC  2016-01-08      8191   \n",
       "3          1189         BULLY BOY DISTILLERS  2016-01-09      8171   \n",
       "4         11567              CAMPARI AMERICA  2016-01-06      8151   \n",
       "\n",
       "       PODate     PayDate  Quantity    Dollars  Freight  \n",
       "0  2015-12-22  2016-02-21        15     140.55     8.57  \n",
       "1  2015-12-20  2016-02-05     10100  137483.78  2935.20  \n",
       "2  2015-12-25  2016-02-06        23     234.83     2.30  \n",
       "3  2015-12-24  2016-02-04         6     132.30     5.29  \n",
       "4  2015-12-23  2016-02-20      1321   12039.71   398.71  "
      ]
     },
     "execution_count": 116,
     "metadata": {},
     "output_type": "execute_result"
    }
   ],
   "source": [
    "df3.head()"
   ]
  },
  {
   "cell_type": "code",
   "execution_count": null,
   "id": "f5ce08a3",
   "metadata": {},
   "outputs": [],
   "source": [
    "# Asegurate de que ambos estén en string y sin espacios\n",
    "df3['PONumber'] = df3['PONumber'].astype(str).str.strip()\n",
    "resumen_nuevos['PONumber'] = resumen_nuevos['PONumber'].astype(str).str.strip()\n",
    "\n",
    "# Filtrar los nuevos PONumber\n",
    "nuevos_po = resumen_nuevos[~resumen_nuevos['PONumber'].isin(df3['PONumber'])]"
   ]
  },
  {
   "cell_type": "code",
   "execution_count": null,
   "id": "0df3de1e",
   "metadata": {},
   "outputs": [],
   "source": [
    "df3_actualizado = pd.concat([df3, nuevos_po], ignore_index=True)"
   ]
  },
  {
   "cell_type": "code",
   "execution_count": null,
   "id": "c79c66de",
   "metadata": {},
   "outputs": [
    {
     "name": "stdout",
     "output_type": "stream",
     "text": [
      "Filas nuevas agregadas: 2771\n"
     ]
    }
   ],
   "source": [
    "print(\"Filas nuevas agregadas:\", len(nuevos_po))"
   ]
  },
  {
   "cell_type": "code",
   "execution_count": null,
   "id": "d3ba09b1",
   "metadata": {},
   "outputs": [],
   "source": [
    "df3['PONumber'] = df3['PONumber'].astype(str).str.strip()\n",
    "df4['PONumber'] = df4['PONumber'].astype(str).str.strip()"
   ]
  },
  {
   "cell_type": "code",
   "execution_count": null,
   "id": "5c8e3dd1",
   "metadata": {},
   "outputs": [
    {
     "name": "stdout",
     "output_type": "stream",
     "text": [
      "Faltan 2771 PONumber en df3.\n"
     ]
    }
   ],
   "source": [
    "ponumbers_df3 = set(df3['PONumber'])\n",
    "ponumbers_df4 = set(df4['PONumber'])\n",
    "\n",
    "faltantes = ponumbers_df4 - ponumbers_df3\n",
    "print(f\"Faltan {len(faltantes)} PONumber en df3.\")"
   ]
  },
  {
   "cell_type": "code",
   "execution_count": null,
   "id": "fb8e4e48",
   "metadata": {},
   "outputs": [],
   "source": [
    "df4_faltantes = df4[df4['PONumber'].isin(faltantes)]"
   ]
  },
  {
   "cell_type": "code",
   "execution_count": null,
   "id": "4567bbe2",
   "metadata": {},
   "outputs": [],
   "source": [
    "nuevas_compras = df4_faltantes.groupby('PONumber', as_index=False).agg({\n",
    "    'VendorNumber': 'first',\n",
    "    'VendorName': 'first',\n",
    "    'InvoiceDate': 'first',\n",
    "    'PODate': 'first',\n",
    "    'PayDate': 'first',\n",
    "    'Quantity': 'sum',\n",
    "    'Dollars': 'sum'\n",
    "})"
   ]
  },
  {
   "cell_type": "code",
   "execution_count": null,
   "id": "ebf2d6dc",
   "metadata": {},
   "outputs": [],
   "source": [
    "df3_actualizado = pd.concat([df3, nuevas_compras], ignore_index=True)"
   ]
  },
  {
   "cell_type": "code",
   "execution_count": null,
   "id": "4cc0fb06",
   "metadata": {},
   "outputs": [
    {
     "name": "stdout",
     "output_type": "stream",
     "text": [
      "Total de PONumber únicos: 5542\n"
     ]
    }
   ],
   "source": [
    "print(\"Total de PONumber únicos:\", df3_actualizado['PONumber'].nunique())"
   ]
  },
  {
   "cell_type": "code",
   "execution_count": null,
   "id": "22f82c23",
   "metadata": {},
   "outputs": [
    {
     "data": {
      "application/vnd.microsoft.datawrangler.viewer.v0+json": {
       "columns": [
        {
         "name": "index",
         "rawType": "int64",
         "type": "integer"
        },
        {
         "name": "VendorNumber",
         "rawType": "int64",
         "type": "integer"
        },
        {
         "name": "VendorName",
         "rawType": "object",
         "type": "string"
        },
        {
         "name": "InvoiceDate",
         "rawType": "object",
         "type": "string"
        },
        {
         "name": "PONumber",
         "rawType": "object",
         "type": "string"
        },
        {
         "name": "PODate",
         "rawType": "object",
         "type": "string"
        },
        {
         "name": "PayDate",
         "rawType": "object",
         "type": "string"
        },
        {
         "name": "Quantity",
         "rawType": "int64",
         "type": "integer"
        },
        {
         "name": "Dollars",
         "rawType": "float64",
         "type": "float"
        },
        {
         "name": "Freight",
         "rawType": "float64",
         "type": "float"
        }
       ],
       "ref": "62fcc6e0-1fb0-4cc9-afa2-bf4f9b752321",
       "rows": [
        [
         "0",
         "4466",
         "AMERICAN VINTAGE BEVERAGE",
         "2016-01-07",
         "8137",
         "2015-12-22",
         "2016-02-21",
         "15",
         "140.55",
         "8.57"
        ],
        [
         "1",
         "480",
         "BACARDI USA INC",
         "2016-01-12",
         "8106",
         "2015-12-20",
         "2016-02-05",
         "10100",
         "137483.78",
         "2935.2"
        ],
        [
         "2",
         "2396",
         "BLACK PRINCE DISTILLERY INC",
         "2016-01-08",
         "8191",
         "2015-12-25",
         "2016-02-06",
         "23",
         "234.83",
         "2.3"
        ],
        [
         "3",
         "1189",
         "BULLY BOY DISTILLERS",
         "2016-01-09",
         "8171",
         "2015-12-24",
         "2016-02-04",
         "6",
         "132.3",
         "5.29"
        ],
        [
         "4",
         "11567",
         "CAMPARI AMERICA",
         "2016-01-06",
         "8151",
         "2015-12-23",
         "2016-02-20",
         "1321",
         "12039.71",
         "398.71"
        ]
       ],
       "shape": {
        "columns": 9,
        "rows": 5
       }
      },
      "text/html": [
       "<div>\n",
       "<style scoped>\n",
       "    .dataframe tbody tr th:only-of-type {\n",
       "        vertical-align: middle;\n",
       "    }\n",
       "\n",
       "    .dataframe tbody tr th {\n",
       "        vertical-align: top;\n",
       "    }\n",
       "\n",
       "    .dataframe thead th {\n",
       "        text-align: right;\n",
       "    }\n",
       "</style>\n",
       "<table border=\"1\" class=\"dataframe\">\n",
       "  <thead>\n",
       "    <tr style=\"text-align: right;\">\n",
       "      <th></th>\n",
       "      <th>VendorNumber</th>\n",
       "      <th>VendorName</th>\n",
       "      <th>InvoiceDate</th>\n",
       "      <th>PONumber</th>\n",
       "      <th>PODate</th>\n",
       "      <th>PayDate</th>\n",
       "      <th>Quantity</th>\n",
       "      <th>Dollars</th>\n",
       "      <th>Freight</th>\n",
       "    </tr>\n",
       "  </thead>\n",
       "  <tbody>\n",
       "    <tr>\n",
       "      <th>0</th>\n",
       "      <td>4466</td>\n",
       "      <td>AMERICAN VINTAGE BEVERAGE</td>\n",
       "      <td>2016-01-07</td>\n",
       "      <td>8137</td>\n",
       "      <td>2015-12-22</td>\n",
       "      <td>2016-02-21</td>\n",
       "      <td>15</td>\n",
       "      <td>140.55</td>\n",
       "      <td>8.57</td>\n",
       "    </tr>\n",
       "    <tr>\n",
       "      <th>1</th>\n",
       "      <td>480</td>\n",
       "      <td>BACARDI USA INC</td>\n",
       "      <td>2016-01-12</td>\n",
       "      <td>8106</td>\n",
       "      <td>2015-12-20</td>\n",
       "      <td>2016-02-05</td>\n",
       "      <td>10100</td>\n",
       "      <td>137483.78</td>\n",
       "      <td>2935.20</td>\n",
       "    </tr>\n",
       "    <tr>\n",
       "      <th>2</th>\n",
       "      <td>2396</td>\n",
       "      <td>BLACK PRINCE DISTILLERY INC</td>\n",
       "      <td>2016-01-08</td>\n",
       "      <td>8191</td>\n",
       "      <td>2015-12-25</td>\n",
       "      <td>2016-02-06</td>\n",
       "      <td>23</td>\n",
       "      <td>234.83</td>\n",
       "      <td>2.30</td>\n",
       "    </tr>\n",
       "    <tr>\n",
       "      <th>3</th>\n",
       "      <td>1189</td>\n",
       "      <td>BULLY BOY DISTILLERS</td>\n",
       "      <td>2016-01-09</td>\n",
       "      <td>8171</td>\n",
       "      <td>2015-12-24</td>\n",
       "      <td>2016-02-04</td>\n",
       "      <td>6</td>\n",
       "      <td>132.30</td>\n",
       "      <td>5.29</td>\n",
       "    </tr>\n",
       "    <tr>\n",
       "      <th>4</th>\n",
       "      <td>11567</td>\n",
       "      <td>CAMPARI AMERICA</td>\n",
       "      <td>2016-01-06</td>\n",
       "      <td>8151</td>\n",
       "      <td>2015-12-23</td>\n",
       "      <td>2016-02-20</td>\n",
       "      <td>1321</td>\n",
       "      <td>12039.71</td>\n",
       "      <td>398.71</td>\n",
       "    </tr>\n",
       "  </tbody>\n",
       "</table>\n",
       "</div>"
      ],
      "text/plain": [
       "   VendorNumber                   VendorName InvoiceDate PONumber      PODate  \\\n",
       "0          4466    AMERICAN VINTAGE BEVERAGE  2016-01-07     8137  2015-12-22   \n",
       "1           480              BACARDI USA INC  2016-01-12     8106  2015-12-20   \n",
       "2          2396  BLACK PRINCE DISTILLERY INC  2016-01-08     8191  2015-12-25   \n",
       "3          1189         BULLY BOY DISTILLERS  2016-01-09     8171  2015-12-24   \n",
       "4         11567              CAMPARI AMERICA  2016-01-06     8151  2015-12-23   \n",
       "\n",
       "      PayDate  Quantity    Dollars  Freight  \n",
       "0  2016-02-21        15     140.55     8.57  \n",
       "1  2016-02-05     10100  137483.78  2935.20  \n",
       "2  2016-02-06        23     234.83     2.30  \n",
       "3  2016-02-04         6     132.30     5.29  \n",
       "4  2016-02-20      1321   12039.71   398.71  "
      ]
     },
     "execution_count": 126,
     "metadata": {},
     "output_type": "execute_result"
    }
   ],
   "source": [
    "df3_actualizado.head()"
   ]
  },
  {
   "cell_type": "code",
   "execution_count": null,
   "id": "de84462e",
   "metadata": {},
   "outputs": [],
   "source": [
    "columnas_a_eliminar = ['VendorName']\n",
    "\n",
    "df4 = df4.drop(columns=[col for col in columnas_a_eliminar if col in df4.columns])"
   ]
  },
  {
   "cell_type": "code",
   "execution_count": null,
   "id": "2533140d",
   "metadata": {},
   "outputs": [],
   "source": [
    "df3_actualizado['Freight'] = pd.to_numeric(df3_actualizado['Freight'], errors='coerce')\n",
    "df3_actualizado['Quantity'] = pd.to_numeric(df3_actualizado['Quantity'], errors='coerce')"
   ]
  },
  {
   "cell_type": "code",
   "execution_count": null,
   "id": "fadc3a71",
   "metadata": {},
   "outputs": [
    {
     "name": "stdout",
     "output_type": "stream",
     "text": [
      "Costo promedio de envío por unidad: 0.0489\n"
     ]
    }
   ],
   "source": [
    "# Filtrar solo filas donde Freight y Quantity no estén vacíos\n",
    "freight_unit_cost = df3_actualizado.loc[\n",
    "    df3_actualizado['Freight'].notna() & df3_actualizado['Quantity'].notna(),\n",
    "    ['Freight', 'Quantity']\n",
    "]\n",
    "\n",
    "# Calcular la suma total y el promedio por unidad\n",
    "total_freight = freight_unit_cost['Freight'].sum()\n",
    "total_quantity = freight_unit_cost['Quantity'].sum()\n",
    "\n",
    "promedio_envio_por_unidad = total_freight / total_quantity\n",
    "print(f\"Costo promedio de envío por unidad: {promedio_envio_por_unidad:.4f}\")"
   ]
  },
  {
   "cell_type": "code",
   "execution_count": null,
   "id": "a1122edc",
   "metadata": {},
   "outputs": [],
   "source": [
    "df3_actualizado['Freight'] = np.where(\n",
    "    df3_actualizado['Freight'].isna(),\n",
    "    df3_actualizado['Quantity'] * promedio_envio_por_unidad,\n",
    "    df3_actualizado['Freight']\n",
    ")"
   ]
  },
  {
   "cell_type": "code",
   "execution_count": null,
   "id": "ff4364e7",
   "metadata": {},
   "outputs": [
    {
     "name": "stdout",
     "output_type": "stream",
     "text": [
      "Valores faltantes en Freight: 0\n"
     ]
    }
   ],
   "source": [
    "print(\"Valores faltantes en Freight:\", df3_actualizado['Freight'].isna().sum())"
   ]
  },
  {
   "cell_type": "code",
   "execution_count": null,
   "id": "5f6aba8c",
   "metadata": {},
   "outputs": [
    {
     "data": {
      "application/vnd.microsoft.datawrangler.viewer.v0+json": {
       "columns": [
        {
         "name": "index",
         "rawType": "int64",
         "type": "integer"
        },
        {
         "name": "VendorNumber",
         "rawType": "int64",
         "type": "integer"
        },
        {
         "name": "VendorName",
         "rawType": "object",
         "type": "string"
        },
        {
         "name": "InvoiceDate",
         "rawType": "object",
         "type": "string"
        },
        {
         "name": "PONumber",
         "rawType": "object",
         "type": "string"
        },
        {
         "name": "PODate",
         "rawType": "object",
         "type": "string"
        },
        {
         "name": "PayDate",
         "rawType": "object",
         "type": "string"
        },
        {
         "name": "Quantity",
         "rawType": "int64",
         "type": "integer"
        },
        {
         "name": "Dollars",
         "rawType": "float64",
         "type": "float"
        },
        {
         "name": "Freight",
         "rawType": "float64",
         "type": "float"
        }
       ],
       "ref": "1c6ae122-8ac5-498c-b9a2-e7dd761f5d56",
       "rows": [
        [
         "0",
         "4466",
         "AMERICAN VINTAGE BEVERAGE",
         "2016-01-07",
         "8137",
         "2015-12-22",
         "2016-02-21",
         "15",
         "140.55",
         "8.57"
        ],
        [
         "1",
         "480",
         "BACARDI USA INC",
         "2016-01-12",
         "8106",
         "2015-12-20",
         "2016-02-05",
         "10100",
         "137483.78",
         "2935.2"
        ],
        [
         "2",
         "2396",
         "BLACK PRINCE DISTILLERY INC",
         "2016-01-08",
         "8191",
         "2015-12-25",
         "2016-02-06",
         "23",
         "234.83",
         "2.3"
        ],
        [
         "3",
         "1189",
         "BULLY BOY DISTILLERS",
         "2016-01-09",
         "8171",
         "2015-12-24",
         "2016-02-04",
         "6",
         "132.3",
         "5.29"
        ],
        [
         "4",
         "11567",
         "CAMPARI AMERICA",
         "2016-01-06",
         "8151",
         "2015-12-23",
         "2016-02-20",
         "1321",
         "12039.71",
         "398.71"
        ]
       ],
       "shape": {
        "columns": 9,
        "rows": 5
       }
      },
      "text/html": [
       "<div>\n",
       "<style scoped>\n",
       "    .dataframe tbody tr th:only-of-type {\n",
       "        vertical-align: middle;\n",
       "    }\n",
       "\n",
       "    .dataframe tbody tr th {\n",
       "        vertical-align: top;\n",
       "    }\n",
       "\n",
       "    .dataframe thead th {\n",
       "        text-align: right;\n",
       "    }\n",
       "</style>\n",
       "<table border=\"1\" class=\"dataframe\">\n",
       "  <thead>\n",
       "    <tr style=\"text-align: right;\">\n",
       "      <th></th>\n",
       "      <th>VendorNumber</th>\n",
       "      <th>VendorName</th>\n",
       "      <th>InvoiceDate</th>\n",
       "      <th>PONumber</th>\n",
       "      <th>PODate</th>\n",
       "      <th>PayDate</th>\n",
       "      <th>Quantity</th>\n",
       "      <th>Dollars</th>\n",
       "      <th>Freight</th>\n",
       "    </tr>\n",
       "  </thead>\n",
       "  <tbody>\n",
       "    <tr>\n",
       "      <th>0</th>\n",
       "      <td>4466</td>\n",
       "      <td>AMERICAN VINTAGE BEVERAGE</td>\n",
       "      <td>2016-01-07</td>\n",
       "      <td>8137</td>\n",
       "      <td>2015-12-22</td>\n",
       "      <td>2016-02-21</td>\n",
       "      <td>15</td>\n",
       "      <td>140.55</td>\n",
       "      <td>8.57</td>\n",
       "    </tr>\n",
       "    <tr>\n",
       "      <th>1</th>\n",
       "      <td>480</td>\n",
       "      <td>BACARDI USA INC</td>\n",
       "      <td>2016-01-12</td>\n",
       "      <td>8106</td>\n",
       "      <td>2015-12-20</td>\n",
       "      <td>2016-02-05</td>\n",
       "      <td>10100</td>\n",
       "      <td>137483.78</td>\n",
       "      <td>2935.20</td>\n",
       "    </tr>\n",
       "    <tr>\n",
       "      <th>2</th>\n",
       "      <td>2396</td>\n",
       "      <td>BLACK PRINCE DISTILLERY INC</td>\n",
       "      <td>2016-01-08</td>\n",
       "      <td>8191</td>\n",
       "      <td>2015-12-25</td>\n",
       "      <td>2016-02-06</td>\n",
       "      <td>23</td>\n",
       "      <td>234.83</td>\n",
       "      <td>2.30</td>\n",
       "    </tr>\n",
       "    <tr>\n",
       "      <th>3</th>\n",
       "      <td>1189</td>\n",
       "      <td>BULLY BOY DISTILLERS</td>\n",
       "      <td>2016-01-09</td>\n",
       "      <td>8171</td>\n",
       "      <td>2015-12-24</td>\n",
       "      <td>2016-02-04</td>\n",
       "      <td>6</td>\n",
       "      <td>132.30</td>\n",
       "      <td>5.29</td>\n",
       "    </tr>\n",
       "    <tr>\n",
       "      <th>4</th>\n",
       "      <td>11567</td>\n",
       "      <td>CAMPARI AMERICA</td>\n",
       "      <td>2016-01-06</td>\n",
       "      <td>8151</td>\n",
       "      <td>2015-12-23</td>\n",
       "      <td>2016-02-20</td>\n",
       "      <td>1321</td>\n",
       "      <td>12039.71</td>\n",
       "      <td>398.71</td>\n",
       "    </tr>\n",
       "  </tbody>\n",
       "</table>\n",
       "</div>"
      ],
      "text/plain": [
       "   VendorNumber                   VendorName InvoiceDate PONumber      PODate  \\\n",
       "0          4466    AMERICAN VINTAGE BEVERAGE  2016-01-07     8137  2015-12-22   \n",
       "1           480              BACARDI USA INC  2016-01-12     8106  2015-12-20   \n",
       "2          2396  BLACK PRINCE DISTILLERY INC  2016-01-08     8191  2015-12-25   \n",
       "3          1189         BULLY BOY DISTILLERS  2016-01-09     8171  2015-12-24   \n",
       "4         11567              CAMPARI AMERICA  2016-01-06     8151  2015-12-23   \n",
       "\n",
       "      PayDate  Quantity    Dollars  Freight  \n",
       "0  2016-02-21        15     140.55     8.57  \n",
       "1  2016-02-05     10100  137483.78  2935.20  \n",
       "2  2016-02-06        23     234.83     2.30  \n",
       "3  2016-02-04         6     132.30     5.29  \n",
       "4  2016-02-20      1321   12039.71   398.71  "
      ]
     },
     "execution_count": 136,
     "metadata": {},
     "output_type": "execute_result"
    }
   ],
   "source": [
    "df3_actualizado.head()"
   ]
  },
  {
   "cell_type": "code",
   "execution_count": null,
   "id": "7c7e7bf2",
   "metadata": {},
   "outputs": [],
   "source": [
    "columnas_coma = ['Dollars', 'PurchasePrice']\n",
    "\n",
    "for col in columnas_coma:\n",
    "    df4[col] = df4[col].astype(str).str.replace('.', ',', regex=False)"
   ]
  },
  {
   "cell_type": "code",
   "execution_count": null,
   "id": "2fd2bc05",
   "metadata": {},
   "outputs": [],
   "source": [
    "columnas_coma = ['Freight', 'Dollars']\n",
    "\n",
    "for col in columnas_coma:\n",
    "    df3_actualizado[col] = df3_actualizado[col].astype(str).str.replace('.', ',', regex=False)"
   ]
  },
  {
   "cell_type": "code",
   "execution_count": null,
   "id": "2e64d888",
   "metadata": {},
   "outputs": [],
   "source": [
    "#Ya hicimos toda la limpieza, guardamos\n",
    "df3_actualizado.to_csv('Compras.csv', index=False)"
   ]
  },
  {
   "cell_type": "code",
   "execution_count": null,
   "id": "189cb7cc",
   "metadata": {},
   "outputs": [],
   "source": [
    "#Ya hicimos toda la limpieza, guardamos\n",
    "df4.to_csv('Detalle_compra.csv', index=False)"
   ]
  },
  {
   "cell_type": "markdown",
   "id": "a3d65bd3",
   "metadata": {},
   "source": [
    "---------------"
   ]
  },
  {
   "cell_type": "code",
   "execution_count": null,
   "id": "b6d89e9d",
   "metadata": {},
   "outputs": [],
   "source": [
    "df5 = pd.read_csv('D:/Curso Henry/Proyecto final/CSV/Copia de BegInvFINAL12312016_Modificado.csv')"
   ]
  },
  {
   "cell_type": "code",
   "execution_count": null,
   "id": "b8885a2e",
   "metadata": {},
   "outputs": [
    {
     "data": {
      "application/vnd.microsoft.datawrangler.viewer.v0+json": {
       "columns": [
        {
         "name": "index",
         "rawType": "int64",
         "type": "integer"
        },
        {
         "name": "InventoryId",
         "rawType": "object",
         "type": "string"
        },
        {
         "name": "Store",
         "rawType": "int64",
         "type": "integer"
        },
        {
         "name": "City",
         "rawType": "object",
         "type": "string"
        },
        {
         "name": "Brand",
         "rawType": "int64",
         "type": "integer"
        },
        {
         "name": "Description",
         "rawType": "object",
         "type": "string"
        },
        {
         "name": "Size",
         "rawType": "object",
         "type": "string"
        },
        {
         "name": "onHand",
         "rawType": "int64",
         "type": "integer"
        },
        {
         "name": "Price",
         "rawType": "float64",
         "type": "float"
        },
        {
         "name": "startDate",
         "rawType": "object",
         "type": "string"
        },
        {
         "name": "fecha_actualizacion",
         "rawType": "object",
         "type": "string"
        }
       ],
       "ref": "43481b6f-81d9-41c7-8cf5-70aef1d8d759",
       "rows": [
        [
         "0",
         "1_HARDERSFIELD_1000",
         "1",
         "HARDERSFIELD",
         "1000",
         "Goslings Dark'n Stormy VAP",
         "750mL",
         "0",
         "14.99",
         "2016-01-01",
         "2025-05-27 18:54:12"
        ],
        [
         "1",
         "1_HARDERSFIELD_1001",
         "1",
         "HARDERSFIELD",
         "1001",
         "Baileys 50mL 4 Pack",
         "50mL 4 Pk",
         "0",
         "5.99",
         "2016-01-01",
         "2025-05-27 18:54:12"
        ],
        [
         "2",
         "1_HARDERSFIELD_10021",
         "1",
         "HARDERSFIELD",
         "10021",
         "Clayhouse Syrah Paso Robles",
         "750mL",
         "25",
         "11.99",
         "2016-01-01",
         "2025-05-27 18:54:12"
        ],
        [
         "3",
         "1_HARDERSFIELD_1004",
         "1",
         "HARDERSFIELD",
         "1004",
         "Jim Beam w/2 Rocks Glasses",
         "750mL",
         "17",
         "16.49",
         "2016-01-01",
         "2025-05-27 18:54:12"
        ],
        [
         "4",
         "1_HARDERSFIELD_1005",
         "1",
         "HARDERSFIELD",
         "1005",
         "Maker's Mark Combo Pack",
         "375mL 2 Pk",
         "7",
         "34.99",
         "2016-01-01",
         "2025-05-27 18:54:12"
        ]
       ],
       "shape": {
        "columns": 10,
        "rows": 5
       }
      },
      "text/html": [
       "<div>\n",
       "<style scoped>\n",
       "    .dataframe tbody tr th:only-of-type {\n",
       "        vertical-align: middle;\n",
       "    }\n",
       "\n",
       "    .dataframe tbody tr th {\n",
       "        vertical-align: top;\n",
       "    }\n",
       "\n",
       "    .dataframe thead th {\n",
       "        text-align: right;\n",
       "    }\n",
       "</style>\n",
       "<table border=\"1\" class=\"dataframe\">\n",
       "  <thead>\n",
       "    <tr style=\"text-align: right;\">\n",
       "      <th></th>\n",
       "      <th>InventoryId</th>\n",
       "      <th>Store</th>\n",
       "      <th>City</th>\n",
       "      <th>Brand</th>\n",
       "      <th>Description</th>\n",
       "      <th>Size</th>\n",
       "      <th>onHand</th>\n",
       "      <th>Price</th>\n",
       "      <th>startDate</th>\n",
       "      <th>fecha_actualizacion</th>\n",
       "    </tr>\n",
       "  </thead>\n",
       "  <tbody>\n",
       "    <tr>\n",
       "      <th>0</th>\n",
       "      <td>1_HARDERSFIELD_1000</td>\n",
       "      <td>1</td>\n",
       "      <td>HARDERSFIELD</td>\n",
       "      <td>1000</td>\n",
       "      <td>Goslings Dark'n Stormy VAP</td>\n",
       "      <td>750mL</td>\n",
       "      <td>0</td>\n",
       "      <td>14.99</td>\n",
       "      <td>2016-01-01</td>\n",
       "      <td>2025-05-27 18:54:12</td>\n",
       "    </tr>\n",
       "    <tr>\n",
       "      <th>1</th>\n",
       "      <td>1_HARDERSFIELD_1001</td>\n",
       "      <td>1</td>\n",
       "      <td>HARDERSFIELD</td>\n",
       "      <td>1001</td>\n",
       "      <td>Baileys 50mL 4 Pack</td>\n",
       "      <td>50mL 4 Pk</td>\n",
       "      <td>0</td>\n",
       "      <td>5.99</td>\n",
       "      <td>2016-01-01</td>\n",
       "      <td>2025-05-27 18:54:12</td>\n",
       "    </tr>\n",
       "    <tr>\n",
       "      <th>2</th>\n",
       "      <td>1_HARDERSFIELD_10021</td>\n",
       "      <td>1</td>\n",
       "      <td>HARDERSFIELD</td>\n",
       "      <td>10021</td>\n",
       "      <td>Clayhouse Syrah Paso Robles</td>\n",
       "      <td>750mL</td>\n",
       "      <td>25</td>\n",
       "      <td>11.99</td>\n",
       "      <td>2016-01-01</td>\n",
       "      <td>2025-05-27 18:54:12</td>\n",
       "    </tr>\n",
       "    <tr>\n",
       "      <th>3</th>\n",
       "      <td>1_HARDERSFIELD_1004</td>\n",
       "      <td>1</td>\n",
       "      <td>HARDERSFIELD</td>\n",
       "      <td>1004</td>\n",
       "      <td>Jim Beam w/2 Rocks Glasses</td>\n",
       "      <td>750mL</td>\n",
       "      <td>17</td>\n",
       "      <td>16.49</td>\n",
       "      <td>2016-01-01</td>\n",
       "      <td>2025-05-27 18:54:12</td>\n",
       "    </tr>\n",
       "    <tr>\n",
       "      <th>4</th>\n",
       "      <td>1_HARDERSFIELD_1005</td>\n",
       "      <td>1</td>\n",
       "      <td>HARDERSFIELD</td>\n",
       "      <td>1005</td>\n",
       "      <td>Maker's Mark Combo Pack</td>\n",
       "      <td>375mL 2 Pk</td>\n",
       "      <td>7</td>\n",
       "      <td>34.99</td>\n",
       "      <td>2016-01-01</td>\n",
       "      <td>2025-05-27 18:54:12</td>\n",
       "    </tr>\n",
       "  </tbody>\n",
       "</table>\n",
       "</div>"
      ],
      "text/plain": [
       "            InventoryId  Store          City  Brand  \\\n",
       "0   1_HARDERSFIELD_1000      1  HARDERSFIELD   1000   \n",
       "1   1_HARDERSFIELD_1001      1  HARDERSFIELD   1001   \n",
       "2  1_HARDERSFIELD_10021      1  HARDERSFIELD  10021   \n",
       "3   1_HARDERSFIELD_1004      1  HARDERSFIELD   1004   \n",
       "4   1_HARDERSFIELD_1005      1  HARDERSFIELD   1005   \n",
       "\n",
       "                   Description        Size  onHand  Price   startDate  \\\n",
       "0   Goslings Dark'n Stormy VAP       750mL       0  14.99  2016-01-01   \n",
       "1          Baileys 50mL 4 Pack   50mL 4 Pk       0   5.99  2016-01-01   \n",
       "2  Clayhouse Syrah Paso Robles       750mL      25  11.99  2016-01-01   \n",
       "3   Jim Beam w/2 Rocks Glasses       750mL      17  16.49  2016-01-01   \n",
       "4      Maker's Mark Combo Pack  375mL 2 Pk       7  34.99  2016-01-01   \n",
       "\n",
       "   fecha_actualizacion  \n",
       "0  2025-05-27 18:54:12  \n",
       "1  2025-05-27 18:54:12  \n",
       "2  2025-05-27 18:54:12  \n",
       "3  2025-05-27 18:54:12  \n",
       "4  2025-05-27 18:54:12  "
      ]
     },
     "execution_count": 142,
     "metadata": {},
     "output_type": "execute_result"
    }
   ],
   "source": [
    "df5.head()"
   ]
  },
  {
   "cell_type": "code",
   "execution_count": null,
   "id": "29169d1b",
   "metadata": {},
   "outputs": [],
   "source": [
    "columnas_a_eliminar = ['City' , 'Description', 'Size', 'fecha_actualizacion']\n",
    "\n",
    "df5 = df5.drop(columns=[col for col in columnas_a_eliminar if col in df5.columns])"
   ]
  },
  {
   "cell_type": "code",
   "execution_count": null,
   "id": "2b676a33",
   "metadata": {},
   "outputs": [],
   "source": [
    "columnas_coma = ['Price']\n",
    "\n",
    "for col in columnas_coma:\n",
    "    df5[col] = df5[col].astype(str).str.replace('.', ',', regex=False)"
   ]
  },
  {
   "cell_type": "code",
   "execution_count": null,
   "id": "c2b272fe",
   "metadata": {},
   "outputs": [],
   "source": [
    "#Ya hicimos toda la limpieza, guardamos\n",
    "df5.to_csv('Inventario_inicial.csv', index=False)"
   ]
  },
  {
   "cell_type": "markdown",
   "id": "2ed48d36",
   "metadata": {},
   "source": [
    "----------"
   ]
  },
  {
   "cell_type": "code",
   "execution_count": null,
   "id": "73f44155",
   "metadata": {},
   "outputs": [],
   "source": [
    "df6 = pd.read_csv('D:/Curso Henry/Proyecto final/CSV/Copia de EndInvFINAL12312016_Modificado.csv')"
   ]
  },
  {
   "cell_type": "code",
   "execution_count": null,
   "id": "93b231d9",
   "metadata": {},
   "outputs": [
    {
     "data": {
      "application/vnd.microsoft.datawrangler.viewer.v0+json": {
       "columns": [
        {
         "name": "index",
         "rawType": "int64",
         "type": "integer"
        },
        {
         "name": "InventoryId",
         "rawType": "object",
         "type": "string"
        },
        {
         "name": "Store",
         "rawType": "int64",
         "type": "integer"
        },
        {
         "name": "City",
         "rawType": "object",
         "type": "string"
        },
        {
         "name": "Brand",
         "rawType": "float64",
         "type": "float"
        },
        {
         "name": "Description",
         "rawType": "object",
         "type": "string"
        },
        {
         "name": "Size",
         "rawType": "object",
         "type": "string"
        },
        {
         "name": "onHand",
         "rawType": "float64",
         "type": "float"
        },
        {
         "name": "Price",
         "rawType": "float64",
         "type": "float"
        },
        {
         "name": "endDate",
         "rawType": "object",
         "type": "string"
        },
        {
         "name": "fecha_actualizacion",
         "rawType": "object",
         "type": "string"
        }
       ],
       "ref": "4cac381c-6f1c-41ce-a6ad-08be41e56d48",
       "rows": [
        [
         "0",
         "1_HARDERSFIELD_1001",
         "1",
         "HARDERSFIELD",
         "1001.0",
         "Baileys 50mL 4 Pack",
         "50mL 4 Pk",
         "0.0",
         "5.99",
         "2016-12-31",
         "2025-05-27 18:54:18"
        ],
        [
         "1",
         "1_HARDERSFIELD_10021",
         "1",
         "HARDERSFIELD",
         "10021.0",
         "Clayhouse Syrah Paso Robles",
         "750mL",
         "23.0",
         "13.99",
         "2016-12-31",
         "2025-05-27 18:54:18"
        ],
        [
         "2",
         "1_HARDERSFIELD_1003",
         "1",
         "HARDERSFIELD",
         "1003.0",
         "Crown Royal VAP Glass+Coastr",
         "750mL",
         "0.0",
         "22.99",
         "2016-12-31",
         "2025-05-27 18:54:18"
        ],
        [
         "3",
         "1_HARDERSFIELD_10058",
         "1",
         "HARDERSFIELD",
         "10058.0",
         "F Coppola Dmd Ivry Cab Svgn",
         "750mL",
         "47.0",
         "14.99",
         "2016-12-31",
         "2025-05-27 18:54:18"
        ],
        [
         "4",
         "1_HARDERSFIELD_10062",
         "1",
         "HARDERSFIELD",
         "10062.0",
         "B de Beauchene CDR Rouge",
         "750mL",
         "29.0",
         "8.99",
         "2016-12-31",
         "2025-05-27 18:54:18"
        ]
       ],
       "shape": {
        "columns": 10,
        "rows": 5
       }
      },
      "text/html": [
       "<div>\n",
       "<style scoped>\n",
       "    .dataframe tbody tr th:only-of-type {\n",
       "        vertical-align: middle;\n",
       "    }\n",
       "\n",
       "    .dataframe tbody tr th {\n",
       "        vertical-align: top;\n",
       "    }\n",
       "\n",
       "    .dataframe thead th {\n",
       "        text-align: right;\n",
       "    }\n",
       "</style>\n",
       "<table border=\"1\" class=\"dataframe\">\n",
       "  <thead>\n",
       "    <tr style=\"text-align: right;\">\n",
       "      <th></th>\n",
       "      <th>InventoryId</th>\n",
       "      <th>Store</th>\n",
       "      <th>City</th>\n",
       "      <th>Brand</th>\n",
       "      <th>Description</th>\n",
       "      <th>Size</th>\n",
       "      <th>onHand</th>\n",
       "      <th>Price</th>\n",
       "      <th>endDate</th>\n",
       "      <th>fecha_actualizacion</th>\n",
       "    </tr>\n",
       "  </thead>\n",
       "  <tbody>\n",
       "    <tr>\n",
       "      <th>0</th>\n",
       "      <td>1_HARDERSFIELD_1001</td>\n",
       "      <td>1</td>\n",
       "      <td>HARDERSFIELD</td>\n",
       "      <td>1001.0</td>\n",
       "      <td>Baileys 50mL 4 Pack</td>\n",
       "      <td>50mL 4 Pk</td>\n",
       "      <td>0.0</td>\n",
       "      <td>5.99</td>\n",
       "      <td>2016-12-31</td>\n",
       "      <td>2025-05-27 18:54:18</td>\n",
       "    </tr>\n",
       "    <tr>\n",
       "      <th>1</th>\n",
       "      <td>1_HARDERSFIELD_10021</td>\n",
       "      <td>1</td>\n",
       "      <td>HARDERSFIELD</td>\n",
       "      <td>10021.0</td>\n",
       "      <td>Clayhouse Syrah Paso Robles</td>\n",
       "      <td>750mL</td>\n",
       "      <td>23.0</td>\n",
       "      <td>13.99</td>\n",
       "      <td>2016-12-31</td>\n",
       "      <td>2025-05-27 18:54:18</td>\n",
       "    </tr>\n",
       "    <tr>\n",
       "      <th>2</th>\n",
       "      <td>1_HARDERSFIELD_1003</td>\n",
       "      <td>1</td>\n",
       "      <td>HARDERSFIELD</td>\n",
       "      <td>1003.0</td>\n",
       "      <td>Crown Royal VAP Glass+Coastr</td>\n",
       "      <td>750mL</td>\n",
       "      <td>0.0</td>\n",
       "      <td>22.99</td>\n",
       "      <td>2016-12-31</td>\n",
       "      <td>2025-05-27 18:54:18</td>\n",
       "    </tr>\n",
       "    <tr>\n",
       "      <th>3</th>\n",
       "      <td>1_HARDERSFIELD_10058</td>\n",
       "      <td>1</td>\n",
       "      <td>HARDERSFIELD</td>\n",
       "      <td>10058.0</td>\n",
       "      <td>F Coppola Dmd Ivry Cab Svgn</td>\n",
       "      <td>750mL</td>\n",
       "      <td>47.0</td>\n",
       "      <td>14.99</td>\n",
       "      <td>2016-12-31</td>\n",
       "      <td>2025-05-27 18:54:18</td>\n",
       "    </tr>\n",
       "    <tr>\n",
       "      <th>4</th>\n",
       "      <td>1_HARDERSFIELD_10062</td>\n",
       "      <td>1</td>\n",
       "      <td>HARDERSFIELD</td>\n",
       "      <td>10062.0</td>\n",
       "      <td>B de Beauchene CDR Rouge</td>\n",
       "      <td>750mL</td>\n",
       "      <td>29.0</td>\n",
       "      <td>8.99</td>\n",
       "      <td>2016-12-31</td>\n",
       "      <td>2025-05-27 18:54:18</td>\n",
       "    </tr>\n",
       "  </tbody>\n",
       "</table>\n",
       "</div>"
      ],
      "text/plain": [
       "            InventoryId  Store          City    Brand  \\\n",
       "0   1_HARDERSFIELD_1001      1  HARDERSFIELD   1001.0   \n",
       "1  1_HARDERSFIELD_10021      1  HARDERSFIELD  10021.0   \n",
       "2   1_HARDERSFIELD_1003      1  HARDERSFIELD   1003.0   \n",
       "3  1_HARDERSFIELD_10058      1  HARDERSFIELD  10058.0   \n",
       "4  1_HARDERSFIELD_10062      1  HARDERSFIELD  10062.0   \n",
       "\n",
       "                    Description       Size  onHand  Price     endDate  \\\n",
       "0           Baileys 50mL 4 Pack  50mL 4 Pk     0.0   5.99  2016-12-31   \n",
       "1   Clayhouse Syrah Paso Robles      750mL    23.0  13.99  2016-12-31   \n",
       "2  Crown Royal VAP Glass+Coastr      750mL     0.0  22.99  2016-12-31   \n",
       "3   F Coppola Dmd Ivry Cab Svgn      750mL    47.0  14.99  2016-12-31   \n",
       "4      B de Beauchene CDR Rouge      750mL    29.0   8.99  2016-12-31   \n",
       "\n",
       "   fecha_actualizacion  \n",
       "0  2025-05-27 18:54:18  \n",
       "1  2025-05-27 18:54:18  \n",
       "2  2025-05-27 18:54:18  \n",
       "3  2025-05-27 18:54:18  \n",
       "4  2025-05-27 18:54:18  "
      ]
     },
     "execution_count": 178,
     "metadata": {},
     "output_type": "execute_result"
    }
   ],
   "source": [
    "df6.head()"
   ]
  },
  {
   "cell_type": "code",
   "execution_count": null,
   "id": "d488caa3",
   "metadata": {},
   "outputs": [],
   "source": [
    "columnas_a_eliminar = ['City' , 'Description', 'Size', 'fecha_actualizacion']\n",
    "\n",
    "df6 = df6.drop(columns=[col for col in columnas_a_eliminar if col in df6.columns])"
   ]
  },
  {
   "cell_type": "code",
   "execution_count": null,
   "id": "91d56abc",
   "metadata": {},
   "outputs": [],
   "source": [
    "columnas_coma = ['Price']\n",
    "\n",
    "for col in columnas_coma:\n",
    "    df6[col] = df6[col].astype(str).str.replace('.', ',', regex=False)"
   ]
  },
  {
   "cell_type": "code",
   "execution_count": null,
   "id": "f94a66e9",
   "metadata": {},
   "outputs": [],
   "source": [
    "#Ya hicimos toda la limpieza, guardamos\n",
    "df6.to_csv('Inventario_final.csv', index=False)"
   ]
  },
  {
   "cell_type": "markdown",
   "id": "8e9a44d5",
   "metadata": {},
   "source": [
    "-----"
   ]
  },
  {
   "cell_type": "code",
   "execution_count": null,
   "id": "30c5b7cd",
   "metadata": {},
   "outputs": [],
   "source": [
    "df7 = pd.read_csv('D:/Curso Henry/Proyecto final/CSV/Copia de EndInvFINAL12312016_Modificado.csv')"
   ]
  },
  {
   "cell_type": "code",
   "execution_count": null,
   "id": "e965363b",
   "metadata": {},
   "outputs": [
    {
     "data": {
      "application/vnd.microsoft.datawrangler.viewer.v0+json": {
       "columns": [
        {
         "name": "index",
         "rawType": "int64",
         "type": "integer"
        },
        {
         "name": "InventoryId",
         "rawType": "object",
         "type": "string"
        },
        {
         "name": "Store",
         "rawType": "int64",
         "type": "integer"
        },
        {
         "name": "City",
         "rawType": "object",
         "type": "string"
        },
        {
         "name": "Brand",
         "rawType": "float64",
         "type": "float"
        },
        {
         "name": "Description",
         "rawType": "object",
         "type": "string"
        },
        {
         "name": "Size",
         "rawType": "object",
         "type": "string"
        },
        {
         "name": "onHand",
         "rawType": "float64",
         "type": "float"
        },
        {
         "name": "Price",
         "rawType": "float64",
         "type": "float"
        },
        {
         "name": "endDate",
         "rawType": "object",
         "type": "string"
        },
        {
         "name": "fecha_actualizacion",
         "rawType": "object",
         "type": "string"
        }
       ],
       "ref": "1c97b271-68c9-4c7a-89fa-f50e38d36d24",
       "rows": [
        [
         "0",
         "1_HARDERSFIELD_1001",
         "1",
         "HARDERSFIELD",
         "1001.0",
         "Baileys 50mL 4 Pack",
         "50mL 4 Pk",
         "0.0",
         "5.99",
         "2016-12-31",
         "2025-05-27 18:54:18"
        ],
        [
         "1",
         "1_HARDERSFIELD_10021",
         "1",
         "HARDERSFIELD",
         "10021.0",
         "Clayhouse Syrah Paso Robles",
         "750mL",
         "23.0",
         "13.99",
         "2016-12-31",
         "2025-05-27 18:54:18"
        ],
        [
         "2",
         "1_HARDERSFIELD_1003",
         "1",
         "HARDERSFIELD",
         "1003.0",
         "Crown Royal VAP Glass+Coastr",
         "750mL",
         "0.0",
         "22.99",
         "2016-12-31",
         "2025-05-27 18:54:18"
        ],
        [
         "3",
         "1_HARDERSFIELD_10058",
         "1",
         "HARDERSFIELD",
         "10058.0",
         "F Coppola Dmd Ivry Cab Svgn",
         "750mL",
         "47.0",
         "14.99",
         "2016-12-31",
         "2025-05-27 18:54:18"
        ],
        [
         "4",
         "1_HARDERSFIELD_10062",
         "1",
         "HARDERSFIELD",
         "10062.0",
         "B de Beauchene CDR Rouge",
         "750mL",
         "29.0",
         "8.99",
         "2016-12-31",
         "2025-05-27 18:54:18"
        ]
       ],
       "shape": {
        "columns": 10,
        "rows": 5
       }
      },
      "text/html": [
       "<div>\n",
       "<style scoped>\n",
       "    .dataframe tbody tr th:only-of-type {\n",
       "        vertical-align: middle;\n",
       "    }\n",
       "\n",
       "    .dataframe tbody tr th {\n",
       "        vertical-align: top;\n",
       "    }\n",
       "\n",
       "    .dataframe thead th {\n",
       "        text-align: right;\n",
       "    }\n",
       "</style>\n",
       "<table border=\"1\" class=\"dataframe\">\n",
       "  <thead>\n",
       "    <tr style=\"text-align: right;\">\n",
       "      <th></th>\n",
       "      <th>InventoryId</th>\n",
       "      <th>Store</th>\n",
       "      <th>City</th>\n",
       "      <th>Brand</th>\n",
       "      <th>Description</th>\n",
       "      <th>Size</th>\n",
       "      <th>onHand</th>\n",
       "      <th>Price</th>\n",
       "      <th>endDate</th>\n",
       "      <th>fecha_actualizacion</th>\n",
       "    </tr>\n",
       "  </thead>\n",
       "  <tbody>\n",
       "    <tr>\n",
       "      <th>0</th>\n",
       "      <td>1_HARDERSFIELD_1001</td>\n",
       "      <td>1</td>\n",
       "      <td>HARDERSFIELD</td>\n",
       "      <td>1001.0</td>\n",
       "      <td>Baileys 50mL 4 Pack</td>\n",
       "      <td>50mL 4 Pk</td>\n",
       "      <td>0.0</td>\n",
       "      <td>5.99</td>\n",
       "      <td>2016-12-31</td>\n",
       "      <td>2025-05-27 18:54:18</td>\n",
       "    </tr>\n",
       "    <tr>\n",
       "      <th>1</th>\n",
       "      <td>1_HARDERSFIELD_10021</td>\n",
       "      <td>1</td>\n",
       "      <td>HARDERSFIELD</td>\n",
       "      <td>10021.0</td>\n",
       "      <td>Clayhouse Syrah Paso Robles</td>\n",
       "      <td>750mL</td>\n",
       "      <td>23.0</td>\n",
       "      <td>13.99</td>\n",
       "      <td>2016-12-31</td>\n",
       "      <td>2025-05-27 18:54:18</td>\n",
       "    </tr>\n",
       "    <tr>\n",
       "      <th>2</th>\n",
       "      <td>1_HARDERSFIELD_1003</td>\n",
       "      <td>1</td>\n",
       "      <td>HARDERSFIELD</td>\n",
       "      <td>1003.0</td>\n",
       "      <td>Crown Royal VAP Glass+Coastr</td>\n",
       "      <td>750mL</td>\n",
       "      <td>0.0</td>\n",
       "      <td>22.99</td>\n",
       "      <td>2016-12-31</td>\n",
       "      <td>2025-05-27 18:54:18</td>\n",
       "    </tr>\n",
       "    <tr>\n",
       "      <th>3</th>\n",
       "      <td>1_HARDERSFIELD_10058</td>\n",
       "      <td>1</td>\n",
       "      <td>HARDERSFIELD</td>\n",
       "      <td>10058.0</td>\n",
       "      <td>F Coppola Dmd Ivry Cab Svgn</td>\n",
       "      <td>750mL</td>\n",
       "      <td>47.0</td>\n",
       "      <td>14.99</td>\n",
       "      <td>2016-12-31</td>\n",
       "      <td>2025-05-27 18:54:18</td>\n",
       "    </tr>\n",
       "    <tr>\n",
       "      <th>4</th>\n",
       "      <td>1_HARDERSFIELD_10062</td>\n",
       "      <td>1</td>\n",
       "      <td>HARDERSFIELD</td>\n",
       "      <td>10062.0</td>\n",
       "      <td>B de Beauchene CDR Rouge</td>\n",
       "      <td>750mL</td>\n",
       "      <td>29.0</td>\n",
       "      <td>8.99</td>\n",
       "      <td>2016-12-31</td>\n",
       "      <td>2025-05-27 18:54:18</td>\n",
       "    </tr>\n",
       "  </tbody>\n",
       "</table>\n",
       "</div>"
      ],
      "text/plain": [
       "            InventoryId  Store          City    Brand  \\\n",
       "0   1_HARDERSFIELD_1001      1  HARDERSFIELD   1001.0   \n",
       "1  1_HARDERSFIELD_10021      1  HARDERSFIELD  10021.0   \n",
       "2   1_HARDERSFIELD_1003      1  HARDERSFIELD   1003.0   \n",
       "3  1_HARDERSFIELD_10058      1  HARDERSFIELD  10058.0   \n",
       "4  1_HARDERSFIELD_10062      1  HARDERSFIELD  10062.0   \n",
       "\n",
       "                    Description       Size  onHand  Price     endDate  \\\n",
       "0           Baileys 50mL 4 Pack  50mL 4 Pk     0.0   5.99  2016-12-31   \n",
       "1   Clayhouse Syrah Paso Robles      750mL    23.0  13.99  2016-12-31   \n",
       "2  Crown Royal VAP Glass+Coastr      750mL     0.0  22.99  2016-12-31   \n",
       "3   F Coppola Dmd Ivry Cab Svgn      750mL    47.0  14.99  2016-12-31   \n",
       "4      B de Beauchene CDR Rouge      750mL    29.0   8.99  2016-12-31   \n",
       "\n",
       "   fecha_actualizacion  \n",
       "0  2025-05-27 18:54:18  \n",
       "1  2025-05-27 18:54:18  \n",
       "2  2025-05-27 18:54:18  \n",
       "3  2025-05-27 18:54:18  \n",
       "4  2025-05-27 18:54:18  "
      ]
     },
     "execution_count": 180,
     "metadata": {},
     "output_type": "execute_result"
    }
   ],
   "source": [
    "df7.head()"
   ]
  },
  {
   "cell_type": "code",
   "execution_count": null,
   "id": "88118826",
   "metadata": {},
   "outputs": [],
   "source": [
    "columnas_a_eliminar = ['InventoryId', 'Brand', 'Description', 'Size','onHand','Price' , 'endDate', 'fecha_actualizacion']\n",
    "\n",
    "df7 = df7.drop(columns=[col for col in columnas_a_eliminar if col in df7.columns])"
   ]
  },
  {
   "cell_type": "code",
   "execution_count": null,
   "id": "1b4d142c",
   "metadata": {},
   "outputs": [
    {
     "data": {
      "application/vnd.microsoft.datawrangler.viewer.v0+json": {
       "columns": [
        {
         "name": "index",
         "rawType": "int64",
         "type": "integer"
        },
        {
         "name": "Store",
         "rawType": "int64",
         "type": "integer"
        },
        {
         "name": "City",
         "rawType": "object",
         "type": "string"
        }
       ],
       "ref": "a2d45310-cecd-44cc-8077-2c77d790542f",
       "rows": [
        [
         "0",
         "1",
         "HARDERSFIELD"
        ],
        [
         "1",
         "1",
         "HARDERSFIELD"
        ],
        [
         "2",
         "1",
         "HARDERSFIELD"
        ],
        [
         "3",
         "1",
         "HARDERSFIELD"
        ],
        [
         "4",
         "1",
         "HARDERSFIELD"
        ]
       ],
       "shape": {
        "columns": 2,
        "rows": 5
       }
      },
      "text/html": [
       "<div>\n",
       "<style scoped>\n",
       "    .dataframe tbody tr th:only-of-type {\n",
       "        vertical-align: middle;\n",
       "    }\n",
       "\n",
       "    .dataframe tbody tr th {\n",
       "        vertical-align: top;\n",
       "    }\n",
       "\n",
       "    .dataframe thead th {\n",
       "        text-align: right;\n",
       "    }\n",
       "</style>\n",
       "<table border=\"1\" class=\"dataframe\">\n",
       "  <thead>\n",
       "    <tr style=\"text-align: right;\">\n",
       "      <th></th>\n",
       "      <th>Store</th>\n",
       "      <th>City</th>\n",
       "    </tr>\n",
       "  </thead>\n",
       "  <tbody>\n",
       "    <tr>\n",
       "      <th>0</th>\n",
       "      <td>1</td>\n",
       "      <td>HARDERSFIELD</td>\n",
       "    </tr>\n",
       "    <tr>\n",
       "      <th>1</th>\n",
       "      <td>1</td>\n",
       "      <td>HARDERSFIELD</td>\n",
       "    </tr>\n",
       "    <tr>\n",
       "      <th>2</th>\n",
       "      <td>1</td>\n",
       "      <td>HARDERSFIELD</td>\n",
       "    </tr>\n",
       "    <tr>\n",
       "      <th>3</th>\n",
       "      <td>1</td>\n",
       "      <td>HARDERSFIELD</td>\n",
       "    </tr>\n",
       "    <tr>\n",
       "      <th>4</th>\n",
       "      <td>1</td>\n",
       "      <td>HARDERSFIELD</td>\n",
       "    </tr>\n",
       "  </tbody>\n",
       "</table>\n",
       "</div>"
      ],
      "text/plain": [
       "   Store          City\n",
       "0      1  HARDERSFIELD\n",
       "1      1  HARDERSFIELD\n",
       "2      1  HARDERSFIELD\n",
       "3      1  HARDERSFIELD\n",
       "4      1  HARDERSFIELD"
      ]
     },
     "execution_count": 182,
     "metadata": {},
     "output_type": "execute_result"
    }
   ],
   "source": [
    "df7.head()"
   ]
  },
  {
   "cell_type": "code",
   "execution_count": null,
   "id": "5cfc6421",
   "metadata": {},
   "outputs": [],
   "source": [
    "df7= df7.drop_duplicates()"
   ]
  },
  {
   "cell_type": "code",
   "execution_count": null,
   "id": "c96c54ed",
   "metadata": {},
   "outputs": [
    {
     "data": {
      "application/vnd.microsoft.datawrangler.viewer.v0+json": {
       "columns": [
        {
         "name": "index",
         "rawType": "int64",
         "type": "integer"
        },
        {
         "name": "Store",
         "rawType": "int64",
         "type": "integer"
        },
        {
         "name": "City",
         "rawType": "object",
         "type": "string"
        }
       ],
       "ref": "5b9eb81e-b109-4aa5-8a28-af377a25d87e",
       "rows": [
        [
         "0",
         "1",
         "HARDERSFIELD"
        ],
        [
         "3191",
         "10",
         "HORNSEY"
        ],
        [
         "7079",
         "11",
         "CARDEND"
        ],
        [
         "9411",
         "12",
         "LEESIDE"
        ],
        [
         "11192",
         "13",
         "TARMSWORTH"
        ]
       ],
       "shape": {
        "columns": 2,
        "rows": 5
       }
      },
      "text/html": [
       "<div>\n",
       "<style scoped>\n",
       "    .dataframe tbody tr th:only-of-type {\n",
       "        vertical-align: middle;\n",
       "    }\n",
       "\n",
       "    .dataframe tbody tr th {\n",
       "        vertical-align: top;\n",
       "    }\n",
       "\n",
       "    .dataframe thead th {\n",
       "        text-align: right;\n",
       "    }\n",
       "</style>\n",
       "<table border=\"1\" class=\"dataframe\">\n",
       "  <thead>\n",
       "    <tr style=\"text-align: right;\">\n",
       "      <th></th>\n",
       "      <th>Store</th>\n",
       "      <th>City</th>\n",
       "    </tr>\n",
       "  </thead>\n",
       "  <tbody>\n",
       "    <tr>\n",
       "      <th>0</th>\n",
       "      <td>1</td>\n",
       "      <td>HARDERSFIELD</td>\n",
       "    </tr>\n",
       "    <tr>\n",
       "      <th>3191</th>\n",
       "      <td>10</td>\n",
       "      <td>HORNSEY</td>\n",
       "    </tr>\n",
       "    <tr>\n",
       "      <th>7079</th>\n",
       "      <td>11</td>\n",
       "      <td>CARDEND</td>\n",
       "    </tr>\n",
       "    <tr>\n",
       "      <th>9411</th>\n",
       "      <td>12</td>\n",
       "      <td>LEESIDE</td>\n",
       "    </tr>\n",
       "    <tr>\n",
       "      <th>11192</th>\n",
       "      <td>13</td>\n",
       "      <td>TARMSWORTH</td>\n",
       "    </tr>\n",
       "  </tbody>\n",
       "</table>\n",
       "</div>"
      ],
      "text/plain": [
       "       Store          City\n",
       "0          1  HARDERSFIELD\n",
       "3191      10       HORNSEY\n",
       "7079      11       CARDEND\n",
       "9411      12       LEESIDE\n",
       "11192     13    TARMSWORTH"
      ]
     },
     "execution_count": 184,
     "metadata": {},
     "output_type": "execute_result"
    }
   ],
   "source": [
    "df7.head()"
   ]
  },
  {
   "cell_type": "code",
   "execution_count": null,
   "id": "a865dc87",
   "metadata": {},
   "outputs": [],
   "source": [
    "#Ya hicimos toda la limpieza, guardamos\n",
    "df7.to_csv('Tiendas.csv', index=False)"
   ]
  }
 ],
 "metadata": {
  "kernelspec": {
   "display_name": "Python 3",
   "language": "python",
   "name": "python3"
  },
  "language_info": {
   "codemirror_mode": {
    "name": "ipython",
    "version": 3
   },
   "file_extension": ".py",
   "mimetype": "text/x-python",
   "name": "python",
   "nbconvert_exporter": "python",
   "pygments_lexer": "ipython3",
   "version": "3.13.3"
  }
 },
 "nbformat": 4,
 "nbformat_minor": 5
}
