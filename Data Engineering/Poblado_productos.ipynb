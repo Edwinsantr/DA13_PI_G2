{
 "cells": [
  {
   "cell_type": "code",
   "execution_count": 1,
   "id": "bb1b09fc",
   "metadata": {},
   "outputs": [],
   "source": [
    "import pandas as pd\n",
    "import numpy as np\n",
    "import matplotlib.pyplot as plt"
   ]
  },
  {
   "cell_type": "code",
   "execution_count": 2,
   "id": "4ab0467c",
   "metadata": {},
   "outputs": [],
   "source": [
    "df1 = pd.read_csv('D:/Curso Henry/Proyecto final/CSV_Limpiados/Copia de SalesFINAL12312016_Modificado.csv')\n",
    "df2 = pd.read_csv('D:/Curso Henry/Proyecto final/CSV_Limpiados/Copia de PurchasePricesDec2017_Modificado.csv')"
   ]
  },
  {
   "cell_type": "code",
   "execution_count": 3,
   "id": "1473c056",
   "metadata": {},
   "outputs": [],
   "source": [
    "claves_producto = ['Brand', 'Description', 'Size']\n",
    "\n",
    "# Limpiar textos\n",
    "for col in claves_producto:\n",
    "    df1[col] = df1[col].astype(str).str.strip()\n",
    "    df2[col] = df2[col].astype(str).str.strip()"
   ]
  },
  {
   "cell_type": "code",
   "execution_count": 4,
   "id": "32dd6c0c",
   "metadata": {},
   "outputs": [],
   "source": [
    "# Claves de productos en df2\n",
    "productos_df2 = df2[claves_producto].drop_duplicates()\n",
    "\n",
    "# Claves de productos en df1\n",
    "productos_df1 = df1[claves_producto].drop_duplicates()\n",
    "\n",
    "# Filas que están en df1 pero no en df2\n",
    "nuevos_productos = productos_df1.merge(productos_df2, on=claves_producto, how='left', indicator=True)\n",
    "nuevos_productos = nuevos_productos[nuevos_productos['_merge'] == 'left_only'].drop(columns=['_merge'])"
   ]
  },
  {
   "cell_type": "code",
   "execution_count": 5,
   "id": "95fc8935",
   "metadata": {},
   "outputs": [],
   "source": [
    "datos_nuevos = df1.merge(nuevos_productos, on=claves_producto, how='inner')\n",
    "\n",
    "# Agrupar para obtener una fila por producto\n",
    "nuevas_filas = datos_nuevos.groupby(claves_producto, as_index=False).agg({\n",
    "    'SalesPrice': 'mean',\n",
    "    'Volume': 'first',\n",
    "    'Classification': 'first',\n",
    "    'VendorNo': 'first'\n",
    "})\n",
    "\n",
    "# Renombrar columnas para que coincidan con df2\n",
    "nuevas_filas.rename(columns={\n",
    "    'SalesPrice': 'Price',\n",
    "    'VendorNo': 'VendorNumber'\n",
    "}, inplace=True)\n",
    "\n",
    "# Añadir columnas que le faltan para estar igual que df2\n",
    "for col in df2.columns:\n",
    "    if col not in nuevas_filas.columns:\n",
    "        nuevas_filas[col] = np.nan\n",
    "\n",
    "# Ordenar columnas igual que df2\n",
    "nuevas_filas = nuevas_filas[df2.columns]"
   ]
  },
  {
   "cell_type": "code",
   "execution_count": 6,
   "id": "4ed4ce23",
   "metadata": {},
   "outputs": [],
   "source": [
    "df2_completo = pd.concat([df2, nuevas_filas], ignore_index=True)"
   ]
  },
  {
   "cell_type": "code",
   "execution_count": 7,
   "id": "4c2bc983",
   "metadata": {},
   "outputs": [
    {
     "name": "stdout",
     "output_type": "stream",
     "text": [
      "Cantidad original en df2: 6129\n",
      "Nuevas filas agregadas: 6101\n",
      "Total final en df2_completo: 12230\n"
     ]
    }
   ],
   "source": [
    "print(f\"Cantidad original en df2: {len(df2)}\")\n",
    "print(f\"Nuevas filas agregadas: {len(nuevas_filas)}\")\n",
    "print(f\"Total final en df2_completo: {len(df2_completo)}\")"
   ]
  },
  {
   "cell_type": "code",
   "execution_count": 9,
   "id": "595b84e4",
   "metadata": {},
   "outputs": [
    {
     "data": {
      "application/vnd.microsoft.datawrangler.viewer.v0+json": {
       "columns": [
        {
         "name": "index",
         "rawType": "int64",
         "type": "integer"
        },
        {
         "name": "Brand",
         "rawType": "object",
         "type": "string"
        },
        {
         "name": "Description",
         "rawType": "object",
         "type": "string"
        },
        {
         "name": "Price",
         "rawType": "float64",
         "type": "float"
        },
        {
         "name": "Size",
         "rawType": "object",
         "type": "string"
        },
        {
         "name": "Volume",
         "rawType": "float64",
         "type": "float"
        },
        {
         "name": "Classification",
         "rawType": "int64",
         "type": "integer"
        },
        {
         "name": "PurchasePrice",
         "rawType": "float64",
         "type": "float"
        },
        {
         "name": "VendorNumber",
         "rawType": "int64",
         "type": "integer"
        },
        {
         "name": "VendorName",
         "rawType": "object",
         "type": "string"
        },
        {
         "name": "fecha_actualizacion",
         "rawType": "object",
         "type": "string"
        }
       ],
       "ref": "0b647376-0dbe-4968-be77-b28a6c4d81c9",
       "rows": [
        [
         "0",
         "1",
         "Frizze Blue 1000mL",
         "11.5",
         "1000mL",
         "1000.0",
         "0",
         "11.5",
         "11500",
         "Distribuidora Sur S.A.",
         "2025-05-30 15:14:13"
        ],
        [
         "1",
         "2",
         "Cynar 750mL",
         "13.99",
         "750mL",
         "750.0",
         "0",
         "13.99",
         "11501",
         "Importadora Global Ltda.",
         "2025-05-30 15:14:13"
        ],
        [
         "2",
         "4",
         "Frizze Blue 1000mL",
         "11.5",
         "1000mL",
         "1000.0",
         "0",
         "11.5",
         "11500",
         "Distribuidora Sur S.A.",
         "2025-05-30 15:19:54"
        ],
        [
         "3",
         "5",
         "Cynar 750mL",
         "13.99",
         "750mL",
         "750.0",
         "0",
         "13.99",
         "11501",
         "Importadora Global Ltda.",
         "2025-05-30 15:19:54"
        ],
        [
         "4",
         "61",
         "Margaritaville Silver",
         "13.99",
         "750mL",
         "750.0",
         "1",
         "10.6",
         "8004",
         "SAZERAC CO INC",
         "2025-05-27 18:54:32"
        ]
       ],
       "shape": {
        "columns": 10,
        "rows": 5
       }
      },
      "text/html": [
       "<div>\n",
       "<style scoped>\n",
       "    .dataframe tbody tr th:only-of-type {\n",
       "        vertical-align: middle;\n",
       "    }\n",
       "\n",
       "    .dataframe tbody tr th {\n",
       "        vertical-align: top;\n",
       "    }\n",
       "\n",
       "    .dataframe thead th {\n",
       "        text-align: right;\n",
       "    }\n",
       "</style>\n",
       "<table border=\"1\" class=\"dataframe\">\n",
       "  <thead>\n",
       "    <tr style=\"text-align: right;\">\n",
       "      <th></th>\n",
       "      <th>Brand</th>\n",
       "      <th>Description</th>\n",
       "      <th>Price</th>\n",
       "      <th>Size</th>\n",
       "      <th>Volume</th>\n",
       "      <th>Classification</th>\n",
       "      <th>PurchasePrice</th>\n",
       "      <th>VendorNumber</th>\n",
       "      <th>VendorName</th>\n",
       "      <th>fecha_actualizacion</th>\n",
       "    </tr>\n",
       "  </thead>\n",
       "  <tbody>\n",
       "    <tr>\n",
       "      <th>0</th>\n",
       "      <td>1</td>\n",
       "      <td>Frizze Blue 1000mL</td>\n",
       "      <td>11.50</td>\n",
       "      <td>1000mL</td>\n",
       "      <td>1000.0</td>\n",
       "      <td>0</td>\n",
       "      <td>11.50</td>\n",
       "      <td>11500</td>\n",
       "      <td>Distribuidora Sur S.A.</td>\n",
       "      <td>2025-05-30 15:14:13</td>\n",
       "    </tr>\n",
       "    <tr>\n",
       "      <th>1</th>\n",
       "      <td>2</td>\n",
       "      <td>Cynar 750mL</td>\n",
       "      <td>13.99</td>\n",
       "      <td>750mL</td>\n",
       "      <td>750.0</td>\n",
       "      <td>0</td>\n",
       "      <td>13.99</td>\n",
       "      <td>11501</td>\n",
       "      <td>Importadora Global Ltda.</td>\n",
       "      <td>2025-05-30 15:14:13</td>\n",
       "    </tr>\n",
       "    <tr>\n",
       "      <th>2</th>\n",
       "      <td>4</td>\n",
       "      <td>Frizze Blue 1000mL</td>\n",
       "      <td>11.50</td>\n",
       "      <td>1000mL</td>\n",
       "      <td>1000.0</td>\n",
       "      <td>0</td>\n",
       "      <td>11.50</td>\n",
       "      <td>11500</td>\n",
       "      <td>Distribuidora Sur S.A.</td>\n",
       "      <td>2025-05-30 15:19:54</td>\n",
       "    </tr>\n",
       "    <tr>\n",
       "      <th>3</th>\n",
       "      <td>5</td>\n",
       "      <td>Cynar 750mL</td>\n",
       "      <td>13.99</td>\n",
       "      <td>750mL</td>\n",
       "      <td>750.0</td>\n",
       "      <td>0</td>\n",
       "      <td>13.99</td>\n",
       "      <td>11501</td>\n",
       "      <td>Importadora Global Ltda.</td>\n",
       "      <td>2025-05-30 15:19:54</td>\n",
       "    </tr>\n",
       "    <tr>\n",
       "      <th>4</th>\n",
       "      <td>61</td>\n",
       "      <td>Margaritaville Silver</td>\n",
       "      <td>13.99</td>\n",
       "      <td>750mL</td>\n",
       "      <td>750.0</td>\n",
       "      <td>1</td>\n",
       "      <td>10.60</td>\n",
       "      <td>8004</td>\n",
       "      <td>SAZERAC CO INC</td>\n",
       "      <td>2025-05-27 18:54:32</td>\n",
       "    </tr>\n",
       "  </tbody>\n",
       "</table>\n",
       "</div>"
      ],
      "text/plain": [
       "  Brand            Description  Price    Size  Volume  Classification  \\\n",
       "0     1     Frizze Blue 1000mL  11.50  1000mL  1000.0               0   \n",
       "1     2            Cynar 750mL  13.99   750mL   750.0               0   \n",
       "2     4     Frizze Blue 1000mL  11.50  1000mL  1000.0               0   \n",
       "3     5            Cynar 750mL  13.99   750mL   750.0               0   \n",
       "4    61  Margaritaville Silver  13.99   750mL   750.0               1   \n",
       "\n",
       "   PurchasePrice  VendorNumber                VendorName  fecha_actualizacion  \n",
       "0          11.50         11500    Distribuidora Sur S.A.  2025-05-30 15:14:13  \n",
       "1          13.99         11501  Importadora Global Ltda.  2025-05-30 15:14:13  \n",
       "2          11.50         11500    Distribuidora Sur S.A.  2025-05-30 15:19:54  \n",
       "3          13.99         11501  Importadora Global Ltda.  2025-05-30 15:19:54  \n",
       "4          10.60          8004            SAZERAC CO INC  2025-05-27 18:54:32  "
      ]
     },
     "execution_count": 9,
     "metadata": {},
     "output_type": "execute_result"
    }
   ],
   "source": [
    "df2_completo.head()"
   ]
  },
  {
   "cell_type": "code",
   "execution_count": 10,
   "id": "0329439d",
   "metadata": {},
   "outputs": [],
   "source": [
    "columnas_a_eliminar = ['Size', 'fecha_actualizacion', 'Classification']\n",
    "\n",
    "df2_completo = df2_completo.drop(columns=[col for col in columnas_a_eliminar if col in df2_completo.columns])"
   ]
  },
  {
   "cell_type": "code",
   "execution_count": 11,
   "id": "8ab61141",
   "metadata": {},
   "outputs": [],
   "source": [
    "columnas_coma = ['Price', 'PurchasePrice']\n",
    "\n",
    "for col in columnas_coma:\n",
    "    df2_completo[col] = df2_completo[col].astype(str).str.replace('.', ',', regex=False)"
   ]
  },
  {
   "cell_type": "code",
   "execution_count": 12,
   "id": "511ee0fa",
   "metadata": {},
   "outputs": [],
   "source": [
    "#Ya hicimos toda la limpieza, guardamos\n",
    "df2_completo.to_csv('Productos.csv', index=False)"
   ]
  }
 ],
 "metadata": {
  "kernelspec": {
   "display_name": "Python 3",
   "language": "python",
   "name": "python3"
  },
  "language_info": {
   "codemirror_mode": {
    "name": "ipython",
    "version": 3
   },
   "file_extension": ".py",
   "mimetype": "text/x-python",
   "name": "python",
   "nbconvert_exporter": "python",
   "pygments_lexer": "ipython3",
   "version": "3.13.3"
  }
 },
 "nbformat": 4,
 "nbformat_minor": 5
}
