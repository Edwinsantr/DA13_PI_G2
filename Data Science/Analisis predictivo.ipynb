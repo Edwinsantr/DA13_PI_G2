{
 "cells": [
  {
   "cell_type": "code",
   "execution_count": 2,
   "id": "57badf9c",
   "metadata": {},
   "outputs": [
    {
     "name": "stderr",
     "output_type": "stream",
     "text": [
      "c:\\Users\\Franco\\AppData\\Local\\Programs\\Python\\Python313\\Lib\\site-packages\\tqdm\\auto.py:21: TqdmWarning: IProgress not found. Please update jupyter and ipywidgets. See https://ipywidgets.readthedocs.io/en/stable/user_install.html\n",
      "  from .autonotebook import tqdm as notebook_tqdm\n",
      "Importing plotly failed. Interactive plots will not work.\n"
     ]
    }
   ],
   "source": [
    "import pandas as pd\n",
    "import numpy as np\n",
    "import matplotlib.pyplot as plt\n",
    "import seaborn as sns\n",
    "from prophet import Prophet"
   ]
  },
  {
   "cell_type": "code",
   "execution_count": 4,
   "id": "bfbe9801",
   "metadata": {},
   "outputs": [],
   "source": [
    "df1 = pd.read_csv('D:/Curso Henry/Proyecto final/CSV_Tablas finales/Ventas.csv')\n"
   ]
  },
  {
   "cell_type": "code",
   "execution_count": 5,
   "id": "fbd75e9f",
   "metadata": {},
   "outputs": [
    {
     "data": {
      "application/vnd.microsoft.datawrangler.viewer.v0+json": {
       "columns": [
        {
         "name": "index",
         "rawType": "int64",
         "type": "integer"
        },
        {
         "name": "InventoryId",
         "rawType": "object",
         "type": "string"
        },
        {
         "name": "Store",
         "rawType": "int64",
         "type": "integer"
        },
        {
         "name": "Brand",
         "rawType": "int64",
         "type": "integer"
        },
        {
         "name": "SalesQuantity",
         "rawType": "int64",
         "type": "integer"
        },
        {
         "name": "SalesDollars",
         "rawType": "object",
         "type": "string"
        },
        {
         "name": "SalesPrice",
         "rawType": "object",
         "type": "string"
        },
        {
         "name": "SalesDate",
         "rawType": "object",
         "type": "string"
        },
        {
         "name": "ExciseTax",
         "rawType": "float64",
         "type": "float"
        }
       ],
       "ref": "6dcc5161-1cd9-402e-b231-6f030164aaa4",
       "rows": [
        [
         "0",
         "1_HARDERSFIELD_1001",
         "1",
         "1001",
         "1",
         "5,99",
         "5,99",
         "2016-08-05",
         "0.05"
        ],
        [
         "1",
         "1_HARDERSFIELD_1001",
         "1",
         "1001",
         "1",
         "5,99",
         "5,99",
         "2016-08-12",
         "0.05"
        ],
        [
         "2",
         "1_HARDERSFIELD_1001",
         "1",
         "1001",
         "1",
         "5,99",
         "5,99",
         "2016-08-20",
         "0.05"
        ],
        [
         "3",
         "1_HARDERSFIELD_1001",
         "1",
         "1001",
         "1",
         "5,99",
         "5,99",
         "2016-08-29",
         "0.05"
        ],
        [
         "4",
         "1_HARDERSFIELD_1001",
         "1",
         "1001",
         "1",
         "5,99",
         "5,99",
         "2016-09-08",
         "0.05"
        ]
       ],
       "shape": {
        "columns": 8,
        "rows": 5
       }
      },
      "text/html": [
       "<div>\n",
       "<style scoped>\n",
       "    .dataframe tbody tr th:only-of-type {\n",
       "        vertical-align: middle;\n",
       "    }\n",
       "\n",
       "    .dataframe tbody tr th {\n",
       "        vertical-align: top;\n",
       "    }\n",
       "\n",
       "    .dataframe thead th {\n",
       "        text-align: right;\n",
       "    }\n",
       "</style>\n",
       "<table border=\"1\" class=\"dataframe\">\n",
       "  <thead>\n",
       "    <tr style=\"text-align: right;\">\n",
       "      <th></th>\n",
       "      <th>InventoryId</th>\n",
       "      <th>Store</th>\n",
       "      <th>Brand</th>\n",
       "      <th>SalesQuantity</th>\n",
       "      <th>SalesDollars</th>\n",
       "      <th>SalesPrice</th>\n",
       "      <th>SalesDate</th>\n",
       "      <th>ExciseTax</th>\n",
       "    </tr>\n",
       "  </thead>\n",
       "  <tbody>\n",
       "    <tr>\n",
       "      <th>0</th>\n",
       "      <td>1_HARDERSFIELD_1001</td>\n",
       "      <td>1</td>\n",
       "      <td>1001</td>\n",
       "      <td>1</td>\n",
       "      <td>5,99</td>\n",
       "      <td>5,99</td>\n",
       "      <td>2016-08-05</td>\n",
       "      <td>0.05</td>\n",
       "    </tr>\n",
       "    <tr>\n",
       "      <th>1</th>\n",
       "      <td>1_HARDERSFIELD_1001</td>\n",
       "      <td>1</td>\n",
       "      <td>1001</td>\n",
       "      <td>1</td>\n",
       "      <td>5,99</td>\n",
       "      <td>5,99</td>\n",
       "      <td>2016-08-12</td>\n",
       "      <td>0.05</td>\n",
       "    </tr>\n",
       "    <tr>\n",
       "      <th>2</th>\n",
       "      <td>1_HARDERSFIELD_1001</td>\n",
       "      <td>1</td>\n",
       "      <td>1001</td>\n",
       "      <td>1</td>\n",
       "      <td>5,99</td>\n",
       "      <td>5,99</td>\n",
       "      <td>2016-08-20</td>\n",
       "      <td>0.05</td>\n",
       "    </tr>\n",
       "    <tr>\n",
       "      <th>3</th>\n",
       "      <td>1_HARDERSFIELD_1001</td>\n",
       "      <td>1</td>\n",
       "      <td>1001</td>\n",
       "      <td>1</td>\n",
       "      <td>5,99</td>\n",
       "      <td>5,99</td>\n",
       "      <td>2016-08-29</td>\n",
       "      <td>0.05</td>\n",
       "    </tr>\n",
       "    <tr>\n",
       "      <th>4</th>\n",
       "      <td>1_HARDERSFIELD_1001</td>\n",
       "      <td>1</td>\n",
       "      <td>1001</td>\n",
       "      <td>1</td>\n",
       "      <td>5,99</td>\n",
       "      <td>5,99</td>\n",
       "      <td>2016-09-08</td>\n",
       "      <td>0.05</td>\n",
       "    </tr>\n",
       "  </tbody>\n",
       "</table>\n",
       "</div>"
      ],
      "text/plain": [
       "           InventoryId  Store  Brand  SalesQuantity SalesDollars SalesPrice  \\\n",
       "0  1_HARDERSFIELD_1001      1   1001              1         5,99       5,99   \n",
       "1  1_HARDERSFIELD_1001      1   1001              1         5,99       5,99   \n",
       "2  1_HARDERSFIELD_1001      1   1001              1         5,99       5,99   \n",
       "3  1_HARDERSFIELD_1001      1   1001              1         5,99       5,99   \n",
       "4  1_HARDERSFIELD_1001      1   1001              1         5,99       5,99   \n",
       "\n",
       "    SalesDate  ExciseTax  \n",
       "0  2016-08-05       0.05  \n",
       "1  2016-08-12       0.05  \n",
       "2  2016-08-20       0.05  \n",
       "3  2016-08-29       0.05  \n",
       "4  2016-09-08       0.05  "
      ]
     },
     "execution_count": 5,
     "metadata": {},
     "output_type": "execute_result"
    }
   ],
   "source": [
    "df1.head()"
   ]
  },
  {
   "cell_type": "code",
   "execution_count": 5,
   "id": "42b5f102",
   "metadata": {},
   "outputs": [
    {
     "name": "stdout",
     "output_type": "stream",
     "text": [
      "6412657\n",
      "object\n"
     ]
    }
   ],
   "source": [
    "print(len(df1))\n",
    "print(df1['SalesDate'].dtype)"
   ]
  },
  {
   "cell_type": "code",
   "execution_count": 6,
   "id": "3e5f4b17",
   "metadata": {},
   "outputs": [],
   "source": [
    "columnas_coma = ['SalesDollars', 'SalesPrice', 'ExciseTax', 'SalesQuantity']\n",
    "\n",
    "for col in columnas_coma:\n",
    "    df1[col] = df1[col].astype(str).str.replace(',', '.', regex=False)"
   ]
  },
  {
   "cell_type": "code",
   "execution_count": 7,
   "id": "38b8860e",
   "metadata": {},
   "outputs": [],
   "source": [
    "# Convierte a float\n",
    "df1['SalesDollars'] = pd.to_numeric(df1['SalesDollars'], errors='coerce')\n",
    "df1['SalesPrice'] = pd.to_numeric(df1['SalesPrice'], errors='coerce')\n",
    "df1['ExciseTax'] = pd.to_numeric(df1['ExciseTax'], errors='coerce')\n",
    "df1['SalesQuantity'] = pd.to_numeric(df1['SalesQuantity'], errors='coerce')"
   ]
  },
  {
   "cell_type": "code",
   "execution_count": 8,
   "id": "78b92e45",
   "metadata": {},
   "outputs": [
    {
     "name": "stderr",
     "output_type": "stream",
     "text": [
      "C:\\Users\\Franco\\AppData\\Local\\Temp\\ipykernel_20020\\1998059614.py:2: UserWarning: The argument 'infer_datetime_format' is deprecated and will be removed in a future version. A strict version of it is now the default, see https://pandas.pydata.org/pdeps/0004-consistent-to-datetime-parsing.html. You can safely remove this argument.\n",
      "  df1['SalesDate'] = pd.to_datetime(df1['SalesDate'], errors='coerce', format='%Y-%m-%d', infer_datetime_format=True)\n"
     ]
    },
    {
     "name": "stdout",
     "output_type": "stream",
     "text": [
      "Fechas nulas: 0\n"
     ]
    }
   ],
   "source": [
    "# Forzamos conversión eficiente de la columna 'Sales date' a datetime\n",
    "df1['SalesDate'] = pd.to_datetime(df1['SalesDate'], errors='coerce', format='%Y-%m-%d', infer_datetime_format=True)\n",
    "\n",
    "# Verificamos si hubo errores\n",
    "print(\"Fechas nulas:\", df1['SalesDate'].isnull().sum())\n"
   ]
  },
  {
   "cell_type": "code",
   "execution_count": 9,
   "id": "6a4ce473",
   "metadata": {},
   "outputs": [
    {
     "name": "stderr",
     "output_type": "stream",
     "text": [
      "C:\\Users\\Franco\\AppData\\Local\\Temp\\ipykernel_20020\\1623102697.py:4: FutureWarning: 'M' is deprecated and will be removed in a future version, please use 'ME' instead.\n",
      "  .resample('M')['SalesDollars']\n"
     ]
    }
   ],
   "source": [
    "# Usamos resample para performance\n",
    "ventas_mensuales = (\n",
    "    df1.set_index('SalesDate')\n",
    "       .resample('M')['SalesDollars']\n",
    "       .sum()\n",
    "       .reset_index()\n",
    ")\n",
    "\n",
    "# Renombramos columnas para Prophet\n",
    "df_prophet = ventas_mensuales.rename(columns={'SalesDate': 'ds', 'SalesDollars': 'y'})"
   ]
  },
  {
   "cell_type": "code",
   "execution_count": 10,
   "id": "563d4f51",
   "metadata": {},
   "outputs": [
    {
     "name": "stderr",
     "output_type": "stream",
     "text": [
      "13:02:36 - cmdstanpy - INFO - Chain [1] start processing\n",
      "13:02:37 - cmdstanpy - INFO - Chain [1] done processing\n"
     ]
    },
    {
     "data": {
      "text/plain": [
       "<prophet.forecaster.Prophet at 0x21138f72120>"
      ]
     },
     "execution_count": 10,
     "metadata": {},
     "output_type": "execute_result"
    }
   ],
   "source": [
    "model = Prophet()\n",
    "model.fit(df_prophet)"
   ]
  },
  {
   "cell_type": "code",
   "execution_count": 11,
   "id": "58056bfe",
   "metadata": {},
   "outputs": [
    {
     "name": "stderr",
     "output_type": "stream",
     "text": [
      "c:\\Users\\Franco\\AppData\\Local\\Programs\\Python\\Python313\\Lib\\site-packages\\prophet\\forecaster.py:1854: FutureWarning: 'M' is deprecated and will be removed in a future version, please use 'ME' instead.\n",
      "  dates = pd.date_range(\n"
     ]
    }
   ],
   "source": [
    "# Generamos 12 meses futuros\n",
    "future = model.make_future_dataframe(periods=12, freq='M')\n",
    "\n",
    "# Hacemos la predicción\n",
    "forecast = model.predict(future)"
   ]
  },
  {
   "cell_type": "code",
   "execution_count": 12,
   "id": "6a4763f2",
   "metadata": {},
   "outputs": [
    {
     "data": {
      "image/png": "[encoded data removed]",
      "text/plain": [
       "<Figure size 1000x600 with 1 Axes>"
      ]
     },
     "metadata": {},
     "output_type": "display_data"
    }
   ],
   "source": [
    "model.plot(forecast)\n",
    "plt.title('Predicción de Ventas con Prophet')\n",
    "plt.xlabel('Fecha')\n",
    "plt.ylabel('Ventas en USD')\n",
    "plt.show()"
   ]
  },
  {
   "cell_type": "code",
   "execution_count": 13,
   "id": "54332053",
   "metadata": {},
   "outputs": [
    {
     "data": {
      "application/vnd.microsoft.datawrangler.viewer.v0+json": {
       "columns": [
        {
         "name": "index",
         "rawType": "int64",
         "type": "integer"
        },
        {
         "name": "ds",
         "rawType": "datetime64[ns]",
         "type": "datetime"
        },
        {
         "name": "yhat",
         "rawType": "float64",
         "type": "float"
        },
        {
         "name": "yhat_lower",
         "rawType": "float64",
         "type": "float"
        },
        {
         "name": "yhat_upper",
         "rawType": "float64",
         "type": "float"
        }
       ],
       "ref": "c3ba69aa-a2bd-48ff-884f-87bdc4730aee",
       "rows": [
        [
         "12",
         "2017-01-31 00:00:00",
         "24286965.498512033",
         "21404976.178907428",
         "27157723.42984471"
        ],
        [
         "13",
         "2017-02-28 00:00:00",
         "25051952.903906964",
         "22055615.180175666",
         "27888040.395833317"
        ],
        [
         "14",
         "2017-03-31 00:00:00",
         "25898903.24559421",
         "22895031.807931524",
         "28992382.91577061"
        ],
        [
         "15",
         "2017-04-30 00:00:00",
         "26718532.60851735",
         "23731885.369236723",
         "29574796.616995007"
        ],
        [
         "16",
         "2017-05-31 00:00:00",
         "27565482.9502046",
         "24655569.713505432",
         "30562380.679834574"
        ],
        [
         "17",
         "2017-06-30 00:00:00",
         "28385112.31312773",
         "25444760.02367282",
         "31232842.302315194"
        ],
        [
         "18",
         "2017-07-31 00:00:00",
         "29232062.65481498",
         "26168935.259456124",
         "32003762.772529095"
        ],
        [
         "19",
         "2017-08-31 00:00:00",
         "30079012.99650222",
         "27239151.51089154",
         "32970927.80046709"
        ],
        [
         "20",
         "2017-09-30 00:00:00",
         "30898642.359425362",
         "27901960.84179904",
         "33794681.30725553"
        ],
        [
         "21",
         "2017-10-31 00:00:00",
         "31745592.70111261",
         "28875726.130074713",
         "34723355.46077302"
        ],
        [
         "22",
         "2017-11-30 00:00:00",
         "32565222.064035747",
         "29608334.567249883",
         "35777629.38744902"
        ],
        [
         "23",
         "2017-12-31 00:00:00",
         "33412172.405722994",
         "30159122.672218032",
         "36489176.51171051"
        ]
       ],
       "shape": {
        "columns": 4,
        "rows": 12
       }
      },
      "text/html": [
       "<div>\n",
       "<style scoped>\n",
       "    .dataframe tbody tr th:only-of-type {\n",
       "        vertical-align: middle;\n",
       "    }\n",
       "\n",
       "    .dataframe tbody tr th {\n",
       "        vertical-align: top;\n",
       "    }\n",
       "\n",
       "    .dataframe thead th {\n",
       "        text-align: right;\n",
       "    }\n",
       "</style>\n",
       "<table border=\"1\" class=\"dataframe\">\n",
       "  <thead>\n",
       "    <tr style=\"text-align: right;\">\n",
       "      <th></th>\n",
       "      <th>ds</th>\n",
       "      <th>yhat</th>\n",
       "      <th>yhat_lower</th>\n",
       "      <th>yhat_upper</th>\n",
       "    </tr>\n",
       "  </thead>\n",
       "  <tbody>\n",
       "    <tr>\n",
       "      <th>12</th>\n",
       "      <td>2017-01-31</td>\n",
       "      <td>2.428697e+07</td>\n",
       "      <td>2.140498e+07</td>\n",
       "      <td>2.715772e+07</td>\n",
       "    </tr>\n",
       "    <tr>\n",
       "      <th>13</th>\n",
       "      <td>2017-02-28</td>\n",
       "      <td>2.505195e+07</td>\n",
       "      <td>2.205562e+07</td>\n",
       "      <td>2.788804e+07</td>\n",
       "    </tr>\n",
       "    <tr>\n",
       "      <th>14</th>\n",
       "      <td>2017-03-31</td>\n",
       "      <td>2.589890e+07</td>\n",
       "      <td>2.289503e+07</td>\n",
       "      <td>2.899238e+07</td>\n",
       "    </tr>\n",
       "    <tr>\n",
       "      <th>15</th>\n",
       "      <td>2017-04-30</td>\n",
       "      <td>2.671853e+07</td>\n",
       "      <td>2.373189e+07</td>\n",
       "      <td>2.957480e+07</td>\n",
       "    </tr>\n",
       "    <tr>\n",
       "      <th>16</th>\n",
       "      <td>2017-05-31</td>\n",
       "      <td>2.756548e+07</td>\n",
       "      <td>2.465557e+07</td>\n",
       "      <td>3.056238e+07</td>\n",
       "    </tr>\n",
       "    <tr>\n",
       "      <th>17</th>\n",
       "      <td>2017-06-30</td>\n",
       "      <td>2.838511e+07</td>\n",
       "      <td>2.544476e+07</td>\n",
       "      <td>3.123284e+07</td>\n",
       "    </tr>\n",
       "    <tr>\n",
       "      <th>18</th>\n",
       "      <td>2017-07-31</td>\n",
       "      <td>2.923206e+07</td>\n",
       "      <td>2.616894e+07</td>\n",
       "      <td>3.200376e+07</td>\n",
       "    </tr>\n",
       "    <tr>\n",
       "      <th>19</th>\n",
       "      <td>2017-08-31</td>\n",
       "      <td>3.007901e+07</td>\n",
       "      <td>2.723915e+07</td>\n",
       "      <td>3.297093e+07</td>\n",
       "    </tr>\n",
       "    <tr>\n",
       "      <th>20</th>\n",
       "      <td>2017-09-30</td>\n",
       "      <td>3.089864e+07</td>\n",
       "      <td>2.790196e+07</td>\n",
       "      <td>3.379468e+07</td>\n",
       "    </tr>\n",
       "    <tr>\n",
       "      <th>21</th>\n",
       "      <td>2017-10-31</td>\n",
       "      <td>3.174559e+07</td>\n",
       "      <td>2.887573e+07</td>\n",
       "      <td>3.472336e+07</td>\n",
       "    </tr>\n",
       "    <tr>\n",
       "      <th>22</th>\n",
       "      <td>2017-11-30</td>\n",
       "      <td>3.256522e+07</td>\n",
       "      <td>2.960833e+07</td>\n",
       "      <td>3.577763e+07</td>\n",
       "    </tr>\n",
       "    <tr>\n",
       "      <th>23</th>\n",
       "      <td>2017-12-31</td>\n",
       "      <td>3.341217e+07</td>\n",
       "      <td>3.015912e+07</td>\n",
       "      <td>3.648918e+07</td>\n",
       "    </tr>\n",
       "  </tbody>\n",
       "</table>\n",
       "</div>"
      ],
      "text/plain": [
       "           ds          yhat    yhat_lower    yhat_upper\n",
       "12 2017-01-31  2.428697e+07  2.140498e+07  2.715772e+07\n",
       "13 2017-02-28  2.505195e+07  2.205562e+07  2.788804e+07\n",
       "14 2017-03-31  2.589890e+07  2.289503e+07  2.899238e+07\n",
       "15 2017-04-30  2.671853e+07  2.373189e+07  2.957480e+07\n",
       "16 2017-05-31  2.756548e+07  2.465557e+07  3.056238e+07\n",
       "17 2017-06-30  2.838511e+07  2.544476e+07  3.123284e+07\n",
       "18 2017-07-31  2.923206e+07  2.616894e+07  3.200376e+07\n",
       "19 2017-08-31  3.007901e+07  2.723915e+07  3.297093e+07\n",
       "20 2017-09-30  3.089864e+07  2.790196e+07  3.379468e+07\n",
       "21 2017-10-31  3.174559e+07  2.887573e+07  3.472336e+07\n",
       "22 2017-11-30  3.256522e+07  2.960833e+07  3.577763e+07\n",
       "23 2017-12-31  3.341217e+07  3.015912e+07  3.648918e+07"
      ]
     },
     "execution_count": 13,
     "metadata": {},
     "output_type": "execute_result"
    }
   ],
   "source": [
    "forecast[['ds', 'yhat', 'yhat_lower', 'yhat_upper']].tail(12)"
   ]
  },
  {
   "cell_type": "code",
   "execution_count": 14,
   "id": "99d20f0e",
   "metadata": {},
   "outputs": [],
   "source": [
    "model = Prophet(\n",
    "    yearly_seasonality=False,  # no es útil con solo 1 año\n",
    "    weekly_seasonality=True,\n",
    "    daily_seasonality=False,\n",
    "    seasonality_mode='additive'\n",
    ")"
   ]
  },
  {
   "cell_type": "code",
   "execution_count": 15,
   "id": "cf96ae96",
   "metadata": {},
   "outputs": [
    {
     "data": {
      "text/plain": [
       "<prophet.forecaster.Prophet at 0x2113908bd90>"
      ]
     },
     "execution_count": 15,
     "metadata": {},
     "output_type": "execute_result"
    }
   ],
   "source": [
    "model.add_seasonality(name='mensual', period=30.5, fourier_order=5)"
   ]
  },
  {
   "cell_type": "code",
   "execution_count": 16,
   "id": "ab4b82dd",
   "metadata": {},
   "outputs": [],
   "source": [
    "model = Prophet(\n",
    "    weekly_seasonality=True,\n",
    "    seasonality_mode='multiplicative'\n",
    ")"
   ]
  },
  {
   "cell_type": "code",
   "execution_count": 17,
   "id": "3e1b221c",
   "metadata": {},
   "outputs": [
    {
     "data": {
      "text/plain": [
       "<prophet.forecaster.Prophet at 0x2113908bed0>"
      ]
     },
     "execution_count": 17,
     "metadata": {},
     "output_type": "execute_result"
    }
   ],
   "source": [
    "model.add_seasonality(name='mensual', period=30.5, fourier_order=3)"
   ]
  },
  {
   "cell_type": "code",
   "execution_count": 19,
   "id": "6da0d79a",
   "metadata": {},
   "outputs": [],
   "source": [
    "df1['SalesDate'] = pd.to_datetime(df1['SalesDate'])\n",
    "ventas_semanales = (\n",
    "    df1.set_index('SalesDate')\n",
    "       .resample('W')['SalesDollars']\n",
    "       .sum()\n",
    "       .reset_index()\n",
    "       .rename(columns={'SalesDate': 'ds', 'SalesDollars': 'y'})\n",
    ")"
   ]
  },
  {
   "cell_type": "code",
   "execution_count": 23,
   "id": "f8e287f5",
   "metadata": {},
   "outputs": [],
   "source": [
    "df_prophet = df1.groupby(df1['SalesDate'].dt.to_period('M'))['SalesDollars'].sum().reset_index()\n",
    "df_prophet['SalesDate'] = df_prophet['SalesDate'].dt.to_timestamp()\n",
    "df_prophet = df_prophet.rename(columns={'SalesDate': 'ds', 'SalesDollars': 'y'})"
   ]
  },
  {
   "cell_type": "code",
   "execution_count": 24,
   "id": "5df88394",
   "metadata": {},
   "outputs": [
    {
     "name": "stderr",
     "output_type": "stream",
     "text": [
      "13:34:01 - cmdstanpy - INFO - Chain [1] start processing\n",
      "13:34:01 - cmdstanpy - INFO - Chain [1] done processing\n"
     ]
    },
    {
     "data": {
      "text/plain": [
       "<prophet.forecaster.Prophet at 0x21139a7ac10>"
      ]
     },
     "execution_count": 24,
     "metadata": {},
     "output_type": "execute_result"
    }
   ],
   "source": [
    "from prophet import Prophet\n",
    "\n",
    "model = Prophet(\n",
    "    weekly_seasonality=True,\n",
    "    seasonality_mode='multiplicative'\n",
    ")\n",
    "\n",
    "# ¡Este paso es crítico!\n",
    "model.fit(df_prophet)"
   ]
  },
  {
   "cell_type": "code",
   "execution_count": 25,
   "id": "62df9f5f",
   "metadata": {},
   "outputs": [
    {
     "name": "stderr",
     "output_type": "stream",
     "text": [
      "c:\\Users\\Franco\\AppData\\Local\\Programs\\Python\\Python313\\Lib\\site-packages\\prophet\\forecaster.py:1854: FutureWarning: 'M' is deprecated and will be removed in a future version, please use 'ME' instead.\n",
      "  dates = pd.date_range(\n"
     ]
    }
   ],
   "source": [
    "future = model.make_future_dataframe(periods=12, freq='M')\n",
    "forecast = model.predict(future)"
   ]
  },
  {
   "cell_type": "code",
   "execution_count": 26,
   "id": "45339a49",
   "metadata": {},
   "outputs": [
    {
     "data": {
      "image/png": "[encoded data removed]",
      "text/plain": [
       "<Figure size 1000x600 with 1 Axes>"
      ]
     },
     "metadata": {},
     "output_type": "display_data"
    }
   ],
   "source": [
    "import matplotlib.pyplot as plt\n",
    "\n",
    "fig = model.plot(forecast)\n",
    "plt.title('Predicción de ventas')\n",
    "plt.xlabel('Fecha')\n",
    "plt.ylabel('USD')\n",
    "plt.show()"
   ]
  }
 ],
 "metadata": {
  "kernelspec": {
   "display_name": "Python 3",
   "language": "python",
   "name": "python3"
  },
  "language_info": {
   "codemirror_mode": {
    "name": "ipython",
    "version": 3
   },
   "file_extension": ".py",
   "mimetype": "text/x-python",
   "name": "python",
   "nbconvert_exporter": "python",
   "pygments_lexer": "ipython3",
   "version": "3.13.3"
  }
 },
 "nbformat": 4,
 "nbformat_minor": 5
}
