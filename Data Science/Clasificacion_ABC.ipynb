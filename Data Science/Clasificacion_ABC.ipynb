{
 "cells": [
  {
   "cell_type": "code",
   "execution_count": 1,
   "id": "2d4831ac",
   "metadata": {},
   "outputs": [
    {
     "name": "stderr",
     "output_type": "stream",
     "text": [
      "c:\\Users\\Franco\\AppData\\Local\\Programs\\Python\\Python313\\Lib\\site-packages\\tqdm\\auto.py:21: TqdmWarning: IProgress not found. Please update jupyter and ipywidgets. See https://ipywidgets.readthedocs.io/en/stable/user_install.html\n",
      "  from .autonotebook import tqdm as notebook_tqdm\n",
      "Importing plotly failed. Interactive plots will not work.\n"
     ]
    }
   ],
   "source": [
    "import pandas as pd\n",
    "import numpy as np\n",
    "import matplotlib.pyplot as plt\n",
    "import seaborn as sns\n",
    "from prophet import Prophet"
   ]
  },
  {
   "cell_type": "code",
   "execution_count": 2,
   "id": "e91a7330",
   "metadata": {},
   "outputs": [],
   "source": [
    "df1 = pd.read_csv('D:/Curso Henry/Proyecto final/CSV_Tablas finales/Ventas.csv')\n",
    "#df2 = pd.read_csv('D:/Curso Henry/Proyecto final/CSV_Tablas finales/Compras.csv')\n",
    "#df3 = pd.read_csv('D:/Curso Henry/Proyecto final/CSV_Tablas finales/Detalle_compra.csv')\n",
    "#df4 = pd.read_csv('D:/Curso Henry/Proyecto final/CSV_Tablas finales/Productos.csv')\n",
    "df5 = pd.read_csv('D:/Curso Henry/Proyecto final/CSV_Limpiados/Copia de SalesFINAL12312016_Modificado.csv')"
   ]
  },
  {
   "cell_type": "code",
   "execution_count": 3,
   "id": "a2f455ad",
   "metadata": {},
   "outputs": [
    {
     "data": {
      "application/vnd.microsoft.datawrangler.viewer.v0+json": {
       "columns": [
        {
         "name": "index",
         "rawType": "int64",
         "type": "integer"
        },
        {
         "name": "InventoryId",
         "rawType": "object",
         "type": "string"
        },
        {
         "name": "Store",
         "rawType": "int64",
         "type": "integer"
        },
        {
         "name": "Brand",
         "rawType": "int64",
         "type": "integer"
        },
        {
         "name": "SalesQuantity",
         "rawType": "int64",
         "type": "integer"
        },
        {
         "name": "SalesDollars",
         "rawType": "object",
         "type": "string"
        },
        {
         "name": "SalesPrice",
         "rawType": "object",
         "type": "string"
        },
        {
         "name": "SalesDate",
         "rawType": "object",
         "type": "string"
        },
        {
         "name": "ExciseTax",
         "rawType": "float64",
         "type": "float"
        }
       ],
       "ref": "c48164d8-3f93-4dfd-b348-7e18ebd99e01",
       "rows": [
        [
         "0",
         "1_HARDERSFIELD_1001",
         "1",
         "1001",
         "1",
         "5,99",
         "5,99",
         "2016-08-05",
         "0.05"
        ],
        [
         "1",
         "1_HARDERSFIELD_1001",
         "1",
         "1001",
         "1",
         "5,99",
         "5,99",
         "2016-08-12",
         "0.05"
        ],
        [
         "2",
         "1_HARDERSFIELD_1001",
         "1",
         "1001",
         "1",
         "5,99",
         "5,99",
         "2016-08-20",
         "0.05"
        ],
        [
         "3",
         "1_HARDERSFIELD_1001",
         "1",
         "1001",
         "1",
         "5,99",
         "5,99",
         "2016-08-29",
         "0.05"
        ],
        [
         "4",
         "1_HARDERSFIELD_1001",
         "1",
         "1001",
         "1",
         "5,99",
         "5,99",
         "2016-09-08",
         "0.05"
        ]
       ],
       "shape": {
        "columns": 8,
        "rows": 5
       }
      },
      "text/html": [
       "<div>\n",
       "<style scoped>\n",
       "    .dataframe tbody tr th:only-of-type {\n",
       "        vertical-align: middle;\n",
       "    }\n",
       "\n",
       "    .dataframe tbody tr th {\n",
       "        vertical-align: top;\n",
       "    }\n",
       "\n",
       "    .dataframe thead th {\n",
       "        text-align: right;\n",
       "    }\n",
       "</style>\n",
       "<table border=\"1\" class=\"dataframe\">\n",
       "  <thead>\n",
       "    <tr style=\"text-align: right;\">\n",
       "      <th></th>\n",
       "      <th>InventoryId</th>\n",
       "      <th>Store</th>\n",
       "      <th>Brand</th>\n",
       "      <th>SalesQuantity</th>\n",
       "      <th>SalesDollars</th>\n",
       "      <th>SalesPrice</th>\n",
       "      <th>SalesDate</th>\n",
       "      <th>ExciseTax</th>\n",
       "    </tr>\n",
       "  </thead>\n",
       "  <tbody>\n",
       "    <tr>\n",
       "      <th>0</th>\n",
       "      <td>1_HARDERSFIELD_1001</td>\n",
       "      <td>1</td>\n",
       "      <td>1001</td>\n",
       "      <td>1</td>\n",
       "      <td>5,99</td>\n",
       "      <td>5,99</td>\n",
       "      <td>2016-08-05</td>\n",
       "      <td>0.05</td>\n",
       "    </tr>\n",
       "    <tr>\n",
       "      <th>1</th>\n",
       "      <td>1_HARDERSFIELD_1001</td>\n",
       "      <td>1</td>\n",
       "      <td>1001</td>\n",
       "      <td>1</td>\n",
       "      <td>5,99</td>\n",
       "      <td>5,99</td>\n",
       "      <td>2016-08-12</td>\n",
       "      <td>0.05</td>\n",
       "    </tr>\n",
       "    <tr>\n",
       "      <th>2</th>\n",
       "      <td>1_HARDERSFIELD_1001</td>\n",
       "      <td>1</td>\n",
       "      <td>1001</td>\n",
       "      <td>1</td>\n",
       "      <td>5,99</td>\n",
       "      <td>5,99</td>\n",
       "      <td>2016-08-20</td>\n",
       "      <td>0.05</td>\n",
       "    </tr>\n",
       "    <tr>\n",
       "      <th>3</th>\n",
       "      <td>1_HARDERSFIELD_1001</td>\n",
       "      <td>1</td>\n",
       "      <td>1001</td>\n",
       "      <td>1</td>\n",
       "      <td>5,99</td>\n",
       "      <td>5,99</td>\n",
       "      <td>2016-08-29</td>\n",
       "      <td>0.05</td>\n",
       "    </tr>\n",
       "    <tr>\n",
       "      <th>4</th>\n",
       "      <td>1_HARDERSFIELD_1001</td>\n",
       "      <td>1</td>\n",
       "      <td>1001</td>\n",
       "      <td>1</td>\n",
       "      <td>5,99</td>\n",
       "      <td>5,99</td>\n",
       "      <td>2016-09-08</td>\n",
       "      <td>0.05</td>\n",
       "    </tr>\n",
       "  </tbody>\n",
       "</table>\n",
       "</div>"
      ],
      "text/plain": [
       "           InventoryId  Store  Brand  SalesQuantity SalesDollars SalesPrice  \\\n",
       "0  1_HARDERSFIELD_1001      1   1001              1         5,99       5,99   \n",
       "1  1_HARDERSFIELD_1001      1   1001              1         5,99       5,99   \n",
       "2  1_HARDERSFIELD_1001      1   1001              1         5,99       5,99   \n",
       "3  1_HARDERSFIELD_1001      1   1001              1         5,99       5,99   \n",
       "4  1_HARDERSFIELD_1001      1   1001              1         5,99       5,99   \n",
       "\n",
       "    SalesDate  ExciseTax  \n",
       "0  2016-08-05       0.05  \n",
       "1  2016-08-12       0.05  \n",
       "2  2016-08-20       0.05  \n",
       "3  2016-08-29       0.05  \n",
       "4  2016-09-08       0.05  "
      ]
     },
     "execution_count": 3,
     "metadata": {},
     "output_type": "execute_result"
    }
   ],
   "source": [
    "df1.head()"
   ]
  },
  {
   "cell_type": "code",
   "execution_count": 4,
   "id": "0605cf84",
   "metadata": {},
   "outputs": [
    {
     "name": "stdout",
     "output_type": "stream",
     "text": [
      "<class 'pandas.core.frame.DataFrame'>\n",
      "RangeIndex: 6412657 entries, 0 to 6412656\n",
      "Data columns (total 8 columns):\n",
      " #   Column         Dtype  \n",
      "---  ------         -----  \n",
      " 0   InventoryId    object \n",
      " 1   Store          int64  \n",
      " 2   Brand          int64  \n",
      " 3   SalesQuantity  int64  \n",
      " 4   SalesDollars   object \n",
      " 5   SalesPrice     object \n",
      " 6   SalesDate      object \n",
      " 7   ExciseTax      float64\n",
      "dtypes: float64(1), int64(3), object(4)\n",
      "memory usage: 391.4+ MB\n"
     ]
    }
   ],
   "source": [
    "df1.info()"
   ]
  },
  {
   "cell_type": "code",
   "execution_count": 5,
   "id": "a0e9b8d2",
   "metadata": {},
   "outputs": [],
   "source": [
    "columnas_coma = ['SalesDollars', 'SalesPrice', 'ExciseTax', 'SalesQuantity']\n",
    "\n",
    "for col in columnas_coma:\n",
    "    df1[col] = df1[col].astype(str).str.replace(',', '.', regex=False)"
   ]
  },
  {
   "cell_type": "code",
   "execution_count": 6,
   "id": "a00603ae",
   "metadata": {},
   "outputs": [],
   "source": [
    "# Convierte a float\n",
    "df1['SalesDollars'] = pd.to_numeric(df1['SalesDollars'], errors='coerce')\n",
    "df1['SalesPrice'] = pd.to_numeric(df1['SalesPrice'], errors='coerce')\n",
    "df1['ExciseTax'] = pd.to_numeric(df1['ExciseTax'], errors='coerce')\n",
    "df1['SalesQuantity'] = pd.to_numeric(df1['SalesQuantity'], errors='coerce')"
   ]
  },
  {
   "cell_type": "code",
   "execution_count": 7,
   "id": "8b8b11ae",
   "metadata": {},
   "outputs": [
    {
     "name": "stdout",
     "output_type": "stream",
     "text": [
      "<class 'pandas.core.frame.DataFrame'>\n",
      "RangeIndex: 6412657 entries, 0 to 6412656\n",
      "Data columns (total 8 columns):\n",
      " #   Column         Dtype  \n",
      "---  ------         -----  \n",
      " 0   InventoryId    object \n",
      " 1   Store          int64  \n",
      " 2   Brand          int64  \n",
      " 3   SalesQuantity  int64  \n",
      " 4   SalesDollars   float64\n",
      " 5   SalesPrice     float64\n",
      " 6   SalesDate      object \n",
      " 7   ExciseTax      float64\n",
      "dtypes: float64(3), int64(3), object(2)\n",
      "memory usage: 391.4+ MB\n"
     ]
    }
   ],
   "source": [
    "df1.info()"
   ]
  },
  {
   "cell_type": "code",
   "execution_count": 8,
   "id": "017eb228",
   "metadata": {},
   "outputs": [],
   "source": [
    "# Agrupamos las ventas totales por producto (puede ser por cantidad o por dinero, elegimos dólares)\n",
    "ventas_por_producto = df1.groupby('Brand')['SalesDollars'].sum().sort_values(ascending=False)"
   ]
  },
  {
   "cell_type": "code",
   "execution_count": null,
   "id": "6e89d62a",
   "metadata": {},
   "outputs": [
    {
     "data": {
      "image/png": "[encoded data removed]",
      "text/plain": [
       "<Figure size 1200x600 with 1 Axes>"
      ]
     },
     "metadata": {},
     "output_type": "display_data"
    }
   ],
   "source": [
    "plt.figure(figsize=(10,5))\n",
    "ventas_por_producto.head(50).plot(kind='bar')\n",
    "plt.title('Ventas por Producto (USD)')\n",
    "plt.xlabel('Product_Id')\n",
    "plt.ylabel('Ventas Totales en USD')\n",
    "plt.tight_layout()\n",
    "plt.show()"
   ]
  },
  {
   "cell_type": "code",
   "execution_count": 10,
   "id": "075250b1",
   "metadata": {},
   "outputs": [],
   "source": [
    "# Creamos un DataFrame desde la serie ordenada\n",
    "df_abc = ventas_por_producto.reset_index()\n",
    "df_abc.columns = ['Brand', 'SalesDollars']\n",
    "\n",
    "# Ordenamos de mayor a menor\n",
    "df_abc = df_abc.sort_values(by='SalesDollars', ascending=False).reset_index(drop=True)\n",
    "\n",
    "# Calculamos el ranking por posición\n",
    "n = len(df_abc)\n",
    "df_abc['Rank'] = df_abc.index + 1\n",
    "\n",
    "# Nueva función basada en posición y cantidad total\n",
    "def clasificar_abc_por_cantidad(rank):\n",
    "    if rank <= 0.2 * n:\n",
    "        return 'A'\n",
    "    elif rank <= 0.5 * n:\n",
    "        return 'B'\n",
    "    else:\n",
    "        return 'C'\n",
    "\n",
    "# Asignamos la categoría\n",
    "df_abc['Category'] = df_abc['Rank'].apply(clasificar_abc_por_cantidad)"
   ]
  },
  {
   "cell_type": "code",
   "execution_count": 11,
   "id": "106af626",
   "metadata": {},
   "outputs": [
    {
     "data": {
      "application/vnd.microsoft.datawrangler.viewer.v0+json": {
       "columns": [
        {
         "name": "index",
         "rawType": "int64",
         "type": "integer"
        },
        {
         "name": "Brand",
         "rawType": "int64",
         "type": "integer"
        },
        {
         "name": "SalesDollars",
         "rawType": "float64",
         "type": "float"
        },
        {
         "name": "Rank",
         "rawType": "int64",
         "type": "integer"
        },
        {
         "name": "Category",
         "rawType": "object",
         "type": "string"
        }
       ],
       "ref": "99704c8b-4ec6-4710-b3cf-48e1dd35482e",
       "rows": [
        [
         "0",
         "1233",
         "2579756.5100000002",
         "1",
         "A"
        ],
        [
         "1",
         "3405",
         "2414562.01",
         "2",
         "A"
        ],
        [
         "2",
         "8068",
         "2295546.26",
         "3",
         "A"
        ],
        [
         "3",
         "4261",
         "2212958.41",
         "4",
         "A"
        ],
        [
         "4",
         "3545",
         "2121931.35",
         "5",
         "A"
        ]
       ],
       "shape": {
        "columns": 4,
        "rows": 5
       }
      },
      "text/html": [
       "<div>\n",
       "<style scoped>\n",
       "    .dataframe tbody tr th:only-of-type {\n",
       "        vertical-align: middle;\n",
       "    }\n",
       "\n",
       "    .dataframe tbody tr th {\n",
       "        vertical-align: top;\n",
       "    }\n",
       "\n",
       "    .dataframe thead th {\n",
       "        text-align: right;\n",
       "    }\n",
       "</style>\n",
       "<table border=\"1\" class=\"dataframe\">\n",
       "  <thead>\n",
       "    <tr style=\"text-align: right;\">\n",
       "      <th></th>\n",
       "      <th>Brand</th>\n",
       "      <th>SalesDollars</th>\n",
       "      <th>Rank</th>\n",
       "      <th>Category</th>\n",
       "    </tr>\n",
       "  </thead>\n",
       "  <tbody>\n",
       "    <tr>\n",
       "      <th>0</th>\n",
       "      <td>1233</td>\n",
       "      <td>2579756.51</td>\n",
       "      <td>1</td>\n",
       "      <td>A</td>\n",
       "    </tr>\n",
       "    <tr>\n",
       "      <th>1</th>\n",
       "      <td>3405</td>\n",
       "      <td>2414562.01</td>\n",
       "      <td>2</td>\n",
       "      <td>A</td>\n",
       "    </tr>\n",
       "    <tr>\n",
       "      <th>2</th>\n",
       "      <td>8068</td>\n",
       "      <td>2295546.26</td>\n",
       "      <td>3</td>\n",
       "      <td>A</td>\n",
       "    </tr>\n",
       "    <tr>\n",
       "      <th>3</th>\n",
       "      <td>4261</td>\n",
       "      <td>2212958.41</td>\n",
       "      <td>4</td>\n",
       "      <td>A</td>\n",
       "    </tr>\n",
       "    <tr>\n",
       "      <th>4</th>\n",
       "      <td>3545</td>\n",
       "      <td>2121931.35</td>\n",
       "      <td>5</td>\n",
       "      <td>A</td>\n",
       "    </tr>\n",
       "  </tbody>\n",
       "</table>\n",
       "</div>"
      ],
      "text/plain": [
       "   Brand  SalesDollars  Rank Category\n",
       "0   1233    2579756.51     1        A\n",
       "1   3405    2414562.01     2        A\n",
       "2   8068    2295546.26     3        A\n",
       "3   4261    2212958.41     4        A\n",
       "4   3545    2121931.35     5        A"
      ]
     },
     "execution_count": 11,
     "metadata": {},
     "output_type": "execute_result"
    }
   ],
   "source": [
    "df_abc.head()"
   ]
  },
  {
   "cell_type": "code",
   "execution_count": 18,
   "id": "64750cde",
   "metadata": {},
   "outputs": [
    {
     "name": "stderr",
     "output_type": "stream",
     "text": [
      "C:\\Users\\Franco\\AppData\\Local\\Temp\\ipykernel_2204\\1212841527.py:7: FutureWarning: \n",
      "\n",
      "Passing `palette` without assigning `hue` is deprecated and will be removed in v0.14.0. Assign the `x` variable to `hue` and set `legend=False` for the same effect.\n",
      "\n",
      "  sns.countplot(data=df_abc, x='Category', order=['A', 'B', 'C'], palette='Set2')\n"
     ]
    },
    {
     "data": {
      "image/png": "[encoded data removed]",
      "text/plain": [
       "<Figure size 1000x600 with 1 Axes>"
      ]
     },
     "metadata": {},
     "output_type": "display_data"
    }
   ],
   "source": [
    "df_abc.head()  # Ver los primeros 10 productos\n",
    "\n",
    "# También podrías visualizar todo en una tabla ordenada\n",
    "import seaborn as sns\n",
    "\n",
    "plt.figure(figsize=(10, 6))\n",
    "sns.countplot(data=df_abc, x='Category', order=['A', 'B', 'C'], palette='Set2')\n",
    "plt.title('Clasificación ABC de Productos')\n",
    "plt.xlabel('Categoría')\n",
    "plt.ylabel('Cantidad de Productos')\n",
    "plt.show()"
   ]
  },
  {
   "cell_type": "code",
   "execution_count": 19,
   "id": "9786d87c",
   "metadata": {},
   "outputs": [],
   "source": [
    "# Hacemos un join para traer el nombre del producto\n",
    "df_abc = df_abc.merge(df5[['Brand','Description']], on='Brand', how='left')"
   ]
  },
  {
   "cell_type": "code",
   "execution_count": 20,
   "id": "9e5a32c4",
   "metadata": {},
   "outputs": [
    {
     "name": "stdout",
     "output_type": "stream",
     "text": [
      "   Brand              Description  SalesDollars Category\n",
      "0   1233  Jack Daniels No 7 Black    2579756.51        A\n",
      "1   1233  Jack Daniels No 7 Black    2579756.51        A\n",
      "2   1233  Jack Daniels No 7 Black    2579756.51        A\n",
      "3   1233  Jack Daniels No 7 Black    2579756.51        A\n",
      "4   1233  Jack Daniels No 7 Black    2579756.51        A\n",
      "5   1233  Jack Daniels No 7 Black    2579756.51        A\n",
      "6   1233  Jack Daniels No 7 Black    2579756.51        A\n",
      "7   1233  Jack Daniels No 7 Black    2579756.51        A\n",
      "8   1233  Jack Daniels No 7 Black    2579756.51        A\n",
      "9   1233  Jack Daniels No 7 Black    2579756.51        A\n"
     ]
    }
   ],
   "source": [
    "print(df_abc[['Brand', 'Description', 'SalesDollars', 'Category']].head(10))"
   ]
  },
  {
   "cell_type": "code",
   "execution_count": 21,
   "id": "2c138403",
   "metadata": {},
   "outputs": [],
   "source": [
    "df_abc = df_abc.drop_duplicates()"
   ]
  },
  {
   "cell_type": "code",
   "execution_count": 22,
   "id": "7e7aebbe",
   "metadata": {},
   "outputs": [
    {
     "data": {
      "application/vnd.microsoft.datawrangler.viewer.v0+json": {
       "columns": [
        {
         "name": "index",
         "rawType": "int64",
         "type": "integer"
        },
        {
         "name": "Brand",
         "rawType": "int64",
         "type": "integer"
        },
        {
         "name": "SalesDollars",
         "rawType": "float64",
         "type": "float"
        },
        {
         "name": "Rank",
         "rawType": "int64",
         "type": "integer"
        },
        {
         "name": "Category",
         "rawType": "object",
         "type": "string"
        },
        {
         "name": "Description",
         "rawType": "object",
         "type": "string"
        }
       ],
       "ref": "50fdd4e7-3d2b-4995-8420-fe1f636470db",
       "rows": [
        [
         "0",
         "1233",
         "2579756.5100000002",
         "1",
         "A",
         "Jack Daniels No 7 Black"
        ],
        [
         "9280",
         "3405",
         "2414562.01",
         "2",
         "A",
         "Tito's Handmade Vodka"
        ],
        [
         "18532",
         "8068",
         "2295546.26",
         "3",
         "A",
         "Absolut 80 Proof"
        ],
        [
         "27941",
         "4261",
         "2212958.41",
         "4",
         "A",
         "Capt Morgan Spiced Rum"
        ],
        [
         "37156",
         "3545",
         "2121931.35",
         "5",
         "A",
         "Ketel One Vodka"
        ]
       ],
       "shape": {
        "columns": 5,
        "rows": 5
       }
      },
      "text/html": [
       "<div>\n",
       "<style scoped>\n",
       "    .dataframe tbody tr th:only-of-type {\n",
       "        vertical-align: middle;\n",
       "    }\n",
       "\n",
       "    .dataframe tbody tr th {\n",
       "        vertical-align: top;\n",
       "    }\n",
       "\n",
       "    .dataframe thead th {\n",
       "        text-align: right;\n",
       "    }\n",
       "</style>\n",
       "<table border=\"1\" class=\"dataframe\">\n",
       "  <thead>\n",
       "    <tr style=\"text-align: right;\">\n",
       "      <th></th>\n",
       "      <th>Brand</th>\n",
       "      <th>SalesDollars</th>\n",
       "      <th>Rank</th>\n",
       "      <th>Category</th>\n",
       "      <th>Description</th>\n",
       "    </tr>\n",
       "  </thead>\n",
       "  <tbody>\n",
       "    <tr>\n",
       "      <th>0</th>\n",
       "      <td>1233</td>\n",
       "      <td>2579756.51</td>\n",
       "      <td>1</td>\n",
       "      <td>A</td>\n",
       "      <td>Jack Daniels No 7 Black</td>\n",
       "    </tr>\n",
       "    <tr>\n",
       "      <th>9280</th>\n",
       "      <td>3405</td>\n",
       "      <td>2414562.01</td>\n",
       "      <td>2</td>\n",
       "      <td>A</td>\n",
       "      <td>Tito's Handmade Vodka</td>\n",
       "    </tr>\n",
       "    <tr>\n",
       "      <th>18532</th>\n",
       "      <td>8068</td>\n",
       "      <td>2295546.26</td>\n",
       "      <td>3</td>\n",
       "      <td>A</td>\n",
       "      <td>Absolut 80 Proof</td>\n",
       "    </tr>\n",
       "    <tr>\n",
       "      <th>27941</th>\n",
       "      <td>4261</td>\n",
       "      <td>2212958.41</td>\n",
       "      <td>4</td>\n",
       "      <td>A</td>\n",
       "      <td>Capt Morgan Spiced Rum</td>\n",
       "    </tr>\n",
       "    <tr>\n",
       "      <th>37156</th>\n",
       "      <td>3545</td>\n",
       "      <td>2121931.35</td>\n",
       "      <td>5</td>\n",
       "      <td>A</td>\n",
       "      <td>Ketel One Vodka</td>\n",
       "    </tr>\n",
       "  </tbody>\n",
       "</table>\n",
       "</div>"
      ],
      "text/plain": [
       "       Brand  SalesDollars  Rank Category              Description\n",
       "0       1233    2579756.51     1        A  Jack Daniels No 7 Black\n",
       "9280    3405    2414562.01     2        A    Tito's Handmade Vodka\n",
       "18532   8068    2295546.26     3        A         Absolut 80 Proof\n",
       "27941   4261    2212958.41     4        A   Capt Morgan Spiced Rum\n",
       "37156   3545    2121931.35     5        A          Ketel One Vodka"
      ]
     },
     "execution_count": 22,
     "metadata": {},
     "output_type": "execute_result"
    }
   ],
   "source": [
    "df_abc.head()"
   ]
  },
  {
   "cell_type": "code",
   "execution_count": 23,
   "id": "e361774d",
   "metadata": {},
   "outputs": [],
   "source": [
    "ventas_por_categoria = df_abc.groupby('Category')['SalesDollars'].sum().reset_index()\n",
    "\n"
   ]
  },
  {
   "cell_type": "code",
   "execution_count": 24,
   "id": "e4b4720a",
   "metadata": {},
   "outputs": [],
   "source": [
    "ventas_por_categoria['Category'] = pd.Categorical(\n",
    "    ventas_por_categoria['Category'],\n",
    "    categories=['A', 'B', 'C'],\n",
    "    ordered=True\n",
    ")\n",
    "ventas_por_categoria = ventas_por_categoria.sort_values('Category')"
   ]
  },
  {
   "cell_type": "code",
   "execution_count": 25,
   "id": "a2bc6314",
   "metadata": {},
   "outputs": [
    {
     "data": {
      "image/png": "[encoded data removed]",
      "text/plain": [
       "<Figure size 600x400 with 1 Axes>"
      ]
     },
     "metadata": {},
     "output_type": "display_data"
    }
   ],
   "source": [
    "plt.figure(figsize=(6,4))\n",
    "plt.bar(ventas_por_categoria['Category'], ventas_por_categoria['SalesDollars'],\n",
    "        color=['#1f77b4', '#ff7f0e', '#2ca02c'])  # Colores A, B, C\n",
    "plt.title('Ventas Totales por Categoría ABC')\n",
    "plt.xlabel('Categoría ABC')\n",
    "plt.ylabel('Ventas en USD')\n",
    "plt.grid(axis='y', linestyle='--', alpha=0.7)\n",
    "plt.tight_layout()\n",
    "plt.show()"
   ]
  },
  {
   "cell_type": "code",
   "execution_count": 26,
   "id": "b12117fd",
   "metadata": {},
   "outputs": [
    {
     "data": {
      "image/png": "[encoded data removed]",
      "text/plain": [
       "<Figure size 600x400 with 1 Axes>"
      ]
     },
     "metadata": {},
     "output_type": "display_data"
    }
   ],
   "source": [
    "conteo_productos = df_abc['Category'].value_counts().reindex(['A', 'B', 'C'])\n",
    "\n",
    "plt.figure(figsize=(6,4))\n",
    "conteo_productos.plot(kind='bar', color=['#1f77b4', '#ff7f0e', '#2ca02c'])\n",
    "plt.title('Cantidad de Productos por Categoría ABC')\n",
    "plt.xlabel('Categoría ABC')\n",
    "plt.ylabel('Cantidad de Productos')\n",
    "plt.grid(axis='y', linestyle='--', alpha=0.7)\n",
    "plt.tight_layout()\n",
    "plt.show()"
   ]
  },
  {
   "cell_type": "code",
   "execution_count": 27,
   "id": "8a581007",
   "metadata": {},
   "outputs": [],
   "source": [
    "#Ya hicimos toda la limpieza, guardamos\n",
    "#df_abc.to_csv('Clasificaicon_ABC3.csv', index=False)"
   ]
  }
 ],
 "metadata": {
  "kernelspec": {
   "display_name": "Python 3",
   "language": "python",
   "name": "python3"
  },
  "language_info": {
   "codemirror_mode": {
    "name": "ipython",
    "version": 3
   },
   "file_extension": ".py",
   "mimetype": "text/x-python",
   "name": "python",
   "nbconvert_exporter": "python",
   "pygments_lexer": "ipython3",
   "version": "3.13.3"
  }
 },
 "nbformat": 4,
 "nbformat_minor": 5
}
