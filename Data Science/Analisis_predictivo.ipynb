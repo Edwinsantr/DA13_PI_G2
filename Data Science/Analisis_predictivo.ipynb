{
 "cells": [
  {
   "cell_type": "code",
   "execution_count": 1,
   "id": "2754ccf2",
   "metadata": {},
   "outputs": [],
   "source": [
    "from sqlalchemy import create_engine\n",
    "import os"
   ]
  },
  {
   "cell_type": "code",
   "execution_count": 2,
   "id": "1bdcda5c",
   "metadata": {},
   "outputs": [],
   "source": [
    "usuario = \"franco\"\n",
    "contraseña = \"Proyectofinal2025!%\"\n",
    "host = \"34.135.248.251\"\n",
    "puerto = \"3306\"\n",
    "base_de_datos = \"Heritage_BD\""
   ]
  },
  {
   "cell_type": "code",
   "execution_count": 3,
   "id": "8a54dd1a",
   "metadata": {},
   "outputs": [],
   "source": [
    "# Crear conexión SQLAlchemy\n",
    "engine = create_engine(f\"mysql+mysqlconnector://{usuario}:{contraseña}@{host}:{puerto}/{base_de_datos}\")"
   ]
  },
  {
   "cell_type": "code",
   "execution_count": 12,
   "id": "2d4831ac",
   "metadata": {},
   "outputs": [],
   "source": [
    "import pandas as pd\n",
    "import numpy as np\n",
    "import matplotlib.pyplot as plt\n",
    "import seaborn as sns"
   ]
  },
  {
   "cell_type": "code",
   "execution_count": 5,
   "id": "e91a7330",
   "metadata": {},
   "outputs": [],
   "source": [
    "df1 = pd.read_sql_table(\"Sales\", con=engine)"
   ]
  },
  {
   "cell_type": "code",
   "execution_count": 67,
   "id": "a2f455ad",
   "metadata": {},
   "outputs": [
    {
     "data": {
      "application/vnd.microsoft.datawrangler.viewer.v0+json": {
       "columns": [
        {
         "name": "index",
         "rawType": "int64",
         "type": "integer"
        },
        {
         "name": "SalesID",
         "rawType": "int64",
         "type": "integer"
        },
        {
         "name": "Store",
         "rawType": "int64",
         "type": "integer"
        },
        {
         "name": "SalesQuantity",
         "rawType": "int64",
         "type": "integer"
        },
        {
         "name": "SalesDollars",
         "rawType": "float64",
         "type": "float"
        },
        {
         "name": "SalesPrice",
         "rawType": "float64",
         "type": "float"
        },
        {
         "name": "SalesDate",
         "rawType": "datetime64[ns]",
         "type": "datetime"
        },
        {
         "name": "Volume",
         "rawType": "float64",
         "type": "float"
        },
        {
         "name": "ExciseTax",
         "rawType": "float64",
         "type": "float"
        },
        {
         "name": "fecha_actualizacion",
         "rawType": "datetime64[ns]",
         "type": "datetime"
        },
        {
         "name": "Description",
         "rawType": "object",
         "type": "string"
        },
        {
         "name": "Mes",
         "rawType": "period[M]",
         "type": "unknown"
        }
       ],
       "ref": "9b6b2f59-e122-4659-909e-3209867eb179",
       "rows": [
        [
         "2750951",
         "2751661",
         "1",
         "44",
         "18.99",
         "18.99",
         "2016-01-01 00:00:00",
         "1750.0",
         "1.84",
         "2025-05-27 18:54:47",
         "Christian Bros Brandy",
         "2016-01"
        ],
        [
         "3670642",
         "3671702",
         "1",
         "56",
         "12.99",
         "12.99",
         "2016-01-01 00:00:00",
         "1750.0",
         "1.84",
         "2025-05-27 18:54:47",
         "Calico Jack Spiced Rum",
         "2016-01"
        ],
        [
         "5543285",
         "5544852",
         "3",
         "73",
         "29.97",
         "9.99",
         "2016-01-01 00:00:00",
         "750.0",
         "0.34",
         "2025-05-27 18:54:47",
         "Sterling Vntrs Pnt Grigio",
         "2016-01"
        ],
        [
         "3276963",
         "3277896",
         "1",
         "51",
         "25.99",
         "25.99",
         "2016-01-01 00:00:00",
         "750.0",
         "0.11",
         "2025-05-27 18:54:47",
         "Benton Lane Pnt Nr Ore",
         "2016-01"
        ],
        [
         "2579951",
         "2580644",
         "2",
         "41",
         "53.98",
         "26.99",
         "2016-01-01 00:00:00",
         "750.0",
         "1.57",
         "2025-05-27 18:54:47",
         "Grand Marnier",
         "2016-01"
        ]
       ],
       "shape": {
        "columns": 11,
        "rows": 5
       }
      },
      "text/html": [
       "<div>\n",
       "<style scoped>\n",
       "    .dataframe tbody tr th:only-of-type {\n",
       "        vertical-align: middle;\n",
       "    }\n",
       "\n",
       "    .dataframe tbody tr th {\n",
       "        vertical-align: top;\n",
       "    }\n",
       "\n",
       "    .dataframe thead th {\n",
       "        text-align: right;\n",
       "    }\n",
       "</style>\n",
       "<table border=\"1\" class=\"dataframe\">\n",
       "  <thead>\n",
       "    <tr style=\"text-align: right;\">\n",
       "      <th></th>\n",
       "      <th>SalesID</th>\n",
       "      <th>Store</th>\n",
       "      <th>SalesQuantity</th>\n",
       "      <th>SalesDollars</th>\n",
       "      <th>SalesPrice</th>\n",
       "      <th>SalesDate</th>\n",
       "      <th>Volume</th>\n",
       "      <th>ExciseTax</th>\n",
       "      <th>fecha_actualizacion</th>\n",
       "      <th>Description</th>\n",
       "      <th>Mes</th>\n",
       "    </tr>\n",
       "  </thead>\n",
       "  <tbody>\n",
       "    <tr>\n",
       "      <th>2750951</th>\n",
       "      <td>2751661</td>\n",
       "      <td>1</td>\n",
       "      <td>44</td>\n",
       "      <td>18.99</td>\n",
       "      <td>18.99</td>\n",
       "      <td>2016-01-01</td>\n",
       "      <td>1750.0</td>\n",
       "      <td>1.84</td>\n",
       "      <td>2025-05-27 18:54:47</td>\n",
       "      <td>Christian Bros Brandy</td>\n",
       "      <td>2016-01</td>\n",
       "    </tr>\n",
       "    <tr>\n",
       "      <th>3670642</th>\n",
       "      <td>3671702</td>\n",
       "      <td>1</td>\n",
       "      <td>56</td>\n",
       "      <td>12.99</td>\n",
       "      <td>12.99</td>\n",
       "      <td>2016-01-01</td>\n",
       "      <td>1750.0</td>\n",
       "      <td>1.84</td>\n",
       "      <td>2025-05-27 18:54:47</td>\n",
       "      <td>Calico Jack Spiced Rum</td>\n",
       "      <td>2016-01</td>\n",
       "    </tr>\n",
       "    <tr>\n",
       "      <th>5543285</th>\n",
       "      <td>5544852</td>\n",
       "      <td>3</td>\n",
       "      <td>73</td>\n",
       "      <td>29.97</td>\n",
       "      <td>9.99</td>\n",
       "      <td>2016-01-01</td>\n",
       "      <td>750.0</td>\n",
       "      <td>0.34</td>\n",
       "      <td>2025-05-27 18:54:47</td>\n",
       "      <td>Sterling Vntrs Pnt Grigio</td>\n",
       "      <td>2016-01</td>\n",
       "    </tr>\n",
       "    <tr>\n",
       "      <th>3276963</th>\n",
       "      <td>3277896</td>\n",
       "      <td>1</td>\n",
       "      <td>51</td>\n",
       "      <td>25.99</td>\n",
       "      <td>25.99</td>\n",
       "      <td>2016-01-01</td>\n",
       "      <td>750.0</td>\n",
       "      <td>0.11</td>\n",
       "      <td>2025-05-27 18:54:47</td>\n",
       "      <td>Benton Lane Pnt Nr Ore</td>\n",
       "      <td>2016-01</td>\n",
       "    </tr>\n",
       "    <tr>\n",
       "      <th>2579951</th>\n",
       "      <td>2580644</td>\n",
       "      <td>2</td>\n",
       "      <td>41</td>\n",
       "      <td>53.98</td>\n",
       "      <td>26.99</td>\n",
       "      <td>2016-01-01</td>\n",
       "      <td>750.0</td>\n",
       "      <td>1.57</td>\n",
       "      <td>2025-05-27 18:54:47</td>\n",
       "      <td>Grand Marnier</td>\n",
       "      <td>2016-01</td>\n",
       "    </tr>\n",
       "  </tbody>\n",
       "</table>\n",
       "</div>"
      ],
      "text/plain": [
       "         SalesID  Store  SalesQuantity  SalesDollars  SalesPrice  SalesDate  \\\n",
       "2750951  2751661      1             44         18.99       18.99 2016-01-01   \n",
       "3670642  3671702      1             56         12.99       12.99 2016-01-01   \n",
       "5543285  5544852      3             73         29.97        9.99 2016-01-01   \n",
       "3276963  3277896      1             51         25.99       25.99 2016-01-01   \n",
       "2579951  2580644      2             41         53.98       26.99 2016-01-01   \n",
       "\n",
       "         Volume  ExciseTax fecha_actualizacion                Description  \\\n",
       "2750951  1750.0       1.84 2025-05-27 18:54:47      Christian Bros Brandy   \n",
       "3670642  1750.0       1.84 2025-05-27 18:54:47     Calico Jack Spiced Rum   \n",
       "5543285   750.0       0.34 2025-05-27 18:54:47  Sterling Vntrs Pnt Grigio   \n",
       "3276963   750.0       0.11 2025-05-27 18:54:47     Benton Lane Pnt Nr Ore   \n",
       "2579951   750.0       1.57 2025-05-27 18:54:47              Grand Marnier   \n",
       "\n",
       "             Mes  \n",
       "2750951  2016-01  \n",
       "3670642  2016-01  \n",
       "5543285  2016-01  \n",
       "3276963  2016-01  \n",
       "2579951  2016-01  "
      ]
     },
     "execution_count": 67,
     "metadata": {},
     "output_type": "execute_result"
    }
   ],
   "source": [
    "df1.head()"
   ]
  },
  {
   "cell_type": "code",
   "execution_count": 68,
   "id": "faa74c1d",
   "metadata": {},
   "outputs": [
    {
     "data": {
      "application/vnd.microsoft.datawrangler.viewer.v0+json": {
       "columns": [
        {
         "name": "index",
         "rawType": "object",
         "type": "string"
        },
        {
         "name": "0",
         "rawType": "int64",
         "type": "integer"
        }
       ],
       "ref": "ff50d8a8-cb3e-4b56-9466-84647af7a180",
       "rows": [
        [
         "SalesID",
         "0"
        ],
        [
         "Store",
         "0"
        ],
        [
         "SalesQuantity",
         "0"
        ],
        [
         "SalesDollars",
         "0"
        ],
        [
         "SalesPrice",
         "0"
        ],
        [
         "SalesDate",
         "0"
        ],
        [
         "Volume",
         "0"
        ],
        [
         "ExciseTax",
         "0"
        ],
        [
         "fecha_actualizacion",
         "0"
        ],
        [
         "Description",
         "0"
        ],
        [
         "Mes",
         "0"
        ]
       ],
       "shape": {
        "columns": 1,
        "rows": 11
       }
      },
      "text/plain": [
       "SalesID                0\n",
       "Store                  0\n",
       "SalesQuantity          0\n",
       "SalesDollars           0\n",
       "SalesPrice             0\n",
       "SalesDate              0\n",
       "Volume                 0\n",
       "ExciseTax              0\n",
       "fecha_actualizacion    0\n",
       "Description            0\n",
       "Mes                    0\n",
       "dtype: int64"
      ]
     },
     "execution_count": 68,
     "metadata": {},
     "output_type": "execute_result"
    }
   ],
   "source": [
    "df1.isnull().sum()"
   ]
  },
  {
   "cell_type": "code",
   "execution_count": 69,
   "id": "17f71393",
   "metadata": {},
   "outputs": [
    {
     "data": {
      "application/vnd.microsoft.datawrangler.viewer.v0+json": {
       "columns": [
        {
         "name": "index",
         "rawType": "int64",
         "type": "integer"
        },
        {
         "name": "SalesID",
         "rawType": "int64",
         "type": "integer"
        },
        {
         "name": "Store",
         "rawType": "int64",
         "type": "integer"
        },
        {
         "name": "SalesQuantity",
         "rawType": "int64",
         "type": "integer"
        },
        {
         "name": "SalesDollars",
         "rawType": "float64",
         "type": "float"
        },
        {
         "name": "SalesPrice",
         "rawType": "float64",
         "type": "float"
        },
        {
         "name": "SalesDate",
         "rawType": "datetime64[ns]",
         "type": "datetime"
        },
        {
         "name": "Volume",
         "rawType": "float64",
         "type": "float"
        },
        {
         "name": "ExciseTax",
         "rawType": "float64",
         "type": "float"
        },
        {
         "name": "fecha_actualizacion",
         "rawType": "datetime64[ns]",
         "type": "datetime"
        },
        {
         "name": "Description",
         "rawType": "object",
         "type": "string"
        },
        {
         "name": "Mes",
         "rawType": "period[M]",
         "type": "unknown"
        }
       ],
       "ref": "2354c9d4-b7ce-4cbb-ae28-31359b15248a",
       "rows": [],
       "shape": {
        "columns": 11,
        "rows": 0
       }
      },
      "text/html": [
       "<div>\n",
       "<style scoped>\n",
       "    .dataframe tbody tr th:only-of-type {\n",
       "        vertical-align: middle;\n",
       "    }\n",
       "\n",
       "    .dataframe tbody tr th {\n",
       "        vertical-align: top;\n",
       "    }\n",
       "\n",
       "    .dataframe thead th {\n",
       "        text-align: right;\n",
       "    }\n",
       "</style>\n",
       "<table border=\"1\" class=\"dataframe\">\n",
       "  <thead>\n",
       "    <tr style=\"text-align: right;\">\n",
       "      <th></th>\n",
       "      <th>SalesID</th>\n",
       "      <th>Store</th>\n",
       "      <th>SalesQuantity</th>\n",
       "      <th>SalesDollars</th>\n",
       "      <th>SalesPrice</th>\n",
       "      <th>SalesDate</th>\n",
       "      <th>Volume</th>\n",
       "      <th>ExciseTax</th>\n",
       "      <th>fecha_actualizacion</th>\n",
       "      <th>Description</th>\n",
       "      <th>Mes</th>\n",
       "    </tr>\n",
       "  </thead>\n",
       "  <tbody>\n",
       "  </tbody>\n",
       "</table>\n",
       "</div>"
      ],
      "text/plain": [
       "Empty DataFrame\n",
       "Columns: [SalesID, Store, SalesQuantity, SalesDollars, SalesPrice, SalesDate, Volume, ExciseTax, fecha_actualizacion, Description, Mes]\n",
       "Index: []"
      ]
     },
     "execution_count": 69,
     "metadata": {},
     "output_type": "execute_result"
    }
   ],
   "source": [
    "df1.loc[df1['SalesDate'].isna()]"
   ]
  },
  {
   "cell_type": "code",
   "execution_count": 70,
   "id": "278f31a8",
   "metadata": {},
   "outputs": [],
   "source": [
    "df1 = df1.drop(df1[df1['Volume'] == 0].index)"
   ]
  },
  {
   "cell_type": "code",
   "execution_count": 71,
   "id": "a52e6db3",
   "metadata": {},
   "outputs": [],
   "source": [
    "df_clean = df1.dropna()"
   ]
  },
  {
   "cell_type": "code",
   "execution_count": 72,
   "id": "92b61c42",
   "metadata": {},
   "outputs": [
    {
     "name": "stdout",
     "output_type": "stream",
     "text": [
      "SalesID                0\n",
      "Store                  0\n",
      "SalesQuantity          0\n",
      "SalesDollars           0\n",
      "SalesPrice             0\n",
      "SalesDate              0\n",
      "Volume                 0\n",
      "ExciseTax              0\n",
      "fecha_actualizacion    0\n",
      "Description            0\n",
      "Mes                    0\n",
      "dtype: int64\n"
     ]
    }
   ],
   "source": [
    "print(df1.isna().sum())"
   ]
  },
  {
   "cell_type": "code",
   "execution_count": 73,
   "id": "62991ecd",
   "metadata": {},
   "outputs": [
    {
     "name": "stdout",
     "output_type": "stream",
     "text": [
      "<class 'pandas.core.frame.DataFrame'>\n",
      "Index: 6410736 entries, 2750951 to 908829\n",
      "Data columns (total 11 columns):\n",
      " #   Column               Dtype         \n",
      "---  ------               -----         \n",
      " 0   SalesID              int64         \n",
      " 1   Store                int64         \n",
      " 2   SalesQuantity        int64         \n",
      " 3   SalesDollars         float64       \n",
      " 4   SalesPrice           float64       \n",
      " 5   SalesDate            datetime64[ns]\n",
      " 6   Volume               float64       \n",
      " 7   ExciseTax            float64       \n",
      " 8   fecha_actualizacion  datetime64[ns]\n",
      " 9   Description          object        \n",
      " 10  Mes                  period[M]     \n",
      "dtypes: datetime64[ns](2), float64(4), int64(3), object(1), period[M](1)\n",
      "memory usage: 586.9+ MB\n"
     ]
    }
   ],
   "source": [
    "df1.info()"
   ]
  },
  {
   "cell_type": "code",
   "execution_count": 74,
   "id": "45a7901f",
   "metadata": {},
   "outputs": [],
   "source": [
    "df1 = df1.sort_values('SalesDate')"
   ]
  },
  {
   "cell_type": "code",
   "execution_count": 75,
   "id": "fe084775",
   "metadata": {},
   "outputs": [],
   "source": [
    "X = df_clean[['Volume', 'ExciseTax']]\n",
    "y = df_clean['SalesDollars']"
   ]
  },
  {
   "cell_type": "code",
   "execution_count": 82,
   "id": "7898d5cb",
   "metadata": {},
   "outputs": [],
   "source": [
    "# Crear una nueva columna para el mes\n",
    "df1['Mes'] = df1['SalesDate'].dt.to_period('M')\n",
    "\n",
    "# Agrupar por mes y sumar las ventas\n",
    "ventas_mensuales = df1.groupby('Mes')['SalesDollars'].sum().reset_index()\n",
    "ventas_mensuales['Mes'] = ventas_mensuales['Mes'].dt.to_timestamp()"
   ]
  },
  {
   "cell_type": "code",
   "execution_count": 77,
   "id": "05a9ff3e",
   "metadata": {},
   "outputs": [
    {
     "data": {
      "image/png": "[encoded data removed]",
      "text/plain": [
       "<Figure size 1000x500 with 1 Axes>"
      ]
     },
     "metadata": {},
     "output_type": "display_data"
    }
   ],
   "source": [
    "plt.figure(figsize=(10, 5))\n",
    "sns.lineplot(x='Mes', y='SalesDollars', data=ventas_mensuales, marker='o')\n",
    "plt.title('Ventas mensuales')\n",
    "plt.xlabel('Mes')\n",
    "plt.ylabel('Ventas ($)')\n",
    "plt.grid(True)\n",
    "plt.xticks(rotation=45)\n",
    "plt.tight_layout()\n",
    "plt.show()"
   ]
  },
  {
   "cell_type": "code",
   "execution_count": 78,
   "id": "55c26a89",
   "metadata": {},
   "outputs": [
    {
     "name": "stderr",
     "output_type": "stream",
     "text": [
      "14:03:45 - cmdstanpy - INFO - Chain [1] start processing\n",
      "14:03:45 - cmdstanpy - INFO - Chain [1] done processing\n",
      "c:\\Users\\Franco\\AppData\\Local\\Programs\\Python\\Python313\\Lib\\site-packages\\prophet\\forecaster.py:1854: FutureWarning: 'M' is deprecated and will be removed in a future version, please use 'ME' instead.\n",
      "  dates = pd.date_range(\n"
     ]
    },
    {
     "data": {
      "image/png": "[encoded data removed]",
      "text/plain": [
       "<Figure size 1000x600 with 1 Axes>"
      ]
     },
     "metadata": {},
     "output_type": "display_data"
    }
   ],
   "source": [
    "from prophet import Prophet\n",
    "\n",
    "# Renombrar columnas para Prophet\n",
    "df_prophet = ventas_mensuales.rename(columns={'Mes': 'ds', 'SalesDollars': 'y'})\n",
    "\n",
    "# Crear y entrenar el modelo\n",
    "model = Prophet()\n",
    "model.fit(df_prophet)\n",
    "\n",
    "# Crear futuro de 6 meses\n",
    "future = model.make_future_dataframe(periods=6, freq='M')\n",
    "forecast = model.predict(future)\n",
    "\n",
    "# Visualizar la predicción\n",
    "model.plot(forecast)\n",
    "plt.title('Predicción de ventas con Prophet')\n",
    "plt.xlabel('Fecha')\n",
    "plt.ylabel('Ventas ($)')\n",
    "plt.show()"
   ]
  },
  {
   "cell_type": "code",
   "execution_count": 79,
   "id": "53abb9ce",
   "metadata": {},
   "outputs": [
    {
     "name": "stderr",
     "output_type": "stream",
     "text": [
      "14:03:46 - cmdstanpy - INFO - Chain [1] start processing\n",
      "14:03:46 - cmdstanpy - INFO - Chain [1] done processing\n",
      "c:\\Users\\Franco\\AppData\\Local\\Programs\\Python\\Python313\\Lib\\site-packages\\prophet\\forecaster.py:1854: FutureWarning: 'M' is deprecated and will be removed in a future version, please use 'ME' instead.\n",
      "  dates = pd.date_range(\n"
     ]
    },
    {
     "data": {
      "image/png": "[encoded data removed]",
      "text/plain": [
       "<Figure size 900x300 with 1 Axes>"
      ]
     },
     "metadata": {},
     "output_type": "display_data"
    }
   ],
   "source": [
    "# Renombrar columnas si es necesario\n",
    "ventas_mensuales = ventas_mensuales.rename(columns={'Mes': 'ds', 'SalesDollars': 'y'})\n",
    "\n",
    "# Crear y ajustar el modelo\n",
    "model = Prophet()\n",
    "model.fit(ventas_mensuales)\n",
    "\n",
    "# Hacer la predicción\n",
    "future = model.make_future_dataframe(periods=6, freq='M')\n",
    "forecast = model.predict(future)\n",
    "\n",
    "# Graficar componentes\n",
    "model.plot_components(forecast)\n",
    "plt.tight_layout()\n",
    "plt.show()"
   ]
  },
  {
   "cell_type": "code",
   "execution_count": 80,
   "id": "9a9416b5",
   "metadata": {},
   "outputs": [
    {
     "name": "stdout",
     "output_type": "stream",
     "text": [
      "Requirement already satisfied: scikit-learn in c:\\users\\franco\\appdata\\local\\programs\\python\\python313\\lib\\site-packages (1.6.1)\n",
      "Requirement already satisfied: numpy>=1.19.5 in c:\\users\\franco\\appdata\\local\\programs\\python\\python313\\lib\\site-packages (from scikit-learn) (2.2.5)\n",
      "Requirement already satisfied: scipy>=1.6.0 in c:\\users\\franco\\appdata\\local\\programs\\python\\python313\\lib\\site-packages (from scikit-learn) (1.15.3)\n",
      "Requirement already satisfied: joblib>=1.2.0 in c:\\users\\franco\\appdata\\local\\programs\\python\\python313\\lib\\site-packages (from scikit-learn) (1.5.1)\n",
      "Requirement already satisfied: threadpoolctl>=3.1.0 in c:\\users\\franco\\appdata\\local\\programs\\python\\python313\\lib\\site-packages (from scikit-learn) (3.6.0)\n",
      "Note: you may need to restart the kernel to use updated packages.\n"
     ]
    },
    {
     "name": "stderr",
     "output_type": "stream",
     "text": [
      "\n",
      "[notice] A new release of pip is available: 25.0.1 -> 25.1.1\n",
      "[notice] To update, run: python.exe -m pip install --upgrade pip\n"
     ]
    }
   ],
   "source": [
    "pip install scikit-learn"
   ]
  },
  {
   "cell_type": "code",
   "execution_count": 85,
   "id": "97a79778",
   "metadata": {},
   "outputs": [
    {
     "ename": "AttributeError",
     "evalue": "'PredictionResults' object has no attribute 'columns'",
     "output_type": "error",
     "traceback": [
      "\u001b[31m---------------------------------------------------------------------------\u001b[39m",
      "\u001b[31mAttributeError\u001b[39m                            Traceback (most recent call last)",
      "\u001b[36mCell\u001b[39m\u001b[36m \u001b[39m\u001b[32mIn[85]\u001b[39m\u001b[32m, line 1\u001b[39m\n\u001b[32m----> \u001b[39m\u001b[32m1\u001b[39m \u001b[38;5;28mprint\u001b[39m(\u001b[43mforecast\u001b[49m\u001b[43m.\u001b[49m\u001b[43mcolumns\u001b[49m)\n\u001b[32m      2\u001b[39m \u001b[38;5;28mprint\u001b[39m(ventas_mensuales.columns)\n",
      "\u001b[36mFile \u001b[39m\u001b[32mc:\\Users\\Franco\\AppData\\Local\\Programs\\Python\\Python313\\Lib\\site-packages\\statsmodels\\base\\wrapper.py:34\u001b[39m, in \u001b[36mResultsWrapper.__getattribute__\u001b[39m\u001b[34m(self, attr)\u001b[39m\n\u001b[32m     31\u001b[39m \u001b[38;5;28;01mexcept\u001b[39;00m \u001b[38;5;167;01mAttributeError\u001b[39;00m:\n\u001b[32m     32\u001b[39m     \u001b[38;5;28;01mpass\u001b[39;00m\n\u001b[32m---> \u001b[39m\u001b[32m34\u001b[39m obj = \u001b[38;5;28;43mgetattr\u001b[39;49m\u001b[43m(\u001b[49m\u001b[43mresults\u001b[49m\u001b[43m,\u001b[49m\u001b[43m \u001b[49m\u001b[43mattr\u001b[49m\u001b[43m)\u001b[49m\n\u001b[32m     35\u001b[39m data = results.model.data\n\u001b[32m     36\u001b[39m how = \u001b[38;5;28mself\u001b[39m._wrap_attrs.get(attr)\n",
      "\u001b[31mAttributeError\u001b[39m: 'PredictionResults' object has no attribute 'columns'"
     ]
    }
   ],
   "source": [
    "print(forecast.columns)\n",
    "print(ventas_mensuales.columns)"
   ]
  },
  {
   "cell_type": "code",
   "execution_count": 87,
   "id": "2ce223e1",
   "metadata": {},
   "outputs": [
    {
     "name": "stderr",
     "output_type": "stream",
     "text": [
      "14:09:17 - cmdstanpy - INFO - Chain [1] start processing\n",
      "14:09:58 - cmdstanpy - INFO - Chain [1] done processing\n",
      "14:09:58 - cmdstanpy - ERROR - Chain [1] error: error during processing No such process\n",
      "Optimization terminated abnormally. Falling back to Newton.\n"
     ]
    },
    {
     "ename": "KeyboardInterrupt",
     "evalue": "",
     "output_type": "error",
     "traceback": [
      "\u001b[31m---------------------------------------------------------------------------\u001b[39m",
      "\u001b[31mRuntimeError\u001b[39m                              Traceback (most recent call last)",
      "\u001b[36mFile \u001b[39m\u001b[32mc:\\Users\\Franco\\AppData\\Local\\Programs\\Python\\Python313\\Lib\\site-packages\\prophet\\models.py:121\u001b[39m, in \u001b[36mCmdStanPyBackend.fit\u001b[39m\u001b[34m(self, stan_init, stan_data, **kwargs)\u001b[39m\n\u001b[32m    120\u001b[39m \u001b[38;5;28;01mtry\u001b[39;00m:\n\u001b[32m--> \u001b[39m\u001b[32m121\u001b[39m     \u001b[38;5;28mself\u001b[39m.stan_fit = \u001b[38;5;28;43mself\u001b[39;49m\u001b[43m.\u001b[49m\u001b[43mmodel\u001b[49m\u001b[43m.\u001b[49m\u001b[43moptimize\u001b[49m\u001b[43m(\u001b[49m\u001b[43m*\u001b[49m\u001b[43m*\u001b[49m\u001b[43margs\u001b[49m\u001b[43m)\u001b[49m\n\u001b[32m    122\u001b[39m \u001b[38;5;28;01mexcept\u001b[39;00m \u001b[38;5;167;01mRuntimeError\u001b[39;00m \u001b[38;5;28;01mas\u001b[39;00m e:\n\u001b[32m    123\u001b[39m     \u001b[38;5;66;03m# Fall back on Newton\u001b[39;00m\n",
      "\u001b[36mFile \u001b[39m\u001b[32mc:\\Users\\Franco\\AppData\\Local\\Programs\\Python\\Python313\\Lib\\site-packages\\cmdstanpy\\model.py:659\u001b[39m, in \u001b[36mCmdStanModel.optimize\u001b[39m\u001b[34m(self, data, seed, inits, output_dir, sig_figs, save_profile, algorithm, init_alpha, tol_obj, tol_rel_obj, tol_grad, tol_rel_grad, tol_param, history_size, iter, save_iterations, require_converged, show_console, refresh, time_fmt, timeout, jacobian)\u001b[39m\n\u001b[32m    658\u001b[39m     \u001b[38;5;28;01melse\u001b[39;00m:\n\u001b[32m--> \u001b[39m\u001b[32m659\u001b[39m         \u001b[38;5;28;01mraise\u001b[39;00m \u001b[38;5;167;01mRuntimeError\u001b[39;00m(msg)\n\u001b[32m    660\u001b[39m mle = CmdStanMLE(runset)\n",
      "\u001b[31mRuntimeError\u001b[39m: Error during optimization! Command 'C:\\Users\\Franco\\AppData\\Local\\Programs\\Python\\Python313\\Lib\\site-packages\\prophet\\stan_model\\prophet_model.bin random seed=79797 data file=C:\\Users\\Franco\\AppData\\Local\\Temp\\tmpr8z1fu24\\j58j_54k.json init=C:\\Users\\Franco\\AppData\\Local\\Temp\\tmpr8z1fu24\\7qdqt3vg.json output file=C:\\Users\\Franco\\AppData\\Local\\Temp\\tmpr8z1fu24\\prophet_modelt26p_n0b\\prophet_model-20250602140917.csv method=optimize algorithm=lbfgs iter=10000' failed: console log output:\n\nmethod = optimize\n  optimize\n    algorithm = lbfgs (Default)\n      lbfgs\n        init_alpha = 0.001 (Default)\n        tol_obj = 9.9999999999999998e-13 (Default)\n        tol_rel_obj = 10000 (Default)\n        tol_grad = 1e-08 (Default)\n        tol_rel_grad = 10000000 (Default)\n        tol_param = 1e-08 (Default)\n        history_size = 5 (Default)\n    jacobian = 0 (Default)\n    iter = 10000\n    save_iterations = 0 (Default)\nid = 1 (Default)\ndata\n  file = C:\\Users\\Franco\\AppData\\Local\\Temp\\tmpr8z1fu24\\j58j_54k.json\ninit = C:\\Users\\Franco\\AppData\\Local\\Temp\\tmpr8z1fu24\\7qdqt3vg.json\nrandom\n  seed = 79797\noutput\n  file = C:\\Users\\Franco\\AppData\\Local\\Temp\\tmpr8z1fu24\\prophet_modelt26p_n0b\\prophet_model-20250602140917.csv\n  diagnostic_file =  (Default)\n  refresh = 100 (Default)\n  sig_figs = -1 (Default)\n  profile_file = profile.csv (Default)\nnum_threads = 1 (Default)\n\nterminate called after throwing an instance of 'std::bad_alloc'\n  what():  std::bad_alloc\n",
      "\nDuring handling of the above exception, another exception occurred:\n",
      "\u001b[31mKeyboardInterrupt\u001b[39m                         Traceback (most recent call last)",
      "\u001b[36mCell\u001b[39m\u001b[36m \u001b[39m\u001b[32mIn[87]\u001b[39m\u001b[32m, line 7\u001b[39m\n\u001b[32m      5\u001b[39m \u001b[38;5;66;03m# Entrenamiento\u001b[39;00m\n\u001b[32m      6\u001b[39m model = Prophet()\n\u001b[32m----> \u001b[39m\u001b[32m7\u001b[39m \u001b[43mmodel\u001b[49m\u001b[43m.\u001b[49m\u001b[43mfit\u001b[49m\u001b[43m(\u001b[49m\u001b[43mdf_prophet\u001b[49m\u001b[43m)\u001b[49m\n\u001b[32m      9\u001b[39m \u001b[38;5;66;03m# Crear futuro y predecir\u001b[39;00m\n\u001b[32m     10\u001b[39m future = model.make_future_dataframe(periods=\u001b[32m12\u001b[39m, freq=\u001b[33m'\u001b[39m\u001b[33mM\u001b[39m\u001b[33m'\u001b[39m)  \u001b[38;5;66;03m# o 'D'\u001b[39;00m\n",
      "\u001b[36mFile \u001b[39m\u001b[32mc:\\Users\\Franco\\AppData\\Local\\Programs\\Python\\Python313\\Lib\\site-packages\\prophet\\forecaster.py:1232\u001b[39m, in \u001b[36mProphet.fit\u001b[39m\u001b[34m(self, df, **kwargs)\u001b[39m\n\u001b[32m   1230\u001b[39m     \u001b[38;5;28mself\u001b[39m.params = \u001b[38;5;28mself\u001b[39m.stan_backend.sampling(stan_init, dat, \u001b[38;5;28mself\u001b[39m.mcmc_samples, **kwargs)\n\u001b[32m   1231\u001b[39m \u001b[38;5;28;01melse\u001b[39;00m:\n\u001b[32m-> \u001b[39m\u001b[32m1232\u001b[39m     \u001b[38;5;28mself\u001b[39m.params = \u001b[38;5;28;43mself\u001b[39;49m\u001b[43m.\u001b[49m\u001b[43mstan_backend\u001b[49m\u001b[43m.\u001b[49m\u001b[43mfit\u001b[49m\u001b[43m(\u001b[49m\u001b[43mstan_init\u001b[49m\u001b[43m,\u001b[49m\u001b[43m \u001b[49m\u001b[43mdat\u001b[49m\u001b[43m,\u001b[49m\u001b[43m \u001b[49m\u001b[43m*\u001b[49m\u001b[43m*\u001b[49m\u001b[43mkwargs\u001b[49m\u001b[43m)\u001b[49m\n\u001b[32m   1234\u001b[39m \u001b[38;5;28mself\u001b[39m.stan_fit = \u001b[38;5;28mself\u001b[39m.stan_backend.stan_fit\n\u001b[32m   1235\u001b[39m \u001b[38;5;66;03m# If no changepoints were requested, replace delta with 0s\u001b[39;00m\n",
      "\u001b[36mFile \u001b[39m\u001b[32mc:\\Users\\Franco\\AppData\\Local\\Programs\\Python\\Python313\\Lib\\site-packages\\prophet\\models.py:128\u001b[39m, in \u001b[36mCmdStanPyBackend.fit\u001b[39m\u001b[34m(self, stan_init, stan_data, **kwargs)\u001b[39m\n\u001b[32m    126\u001b[39m     logger.warning(\u001b[33m'\u001b[39m\u001b[33mOptimization terminated abnormally. Falling back to Newton.\u001b[39m\u001b[33m'\u001b[39m)\n\u001b[32m    127\u001b[39m     args[\u001b[33m'\u001b[39m\u001b[33malgorithm\u001b[39m\u001b[33m'\u001b[39m] = \u001b[33m'\u001b[39m\u001b[33mNewton\u001b[39m\u001b[33m'\u001b[39m\n\u001b[32m--> \u001b[39m\u001b[32m128\u001b[39m     \u001b[38;5;28mself\u001b[39m.stan_fit = \u001b[38;5;28;43mself\u001b[39;49m\u001b[43m.\u001b[49m\u001b[43mmodel\u001b[49m\u001b[43m.\u001b[49m\u001b[43moptimize\u001b[49m\u001b[43m(\u001b[49m\u001b[43m*\u001b[49m\u001b[43m*\u001b[49m\u001b[43margs\u001b[49m\u001b[43m)\u001b[49m\n\u001b[32m    129\u001b[39m params = \u001b[38;5;28mself\u001b[39m.stan_to_dict_numpy(\n\u001b[32m    130\u001b[39m     \u001b[38;5;28mself\u001b[39m.stan_fit.column_names, \u001b[38;5;28mself\u001b[39m.stan_fit.optimized_params_np)\n\u001b[32m    131\u001b[39m \u001b[38;5;28;01mfor\u001b[39;00m par \u001b[38;5;129;01min\u001b[39;00m params:\n",
      "\u001b[36mFile \u001b[39m\u001b[32mc:\\Users\\Franco\\AppData\\Local\\Programs\\Python\\Python313\\Lib\\site-packages\\cmdstanpy\\model.py:626\u001b[39m, in \u001b[36mCmdStanModel.optimize\u001b[39m\u001b[34m(self, data, seed, inits, output_dir, sig_figs, save_profile, algorithm, init_alpha, tol_obj, tol_rel_obj, tol_grad, tol_rel_grad, tol_param, history_size, iter, save_iterations, require_converged, show_console, refresh, time_fmt, timeout, jacobian)\u001b[39m\n\u001b[32m    620\u001b[39m \u001b[38;5;28;01mif\u001b[39;00m jacobian \u001b[38;5;129;01mand\u001b[39;00m cmdstan_version_before(\u001b[32m2\u001b[39m, \u001b[32m32\u001b[39m, \u001b[38;5;28mself\u001b[39m.exe_info()):\n\u001b[32m    621\u001b[39m     \u001b[38;5;28;01mraise\u001b[39;00m \u001b[38;5;167;01mValueError\u001b[39;00m(\n\u001b[32m    622\u001b[39m         \u001b[33m\"\u001b[39m\u001b[33mJacobian adjustment for optimization is only supported \u001b[39m\u001b[33m\"\u001b[39m\n\u001b[32m    623\u001b[39m         \u001b[33m\"\u001b[39m\u001b[33min CmdStan 2.32 and above.\u001b[39m\u001b[33m\"\u001b[39m\n\u001b[32m    624\u001b[39m     )\n\u001b[32m--> \u001b[39m\u001b[32m626\u001b[39m \u001b[43m\u001b[49m\u001b[38;5;28;43;01mwith\u001b[39;49;00m\u001b[43m \u001b[49m\u001b[43mtemp_single_json\u001b[49m\u001b[43m(\u001b[49m\u001b[43mdata\u001b[49m\u001b[43m)\u001b[49m\u001b[43m \u001b[49m\u001b[38;5;28;43;01mas\u001b[39;49;00m\u001b[43m \u001b[49m\u001b[43m_data\u001b[49m\u001b[43m,\u001b[49m\u001b[43m \u001b[49m\u001b[43mtemp_inits\u001b[49m\u001b[43m(\u001b[49m\n\u001b[32m    627\u001b[39m \u001b[43m    \u001b[49m\u001b[43minits\u001b[49m\u001b[43m,\u001b[49m\u001b[43m \u001b[49m\u001b[43mallow_multiple\u001b[49m\u001b[43m=\u001b[49m\u001b[38;5;28;43;01mFalse\u001b[39;49;00m\n\u001b[32m    628\u001b[39m \u001b[43m\u001b[49m\u001b[43m)\u001b[49m\u001b[43m \u001b[49m\u001b[38;5;28;43;01mas\u001b[39;49;00m\u001b[43m \u001b[49m\u001b[43m_inits\u001b[49m\u001b[43m:\u001b[49m\n\u001b[32m    629\u001b[39m \u001b[43m    \u001b[49m\u001b[43margs\u001b[49m\u001b[43m \u001b[49m\u001b[43m=\u001b[49m\u001b[43m \u001b[49m\u001b[43mCmdStanArgs\u001b[49m\u001b[43m(\u001b[49m\n\u001b[32m    630\u001b[39m \u001b[43m        \u001b[49m\u001b[38;5;28;43mself\u001b[39;49m\u001b[43m.\u001b[49m\u001b[43m_name\u001b[49m\u001b[43m,\u001b[49m\n\u001b[32m    631\u001b[39m \u001b[43m        \u001b[49m\u001b[38;5;28;43mself\u001b[39;49m\u001b[43m.\u001b[49m\u001b[43m_exe_file\u001b[49m\u001b[43m,\u001b[49m\n\u001b[32m   (...)\u001b[39m\u001b[32m    640\u001b[39m \u001b[43m        \u001b[49m\u001b[43mrefresh\u001b[49m\u001b[43m=\u001b[49m\u001b[43mrefresh\u001b[49m\u001b[43m,\u001b[49m\n\u001b[32m    641\u001b[39m \u001b[43m    \u001b[49m\u001b[43m)\u001b[49m\n\u001b[32m    642\u001b[39m \u001b[43m    \u001b[49m\u001b[43mdummy_chain_id\u001b[49m\u001b[43m \u001b[49m\u001b[43m=\u001b[49m\u001b[43m \u001b[49m\u001b[32;43m0\u001b[39;49m\n",
      "\u001b[36mFile \u001b[39m\u001b[32mc:\\Users\\Franco\\AppData\\Local\\Programs\\Python\\Python313\\Lib\\contextlib.py:141\u001b[39m, in \u001b[36m_GeneratorContextManager.__enter__\u001b[39m\u001b[34m(self)\u001b[39m\n\u001b[32m    139\u001b[39m \u001b[38;5;28;01mdel\u001b[39;00m \u001b[38;5;28mself\u001b[39m.args, \u001b[38;5;28mself\u001b[39m.kwds, \u001b[38;5;28mself\u001b[39m.func\n\u001b[32m    140\u001b[39m \u001b[38;5;28;01mtry\u001b[39;00m:\n\u001b[32m--> \u001b[39m\u001b[32m141\u001b[39m     \u001b[38;5;28;01mreturn\u001b[39;00m \u001b[38;5;28;43mnext\u001b[39;49m\u001b[43m(\u001b[49m\u001b[38;5;28;43mself\u001b[39;49m\u001b[43m.\u001b[49m\u001b[43mgen\u001b[49m\u001b[43m)\u001b[49m\n\u001b[32m    142\u001b[39m \u001b[38;5;28;01mexcept\u001b[39;00m \u001b[38;5;167;01mStopIteration\u001b[39;00m:\n\u001b[32m    143\u001b[39m     \u001b[38;5;28;01mraise\u001b[39;00m \u001b[38;5;167;01mRuntimeError\u001b[39;00m(\u001b[33m\"\u001b[39m\u001b[33mgenerator didn\u001b[39m\u001b[33m'\u001b[39m\u001b[33mt yield\u001b[39m\u001b[33m\"\u001b[39m) \u001b[38;5;28;01mfrom\u001b[39;00m\u001b[38;5;250m \u001b[39m\u001b[38;5;28;01mNone\u001b[39;00m\n",
      "\u001b[36mFile \u001b[39m\u001b[32mc:\\Users\\Franco\\AppData\\Local\\Programs\\Python\\Python313\\Lib\\site-packages\\cmdstanpy\\utils\\filesystem.py:119\u001b[39m, in \u001b[36m_temp_single_json\u001b[39m\u001b[34m(data)\u001b[39m\n\u001b[32m    117\u001b[39m data_file = create_named_text_file(\u001b[38;5;28mdir\u001b[39m=_TMPDIR, prefix=\u001b[33m'\u001b[39m\u001b[33m'\u001b[39m, suffix=\u001b[33m'\u001b[39m\u001b[33m.json\u001b[39m\u001b[33m'\u001b[39m)\n\u001b[32m    118\u001b[39m get_logger().debug(\u001b[33m'\u001b[39m\u001b[33minput tempfile: \u001b[39m\u001b[38;5;132;01m%s\u001b[39;00m\u001b[33m'\u001b[39m, data_file)\n\u001b[32m--> \u001b[39m\u001b[32m119\u001b[39m \u001b[43mwrite_stan_json\u001b[49m\u001b[43m(\u001b[49m\u001b[43mdata_file\u001b[49m\u001b[43m,\u001b[49m\u001b[43m \u001b[49m\u001b[43mdata\u001b[49m\u001b[43m)\u001b[49m\n\u001b[32m    120\u001b[39m \u001b[38;5;28;01mtry\u001b[39;00m:\n\u001b[32m    121\u001b[39m     \u001b[38;5;28;01myield\u001b[39;00m data_file\n",
      "\u001b[36mFile \u001b[39m\u001b[32mc:\\Users\\Franco\\AppData\\Local\\Programs\\Python\\Python313\\Lib\\site-packages\\stanio\\json.py:102\u001b[39m, in \u001b[36mwrite_stan_json\u001b[39m\u001b[34m(path, data)\u001b[39m\n\u001b[32m    100\u001b[39m \u001b[38;5;28;01melse\u001b[39;00m:\n\u001b[32m    101\u001b[39m     \u001b[38;5;28;01mfor\u001b[39;00m chunk \u001b[38;5;129;01min\u001b[39;00m json.JSONEncoder().iterencode(process_dictionary(data)):\n\u001b[32m--> \u001b[39m\u001b[32m102\u001b[39m         \u001b[43mfd\u001b[49m\u001b[43m.\u001b[49m\u001b[43mwrite\u001b[49m\u001b[43m(\u001b[49m\u001b[43mchunk\u001b[49m\u001b[43m)\u001b[49m\n",
      "\u001b[31mKeyboardInterrupt\u001b[39m: "
     ]
    }
   ],
   "source": [
    "# Preparación\n",
    "df_prophet = df1[['SalesDate', 'SalesDollars']].copy()\n",
    "df_prophet.rename(columns={'SalesDate': 'ds', 'SalesDollars': 'y'}, inplace=True)\n",
    "\n",
    "# Entrenamiento\n",
    "model = Prophet()\n",
    "model.fit(df_prophet)\n",
    "\n",
    "# Crear futuro y predecir\n",
    "future = model.make_future_dataframe(periods=12, freq='M')  # o 'D'\n",
    "forecast = model.predict(future)\n",
    "\n",
    "# Ahora sí:\n",
    "print(forecast.columns)  # Esto debería funcionar"
   ]
  },
  {
   "cell_type": "code",
   "execution_count": null,
   "id": "2edc8237",
   "metadata": {},
   "outputs": [
    {
     "name": "stdout",
     "output_type": "stream",
     "text": [
      "Collecting statsmodels\n",
      "  Downloading statsmodels-0.14.4-cp313-cp313-win_amd64.whl.metadata (9.5 kB)\n",
      "Requirement already satisfied: numpy<3,>=1.22.3 in c:\\users\\franco\\appdata\\local\\programs\\python\\python313\\lib\\site-packages (from statsmodels) (2.2.5)\n",
      "Collecting scipy!=1.9.2,>=1.8 (from statsmodels)\n",
      "  Downloading scipy-1.15.3-cp313-cp313-win_amd64.whl.metadata (60 kB)\n",
      "Requirement already satisfied: pandas!=2.1.0,>=1.4 in c:\\users\\franco\\appdata\\local\\programs\\python\\python313\\lib\\site-packages (from statsmodels) (2.2.3)\n",
      "Collecting patsy>=0.5.6 (from statsmodels)\n",
      "  Downloading patsy-1.0.1-py2.py3-none-any.whl.metadata (3.3 kB)\n",
      "Requirement already satisfied: packaging>=21.3 in c:\\users\\franco\\appdata\\local\\programs\\python\\python313\\lib\\site-packages (from statsmodels) (25.0)\n",
      "Requirement already satisfied: python-dateutil>=2.8.2 in c:\\users\\franco\\appdata\\local\\programs\\python\\python313\\lib\\site-packages (from pandas!=2.1.0,>=1.4->statsmodels) (2.9.0.post0)\n",
      "Requirement already satisfied: pytz>=2020.1 in c:\\users\\franco\\appdata\\local\\programs\\python\\python313\\lib\\site-packages (from pandas!=2.1.0,>=1.4->statsmodels) (2025.2)\n",
      "Requirement already satisfied: tzdata>=2022.7 in c:\\users\\franco\\appdata\\local\\programs\\python\\python313\\lib\\site-packages (from pandas!=2.1.0,>=1.4->statsmodels) (2025.2)\n",
      "Requirement already satisfied: six>=1.5 in c:\\users\\franco\\appdata\\local\\programs\\python\\python313\\lib\\site-packages (from python-dateutil>=2.8.2->pandas!=2.1.0,>=1.4->statsmodels) (1.17.0)\n",
      "Downloading statsmodels-0.14.4-cp313-cp313-win_amd64.whl (9.8 MB)\n",
      "   ---------------------------------------- 0.0/9.8 MB ? eta -:--:--\n",
      "   ---- ----------------------------------- 1.0/9.8 MB 5.8 MB/s eta 0:00:02\n",
      "   -------- ------------------------------- 2.1/9.8 MB 5.8 MB/s eta 0:00:02\n",
      "   ------------- -------------------------- 3.4/9.8 MB 5.8 MB/s eta 0:00:02\n",
      "   ------------------ --------------------- 4.5/9.8 MB 5.7 MB/s eta 0:00:01\n",
      "   ----------------------- ---------------- 5.8/9.8 MB 5.5 MB/s eta 0:00:01\n",
      "   --------------------------- ------------ 6.8/9.8 MB 5.5 MB/s eta 0:00:01\n",
      "   --------------------------------- ------ 8.1/9.8 MB 5.6 MB/s eta 0:00:01\n",
      "   ------------------------------------- -- 9.2/9.8 MB 5.6 MB/s eta 0:00:01\n",
      "   ---------------------------------------- 9.8/9.8 MB 5.5 MB/s eta 0:00:00\n",
      "Downloading patsy-1.0.1-py2.py3-none-any.whl (232 kB)\n",
      "Downloading scipy-1.15.3-cp313-cp313-win_amd64.whl (41.0 MB)\n",
      "   ---------------------------------------- 0.0/41.0 MB ? eta -:--:--\n",
      "   - -------------------------------------- 1.0/41.0 MB 5.8 MB/s eta 0:00:07\n",
      "   -- ------------------------------------- 2.4/41.0 MB 5.8 MB/s eta 0:00:07\n",
      "   --- ------------------------------------ 3.7/41.0 MB 5.8 MB/s eta 0:00:07\n",
      "   ---- ----------------------------------- 5.0/41.0 MB 5.9 MB/s eta 0:00:07\n",
      "   ----- ---------------------------------- 6.0/41.0 MB 5.9 MB/s eta 0:00:06\n",
      "   ------- -------------------------------- 7.3/41.0 MB 5.9 MB/s eta 0:00:06\n",
      "   -------- ------------------------------- 8.7/41.0 MB 5.9 MB/s eta 0:00:06\n",
      "   --------- ------------------------------ 9.7/41.0 MB 5.9 MB/s eta 0:00:06\n",
      "   ---------- ----------------------------- 11.0/41.0 MB 5.9 MB/s eta 0:00:06\n",
      "   ----------- ---------------------------- 12.1/41.0 MB 5.9 MB/s eta 0:00:05\n",
      "   ------------- -------------------------- 13.4/41.0 MB 5.9 MB/s eta 0:00:05\n",
      "   -------------- ------------------------- 14.9/41.0 MB 5.9 MB/s eta 0:00:05\n",
      "   --------------- ------------------------ 16.3/41.0 MB 6.0 MB/s eta 0:00:05\n",
      "   ----------------- ---------------------- 17.6/41.0 MB 6.0 MB/s eta 0:00:04\n",
      "   ------------------ --------------------- 18.9/41.0 MB 6.0 MB/s eta 0:00:04\n",
      "   ------------------- -------------------- 20.2/41.0 MB 6.0 MB/s eta 0:00:04\n",
      "   -------------------- ------------------- 21.5/41.0 MB 6.1 MB/s eta 0:00:04\n",
      "   ---------------------- ----------------- 22.8/41.0 MB 6.1 MB/s eta 0:00:03\n",
      "   ----------------------- ---------------- 24.1/41.0 MB 6.1 MB/s eta 0:00:03\n",
      "   ------------------------- -------------- 25.7/41.0 MB 6.1 MB/s eta 0:00:03\n",
      "   -------------------------- ------------- 27.0/41.0 MB 6.1 MB/s eta 0:00:03\n",
      "   --------------------------- ------------ 28.6/41.0 MB 6.2 MB/s eta 0:00:03\n",
      "   ----------------------------- ---------- 29.9/41.0 MB 6.2 MB/s eta 0:00:02\n",
      "   ------------------------------ --------- 31.2/41.0 MB 6.2 MB/s eta 0:00:02\n",
      "   ------------------------------- -------- 32.5/41.0 MB 6.2 MB/s eta 0:00:02\n",
      "   --------------------------------- ------ 34.1/41.0 MB 6.2 MB/s eta 0:00:02\n",
      "   ---------------------------------- ----- 35.4/41.0 MB 6.2 MB/s eta 0:00:01\n",
      "   ----------------------------------- ---- 36.7/41.0 MB 6.2 MB/s eta 0:00:01\n",
      "   ------------------------------------- -- 38.0/41.0 MB 6.2 MB/s eta 0:00:01\n",
      "   -------------------------------------- - 39.3/41.0 MB 6.2 MB/s eta 0:00:01\n",
      "   ---------------------------------------  40.9/41.0 MB 6.2 MB/s eta 0:00:01\n",
      "   ---------------------------------------- 41.0/41.0 MB 6.0 MB/s eta 0:00:00\n",
      "Installing collected packages: scipy, patsy, statsmodels\n",
      "Successfully installed patsy-1.0.1 scipy-1.15.3 statsmodels-0.14.4\n",
      "Note: you may need to restart the kernel to use updated packages.\n"
     ]
    },
    {
     "name": "stderr",
     "output_type": "stream",
     "text": [
      "\n",
      "[notice] A new release of pip is available: 25.0.1 -> 25.1.1\n",
      "[notice] To update, run: python.exe -m pip install --upgrade pip\n"
     ]
    }
   ],
   "source": [
    "pip install statsmodels"
   ]
  },
  {
   "cell_type": "code",
   "execution_count": 88,
   "id": "f16cb1b8",
   "metadata": {},
   "outputs": [
    {
     "ename": "KeyError",
     "evalue": "\"None of ['Mes'] are in the columns\"",
     "output_type": "error",
     "traceback": [
      "\u001b[31m---------------------------------------------------------------------------\u001b[39m",
      "\u001b[31mKeyError\u001b[39m                                  Traceback (most recent call last)",
      "\u001b[32m~\\AppData\\Local\\Temp\\ipykernel_14544\\3599037982.py\u001b[39m in \u001b[36m?\u001b[39m\u001b[34m()\u001b[39m\n\u001b[32m      1\u001b[39m \u001b[38;5;28;01mfrom\u001b[39;00m statsmodels.tsa.statespace.sarimax \u001b[38;5;28;01mimport\u001b[39;00m SARIMAX\n\u001b[32m      2\u001b[39m \n\u001b[32m      3\u001b[39m \u001b[38;5;66;03m# Asegurar que el índice es la fecha\u001b[39;00m\n\u001b[32m----> \u001b[39m\u001b[32m4\u001b[39m ventas_mensuales.set_index(\u001b[33m'Mes'\u001b[39m, inplace=\u001b[38;5;28;01mTrue\u001b[39;00m)\n\u001b[32m      5\u001b[39m \n\u001b[32m      6\u001b[39m \u001b[38;5;66;03m# Crear y entrenar el modelo SARIMA (puede ajustarse)\u001b[39;00m\n\u001b[32m      7\u001b[39m model = SARIMAX(ventas_mensuales[\u001b[33m'SalesDollars'\u001b[39m], order=(\u001b[32m1\u001b[39m, \u001b[32m1\u001b[39m, \u001b[32m1\u001b[39m), seasonal_order=(\u001b[32m1\u001b[39m, \u001b[32m1\u001b[39m, \u001b[32m1\u001b[39m, \u001b[32m12\u001b[39m))\n",
      "\u001b[32mc:\\Users\\Franco\\AppData\\Local\\Programs\\Python\\Python313\\Lib\\site-packages\\pandas\\core\\frame.py\u001b[39m in \u001b[36m?\u001b[39m\u001b[34m(self, keys, drop, append, inplace, verify_integrity)\u001b[39m\n\u001b[32m   6118\u001b[39m                     \u001b[38;5;28;01mif\u001b[39;00m \u001b[38;5;28;01mnot\u001b[39;00m found:\n\u001b[32m   6119\u001b[39m                         missing.append(col)\n\u001b[32m   6120\u001b[39m \n\u001b[32m   6121\u001b[39m         \u001b[38;5;28;01mif\u001b[39;00m missing:\n\u001b[32m-> \u001b[39m\u001b[32m6122\u001b[39m             \u001b[38;5;28;01mraise\u001b[39;00m KeyError(f\"None of {missing} are in the columns\")\n\u001b[32m   6123\u001b[39m \n\u001b[32m   6124\u001b[39m         \u001b[38;5;28;01mif\u001b[39;00m inplace:\n\u001b[32m   6125\u001b[39m             frame = self\n",
      "\u001b[31mKeyError\u001b[39m: \"None of ['Mes'] are in the columns\""
     ]
    }
   ],
   "source": [
    "from statsmodels.tsa.statespace.sarimax import SARIMAX\n",
    "\n",
    "# Asegurar que el índice es la fecha\n",
    "ventas_mensuales.set_index('Mes', inplace=True)\n",
    "\n",
    "# Crear y entrenar el modelo SARIMA (puede ajustarse)\n",
    "model = SARIMAX(ventas_mensuales['SalesDollars'], order=(1, 1, 1), seasonal_order=(1, 1, 1, 12))\n",
    "results = model.fit()\n",
    "\n",
    "# Predicción\n",
    "forecast = results.get_forecast(steps=6)\n",
    "pred_ci = forecast.conf_int()\n",
    "\n",
    "# Gráfico\n",
    "ax = ventas_mensuales['SalesDollars'].plot(label='observado', figsize=(12, 6))\n",
    "forecast.predicted_mean.plot(ax=ax, label='Predicción')\n",
    "ax.fill_between(pred_ci.index, pred_ci.iloc[:, 0], pred_ci.iloc[:, 1], color='gray', alpha=0.2)\n",
    "plt.legend()\n",
    "plt.title('Predicción de ventas con SARIMA')\n",
    "plt.show()"
   ]
  }
 ],
 "metadata": {
  "kernelspec": {
   "display_name": "Python 3",
   "language": "python",
   "name": "python3"
  },
  "language_info": {
   "codemirror_mode": {
    "name": "ipython",
    "version": 3
   },
   "file_extension": ".py",
   "mimetype": "text/x-python",
   "name": "python",
   "nbconvert_exporter": "python",
   "pygments_lexer": "ipython3",
   "version": "3.13.3"
  }
 },
 "nbformat": 4,
 "nbformat_minor": 5
}
